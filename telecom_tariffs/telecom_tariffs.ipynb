{
 "cells": [
  {
   "cell_type": "markdown",
   "metadata": {
    "toc": true
   },
   "source": [
    "<h1>Содержание<span class=\"tocSkip\"></span></h1>\n",
    "<div class=\"toc\"><ul class=\"toc-item\"><li><span><a data-toc-modified-id=\"Загрузка-и-изучение-данных-1\"><span class=\"toc-item-num\">1&nbsp;&nbsp;</span>Загрузка и изучение данных</a></span><ul class=\"toc-item\"><li><span><a data-toc-modified-id=\"Загрузка-данный-1.1\"><span class=\"toc-item-num\">1.1&nbsp;&nbsp;</span>Загрузка данный</a></span></li><li><span><a data-toc-modified-id=\"Общая-информация-о-датасетах-1.2\"><span class=\"toc-item-num\">1.2&nbsp;&nbsp;</span>Общая информация о датасетах</a></span></li><li><span><a data-toc-modified-id=\"Датасет-users-1.3\"><span class=\"toc-item-num\">1.3&nbsp;&nbsp;</span>Датасет users</a></span></li><li><span><a data-toc-modified-id=\"Датасет-calls-1.4\"><span class=\"toc-item-num\">1.4&nbsp;&nbsp;</span>Датасет calls</a></span></li><li><span><a data-toc-modified-id=\"Датасет-messages-1.5\"><span class=\"toc-item-num\">1.5&nbsp;&nbsp;</span>Датасет messages</a></span></li><li><span><a data-toc-modified-id=\"Датасет-internet-1.6\"><span class=\"toc-item-num\">1.6&nbsp;&nbsp;</span>Датасет internet</a></span></li><li><span><a data-toc-modified-id=\"Датасет-tariffs-1.7\"><span class=\"toc-item-num\">1.7&nbsp;&nbsp;</span>Датасет tariffs</a></span></li><li><span><a data-toc-modified-id=\"Выводы-1.8\"><span class=\"toc-item-num\">1.8&nbsp;&nbsp;</span>Выводы</a></span></li></ul></li><li><span><a data-toc-modified-id=\"Подготовка-данных-2\"><span class=\"toc-item-num\">2&nbsp;&nbsp;</span>Подготовка данных</a></span><ul class=\"toc-item\"><li><span><a data-toc-modified-id=\"Дубликаты-2.1\"><span class=\"toc-item-num\">2.1&nbsp;&nbsp;</span>Дубликаты</a></span></li><li><span><a data-toc-modified-id=\"Изменение-типа-данных-2.2\"><span class=\"toc-item-num\">2.2&nbsp;&nbsp;</span>Изменение типа данных</a></span></li><li><span><a data-toc-modified-id=\"Удаление-нулей-2.3\"><span class=\"toc-item-num\">2.3&nbsp;&nbsp;</span>Удаление нулей</a></span></li><li><span><a data-toc-modified-id=\"Расчёты-2.4\"><span class=\"toc-item-num\">2.4&nbsp;&nbsp;</span>Расчёты</a></span></li><li><span><a data-toc-modified-id=\"Выводы-2.5\"><span class=\"toc-item-num\">2.5&nbsp;&nbsp;</span>Выводы</a></span></li></ul></li><li><span><a data-toc-modified-id=\"Анализ-данных-3\"><span class=\"toc-item-num\">3&nbsp;&nbsp;</span>Анализ данных</a></span><ul class=\"toc-item\"><li><span><a data-toc-modified-id=\"Звонки-3.1\"><span class=\"toc-item-num\">3.1&nbsp;&nbsp;</span>Звонки</a></span></li><li><span><a data-toc-modified-id=\"Сообщения-3.2\"><span class=\"toc-item-num\">3.2&nbsp;&nbsp;</span>Сообщения</a></span></li><li><span><a data-toc-modified-id=\"Интернет-трафик-3.3\"><span class=\"toc-item-num\">3.3&nbsp;&nbsp;</span>Интернет трафик</a></span></li><li><span><a data-toc-modified-id=\"Выводы-3.4\"><span class=\"toc-item-num\">3.4&nbsp;&nbsp;</span>Выводы</a></span></li></ul></li><li><span><a data-toc-modified-id=\"Проверка-гипотез-4\"><span class=\"toc-item-num\">4&nbsp;&nbsp;</span>Проверка гипотез</a></span><ul class=\"toc-item\"><li><span><a data-toc-modified-id=\"Гипотеза-1.-Cредняя-выручка-пользователей-тарифов-«Ультра»-и-«Смарт»-различаются-4.1\"><span class=\"toc-item-num\">4.1&nbsp;&nbsp;</span>Гипотеза 1. Cредняя выручка пользователей тарифов «Ультра» и «Смарт» различаются</a></span></li><li><span><a data-toc-modified-id=\"Гипотеза-2.-Средняя-выручка-пользователей-из-Москвы-отличается-от-выручки-пользователей-из-других-регионов-4.2\"><span class=\"toc-item-num\">4.2&nbsp;&nbsp;</span>Гипотеза 2. Средняя выручка пользователей из Москвы отличается от выручки пользователей из других регионов</a></span></li><li><span><a data-toc-modified-id=\"Выводы-4.3\"><span class=\"toc-item-num\">4.3&nbsp;&nbsp;</span>Выводы</a></span></li></ul></li><li><span><a data-toc-modified-id=\"Общий-вывод-5\"><span class=\"toc-item-num\">5&nbsp;&nbsp;</span>Общий вывод</a></span></li></ul></div>"
   ]
  },
  {
   "cell_type": "markdown",
   "metadata": {},
   "source": [
    "# Определение перспективного тарифа для телеком-компании"
   ]
  },
  {
   "cell_type": "markdown",
   "metadata": {},
   "source": [
    "Проведение исследования для оператора сотовой связи по выявлению наиболее выгодного тарифа на ограниченной выборке данных о поведении абонентов."
   ]
  },
  {
   "cell_type": "markdown",
   "metadata": {},
   "source": [
    "## Загрузка и изучение данных"
   ]
  },
  {
   "cell_type": "code",
   "execution_count": 1,
   "metadata": {},
   "outputs": [],
   "source": [
    "## Импортируем нужные библиотеки\n",
    "import pandas as pd\n",
    "import numpy as np\n",
    "from datetime import datetime\n",
    "from scipy import stats as st"
   ]
  },
  {
   "cell_type": "markdown",
   "metadata": {},
   "source": [
    "### Загрузка данный"
   ]
  },
  {
   "cell_type": "markdown",
   "metadata": {},
   "source": [
    "Предварительно загрузили каждый датасет и убедились, что во всех используется стандартный разделитель - запятая"
   ]
  },
  {
   "cell_type": "code",
   "execution_count": 2,
   "metadata": {},
   "outputs": [],
   "source": [
    "#Для удобства дальнейшей работы создадим словарь с именами датасетов в качестве ключей \n",
    "#и самими датасетами в качестве значений\n",
    "df_dict = {}\n",
    "\n",
    "for name in ['users', 'calls', 'messages', 'internet', 'tariffs']:\n",
    "    df_dict[name] = pd.read_csv(f'/datasets/{name}.csv')"
   ]
  },
  {
   "cell_type": "markdown",
   "metadata": {},
   "source": [
    "### Общая информация о датасетах"
   ]
  },
  {
   "cell_type": "code",
   "execution_count": 3,
   "metadata": {},
   "outputs": [
    {
     "name": "stdout",
     "output_type": "stream",
     "text": [
      "--------------------\n",
      "Общая информация о датасете: users\n",
      "<class 'pandas.core.frame.DataFrame'>\n",
      "RangeIndex: 500 entries, 0 to 499\n",
      "Data columns (total 8 columns):\n",
      "user_id       500 non-null int64\n",
      "age           500 non-null int64\n",
      "churn_date    38 non-null object\n",
      "city          500 non-null object\n",
      "first_name    500 non-null object\n",
      "last_name     500 non-null object\n",
      "reg_date      500 non-null object\n",
      "tariff        500 non-null object\n",
      "dtypes: int64(2), object(6)\n",
      "memory usage: 31.4+ KB\n",
      "\n",
      "--------------------\n",
      "Общая информация о датасете: calls\n",
      "<class 'pandas.core.frame.DataFrame'>\n",
      "RangeIndex: 202607 entries, 0 to 202606\n",
      "Data columns (total 4 columns):\n",
      "id           202607 non-null object\n",
      "call_date    202607 non-null object\n",
      "duration     202607 non-null float64\n",
      "user_id      202607 non-null int64\n",
      "dtypes: float64(1), int64(1), object(2)\n",
      "memory usage: 6.2+ MB\n",
      "\n",
      "--------------------\n",
      "Общая информация о датасете: messages\n",
      "<class 'pandas.core.frame.DataFrame'>\n",
      "RangeIndex: 123036 entries, 0 to 123035\n",
      "Data columns (total 3 columns):\n",
      "id              123036 non-null object\n",
      "message_date    123036 non-null object\n",
      "user_id         123036 non-null int64\n",
      "dtypes: int64(1), object(2)\n",
      "memory usage: 2.8+ MB\n",
      "\n",
      "--------------------\n",
      "Общая информация о датасете: internet\n",
      "<class 'pandas.core.frame.DataFrame'>\n",
      "RangeIndex: 149396 entries, 0 to 149395\n",
      "Data columns (total 5 columns):\n",
      "Unnamed: 0      149396 non-null int64\n",
      "id              149396 non-null object\n",
      "mb_used         149396 non-null float64\n",
      "session_date    149396 non-null object\n",
      "user_id         149396 non-null int64\n",
      "dtypes: float64(1), int64(2), object(2)\n",
      "memory usage: 5.7+ MB\n",
      "\n",
      "--------------------\n",
      "Общая информация о датасете: tariffs\n",
      "<class 'pandas.core.frame.DataFrame'>\n",
      "RangeIndex: 2 entries, 0 to 1\n",
      "Data columns (total 8 columns):\n",
      "messages_included        2 non-null int64\n",
      "mb_per_month_included    2 non-null int64\n",
      "minutes_included         2 non-null int64\n",
      "rub_monthly_fee          2 non-null int64\n",
      "rub_per_gb               2 non-null int64\n",
      "rub_per_message          2 non-null int64\n",
      "rub_per_minute           2 non-null int64\n",
      "tariff_name              2 non-null object\n",
      "dtypes: int64(7), object(1)\n",
      "memory usage: 256.0+ bytes\n",
      "\n"
     ]
    }
   ],
   "source": [
    "## Проверяем загруженные данные\n",
    "for name in df_dict.keys():\n",
    "    print('-' * 20)\n",
    "    print(f'Общая информация о датасете: {name}')\n",
    "    df_dict[name].info()\n",
    "    print()"
   ]
  },
  {
   "cell_type": "markdown",
   "metadata": {},
   "source": [
    "Из общего обзора видно, что датасеты полностью заполнены, нет пропусков, за исключением ожидаемых в дате прекращения пользования тарифом (churn_date) датасета users. Все названия полей приведены в нижнем регистре в змеинном стиле английскими буквами и не нуждаются в корректировке, за одним исключением в датасете internet.\n",
    "\n",
    "Все поля с датами у всех датасетов имеют строковый тип, их надо перевести в тип date.\n",
    "Поля 'id' у датасетов со звонками, сообщениями и интернет трафиком имеют строковый тип, их возможно надо перевести в int.\n",
    "\n",
    "Так же надо перевести в тип int продолжительность разговоров, т.к. оператор округляет их до минут в большую сторону при каждом разговоре.\n",
    "\n",
    "Трафик в мегабайтах переводить в целые не надо, т.к. округляется только общая сумма за месяц до гигабайтов в большую сторону.\n",
    "\n",
    "Есть странный столбец Unnamed в датасете internet которого нет в описании. Похоже, что произошла ошибка при выгрузке из БД, т.к. фйл начинается с запятой, а в соответвующем столбце идут индексы. В целом на предмет исследования не влияет. Можно оставить как есть."
   ]
  },
  {
   "cell_type": "code",
   "execution_count": 4,
   "metadata": {},
   "outputs": [
    {
     "name": "stdout",
     "output_type": "stream",
     "text": [
      "В датасете - users все поля - user_id уникальны, всего 500 значений\n",
      "В датасете - calls все поля - id уникальны, всего 202607 значений\n",
      "В датасете - messages все поля - id уникальны, всего 123036 значений\n",
      "В датасете - internet все поля - id уникальны, всего 149396 значений\n"
     ]
    }
   ],
   "source": [
    "#Проверим, что все идентификаторы в каждом датасете кроме тарифа уникальны.\n",
    "\n",
    "for dataset_name, id_name in zip(list(df_dict.keys())[: -1], ['user_id', 'id', 'id', 'id']):\n",
    "    if len(df_dict[dataset_name][id_name].unique()) != df_dict[dataset_name].shape[0]:\n",
    "        print(f'В датасете - {dataset_name} есть дубли поля - {id_name}!')\n",
    "    else:\n",
    "        print('В датасете - {} все поля - {} уникальны, всего {} значений'.format(dataset_name, id_name, df_dict[dataset_name].shape[0]))"
   ]
  },
  {
   "cell_type": "code",
   "execution_count": 5,
   "metadata": {
    "scrolled": true
   },
   "outputs": [
    {
     "name": "stdout",
     "output_type": "stream",
     "text": [
      "calls\n"
     ]
    },
    {
     "data": {
      "text/html": [
       "<div>\n",
       "<style scoped>\n",
       "    .dataframe tbody tr th:only-of-type {\n",
       "        vertical-align: middle;\n",
       "    }\n",
       "\n",
       "    .dataframe tbody tr th {\n",
       "        vertical-align: top;\n",
       "    }\n",
       "\n",
       "    .dataframe thead th {\n",
       "        text-align: right;\n",
       "    }\n",
       "</style>\n",
       "<table border=\"1\" class=\"dataframe\">\n",
       "  <thead>\n",
       "    <tr style=\"text-align: right;\">\n",
       "      <th></th>\n",
       "      <th>user_id</th>\n",
       "      <th>age</th>\n",
       "      <th>churn_date</th>\n",
       "      <th>city</th>\n",
       "      <th>first_name</th>\n",
       "      <th>last_name</th>\n",
       "      <th>reg_date</th>\n",
       "      <th>tariff</th>\n",
       "    </tr>\n",
       "  </thead>\n",
       "  <tbody>\n",
       "    <tr>\n",
       "      <td>91</td>\n",
       "      <td>1091</td>\n",
       "      <td>36</td>\n",
       "      <td>NaN</td>\n",
       "      <td>Набережные Челны</td>\n",
       "      <td>Вера</td>\n",
       "      <td>Суслова</td>\n",
       "      <td>2018-05-08</td>\n",
       "      <td>ultra</td>\n",
       "    </tr>\n",
       "    <tr>\n",
       "      <td>106</td>\n",
       "      <td>1106</td>\n",
       "      <td>67</td>\n",
       "      <td>NaN</td>\n",
       "      <td>Калуга</td>\n",
       "      <td>Исаак</td>\n",
       "      <td>Костин</td>\n",
       "      <td>2018-04-26</td>\n",
       "      <td>ultra</td>\n",
       "    </tr>\n",
       "    <tr>\n",
       "      <td>128</td>\n",
       "      <td>1128</td>\n",
       "      <td>51</td>\n",
       "      <td>2018-12-23</td>\n",
       "      <td>Волжский</td>\n",
       "      <td>Ксения</td>\n",
       "      <td>Агаева</td>\n",
       "      <td>2018-12-15</td>\n",
       "      <td>ultra</td>\n",
       "    </tr>\n",
       "    <tr>\n",
       "      <td>231</td>\n",
       "      <td>1231</td>\n",
       "      <td>63</td>\n",
       "      <td>NaN</td>\n",
       "      <td>Чебоксары</td>\n",
       "      <td>Касьян</td>\n",
       "      <td>Авдюков</td>\n",
       "      <td>2018-05-23</td>\n",
       "      <td>ultra</td>\n",
       "    </tr>\n",
       "    <tr>\n",
       "      <td>328</td>\n",
       "      <td>1328</td>\n",
       "      <td>44</td>\n",
       "      <td>NaN</td>\n",
       "      <td>Мурманск</td>\n",
       "      <td>Рауль</td>\n",
       "      <td>Аркадьев</td>\n",
       "      <td>2018-10-16</td>\n",
       "      <td>ultra</td>\n",
       "    </tr>\n",
       "    <tr>\n",
       "      <td>371</td>\n",
       "      <td>1371</td>\n",
       "      <td>50</td>\n",
       "      <td>2018-12-30</td>\n",
       "      <td>Омск</td>\n",
       "      <td>Ириней</td>\n",
       "      <td>Трофимов</td>\n",
       "      <td>2018-12-25</td>\n",
       "      <td>smart</td>\n",
       "    </tr>\n",
       "    <tr>\n",
       "      <td>473</td>\n",
       "      <td>1473</td>\n",
       "      <td>18</td>\n",
       "      <td>NaN</td>\n",
       "      <td>Красноярск</td>\n",
       "      <td>Николай</td>\n",
       "      <td>Лебедев</td>\n",
       "      <td>2018-08-05</td>\n",
       "      <td>ultra</td>\n",
       "    </tr>\n",
       "    <tr>\n",
       "      <td>489</td>\n",
       "      <td>1489</td>\n",
       "      <td>35</td>\n",
       "      <td>NaN</td>\n",
       "      <td>Санкт-Петербург</td>\n",
       "      <td>Павел</td>\n",
       "      <td>Гончаров</td>\n",
       "      <td>2018-08-15</td>\n",
       "      <td>smart</td>\n",
       "    </tr>\n",
       "  </tbody>\n",
       "</table>\n",
       "</div>"
      ],
      "text/plain": [
       "     user_id  age  churn_date              city first_name last_name  \\\n",
       "91      1091   36         NaN  Набережные Челны       Вера   Суслова   \n",
       "106     1106   67         NaN            Калуга      Исаак    Костин   \n",
       "128     1128   51  2018-12-23          Волжский     Ксения    Агаева   \n",
       "231     1231   63         NaN         Чебоксары     Касьян   Авдюков   \n",
       "328     1328   44         NaN          Мурманск      Рауль  Аркадьев   \n",
       "371     1371   50  2018-12-30              Омск     Ириней  Трофимов   \n",
       "473     1473   18         NaN        Красноярск    Николай   Лебедев   \n",
       "489     1489   35         NaN   Санкт-Петербург      Павел  Гончаров   \n",
       "\n",
       "       reg_date tariff  \n",
       "91   2018-05-08  ultra  \n",
       "106  2018-04-26  ultra  \n",
       "128  2018-12-15  ultra  \n",
       "231  2018-05-23  ultra  \n",
       "328  2018-10-16  ultra  \n",
       "371  2018-12-25  smart  \n",
       "473  2018-08-05  ultra  \n",
       "489  2018-08-15  smart  "
      ]
     },
     "metadata": {},
     "output_type": "display_data"
    },
    {
     "name": "stdout",
     "output_type": "stream",
     "text": [
      "messages\n"
     ]
    },
    {
     "data": {
      "text/html": [
       "<div>\n",
       "<style scoped>\n",
       "    .dataframe tbody tr th:only-of-type {\n",
       "        vertical-align: middle;\n",
       "    }\n",
       "\n",
       "    .dataframe tbody tr th {\n",
       "        vertical-align: top;\n",
       "    }\n",
       "\n",
       "    .dataframe thead th {\n",
       "        text-align: right;\n",
       "    }\n",
       "</style>\n",
       "<table border=\"1\" class=\"dataframe\">\n",
       "  <thead>\n",
       "    <tr style=\"text-align: right;\">\n",
       "      <th></th>\n",
       "      <th>user_id</th>\n",
       "      <th>age</th>\n",
       "      <th>churn_date</th>\n",
       "      <th>city</th>\n",
       "      <th>first_name</th>\n",
       "      <th>last_name</th>\n",
       "      <th>reg_date</th>\n",
       "      <th>tariff</th>\n",
       "    </tr>\n",
       "  </thead>\n",
       "  <tbody>\n",
       "    <tr>\n",
       "      <td>1</td>\n",
       "      <td>1001</td>\n",
       "      <td>41</td>\n",
       "      <td>NaN</td>\n",
       "      <td>Москва</td>\n",
       "      <td>Иван</td>\n",
       "      <td>Ежов</td>\n",
       "      <td>2018-11-01</td>\n",
       "      <td>smart</td>\n",
       "    </tr>\n",
       "    <tr>\n",
       "      <td>6</td>\n",
       "      <td>1006</td>\n",
       "      <td>21</td>\n",
       "      <td>NaN</td>\n",
       "      <td>Ульяновск</td>\n",
       "      <td>Леонид</td>\n",
       "      <td>Ермолаев</td>\n",
       "      <td>2018-02-26</td>\n",
       "      <td>smart</td>\n",
       "    </tr>\n",
       "    <tr>\n",
       "      <td>10</td>\n",
       "      <td>1010</td>\n",
       "      <td>26</td>\n",
       "      <td>NaN</td>\n",
       "      <td>Тюмень</td>\n",
       "      <td>Эдуард</td>\n",
       "      <td>Кононов</td>\n",
       "      <td>2018-08-05</td>\n",
       "      <td>smart</td>\n",
       "    </tr>\n",
       "    <tr>\n",
       "      <td>17</td>\n",
       "      <td>1017</td>\n",
       "      <td>73</td>\n",
       "      <td>NaN</td>\n",
       "      <td>Краснодар</td>\n",
       "      <td>Мария</td>\n",
       "      <td>Аленникова</td>\n",
       "      <td>2018-05-22</td>\n",
       "      <td>smart</td>\n",
       "    </tr>\n",
       "    <tr>\n",
       "      <td>24</td>\n",
       "      <td>1024</td>\n",
       "      <td>73</td>\n",
       "      <td>NaN</td>\n",
       "      <td>Санкт-Петербург</td>\n",
       "      <td>Иулиан</td>\n",
       "      <td>Антипов</td>\n",
       "      <td>2018-10-31</td>\n",
       "      <td>ultra</td>\n",
       "    </tr>\n",
       "    <tr>\n",
       "      <td>...</td>\n",
       "      <td>...</td>\n",
       "      <td>...</td>\n",
       "      <td>...</td>\n",
       "      <td>...</td>\n",
       "      <td>...</td>\n",
       "      <td>...</td>\n",
       "      <td>...</td>\n",
       "      <td>...</td>\n",
       "    </tr>\n",
       "    <tr>\n",
       "      <td>462</td>\n",
       "      <td>1462</td>\n",
       "      <td>72</td>\n",
       "      <td>NaN</td>\n",
       "      <td>Тольятти</td>\n",
       "      <td>Алёна</td>\n",
       "      <td>Абрамычева</td>\n",
       "      <td>2018-10-29</td>\n",
       "      <td>smart</td>\n",
       "    </tr>\n",
       "    <tr>\n",
       "      <td>466</td>\n",
       "      <td>1466</td>\n",
       "      <td>37</td>\n",
       "      <td>NaN</td>\n",
       "      <td>Новосибирск</td>\n",
       "      <td>Рубен</td>\n",
       "      <td>Шевцов</td>\n",
       "      <td>2018-02-28</td>\n",
       "      <td>ultra</td>\n",
       "    </tr>\n",
       "    <tr>\n",
       "      <td>469</td>\n",
       "      <td>1469</td>\n",
       "      <td>41</td>\n",
       "      <td>NaN</td>\n",
       "      <td>Сочи</td>\n",
       "      <td>Аксён</td>\n",
       "      <td>Абалкин</td>\n",
       "      <td>2018-07-06</td>\n",
       "      <td>ultra</td>\n",
       "    </tr>\n",
       "    <tr>\n",
       "      <td>479</td>\n",
       "      <td>1479</td>\n",
       "      <td>40</td>\n",
       "      <td>NaN</td>\n",
       "      <td>Хабаровск</td>\n",
       "      <td>Игорь</td>\n",
       "      <td>Богданов</td>\n",
       "      <td>2018-07-03</td>\n",
       "      <td>smart</td>\n",
       "    </tr>\n",
       "    <tr>\n",
       "      <td>494</td>\n",
       "      <td>1494</td>\n",
       "      <td>62</td>\n",
       "      <td>NaN</td>\n",
       "      <td>Омск</td>\n",
       "      <td>Ренат</td>\n",
       "      <td>Андропов</td>\n",
       "      <td>2018-08-17</td>\n",
       "      <td>smart</td>\n",
       "    </tr>\n",
       "  </tbody>\n",
       "</table>\n",
       "<p>74 rows × 8 columns</p>\n",
       "</div>"
      ],
      "text/plain": [
       "     user_id  age churn_date             city first_name   last_name  \\\n",
       "1       1001   41        NaN           Москва       Иван        Ежов   \n",
       "6       1006   21        NaN        Ульяновск     Леонид    Ермолаев   \n",
       "10      1010   26        NaN           Тюмень     Эдуард     Кононов   \n",
       "17      1017   73        NaN        Краснодар      Мария  Аленникова   \n",
       "24      1024   73        NaN  Санкт-Петербург     Иулиан     Антипов   \n",
       "..       ...  ...        ...              ...        ...         ...   \n",
       "462     1462   72        NaN         Тольятти      Алёна  Абрамычева   \n",
       "466     1466   37        NaN      Новосибирск      Рубен      Шевцов   \n",
       "469     1469   41        NaN             Сочи      Аксён     Абалкин   \n",
       "479     1479   40        NaN        Хабаровск      Игорь    Богданов   \n",
       "494     1494   62        NaN             Омск      Ренат    Андропов   \n",
       "\n",
       "       reg_date tariff  \n",
       "1    2018-11-01  smart  \n",
       "6    2018-02-26  smart  \n",
       "10   2018-08-05  smart  \n",
       "17   2018-05-22  smart  \n",
       "24   2018-10-31  ultra  \n",
       "..          ...    ...  \n",
       "462  2018-10-29  smart  \n",
       "466  2018-02-28  ultra  \n",
       "469  2018-07-06  ultra  \n",
       "479  2018-07-03  smart  \n",
       "494  2018-08-17  smart  \n",
       "\n",
       "[74 rows x 8 columns]"
      ]
     },
     "metadata": {},
     "output_type": "display_data"
    },
    {
     "name": "stdout",
     "output_type": "stream",
     "text": [
      "internet\n"
     ]
    },
    {
     "data": {
      "text/html": [
       "<div>\n",
       "<style scoped>\n",
       "    .dataframe tbody tr th:only-of-type {\n",
       "        vertical-align: middle;\n",
       "    }\n",
       "\n",
       "    .dataframe tbody tr th {\n",
       "        vertical-align: top;\n",
       "    }\n",
       "\n",
       "    .dataframe thead th {\n",
       "        text-align: right;\n",
       "    }\n",
       "</style>\n",
       "<table border=\"1\" class=\"dataframe\">\n",
       "  <thead>\n",
       "    <tr style=\"text-align: right;\">\n",
       "      <th></th>\n",
       "      <th>user_id</th>\n",
       "      <th>age</th>\n",
       "      <th>churn_date</th>\n",
       "      <th>city</th>\n",
       "      <th>first_name</th>\n",
       "      <th>last_name</th>\n",
       "      <th>reg_date</th>\n",
       "      <th>tariff</th>\n",
       "    </tr>\n",
       "  </thead>\n",
       "  <tbody>\n",
       "    <tr>\n",
       "      <td>128</td>\n",
       "      <td>1128</td>\n",
       "      <td>51</td>\n",
       "      <td>2018-12-23</td>\n",
       "      <td>Волжский</td>\n",
       "      <td>Ксения</td>\n",
       "      <td>Агаева</td>\n",
       "      <td>2018-12-15</td>\n",
       "      <td>ultra</td>\n",
       "    </tr>\n",
       "    <tr>\n",
       "      <td>273</td>\n",
       "      <td>1273</td>\n",
       "      <td>46</td>\n",
       "      <td>NaN</td>\n",
       "      <td>Курган</td>\n",
       "      <td>Рэм</td>\n",
       "      <td>Корнилов</td>\n",
       "      <td>2018-05-15</td>\n",
       "      <td>ultra</td>\n",
       "    </tr>\n",
       "    <tr>\n",
       "      <td>371</td>\n",
       "      <td>1371</td>\n",
       "      <td>50</td>\n",
       "      <td>2018-12-30</td>\n",
       "      <td>Омск</td>\n",
       "      <td>Ириней</td>\n",
       "      <td>Трофимов</td>\n",
       "      <td>2018-12-25</td>\n",
       "      <td>smart</td>\n",
       "    </tr>\n",
       "  </tbody>\n",
       "</table>\n",
       "</div>"
      ],
      "text/plain": [
       "     user_id  age  churn_date      city first_name last_name    reg_date  \\\n",
       "128     1128   51  2018-12-23  Волжский     Ксения    Агаева  2018-12-15   \n",
       "273     1273   46         NaN    Курган        Рэм  Корнилов  2018-05-15   \n",
       "371     1371   50  2018-12-30      Омск     Ириней  Трофимов  2018-12-25   \n",
       "\n",
       "    tariff  \n",
       "128  ultra  \n",
       "273  ultra  \n",
       "371  smart  "
      ]
     },
     "metadata": {},
     "output_type": "display_data"
    }
   ],
   "source": [
    "#Проверим, все ли абоненты есть в остальных датасетах?\n",
    "for dataset_name in list(df_dict.keys())[1: -1]: #Список датасетов без users и tariffs\n",
    "    print(dataset_name)\n",
    "    #Если какогодо user_id из users нет в другом датасете, то он не совершал эти действия\n",
    "    display(df_dict['users'].loc[~df_dict['users']['user_id'].isin(df_dict[dataset_name]['user_id'])])"
   ]
  },
  {
   "cell_type": "markdown",
   "metadata": {},
   "source": [
    "Видим, что 8 человек вообще никогда не звонили, 74 не отправляли сообщений, а 3 не использовали интернет."
   ]
  },
  {
   "cell_type": "markdown",
   "metadata": {},
   "source": [
    "<a id='empty_users'></a>"
   ]
  },
  {
   "cell_type": "code",
   "execution_count": 6,
   "metadata": {
    "scrolled": true
   },
   "outputs": [
    {
     "data": {
      "text/html": [
       "<div>\n",
       "<style scoped>\n",
       "    .dataframe tbody tr th:only-of-type {\n",
       "        vertical-align: middle;\n",
       "    }\n",
       "\n",
       "    .dataframe tbody tr th {\n",
       "        vertical-align: top;\n",
       "    }\n",
       "\n",
       "    .dataframe thead th {\n",
       "        text-align: right;\n",
       "    }\n",
       "</style>\n",
       "<table border=\"1\" class=\"dataframe\">\n",
       "  <thead>\n",
       "    <tr style=\"text-align: right;\">\n",
       "      <th></th>\n",
       "      <th>user_id</th>\n",
       "      <th>age</th>\n",
       "      <th>churn_date</th>\n",
       "      <th>city</th>\n",
       "      <th>first_name</th>\n",
       "      <th>last_name</th>\n",
       "      <th>reg_date</th>\n",
       "      <th>tariff</th>\n",
       "    </tr>\n",
       "  </thead>\n",
       "  <tbody>\n",
       "    <tr>\n",
       "      <td>128</td>\n",
       "      <td>1128</td>\n",
       "      <td>51</td>\n",
       "      <td>2018-12-23</td>\n",
       "      <td>Волжский</td>\n",
       "      <td>Ксения</td>\n",
       "      <td>Агаева</td>\n",
       "      <td>2018-12-15</td>\n",
       "      <td>ultra</td>\n",
       "    </tr>\n",
       "    <tr>\n",
       "      <td>371</td>\n",
       "      <td>1371</td>\n",
       "      <td>50</td>\n",
       "      <td>2018-12-30</td>\n",
       "      <td>Омск</td>\n",
       "      <td>Ириней</td>\n",
       "      <td>Трофимов</td>\n",
       "      <td>2018-12-25</td>\n",
       "      <td>smart</td>\n",
       "    </tr>\n",
       "  </tbody>\n",
       "</table>\n",
       "</div>"
      ],
      "text/plain": [
       "     user_id  age  churn_date      city first_name last_name    reg_date  \\\n",
       "128     1128   51  2018-12-23  Волжский     Ксения    Агаева  2018-12-15   \n",
       "371     1371   50  2018-12-30      Омск     Ириней  Трофимов  2018-12-25   \n",
       "\n",
       "    tariff  \n",
       "128  ultra  \n",
       "371  smart  "
      ]
     },
     "execution_count": 6,
     "metadata": {},
     "output_type": "execute_result"
    }
   ],
   "source": [
    "#Проверим был ли такой абонент который вообще ничем не пользовался?\n",
    "df_dict['users'].loc[~df_dict['users']['user_id'].isin(df_dict['calls']['user_id']) \\\n",
    "                     & ~df_dict['users']['user_id'].isin(df_dict['messages']['user_id'])\n",
    "                     & ~df_dict['users']['user_id'].isin(df_dict['internet']['user_id'])]"
   ]
  },
  {
   "cell_type": "markdown",
   "metadata": {},
   "source": [
    "Да! Целых два, но оператор все равно снял с них абонентскую плату."
   ]
  },
  {
   "cell_type": "markdown",
   "metadata": {},
   "source": [
    "### Датасет users"
   ]
  },
  {
   "cell_type": "code",
   "execution_count": 7,
   "metadata": {
    "scrolled": true
   },
   "outputs": [
    {
     "data": {
      "text/html": [
       "<div>\n",
       "<style scoped>\n",
       "    .dataframe tbody tr th:only-of-type {\n",
       "        vertical-align: middle;\n",
       "    }\n",
       "\n",
       "    .dataframe tbody tr th {\n",
       "        vertical-align: top;\n",
       "    }\n",
       "\n",
       "    .dataframe thead th {\n",
       "        text-align: right;\n",
       "    }\n",
       "</style>\n",
       "<table border=\"1\" class=\"dataframe\">\n",
       "  <thead>\n",
       "    <tr style=\"text-align: right;\">\n",
       "      <th></th>\n",
       "      <th>user_id</th>\n",
       "      <th>age</th>\n",
       "      <th>churn_date</th>\n",
       "      <th>city</th>\n",
       "      <th>first_name</th>\n",
       "      <th>last_name</th>\n",
       "      <th>reg_date</th>\n",
       "      <th>tariff</th>\n",
       "    </tr>\n",
       "  </thead>\n",
       "  <tbody>\n",
       "    <tr>\n",
       "      <td>0</td>\n",
       "      <td>1000</td>\n",
       "      <td>52</td>\n",
       "      <td>NaN</td>\n",
       "      <td>Краснодар</td>\n",
       "      <td>Рафаил</td>\n",
       "      <td>Верещагин</td>\n",
       "      <td>2018-05-25</td>\n",
       "      <td>ultra</td>\n",
       "    </tr>\n",
       "    <tr>\n",
       "      <td>1</td>\n",
       "      <td>1001</td>\n",
       "      <td>41</td>\n",
       "      <td>NaN</td>\n",
       "      <td>Москва</td>\n",
       "      <td>Иван</td>\n",
       "      <td>Ежов</td>\n",
       "      <td>2018-11-01</td>\n",
       "      <td>smart</td>\n",
       "    </tr>\n",
       "    <tr>\n",
       "      <td>2</td>\n",
       "      <td>1002</td>\n",
       "      <td>59</td>\n",
       "      <td>NaN</td>\n",
       "      <td>Стерлитамак</td>\n",
       "      <td>Евгений</td>\n",
       "      <td>Абрамович</td>\n",
       "      <td>2018-06-17</td>\n",
       "      <td>smart</td>\n",
       "    </tr>\n",
       "    <tr>\n",
       "      <td>3</td>\n",
       "      <td>1003</td>\n",
       "      <td>23</td>\n",
       "      <td>NaN</td>\n",
       "      <td>Москва</td>\n",
       "      <td>Белла</td>\n",
       "      <td>Белякова</td>\n",
       "      <td>2018-08-17</td>\n",
       "      <td>ultra</td>\n",
       "    </tr>\n",
       "    <tr>\n",
       "      <td>4</td>\n",
       "      <td>1004</td>\n",
       "      <td>68</td>\n",
       "      <td>NaN</td>\n",
       "      <td>Новокузнецк</td>\n",
       "      <td>Татьяна</td>\n",
       "      <td>Авдеенко</td>\n",
       "      <td>2018-05-14</td>\n",
       "      <td>ultra</td>\n",
       "    </tr>\n",
       "  </tbody>\n",
       "</table>\n",
       "</div>"
      ],
      "text/plain": [
       "   user_id  age churn_date         city first_name  last_name    reg_date  \\\n",
       "0     1000   52        NaN    Краснодар     Рафаил  Верещагин  2018-05-25   \n",
       "1     1001   41        NaN       Москва       Иван       Ежов  2018-11-01   \n",
       "2     1002   59        NaN  Стерлитамак    Евгений  Абрамович  2018-06-17   \n",
       "3     1003   23        NaN       Москва      Белла   Белякова  2018-08-17   \n",
       "4     1004   68        NaN  Новокузнецк    Татьяна   Авдеенко  2018-05-14   \n",
       "\n",
       "  tariff  \n",
       "0  ultra  \n",
       "1  smart  \n",
       "2  smart  \n",
       "3  ultra  \n",
       "4  ultra  "
      ]
     },
     "execution_count": 7,
     "metadata": {},
     "output_type": "execute_result"
    }
   ],
   "source": [
    "# Взглянем на сами данные в первых строках\n",
    "df_dict['users'].head()"
   ]
  },
  {
   "cell_type": "markdown",
   "metadata": {},
   "source": [
    "Для этого датасета возможно:\n",
    "* посмотреть распределение возраста\n",
    "* проверить на дубли из-за ошибочного написания городов\n",
    "* посмотреть распределение абонентов по городам\n",
    "* проверить, что в столбце тариф есть только два значения"
   ]
  },
  {
   "cell_type": "code",
   "execution_count": 8,
   "metadata": {},
   "outputs": [
    {
     "data": {
      "text/html": [
       "<div>\n",
       "<style scoped>\n",
       "    .dataframe tbody tr th:only-of-type {\n",
       "        vertical-align: middle;\n",
       "    }\n",
       "\n",
       "    .dataframe tbody tr th {\n",
       "        vertical-align: top;\n",
       "    }\n",
       "\n",
       "    .dataframe thead th {\n",
       "        text-align: right;\n",
       "    }\n",
       "</style>\n",
       "<table border=\"1\" class=\"dataframe\">\n",
       "  <thead>\n",
       "    <tr style=\"text-align: right;\">\n",
       "      <th></th>\n",
       "      <th>user_id</th>\n",
       "      <th>age</th>\n",
       "    </tr>\n",
       "  </thead>\n",
       "  <tbody>\n",
       "    <tr>\n",
       "      <td>count</td>\n",
       "      <td>500.000000</td>\n",
       "      <td>500.00000</td>\n",
       "    </tr>\n",
       "    <tr>\n",
       "      <td>mean</td>\n",
       "      <td>1249.500000</td>\n",
       "      <td>46.58800</td>\n",
       "    </tr>\n",
       "    <tr>\n",
       "      <td>std</td>\n",
       "      <td>144.481833</td>\n",
       "      <td>16.66763</td>\n",
       "    </tr>\n",
       "    <tr>\n",
       "      <td>min</td>\n",
       "      <td>1000.000000</td>\n",
       "      <td>18.00000</td>\n",
       "    </tr>\n",
       "    <tr>\n",
       "      <td>25%</td>\n",
       "      <td>1124.750000</td>\n",
       "      <td>32.00000</td>\n",
       "    </tr>\n",
       "    <tr>\n",
       "      <td>50%</td>\n",
       "      <td>1249.500000</td>\n",
       "      <td>46.00000</td>\n",
       "    </tr>\n",
       "    <tr>\n",
       "      <td>75%</td>\n",
       "      <td>1374.250000</td>\n",
       "      <td>62.00000</td>\n",
       "    </tr>\n",
       "    <tr>\n",
       "      <td>max</td>\n",
       "      <td>1499.000000</td>\n",
       "      <td>75.00000</td>\n",
       "    </tr>\n",
       "  </tbody>\n",
       "</table>\n",
       "</div>"
      ],
      "text/plain": [
       "           user_id        age\n",
       "count   500.000000  500.00000\n",
       "mean   1249.500000   46.58800\n",
       "std     144.481833   16.66763\n",
       "min    1000.000000   18.00000\n",
       "25%    1124.750000   32.00000\n",
       "50%    1249.500000   46.00000\n",
       "75%    1374.250000   62.00000\n",
       "max    1499.000000   75.00000"
      ]
     },
     "execution_count": 8,
     "metadata": {},
     "output_type": "execute_result"
    }
   ],
   "source": [
    "#Посмотрим на распределение возраста\n",
    "df_dict['users'].describe()"
   ]
  },
  {
   "cell_type": "code",
   "execution_count": 9,
   "metadata": {},
   "outputs": [
    {
     "data": {
      "text/plain": [
       "<matplotlib.axes._subplots.AxesSubplot at 0x7f177eae1b10>"
      ]
     },
     "execution_count": 9,
     "metadata": {},
     "output_type": "execute_result"
    },
    {
     "data": {
      "image/png": "[encoded data removed]",
      "text/plain": [
       "<Figure size 432x288 with 1 Axes>"
      ]
     },
     "metadata": {
      "needs_background": "light"
     },
     "output_type": "display_data"
    }
   ],
   "source": [
    "df_dict['users'].boxplot('age')"
   ]
  },
  {
   "cell_type": "code",
   "execution_count": 10,
   "metadata": {},
   "outputs": [
    {
     "data": {
      "text/plain": [
       "<matplotlib.axes._subplots.AxesSubplot at 0x7f177e9bbf90>"
      ]
     },
     "execution_count": 10,
     "metadata": {},
     "output_type": "execute_result"
    },
    {
     "data": {
      "image/png": "[encoded data removed]",
      "text/plain": [
       "<Figure size 432x288 with 1 Axes>"
      ]
     },
     "metadata": {
      "needs_background": "light"
     },
     "output_type": "display_data"
    }
   ],
   "source": [
    "df_dict['users']['age'].hist(bins=50)"
   ]
  },
  {
   "cell_type": "markdown",
   "metadata": {},
   "source": [
    "Среднее и медиана практически равны, распределение симметричное, равномерное. Среди абонентов представлены все возраста."
   ]
  },
  {
   "cell_type": "code",
   "execution_count": 11,
   "metadata": {
    "scrolled": true
   },
   "outputs": [
    {
     "data": {
      "text/plain": [
       "['Архангельск',\n",
       " 'Астрахань',\n",
       " 'Балашиха',\n",
       " 'Барнаул',\n",
       " 'Белгород',\n",
       " 'Брянск',\n",
       " 'Владивосток',\n",
       " 'Владикавказ',\n",
       " 'Владимир',\n",
       " 'Волгоград',\n",
       " 'Волжский',\n",
       " 'Вологда',\n",
       " 'Воронеж',\n",
       " 'Грозный',\n",
       " 'Екатеринбург',\n",
       " 'Иваново',\n",
       " 'Ижевск',\n",
       " 'Иркутск',\n",
       " 'Казань',\n",
       " 'Калининград',\n",
       " 'Калуга',\n",
       " 'Кемерово',\n",
       " 'Киров',\n",
       " 'Кострома',\n",
       " 'Краснодар',\n",
       " 'Красноярск',\n",
       " 'Курган',\n",
       " 'Курск',\n",
       " 'Липецк',\n",
       " 'Магнитогорск',\n",
       " 'Махачкала',\n",
       " 'Москва',\n",
       " 'Мурманск',\n",
       " 'Набережные Челны',\n",
       " 'Нижневартовск',\n",
       " 'Нижний Новгород',\n",
       " 'Нижний Тагил',\n",
       " 'Новокузнецк',\n",
       " 'Новороссийск',\n",
       " 'Новосибирск',\n",
       " 'Омск',\n",
       " 'Оренбург',\n",
       " 'Орёл',\n",
       " 'Пенза',\n",
       " 'Пермь',\n",
       " 'Петрозаводск',\n",
       " 'Подольск',\n",
       " 'Ростов-на-Дону',\n",
       " 'Рязань',\n",
       " 'Самара',\n",
       " 'Санкт-Петербург',\n",
       " 'Саранск',\n",
       " 'Саратов',\n",
       " 'Севастополь',\n",
       " 'Смоленск',\n",
       " 'Сочи',\n",
       " 'Ставрополь',\n",
       " 'Стерлитамак',\n",
       " 'Сургут',\n",
       " 'Тамбов',\n",
       " 'Тверь',\n",
       " 'Тольятти',\n",
       " 'Томск',\n",
       " 'Тула',\n",
       " 'Тюмень',\n",
       " 'Улан-Удэ',\n",
       " 'Ульяновск',\n",
       " 'Уфа',\n",
       " 'Хабаровск',\n",
       " 'Химки',\n",
       " 'Чебоксары',\n",
       " 'Челябинск',\n",
       " 'Череповец',\n",
       " 'Чита',\n",
       " 'Якутск',\n",
       " 'Ярославль']"
      ]
     },
     "execution_count": 11,
     "metadata": {},
     "output_type": "execute_result"
    }
   ],
   "source": [
    "#Проверим на дубли в названиях городов из-за ошибок в написании\n",
    "sorted(list(df_dict['users']['city'].unique()))"
   ]
  },
  {
   "cell_type": "markdown",
   "metadata": {},
   "source": [
    "Все города написаны правильно, повторений нет."
   ]
  },
  {
   "cell_type": "code",
   "execution_count": 12,
   "metadata": {
    "scrolled": true
   },
   "outputs": [
    {
     "data": {
      "text/plain": [
       "Москва             99\n",
       "Санкт-Петербург    39\n",
       "Новосибирск        16\n",
       "Омск               14\n",
       "Казань             14\n",
       "                   ..\n",
       "Архангельск         1\n",
       "Химки               1\n",
       "Подольск            1\n",
       "Нижневартовск       1\n",
       "Иваново             1\n",
       "Name: city, Length: 76, dtype: int64"
      ]
     },
     "execution_count": 12,
     "metadata": {},
     "output_type": "execute_result"
    }
   ],
   "source": [
    "#Посмотрим распределение абонентов по городам\n",
    "df_dict['users']['city'].value_counts()"
   ]
  },
  {
   "cell_type": "code",
   "execution_count": 13,
   "metadata": {
    "scrolled": true
   },
   "outputs": [
    {
     "data": {
      "text/plain": [
       "Москва             0.198\n",
       "Санкт-Петербург    0.078\n",
       "Новосибирск        0.032\n",
       "Омск               0.028\n",
       "Казань             0.028\n",
       "                   ...  \n",
       "Архангельск        0.002\n",
       "Химки              0.002\n",
       "Подольск           0.002\n",
       "Нижневартовск      0.002\n",
       "Иваново            0.002\n",
       "Name: city, Length: 76, dtype: float64"
      ]
     },
     "execution_count": 13,
     "metadata": {},
     "output_type": "execute_result"
    }
   ],
   "source": [
    "#Посмотрим распределение абонентов по городам в процентах от общего числа\n",
    "df_dict['users']['city'].value_counts() / df_dict['users'].shape[0]"
   ]
  },
  {
   "cell_type": "code",
   "execution_count": 14,
   "metadata": {
    "scrolled": true
   },
   "outputs": [
    {
     "data": {
      "text/plain": [
       "smart    351\n",
       "ultra    149\n",
       "Name: tariff, dtype: int64"
      ]
     },
     "execution_count": 14,
     "metadata": {},
     "output_type": "execute_result"
    }
   ],
   "source": [
    "#Проверим столбец tariff\n",
    "df_dict['users']['tariff'].value_counts()"
   ]
  },
  {
   "cell_type": "markdown",
   "metadata": {},
   "source": [
    "Представлены только два тарифа, как и должно быть.\n",
    "Две третьи абонентов используют тариф smart"
   ]
  },
  {
   "cell_type": "markdown",
   "metadata": {},
   "source": [
    "### Датасет calls"
   ]
  },
  {
   "cell_type": "code",
   "execution_count": 15,
   "metadata": {
    "scrolled": false
   },
   "outputs": [
    {
     "data": {
      "text/html": [
       "<div>\n",
       "<style scoped>\n",
       "    .dataframe tbody tr th:only-of-type {\n",
       "        vertical-align: middle;\n",
       "    }\n",
       "\n",
       "    .dataframe tbody tr th {\n",
       "        vertical-align: top;\n",
       "    }\n",
       "\n",
       "    .dataframe thead th {\n",
       "        text-align: right;\n",
       "    }\n",
       "</style>\n",
       "<table border=\"1\" class=\"dataframe\">\n",
       "  <thead>\n",
       "    <tr style=\"text-align: right;\">\n",
       "      <th></th>\n",
       "      <th>id</th>\n",
       "      <th>call_date</th>\n",
       "      <th>duration</th>\n",
       "      <th>user_id</th>\n",
       "    </tr>\n",
       "  </thead>\n",
       "  <tbody>\n",
       "    <tr>\n",
       "      <td>0</td>\n",
       "      <td>1000_0</td>\n",
       "      <td>2018-07-25</td>\n",
       "      <td>0.00</td>\n",
       "      <td>1000</td>\n",
       "    </tr>\n",
       "    <tr>\n",
       "      <td>1</td>\n",
       "      <td>1000_1</td>\n",
       "      <td>2018-08-17</td>\n",
       "      <td>0.00</td>\n",
       "      <td>1000</td>\n",
       "    </tr>\n",
       "    <tr>\n",
       "      <td>2</td>\n",
       "      <td>1000_2</td>\n",
       "      <td>2018-06-11</td>\n",
       "      <td>2.85</td>\n",
       "      <td>1000</td>\n",
       "    </tr>\n",
       "    <tr>\n",
       "      <td>3</td>\n",
       "      <td>1000_3</td>\n",
       "      <td>2018-09-21</td>\n",
       "      <td>13.80</td>\n",
       "      <td>1000</td>\n",
       "    </tr>\n",
       "    <tr>\n",
       "      <td>4</td>\n",
       "      <td>1000_4</td>\n",
       "      <td>2018-12-15</td>\n",
       "      <td>5.18</td>\n",
       "      <td>1000</td>\n",
       "    </tr>\n",
       "  </tbody>\n",
       "</table>\n",
       "</div>"
      ],
      "text/plain": [
       "       id   call_date  duration  user_id\n",
       "0  1000_0  2018-07-25      0.00     1000\n",
       "1  1000_1  2018-08-17      0.00     1000\n",
       "2  1000_2  2018-06-11      2.85     1000\n",
       "3  1000_3  2018-09-21     13.80     1000\n",
       "4  1000_4  2018-12-15      5.18     1000"
      ]
     },
     "execution_count": 15,
     "metadata": {},
     "output_type": "execute_result"
    }
   ],
   "source": [
    "# Посмотрим на данные датасета calls\n",
    "df_dict['calls'].head()"
   ]
  },
  {
   "cell_type": "code",
   "execution_count": 16,
   "metadata": {},
   "outputs": [
    {
     "data": {
      "text/html": [
       "<div>\n",
       "<style scoped>\n",
       "    .dataframe tbody tr th:only-of-type {\n",
       "        vertical-align: middle;\n",
       "    }\n",
       "\n",
       "    .dataframe tbody tr th {\n",
       "        vertical-align: top;\n",
       "    }\n",
       "\n",
       "    .dataframe thead th {\n",
       "        text-align: right;\n",
       "    }\n",
       "</style>\n",
       "<table border=\"1\" class=\"dataframe\">\n",
       "  <thead>\n",
       "    <tr style=\"text-align: right;\">\n",
       "      <th></th>\n",
       "      <th>id</th>\n",
       "      <th>call_date</th>\n",
       "      <th>duration</th>\n",
       "      <th>user_id</th>\n",
       "    </tr>\n",
       "  </thead>\n",
       "  <tbody>\n",
       "    <tr>\n",
       "      <td>202602</td>\n",
       "      <td>1499_215</td>\n",
       "      <td>2018-12-26</td>\n",
       "      <td>0.76</td>\n",
       "      <td>1499</td>\n",
       "    </tr>\n",
       "    <tr>\n",
       "      <td>202603</td>\n",
       "      <td>1499_216</td>\n",
       "      <td>2018-10-18</td>\n",
       "      <td>18.83</td>\n",
       "      <td>1499</td>\n",
       "    </tr>\n",
       "    <tr>\n",
       "      <td>202604</td>\n",
       "      <td>1499_217</td>\n",
       "      <td>2018-11-10</td>\n",
       "      <td>10.81</td>\n",
       "      <td>1499</td>\n",
       "    </tr>\n",
       "    <tr>\n",
       "      <td>202605</td>\n",
       "      <td>1499_218</td>\n",
       "      <td>2018-10-06</td>\n",
       "      <td>4.27</td>\n",
       "      <td>1499</td>\n",
       "    </tr>\n",
       "    <tr>\n",
       "      <td>202606</td>\n",
       "      <td>1499_219</td>\n",
       "      <td>2018-12-14</td>\n",
       "      <td>19.62</td>\n",
       "      <td>1499</td>\n",
       "    </tr>\n",
       "  </tbody>\n",
       "</table>\n",
       "</div>"
      ],
      "text/plain": [
       "              id   call_date  duration  user_id\n",
       "202602  1499_215  2018-12-26      0.76     1499\n",
       "202603  1499_216  2018-10-18     18.83     1499\n",
       "202604  1499_217  2018-11-10     10.81     1499\n",
       "202605  1499_218  2018-10-06      4.27     1499\n",
       "202606  1499_219  2018-12-14     19.62     1499"
      ]
     },
     "execution_count": 16,
     "metadata": {},
     "output_type": "execute_result"
    }
   ],
   "source": [
    "df_dict['calls'].tail()"
   ]
  },
  {
   "cell_type": "markdown",
   "metadata": {},
   "source": [
    "Столбец id имеет строковый тип, т.к. для формирования ключа используется идентификатор абонента к которому через нижнее подчеркиваение добавляется номер сессии(звонка). В целом можно перевести в тип int выделив суфиксы, однако смысла в этом особо нет, т.к. на цели исследования это не влияет."
   ]
  },
  {
   "cell_type": "code",
   "execution_count": 17,
   "metadata": {},
   "outputs": [
    {
     "data": {
      "text/plain": [
       "count    202607.000000\n",
       "mean          6.755887\n",
       "std           5.843365\n",
       "min           0.000000\n",
       "25%           1.300000\n",
       "50%           6.000000\n",
       "75%          10.700000\n",
       "max          38.000000\n",
       "Name: duration, dtype: float64"
      ]
     },
     "execution_count": 17,
     "metadata": {},
     "output_type": "execute_result"
    }
   ],
   "source": [
    "#Посмотрим на столбец с продолжительностью разговора\n",
    "df_dict['calls']['duration'].describe()"
   ]
  },
  {
   "cell_type": "code",
   "execution_count": 18,
   "metadata": {
    "scrolled": true
   },
   "outputs": [
    {
     "data": {
      "text/plain": [
       "<matplotlib.axes._subplots.AxesSubplot at 0x7f1775cd3910>"
      ]
     },
     "execution_count": 18,
     "metadata": {},
     "output_type": "execute_result"
    },
    {
     "data": {
      "image/png": "[encoded data removed]",
      "text/plain": [
       "<Figure size 432x288 with 1 Axes>"
      ]
     },
     "metadata": {
      "needs_background": "light"
     },
     "output_type": "display_data"
    }
   ],
   "source": [
    "df_dict['calls']['duration'].hist(bins=50)"
   ]
  },
  {
   "cell_type": "code",
   "execution_count": 19,
   "metadata": {
    "scrolled": true
   },
   "outputs": [
    {
     "data": {
      "text/plain": [
       "<matplotlib.axes._subplots.AxesSubplot at 0x7f1775c223d0>"
      ]
     },
     "execution_count": 19,
     "metadata": {},
     "output_type": "execute_result"
    },
    {
     "data": {
      "image/png": "[encoded data removed]",
      "text/plain": [
       "<Figure size 432x288 with 1 Axes>"
      ]
     },
     "metadata": {
      "needs_background": "light"
     },
     "output_type": "display_data"
    }
   ],
   "source": [
    "df_dict['calls'].boxplot('duration')"
   ]
  },
  {
   "cell_type": "markdown",
   "metadata": {},
   "source": [
    "<a id='zerro_calls'></a>\n",
    "Из распределения видно, что есть большой выброс пропущенных звонков, примерно 45 тыс из 200.\n",
    "Остальные звонки имеют куполообразное распределение. Среднее всего на 10% больше медианы. Скорее всего медиана смещина влево из-за пропущенных звонков."
   ]
  },
  {
   "cell_type": "code",
   "execution_count": 20,
   "metadata": {
    "scrolled": true
   },
   "outputs": [
    {
     "data": {
      "text/plain": [
       "0.19551644316336553"
      ]
     },
     "execution_count": 20,
     "metadata": {},
     "output_type": "execute_result"
    }
   ],
   "source": [
    "#Подсчитаем процент пропущенных звонков:\n",
    "df_dict['calls'].query('duration == 0').shape[0] / df_dict['calls'].shape[0]"
   ]
  },
  {
   "cell_type": "markdown",
   "metadata": {},
   "source": [
    "### Датасет messages"
   ]
  },
  {
   "cell_type": "code",
   "execution_count": 21,
   "metadata": {
    "scrolled": true
   },
   "outputs": [
    {
     "data": {
      "text/html": [
       "<div>\n",
       "<style scoped>\n",
       "    .dataframe tbody tr th:only-of-type {\n",
       "        vertical-align: middle;\n",
       "    }\n",
       "\n",
       "    .dataframe tbody tr th {\n",
       "        vertical-align: top;\n",
       "    }\n",
       "\n",
       "    .dataframe thead th {\n",
       "        text-align: right;\n",
       "    }\n",
       "</style>\n",
       "<table border=\"1\" class=\"dataframe\">\n",
       "  <thead>\n",
       "    <tr style=\"text-align: right;\">\n",
       "      <th></th>\n",
       "      <th>id</th>\n",
       "      <th>message_date</th>\n",
       "      <th>user_id</th>\n",
       "    </tr>\n",
       "  </thead>\n",
       "  <tbody>\n",
       "    <tr>\n",
       "      <td>0</td>\n",
       "      <td>1000_0</td>\n",
       "      <td>2018-06-27</td>\n",
       "      <td>1000</td>\n",
       "    </tr>\n",
       "    <tr>\n",
       "      <td>1</td>\n",
       "      <td>1000_1</td>\n",
       "      <td>2018-10-08</td>\n",
       "      <td>1000</td>\n",
       "    </tr>\n",
       "    <tr>\n",
       "      <td>2</td>\n",
       "      <td>1000_2</td>\n",
       "      <td>2018-08-04</td>\n",
       "      <td>1000</td>\n",
       "    </tr>\n",
       "    <tr>\n",
       "      <td>3</td>\n",
       "      <td>1000_3</td>\n",
       "      <td>2018-06-16</td>\n",
       "      <td>1000</td>\n",
       "    </tr>\n",
       "    <tr>\n",
       "      <td>4</td>\n",
       "      <td>1000_4</td>\n",
       "      <td>2018-12-05</td>\n",
       "      <td>1000</td>\n",
       "    </tr>\n",
       "  </tbody>\n",
       "</table>\n",
       "</div>"
      ],
      "text/plain": [
       "       id message_date  user_id\n",
       "0  1000_0   2018-06-27     1000\n",
       "1  1000_1   2018-10-08     1000\n",
       "2  1000_2   2018-08-04     1000\n",
       "3  1000_3   2018-06-16     1000\n",
       "4  1000_4   2018-12-05     1000"
      ]
     },
     "execution_count": 21,
     "metadata": {},
     "output_type": "execute_result"
    }
   ],
   "source": [
    "# Посмотрим на данные датасета messages\n",
    "df_dict['messages'].head()"
   ]
  },
  {
   "cell_type": "markdown",
   "metadata": {},
   "source": [
    "Ничего необычного. Формат в поле id аналогичен датасету calls"
   ]
  },
  {
   "cell_type": "markdown",
   "metadata": {},
   "source": [
    "### Датасет internet"
   ]
  },
  {
   "cell_type": "code",
   "execution_count": 22,
   "metadata": {
    "scrolled": true
   },
   "outputs": [
    {
     "data": {
      "text/html": [
       "<div>\n",
       "<style scoped>\n",
       "    .dataframe tbody tr th:only-of-type {\n",
       "        vertical-align: middle;\n",
       "    }\n",
       "\n",
       "    .dataframe tbody tr th {\n",
       "        vertical-align: top;\n",
       "    }\n",
       "\n",
       "    .dataframe thead th {\n",
       "        text-align: right;\n",
       "    }\n",
       "</style>\n",
       "<table border=\"1\" class=\"dataframe\">\n",
       "  <thead>\n",
       "    <tr style=\"text-align: right;\">\n",
       "      <th></th>\n",
       "      <th>Unnamed: 0</th>\n",
       "      <th>id</th>\n",
       "      <th>mb_used</th>\n",
       "      <th>session_date</th>\n",
       "      <th>user_id</th>\n",
       "    </tr>\n",
       "  </thead>\n",
       "  <tbody>\n",
       "    <tr>\n",
       "      <td>0</td>\n",
       "      <td>0</td>\n",
       "      <td>1000_0</td>\n",
       "      <td>112.95</td>\n",
       "      <td>2018-11-25</td>\n",
       "      <td>1000</td>\n",
       "    </tr>\n",
       "    <tr>\n",
       "      <td>1</td>\n",
       "      <td>1</td>\n",
       "      <td>1000_1</td>\n",
       "      <td>1052.81</td>\n",
       "      <td>2018-09-07</td>\n",
       "      <td>1000</td>\n",
       "    </tr>\n",
       "    <tr>\n",
       "      <td>2</td>\n",
       "      <td>2</td>\n",
       "      <td>1000_2</td>\n",
       "      <td>1197.26</td>\n",
       "      <td>2018-06-25</td>\n",
       "      <td>1000</td>\n",
       "    </tr>\n",
       "    <tr>\n",
       "      <td>3</td>\n",
       "      <td>3</td>\n",
       "      <td>1000_3</td>\n",
       "      <td>550.27</td>\n",
       "      <td>2018-08-22</td>\n",
       "      <td>1000</td>\n",
       "    </tr>\n",
       "    <tr>\n",
       "      <td>4</td>\n",
       "      <td>4</td>\n",
       "      <td>1000_4</td>\n",
       "      <td>302.56</td>\n",
       "      <td>2018-09-24</td>\n",
       "      <td>1000</td>\n",
       "    </tr>\n",
       "  </tbody>\n",
       "</table>\n",
       "</div>"
      ],
      "text/plain": [
       "   Unnamed: 0      id  mb_used session_date  user_id\n",
       "0           0  1000_0   112.95   2018-11-25     1000\n",
       "1           1  1000_1  1052.81   2018-09-07     1000\n",
       "2           2  1000_2  1197.26   2018-06-25     1000\n",
       "3           3  1000_3   550.27   2018-08-22     1000\n",
       "4           4  1000_4   302.56   2018-09-24     1000"
      ]
     },
     "execution_count": 22,
     "metadata": {},
     "output_type": "execute_result"
    }
   ],
   "source": [
    "# Посмотрим на данные датасета internet\n",
    "df_dict['internet'].head()"
   ]
  },
  {
   "cell_type": "code",
   "execution_count": 23,
   "metadata": {
    "scrolled": true
   },
   "outputs": [
    {
     "data": {
      "text/html": [
       "<div>\n",
       "<style scoped>\n",
       "    .dataframe tbody tr th:only-of-type {\n",
       "        vertical-align: middle;\n",
       "    }\n",
       "\n",
       "    .dataframe tbody tr th {\n",
       "        vertical-align: top;\n",
       "    }\n",
       "\n",
       "    .dataframe thead th {\n",
       "        text-align: right;\n",
       "    }\n",
       "</style>\n",
       "<table border=\"1\" class=\"dataframe\">\n",
       "  <thead>\n",
       "    <tr style=\"text-align: right;\">\n",
       "      <th></th>\n",
       "      <th>Unnamed: 0</th>\n",
       "      <th>id</th>\n",
       "      <th>mb_used</th>\n",
       "      <th>session_date</th>\n",
       "      <th>user_id</th>\n",
       "    </tr>\n",
       "  </thead>\n",
       "  <tbody>\n",
       "    <tr>\n",
       "      <td>149391</td>\n",
       "      <td>149391</td>\n",
       "      <td>1499_152</td>\n",
       "      <td>318.90</td>\n",
       "      <td>2018-10-03</td>\n",
       "      <td>1499</td>\n",
       "    </tr>\n",
       "    <tr>\n",
       "      <td>149392</td>\n",
       "      <td>149392</td>\n",
       "      <td>1499_153</td>\n",
       "      <td>490.13</td>\n",
       "      <td>2018-12-14</td>\n",
       "      <td>1499</td>\n",
       "    </tr>\n",
       "    <tr>\n",
       "      <td>149393</td>\n",
       "      <td>149393</td>\n",
       "      <td>1499_154</td>\n",
       "      <td>0.00</td>\n",
       "      <td>2018-10-27</td>\n",
       "      <td>1499</td>\n",
       "    </tr>\n",
       "    <tr>\n",
       "      <td>149394</td>\n",
       "      <td>149394</td>\n",
       "      <td>1499_155</td>\n",
       "      <td>1246.32</td>\n",
       "      <td>2018-11-26</td>\n",
       "      <td>1499</td>\n",
       "    </tr>\n",
       "    <tr>\n",
       "      <td>149395</td>\n",
       "      <td>149395</td>\n",
       "      <td>1499_156</td>\n",
       "      <td>544.37</td>\n",
       "      <td>2018-10-26</td>\n",
       "      <td>1499</td>\n",
       "    </tr>\n",
       "  </tbody>\n",
       "</table>\n",
       "</div>"
      ],
      "text/plain": [
       "        Unnamed: 0        id  mb_used session_date  user_id\n",
       "149391      149391  1499_152   318.90   2018-10-03     1499\n",
       "149392      149392  1499_153   490.13   2018-12-14     1499\n",
       "149393      149393  1499_154     0.00   2018-10-27     1499\n",
       "149394      149394  1499_155  1246.32   2018-11-26     1499\n",
       "149395      149395  1499_156   544.37   2018-10-26     1499"
      ]
     },
     "execution_count": 23,
     "metadata": {},
     "output_type": "execute_result"
    }
   ],
   "source": [
    "df_dict['internet'].tail()"
   ]
  },
  {
   "cell_type": "markdown",
   "metadata": {},
   "source": [
    "Видно, что столбец Unnamed:0 дублирует индексы. Как и предполагалось, скорее всего при выгрузке были захвачены не только значения но и индексы строк. Столбец можно удалить\n",
    "\n",
    "Столбец id имеет аналогичную структуру как в датасете calls"
   ]
  },
  {
   "cell_type": "code",
   "execution_count": 24,
   "metadata": {},
   "outputs": [
    {
     "data": {
      "text/plain": [
       "count    149396.000000\n",
       "mean        370.192426\n",
       "std         278.300951\n",
       "min           0.000000\n",
       "25%         138.187500\n",
       "50%         348.015000\n",
       "75%         559.552500\n",
       "max        1724.830000\n",
       "Name: mb_used, dtype: float64"
      ]
     },
     "execution_count": 24,
     "metadata": {},
     "output_type": "execute_result"
    }
   ],
   "source": [
    "#Посмотрим на распределение потребления интернет трафика по сессиям\n",
    "df_dict['internet']['mb_used'].describe()"
   ]
  },
  {
   "cell_type": "code",
   "execution_count": 25,
   "metadata": {
    "scrolled": true
   },
   "outputs": [
    {
     "data": {
      "text/plain": [
       "<matplotlib.axes._subplots.AxesSubplot at 0x7f177f71cd10>"
      ]
     },
     "execution_count": 25,
     "metadata": {},
     "output_type": "execute_result"
    },
    {
     "data": {
      "image/png": "[encoded data removed]",
      "text/plain": [
       "<Figure size 432x288 with 1 Axes>"
      ]
     },
     "metadata": {
      "needs_background": "light"
     },
     "output_type": "display_data"
    }
   ],
   "source": [
    "df_dict['internet']['mb_used'].hist(bins=100)"
   ]
  },
  {
   "cell_type": "code",
   "execution_count": 26,
   "metadata": {
    "scrolled": true
   },
   "outputs": [
    {
     "data": {
      "text/plain": [
       "<matplotlib.axes._subplots.AxesSubplot at 0x7f17759f8110>"
      ]
     },
     "execution_count": 26,
     "metadata": {},
     "output_type": "execute_result"
    },
    {
     "data": {
      "image/png": "[encoded data removed]",
      "text/plain": [
       "<Figure size 432x288 with 1 Axes>"
      ]
     },
     "metadata": {
      "needs_background": "light"
     },
     "output_type": "display_data"
    }
   ],
   "source": [
    "df_dict['internet'].boxplot('mb_used')"
   ]
  },
  {
   "cell_type": "markdown",
   "metadata": {},
   "source": [
    "Распределение очень похоже на распределение продолжительности телефонных разговоров, однако в описании нет указаний насчёт нулевого трафика. Возможно это неудачные сессии соединения или данные тех кто вообще не пользовался интернетом, а возможно ошибка при загрузке."
   ]
  },
  {
   "cell_type": "code",
   "execution_count": 27,
   "metadata": {},
   "outputs": [
    {
     "data": {
      "text/html": [
       "<div>\n",
       "<style scoped>\n",
       "    .dataframe tbody tr th:only-of-type {\n",
       "        vertical-align: middle;\n",
       "    }\n",
       "\n",
       "    .dataframe tbody tr th {\n",
       "        vertical-align: top;\n",
       "    }\n",
       "\n",
       "    .dataframe thead th {\n",
       "        text-align: right;\n",
       "    }\n",
       "</style>\n",
       "<table border=\"1\" class=\"dataframe\">\n",
       "  <thead>\n",
       "    <tr style=\"text-align: right;\">\n",
       "      <th></th>\n",
       "      <th>Unnamed: 0</th>\n",
       "      <th>id</th>\n",
       "      <th>mb_used</th>\n",
       "      <th>session_date</th>\n",
       "      <th>user_id</th>\n",
       "    </tr>\n",
       "  </thead>\n",
       "  <tbody>\n",
       "    <tr>\n",
       "      <td>11</td>\n",
       "      <td>11</td>\n",
       "      <td>1000_11</td>\n",
       "      <td>0.0</td>\n",
       "      <td>2018-08-28</td>\n",
       "      <td>1000</td>\n",
       "    </tr>\n",
       "    <tr>\n",
       "      <td>38</td>\n",
       "      <td>38</td>\n",
       "      <td>1000_38</td>\n",
       "      <td>0.0</td>\n",
       "      <td>2018-11-27</td>\n",
       "      <td>1000</td>\n",
       "    </tr>\n",
       "    <tr>\n",
       "      <td>46</td>\n",
       "      <td>46</td>\n",
       "      <td>1000_46</td>\n",
       "      <td>0.0</td>\n",
       "      <td>2018-06-30</td>\n",
       "      <td>1000</td>\n",
       "    </tr>\n",
       "    <tr>\n",
       "      <td>67</td>\n",
       "      <td>67</td>\n",
       "      <td>1000_67</td>\n",
       "      <td>0.0</td>\n",
       "      <td>2018-06-16</td>\n",
       "      <td>1000</td>\n",
       "    </tr>\n",
       "    <tr>\n",
       "      <td>72</td>\n",
       "      <td>72</td>\n",
       "      <td>1000_72</td>\n",
       "      <td>0.0</td>\n",
       "      <td>2018-06-15</td>\n",
       "      <td>1000</td>\n",
       "    </tr>\n",
       "  </tbody>\n",
       "</table>\n",
       "</div>"
      ],
      "text/plain": [
       "    Unnamed: 0       id  mb_used session_date  user_id\n",
       "11          11  1000_11      0.0   2018-08-28     1000\n",
       "38          38  1000_38      0.0   2018-11-27     1000\n",
       "46          46  1000_46      0.0   2018-06-30     1000\n",
       "67          67  1000_67      0.0   2018-06-16     1000\n",
       "72          72  1000_72      0.0   2018-06-15     1000"
      ]
     },
     "execution_count": 27,
     "metadata": {},
     "output_type": "execute_result"
    }
   ],
   "source": [
    "#Посмотрим на данные с нулевым интернет трафиком\n",
    "df_dict['internet'].query('mb_used == 0').head()"
   ]
  },
  {
   "cell_type": "code",
   "execution_count": 28,
   "metadata": {},
   "outputs": [
    {
     "data": {
      "text/plain": [
       "0.13118155773916304"
      ]
     },
     "execution_count": 28,
     "metadata": {},
     "output_type": "execute_result"
    }
   ],
   "source": [
    "df_dict['internet'].query('mb_used == 0').shape[0] / df_dict['internet'].shape[0]"
   ]
  },
  {
   "cell_type": "markdown",
   "metadata": {},
   "source": [
    "13% нулевых значений могут заметно влиять на среднее и медиану. "
   ]
  },
  {
   "cell_type": "code",
   "execution_count": 29,
   "metadata": {
    "scrolled": true
   },
   "outputs": [
    {
     "data": {
      "text/plain": [
       "count    129798.000000\n",
       "mean        426.087210\n",
       "std         255.596447\n",
       "min           0.030000\n",
       "25%         227.460000\n",
       "50%         400.540000\n",
       "75%         592.947500\n",
       "max        1724.830000\n",
       "Name: mb_used, dtype: float64"
      ]
     },
     "execution_count": 29,
     "metadata": {},
     "output_type": "execute_result"
    }
   ],
   "source": [
    "df_dict['internet'].query('mb_used != 0')['mb_used'].describe()"
   ]
  },
  {
   "cell_type": "markdown",
   "metadata": {},
   "source": [
    "Среднее выборки без нулей 426, а с нулями 370, медианы 400 и 348 соответственно"
   ]
  },
  {
   "cell_type": "markdown",
   "metadata": {},
   "source": [
    "### Датасет tariffs"
   ]
  },
  {
   "cell_type": "code",
   "execution_count": 30,
   "metadata": {},
   "outputs": [
    {
     "data": {
      "text/html": [
       "<div>\n",
       "<style scoped>\n",
       "    .dataframe tbody tr th:only-of-type {\n",
       "        vertical-align: middle;\n",
       "    }\n",
       "\n",
       "    .dataframe tbody tr th {\n",
       "        vertical-align: top;\n",
       "    }\n",
       "\n",
       "    .dataframe thead th {\n",
       "        text-align: right;\n",
       "    }\n",
       "</style>\n",
       "<table border=\"1\" class=\"dataframe\">\n",
       "  <thead>\n",
       "    <tr style=\"text-align: right;\">\n",
       "      <th></th>\n",
       "      <th>messages_included</th>\n",
       "      <th>mb_per_month_included</th>\n",
       "      <th>minutes_included</th>\n",
       "      <th>rub_monthly_fee</th>\n",
       "      <th>rub_per_gb</th>\n",
       "      <th>rub_per_message</th>\n",
       "      <th>rub_per_minute</th>\n",
       "      <th>tariff_name</th>\n",
       "    </tr>\n",
       "  </thead>\n",
       "  <tbody>\n",
       "    <tr>\n",
       "      <td>0</td>\n",
       "      <td>50</td>\n",
       "      <td>15360</td>\n",
       "      <td>500</td>\n",
       "      <td>550</td>\n",
       "      <td>200</td>\n",
       "      <td>3</td>\n",
       "      <td>3</td>\n",
       "      <td>smart</td>\n",
       "    </tr>\n",
       "    <tr>\n",
       "      <td>1</td>\n",
       "      <td>1000</td>\n",
       "      <td>30720</td>\n",
       "      <td>3000</td>\n",
       "      <td>1950</td>\n",
       "      <td>150</td>\n",
       "      <td>1</td>\n",
       "      <td>1</td>\n",
       "      <td>ultra</td>\n",
       "    </tr>\n",
       "  </tbody>\n",
       "</table>\n",
       "</div>"
      ],
      "text/plain": [
       "   messages_included  mb_per_month_included  minutes_included  \\\n",
       "0                 50                  15360               500   \n",
       "1               1000                  30720              3000   \n",
       "\n",
       "   rub_monthly_fee  rub_per_gb  rub_per_message  rub_per_minute tariff_name  \n",
       "0              550         200                3               3       smart  \n",
       "1             1950         150                1               1       ultra  "
      ]
     },
     "execution_count": 30,
     "metadata": {},
     "output_type": "execute_result"
    }
   ],
   "source": [
    "# Посмотрим на данные датасета tariffs\n",
    "df_dict['tariffs']"
   ]
  },
  {
   "cell_type": "markdown",
   "metadata": {},
   "source": [
    "Данные по обоим тарифам представлены полностью"
   ]
  },
  {
   "cell_type": "markdown",
   "metadata": {},
   "source": [
    "### Выводы"
   ]
  },
  {
   "cell_type": "markdown",
   "metadata": {},
   "source": [
    "Все датасеты имеют стандартный разделитель, полностью заполнены, нет пропусков, за исключением ожидаемых в дате прекращения пользования тарифом (churn_date) датасета users. Все названия полей приведены в нижнем регистре в змеинном стиле английскими буквами и не нуждаются в корректировке, за одним исключением в датасете internet.\n",
    "* Все поля с датами у всех датасетов имеют строковый тип, их надо перевести в тип date.\n",
    "* Поля с идентификаторами в каждом датасете, кроме тарифа, уникальны. Повторений нет.\n",
    "* Поля 'id' у датасетов со звонками, сообщениями и интернет трафиком имеют строковый тип, их возможно  перевести в int, но на предмет исследования это не влияет. Можно оставить как есть.\n",
    "* 8 человек вообще никогда не звонили, 74 не отправляли сообщений, а 3 не использовали интернет, а 2 абонента вообще не совершали никаких действий.\n",
    "-----\n",
    "\n",
    "*Датасет users:*\n",
    "- Среднее и медиана возраста практически равны, распределение симметричное. Среди абонентов представлены все возраста. Возможно для более углубленного изучения в будущих исследованиях надо так же учитывать пол абонента, т.к. это может оказывать существенное влияние на поведение.\n",
    "- В названиях городов повторений из-за неправильного написания не обнаружено.\n",
    "- Почти 20% абонентов из Москвы.\n",
    "- Примерно 2/3 абонентов используют тариф smart\n",
    "\n",
    "*Датасет calls:*\n",
    "- Из распределения продолжительности звонков видно, что есть большой выброс пропущенных звонков с нулевой продолжительностью, примерно 45 тыс из 200, около 20%. Остальные звонки имеют куполообразное распределение. Среднее всего на 10% больше медианы. Скорее всего медиана и среднее смещены влево из-за пропущенных звонков.\n",
    "- Так же надо перевести в тип int продолжительность разговоров, т.к. оператор округляет их до минут в большую сторону при каждом разговоре, нулевые значения останутся нулями, т.к. в описании сказано, что это пропущенные звонки.\n",
    "\n",
    "*Датасет messages:*\n",
    "- Ничего необычного. Формат в поле id аналогичен датасету calls\n",
    "\n",
    "*Датасет internet:*\n",
    "- Трафик в мегабайтах переводить в целые не надо, т.к. округляется только общая сумма за месяц до гигабайтов в большую сторону.\n",
    "- Есть странный столбец Unnamed в датасете internet которого нет в описании. Похоже, что произошла ошибка при выгрузке из БД, т.к. фйл начинается с запятой, а в соответвующем столбце идут индексы. В целом на предмет исследования не влияет. Можно удалить.\n",
    "- Распределение интернет трафика очень похоже на распределение продолжительности звонков. Число нулевых сессий около 13%, что смещает медиану и среднее влево.\n",
    "\n",
    "*Датасет tariffs:*\n",
    "- Данные по обоим тарифам представлены полностью\n",
    "- Количество мегабайт из пакета надо перевести в гигабайты, т.к. тарификация происходит в гигабайтах"
   ]
  },
  {
   "cell_type": "markdown",
   "metadata": {},
   "source": [
    "## Подготовка данных"
   ]
  },
  {
   "cell_type": "markdown",
   "metadata": {},
   "source": [
    "### Дубликаты"
   ]
  },
  {
   "cell_type": "markdown",
   "metadata": {},
   "source": [
    "Можно удалить столбец Unnamed:0 из датасета internet "
   ]
  },
  {
   "cell_type": "code",
   "execution_count": 31,
   "metadata": {
    "scrolled": true
   },
   "outputs": [
    {
     "data": {
      "text/html": [
       "<div>\n",
       "<style scoped>\n",
       "    .dataframe tbody tr th:only-of-type {\n",
       "        vertical-align: middle;\n",
       "    }\n",
       "\n",
       "    .dataframe tbody tr th {\n",
       "        vertical-align: top;\n",
       "    }\n",
       "\n",
       "    .dataframe thead th {\n",
       "        text-align: right;\n",
       "    }\n",
       "</style>\n",
       "<table border=\"1\" class=\"dataframe\">\n",
       "  <thead>\n",
       "    <tr style=\"text-align: right;\">\n",
       "      <th></th>\n",
       "      <th>id</th>\n",
       "      <th>mb_used</th>\n",
       "      <th>session_date</th>\n",
       "      <th>user_id</th>\n",
       "    </tr>\n",
       "  </thead>\n",
       "  <tbody>\n",
       "    <tr>\n",
       "      <td>0</td>\n",
       "      <td>1000_0</td>\n",
       "      <td>112.95</td>\n",
       "      <td>2018-11-25</td>\n",
       "      <td>1000</td>\n",
       "    </tr>\n",
       "    <tr>\n",
       "      <td>1</td>\n",
       "      <td>1000_1</td>\n",
       "      <td>1052.81</td>\n",
       "      <td>2018-09-07</td>\n",
       "      <td>1000</td>\n",
       "    </tr>\n",
       "    <tr>\n",
       "      <td>2</td>\n",
       "      <td>1000_2</td>\n",
       "      <td>1197.26</td>\n",
       "      <td>2018-06-25</td>\n",
       "      <td>1000</td>\n",
       "    </tr>\n",
       "    <tr>\n",
       "      <td>3</td>\n",
       "      <td>1000_3</td>\n",
       "      <td>550.27</td>\n",
       "      <td>2018-08-22</td>\n",
       "      <td>1000</td>\n",
       "    </tr>\n",
       "    <tr>\n",
       "      <td>4</td>\n",
       "      <td>1000_4</td>\n",
       "      <td>302.56</td>\n",
       "      <td>2018-09-24</td>\n",
       "      <td>1000</td>\n",
       "    </tr>\n",
       "  </tbody>\n",
       "</table>\n",
       "</div>"
      ],
      "text/plain": [
       "       id  mb_used session_date  user_id\n",
       "0  1000_0   112.95   2018-11-25     1000\n",
       "1  1000_1  1052.81   2018-09-07     1000\n",
       "2  1000_2  1197.26   2018-06-25     1000\n",
       "3  1000_3   550.27   2018-08-22     1000\n",
       "4  1000_4   302.56   2018-09-24     1000"
      ]
     },
     "execution_count": 31,
     "metadata": {},
     "output_type": "execute_result"
    }
   ],
   "source": [
    "df_dict['internet'].drop('Unnamed: 0', axis=1, inplace=True)\n",
    "df_dict['internet'].head()"
   ]
  },
  {
   "cell_type": "markdown",
   "metadata": {},
   "source": [
    "Другие дубли можно не искать, так как поля идентификаторов в каждом датасете уникальны."
   ]
  },
  {
   "cell_type": "markdown",
   "metadata": {},
   "source": [
    "### Изменение типа данных"
   ]
  },
  {
   "cell_type": "markdown",
   "metadata": {},
   "source": [
    "- Все поля дат во всех датасетах надо перевести в тип date\n",
    "- В датасете calls надо перевести в тип int поле duration - продолжительность звонка в минутах"
   ]
  },
  {
   "cell_type": "code",
   "execution_count": 32,
   "metadata": {
    "scrolled": true
   },
   "outputs": [
    {
     "name": "stdout",
     "output_type": "stream",
     "text": [
      "До округления:\n"
     ]
    },
    {
     "data": {
      "text/plain": [
       "1368790.0399999998"
      ]
     },
     "metadata": {},
     "output_type": "display_data"
    },
    {
     "data": {
      "text/html": [
       "<div>\n",
       "<style scoped>\n",
       "    .dataframe tbody tr th:only-of-type {\n",
       "        vertical-align: middle;\n",
       "    }\n",
       "\n",
       "    .dataframe tbody tr th {\n",
       "        vertical-align: top;\n",
       "    }\n",
       "\n",
       "    .dataframe thead th {\n",
       "        text-align: right;\n",
       "    }\n",
       "</style>\n",
       "<table border=\"1\" class=\"dataframe\">\n",
       "  <thead>\n",
       "    <tr style=\"text-align: right;\">\n",
       "      <th></th>\n",
       "      <th>id</th>\n",
       "      <th>call_date</th>\n",
       "      <th>duration</th>\n",
       "      <th>user_id</th>\n",
       "    </tr>\n",
       "  </thead>\n",
       "  <tbody>\n",
       "    <tr>\n",
       "      <td>0</td>\n",
       "      <td>1000_0</td>\n",
       "      <td>2018-07-25</td>\n",
       "      <td>0.00</td>\n",
       "      <td>1000</td>\n",
       "    </tr>\n",
       "    <tr>\n",
       "      <td>1</td>\n",
       "      <td>1000_1</td>\n",
       "      <td>2018-08-17</td>\n",
       "      <td>0.00</td>\n",
       "      <td>1000</td>\n",
       "    </tr>\n",
       "    <tr>\n",
       "      <td>2</td>\n",
       "      <td>1000_2</td>\n",
       "      <td>2018-06-11</td>\n",
       "      <td>2.85</td>\n",
       "      <td>1000</td>\n",
       "    </tr>\n",
       "  </tbody>\n",
       "</table>\n",
       "</div>"
      ],
      "text/plain": [
       "       id   call_date  duration  user_id\n",
       "0  1000_0  2018-07-25      0.00     1000\n",
       "1  1000_1  2018-08-17      0.00     1000\n",
       "2  1000_2  2018-06-11      2.85     1000"
      ]
     },
     "metadata": {},
     "output_type": "display_data"
    },
    {
     "name": "stdout",
     "output_type": "stream",
     "text": [
      "После округления и изменения типа:\n"
     ]
    },
    {
     "data": {
      "text/plain": [
       "1450301"
      ]
     },
     "metadata": {},
     "output_type": "display_data"
    },
    {
     "data": {
      "text/html": [
       "<div>\n",
       "<style scoped>\n",
       "    .dataframe tbody tr th:only-of-type {\n",
       "        vertical-align: middle;\n",
       "    }\n",
       "\n",
       "    .dataframe tbody tr th {\n",
       "        vertical-align: top;\n",
       "    }\n",
       "\n",
       "    .dataframe thead th {\n",
       "        text-align: right;\n",
       "    }\n",
       "</style>\n",
       "<table border=\"1\" class=\"dataframe\">\n",
       "  <thead>\n",
       "    <tr style=\"text-align: right;\">\n",
       "      <th></th>\n",
       "      <th>id</th>\n",
       "      <th>call_date</th>\n",
       "      <th>duration</th>\n",
       "      <th>user_id</th>\n",
       "    </tr>\n",
       "  </thead>\n",
       "  <tbody>\n",
       "    <tr>\n",
       "      <td>0</td>\n",
       "      <td>1000_0</td>\n",
       "      <td>2018-07-25</td>\n",
       "      <td>0</td>\n",
       "      <td>1000</td>\n",
       "    </tr>\n",
       "    <tr>\n",
       "      <td>1</td>\n",
       "      <td>1000_1</td>\n",
       "      <td>2018-08-17</td>\n",
       "      <td>0</td>\n",
       "      <td>1000</td>\n",
       "    </tr>\n",
       "    <tr>\n",
       "      <td>2</td>\n",
       "      <td>1000_2</td>\n",
       "      <td>2018-06-11</td>\n",
       "      <td>3</td>\n",
       "      <td>1000</td>\n",
       "    </tr>\n",
       "  </tbody>\n",
       "</table>\n",
       "</div>"
      ],
      "text/plain": [
       "       id   call_date  duration  user_id\n",
       "0  1000_0  2018-07-25         0     1000\n",
       "1  1000_1  2018-08-17         0     1000\n",
       "2  1000_2  2018-06-11         3     1000"
      ]
     },
     "execution_count": 32,
     "metadata": {},
     "output_type": "execute_result"
    }
   ],
   "source": [
    "#Округлим значения продолжительности разгооров до большего целого и заменим тип данных на int\n",
    "print('До округления:')\n",
    "display(df_dict['calls']['duration'].sum())\n",
    "display(df_dict['calls'].head(3))\n",
    "\n",
    "df_dict['calls']['duration'] = df_dict['calls']['duration'].apply(np.ceil).astype('int')\n",
    "\n",
    "print('После округления и изменения типа:')\n",
    "display(df_dict['calls']['duration'].sum())\n",
    "df_dict['calls'].head(3)"
   ]
  },
  {
   "cell_type": "code",
   "execution_count": 33,
   "metadata": {},
   "outputs": [
    {
     "data": {
      "text/plain": [
       "1.0595496442975287"
      ]
     },
     "execution_count": 33,
     "metadata": {},
     "output_type": "execute_result"
    }
   ],
   "source": [
    "#Видно что сумма увеличилась\n",
    "1450301/1368790.0399999998"
   ]
  },
  {
   "cell_type": "code",
   "execution_count": 34,
   "metadata": {},
   "outputs": [
    {
     "name": "stdout",
     "output_type": "stream",
     "text": [
      "Датасет: users\n",
      "\t churn_date\n",
      "\t reg_date\n",
      "--------------------\n",
      "Датасет: calls\n",
      "\t call_date\n",
      "--------------------\n",
      "Датасет: messages\n",
      "\t message_date\n",
      "--------------------\n",
      "Датасет: internet\n",
      "\t session_date\n",
      "--------------------\n"
     ]
    }
   ],
   "source": [
    "#Выведем все названия полей с датами\n",
    "for dataset_name in list(df_dict.keys())[: -1]:\n",
    "    print('Датасет:', dataset_name)\n",
    "    for column in list(df_dict[dataset_name].columns):\n",
    "        if 'date' in column:\n",
    "            print('\\t',column)\n",
    "    print('-' * 20)"
   ]
  },
  {
   "cell_type": "code",
   "execution_count": 35,
   "metadata": {
    "scrolled": true
   },
   "outputs": [],
   "source": [
    "#Переведём все поля с датами в тип date\n",
    "for dataset_name, datafield_name in zip(['users'] + list(df_dict.keys())[: -1], #users будет два раза, т.к. там два поля с датами\n",
    "                                        ['churn_date', 'reg_date', 'call_date', 'message_date', 'session_date']):\n",
    "\n",
    "    df_dict[dataset_name][datafield_name] = \\\n",
    "        pd.to_datetime(df_dict[dataset_name][datafield_name], format=\"%Y-%m-%d\")"
   ]
  },
  {
   "cell_type": "code",
   "execution_count": 36,
   "metadata": {
    "scrolled": false
   },
   "outputs": [
    {
     "name": "stdout",
     "output_type": "stream",
     "text": [
      "users\n",
      "<class 'pandas.core.frame.DataFrame'>\n",
      "RangeIndex: 500 entries, 0 to 499\n",
      "Data columns (total 8 columns):\n",
      "user_id       500 non-null int64\n",
      "age           500 non-null int64\n",
      "churn_date    38 non-null datetime64[ns]\n",
      "city          500 non-null object\n",
      "first_name    500 non-null object\n",
      "last_name     500 non-null object\n",
      "reg_date      500 non-null datetime64[ns]\n",
      "tariff        500 non-null object\n",
      "dtypes: datetime64[ns](2), int64(2), object(4)\n",
      "memory usage: 31.4+ KB\n",
      "--------------------\n",
      "calls\n",
      "<class 'pandas.core.frame.DataFrame'>\n",
      "RangeIndex: 202607 entries, 0 to 202606\n",
      "Data columns (total 4 columns):\n",
      "id           202607 non-null object\n",
      "call_date    202607 non-null datetime64[ns]\n",
      "duration     202607 non-null int64\n",
      "user_id      202607 non-null int64\n",
      "dtypes: datetime64[ns](1), int64(2), object(1)\n",
      "memory usage: 6.2+ MB\n",
      "--------------------\n",
      "messages\n",
      "<class 'pandas.core.frame.DataFrame'>\n",
      "RangeIndex: 123036 entries, 0 to 123035\n",
      "Data columns (total 3 columns):\n",
      "id              123036 non-null object\n",
      "message_date    123036 non-null datetime64[ns]\n",
      "user_id         123036 non-null int64\n",
      "dtypes: datetime64[ns](1), int64(1), object(1)\n",
      "memory usage: 2.8+ MB\n",
      "--------------------\n",
      "internet\n",
      "<class 'pandas.core.frame.DataFrame'>\n",
      "RangeIndex: 149396 entries, 0 to 149395\n",
      "Data columns (total 4 columns):\n",
      "id              149396 non-null object\n",
      "mb_used         149396 non-null float64\n",
      "session_date    149396 non-null datetime64[ns]\n",
      "user_id         149396 non-null int64\n",
      "dtypes: datetime64[ns](1), float64(1), int64(1), object(1)\n",
      "memory usage: 4.6+ MB\n",
      "--------------------\n"
     ]
    }
   ],
   "source": [
    "#Проверяем\n",
    "for dataset_name in list(df_dict.keys())[: -1]:\n",
    "    print(dataset_name)\n",
    "    df_dict[dataset_name].info()\n",
    "    print('-' * 20)"
   ]
  },
  {
   "cell_type": "code",
   "execution_count": 37,
   "metadata": {},
   "outputs": [
    {
     "data": {
      "text/plain": [
       "0"
      ]
     },
     "execution_count": 37,
     "metadata": {},
     "output_type": "execute_result"
    }
   ],
   "source": [
    "#Проверим, что все даты регистрации относятся к 2018 году\n",
    "df_dict['users'].loc[df_dict['users']['reg_date'].dt.year != 2018]['reg_date'].count()"
   ]
  },
  {
   "cell_type": "code",
   "execution_count": 38,
   "metadata": {
    "scrolled": true
   },
   "outputs": [
    {
     "data": {
      "text/plain": [
       "0"
      ]
     },
     "execution_count": 38,
     "metadata": {},
     "output_type": "execute_result"
    }
   ],
   "source": [
    "#Убедимся, что все даты отмены тарифа были после даты регистрации\n",
    "#Количество пользователей датасета users с датой отмены меньше даты регистрации должно равнятся 0\n",
    "df_dict['users'].loc[df_dict['users']['churn_date'] < \\\n",
    "                     df_dict['users']['reg_date']]['user_id'].count()"
   ]
  },
  {
   "cell_type": "code",
   "execution_count": 39,
   "metadata": {
    "scrolled": true
   },
   "outputs": [
    {
     "data": {
      "text/html": [
       "<div>\n",
       "<style scoped>\n",
       "    .dataframe tbody tr th:only-of-type {\n",
       "        vertical-align: middle;\n",
       "    }\n",
       "\n",
       "    .dataframe tbody tr th {\n",
       "        vertical-align: top;\n",
       "    }\n",
       "\n",
       "    .dataframe thead th {\n",
       "        text-align: right;\n",
       "    }\n",
       "</style>\n",
       "<table border=\"1\" class=\"dataframe\">\n",
       "  <thead>\n",
       "    <tr style=\"text-align: right;\">\n",
       "      <th></th>\n",
       "      <th>messages_included</th>\n",
       "      <th>gb_per_month_included</th>\n",
       "      <th>minutes_included</th>\n",
       "      <th>rub_monthly_fee</th>\n",
       "      <th>rub_per_gb</th>\n",
       "      <th>rub_per_message</th>\n",
       "      <th>rub_per_minute</th>\n",
       "      <th>tariff_name</th>\n",
       "    </tr>\n",
       "  </thead>\n",
       "  <tbody>\n",
       "    <tr>\n",
       "      <td>0</td>\n",
       "      <td>50</td>\n",
       "      <td>15</td>\n",
       "      <td>500</td>\n",
       "      <td>550</td>\n",
       "      <td>200</td>\n",
       "      <td>3</td>\n",
       "      <td>3</td>\n",
       "      <td>smart</td>\n",
       "    </tr>\n",
       "    <tr>\n",
       "      <td>1</td>\n",
       "      <td>1000</td>\n",
       "      <td>30</td>\n",
       "      <td>3000</td>\n",
       "      <td>1950</td>\n",
       "      <td>150</td>\n",
       "      <td>1</td>\n",
       "      <td>1</td>\n",
       "      <td>ultra</td>\n",
       "    </tr>\n",
       "  </tbody>\n",
       "</table>\n",
       "</div>"
      ],
      "text/plain": [
       "   messages_included  gb_per_month_included  minutes_included  \\\n",
       "0                 50                     15               500   \n",
       "1               1000                     30              3000   \n",
       "\n",
       "   rub_monthly_fee  rub_per_gb  rub_per_message  rub_per_minute tariff_name  \n",
       "0              550         200                3               3       smart  \n",
       "1             1950         150                1               1       ultra  "
      ]
     },
     "execution_count": 39,
     "metadata": {},
     "output_type": "execute_result"
    }
   ],
   "source": [
    "#Переведём мегабайты в тарифе в гигабайты\n",
    "df_dict['tariffs']['mb_per_month_included'] = df_dict['tariffs']['mb_per_month_included'] / 1024\n",
    "\n",
    "#Значения и так получаются целые, но для сохранения методики округлим вверх и приведём к int\n",
    "df_dict['tariffs']['mb_per_month_included'] = df_dict['tariffs']['mb_per_month_included'].apply(np.ceil).astype('int')\n",
    "\n",
    "#Заменим название столбца\n",
    "df_dict['tariffs'].rename(columns={'mb_per_month_included': 'gb_per_month_included'}, inplace=True)\n",
    "\n",
    "df_dict['tariffs']"
   ]
  },
  {
   "cell_type": "markdown",
   "metadata": {},
   "source": [
    "### Удаление нулей\n",
    "\n",
    "Т.к. в дальнейшем будем оперировать средними знамениями продолжительности разговоров, трафиком и числом сообщений, то нули будут существенно влиять на среднее и медиану. С одной стороны их лучше удалить, т.к. они будут уменьшать среднюю выручку на один звонок и т.п.. С другой стороны абонент всетаки сделал звонок, хоть и не дозвонился, попытался выйти в интернет, хоть и не смог, и таких случаев заметное число и эти значения так же надо учитывать.\n",
    "   Оставим возможность все пересчитать без учета этих нулей и посмотреть, влияет ли это вообще на выбор тарифа."
   ]
  },
  {
   "cell_type": "code",
   "execution_count": 40,
   "metadata": {},
   "outputs": [
    {
     "name": "stdout",
     "output_type": "stream",
     "text": [
      "Дальнейшие расчёты ведутся без удаления нулей!\n"
     ]
    }
   ],
   "source": [
    "#Удаление нулевых строк длительности разговоров и интернет трафика\n",
    "delete = 0 # Флаг для удаления нулевых строк, если 1 удаляем, если 0 оставляем как есть\n",
    "\n",
    "if delete: #Проверяем нужно ли удалять нули\n",
    "    for dataset_name, column_name in zip(['calls', 'internet'], ['duration', 'mb_used']):\n",
    "\n",
    "        print('Датасет:', dataset_name) #Печатаем число нулевых строк и датасет\n",
    "        print(\"Число нулевых строк:\", \n",
    "              len(df_dict[dataset_name].loc[df_dict[dataset_name][column_name] == 0]))\n",
    "        \n",
    "        #Оставляем только не нулевые строки\n",
    "        df_dict[dataset_name] = \\\n",
    "            df_dict[dataset_name].loc[df_dict[dataset_name][column_name] != 0]\n",
    "\n",
    "        print(\"Осталось нулевых строк:\",  #Делаем проверку результата\n",
    "              len(df_dict[dataset_name].loc[df_dict[dataset_name][column_name] == 0]))\n",
    "        print('-' * 20)\n",
    "else:\n",
    "    print('Дальнейшие расчёты ведутся без удаления нулей!')"
   ]
  },
  {
   "cell_type": "markdown",
   "metadata": {},
   "source": [
    "### Расчёты\n",
    "Для каждого пользователя необходимо расчитать:\n",
    "- количество сделанных звонков и израсходованных минут разговора по месяцам;\n",
    "- количество отправленных сообщений по месяцам;\n",
    "- объем израсходованного интернет-трафика по месяцам;\n",
    "- помесячную выручку с каждого пользователя (вычитаем бесплатный лимит из суммарного количества звонков, сообщений и интернет-трафика; остаток умножаем на значение из тарифного плана; прибавляем абонентскую плату, соответствующую тарифному плану)."
   ]
  },
  {
   "cell_type": "code",
   "execution_count": 41,
   "metadata": {
    "scrolled": true
   },
   "outputs": [
    {
     "name": "stdout",
     "output_type": "stream",
     "text": [
      "minutes_month\n"
     ]
    },
    {
     "data": {
      "text/html": [
       "<div>\n",
       "<style scoped>\n",
       "    .dataframe tbody tr th:only-of-type {\n",
       "        vertical-align: middle;\n",
       "    }\n",
       "\n",
       "    .dataframe tbody tr th {\n",
       "        vertical-align: top;\n",
       "    }\n",
       "\n",
       "    .dataframe thead th {\n",
       "        text-align: right;\n",
       "    }\n",
       "</style>\n",
       "<table border=\"1\" class=\"dataframe\">\n",
       "  <thead>\n",
       "    <tr style=\"text-align: right;\">\n",
       "      <th></th>\n",
       "      <th>1</th>\n",
       "      <th>2</th>\n",
       "      <th>3</th>\n",
       "      <th>4</th>\n",
       "      <th>5</th>\n",
       "      <th>6</th>\n",
       "      <th>7</th>\n",
       "      <th>8</th>\n",
       "      <th>9</th>\n",
       "      <th>10</th>\n",
       "      <th>11</th>\n",
       "      <th>12</th>\n",
       "    </tr>\n",
       "    <tr>\n",
       "      <th>user_id</th>\n",
       "      <th></th>\n",
       "      <th></th>\n",
       "      <th></th>\n",
       "      <th></th>\n",
       "      <th></th>\n",
       "      <th></th>\n",
       "      <th></th>\n",
       "      <th></th>\n",
       "      <th></th>\n",
       "      <th></th>\n",
       "      <th></th>\n",
       "      <th></th>\n",
       "    </tr>\n",
       "  </thead>\n",
       "  <tbody>\n",
       "    <tr>\n",
       "      <td>1000</td>\n",
       "      <td>NaN</td>\n",
       "      <td>NaN</td>\n",
       "      <td>NaN</td>\n",
       "      <td>NaN</td>\n",
       "      <td>159.0</td>\n",
       "      <td>172.0</td>\n",
       "      <td>340.0</td>\n",
       "      <td>408.0</td>\n",
       "      <td>466.0</td>\n",
       "      <td>350.0</td>\n",
       "      <td>338.0</td>\n",
       "      <td>333.0</td>\n",
       "    </tr>\n",
       "    <tr>\n",
       "      <td>1001</td>\n",
       "      <td>NaN</td>\n",
       "      <td>NaN</td>\n",
       "      <td>NaN</td>\n",
       "      <td>NaN</td>\n",
       "      <td>NaN</td>\n",
       "      <td>NaN</td>\n",
       "      <td>NaN</td>\n",
       "      <td>NaN</td>\n",
       "      <td>NaN</td>\n",
       "      <td>NaN</td>\n",
       "      <td>430.0</td>\n",
       "      <td>414.0</td>\n",
       "    </tr>\n",
       "    <tr>\n",
       "      <td>1002</td>\n",
       "      <td>NaN</td>\n",
       "      <td>NaN</td>\n",
       "      <td>NaN</td>\n",
       "      <td>NaN</td>\n",
       "      <td>NaN</td>\n",
       "      <td>117.0</td>\n",
       "      <td>214.0</td>\n",
       "      <td>289.0</td>\n",
       "      <td>206.0</td>\n",
       "      <td>212.0</td>\n",
       "      <td>243.0</td>\n",
       "      <td>236.0</td>\n",
       "    </tr>\n",
       "    <tr>\n",
       "      <td>1003</td>\n",
       "      <td>NaN</td>\n",
       "      <td>NaN</td>\n",
       "      <td>NaN</td>\n",
       "      <td>NaN</td>\n",
       "      <td>NaN</td>\n",
       "      <td>NaN</td>\n",
       "      <td>NaN</td>\n",
       "      <td>380.0</td>\n",
       "      <td>961.0</td>\n",
       "      <td>855.0</td>\n",
       "      <td>824.0</td>\n",
       "      <td>802.0</td>\n",
       "    </tr>\n",
       "    <tr>\n",
       "      <td>1004</td>\n",
       "      <td>NaN</td>\n",
       "      <td>NaN</td>\n",
       "      <td>NaN</td>\n",
       "      <td>NaN</td>\n",
       "      <td>35.0</td>\n",
       "      <td>171.0</td>\n",
       "      <td>135.0</td>\n",
       "      <td>137.0</td>\n",
       "      <td>117.0</td>\n",
       "      <td>145.0</td>\n",
       "      <td>117.0</td>\n",
       "      <td>130.0</td>\n",
       "    </tr>\n",
       "  </tbody>\n",
       "</table>\n",
       "</div>"
      ],
      "text/plain": [
       "         1   2   3   4      5      6      7      8      9      10     11  \\\n",
       "user_id                                                                    \n",
       "1000    NaN NaN NaN NaN  159.0  172.0  340.0  408.0  466.0  350.0  338.0   \n",
       "1001    NaN NaN NaN NaN    NaN    NaN    NaN    NaN    NaN    NaN  430.0   \n",
       "1002    NaN NaN NaN NaN    NaN  117.0  214.0  289.0  206.0  212.0  243.0   \n",
       "1003    NaN NaN NaN NaN    NaN    NaN    NaN  380.0  961.0  855.0  824.0   \n",
       "1004    NaN NaN NaN NaN   35.0  171.0  135.0  137.0  117.0  145.0  117.0   \n",
       "\n",
       "            12  \n",
       "user_id         \n",
       "1000     333.0  \n",
       "1001     414.0  \n",
       "1002     236.0  \n",
       "1003     802.0  \n",
       "1004     130.0  "
      ]
     },
     "metadata": {},
     "output_type": "display_data"
    },
    {
     "name": "stdout",
     "output_type": "stream",
     "text": [
      "messages_month\n"
     ]
    },
    {
     "data": {
      "text/html": [
       "<div>\n",
       "<style scoped>\n",
       "    .dataframe tbody tr th:only-of-type {\n",
       "        vertical-align: middle;\n",
       "    }\n",
       "\n",
       "    .dataframe tbody tr th {\n",
       "        vertical-align: top;\n",
       "    }\n",
       "\n",
       "    .dataframe thead th {\n",
       "        text-align: right;\n",
       "    }\n",
       "</style>\n",
       "<table border=\"1\" class=\"dataframe\">\n",
       "  <thead>\n",
       "    <tr style=\"text-align: right;\">\n",
       "      <th></th>\n",
       "      <th>1</th>\n",
       "      <th>2</th>\n",
       "      <th>3</th>\n",
       "      <th>4</th>\n",
       "      <th>5</th>\n",
       "      <th>6</th>\n",
       "      <th>7</th>\n",
       "      <th>8</th>\n",
       "      <th>9</th>\n",
       "      <th>10</th>\n",
       "      <th>11</th>\n",
       "      <th>12</th>\n",
       "    </tr>\n",
       "    <tr>\n",
       "      <th>user_id</th>\n",
       "      <th></th>\n",
       "      <th></th>\n",
       "      <th></th>\n",
       "      <th></th>\n",
       "      <th></th>\n",
       "      <th></th>\n",
       "      <th></th>\n",
       "      <th></th>\n",
       "      <th></th>\n",
       "      <th></th>\n",
       "      <th></th>\n",
       "      <th></th>\n",
       "    </tr>\n",
       "  </thead>\n",
       "  <tbody>\n",
       "    <tr>\n",
       "      <td>1000</td>\n",
       "      <td>NaN</td>\n",
       "      <td>NaN</td>\n",
       "      <td>NaN</td>\n",
       "      <td>NaN</td>\n",
       "      <td>22.0</td>\n",
       "      <td>60.0</td>\n",
       "      <td>75.0</td>\n",
       "      <td>81.0</td>\n",
       "      <td>57.0</td>\n",
       "      <td>73.0</td>\n",
       "      <td>58.0</td>\n",
       "      <td>70.0</td>\n",
       "    </tr>\n",
       "    <tr>\n",
       "      <td>1001</td>\n",
       "      <td>NaN</td>\n",
       "      <td>NaN</td>\n",
       "      <td>NaN</td>\n",
       "      <td>NaN</td>\n",
       "      <td>NaN</td>\n",
       "      <td>NaN</td>\n",
       "      <td>NaN</td>\n",
       "      <td>NaN</td>\n",
       "      <td>NaN</td>\n",
       "      <td>NaN</td>\n",
       "      <td>NaN</td>\n",
       "      <td>NaN</td>\n",
       "    </tr>\n",
       "    <tr>\n",
       "      <td>1002</td>\n",
       "      <td>NaN</td>\n",
       "      <td>NaN</td>\n",
       "      <td>NaN</td>\n",
       "      <td>NaN</td>\n",
       "      <td>NaN</td>\n",
       "      <td>4.0</td>\n",
       "      <td>11.0</td>\n",
       "      <td>13.0</td>\n",
       "      <td>4.0</td>\n",
       "      <td>10.0</td>\n",
       "      <td>16.0</td>\n",
       "      <td>12.0</td>\n",
       "    </tr>\n",
       "    <tr>\n",
       "      <td>1003</td>\n",
       "      <td>NaN</td>\n",
       "      <td>NaN</td>\n",
       "      <td>NaN</td>\n",
       "      <td>NaN</td>\n",
       "      <td>NaN</td>\n",
       "      <td>NaN</td>\n",
       "      <td>NaN</td>\n",
       "      <td>37.0</td>\n",
       "      <td>91.0</td>\n",
       "      <td>83.0</td>\n",
       "      <td>94.0</td>\n",
       "      <td>75.0</td>\n",
       "    </tr>\n",
       "    <tr>\n",
       "      <td>1004</td>\n",
       "      <td>NaN</td>\n",
       "      <td>NaN</td>\n",
       "      <td>NaN</td>\n",
       "      <td>NaN</td>\n",
       "      <td>95.0</td>\n",
       "      <td>134.0</td>\n",
       "      <td>181.0</td>\n",
       "      <td>151.0</td>\n",
       "      <td>146.0</td>\n",
       "      <td>165.0</td>\n",
       "      <td>158.0</td>\n",
       "      <td>162.0</td>\n",
       "    </tr>\n",
       "  </tbody>\n",
       "</table>\n",
       "</div>"
      ],
      "text/plain": [
       "         1   2   3   4     5      6      7      8      9      10     11     12\n",
       "user_id                                                                       \n",
       "1000    NaN NaN NaN NaN  22.0   60.0   75.0   81.0   57.0   73.0   58.0   70.0\n",
       "1001    NaN NaN NaN NaN   NaN    NaN    NaN    NaN    NaN    NaN    NaN    NaN\n",
       "1002    NaN NaN NaN NaN   NaN    4.0   11.0   13.0    4.0   10.0   16.0   12.0\n",
       "1003    NaN NaN NaN NaN   NaN    NaN    NaN   37.0   91.0   83.0   94.0   75.0\n",
       "1004    NaN NaN NaN NaN  95.0  134.0  181.0  151.0  146.0  165.0  158.0  162.0"
      ]
     },
     "metadata": {},
     "output_type": "display_data"
    },
    {
     "name": "stdout",
     "output_type": "stream",
     "text": [
      "gb_month\n"
     ]
    },
    {
     "data": {
      "text/html": [
       "<div>\n",
       "<style scoped>\n",
       "    .dataframe tbody tr th:only-of-type {\n",
       "        vertical-align: middle;\n",
       "    }\n",
       "\n",
       "    .dataframe tbody tr th {\n",
       "        vertical-align: top;\n",
       "    }\n",
       "\n",
       "    .dataframe thead th {\n",
       "        text-align: right;\n",
       "    }\n",
       "</style>\n",
       "<table border=\"1\" class=\"dataframe\">\n",
       "  <thead>\n",
       "    <tr style=\"text-align: right;\">\n",
       "      <th></th>\n",
       "      <th>1</th>\n",
       "      <th>2</th>\n",
       "      <th>3</th>\n",
       "      <th>4</th>\n",
       "      <th>5</th>\n",
       "      <th>6</th>\n",
       "      <th>7</th>\n",
       "      <th>8</th>\n",
       "      <th>9</th>\n",
       "      <th>10</th>\n",
       "      <th>11</th>\n",
       "      <th>12</th>\n",
       "    </tr>\n",
       "    <tr>\n",
       "      <th>user_id</th>\n",
       "      <th></th>\n",
       "      <th></th>\n",
       "      <th></th>\n",
       "      <th></th>\n",
       "      <th></th>\n",
       "      <th></th>\n",
       "      <th></th>\n",
       "      <th></th>\n",
       "      <th></th>\n",
       "      <th></th>\n",
       "      <th></th>\n",
       "      <th></th>\n",
       "    </tr>\n",
       "  </thead>\n",
       "  <tbody>\n",
       "    <tr>\n",
       "      <td>1000</td>\n",
       "      <td>NaN</td>\n",
       "      <td>NaN</td>\n",
       "      <td>NaN</td>\n",
       "      <td>NaN</td>\n",
       "      <td>2253.49</td>\n",
       "      <td>23233.77</td>\n",
       "      <td>14003.64</td>\n",
       "      <td>14055.93</td>\n",
       "      <td>14568.91</td>\n",
       "      <td>14702.49</td>\n",
       "      <td>14756.47</td>\n",
       "      <td>9817.61</td>\n",
       "    </tr>\n",
       "    <tr>\n",
       "      <td>1001</td>\n",
       "      <td>NaN</td>\n",
       "      <td>NaN</td>\n",
       "      <td>NaN</td>\n",
       "      <td>NaN</td>\n",
       "      <td>NaN</td>\n",
       "      <td>NaN</td>\n",
       "      <td>NaN</td>\n",
       "      <td>NaN</td>\n",
       "      <td>NaN</td>\n",
       "      <td>NaN</td>\n",
       "      <td>18429.34</td>\n",
       "      <td>14036.66</td>\n",
       "    </tr>\n",
       "    <tr>\n",
       "      <td>1002</td>\n",
       "      <td>NaN</td>\n",
       "      <td>NaN</td>\n",
       "      <td>NaN</td>\n",
       "      <td>NaN</td>\n",
       "      <td>NaN</td>\n",
       "      <td>10856.82</td>\n",
       "      <td>17580.10</td>\n",
       "      <td>20319.26</td>\n",
       "      <td>16691.08</td>\n",
       "      <td>13888.25</td>\n",
       "      <td>18587.28</td>\n",
       "      <td>18113.73</td>\n",
       "    </tr>\n",
       "    <tr>\n",
       "      <td>1003</td>\n",
       "      <td>NaN</td>\n",
       "      <td>NaN</td>\n",
       "      <td>NaN</td>\n",
       "      <td>NaN</td>\n",
       "      <td>NaN</td>\n",
       "      <td>NaN</td>\n",
       "      <td>NaN</td>\n",
       "      <td>8565.21</td>\n",
       "      <td>12468.87</td>\n",
       "      <td>14768.14</td>\n",
       "      <td>11356.89</td>\n",
       "      <td>10121.53</td>\n",
       "    </tr>\n",
       "    <tr>\n",
       "      <td>1004</td>\n",
       "      <td>NaN</td>\n",
       "      <td>NaN</td>\n",
       "      <td>NaN</td>\n",
       "      <td>NaN</td>\n",
       "      <td>13403.98</td>\n",
       "      <td>17600.02</td>\n",
       "      <td>22229.58</td>\n",
       "      <td>28584.37</td>\n",
       "      <td>15109.03</td>\n",
       "      <td>18475.44</td>\n",
       "      <td>15616.02</td>\n",
       "      <td>18021.04</td>\n",
       "    </tr>\n",
       "  </tbody>\n",
       "</table>\n",
       "</div>"
      ],
      "text/plain": [
       "         1   2   3   4         5         6         7         8         9   \\\n",
       "user_id                                                                     \n",
       "1000    NaN NaN NaN NaN   2253.49  23233.77  14003.64  14055.93  14568.91   \n",
       "1001    NaN NaN NaN NaN       NaN       NaN       NaN       NaN       NaN   \n",
       "1002    NaN NaN NaN NaN       NaN  10856.82  17580.10  20319.26  16691.08   \n",
       "1003    NaN NaN NaN NaN       NaN       NaN       NaN   8565.21  12468.87   \n",
       "1004    NaN NaN NaN NaN  13403.98  17600.02  22229.58  28584.37  15109.03   \n",
       "\n",
       "               10        11        12  \n",
       "user_id                                \n",
       "1000     14702.49  14756.47   9817.61  \n",
       "1001          NaN  18429.34  14036.66  \n",
       "1002     13888.25  18587.28  18113.73  \n",
       "1003     14768.14  11356.89  10121.53  \n",
       "1004     18475.44  15616.02  18021.04  "
      ]
     },
     "metadata": {},
     "output_type": "display_data"
    }
   ],
   "source": [
    "#Подсчитаем сумму потраченых минут разговора, сумму потраченых мегабайт \n",
    "#и число сообщений по месяцам для каждого абонента\n",
    "\n",
    "#Создадим словарь для хранения датасетов\n",
    "df_counts = {}\n",
    "\n",
    "for dict_key, dataset_name, datafield_name, column_name, func_name in zip(\n",
    "    ['minutes_month', 'messages_month', 'gb_month'], #Имена новых датасетов\n",
    "    ['calls', 'messages', 'internet'], #Имена датасетов откуда берутся данные\n",
    "    ['call_date', 'message_date', 'session_date'], #Имена полей для группировки по месяцам\n",
    "    ['duration', 'id', 'mb_used'], #Имена полей для расчёта\n",
    "    ['sum', 'count', 'sum']): #Применяемые функции\n",
    "    \n",
    "    #Создаем временный датафрейм со всеми абонентами в качестве индексов и месяцами в качестве столбцов\n",
    "    #В него будем добавлять результаты группировок, а потом этот датафрейм бодем добавлять в словарь\n",
    "    #Так все датафреймы будут одинаковой размерности и с ними легко будет работать при расчете выручки\n",
    "    temp_df = pd.DataFrame(index=df_dict['users']['user_id'])\n",
    "    \n",
    "    \n",
    "    #Группируем по месяцам и добавляем во временный датафрейм.\n",
    "    temp_df = temp_df.merge(df_dict[dataset_name].pivot_table(index='user_id', \n",
    "                                columns=df_dict[dataset_name][datafield_name].dt.month, \n",
    "                                values=column_name, aggfunc=func_name),\n",
    "                on='user_id', how='outer')\n",
    "    \n",
    "    #Добавляем полученный датафрейм в словарь\n",
    "    df_counts[dict_key] = temp_df\n",
    "    \n",
    "    #Выводим на экран первые строки для проверки\n",
    "    print(dict_key)\n",
    "    display(df_counts[dict_key].head())"
   ]
  },
  {
   "cell_type": "markdown",
   "metadata": {},
   "source": [
    "На всякий случай проверим строки для [абонентов](#empty_users) которые не совершили какие-то действия\n",
    "- 1091 - никогда не звонил\n",
    "- 1001 - не отправлял смс\n",
    "- 1273 - не выходил в интернет\n",
    "- 1371 - не совершил ни одного действия"
   ]
  },
  {
   "cell_type": "code",
   "execution_count": 42,
   "metadata": {
    "scrolled": true
   },
   "outputs": [
    {
     "name": "stdout",
     "output_type": "stream",
     "text": [
      "minutes_month\n"
     ]
    },
    {
     "data": {
      "text/html": [
       "<div>\n",
       "<style scoped>\n",
       "    .dataframe tbody tr th:only-of-type {\n",
       "        vertical-align: middle;\n",
       "    }\n",
       "\n",
       "    .dataframe tbody tr th {\n",
       "        vertical-align: top;\n",
       "    }\n",
       "\n",
       "    .dataframe thead th {\n",
       "        text-align: right;\n",
       "    }\n",
       "</style>\n",
       "<table border=\"1\" class=\"dataframe\">\n",
       "  <thead>\n",
       "    <tr style=\"text-align: right;\">\n",
       "      <th></th>\n",
       "      <th>1</th>\n",
       "      <th>2</th>\n",
       "      <th>3</th>\n",
       "      <th>4</th>\n",
       "      <th>5</th>\n",
       "      <th>6</th>\n",
       "      <th>7</th>\n",
       "      <th>8</th>\n",
       "      <th>9</th>\n",
       "      <th>10</th>\n",
       "      <th>11</th>\n",
       "      <th>12</th>\n",
       "    </tr>\n",
       "    <tr>\n",
       "      <th>user_id</th>\n",
       "      <th></th>\n",
       "      <th></th>\n",
       "      <th></th>\n",
       "      <th></th>\n",
       "      <th></th>\n",
       "      <th></th>\n",
       "      <th></th>\n",
       "      <th></th>\n",
       "      <th></th>\n",
       "      <th></th>\n",
       "      <th></th>\n",
       "      <th></th>\n",
       "    </tr>\n",
       "  </thead>\n",
       "  <tbody>\n",
       "    <tr>\n",
       "      <td>1001</td>\n",
       "      <td>NaN</td>\n",
       "      <td>NaN</td>\n",
       "      <td>NaN</td>\n",
       "      <td>NaN</td>\n",
       "      <td>NaN</td>\n",
       "      <td>NaN</td>\n",
       "      <td>NaN</td>\n",
       "      <td>NaN</td>\n",
       "      <td>NaN</td>\n",
       "      <td>NaN</td>\n",
       "      <td>430.0</td>\n",
       "      <td>414.0</td>\n",
       "    </tr>\n",
       "    <tr>\n",
       "      <td>1091</td>\n",
       "      <td>NaN</td>\n",
       "      <td>NaN</td>\n",
       "      <td>NaN</td>\n",
       "      <td>NaN</td>\n",
       "      <td>NaN</td>\n",
       "      <td>NaN</td>\n",
       "      <td>NaN</td>\n",
       "      <td>NaN</td>\n",
       "      <td>NaN</td>\n",
       "      <td>NaN</td>\n",
       "      <td>NaN</td>\n",
       "      <td>NaN</td>\n",
       "    </tr>\n",
       "    <tr>\n",
       "      <td>1273</td>\n",
       "      <td>NaN</td>\n",
       "      <td>NaN</td>\n",
       "      <td>NaN</td>\n",
       "      <td>NaN</td>\n",
       "      <td>220.0</td>\n",
       "      <td>230.0</td>\n",
       "      <td>253.0</td>\n",
       "      <td>253.0</td>\n",
       "      <td>223.0</td>\n",
       "      <td>315.0</td>\n",
       "      <td>272.0</td>\n",
       "      <td>260.0</td>\n",
       "    </tr>\n",
       "    <tr>\n",
       "      <td>1371</td>\n",
       "      <td>NaN</td>\n",
       "      <td>NaN</td>\n",
       "      <td>NaN</td>\n",
       "      <td>NaN</td>\n",
       "      <td>NaN</td>\n",
       "      <td>NaN</td>\n",
       "      <td>NaN</td>\n",
       "      <td>NaN</td>\n",
       "      <td>NaN</td>\n",
       "      <td>NaN</td>\n",
       "      <td>NaN</td>\n",
       "      <td>NaN</td>\n",
       "    </tr>\n",
       "  </tbody>\n",
       "</table>\n",
       "</div>"
      ],
      "text/plain": [
       "         1   2   3   4      5      6      7      8      9      10     11  \\\n",
       "user_id                                                                    \n",
       "1001    NaN NaN NaN NaN    NaN    NaN    NaN    NaN    NaN    NaN  430.0   \n",
       "1091    NaN NaN NaN NaN    NaN    NaN    NaN    NaN    NaN    NaN    NaN   \n",
       "1273    NaN NaN NaN NaN  220.0  230.0  253.0  253.0  223.0  315.0  272.0   \n",
       "1371    NaN NaN NaN NaN    NaN    NaN    NaN    NaN    NaN    NaN    NaN   \n",
       "\n",
       "            12  \n",
       "user_id         \n",
       "1001     414.0  \n",
       "1091       NaN  \n",
       "1273     260.0  \n",
       "1371       NaN  "
      ]
     },
     "metadata": {},
     "output_type": "display_data"
    },
    {
     "name": "stdout",
     "output_type": "stream",
     "text": [
      "messages_month\n"
     ]
    },
    {
     "data": {
      "text/html": [
       "<div>\n",
       "<style scoped>\n",
       "    .dataframe tbody tr th:only-of-type {\n",
       "        vertical-align: middle;\n",
       "    }\n",
       "\n",
       "    .dataframe tbody tr th {\n",
       "        vertical-align: top;\n",
       "    }\n",
       "\n",
       "    .dataframe thead th {\n",
       "        text-align: right;\n",
       "    }\n",
       "</style>\n",
       "<table border=\"1\" class=\"dataframe\">\n",
       "  <thead>\n",
       "    <tr style=\"text-align: right;\">\n",
       "      <th></th>\n",
       "      <th>1</th>\n",
       "      <th>2</th>\n",
       "      <th>3</th>\n",
       "      <th>4</th>\n",
       "      <th>5</th>\n",
       "      <th>6</th>\n",
       "      <th>7</th>\n",
       "      <th>8</th>\n",
       "      <th>9</th>\n",
       "      <th>10</th>\n",
       "      <th>11</th>\n",
       "      <th>12</th>\n",
       "    </tr>\n",
       "    <tr>\n",
       "      <th>user_id</th>\n",
       "      <th></th>\n",
       "      <th></th>\n",
       "      <th></th>\n",
       "      <th></th>\n",
       "      <th></th>\n",
       "      <th></th>\n",
       "      <th></th>\n",
       "      <th></th>\n",
       "      <th></th>\n",
       "      <th></th>\n",
       "      <th></th>\n",
       "      <th></th>\n",
       "    </tr>\n",
       "  </thead>\n",
       "  <tbody>\n",
       "    <tr>\n",
       "      <td>1001</td>\n",
       "      <td>NaN</td>\n",
       "      <td>NaN</td>\n",
       "      <td>NaN</td>\n",
       "      <td>NaN</td>\n",
       "      <td>NaN</td>\n",
       "      <td>NaN</td>\n",
       "      <td>NaN</td>\n",
       "      <td>NaN</td>\n",
       "      <td>NaN</td>\n",
       "      <td>NaN</td>\n",
       "      <td>NaN</td>\n",
       "      <td>NaN</td>\n",
       "    </tr>\n",
       "    <tr>\n",
       "      <td>1091</td>\n",
       "      <td>NaN</td>\n",
       "      <td>NaN</td>\n",
       "      <td>NaN</td>\n",
       "      <td>NaN</td>\n",
       "      <td>30.0</td>\n",
       "      <td>30.0</td>\n",
       "      <td>35.0</td>\n",
       "      <td>31.0</td>\n",
       "      <td>32.0</td>\n",
       "      <td>44.0</td>\n",
       "      <td>28.0</td>\n",
       "      <td>42.0</td>\n",
       "    </tr>\n",
       "    <tr>\n",
       "      <td>1273</td>\n",
       "      <td>NaN</td>\n",
       "      <td>NaN</td>\n",
       "      <td>NaN</td>\n",
       "      <td>NaN</td>\n",
       "      <td>21.0</td>\n",
       "      <td>38.0</td>\n",
       "      <td>37.0</td>\n",
       "      <td>41.0</td>\n",
       "      <td>32.0</td>\n",
       "      <td>35.0</td>\n",
       "      <td>29.0</td>\n",
       "      <td>39.0</td>\n",
       "    </tr>\n",
       "    <tr>\n",
       "      <td>1371</td>\n",
       "      <td>NaN</td>\n",
       "      <td>NaN</td>\n",
       "      <td>NaN</td>\n",
       "      <td>NaN</td>\n",
       "      <td>NaN</td>\n",
       "      <td>NaN</td>\n",
       "      <td>NaN</td>\n",
       "      <td>NaN</td>\n",
       "      <td>NaN</td>\n",
       "      <td>NaN</td>\n",
       "      <td>NaN</td>\n",
       "      <td>NaN</td>\n",
       "    </tr>\n",
       "  </tbody>\n",
       "</table>\n",
       "</div>"
      ],
      "text/plain": [
       "         1   2   3   4     5     6     7     8     9     10    11    12\n",
       "user_id                                                                \n",
       "1001    NaN NaN NaN NaN   NaN   NaN   NaN   NaN   NaN   NaN   NaN   NaN\n",
       "1091    NaN NaN NaN NaN  30.0  30.0  35.0  31.0  32.0  44.0  28.0  42.0\n",
       "1273    NaN NaN NaN NaN  21.0  38.0  37.0  41.0  32.0  35.0  29.0  39.0\n",
       "1371    NaN NaN NaN NaN   NaN   NaN   NaN   NaN   NaN   NaN   NaN   NaN"
      ]
     },
     "metadata": {},
     "output_type": "display_data"
    },
    {
     "name": "stdout",
     "output_type": "stream",
     "text": [
      "gb_month\n"
     ]
    },
    {
     "data": {
      "text/html": [
       "<div>\n",
       "<style scoped>\n",
       "    .dataframe tbody tr th:only-of-type {\n",
       "        vertical-align: middle;\n",
       "    }\n",
       "\n",
       "    .dataframe tbody tr th {\n",
       "        vertical-align: top;\n",
       "    }\n",
       "\n",
       "    .dataframe thead th {\n",
       "        text-align: right;\n",
       "    }\n",
       "</style>\n",
       "<table border=\"1\" class=\"dataframe\">\n",
       "  <thead>\n",
       "    <tr style=\"text-align: right;\">\n",
       "      <th></th>\n",
       "      <th>1</th>\n",
       "      <th>2</th>\n",
       "      <th>3</th>\n",
       "      <th>4</th>\n",
       "      <th>5</th>\n",
       "      <th>6</th>\n",
       "      <th>7</th>\n",
       "      <th>8</th>\n",
       "      <th>9</th>\n",
       "      <th>10</th>\n",
       "      <th>11</th>\n",
       "      <th>12</th>\n",
       "    </tr>\n",
       "    <tr>\n",
       "      <th>user_id</th>\n",
       "      <th></th>\n",
       "      <th></th>\n",
       "      <th></th>\n",
       "      <th></th>\n",
       "      <th></th>\n",
       "      <th></th>\n",
       "      <th></th>\n",
       "      <th></th>\n",
       "      <th></th>\n",
       "      <th></th>\n",
       "      <th></th>\n",
       "      <th></th>\n",
       "    </tr>\n",
       "  </thead>\n",
       "  <tbody>\n",
       "    <tr>\n",
       "      <td>1001</td>\n",
       "      <td>NaN</td>\n",
       "      <td>NaN</td>\n",
       "      <td>NaN</td>\n",
       "      <td>NaN</td>\n",
       "      <td>NaN</td>\n",
       "      <td>NaN</td>\n",
       "      <td>NaN</td>\n",
       "      <td>NaN</td>\n",
       "      <td>NaN</td>\n",
       "      <td>NaN</td>\n",
       "      <td>18429.34</td>\n",
       "      <td>14036.66</td>\n",
       "    </tr>\n",
       "    <tr>\n",
       "      <td>1091</td>\n",
       "      <td>NaN</td>\n",
       "      <td>NaN</td>\n",
       "      <td>NaN</td>\n",
       "      <td>NaN</td>\n",
       "      <td>10703.37</td>\n",
       "      <td>10236.19</td>\n",
       "      <td>16444.98</td>\n",
       "      <td>12633.88</td>\n",
       "      <td>16597.11</td>\n",
       "      <td>15644.73</td>\n",
       "      <td>11864.25</td>\n",
       "      <td>13280.45</td>\n",
       "    </tr>\n",
       "    <tr>\n",
       "      <td>1273</td>\n",
       "      <td>NaN</td>\n",
       "      <td>NaN</td>\n",
       "      <td>NaN</td>\n",
       "      <td>NaN</td>\n",
       "      <td>NaN</td>\n",
       "      <td>NaN</td>\n",
       "      <td>NaN</td>\n",
       "      <td>NaN</td>\n",
       "      <td>NaN</td>\n",
       "      <td>NaN</td>\n",
       "      <td>NaN</td>\n",
       "      <td>NaN</td>\n",
       "    </tr>\n",
       "    <tr>\n",
       "      <td>1371</td>\n",
       "      <td>NaN</td>\n",
       "      <td>NaN</td>\n",
       "      <td>NaN</td>\n",
       "      <td>NaN</td>\n",
       "      <td>NaN</td>\n",
       "      <td>NaN</td>\n",
       "      <td>NaN</td>\n",
       "      <td>NaN</td>\n",
       "      <td>NaN</td>\n",
       "      <td>NaN</td>\n",
       "      <td>NaN</td>\n",
       "      <td>NaN</td>\n",
       "    </tr>\n",
       "  </tbody>\n",
       "</table>\n",
       "</div>"
      ],
      "text/plain": [
       "         1   2   3   4         5         6         7         8         9   \\\n",
       "user_id                                                                     \n",
       "1001    NaN NaN NaN NaN       NaN       NaN       NaN       NaN       NaN   \n",
       "1091    NaN NaN NaN NaN  10703.37  10236.19  16444.98  12633.88  16597.11   \n",
       "1273    NaN NaN NaN NaN       NaN       NaN       NaN       NaN       NaN   \n",
       "1371    NaN NaN NaN NaN       NaN       NaN       NaN       NaN       NaN   \n",
       "\n",
       "               10        11        12  \n",
       "user_id                                \n",
       "1001          NaN  18429.34  14036.66  \n",
       "1091     15644.73  11864.25  13280.45  \n",
       "1273          NaN       NaN       NaN  \n",
       "1371          NaN       NaN       NaN  "
      ]
     },
     "metadata": {},
     "output_type": "display_data"
    }
   ],
   "source": [
    "#Выведем строки для соответвующих абонентов и проверим, что все верно\n",
    "for dataset_name in df_counts.keys():\n",
    "    print(dataset_name)\n",
    "    display(df_counts[dataset_name].query('user_id in [1091, 1001, 1273, 1371]'))"
   ]
  },
  {
   "cell_type": "markdown",
   "metadata": {},
   "source": [
    "Да все верно"
   ]
  },
  {
   "cell_type": "code",
   "execution_count": 43,
   "metadata": {
    "scrolled": false
   },
   "outputs": [
    {
     "data": {
      "text/html": [
       "<div>\n",
       "<style scoped>\n",
       "    .dataframe tbody tr th:only-of-type {\n",
       "        vertical-align: middle;\n",
       "    }\n",
       "\n",
       "    .dataframe tbody tr th {\n",
       "        vertical-align: top;\n",
       "    }\n",
       "\n",
       "    .dataframe thead th {\n",
       "        text-align: right;\n",
       "    }\n",
       "</style>\n",
       "<table border=\"1\" class=\"dataframe\">\n",
       "  <thead>\n",
       "    <tr style=\"text-align: right;\">\n",
       "      <th></th>\n",
       "      <th>1</th>\n",
       "      <th>2</th>\n",
       "      <th>3</th>\n",
       "      <th>4</th>\n",
       "      <th>5</th>\n",
       "      <th>6</th>\n",
       "      <th>7</th>\n",
       "      <th>8</th>\n",
       "      <th>9</th>\n",
       "      <th>10</th>\n",
       "      <th>11</th>\n",
       "      <th>12</th>\n",
       "    </tr>\n",
       "    <tr>\n",
       "      <th>user_id</th>\n",
       "      <th></th>\n",
       "      <th></th>\n",
       "      <th></th>\n",
       "      <th></th>\n",
       "      <th></th>\n",
       "      <th></th>\n",
       "      <th></th>\n",
       "      <th></th>\n",
       "      <th></th>\n",
       "      <th></th>\n",
       "      <th></th>\n",
       "      <th></th>\n",
       "    </tr>\n",
       "  </thead>\n",
       "  <tbody>\n",
       "    <tr>\n",
       "      <td>1000</td>\n",
       "      <td>NaN</td>\n",
       "      <td>NaN</td>\n",
       "      <td>NaN</td>\n",
       "      <td>NaN</td>\n",
       "      <td>3.0</td>\n",
       "      <td>23.0</td>\n",
       "      <td>14.0</td>\n",
       "      <td>14.0</td>\n",
       "      <td>15.0</td>\n",
       "      <td>15.0</td>\n",
       "      <td>15.0</td>\n",
       "      <td>10.0</td>\n",
       "    </tr>\n",
       "    <tr>\n",
       "      <td>1001</td>\n",
       "      <td>NaN</td>\n",
       "      <td>NaN</td>\n",
       "      <td>NaN</td>\n",
       "      <td>NaN</td>\n",
       "      <td>NaN</td>\n",
       "      <td>NaN</td>\n",
       "      <td>NaN</td>\n",
       "      <td>NaN</td>\n",
       "      <td>NaN</td>\n",
       "      <td>NaN</td>\n",
       "      <td>18.0</td>\n",
       "      <td>14.0</td>\n",
       "    </tr>\n",
       "    <tr>\n",
       "      <td>1002</td>\n",
       "      <td>NaN</td>\n",
       "      <td>NaN</td>\n",
       "      <td>NaN</td>\n",
       "      <td>NaN</td>\n",
       "      <td>NaN</td>\n",
       "      <td>11.0</td>\n",
       "      <td>18.0</td>\n",
       "      <td>20.0</td>\n",
       "      <td>17.0</td>\n",
       "      <td>14.0</td>\n",
       "      <td>19.0</td>\n",
       "      <td>18.0</td>\n",
       "    </tr>\n",
       "  </tbody>\n",
       "</table>\n",
       "</div>"
      ],
      "text/plain": [
       "         1   2   3   4    5     6     7     8     9     10    11    12\n",
       "user_id                                                               \n",
       "1000    NaN NaN NaN NaN  3.0  23.0  14.0  14.0  15.0  15.0  15.0  10.0\n",
       "1001    NaN NaN NaN NaN  NaN   NaN   NaN   NaN   NaN   NaN  18.0  14.0\n",
       "1002    NaN NaN NaN NaN  NaN  11.0  18.0  20.0  17.0  14.0  19.0  18.0"
      ]
     },
     "execution_count": 43,
     "metadata": {},
     "output_type": "execute_result"
    }
   ],
   "source": [
    "#Переведём значения в расчетном датасете интернет трафика gb_month в гигабайты\n",
    "df_counts['gb_month'] = (df_counts['gb_month'] / 1024).apply(np.ceil)\n",
    "df_counts['gb_month'].head(3)"
   ]
  },
  {
   "cell_type": "markdown",
   "metadata": {},
   "source": [
    "Для учёта взымания абонентской платы с пользователей которые не совершали действий в первые месяцы сначала добавим абонентскую плату каждому пользователю"
   ]
  },
  {
   "cell_type": "code",
   "execution_count": 44,
   "metadata": {
    "scrolled": true
   },
   "outputs": [
    {
     "data": {
      "text/html": [
       "<div>\n",
       "<style scoped>\n",
       "    .dataframe tbody tr th:only-of-type {\n",
       "        vertical-align: middle;\n",
       "    }\n",
       "\n",
       "    .dataframe tbody tr th {\n",
       "        vertical-align: top;\n",
       "    }\n",
       "\n",
       "    .dataframe thead th {\n",
       "        text-align: right;\n",
       "    }\n",
       "</style>\n",
       "<table border=\"1\" class=\"dataframe\">\n",
       "  <thead>\n",
       "    <tr style=\"text-align: right;\">\n",
       "      <th></th>\n",
       "      <th>1</th>\n",
       "      <th>2</th>\n",
       "      <th>3</th>\n",
       "      <th>4</th>\n",
       "      <th>5</th>\n",
       "      <th>6</th>\n",
       "      <th>7</th>\n",
       "      <th>8</th>\n",
       "      <th>9</th>\n",
       "      <th>10</th>\n",
       "      <th>11</th>\n",
       "      <th>12</th>\n",
       "    </tr>\n",
       "    <tr>\n",
       "      <th>user_id</th>\n",
       "      <th></th>\n",
       "      <th></th>\n",
       "      <th></th>\n",
       "      <th></th>\n",
       "      <th></th>\n",
       "      <th></th>\n",
       "      <th></th>\n",
       "      <th></th>\n",
       "      <th></th>\n",
       "      <th></th>\n",
       "      <th></th>\n",
       "      <th></th>\n",
       "    </tr>\n",
       "  </thead>\n",
       "  <tbody>\n",
       "    <tr>\n",
       "      <td>1000</td>\n",
       "      <td>NaN</td>\n",
       "      <td>NaN</td>\n",
       "      <td>NaN</td>\n",
       "      <td>NaN</td>\n",
       "      <td>NaN</td>\n",
       "      <td>NaN</td>\n",
       "      <td>NaN</td>\n",
       "      <td>NaN</td>\n",
       "      <td>NaN</td>\n",
       "      <td>NaN</td>\n",
       "      <td>NaN</td>\n",
       "      <td>NaN</td>\n",
       "    </tr>\n",
       "    <tr>\n",
       "      <td>1001</td>\n",
       "      <td>NaN</td>\n",
       "      <td>NaN</td>\n",
       "      <td>NaN</td>\n",
       "      <td>NaN</td>\n",
       "      <td>NaN</td>\n",
       "      <td>NaN</td>\n",
       "      <td>NaN</td>\n",
       "      <td>NaN</td>\n",
       "      <td>NaN</td>\n",
       "      <td>NaN</td>\n",
       "      <td>NaN</td>\n",
       "      <td>NaN</td>\n",
       "    </tr>\n",
       "    <tr>\n",
       "      <td>1002</td>\n",
       "      <td>NaN</td>\n",
       "      <td>NaN</td>\n",
       "      <td>NaN</td>\n",
       "      <td>NaN</td>\n",
       "      <td>NaN</td>\n",
       "      <td>NaN</td>\n",
       "      <td>NaN</td>\n",
       "      <td>NaN</td>\n",
       "      <td>NaN</td>\n",
       "      <td>NaN</td>\n",
       "      <td>NaN</td>\n",
       "      <td>NaN</td>\n",
       "    </tr>\n",
       "  </tbody>\n",
       "</table>\n",
       "</div>"
      ],
      "text/plain": [
       "          1    2    3    4    5    6    7    8    9    10   11   12\n",
       "user_id                                                            \n",
       "1000     NaN  NaN  NaN  NaN  NaN  NaN  NaN  NaN  NaN  NaN  NaN  NaN\n",
       "1001     NaN  NaN  NaN  NaN  NaN  NaN  NaN  NaN  NaN  NaN  NaN  NaN\n",
       "1002     NaN  NaN  NaN  NaN  NaN  NaN  NaN  NaN  NaN  NaN  NaN  NaN"
      ]
     },
     "execution_count": 44,
     "metadata": {},
     "output_type": "execute_result"
    }
   ],
   "source": [
    "#Добавим в словарь с расчётными датафреймами датафрейм для выручки\n",
    "df_counts['income_month'] = pd.DataFrame(index=df_dict['users']['user_id'], columns=[1, 2, 3, 4, 5, 6, 7, 8, 9, 10, 11, 12])\n",
    "df_counts['income_month'].head(3)"
   ]
  },
  {
   "cell_type": "code",
   "execution_count": 45,
   "metadata": {},
   "outputs": [],
   "source": [
    "#Заполним датафрейм выручки значениями абонентской платы по тарифу\n",
    "for index in df_counts['income_month'].index: #Перебераем датасет по строкам\n",
    "    \n",
    "    #Месяц подключения тарифа\n",
    "    first_month = pd.DatetimeIndex(df_dict['users'].query('user_id == @index')['reg_date']).month.values[0]\n",
    "    \n",
    "    #Месяц отключения тарифа\n",
    "    last_month = pd.DatetimeIndex(df_dict['users'].query('user_id == @index')['churn_date']).month.values[0]\n",
    "    \n",
    "    #Наименование тарифа\n",
    "    user_tariff = df_dict['users'].query('user_id == @index')['tariff'].values[0]\n",
    "    \n",
    "    if pd.isnull(last_month): #Если отключения не было, то последний месяц декабрь\n",
    "        last_month = 12\n",
    "    \n",
    "    for i in range(first_month, last_month + 1): #В столбцы использования тарифа добавляем соответсвующую аб. плату\n",
    "        df_counts['income_month'].loc[index, i] = \\\n",
    "            df_dict['tariffs'].loc[df_dict['tariffs']['tariff_name'] == user_tariff, 'rub_monthly_fee'].values[0]\n",
    "    "
   ]
  },
  {
   "cell_type": "code",
   "execution_count": 46,
   "metadata": {},
   "outputs": [
    {
     "data": {
      "text/html": [
       "<div>\n",
       "<style scoped>\n",
       "    .dataframe tbody tr th:only-of-type {\n",
       "        vertical-align: middle;\n",
       "    }\n",
       "\n",
       "    .dataframe tbody tr th {\n",
       "        vertical-align: top;\n",
       "    }\n",
       "\n",
       "    .dataframe thead th {\n",
       "        text-align: right;\n",
       "    }\n",
       "</style>\n",
       "<table border=\"1\" class=\"dataframe\">\n",
       "  <thead>\n",
       "    <tr style=\"text-align: right;\">\n",
       "      <th></th>\n",
       "      <th>1</th>\n",
       "      <th>2</th>\n",
       "      <th>3</th>\n",
       "      <th>4</th>\n",
       "      <th>5</th>\n",
       "      <th>6</th>\n",
       "      <th>7</th>\n",
       "      <th>8</th>\n",
       "      <th>9</th>\n",
       "      <th>10</th>\n",
       "      <th>11</th>\n",
       "      <th>12</th>\n",
       "    </tr>\n",
       "    <tr>\n",
       "      <th>user_id</th>\n",
       "      <th></th>\n",
       "      <th></th>\n",
       "      <th></th>\n",
       "      <th></th>\n",
       "      <th></th>\n",
       "      <th></th>\n",
       "      <th></th>\n",
       "      <th></th>\n",
       "      <th></th>\n",
       "      <th></th>\n",
       "      <th></th>\n",
       "      <th></th>\n",
       "    </tr>\n",
       "  </thead>\n",
       "  <tbody>\n",
       "    <tr>\n",
       "      <td>1000</td>\n",
       "      <td>NaN</td>\n",
       "      <td>NaN</td>\n",
       "      <td>NaN</td>\n",
       "      <td>NaN</td>\n",
       "      <td>1950</td>\n",
       "      <td>1950</td>\n",
       "      <td>1950</td>\n",
       "      <td>1950</td>\n",
       "      <td>1950</td>\n",
       "      <td>1950</td>\n",
       "      <td>1950</td>\n",
       "      <td>1950</td>\n",
       "    </tr>\n",
       "    <tr>\n",
       "      <td>1001</td>\n",
       "      <td>NaN</td>\n",
       "      <td>NaN</td>\n",
       "      <td>NaN</td>\n",
       "      <td>NaN</td>\n",
       "      <td>NaN</td>\n",
       "      <td>NaN</td>\n",
       "      <td>NaN</td>\n",
       "      <td>NaN</td>\n",
       "      <td>NaN</td>\n",
       "      <td>NaN</td>\n",
       "      <td>550</td>\n",
       "      <td>550</td>\n",
       "    </tr>\n",
       "  </tbody>\n",
       "</table>\n",
       "</div>"
      ],
      "text/plain": [
       "          1    2    3    4     5     6     7     8     9     10    11    12\n",
       "user_id                                                                    \n",
       "1000     NaN  NaN  NaN  NaN  1950  1950  1950  1950  1950  1950  1950  1950\n",
       "1001     NaN  NaN  NaN  NaN   NaN   NaN   NaN   NaN   NaN   NaN   550   550"
      ]
     },
     "execution_count": 46,
     "metadata": {},
     "output_type": "execute_result"
    }
   ],
   "source": [
    "df_counts['income_month'].head(2)"
   ]
  },
  {
   "cell_type": "markdown",
   "metadata": {},
   "source": [
    "Расчитаем помесячную выручку с каждого пользователя (вычитаем бесплатный лимит из суммарного количества звонков, сообщений и интернет-трафика; остаток умножаем на значение из тарифного плана; прибавляем все к абонентской плате этого пользователя)."
   ]
  },
  {
   "cell_type": "code",
   "execution_count": 47,
   "metadata": {
    "scrolled": true
   },
   "outputs": [],
   "source": [
    "for tariff_index, tariff_name in zip(df_dict['tariffs'].index, df_dict['tariffs']['tariff_name']): #Цикл по тарифам\n",
    "    \n",
    "    #Формируем список абонентов для каждого тарифа    \n",
    "    tariff_users = df_dict['users'].query('tariff == @tariff_name')['user_id'] \n",
    "    \n",
    "    #Временный датасет для накопления общей суммы платежей по тарифу\n",
    "    tariff_income = pd.DataFrame(index=df_counts['income_month'].index, columns=[1, 2, 3, 4, 5, 6, 7, 8, 9, 10, 11, 12])\n",
    "    \n",
    "    #Перебираем каждый вычесленный датасет: минуты, сообщения, трафик\n",
    "    for counts_dataset, column_included, column_per_unit in zip(list(df_counts.keys())[: -1], \n",
    "                              ['minutes_included', 'messages_included', 'gb_per_month_included'], #включено в тариф\n",
    "                              ['rub_per_minute', 'rub_per_message', 'rub_per_gb']): #единичные расценки\n",
    "        \n",
    "        #Временный датасет для расчётов дохода по каждой услуге\n",
    "        temp_df = pd.DataFrame(index=tariff_users)\n",
    "       \n",
    "        #Заполняем временный датасет данными для этой услуги за вычетом количества указанного в тарифе\n",
    "        #для пользователей данного тарифа\n",
    "        tariff_income = temp_df.merge(df_counts[counts_dataset].query(\"user_id in @tariff_users\") - \\\n",
    "                                df_dict['tariffs'].query('tariff_name == @tariff_name')[column_included][tariff_index],\n",
    "                 on='user_id', how='outer') #Вычитаем положенный по тарифу лимит для данной услуги и объединяем по индексу\n",
    "\n",
    "        #Удаляем отрицательные значения из временного датафрейма\n",
    "        tariff_income = tariff_income.where(tariff_income >= 0, 0) #Все NaN так же заменятся нулями\n",
    "\n",
    "        #Умножаем превышения лимитов по услуге на расценки за единицу согласоно тарифу\n",
    "        tariff_income = tariff_income * df_dict['tariffs'].query('tariff_name == @tariff_name')[column_per_unit][tariff_index]\n",
    "\n",
    "       \n",
    "        #Добавляем стоимость превышения тарифа к общей сумме\n",
    "        df_counts['income_month'].loc[tariff_users] += tariff_income\n"
   ]
  },
  {
   "cell_type": "markdown",
   "metadata": {},
   "source": [
    "Проверим [абонентов](#empty_users) которые не совершили никаких действий: 1128, 1371"
   ]
  },
  {
   "cell_type": "code",
   "execution_count": 48,
   "metadata": {
    "scrolled": true
   },
   "outputs": [
    {
     "data": {
      "text/html": [
       "<div>\n",
       "<style scoped>\n",
       "    .dataframe tbody tr th:only-of-type {\n",
       "        vertical-align: middle;\n",
       "    }\n",
       "\n",
       "    .dataframe tbody tr th {\n",
       "        vertical-align: top;\n",
       "    }\n",
       "\n",
       "    .dataframe thead th {\n",
       "        text-align: right;\n",
       "    }\n",
       "</style>\n",
       "<table border=\"1\" class=\"dataframe\">\n",
       "  <thead>\n",
       "    <tr style=\"text-align: right;\">\n",
       "      <th></th>\n",
       "      <th>user_id</th>\n",
       "      <th>age</th>\n",
       "      <th>churn_date</th>\n",
       "      <th>city</th>\n",
       "      <th>first_name</th>\n",
       "      <th>last_name</th>\n",
       "      <th>reg_date</th>\n",
       "      <th>tariff</th>\n",
       "    </tr>\n",
       "  </thead>\n",
       "  <tbody>\n",
       "    <tr>\n",
       "      <td>128</td>\n",
       "      <td>1128</td>\n",
       "      <td>51</td>\n",
       "      <td>2018-12-23</td>\n",
       "      <td>Волжский</td>\n",
       "      <td>Ксения</td>\n",
       "      <td>Агаева</td>\n",
       "      <td>2018-12-15</td>\n",
       "      <td>ultra</td>\n",
       "    </tr>\n",
       "    <tr>\n",
       "      <td>371</td>\n",
       "      <td>1371</td>\n",
       "      <td>50</td>\n",
       "      <td>2018-12-30</td>\n",
       "      <td>Омск</td>\n",
       "      <td>Ириней</td>\n",
       "      <td>Трофимов</td>\n",
       "      <td>2018-12-25</td>\n",
       "      <td>smart</td>\n",
       "    </tr>\n",
       "  </tbody>\n",
       "</table>\n",
       "</div>"
      ],
      "text/plain": [
       "     user_id  age churn_date      city first_name last_name   reg_date tariff\n",
       "128     1128   51 2018-12-23  Волжский     Ксения    Агаева 2018-12-15  ultra\n",
       "371     1371   50 2018-12-30      Омск     Ириней  Трофимов 2018-12-25  smart"
      ]
     },
     "execution_count": 48,
     "metadata": {},
     "output_type": "execute_result"
    }
   ],
   "source": [
    "df_dict['users'].query('user_id in [1128, 1371]')"
   ]
  },
  {
   "cell_type": "code",
   "execution_count": 49,
   "metadata": {},
   "outputs": [
    {
     "data": {
      "text/html": [
       "<div>\n",
       "<style scoped>\n",
       "    .dataframe tbody tr th:only-of-type {\n",
       "        vertical-align: middle;\n",
       "    }\n",
       "\n",
       "    .dataframe tbody tr th {\n",
       "        vertical-align: top;\n",
       "    }\n",
       "\n",
       "    .dataframe thead th {\n",
       "        text-align: right;\n",
       "    }\n",
       "</style>\n",
       "<table border=\"1\" class=\"dataframe\">\n",
       "  <thead>\n",
       "    <tr style=\"text-align: right;\">\n",
       "      <th></th>\n",
       "      <th>1</th>\n",
       "      <th>2</th>\n",
       "      <th>3</th>\n",
       "      <th>4</th>\n",
       "      <th>5</th>\n",
       "      <th>6</th>\n",
       "      <th>7</th>\n",
       "      <th>8</th>\n",
       "      <th>9</th>\n",
       "      <th>10</th>\n",
       "      <th>11</th>\n",
       "      <th>12</th>\n",
       "    </tr>\n",
       "    <tr>\n",
       "      <th>user_id</th>\n",
       "      <th></th>\n",
       "      <th></th>\n",
       "      <th></th>\n",
       "      <th></th>\n",
       "      <th></th>\n",
       "      <th></th>\n",
       "      <th></th>\n",
       "      <th></th>\n",
       "      <th></th>\n",
       "      <th></th>\n",
       "      <th></th>\n",
       "      <th></th>\n",
       "    </tr>\n",
       "  </thead>\n",
       "  <tbody>\n",
       "    <tr>\n",
       "      <td>1128</td>\n",
       "      <td>NaN</td>\n",
       "      <td>NaN</td>\n",
       "      <td>NaN</td>\n",
       "      <td>NaN</td>\n",
       "      <td>NaN</td>\n",
       "      <td>NaN</td>\n",
       "      <td>NaN</td>\n",
       "      <td>NaN</td>\n",
       "      <td>NaN</td>\n",
       "      <td>NaN</td>\n",
       "      <td>NaN</td>\n",
       "      <td>1950</td>\n",
       "    </tr>\n",
       "    <tr>\n",
       "      <td>1371</td>\n",
       "      <td>NaN</td>\n",
       "      <td>NaN</td>\n",
       "      <td>NaN</td>\n",
       "      <td>NaN</td>\n",
       "      <td>NaN</td>\n",
       "      <td>NaN</td>\n",
       "      <td>NaN</td>\n",
       "      <td>NaN</td>\n",
       "      <td>NaN</td>\n",
       "      <td>NaN</td>\n",
       "      <td>NaN</td>\n",
       "      <td>550</td>\n",
       "    </tr>\n",
       "  </tbody>\n",
       "</table>\n",
       "</div>"
      ],
      "text/plain": [
       "          1    2    3    4    5    6    7    8    9    10   11    12\n",
       "user_id                                                             \n",
       "1128     NaN  NaN  NaN  NaN  NaN  NaN  NaN  NaN  NaN  NaN  NaN  1950\n",
       "1371     NaN  NaN  NaN  NaN  NaN  NaN  NaN  NaN  NaN  NaN  NaN   550"
      ]
     },
     "execution_count": 49,
     "metadata": {},
     "output_type": "execute_result"
    }
   ],
   "source": [
    "df_counts['income_month'].query('user_id in [1128, 1371]')"
   ]
  },
  {
   "cell_type": "markdown",
   "metadata": {},
   "source": [
    "### Выводы"
   ]
  },
  {
   "cell_type": "markdown",
   "metadata": {},
   "source": [
    "- Из датасета internet был удалён ошибочный столбвец Unnamed: 0\n",
    "- Продолжительность звонков в минутах была округлена вверх и приведена к типу int, что увеличело общую сумму минут на 6% с 1368790.03 до 1450301\n",
    "- Во всех датасетах поля с датами были приведены к типу date\n",
    "- Все даты отмены тарифа были не раньше дат регистрации\n",
    "- Ежемесячный объем трафика переведён в гигабайты и округлен в большую сторону\n",
    "- Оставлена возможность все пересчитать без учета нулевых вызовов и трафика для определения их влияние на выгодность тарифов\n",
    "- Произведён расчёт ежемесячной выручки для каждого абонента в рублях"
   ]
  },
  {
   "cell_type": "markdown",
   "metadata": {},
   "source": [
    "## Анализ данных"
   ]
  },
  {
   "cell_type": "markdown",
   "metadata": {},
   "source": [
    "Сколько минут разговора, сколько сообщений и какой объём интернет-трафика требуется пользователям каждого тарифа в месяц? Каково их среднее количество, дисперсия и стандартное отклонение. Так же нужно построить гистограммы и описать распределения."
   ]
  },
  {
   "cell_type": "code",
   "execution_count": 50,
   "metadata": {},
   "outputs": [],
   "source": [
    "#Создадим два набора пользователей для каждого тарифа\n",
    "tariff_users = {}\n",
    "for name in ['smart', 'ultra']:\n",
    "    tariff_users[name] = df_dict['users'].query('tariff == @name')['user_id'] "
   ]
  },
  {
   "cell_type": "code",
   "execution_count": 51,
   "metadata": {},
   "outputs": [],
   "source": [
    "#Создадим функцию, которая по заданному датасету считает статистику и строит гистограмму \n",
    "def show_info(dataset_name):\n",
    "    for tariff in tariff_users.keys():\n",
    "        \n",
    "        #Выпрямляем датасет в один столбец, при этом все NaN не входят в новый датасет\n",
    "        s = pd.DataFrame(df_counts[dataset_name].loc[\\\n",
    "                         df_counts[dataset_name].index.isin(tariff_users[tariff])].\\\n",
    "                         values.tolist()).stack()\n",
    "        print()\n",
    "        print(f'=== Данные по тарифу {tariff}: === ')\n",
    "        print(f'Сумма:_________________', s.sum())\n",
    "        print(f'Среднее:_______________', s.mean())\n",
    "        print(f'Дисперсия:_____________', np.var(s))\n",
    "        print(f'Стандартное отклонение:', np.std(s))\n",
    "        s.hist(bins=50)"
   ]
  },
  {
   "cell_type": "markdown",
   "metadata": {},
   "source": [
    "### Звонки"
   ]
  },
  {
   "cell_type": "code",
   "execution_count": 52,
   "metadata": {
    "scrolled": false
   },
   "outputs": [
    {
     "name": "stdout",
     "output_type": "stream",
     "text": [
      "\n",
      "=== Данные по тарифу smart: === \n",
      "Сумма:_________________ 931577.0\n",
      "Среднее:_______________ 419.0629779577148\n",
      "Дисперсия:_____________ 35828.06530953033\n",
      "Стандартное отклонение: 189.2830296395594\n",
      "\n",
      "=== Данные по тарифу ultra: === \n",
      "Сумма:_________________ 518724.0\n",
      "Среднее:_______________ 545.4511041009464\n",
      "Дисперсия:_____________ 94104.36117385984\n",
      "Стандартное отклонение: 306.76434143143143\n"
     ]
    },
    {
     "data": {
      "image/png": "[encoded data removed]",
      "text/plain": [
       "<Figure size 432x288 with 1 Axes>"
      ]
     },
     "metadata": {
      "needs_background": "light"
     },
     "output_type": "display_data"
    }
   ],
   "source": [
    "show_info('minutes_month')"
   ]
  },
  {
   "cell_type": "markdown",
   "metadata": {},
   "source": [
    "Тариф smart:\n",
    "Распределение количества минут использованных абонентами в месяц имеет куполообразный вид близкий к нормльному распределению.\n",
    "Среднее количество минут в месяц по тарифу - 419\n",
    "Стандартное отклонение - 189\n",
    "\n",
    "Тариф ultra:\n",
    "Распределение количества звонков имеет очень широкий купол, количество использованных минут распределено более равномерно по сравнению с тарифом smart\n",
    "Среднее количество минут в месяц по тарифу - 545\n",
    "Стандартное отклонение - 306"
   ]
  },
  {
   "cell_type": "markdown",
   "metadata": {},
   "source": [
    "### Сообщения"
   ]
  },
  {
   "cell_type": "code",
   "execution_count": 53,
   "metadata": {
    "scrolled": false
   },
   "outputs": [
    {
     "name": "stdout",
     "output_type": "stream",
     "text": [
      "\n",
      "=== Данные по тарифу smart: === \n",
      "Сумма:_________________ 74413.0\n",
      "Среднее:_______________ 38.71644120707596\n",
      "Дисперсия:_____________ 717.220843110227\n",
      "Стандартное отклонение: 26.780979129042816\n",
      "\n",
      "=== Данные по тарифу ultra: === \n",
      "Сумма:_________________ 48623.0\n",
      "Среднее:_______________ 61.161006289308176\n",
      "Дисперсия:_____________ 2107.0055235156838\n",
      "Стандартное отклонение: 45.90212983637779\n"
     ]
    },
    {
     "data": {
      "image/png": "[encoded data removed]",
      "text/plain": [
       "<Figure size 432x288 with 1 Axes>"
      ]
     },
     "metadata": {
      "needs_background": "light"
     },
     "output_type": "display_data"
    }
   ],
   "source": [
    "show_info('messages_month')"
   ]
  },
  {
   "cell_type": "markdown",
   "metadata": {},
   "source": [
    "Тариф smart:\n",
    "Распределение количества сообщений в месяц имеет вид близкий к распределению Пуассона.\n",
    "Среднее количество сообщений в месяц по тарифу - 38\n",
    "Стандартное отклонение - 26\n",
    "\n",
    "Тариф ultra:\n",
    "Распределение количества сообщений в месяц так же имеет вид близкий к распределению Пуассона, но более пологий чем у smart.\n",
    "Среднее количество сообщений в месяц по тарифу - 61\n",
    "Стандартное отклонение - 45"
   ]
  },
  {
   "cell_type": "markdown",
   "metadata": {},
   "source": [
    "### Интернет трафик"
   ]
  },
  {
   "cell_type": "code",
   "execution_count": 54,
   "metadata": {
    "scrolled": false
   },
   "outputs": [
    {
     "name": "stdout",
     "output_type": "stream",
     "text": [
      "\n",
      "=== Данные по тарифу smart: === \n",
      "Сумма:_________________ 36397.0\n",
      "Среднее:_______________ 16.33617594254937\n",
      "Дисперсия:_____________ 32.908978554322495\n",
      "Стандартное отклонение: 5.73663477609674\n",
      "\n",
      "=== Данные по тарифу ultra: === \n",
      "Сумма:_________________ 19202.0\n",
      "Среднее:_______________ 19.694358974358973\n",
      "Дисперсия:_____________ 94.05017330703484\n",
      "Стандартное отклонение: 9.697946860394463\n"
     ]
    },
    {
     "data": {
      "image/png": "[encoded data removed]",
      "text/plain": [
       "<Figure size 432x288 with 1 Axes>"
      ]
     },
     "metadata": {
      "needs_background": "light"
     },
     "output_type": "display_data"
    }
   ],
   "source": [
    "show_info('gb_month')"
   ]
  },
  {
   "cell_type": "markdown",
   "metadata": {},
   "source": [
    "Тариф smart:\n",
    "Распределение количества гигабайт использованных абонентами в месяц имеет явно выраженную куполообразную форму нормльного распределения.\n",
    "Среднее количество гигабайт в месяц по тарифу - 16 (превышает количество гб по тарифу)\n",
    "Стандартное отклонение - 6\n",
    "\n",
    "Тариф ultra:\n",
    "Распределение количества гигабайт имеет очень широкий купол, форма купола близка к нормальному распределению\n",
    "Среднее количество гигабайт в месяц по тарифу - 20\n",
    "Стандартное отклонение - 10"
   ]
  },
  {
   "cell_type": "markdown",
   "metadata": {},
   "source": [
    "### Выводы"
   ]
  },
  {
   "cell_type": "markdown",
   "metadata": {},
   "source": [
    "- Распределения тарифов smart и ultra по каждой услуги имеют одинаковый вид\n",
    "- Распределения тарифа ultra для всех услуг имеют более широкий вид по сравнению с тарифом smart, т.е. пользователи показывают более разнообразное поведение\n",
    "\n",
    "- Распределения потраченных минут и использованных гигабайт обоих тарифов имеют выраженный куполообразный вид нормального распределения\n",
    "- Распределение использованных сообщений для обоих тарифов имеет вид близкий к распределению Пуассона\n",
    "\n",
    "- Среднее значение потраченных минут для тарифа smart примерно 80% от значения указанного в тарифе, среднее значение испольованных сообщений примерно 60% от указаных в тарифе, а среднее значение использованых гб больше указаного в тарифе примерно на 6%\n",
    "\n",
    "- Среднее значение потраченных минут для тарифа ultra примерно 18% от значения указанного в тарифе, среднее значение испольованных сообщений примерно 6% от указаных в тарифе, а среднее значение использованых гб примерно 40% от указанного в тарифе"
   ]
  },
  {
   "cell_type": "markdown",
   "metadata": {},
   "source": [
    "## Проверка гипотез"
   ]
  },
  {
   "cell_type": "markdown",
   "metadata": {},
   "source": [
    "- средняя выручка пользователей тарифов «Ультра» и «Смарт» различаются;\n",
    "- средняя выручка пользователей из Москвы отличается от выручки пользователей из других регионов."
   ]
  },
  {
   "cell_type": "markdown",
   "metadata": {},
   "source": [
    "### Гипотеза 1. Cредняя выручка пользователей тарифов «Ультра» и «Смарт» различаются"
   ]
  },
  {
   "cell_type": "markdown",
   "metadata": {},
   "source": [
    "- В качестве нулевой гипотезы выберем гипотезу о равенстве средних для этих вух совокумностей, т.к. нулевая гипотеза формулируется как равенство. В качестве альтернативной, средняя выручка в месяц у тарифа ultra больше, чем у тарифа smart\n",
    "\n",
    "- Т.к. средняя выручка по каждому тарифу не зависят друг от друга, то будем использовать критерий для проверки равенства средних двух независимых генеральных совокупностей."
   ]
  },
  {
   "cell_type": "code",
   "execution_count": 55,
   "metadata": {},
   "outputs": [
    {
     "name": "stdout",
     "output_type": "stream",
     "text": [
      "Средняя выручка тарифа smart: 1289.6417040358745\n",
      "Средняя выручка тарифа ultra: 2070.030425963489\n"
     ]
    }
   ],
   "source": [
    "#Подсчитаем среднюю выручку для каждого тарифа\n",
    "smart_income_mean = pd.DataFrame(df_counts['income_month'].loc[\\\n",
    "                         df_counts['income_month'].index.isin(tariff_users['smart'])].\\\n",
    "                         values.tolist()).stack().mean()\n",
    "print(\"Средняя выручка тарифа smart:\", smart_income_mean)\n",
    "\n",
    "ultra_income_mean = pd.DataFrame(df_counts['income_month'].loc[\\\n",
    "                         df_counts['income_month'].index.isin(tariff_users['ultra'])].\\\n",
    "                         values.tolist()).stack().mean()\n",
    "print(\"Средняя выручка тарифа ultra:\", ultra_income_mean)"
   ]
  },
  {
   "cell_type": "code",
   "execution_count": 56,
   "metadata": {
    "scrolled": false
   },
   "outputs": [
    {
     "name": "stdout",
     "output_type": "stream",
     "text": [
      "p-значение:  1.927011394420941e-250\n",
      "Отвергаем гипотезу о равенстве средней выручки двух тарифов\n"
     ]
    }
   ],
   "source": [
    "#Проверим гипотезу о равенстве средних двух независимых выборок.\n",
    "\n",
    "results = st.ttest_ind(pd.DataFrame(df_counts['income_month'].loc[\\\n",
    "                         df_counts['income_month'].index.isin(tariff_users['smart'])].\\\n",
    "                         values.tolist()).stack(), \n",
    "                       pd.DataFrame(df_counts['income_month'].loc[\\\n",
    "                         df_counts['income_month'].index.isin(tariff_users['ultra'])].\\\n",
    "                         values.tolist()).stack(),\n",
    "                       equal_var = False)\n",
    "\n",
    "print('p-значение: ', results.pvalue)\n",
    "\n",
    "#Делаем проверку для односторонних гипотез\n",
    "if (results.pvalue / 2 < 0.01) and (ultra_income_mean > smart_income_mean):\n",
    "    print(\"Отвергаем гипотезу о равенстве средней выручки двух тарифов\")\n",
    "else:\n",
    "    print(\"Не отвергаем гипотезу о равенстве средней выручки двух тарифов\")"
   ]
  },
  {
   "cell_type": "markdown",
   "metadata": {},
   "source": [
    "Вероятность того, что средныие выручки двух тарифов равны очень, очень мала! Нулевая гипотеза выглядит практически не реальной."
   ]
  },
  {
   "cell_type": "markdown",
   "metadata": {},
   "source": [
    "### Гипотеза 2. Средняя выручка пользователей из Москвы отличается от выручки пользователей из других регионов"
   ]
  },
  {
   "cell_type": "markdown",
   "metadata": {},
   "source": [
    "- В качестве нулевой гипотезы выберем гипотезу о равенстве выручки в Москве и всех остальных регионах, т.к. нулевая гипотеза формулируется как равенство. В качестве альтернативной, средняя выручка в Москве отличается от остальных регионов.\n",
    "\n",
    "- Т.к. средняя выручка по каждому региону не зависят друг от друга, то будем использовать критерий для проверки равенства средних двух независимых генеральных совокупностей."
   ]
  },
  {
   "cell_type": "code",
   "execution_count": 57,
   "metadata": {
    "scrolled": true
   },
   "outputs": [
    {
     "name": "stdout",
     "output_type": "stream",
     "text": [
      "Средняя выручка для Москвы: 1546.7135842880523\n",
      "Средняя выручка остальных регионов: 1524.7251439539348\n"
     ]
    }
   ],
   "source": [
    "#Подсчитаем среднюю выручку для Москвы и других регионов\n",
    "\n",
    "Msk_income_mean = pd.DataFrame(df_counts['income_month'].loc[\\\n",
    "                         df_counts['income_month'].index.isin(df_dict['users'].query('city == \"Москва\"')['user_id'])].\\\n",
    "                         values.tolist()).stack().mean()\n",
    "print(\"Средняя выручка для Москвы:\", Msk_income_mean)\n",
    "\n",
    "Other_income_mean = pd.DataFrame(df_counts['income_month'].loc[\\\n",
    "                         df_counts['income_month'].index.isin(df_dict['users'].query('city != \"Москва\"')['user_id'])].\\\n",
    "                         values.tolist()).stack().mean()\n",
    "print(\"Средняя выручка остальных регионов:\", Other_income_mean)"
   ]
  },
  {
   "cell_type": "code",
   "execution_count": 58,
   "metadata": {
    "scrolled": true
   },
   "outputs": [
    {
     "name": "stdout",
     "output_type": "stream",
     "text": [
      "p-значение:  0.5216952110000278\n",
      "Не отвергаем гипотезу о равенстве средней выручки в Москве и других регионах\n"
     ]
    }
   ],
   "source": [
    "#Проверим гипотезу о равенстве средних двух независимых выборок.\n",
    "\n",
    "results = st.ttest_ind(pd.DataFrame(df_counts['income_month'].loc[\\\n",
    "                         df_counts['income_month'].index.isin(df_dict['users'].query('city == \"Москва\"')['user_id'])].\\\n",
    "                         values.tolist()).stack(), \n",
    "                       pd.DataFrame(df_counts['income_month'].loc[\\\n",
    "                         df_counts['income_month'].index.isin(df_dict['users'].query('city != \"Москва\"')['user_id'])].\\\n",
    "                         values.tolist()).stack(),\n",
    "                       equal_var = False)\n",
    "\n",
    "print('p-значение: ', results.pvalue)\n",
    "\n",
    "#Делаем проверку для односторонних гипотез\n",
    "if (results.pvalue < 0.01):\n",
    "    print(\"Отвергаем гипотезу о равенстве средней выручки в Москве и других регионах\")\n",
    "else:\n",
    "    print(\"Не отвергаем гипотезу о равенстве средней выручки в Москве и других регионах\")"
   ]
  },
  {
   "cell_type": "markdown",
   "metadata": {},
   "source": [
    "Вероятность того, что средние значения выручки в Москве и остальных регионах равны 52%, это очень значительный показатель.\n",
    "Надо придерживаться нулевой гипотезы - средняя выручка в Москве и других регионах совпадает."
   ]
  },
  {
   "cell_type": "markdown",
   "metadata": {},
   "source": [
    "### Выводы"
   ]
  },
  {
   "cell_type": "markdown",
   "metadata": {},
   "source": [
    "* Критерий значимости для проверки гипотезы о равенстве средних выручек для двух тарифов исчезающе мал. Гипотеза выглядит практически не реальной и должна быть отвергнута\n",
    "\n",
    "* Критерий значимости для проверки гипотезы о равенстве средних выручки в Москве и других регионах очень высок, соответсвенно гипотеза о том, что выручка в Москве отличается от других регионов выглядит не правдоподобной."
   ]
  },
  {
   "cell_type": "markdown",
   "metadata": {},
   "source": [
    "## Общий вывод"
   ]
  },
  {
   "cell_type": "markdown",
   "metadata": {},
   "source": [
    "Датасеты полностью заполнены, нет пропусков, за исключением ожидаемых в дате прекращения пользования тарифом (churn_date) датасета users. Все названия полей приведены в нижнем регистре в змеинном стиле английскими буквами и не нуждаются в корректировке, за одним исключением в датасете internet.\n",
    "\n",
    "Похоже, что произошла ошибка при выгрузке из БД датасета internet, т.к. там есть странный столбец Unnamed которого нет в описании\n",
    "\n",
    "Есть значительное количество звонков нулевой длинны и интернет сессий с нулевым количеством интернет трафика. Удаление или сохранение этих значений не оказывает влияния на проверку гипотез о равенстве или отличии средних значений.\n",
    "\n",
    "<b>Подготовка данных</b>\n",
    "\n",
    "- Из датасета internet был удалён ошибочный столбвец Unnamed: 0\n",
    "- Продолжительность звонков в минутах была округлена вверх и приведена к типу int, что увеличело общую сумму минут на 6% с 1368790.03 до 1450301\n",
    "- Во всех датасетах поля с датами были приведены к типу date\n",
    "- Все даты отмены тарифа были не раньше дат регистрации\n",
    "- Ежемесячный объем трафика переведён в гигабайты и округлен в большую сторону\n",
    "- Оставлена возможность все пересчитать без учета нулевых вызовов и трафика для определения их влияние на выгодность тарифов\n",
    "- Произведён расчёт ежемесячной выручки для каждого абонента в рублях\n",
    "\n",
    "<b>Статистические характеристики</b>\n",
    "- Распределения тарифов smart и ultra по каждой услуги имеют одинаковый вид\n",
    "- Распределения тарифа ultra для всех услуг имеют более широкий вид по сравнению с тарифом smart, т.е. пользователи показывают более разнообразное поведение\n",
    "\n",
    "- Распределения потраченных минут и использованных гигабайт обоих тарифов имеют выраженный куполообразный вид нормального распределения\n",
    "- Распределение использованных сообщений для обоих тарифов имеет вид близкий к распределению Пуассона\n",
    "\n",
    "- Среднее значение потраченных минут для тарифа smart примерно 80% от значения указанного в тарифе, среднее значение испольованных сообщений примерно 60% от указаных в тарифе, а среднее значение использованых гб больше указаного в тарифе примерно на 6%\n",
    "\n",
    "- Среднее значение потраченных минут для тарифа ultra примерно 18% от значения указанного в тарифе, среднее значение испольованных сообщений примерно 6% от указаных в тарифе, а среднее значение использованых гб примерно 40% от указанного в тарифе\n",
    "\n",
    "<b>Проверка гипотез</b>\n",
    "\n",
    "* Критерий значимости для проверки гипотезы о равенстве средних выручек для двух тарифов исчезающе мал. Гипотеза выглядит практически не реальной и должна быть отвергнута\n",
    "\n",
    "* Критерий значимости для проверки гипотезы о равенстве средних выручки в Москве и других регионах очень высок, соответсвенно гипотеза о том, что выручка в Москве отличается от других регионов выглядит не правдоподобной.\n",
    "\n",
    "<b>Дополнительные рекомендации</b>\n",
    "\n",
    "Для более глубокого анализа поведения потребителей можно так же учитывать возраст и пол абонентов."
   ]
  },
  {
   "cell_type": "markdown",
   "metadata": {},
   "source": [
    "# Определение перспективного тарифа для телеком-компании\n",
    "\n",
    "Клиентам предлагают два тарифных плана: «Смарт» и «Ультра». Нужно выполнить предварительный анализ тарифов на небольшой выборке клиентов - 500 пользователей: кто они, откуда, каким тарифом пользуются, сколько звонков и сообщений каждый отправил за 2018 год.\n",
    "\n",
    "**Описание тарифов**\n",
    "\n",
    "<b>Тариф «Смарт»</b>\n",
    "* Ежемесячная плата: 550 рублей\n",
    "* Включено 500 минут разговора, 50 сообщений и 15 Гб интернет-трафика\n",
    "* Стоимость услуг сверх тарифного пакета:\n",
    "      * минута разговора: 3 рубля\n",
    "      * сообщение: 3 рубля\n",
    "      * 1 Гб интернет-трафика: 200 рублей\n",
    "\n",
    "<b>Тариф «Ультра»</b>\n",
    "* Ежемесячная плата: 1950 рублей\n",
    "* Включено 3000 минут разговора, 1000 сообщений и 30 Гб интернет-трафика\n",
    "* Стоимость услуг сверх тарифного пакета:\n",
    "      * минута разговора: 1 рубль\n",
    "      * сообщение: 1 рубль\n",
    "      * 1 Гб интернет-трафика: 150 рублей\n",
    "\n",
    "Примечание: Оператор округляет секунды до минут, а мегабайты — до гигабайт. Каждый звонок округляется отдельно: даже если он длился всего 1 секунду, будет засчитан как 1 минута.\n",
    "Для веб-трафика отдельные сессии не считаются. Вместо этого общая сумма за месяц округляется в бо́льшую сторону. Если абонент использует 1025 мегабайт в этом месяце, с него возьмут плату за 2 гигабайта. Примите, что неиспользованные за предыдущий месяц звонки, смс, интернет на следующий месяц не переносятся.\n",
    "\n",
    "\n",
    "**Описание набора данных**\n",
    "Таблица users (информация о пользователях):\n",
    "\n",
    "* user_id — уникальный идентификатор пользователя\n",
    "* first_name — имя пользователя\n",
    "* last_name — фамилия пользователя\n",
    "* age — возраст пользователя (годы)\n",
    "* reg_date — дата подключения тарифа (день, месяц, год)\n",
    "* churn_date — дата прекращения пользования тарифом (если значение пропущено, то тариф ещё действовал на момент выгрузки данных)\n",
    "* city — город проживания пользователя\n",
    "* tariff — название тарифного плана\n",
    "\n",
    "Таблица calls (информация о звонках):\n",
    "\n",
    "* id — уникальный номер звонка\n",
    "* call_date — дата звонка\n",
    "* duration — длительность звонка в минутах\n",
    "* user_id — идентификатор пользователя, сделавшего звонок\n",
    "\n",
    "Таблица messages (информация о сообщениях):\n",
    "\n",
    "* id — уникальный номер сообщения\n",
    "* message_date — дата сообщения\n",
    "* user_id — идентификатор пользователя, отправившего сообщение\n",
    "\n",
    "Таблица internet (информация об интернет-сессиях):\n",
    "\n",
    "* id — уникальный номер сессии\n",
    "* mb_used — объём потраченного за сессию интернет-трафика (в мегабайтах)\n",
    "* session_date — дата интернет-сессии\n",
    "* user_id — идентификатор пользователя\n",
    "\n",
    "Таблица tariffs (информация о тарифах):\n",
    "\n",
    "* tariff_name — название тарифа\n",
    "* rub_monthly_fee — ежемесячная абонентская плата в рублях\n",
    "* minutes_included — количество минут разговора в месяц, включённых в абонентскую плату\n",
    "* messages_included — количество сообщений в месяц, включённых в абонентскую плату\n",
    "* mb_per_month_included — объём интернет-трафика, включённого в абонентскую плату (в мегабайтах)\n",
    "* rub_per_minute — стоимость минуты разговора сверх тарифного пакета (например, если в тарифе 100 минут разговора в месяц, то со 101 минуты будет взиматься плата)\n",
    "* rub_per_message — стоимость отправки сообщения сверх тарифного пакета\n",
    "* rub_per_gb — стоимость дополнительного гигабайта интернет-трафика сверх тарифного пакета (1 гигабайт = 1024 мегабайта)\n",
    "\n",
    "**Используемые технологии**\n",
    "\n",
    "Python, Pandas, Matplotlib, NumPy, SciPy,<br>\n",
    "описательная статистика,<br>\n",
    "проверка статистических гипотез"
   ]
  },
  {
   "cell_type": "code",
   "execution_count": null,
   "metadata": {},
   "outputs": [],
   "source": []
  }
 ],
 "metadata": {
  "ExecuteTimeLog": [
   {
    "duration": 4,
    "start_time": "2022-01-08T07:52:38.567Z"
   },
   {
    "duration": 786,
    "start_time": "2022-01-08T08:07:41.840Z"
   },
   {
    "duration": 572,
    "start_time": "2022-01-08T08:09:05.906Z"
   },
   {
    "duration": 69,
    "start_time": "2022-01-08T08:10:26.819Z"
   },
   {
    "duration": 66,
    "start_time": "2022-01-08T08:11:35.222Z"
   },
   {
    "duration": 67,
    "start_time": "2022-01-08T08:12:08.512Z"
   },
   {
    "duration": 552,
    "start_time": "2022-01-08T08:13:58.990Z"
   },
   {
    "duration": 69,
    "start_time": "2022-01-08T08:14:01.814Z"
   },
   {
    "duration": 3,
    "start_time": "2022-01-08T08:28:10.704Z"
   },
   {
    "duration": 127,
    "start_time": "2022-01-08T08:28:44.566Z"
   },
   {
    "duration": 472,
    "start_time": "2022-01-08T08:30:24.136Z"
   },
   {
    "duration": 31,
    "start_time": "2022-01-08T08:30:47.760Z"
   },
   {
    "duration": 541,
    "start_time": "2022-01-08T08:39:38.059Z"
   },
   {
    "duration": 382,
    "start_time": "2022-01-08T08:40:21.543Z"
   },
   {
    "duration": 219,
    "start_time": "2022-01-08T08:40:36.752Z"
   },
   {
    "duration": 9,
    "start_time": "2022-01-08T08:48:04.630Z"
   },
   {
    "duration": 7,
    "start_time": "2022-01-08T08:49:04.022Z"
   },
   {
    "duration": 126,
    "start_time": "2022-01-08T08:51:59.674Z"
   },
   {
    "duration": 7,
    "start_time": "2022-01-08T08:52:40.818Z"
   },
   {
    "duration": 4,
    "start_time": "2022-01-08T09:06:11.721Z"
   },
   {
    "duration": 387,
    "start_time": "2022-01-08T09:12:24.369Z"
   },
   {
    "duration": 1654,
    "start_time": "2022-01-08T09:12:56.545Z"
   },
   {
    "duration": 450,
    "start_time": "2022-01-08T09:13:17.134Z"
   },
   {
    "duration": 546,
    "start_time": "2022-01-08T09:13:58.526Z"
   },
   {
    "duration": 72,
    "start_time": "2022-01-08T09:14:04.853Z"
   },
   {
    "duration": 478,
    "start_time": "2022-01-08T09:15:26.588Z"
   },
   {
    "duration": 372,
    "start_time": "2022-01-08T09:15:35.316Z"
   },
   {
    "duration": 416,
    "start_time": "2022-01-08T09:16:26.757Z"
   },
   {
    "duration": 64,
    "start_time": "2022-01-08T09:17:08.369Z"
   },
   {
    "duration": 131,
    "start_time": "2022-01-08T09:17:38.827Z"
   },
   {
    "duration": 123,
    "start_time": "2022-01-08T09:19:15.214Z"
   },
   {
    "duration": 119,
    "start_time": "2022-01-08T09:23:44.508Z"
   },
   {
    "duration": 19,
    "start_time": "2022-01-08T09:38:48.058Z"
   },
   {
    "duration": 74321,
    "start_time": "2022-01-08T09:41:04.061Z"
   },
   {
    "duration": 372,
    "start_time": "2022-01-08T09:42:46.408Z"
   },
   {
    "duration": 285,
    "start_time": "2022-01-08T09:43:07.313Z"
   },
   {
    "duration": 9,
    "start_time": "2022-01-08T09:43:50.341Z"
   },
   {
    "duration": 275,
    "start_time": "2022-01-08T09:44:07.999Z"
   },
   {
    "duration": 402,
    "start_time": "2022-01-08T09:44:49.370Z"
   },
   {
    "duration": 649,
    "start_time": "2022-01-08T09:45:18.186Z"
   },
   {
    "duration": 11,
    "start_time": "2022-01-08T09:45:58.460Z"
   },
   {
    "duration": 18,
    "start_time": "2022-01-08T09:46:47.610Z"
   },
   {
    "duration": 9,
    "start_time": "2022-01-08T09:56:35.857Z"
   },
   {
    "duration": 10,
    "start_time": "2022-01-08T09:57:41.065Z"
   },
   {
    "duration": 10,
    "start_time": "2022-01-08T10:01:09.903Z"
   },
   {
    "duration": 9,
    "start_time": "2022-01-08T10:02:59.661Z"
   },
   {
    "duration": 12,
    "start_time": "2022-01-08T10:07:14.220Z"
   },
   {
    "duration": 12,
    "start_time": "2022-01-08T10:10:40.453Z"
   },
   {
    "duration": 23,
    "start_time": "2022-01-08T10:25:54.921Z"
   },
   {
    "duration": 316,
    "start_time": "2022-01-08T10:26:56.031Z"
   },
   {
    "duration": 423,
    "start_time": "2022-01-08T10:27:08.740Z"
   },
   {
    "duration": 240,
    "start_time": "2022-01-08T10:28:06.813Z"
   },
   {
    "duration": 422,
    "start_time": "2022-01-08T10:33:57.304Z"
   },
   {
    "duration": 14,
    "start_time": "2022-01-08T10:34:41.518Z"
   },
   {
    "duration": 11,
    "start_time": "2022-01-08T12:46:35.657Z"
   },
   {
    "duration": 13,
    "start_time": "2022-01-08T12:51:26.416Z"
   },
   {
    "duration": 13,
    "start_time": "2022-01-08T12:53:00.172Z"
   },
   {
    "duration": 12,
    "start_time": "2022-01-08T13:00:19.784Z"
   },
   {
    "duration": 136,
    "start_time": "2022-01-08T13:06:38.015Z"
   },
   {
    "duration": 18,
    "start_time": "2022-01-08T14:01:50.470Z"
   },
   {
    "duration": 1649,
    "start_time": "2022-01-08T14:02:57.256Z"
   },
   {
    "duration": 222,
    "start_time": "2022-01-08T14:04:08.340Z"
   },
   {
    "duration": 19,
    "start_time": "2022-01-08T14:08:22.506Z"
   },
   {
    "duration": 12,
    "start_time": "2022-01-08T14:10:18.163Z"
   },
   {
    "duration": 55,
    "start_time": "2022-01-08T14:12:46.280Z"
   },
   {
    "duration": 9095,
    "start_time": "2022-01-08T14:13:41.426Z"
   },
   {
    "duration": 33,
    "start_time": "2022-01-08T14:14:05.992Z"
   },
   {
    "duration": 346,
    "start_time": "2022-01-09T08:03:30.350Z"
   },
   {
    "duration": 598,
    "start_time": "2022-01-09T08:03:55.929Z"
   },
   {
    "duration": 398,
    "start_time": "2022-01-09T08:03:56.529Z"
   },
   {
    "duration": 46,
    "start_time": "2022-01-09T08:03:56.929Z"
   },
   {
    "duration": 97,
    "start_time": "2022-01-09T08:03:56.977Z"
   },
   {
    "duration": 15,
    "start_time": "2022-01-09T08:03:57.076Z"
   },
   {
    "duration": 13,
    "start_time": "2022-01-09T08:03:57.093Z"
   },
   {
    "duration": 191,
    "start_time": "2022-01-09T08:03:57.108Z"
   },
   {
    "duration": 242,
    "start_time": "2022-01-09T08:03:57.301Z"
   },
   {
    "duration": 4,
    "start_time": "2022-01-09T08:03:57.547Z"
   },
   {
    "duration": 7,
    "start_time": "2022-01-09T08:03:57.554Z"
   },
   {
    "duration": 7,
    "start_time": "2022-01-09T08:03:57.563Z"
   },
   {
    "duration": 6,
    "start_time": "2022-01-09T08:03:57.572Z"
   },
   {
    "duration": 8,
    "start_time": "2022-01-09T08:03:57.579Z"
   },
   {
    "duration": 8,
    "start_time": "2022-01-09T08:03:57.588Z"
   },
   {
    "duration": 76,
    "start_time": "2022-01-09T08:03:57.597Z"
   },
   {
    "duration": 213,
    "start_time": "2022-01-09T08:03:57.675Z"
   },
   {
    "duration": 138,
    "start_time": "2022-01-09T08:03:57.890Z"
   },
   {
    "duration": 9,
    "start_time": "2022-01-09T08:03:58.030Z"
   },
   {
    "duration": 6,
    "start_time": "2022-01-09T08:03:58.041Z"
   },
   {
    "duration": 9,
    "start_time": "2022-01-09T08:03:58.048Z"
   },
   {
    "duration": 8,
    "start_time": "2022-01-09T08:03:58.058Z"
   },
   {
    "duration": 13,
    "start_time": "2022-01-09T08:03:58.067Z"
   },
   {
    "duration": 310,
    "start_time": "2022-01-09T08:03:58.081Z"
   },
   {
    "duration": 135,
    "start_time": "2022-01-09T08:03:58.393Z"
   },
   {
    "duration": 13,
    "start_time": "2022-01-09T08:03:58.530Z"
   },
   {
    "duration": 9,
    "start_time": "2022-01-09T08:03:58.544Z"
   },
   {
    "duration": 19,
    "start_time": "2022-01-09T08:03:58.556Z"
   },
   {
    "duration": 6,
    "start_time": "2022-01-09T08:03:58.577Z"
   },
   {
    "duration": 393,
    "start_time": "2022-01-09T08:04:06.347Z"
   },
   {
    "duration": 4,
    "start_time": "2022-01-09T08:04:34.858Z"
   },
   {
    "duration": 12,
    "start_time": "2022-01-09T08:04:50.325Z"
   },
   {
    "duration": 349,
    "start_time": "2022-01-09T08:13:45.732Z"
   },
   {
    "duration": 2,
    "start_time": "2022-01-09T08:14:10.339Z"
   },
   {
    "duration": 11,
    "start_time": "2022-01-09T08:14:25.072Z"
   },
   {
    "duration": 14,
    "start_time": "2022-01-09T08:15:27.930Z"
   },
   {
    "duration": 13,
    "start_time": "2022-01-09T08:15:39.797Z"
   },
   {
    "duration": 15,
    "start_time": "2022-01-09T08:16:01.009Z"
   },
   {
    "duration": 15,
    "start_time": "2022-01-09T08:16:44.193Z"
   },
   {
    "duration": 333,
    "start_time": "2022-01-09T08:25:08.233Z"
   },
   {
    "duration": 6,
    "start_time": "2022-01-09T08:25:22.974Z"
   },
   {
    "duration": 5,
    "start_time": "2022-01-09T08:25:43.053Z"
   },
   {
    "duration": 5,
    "start_time": "2022-01-09T08:26:18.515Z"
   },
   {
    "duration": 4,
    "start_time": "2022-01-09T08:28:49.201Z"
   },
   {
    "duration": 6,
    "start_time": "2022-01-09T08:30:37.046Z"
   },
   {
    "duration": 70,
    "start_time": "2022-01-09T08:36:50.988Z"
   },
   {
    "duration": 558,
    "start_time": "2022-01-09T08:38:39.185Z"
   },
   {
    "duration": 374,
    "start_time": "2022-01-09T08:38:39.745Z"
   },
   {
    "duration": 45,
    "start_time": "2022-01-09T08:38:40.121Z"
   },
   {
    "duration": 87,
    "start_time": "2022-01-09T08:38:40.168Z"
   },
   {
    "duration": 14,
    "start_time": "2022-01-09T08:38:40.256Z"
   },
   {
    "duration": 14,
    "start_time": "2022-01-09T08:38:40.271Z"
   },
   {
    "duration": 184,
    "start_time": "2022-01-09T08:38:40.286Z"
   },
   {
    "duration": 210,
    "start_time": "2022-01-09T08:38:40.473Z"
   },
   {
    "duration": 5,
    "start_time": "2022-01-09T08:38:40.684Z"
   },
   {
    "duration": 5,
    "start_time": "2022-01-09T08:38:40.690Z"
   },
   {
    "duration": 8,
    "start_time": "2022-01-09T08:38:40.696Z"
   },
   {
    "duration": 23,
    "start_time": "2022-01-09T08:38:40.705Z"
   },
   {
    "duration": 6,
    "start_time": "2022-01-09T08:38:40.730Z"
   },
   {
    "duration": 8,
    "start_time": "2022-01-09T08:38:40.737Z"
   },
   {
    "duration": 47,
    "start_time": "2022-01-09T08:38:40.746Z"
   },
   {
    "duration": 235,
    "start_time": "2022-01-09T08:38:40.794Z"
   },
   {
    "duration": 131,
    "start_time": "2022-01-09T08:38:41.030Z"
   },
   {
    "duration": 9,
    "start_time": "2022-01-09T08:38:41.163Z"
   },
   {
    "duration": 6,
    "start_time": "2022-01-09T08:38:41.173Z"
   },
   {
    "duration": 10,
    "start_time": "2022-01-09T08:38:41.180Z"
   },
   {
    "duration": 7,
    "start_time": "2022-01-09T08:38:41.191Z"
   },
   {
    "duration": 33,
    "start_time": "2022-01-09T08:38:41.200Z"
   },
   {
    "duration": 292,
    "start_time": "2022-01-09T08:38:41.236Z"
   },
   {
    "duration": 128,
    "start_time": "2022-01-09T08:38:41.530Z"
   },
   {
    "duration": 11,
    "start_time": "2022-01-09T08:38:41.659Z"
   },
   {
    "duration": 8,
    "start_time": "2022-01-09T08:38:41.671Z"
   },
   {
    "duration": 18,
    "start_time": "2022-01-09T08:38:41.680Z"
   },
   {
    "duration": 28,
    "start_time": "2022-01-09T08:38:41.699Z"
   },
   {
    "duration": 9,
    "start_time": "2022-01-09T08:38:41.729Z"
   },
   {
    "duration": 13,
    "start_time": "2022-01-09T08:38:41.740Z"
   },
   {
    "duration": 4,
    "start_time": "2022-01-09T08:38:41.754Z"
   },
   {
    "duration": 64,
    "start_time": "2022-01-09T08:38:48.962Z"
   },
   {
    "duration": 584,
    "start_time": "2022-01-09T08:39:38.861Z"
   },
   {
    "duration": 367,
    "start_time": "2022-01-09T08:39:39.447Z"
   },
   {
    "duration": 44,
    "start_time": "2022-01-09T08:39:39.816Z"
   },
   {
    "duration": 88,
    "start_time": "2022-01-09T08:39:39.862Z"
   },
   {
    "duration": 14,
    "start_time": "2022-01-09T08:39:39.951Z"
   },
   {
    "duration": 12,
    "start_time": "2022-01-09T08:39:39.966Z"
   },
   {
    "duration": 189,
    "start_time": "2022-01-09T08:39:39.979Z"
   },
   {
    "duration": 215,
    "start_time": "2022-01-09T08:39:40.170Z"
   },
   {
    "duration": 5,
    "start_time": "2022-01-09T08:39:40.387Z"
   },
   {
    "duration": 7,
    "start_time": "2022-01-09T08:39:40.393Z"
   },
   {
    "duration": 7,
    "start_time": "2022-01-09T08:39:40.402Z"
   },
   {
    "duration": 6,
    "start_time": "2022-01-09T08:39:40.428Z"
   },
   {
    "duration": 12,
    "start_time": "2022-01-09T08:39:40.436Z"
   },
   {
    "duration": 13,
    "start_time": "2022-01-09T08:39:40.450Z"
   },
   {
    "duration": 83,
    "start_time": "2022-01-09T08:39:40.464Z"
   },
   {
    "duration": 369,
    "start_time": "2022-01-09T08:39:40.549Z"
   },
   {
    "duration": 210,
    "start_time": "2022-01-09T08:39:40.920Z"
   },
   {
    "duration": 12,
    "start_time": "2022-01-09T08:39:41.132Z"
   },
   {
    "duration": 9,
    "start_time": "2022-01-09T08:39:41.146Z"
   },
   {
    "duration": 10,
    "start_time": "2022-01-09T08:39:41.156Z"
   },
   {
    "duration": 6,
    "start_time": "2022-01-09T08:39:41.168Z"
   },
   {
    "duration": 14,
    "start_time": "2022-01-09T08:39:41.175Z"
   },
   {
    "duration": 325,
    "start_time": "2022-01-09T08:39:41.191Z"
   },
   {
    "duration": 141,
    "start_time": "2022-01-09T08:39:41.517Z"
   },
   {
    "duration": 11,
    "start_time": "2022-01-09T08:39:41.660Z"
   },
   {
    "duration": 7,
    "start_time": "2022-01-09T08:39:41.672Z"
   },
   {
    "duration": 17,
    "start_time": "2022-01-09T08:39:41.681Z"
   },
   {
    "duration": 30,
    "start_time": "2022-01-09T08:39:41.700Z"
   },
   {
    "duration": 12,
    "start_time": "2022-01-09T08:39:41.732Z"
   },
   {
    "duration": 14,
    "start_time": "2022-01-09T08:39:41.745Z"
   },
   {
    "duration": 3,
    "start_time": "2022-01-09T08:39:41.760Z"
   },
   {
    "duration": 89,
    "start_time": "2022-01-09T08:39:50.652Z"
   },
   {
    "duration": 104,
    "start_time": "2022-01-09T08:42:58.065Z"
   },
   {
    "duration": 29,
    "start_time": "2022-01-09T08:43:12.341Z"
   },
   {
    "duration": 7,
    "start_time": "2022-01-09T08:44:02.336Z"
   },
   {
    "duration": 595,
    "start_time": "2022-01-09T08:44:28.303Z"
   },
   {
    "duration": 374,
    "start_time": "2022-01-09T08:44:28.899Z"
   },
   {
    "duration": 43,
    "start_time": "2022-01-09T08:44:29.275Z"
   },
   {
    "duration": 77,
    "start_time": "2022-01-09T08:44:29.320Z"
   },
   {
    "duration": 12,
    "start_time": "2022-01-09T08:44:29.399Z"
   },
   {
    "duration": 21,
    "start_time": "2022-01-09T08:44:29.413Z"
   },
   {
    "duration": 172,
    "start_time": "2022-01-09T08:44:29.435Z"
   },
   {
    "duration": 214,
    "start_time": "2022-01-09T08:44:29.609Z"
   },
   {
    "duration": 4,
    "start_time": "2022-01-09T08:44:29.825Z"
   },
   {
    "duration": 8,
    "start_time": "2022-01-09T08:44:29.830Z"
   },
   {
    "duration": 9,
    "start_time": "2022-01-09T08:44:29.840Z"
   },
   {
    "duration": 6,
    "start_time": "2022-01-09T08:44:29.851Z"
   },
   {
    "duration": 13,
    "start_time": "2022-01-09T08:44:29.858Z"
   },
   {
    "duration": 9,
    "start_time": "2022-01-09T08:44:29.872Z"
   },
   {
    "duration": 73,
    "start_time": "2022-01-09T08:44:29.882Z"
   },
   {
    "duration": 215,
    "start_time": "2022-01-09T08:44:29.957Z"
   },
   {
    "duration": 135,
    "start_time": "2022-01-09T08:44:30.173Z"
   },
   {
    "duration": 10,
    "start_time": "2022-01-09T08:44:30.309Z"
   },
   {
    "duration": 6,
    "start_time": "2022-01-09T08:44:30.327Z"
   },
   {
    "duration": 12,
    "start_time": "2022-01-09T08:44:30.334Z"
   },
   {
    "duration": 13,
    "start_time": "2022-01-09T08:44:30.348Z"
   },
   {
    "duration": 26,
    "start_time": "2022-01-09T08:44:30.362Z"
   },
   {
    "duration": 289,
    "start_time": "2022-01-09T08:44:30.391Z"
   },
   {
    "duration": 132,
    "start_time": "2022-01-09T08:44:30.682Z"
   },
   {
    "duration": 16,
    "start_time": "2022-01-09T08:44:30.816Z"
   },
   {
    "duration": 21,
    "start_time": "2022-01-09T08:44:30.833Z"
   },
   {
    "duration": 33,
    "start_time": "2022-01-09T08:44:30.855Z"
   },
   {
    "duration": 6,
    "start_time": "2022-01-09T08:44:30.889Z"
   },
   {
    "duration": 22,
    "start_time": "2022-01-09T08:44:30.897Z"
   },
   {
    "duration": 14,
    "start_time": "2022-01-09T08:44:30.920Z"
   },
   {
    "duration": 6,
    "start_time": "2022-01-09T08:44:30.935Z"
   },
   {
    "duration": 65,
    "start_time": "2022-01-09T08:44:30.943Z"
   },
   {
    "duration": 43,
    "start_time": "2022-01-09T08:44:31.010Z"
   },
   {
    "duration": 522,
    "start_time": "2022-01-09T09:03:41.371Z"
   },
   {
    "duration": 379,
    "start_time": "2022-01-09T09:03:41.895Z"
   },
   {
    "duration": 45,
    "start_time": "2022-01-09T09:03:42.275Z"
   },
   {
    "duration": 84,
    "start_time": "2022-01-09T09:03:42.322Z"
   },
   {
    "duration": 23,
    "start_time": "2022-01-09T09:03:42.408Z"
   },
   {
    "duration": 12,
    "start_time": "2022-01-09T09:03:42.433Z"
   },
   {
    "duration": 182,
    "start_time": "2022-01-09T09:03:42.446Z"
   },
   {
    "duration": 212,
    "start_time": "2022-01-09T09:03:42.630Z"
   },
   {
    "duration": 5,
    "start_time": "2022-01-09T09:03:42.844Z"
   },
   {
    "duration": 7,
    "start_time": "2022-01-09T09:03:42.850Z"
   },
   {
    "duration": 8,
    "start_time": "2022-01-09T09:03:42.858Z"
   },
   {
    "duration": 4,
    "start_time": "2022-01-09T09:03:42.868Z"
   },
   {
    "duration": 8,
    "start_time": "2022-01-09T09:03:42.874Z"
   },
   {
    "duration": 8,
    "start_time": "2022-01-09T09:03:42.883Z"
   },
   {
    "duration": 78,
    "start_time": "2022-01-09T09:03:42.893Z"
   },
   {
    "duration": 214,
    "start_time": "2022-01-09T09:03:42.973Z"
   },
   {
    "duration": 138,
    "start_time": "2022-01-09T09:03:43.189Z"
   },
   {
    "duration": 9,
    "start_time": "2022-01-09T09:03:43.329Z"
   },
   {
    "duration": 6,
    "start_time": "2022-01-09T09:03:43.339Z"
   },
   {
    "duration": 16,
    "start_time": "2022-01-09T09:03:43.346Z"
   },
   {
    "duration": 6,
    "start_time": "2022-01-09T09:03:43.364Z"
   },
   {
    "duration": 14,
    "start_time": "2022-01-09T09:03:43.371Z"
   },
   {
    "duration": 310,
    "start_time": "2022-01-09T09:03:43.387Z"
   },
   {
    "duration": 139,
    "start_time": "2022-01-09T09:03:43.699Z"
   },
   {
    "duration": 12,
    "start_time": "2022-01-09T09:03:43.839Z"
   },
   {
    "duration": 8,
    "start_time": "2022-01-09T09:03:43.853Z"
   },
   {
    "duration": 18,
    "start_time": "2022-01-09T09:03:43.863Z"
   },
   {
    "duration": 7,
    "start_time": "2022-01-09T09:03:43.882Z"
   },
   {
    "duration": 38,
    "start_time": "2022-01-09T09:03:43.891Z"
   },
   {
    "duration": 17,
    "start_time": "2022-01-09T09:03:43.930Z"
   },
   {
    "duration": 5,
    "start_time": "2022-01-09T09:06:30.879Z"
   },
   {
    "duration": 5,
    "start_time": "2022-01-09T09:08:03.785Z"
   },
   {
    "duration": 61,
    "start_time": "2022-01-09T09:08:49.023Z"
   },
   {
    "duration": 32,
    "start_time": "2022-01-09T09:08:51.591Z"
   },
   {
    "duration": 9,
    "start_time": "2022-01-09T09:17:21.769Z"
   },
   {
    "duration": 22,
    "start_time": "2022-01-09T09:18:44.935Z"
   },
   {
    "duration": 18,
    "start_time": "2022-01-09T09:21:40.024Z"
   },
   {
    "duration": 3,
    "start_time": "2022-01-09T09:27:57.229Z"
   },
   {
    "duration": 591,
    "start_time": "2022-01-09T09:51:37.830Z"
   },
   {
    "duration": 402,
    "start_time": "2022-01-09T09:51:38.422Z"
   },
   {
    "duration": 45,
    "start_time": "2022-01-09T09:51:38.826Z"
   },
   {
    "duration": 108,
    "start_time": "2022-01-09T09:51:38.872Z"
   },
   {
    "duration": 22,
    "start_time": "2022-01-09T09:51:38.982Z"
   },
   {
    "duration": 26,
    "start_time": "2022-01-09T09:51:39.005Z"
   },
   {
    "duration": 239,
    "start_time": "2022-01-09T09:51:39.033Z"
   },
   {
    "duration": 227,
    "start_time": "2022-01-09T09:51:39.274Z"
   },
   {
    "duration": 5,
    "start_time": "2022-01-09T09:51:39.503Z"
   },
   {
    "duration": 20,
    "start_time": "2022-01-09T09:51:39.509Z"
   },
   {
    "duration": 6,
    "start_time": "2022-01-09T09:51:39.530Z"
   },
   {
    "duration": 5,
    "start_time": "2022-01-09T09:51:39.538Z"
   },
   {
    "duration": 8,
    "start_time": "2022-01-09T09:51:39.545Z"
   },
   {
    "duration": 8,
    "start_time": "2022-01-09T09:51:39.554Z"
   },
   {
    "duration": 75,
    "start_time": "2022-01-09T09:51:39.564Z"
   },
   {
    "duration": 221,
    "start_time": "2022-01-09T09:51:39.641Z"
   },
   {
    "duration": 133,
    "start_time": "2022-01-09T09:51:39.864Z"
   },
   {
    "duration": 9,
    "start_time": "2022-01-09T09:51:39.998Z"
   },
   {
    "duration": 6,
    "start_time": "2022-01-09T09:51:40.008Z"
   },
   {
    "duration": 6,
    "start_time": "2022-01-09T09:51:40.027Z"
   },
   {
    "duration": 9,
    "start_time": "2022-01-09T09:51:40.034Z"
   },
   {
    "duration": 13,
    "start_time": "2022-01-09T09:51:40.045Z"
   },
   {
    "duration": 303,
    "start_time": "2022-01-09T09:51:40.059Z"
   },
   {
    "duration": 129,
    "start_time": "2022-01-09T09:51:40.364Z"
   },
   {
    "duration": 11,
    "start_time": "2022-01-09T09:51:40.494Z"
   },
   {
    "duration": 21,
    "start_time": "2022-01-09T09:51:40.507Z"
   },
   {
    "duration": 18,
    "start_time": "2022-01-09T09:51:40.530Z"
   },
   {
    "duration": 5,
    "start_time": "2022-01-09T09:51:40.550Z"
   },
   {
    "duration": 11,
    "start_time": "2022-01-09T09:51:40.557Z"
   },
   {
    "duration": 17,
    "start_time": "2022-01-09T09:51:40.569Z"
   },
   {
    "duration": 3,
    "start_time": "2022-01-09T09:51:40.588Z"
   },
   {
    "duration": 34,
    "start_time": "2022-01-09T09:51:40.593Z"
   },
   {
    "duration": 59,
    "start_time": "2022-01-09T09:51:40.629Z"
   },
   {
    "duration": 55,
    "start_time": "2022-01-09T09:51:40.689Z"
   },
   {
    "duration": 381,
    "start_time": "2022-01-09T09:51:51.380Z"
   },
   {
    "duration": 340,
    "start_time": "2022-01-09T09:55:57.678Z"
   },
   {
    "duration": 345,
    "start_time": "2022-01-09T09:57:44.527Z"
   },
   {
    "duration": 31,
    "start_time": "2022-01-09T09:59:08.322Z"
   },
   {
    "duration": 567,
    "start_time": "2022-01-09T10:00:25.245Z"
   },
   {
    "duration": 384,
    "start_time": "2022-01-09T10:00:25.814Z"
   },
   {
    "duration": 46,
    "start_time": "2022-01-09T10:00:26.200Z"
   },
   {
    "duration": 82,
    "start_time": "2022-01-09T10:00:26.248Z"
   },
   {
    "duration": 14,
    "start_time": "2022-01-09T10:00:26.332Z"
   },
   {
    "duration": 13,
    "start_time": "2022-01-09T10:00:26.347Z"
   },
   {
    "duration": 188,
    "start_time": "2022-01-09T10:00:26.361Z"
   },
   {
    "duration": 217,
    "start_time": "2022-01-09T10:00:26.552Z"
   },
   {
    "duration": 5,
    "start_time": "2022-01-09T10:00:26.771Z"
   },
   {
    "duration": 9,
    "start_time": "2022-01-09T10:00:26.778Z"
   },
   {
    "duration": 7,
    "start_time": "2022-01-09T10:00:26.788Z"
   },
   {
    "duration": 5,
    "start_time": "2022-01-09T10:00:26.796Z"
   },
   {
    "duration": 30,
    "start_time": "2022-01-09T10:00:26.802Z"
   },
   {
    "duration": 8,
    "start_time": "2022-01-09T10:00:26.833Z"
   },
   {
    "duration": 48,
    "start_time": "2022-01-09T10:00:26.843Z"
   },
   {
    "duration": 219,
    "start_time": "2022-01-09T10:00:26.892Z"
   },
   {
    "duration": 136,
    "start_time": "2022-01-09T10:00:27.112Z"
   },
   {
    "duration": 9,
    "start_time": "2022-01-09T10:00:27.249Z"
   },
   {
    "duration": 5,
    "start_time": "2022-01-09T10:00:27.260Z"
   },
   {
    "duration": 9,
    "start_time": "2022-01-09T10:00:27.266Z"
   },
   {
    "duration": 10,
    "start_time": "2022-01-09T10:00:27.276Z"
   },
   {
    "duration": 14,
    "start_time": "2022-01-09T10:00:27.287Z"
   },
   {
    "duration": 315,
    "start_time": "2022-01-09T10:00:27.303Z"
   },
   {
    "duration": 128,
    "start_time": "2022-01-09T10:00:27.620Z"
   },
   {
    "duration": 10,
    "start_time": "2022-01-09T10:00:27.750Z"
   },
   {
    "duration": 7,
    "start_time": "2022-01-09T10:00:27.762Z"
   },
   {
    "duration": 18,
    "start_time": "2022-01-09T10:00:27.770Z"
   },
   {
    "duration": 6,
    "start_time": "2022-01-09T10:00:27.790Z"
   },
   {
    "duration": 35,
    "start_time": "2022-01-09T10:00:27.797Z"
   },
   {
    "duration": 18,
    "start_time": "2022-01-09T10:00:27.834Z"
   },
   {
    "duration": 4,
    "start_time": "2022-01-09T10:00:27.853Z"
   },
   {
    "duration": 8,
    "start_time": "2022-01-09T10:00:27.859Z"
   },
   {
    "duration": 89,
    "start_time": "2022-01-09T10:00:27.869Z"
   },
   {
    "duration": 32,
    "start_time": "2022-01-09T10:00:27.960Z"
   },
   {
    "duration": 28,
    "start_time": "2022-01-09T10:00:39.531Z"
   },
   {
    "duration": 8406,
    "start_time": "2022-01-09T10:23:49.659Z"
   },
   {
    "duration": 8386,
    "start_time": "2022-01-09T10:24:02.111Z"
   },
   {
    "duration": 129,
    "start_time": "2022-01-09T10:24:45.238Z"
   },
   {
    "duration": 8591,
    "start_time": "2022-01-09T10:24:51.236Z"
   },
   {
    "duration": 5,
    "start_time": "2022-01-09T10:25:42.831Z"
   },
   {
    "duration": 329,
    "start_time": "2022-01-09T10:28:12.899Z"
   },
   {
    "duration": 96,
    "start_time": "2022-01-09T10:28:23.843Z"
   },
   {
    "duration": 76,
    "start_time": "2022-01-09T10:29:03.730Z"
   },
   {
    "duration": 47,
    "start_time": "2022-01-09T10:29:40.583Z"
   },
   {
    "duration": 56,
    "start_time": "2022-01-09T10:29:50.718Z"
   },
   {
    "duration": 45,
    "start_time": "2022-01-09T10:30:58.186Z"
   },
   {
    "duration": 54,
    "start_time": "2022-01-09T10:31:09.314Z"
   },
   {
    "duration": 9,
    "start_time": "2022-01-09T10:32:03.822Z"
   },
   {
    "duration": 46,
    "start_time": "2022-01-09T10:33:41.252Z"
   },
   {
    "duration": 46,
    "start_time": "2022-01-09T10:36:00.567Z"
   },
   {
    "duration": 10,
    "start_time": "2022-01-09T10:36:13.131Z"
   },
   {
    "duration": 40,
    "start_time": "2022-01-09T10:54:24.013Z"
   },
   {
    "duration": 40,
    "start_time": "2022-01-09T10:54:43.524Z"
   },
   {
    "duration": 39,
    "start_time": "2022-01-09T10:55:11.660Z"
   },
   {
    "duration": 40,
    "start_time": "2022-01-09T10:55:30.388Z"
   },
   {
    "duration": 46,
    "start_time": "2022-01-09T10:55:48.378Z"
   },
   {
    "duration": 815,
    "start_time": "2022-01-09T10:58:54.855Z"
   },
   {
    "duration": 6603,
    "start_time": "2022-01-09T11:07:15.004Z"
   },
   {
    "duration": 374,
    "start_time": "2022-01-09T11:08:21.363Z"
   },
   {
    "duration": 6277,
    "start_time": "2022-01-09T11:09:34.222Z"
   },
   {
    "duration": 4,
    "start_time": "2022-01-09T11:10:00.096Z"
   },
   {
    "duration": 13,
    "start_time": "2022-01-09T11:12:09.606Z"
   },
   {
    "duration": 4,
    "start_time": "2022-01-09T11:12:36.134Z"
   },
   {
    "duration": 12,
    "start_time": "2022-01-09T11:13:04.545Z"
   },
   {
    "duration": 3,
    "start_time": "2022-01-09T11:13:56.500Z"
   },
   {
    "duration": 688,
    "start_time": "2022-01-09T11:15:56.391Z"
   },
   {
    "duration": 384,
    "start_time": "2022-01-09T11:17:10.204Z"
   },
   {
    "duration": 370,
    "start_time": "2022-01-09T11:17:59.698Z"
   },
   {
    "duration": 320,
    "start_time": "2022-01-09T11:18:13.268Z"
   },
   {
    "duration": 337,
    "start_time": "2022-01-09T11:19:34.339Z"
   },
   {
    "duration": 9,
    "start_time": "2022-01-09T11:20:07.235Z"
   },
   {
    "duration": 4,
    "start_time": "2022-01-09T11:20:53.544Z"
   },
   {
    "duration": 3,
    "start_time": "2022-01-09T11:21:06.185Z"
   },
   {
    "duration": 6,
    "start_time": "2022-01-09T11:21:49.733Z"
   },
   {
    "duration": 4,
    "start_time": "2022-01-09T11:22:27.872Z"
   },
   {
    "duration": 9,
    "start_time": "2022-01-09T11:23:07.377Z"
   },
   {
    "duration": 16,
    "start_time": "2022-01-09T11:23:30.908Z"
   },
   {
    "duration": 13,
    "start_time": "2022-01-09T11:23:52.292Z"
   },
   {
    "duration": 6,
    "start_time": "2022-01-09T11:23:59.722Z"
   },
   {
    "duration": 336,
    "start_time": "2022-01-09T11:25:17.627Z"
   },
   {
    "duration": 337,
    "start_time": "2022-01-09T11:25:46.831Z"
   },
   {
    "duration": 8,
    "start_time": "2022-01-09T11:26:16.505Z"
   },
   {
    "duration": 357,
    "start_time": "2022-01-09T11:26:30.547Z"
   },
   {
    "duration": 384,
    "start_time": "2022-01-09T11:27:07.036Z"
   },
   {
    "duration": 362,
    "start_time": "2022-01-09T11:27:27.866Z"
   },
   {
    "duration": 6,
    "start_time": "2022-01-09T11:27:54.544Z"
   },
   {
    "duration": 334,
    "start_time": "2022-01-09T11:29:43.611Z"
   },
   {
    "duration": 21,
    "start_time": "2022-01-09T11:29:52.600Z"
   },
   {
    "duration": 11,
    "start_time": "2022-01-09T11:30:43.922Z"
   },
   {
    "duration": 9,
    "start_time": "2022-01-09T11:31:11.678Z"
   },
   {
    "duration": 21,
    "start_time": "2022-01-09T11:31:45.063Z"
   },
   {
    "duration": 8,
    "start_time": "2022-01-09T11:32:07.665Z"
   },
   {
    "duration": 11,
    "start_time": "2022-01-09T11:32:28.736Z"
   },
   {
    "duration": 8,
    "start_time": "2022-01-09T11:34:08.388Z"
   },
   {
    "duration": 312,
    "start_time": "2022-01-09T11:34:37.497Z"
   },
   {
    "duration": 12,
    "start_time": "2022-01-09T11:34:44.703Z"
   },
   {
    "duration": 12,
    "start_time": "2022-01-09T11:35:07.929Z"
   },
   {
    "duration": 9,
    "start_time": "2022-01-09T11:35:23.501Z"
   },
   {
    "duration": 322,
    "start_time": "2022-01-09T12:08:20.450Z"
   },
   {
    "duration": 2183,
    "start_time": "2022-01-09T12:08:31.031Z"
   },
   {
    "duration": 665,
    "start_time": "2022-01-09T12:09:35.350Z"
   },
   {
    "duration": 722,
    "start_time": "2022-01-09T12:10:30.722Z"
   },
   {
    "duration": 364,
    "start_time": "2022-01-09T12:12:04.653Z"
   },
   {
    "duration": 363,
    "start_time": "2022-01-09T12:12:29.195Z"
   },
   {
    "duration": 8,
    "start_time": "2022-01-09T12:16:50.907Z"
   },
   {
    "duration": 334,
    "start_time": "2022-01-09T12:18:20.886Z"
   },
   {
    "duration": 15,
    "start_time": "2022-01-09T12:18:30.802Z"
   },
   {
    "duration": 331,
    "start_time": "2022-01-09T12:19:01.973Z"
   },
   {
    "duration": 11,
    "start_time": "2022-01-09T12:22:03.932Z"
   },
   {
    "duration": 111,
    "start_time": "2022-01-09T12:24:05.863Z"
   },
   {
    "duration": 318,
    "start_time": "2022-01-09T12:24:11.671Z"
   },
   {
    "duration": 30,
    "start_time": "2022-01-09T12:24:29.141Z"
   },
   {
    "duration": 31,
    "start_time": "2022-01-09T12:25:03.146Z"
   },
   {
    "duration": 48,
    "start_time": "2022-01-09T12:26:25.075Z"
   },
   {
    "duration": 8,
    "start_time": "2022-01-09T12:28:47.085Z"
   },
   {
    "duration": 22,
    "start_time": "2022-01-09T12:28:56.194Z"
   },
   {
    "duration": 8,
    "start_time": "2022-01-09T12:29:37.460Z"
   },
   {
    "duration": 6,
    "start_time": "2022-01-09T12:30:41.551Z"
   },
   {
    "duration": 5,
    "start_time": "2022-01-09T12:31:29.829Z"
   },
   {
    "duration": 5,
    "start_time": "2022-01-09T12:37:38.063Z"
   },
   {
    "duration": 150,
    "start_time": "2022-01-09T12:47:20.908Z"
   },
   {
    "duration": 112,
    "start_time": "2022-01-09T12:48:04.284Z"
   },
   {
    "duration": 116,
    "start_time": "2022-01-09T12:48:18.093Z"
   },
   {
    "duration": 17,
    "start_time": "2022-01-09T12:52:28.546Z"
   },
   {
    "duration": 609,
    "start_time": "2022-01-09T14:56:53.405Z"
   },
   {
    "duration": 370,
    "start_time": "2022-01-09T14:56:54.016Z"
   },
   {
    "duration": 47,
    "start_time": "2022-01-09T14:56:54.388Z"
   },
   {
    "duration": 81,
    "start_time": "2022-01-09T14:56:54.437Z"
   },
   {
    "duration": 32,
    "start_time": "2022-01-09T14:56:54.527Z"
   },
   {
    "duration": 13,
    "start_time": "2022-01-09T14:56:54.561Z"
   },
   {
    "duration": 119,
    "start_time": "2022-01-09T14:56:54.575Z"
   },
   {
    "duration": 48,
    "start_time": "2022-01-09T14:56:54.649Z"
   },
   {
    "duration": 38,
    "start_time": "2022-01-09T14:56:54.660Z"
   },
   {
    "duration": 31,
    "start_time": "2022-01-09T14:56:54.669Z"
   },
   {
    "duration": -73,
    "start_time": "2022-01-09T14:56:54.774Z"
   },
   {
    "duration": -83,
    "start_time": "2022-01-09T14:56:54.785Z"
   },
   {
    "duration": -93,
    "start_time": "2022-01-09T14:56:54.796Z"
   },
   {
    "duration": -101,
    "start_time": "2022-01-09T14:56:54.806Z"
   },
   {
    "duration": -109,
    "start_time": "2022-01-09T14:56:54.816Z"
   },
   {
    "duration": -117,
    "start_time": "2022-01-09T14:56:54.825Z"
   },
   {
    "duration": -126,
    "start_time": "2022-01-09T14:56:54.835Z"
   },
   {
    "duration": -134,
    "start_time": "2022-01-09T14:56:54.845Z"
   },
   {
    "duration": -145,
    "start_time": "2022-01-09T14:56:54.857Z"
   },
   {
    "duration": -153,
    "start_time": "2022-01-09T14:56:54.866Z"
   },
   {
    "duration": -180,
    "start_time": "2022-01-09T14:56:54.895Z"
   },
   {
    "duration": -189,
    "start_time": "2022-01-09T14:56:54.905Z"
   },
   {
    "duration": -199,
    "start_time": "2022-01-09T14:56:54.916Z"
   },
   {
    "duration": -206,
    "start_time": "2022-01-09T14:56:54.925Z"
   },
   {
    "duration": -215,
    "start_time": "2022-01-09T14:56:54.935Z"
   },
   {
    "duration": -223,
    "start_time": "2022-01-09T14:56:54.944Z"
   },
   {
    "duration": -231,
    "start_time": "2022-01-09T14:56:54.954Z"
   },
   {
    "duration": -241,
    "start_time": "2022-01-09T14:56:54.965Z"
   },
   {
    "duration": -300,
    "start_time": "2022-01-09T14:56:55.025Z"
   },
   {
    "duration": -308,
    "start_time": "2022-01-09T14:56:55.034Z"
   },
   {
    "duration": -317,
    "start_time": "2022-01-09T14:56:55.045Z"
   },
   {
    "duration": -330,
    "start_time": "2022-01-09T14:56:55.059Z"
   },
   {
    "duration": -340,
    "start_time": "2022-01-09T14:56:55.070Z"
   },
   {
    "duration": -348,
    "start_time": "2022-01-09T14:56:55.080Z"
   },
   {
    "duration": -358,
    "start_time": "2022-01-09T14:56:55.091Z"
   },
   {
    "duration": -366,
    "start_time": "2022-01-09T14:56:55.100Z"
   },
   {
    "duration": -374,
    "start_time": "2022-01-09T14:56:55.110Z"
   },
   {
    "duration": -383,
    "start_time": "2022-01-09T14:56:55.120Z"
   },
   {
    "duration": -412,
    "start_time": "2022-01-09T14:56:55.151Z"
   },
   {
    "duration": -421,
    "start_time": "2022-01-09T14:56:55.161Z"
   },
   {
    "duration": -430,
    "start_time": "2022-01-09T14:56:55.171Z"
   },
   {
    "duration": 9,
    "start_time": "2022-01-09T14:57:51.829Z"
   },
   {
    "duration": 12,
    "start_time": "2022-01-09T14:57:51.859Z"
   },
   {
    "duration": 176,
    "start_time": "2022-01-09T14:57:51.873Z"
   },
   {
    "duration": 224,
    "start_time": "2022-01-09T14:57:52.051Z"
   },
   {
    "duration": 5,
    "start_time": "2022-01-09T14:57:52.277Z"
   },
   {
    "duration": 7,
    "start_time": "2022-01-09T14:57:52.283Z"
   },
   {
    "duration": 7,
    "start_time": "2022-01-09T14:57:52.291Z"
   },
   {
    "duration": 27,
    "start_time": "2022-01-09T14:57:52.300Z"
   },
   {
    "duration": 6,
    "start_time": "2022-01-09T14:57:52.329Z"
   },
   {
    "duration": 8,
    "start_time": "2022-01-09T14:57:52.337Z"
   },
   {
    "duration": 14,
    "start_time": "2022-01-09T14:57:52.347Z"
   },
   {
    "duration": 265,
    "start_time": "2022-01-09T14:57:52.362Z"
   },
   {
    "duration": 132,
    "start_time": "2022-01-09T14:57:52.628Z"
   },
   {
    "duration": 10,
    "start_time": "2022-01-09T14:57:52.762Z"
   },
   {
    "duration": 5,
    "start_time": "2022-01-09T14:57:52.773Z"
   },
   {
    "duration": 9,
    "start_time": "2022-01-09T14:57:52.780Z"
   },
   {
    "duration": 12,
    "start_time": "2022-01-09T14:57:52.790Z"
   },
   {
    "duration": 28,
    "start_time": "2022-01-09T14:57:52.804Z"
   },
   {
    "duration": 302,
    "start_time": "2022-01-09T14:57:52.833Z"
   },
   {
    "duration": 123,
    "start_time": "2022-01-09T14:57:53.137Z"
   },
   {
    "duration": 11,
    "start_time": "2022-01-09T14:57:53.261Z"
   },
   {
    "duration": 7,
    "start_time": "2022-01-09T14:57:53.273Z"
   },
   {
    "duration": 18,
    "start_time": "2022-01-09T14:57:53.282Z"
   },
   {
    "duration": 6,
    "start_time": "2022-01-09T14:57:53.327Z"
   },
   {
    "duration": 10,
    "start_time": "2022-01-09T14:57:53.335Z"
   },
   {
    "duration": 18,
    "start_time": "2022-01-09T14:57:53.347Z"
   },
   {
    "duration": 3,
    "start_time": "2022-01-09T14:57:53.367Z"
   },
   {
    "duration": 6,
    "start_time": "2022-01-09T14:57:53.372Z"
   },
   {
    "duration": 98,
    "start_time": "2022-01-09T14:57:53.379Z"
   },
   {
    "duration": 32,
    "start_time": "2022-01-09T14:57:53.478Z"
   },
   {
    "duration": 17,
    "start_time": "2022-01-09T14:57:53.511Z"
   },
   {
    "duration": 107,
    "start_time": "2022-01-09T14:57:53.529Z"
   },
   {
    "duration": -828,
    "start_time": "2022-01-09T14:57:54.466Z"
   },
   {
    "duration": -839,
    "start_time": "2022-01-09T14:57:54.478Z"
   },
   {
    "duration": -882,
    "start_time": "2022-01-09T14:57:54.521Z"
   },
   {
    "duration": 112,
    "start_time": "2022-01-09T14:59:25.021Z"
   },
   {
    "duration": 117,
    "start_time": "2022-01-09T15:00:01.156Z"
   },
   {
    "duration": 108,
    "start_time": "2022-01-09T15:00:21.968Z"
   },
   {
    "duration": 4,
    "start_time": "2022-01-09T15:00:28.159Z"
   },
   {
    "duration": 53,
    "start_time": "2022-01-09T15:05:25.289Z"
   },
   {
    "duration": 156,
    "start_time": "2022-01-09T15:05:56.440Z"
   },
   {
    "duration": 454,
    "start_time": "2022-01-09T15:06:10.161Z"
   },
   {
    "duration": 53,
    "start_time": "2022-01-09T15:06:30.575Z"
   },
   {
    "duration": 685,
    "start_time": "2022-01-09T15:18:45.368Z"
   },
   {
    "duration": 137,
    "start_time": "2022-01-09T15:18:58.823Z"
   },
   {
    "duration": 121,
    "start_time": "2022-01-09T15:20:13.474Z"
   },
   {
    "duration": 131,
    "start_time": "2022-01-09T15:25:46.075Z"
   },
   {
    "duration": 120,
    "start_time": "2022-01-09T15:31:00.707Z"
   },
   {
    "duration": 126,
    "start_time": "2022-01-09T15:31:40.194Z"
   },
   {
    "duration": 126,
    "start_time": "2022-01-09T15:34:19.686Z"
   },
   {
    "duration": 7,
    "start_time": "2022-01-09T15:41:16.715Z"
   },
   {
    "duration": 7,
    "start_time": "2022-01-09T15:41:44.365Z"
   },
   {
    "duration": 335,
    "start_time": "2022-01-09T15:44:46.133Z"
   },
   {
    "duration": 382,
    "start_time": "2022-01-09T15:44:55.495Z"
   },
   {
    "duration": 9,
    "start_time": "2022-01-09T15:45:11.006Z"
   },
   {
    "duration": 4,
    "start_time": "2022-01-09T15:47:13.771Z"
   },
   {
    "duration": 4,
    "start_time": "2022-01-09T15:47:27.325Z"
   },
   {
    "duration": 4,
    "start_time": "2022-01-09T15:47:54.074Z"
   },
   {
    "duration": 563,
    "start_time": "2022-01-09T15:48:36.545Z"
   },
   {
    "duration": 382,
    "start_time": "2022-01-09T15:48:37.110Z"
   },
   {
    "duration": 45,
    "start_time": "2022-01-09T15:48:37.493Z"
   },
   {
    "duration": 80,
    "start_time": "2022-01-09T15:48:37.540Z"
   },
   {
    "duration": 33,
    "start_time": "2022-01-09T15:48:37.626Z"
   },
   {
    "duration": 13,
    "start_time": "2022-01-09T15:48:37.661Z"
   },
   {
    "duration": 8,
    "start_time": "2022-01-09T15:48:37.675Z"
   },
   {
    "duration": 19,
    "start_time": "2022-01-09T15:48:37.685Z"
   },
   {
    "duration": 198,
    "start_time": "2022-01-09T15:48:37.727Z"
   },
   {
    "duration": 223,
    "start_time": "2022-01-09T15:48:37.927Z"
   },
   {
    "duration": 4,
    "start_time": "2022-01-09T15:48:38.152Z"
   },
   {
    "duration": 9,
    "start_time": "2022-01-09T15:48:38.157Z"
   },
   {
    "duration": 8,
    "start_time": "2022-01-09T15:48:38.167Z"
   },
   {
    "duration": 6,
    "start_time": "2022-01-09T15:48:38.177Z"
   },
   {
    "duration": 10,
    "start_time": "2022-01-09T15:48:38.185Z"
   },
   {
    "duration": 9,
    "start_time": "2022-01-09T15:48:38.196Z"
   },
   {
    "duration": 48,
    "start_time": "2022-01-09T15:48:38.226Z"
   },
   {
    "duration": 225,
    "start_time": "2022-01-09T15:48:38.275Z"
   },
   {
    "duration": 135,
    "start_time": "2022-01-09T15:48:38.502Z"
   },
   {
    "duration": 10,
    "start_time": "2022-01-09T15:48:38.639Z"
   },
   {
    "duration": 6,
    "start_time": "2022-01-09T15:48:38.651Z"
   },
   {
    "duration": 12,
    "start_time": "2022-01-09T15:48:38.658Z"
   },
   {
    "duration": 8,
    "start_time": "2022-01-09T15:48:38.673Z"
   },
   {
    "duration": 14,
    "start_time": "2022-01-09T15:48:38.682Z"
   },
   {
    "duration": 322,
    "start_time": "2022-01-09T15:48:38.697Z"
   },
   {
    "duration": 139,
    "start_time": "2022-01-09T15:48:39.020Z"
   },
   {
    "duration": 17,
    "start_time": "2022-01-09T15:48:39.161Z"
   },
   {
    "duration": 9,
    "start_time": "2022-01-09T15:48:39.180Z"
   },
   {
    "duration": 39,
    "start_time": "2022-01-09T15:48:39.191Z"
   },
   {
    "duration": 6,
    "start_time": "2022-01-09T15:48:39.232Z"
   },
   {
    "duration": 12,
    "start_time": "2022-01-09T15:48:39.240Z"
   },
   {
    "duration": 18,
    "start_time": "2022-01-09T15:48:39.254Z"
   },
   {
    "duration": 3,
    "start_time": "2022-01-09T15:48:39.273Z"
   },
   {
    "duration": 6,
    "start_time": "2022-01-09T15:48:39.278Z"
   },
   {
    "duration": 94,
    "start_time": "2022-01-09T15:48:39.286Z"
   },
   {
    "duration": 45,
    "start_time": "2022-01-09T15:48:39.382Z"
   },
   {
    "duration": 5,
    "start_time": "2022-01-09T15:48:39.429Z"
   },
   {
    "duration": 10,
    "start_time": "2022-01-09T15:48:39.435Z"
   },
   {
    "duration": 4,
    "start_time": "2022-01-09T15:48:55.742Z"
   },
   {
    "duration": 4,
    "start_time": "2022-01-09T15:49:05.704Z"
   },
   {
    "duration": 6,
    "start_time": "2022-01-09T15:49:26.344Z"
   },
   {
    "duration": 12,
    "start_time": "2022-01-09T15:50:24.126Z"
   },
   {
    "duration": 689,
    "start_time": "2022-01-09T15:52:26.998Z"
   },
   {
    "duration": 361,
    "start_time": "2022-01-09T15:52:27.689Z"
   },
   {
    "duration": 45,
    "start_time": "2022-01-09T15:52:28.052Z"
   },
   {
    "duration": 78,
    "start_time": "2022-01-09T15:52:28.099Z"
   },
   {
    "duration": 30,
    "start_time": "2022-01-09T15:52:28.179Z"
   },
   {
    "duration": 11,
    "start_time": "2022-01-09T15:52:28.227Z"
   },
   {
    "duration": 12,
    "start_time": "2022-01-09T15:52:28.240Z"
   },
   {
    "duration": 17,
    "start_time": "2022-01-09T15:52:28.253Z"
   },
   {
    "duration": 196,
    "start_time": "2022-01-09T15:52:28.272Z"
   },
   {
    "duration": 221,
    "start_time": "2022-01-09T15:52:28.470Z"
   },
   {
    "duration": 5,
    "start_time": "2022-01-09T15:52:28.692Z"
   },
   {
    "duration": 8,
    "start_time": "2022-01-09T15:52:28.698Z"
   },
   {
    "duration": 20,
    "start_time": "2022-01-09T15:52:28.708Z"
   },
   {
    "duration": 4,
    "start_time": "2022-01-09T15:52:28.730Z"
   },
   {
    "duration": 10,
    "start_time": "2022-01-09T15:52:28.736Z"
   },
   {
    "duration": 8,
    "start_time": "2022-01-09T15:52:28.747Z"
   },
   {
    "duration": 15,
    "start_time": "2022-01-09T15:52:28.756Z"
   },
   {
    "duration": 233,
    "start_time": "2022-01-09T15:52:28.772Z"
   },
   {
    "duration": 179,
    "start_time": "2022-01-09T15:52:29.006Z"
   },
   {
    "duration": 10,
    "start_time": "2022-01-09T15:52:29.186Z"
   },
   {
    "duration": 6,
    "start_time": "2022-01-09T15:52:29.198Z"
   },
   {
    "duration": 26,
    "start_time": "2022-01-09T15:52:29.205Z"
   },
   {
    "duration": 11,
    "start_time": "2022-01-09T15:52:29.232Z"
   },
   {
    "duration": 15,
    "start_time": "2022-01-09T15:52:29.244Z"
   },
   {
    "duration": 310,
    "start_time": "2022-01-09T15:52:29.260Z"
   },
   {
    "duration": 133,
    "start_time": "2022-01-09T15:52:29.571Z"
   },
   {
    "duration": 21,
    "start_time": "2022-01-09T15:52:29.707Z"
   },
   {
    "duration": 7,
    "start_time": "2022-01-09T15:52:29.729Z"
   },
   {
    "duration": 18,
    "start_time": "2022-01-09T15:52:29.738Z"
   },
   {
    "duration": 6,
    "start_time": "2022-01-09T15:52:29.757Z"
   },
   {
    "duration": 13,
    "start_time": "2022-01-09T15:52:29.764Z"
   },
   {
    "duration": 54,
    "start_time": "2022-01-09T15:52:29.778Z"
   },
   {
    "duration": 3,
    "start_time": "2022-01-09T15:52:29.834Z"
   },
   {
    "duration": 7,
    "start_time": "2022-01-09T15:52:29.838Z"
   },
   {
    "duration": 81,
    "start_time": "2022-01-09T15:52:29.846Z"
   },
   {
    "duration": 33,
    "start_time": "2022-01-09T15:52:29.928Z"
   },
   {
    "duration": 4,
    "start_time": "2022-01-09T15:52:29.963Z"
   },
   {
    "duration": 7,
    "start_time": "2022-01-09T15:52:29.969Z"
   },
   {
    "duration": 9,
    "start_time": "2022-01-09T15:52:29.977Z"
   },
   {
    "duration": 4,
    "start_time": "2022-01-09T15:52:29.987Z"
   },
   {
    "duration": 174,
    "start_time": "2022-01-09T15:52:29.993Z"
   },
   {
    "duration": 7,
    "start_time": "2022-01-09T15:52:30.169Z"
   },
   {
    "duration": 11,
    "start_time": "2022-01-09T15:57:25.539Z"
   },
   {
    "duration": 27,
    "start_time": "2022-01-09T15:58:31.059Z"
   },
   {
    "duration": 384,
    "start_time": "2022-01-09T16:12:39.159Z"
   },
   {
    "duration": 320,
    "start_time": "2022-01-09T16:13:39.964Z"
   },
   {
    "duration": 14,
    "start_time": "2022-01-09T16:15:54.467Z"
   },
   {
    "duration": 653,
    "start_time": "2022-01-09T16:16:55.613Z"
   },
   {
    "duration": 367,
    "start_time": "2022-01-09T16:16:56.268Z"
   },
   {
    "duration": 74,
    "start_time": "2022-01-09T16:16:56.637Z"
   },
   {
    "duration": 95,
    "start_time": "2022-01-09T16:16:56.713Z"
   },
   {
    "duration": 35,
    "start_time": "2022-01-09T16:16:56.809Z"
   },
   {
    "duration": 12,
    "start_time": "2022-01-09T16:16:56.845Z"
   },
   {
    "duration": 7,
    "start_time": "2022-01-09T16:16:56.859Z"
   },
   {
    "duration": 14,
    "start_time": "2022-01-09T16:16:56.867Z"
   },
   {
    "duration": 202,
    "start_time": "2022-01-09T16:16:56.883Z"
   },
   {
    "duration": 213,
    "start_time": "2022-01-09T16:16:57.087Z"
   },
   {
    "duration": 4,
    "start_time": "2022-01-09T16:16:57.302Z"
   },
   {
    "duration": 21,
    "start_time": "2022-01-09T16:16:57.307Z"
   },
   {
    "duration": 6,
    "start_time": "2022-01-09T16:16:57.329Z"
   },
   {
    "duration": 4,
    "start_time": "2022-01-09T16:16:57.337Z"
   },
   {
    "duration": 11,
    "start_time": "2022-01-09T16:16:57.343Z"
   },
   {
    "duration": 10,
    "start_time": "2022-01-09T16:16:57.355Z"
   },
   {
    "duration": 16,
    "start_time": "2022-01-09T16:16:57.367Z"
   },
   {
    "duration": 223,
    "start_time": "2022-01-09T16:16:57.384Z"
   },
   {
    "duration": 177,
    "start_time": "2022-01-09T16:16:57.609Z"
   },
   {
    "duration": 10,
    "start_time": "2022-01-09T16:16:57.788Z"
   },
   {
    "duration": 6,
    "start_time": "2022-01-09T16:16:57.799Z"
   },
   {
    "duration": 21,
    "start_time": "2022-01-09T16:16:57.806Z"
   },
   {
    "duration": 7,
    "start_time": "2022-01-09T16:16:57.828Z"
   },
   {
    "duration": 14,
    "start_time": "2022-01-09T16:16:57.836Z"
   },
   {
    "duration": 298,
    "start_time": "2022-01-09T16:16:57.851Z"
   },
   {
    "duration": 126,
    "start_time": "2022-01-09T16:16:58.151Z"
   },
   {
    "duration": 11,
    "start_time": "2022-01-09T16:16:58.280Z"
   },
   {
    "duration": 7,
    "start_time": "2022-01-09T16:16:58.293Z"
   },
   {
    "duration": 38,
    "start_time": "2022-01-09T16:16:58.301Z"
   },
   {
    "duration": 6,
    "start_time": "2022-01-09T16:16:58.341Z"
   },
   {
    "duration": 12,
    "start_time": "2022-01-09T16:16:58.348Z"
   },
   {
    "duration": 18,
    "start_time": "2022-01-09T16:16:58.361Z"
   },
   {
    "duration": 3,
    "start_time": "2022-01-09T16:16:58.380Z"
   },
   {
    "duration": 7,
    "start_time": "2022-01-09T16:16:58.384Z"
   },
   {
    "duration": 90,
    "start_time": "2022-01-09T16:16:58.392Z"
   },
   {
    "duration": 46,
    "start_time": "2022-01-09T16:16:58.483Z"
   },
   {
    "duration": 5,
    "start_time": "2022-01-09T16:16:58.530Z"
   },
   {
    "duration": 15,
    "start_time": "2022-01-09T16:16:58.536Z"
   },
   {
    "duration": 8,
    "start_time": "2022-01-09T16:16:58.552Z"
   },
   {
    "duration": 145,
    "start_time": "2022-01-09T16:16:58.561Z"
   },
   {
    "duration": 23,
    "start_time": "2022-01-09T16:16:58.708Z"
   },
   {
    "duration": 19,
    "start_time": "2022-01-09T16:16:58.732Z"
   },
   {
    "duration": 644,
    "start_time": "2022-01-09T16:18:11.421Z"
   },
   {
    "duration": 371,
    "start_time": "2022-01-09T16:18:12.067Z"
   },
   {
    "duration": 63,
    "start_time": "2022-01-09T16:18:12.440Z"
   },
   {
    "duration": 80,
    "start_time": "2022-01-09T16:18:12.505Z"
   },
   {
    "duration": 52,
    "start_time": "2022-01-09T16:18:12.587Z"
   },
   {
    "duration": 12,
    "start_time": "2022-01-09T16:18:12.641Z"
   },
   {
    "duration": 9,
    "start_time": "2022-01-09T16:18:12.655Z"
   },
   {
    "duration": 13,
    "start_time": "2022-01-09T16:18:12.667Z"
   },
   {
    "duration": 207,
    "start_time": "2022-01-09T16:18:12.682Z"
   },
   {
    "duration": 219,
    "start_time": "2022-01-09T16:18:12.890Z"
   },
   {
    "duration": 5,
    "start_time": "2022-01-09T16:18:13.110Z"
   },
   {
    "duration": 15,
    "start_time": "2022-01-09T16:18:13.116Z"
   },
   {
    "duration": 7,
    "start_time": "2022-01-09T16:18:13.132Z"
   },
   {
    "duration": 5,
    "start_time": "2022-01-09T16:18:13.140Z"
   },
   {
    "duration": 8,
    "start_time": "2022-01-09T16:18:13.146Z"
   },
   {
    "duration": 9,
    "start_time": "2022-01-09T16:18:13.155Z"
   },
   {
    "duration": 69,
    "start_time": "2022-01-09T16:18:13.165Z"
   },
   {
    "duration": 223,
    "start_time": "2022-01-09T16:18:13.236Z"
   },
   {
    "duration": 134,
    "start_time": "2022-01-09T16:18:13.461Z"
   },
   {
    "duration": 9,
    "start_time": "2022-01-09T16:18:13.597Z"
   },
   {
    "duration": 6,
    "start_time": "2022-01-09T16:18:13.608Z"
   },
   {
    "duration": 7,
    "start_time": "2022-01-09T16:18:13.627Z"
   },
   {
    "duration": 6,
    "start_time": "2022-01-09T16:18:13.637Z"
   },
   {
    "duration": 12,
    "start_time": "2022-01-09T16:18:13.645Z"
   },
   {
    "duration": 312,
    "start_time": "2022-01-09T16:18:13.658Z"
   },
   {
    "duration": 158,
    "start_time": "2022-01-09T16:18:13.971Z"
   },
   {
    "duration": 14,
    "start_time": "2022-01-09T16:18:14.131Z"
   },
   {
    "duration": 8,
    "start_time": "2022-01-09T16:18:14.147Z"
   },
   {
    "duration": 19,
    "start_time": "2022-01-09T16:18:14.156Z"
   },
   {
    "duration": 6,
    "start_time": "2022-01-09T16:18:14.177Z"
   },
   {
    "duration": 45,
    "start_time": "2022-01-09T16:18:14.185Z"
   },
   {
    "duration": 25,
    "start_time": "2022-01-09T16:18:14.231Z"
   },
   {
    "duration": 3,
    "start_time": "2022-01-09T16:18:14.257Z"
   },
   {
    "duration": 7,
    "start_time": "2022-01-09T16:18:14.261Z"
   },
   {
    "duration": 85,
    "start_time": "2022-01-09T16:18:14.269Z"
   },
   {
    "duration": 51,
    "start_time": "2022-01-09T16:18:14.356Z"
   },
   {
    "duration": 18,
    "start_time": "2022-01-09T16:18:14.409Z"
   },
   {
    "duration": 11,
    "start_time": "2022-01-09T16:18:14.429Z"
   },
   {
    "duration": 6,
    "start_time": "2022-01-09T16:18:14.442Z"
   },
   {
    "duration": 151,
    "start_time": "2022-01-09T16:18:14.450Z"
   },
   {
    "duration": 10,
    "start_time": "2022-01-09T16:18:14.603Z"
   },
   {
    "duration": 19,
    "start_time": "2022-01-09T16:18:43.859Z"
   },
   {
    "duration": 1135,
    "start_time": "2022-01-10T10:55:47.894Z"
   },
   {
    "duration": 545,
    "start_time": "2022-01-10T10:55:49.032Z"
   },
   {
    "duration": 77,
    "start_time": "2022-01-10T10:55:49.581Z"
   },
   {
    "duration": 151,
    "start_time": "2022-01-10T10:55:49.662Z"
   },
   {
    "duration": 69,
    "start_time": "2022-01-10T10:55:49.815Z"
   },
   {
    "duration": 55,
    "start_time": "2022-01-10T10:55:49.887Z"
   },
   {
    "duration": 24,
    "start_time": "2022-01-10T10:55:49.946Z"
   },
   {
    "duration": 51,
    "start_time": "2022-01-10T10:55:49.973Z"
   },
   {
    "duration": 331,
    "start_time": "2022-01-10T10:55:50.029Z"
   },
   {
    "duration": 436,
    "start_time": "2022-01-10T10:55:50.363Z"
   },
   {
    "duration": 7,
    "start_time": "2022-01-10T10:55:50.802Z"
   },
   {
    "duration": 12,
    "start_time": "2022-01-10T10:55:50.823Z"
   },
   {
    "duration": 14,
    "start_time": "2022-01-10T10:55:50.839Z"
   },
   {
    "duration": 8,
    "start_time": "2022-01-10T10:55:50.856Z"
   },
   {
    "duration": 60,
    "start_time": "2022-01-10T10:55:50.867Z"
   },
   {
    "duration": 12,
    "start_time": "2022-01-10T10:55:50.930Z"
   },
   {
    "duration": 27,
    "start_time": "2022-01-10T10:55:50.945Z"
   },
   {
    "duration": 455,
    "start_time": "2022-01-10T10:55:50.975Z"
   },
   {
    "duration": 363,
    "start_time": "2022-01-10T10:55:51.432Z"
   },
   {
    "duration": 15,
    "start_time": "2022-01-10T10:55:51.797Z"
   },
   {
    "duration": 18,
    "start_time": "2022-01-10T10:55:51.814Z"
   },
   {
    "duration": 18,
    "start_time": "2022-01-10T10:55:51.834Z"
   },
   {
    "duration": 13,
    "start_time": "2022-01-10T10:55:51.855Z"
   },
   {
    "duration": 55,
    "start_time": "2022-01-10T10:55:51.870Z"
   },
   {
    "duration": 673,
    "start_time": "2022-01-10T10:55:51.927Z"
   },
   {
    "duration": 354,
    "start_time": "2022-01-10T10:55:52.603Z"
   },
   {
    "duration": 23,
    "start_time": "2022-01-10T10:55:52.964Z"
   },
   {
    "duration": 39,
    "start_time": "2022-01-10T10:55:52.991Z"
   },
   {
    "duration": 67,
    "start_time": "2022-01-10T10:55:53.033Z"
   },
   {
    "duration": 44,
    "start_time": "2022-01-10T10:55:53.102Z"
   },
   {
    "duration": 62,
    "start_time": "2022-01-10T10:55:53.149Z"
   },
   {
    "duration": 72,
    "start_time": "2022-01-10T10:55:53.214Z"
   },
   {
    "duration": 57,
    "start_time": "2022-01-10T10:55:53.289Z"
   },
   {
    "duration": 77,
    "start_time": "2022-01-10T10:55:53.349Z"
   },
   {
    "duration": 154,
    "start_time": "2022-01-10T10:55:53.428Z"
   },
   {
    "duration": 91,
    "start_time": "2022-01-10T10:55:53.586Z"
   },
   {
    "duration": 9,
    "start_time": "2022-01-10T10:55:53.680Z"
   },
   {
    "duration": 67,
    "start_time": "2022-01-10T10:55:53.691Z"
   },
   {
    "duration": 30,
    "start_time": "2022-01-10T10:55:53.761Z"
   },
   {
    "duration": 272,
    "start_time": "2022-01-10T10:55:53.794Z"
   },
   {
    "duration": 10,
    "start_time": "2022-01-10T11:00:38.733Z"
   },
   {
    "duration": 17,
    "start_time": "2022-01-10T11:01:15.534Z"
   },
   {
    "duration": 11,
    "start_time": "2022-01-10T11:02:55.180Z"
   },
   {
    "duration": 10,
    "start_time": "2022-01-10T11:03:05.357Z"
   },
   {
    "duration": 119,
    "start_time": "2022-01-10T11:04:06.404Z"
   },
   {
    "duration": 29,
    "start_time": "2022-01-10T11:04:45.340Z"
   },
   {
    "duration": 17,
    "start_time": "2022-01-10T11:06:13.988Z"
   },
   {
    "duration": 18,
    "start_time": "2022-01-10T11:06:23.379Z"
   },
   {
    "duration": 6,
    "start_time": "2022-01-10T11:06:52.220Z"
   },
   {
    "duration": 15,
    "start_time": "2022-01-10T11:07:17.699Z"
   },
   {
    "duration": 6,
    "start_time": "2022-01-10T11:07:22.515Z"
   },
   {
    "duration": 211,
    "start_time": "2022-01-10T11:35:34.801Z"
   },
   {
    "duration": 568,
    "start_time": "2022-01-10T11:41:56.440Z"
   },
   {
    "duration": 165,
    "start_time": "2022-01-10T11:42:31.535Z"
   },
   {
    "duration": 100,
    "start_time": "2022-01-10T11:42:38.727Z"
   },
   {
    "duration": 365,
    "start_time": "2022-01-10T11:42:46.343Z"
   },
   {
    "duration": 222,
    "start_time": "2022-01-10T11:43:24.567Z"
   },
   {
    "duration": 243,
    "start_time": "2022-01-10T11:43:56.158Z"
   },
   {
    "duration": 271,
    "start_time": "2022-01-10T11:44:19.790Z"
   },
   {
    "duration": 290,
    "start_time": "2022-01-10T11:44:43.663Z"
   },
   {
    "duration": 402,
    "start_time": "2022-01-10T11:45:03.014Z"
   },
   {
    "duration": 486,
    "start_time": "2022-01-10T11:45:18.701Z"
   },
   {
    "duration": 414,
    "start_time": "2022-01-10T11:45:30.821Z"
   },
   {
    "duration": 438,
    "start_time": "2022-01-10T11:45:39.741Z"
   },
   {
    "duration": 422,
    "start_time": "2022-01-10T11:45:49.573Z"
   },
   {
    "duration": 379,
    "start_time": "2022-01-10T11:46:04.828Z"
   },
   {
    "duration": 383,
    "start_time": "2022-01-10T11:46:15.701Z"
   },
   {
    "duration": 278,
    "start_time": "2022-01-10T11:46:37.845Z"
   },
   {
    "duration": 307,
    "start_time": "2022-01-10T11:46:55.525Z"
   },
   {
    "duration": 272,
    "start_time": "2022-01-10T11:47:11.109Z"
   },
   {
    "duration": 307,
    "start_time": "2022-01-10T11:47:32.748Z"
   },
   {
    "duration": 270,
    "start_time": "2022-01-10T11:47:40.556Z"
   },
   {
    "duration": 373,
    "start_time": "2022-01-10T11:51:29.057Z"
   },
   {
    "duration": 567,
    "start_time": "2022-01-10T11:52:11.458Z"
   },
   {
    "duration": 216,
    "start_time": "2022-01-10T11:52:37.409Z"
   },
   {
    "duration": 230,
    "start_time": "2022-01-10T11:55:40.713Z"
   },
   {
    "duration": 245,
    "start_time": "2022-01-10T12:13:54.756Z"
   },
   {
    "duration": 37,
    "start_time": "2022-01-10T12:42:06.998Z"
   },
   {
    "duration": 51,
    "start_time": "2022-01-10T12:44:15.213Z"
   },
   {
    "duration": 53,
    "start_time": "2022-01-10T12:47:19.187Z"
   },
   {
    "duration": 60,
    "start_time": "2022-01-10T12:49:25.642Z"
   },
   {
    "duration": 26,
    "start_time": "2022-01-10T13:26:18.877Z"
   },
   {
    "duration": 14,
    "start_time": "2022-01-10T13:32:00.594Z"
   },
   {
    "duration": 10,
    "start_time": "2022-01-10T13:32:46.369Z"
   },
   {
    "duration": 7135,
    "start_time": "2022-01-10T13:35:46.024Z"
   },
   {
    "duration": 12,
    "start_time": "2022-01-10T13:36:19.079Z"
   },
   {
    "duration": 11,
    "start_time": "2022-01-10T13:36:31.703Z"
   },
   {
    "duration": 11,
    "start_time": "2022-01-10T13:36:45.015Z"
   },
   {
    "duration": 11,
    "start_time": "2022-01-10T13:37:33.439Z"
   },
   {
    "duration": 11,
    "start_time": "2022-01-10T13:37:42.182Z"
   },
   {
    "duration": 11,
    "start_time": "2022-01-10T13:37:48.054Z"
   },
   {
    "duration": 45,
    "start_time": "2022-01-10T13:39:25.716Z"
   },
   {
    "duration": 13,
    "start_time": "2022-01-10T13:41:29.332Z"
   },
   {
    "duration": 33,
    "start_time": "2022-01-10T13:43:10.292Z"
   },
   {
    "duration": 29,
    "start_time": "2022-01-10T13:43:40.828Z"
   },
   {
    "duration": 10,
    "start_time": "2022-01-10T13:44:09.867Z"
   },
   {
    "duration": 8,
    "start_time": "2022-01-10T13:45:10.699Z"
   },
   {
    "duration": 7,
    "start_time": "2022-01-10T13:45:29.667Z"
   },
   {
    "duration": 4888,
    "start_time": "2022-01-10T13:47:27.785Z"
   },
   {
    "duration": 7835,
    "start_time": "2022-01-10T13:48:01.666Z"
   },
   {
    "duration": 7,
    "start_time": "2022-01-10T13:48:20.514Z"
   },
   {
    "duration": 10141,
    "start_time": "2022-01-10T13:48:30.113Z"
   },
   {
    "duration": 7,
    "start_time": "2022-01-10T13:48:54.409Z"
   },
   {
    "duration": 8,
    "start_time": "2022-01-10T13:51:08.937Z"
   },
   {
    "duration": 10,
    "start_time": "2022-01-10T13:54:50.533Z"
   },
   {
    "duration": 11,
    "start_time": "2022-01-10T13:55:08.802Z"
   },
   {
    "duration": 11,
    "start_time": "2022-01-10T13:55:16.093Z"
   },
   {
    "duration": 14,
    "start_time": "2022-01-10T13:55:46.126Z"
   },
   {
    "duration": 9,
    "start_time": "2022-01-10T13:56:02.461Z"
   },
   {
    "duration": 8,
    "start_time": "2022-01-10T13:56:11.533Z"
   },
   {
    "duration": 5,
    "start_time": "2022-01-10T13:58:05.876Z"
   },
   {
    "duration": 4,
    "start_time": "2022-01-10T13:58:21.644Z"
   },
   {
    "duration": 102,
    "start_time": "2022-01-10T13:59:39.339Z"
   },
   {
    "duration": 7,
    "start_time": "2022-01-10T13:59:51.274Z"
   },
   {
    "duration": 12,
    "start_time": "2022-01-10T14:01:40.706Z"
   },
   {
    "duration": 3818,
    "start_time": "2022-01-10T14:03:11.993Z"
   },
   {
    "duration": 21,
    "start_time": "2022-01-10T14:03:29.969Z"
   },
   {
    "duration": 38,
    "start_time": "2022-01-10T14:04:43.665Z"
   },
   {
    "duration": 14,
    "start_time": "2022-01-10T14:05:50.036Z"
   },
   {
    "duration": 22,
    "start_time": "2022-01-10T14:06:11.983Z"
   },
   {
    "duration": 689,
    "start_time": "2022-01-10T14:07:47.250Z"
   },
   {
    "duration": 496,
    "start_time": "2022-01-10T14:07:47.941Z"
   },
   {
    "duration": 83,
    "start_time": "2022-01-10T14:07:48.441Z"
   },
   {
    "duration": 149,
    "start_time": "2022-01-10T14:07:48.528Z"
   },
   {
    "duration": 72,
    "start_time": "2022-01-10T14:07:48.680Z"
   },
   {
    "duration": 19,
    "start_time": "2022-01-10T14:07:48.755Z"
   },
   {
    "duration": 14,
    "start_time": "2022-01-10T14:07:48.776Z"
   },
   {
    "duration": 51,
    "start_time": "2022-01-10T14:07:48.792Z"
   },
   {
    "duration": 336,
    "start_time": "2022-01-10T14:07:48.847Z"
   },
   {
    "duration": 436,
    "start_time": "2022-01-10T14:07:49.187Z"
   },
   {
    "duration": 7,
    "start_time": "2022-01-10T14:07:49.626Z"
   },
   {
    "duration": 88,
    "start_time": "2022-01-10T14:07:49.635Z"
   },
   {
    "duration": 86,
    "start_time": "2022-01-10T14:07:49.725Z"
   },
   {
    "duration": 43,
    "start_time": "2022-01-10T14:07:49.813Z"
   },
   {
    "duration": 128,
    "start_time": "2022-01-10T14:07:49.859Z"
   },
   {
    "duration": 172,
    "start_time": "2022-01-10T14:07:49.991Z"
   },
   {
    "duration": 154,
    "start_time": "2022-01-10T14:07:50.166Z"
   },
   {
    "duration": 526,
    "start_time": "2022-01-10T14:07:50.323Z"
   },
   {
    "duration": 296,
    "start_time": "2022-01-10T14:07:50.853Z"
   },
   {
    "duration": 14,
    "start_time": "2022-01-10T14:07:51.151Z"
   },
   {
    "duration": 10,
    "start_time": "2022-01-10T14:07:51.167Z"
   },
   {
    "duration": 45,
    "start_time": "2022-01-10T14:07:51.180Z"
   },
   {
    "duration": 12,
    "start_time": "2022-01-10T14:07:51.227Z"
   },
   {
    "duration": 21,
    "start_time": "2022-01-10T14:07:51.242Z"
   },
   {
    "duration": 726,
    "start_time": "2022-01-10T14:07:51.267Z"
   },
   {
    "duration": 257,
    "start_time": "2022-01-10T14:07:51.996Z"
   },
   {
    "duration": 17,
    "start_time": "2022-01-10T14:07:52.258Z"
   },
   {
    "duration": 10,
    "start_time": "2022-01-10T14:07:52.277Z"
   },
   {
    "duration": 54,
    "start_time": "2022-01-10T14:07:52.290Z"
   },
   {
    "duration": 12,
    "start_time": "2022-01-10T14:07:52.347Z"
   },
   {
    "duration": 22,
    "start_time": "2022-01-10T14:07:52.362Z"
   },
   {
    "duration": 63,
    "start_time": "2022-01-10T14:07:52.386Z"
   },
   {
    "duration": 5,
    "start_time": "2022-01-10T14:07:52.452Z"
   },
   {
    "duration": 13,
    "start_time": "2022-01-10T14:07:52.459Z"
   },
   {
    "duration": 131,
    "start_time": "2022-01-10T14:07:52.475Z"
   },
   {
    "duration": 69,
    "start_time": "2022-01-10T14:07:52.608Z"
   },
   {
    "duration": 11,
    "start_time": "2022-01-10T14:07:52.680Z"
   },
   {
    "duration": 9,
    "start_time": "2022-01-10T14:07:52.724Z"
   },
   {
    "duration": 18,
    "start_time": "2022-01-10T14:07:52.736Z"
   },
   {
    "duration": 8,
    "start_time": "2022-01-10T14:07:52.757Z"
   },
   {
    "duration": 286,
    "start_time": "2022-01-10T14:07:52.768Z"
   },
   {
    "duration": 82,
    "start_time": "2022-01-10T14:07:53.057Z"
   },
   {
    "duration": 34,
    "start_time": "2022-01-10T14:08:10.003Z"
   },
   {
    "duration": 8,
    "start_time": "2022-01-10T14:09:33.659Z"
   },
   {
    "duration": 12,
    "start_time": "2022-01-10T14:09:38.426Z"
   },
   {
    "duration": 827,
    "start_time": "2022-01-10T14:10:52.785Z"
   },
   {
    "duration": 88,
    "start_time": "2022-01-10T14:11:05.233Z"
   },
   {
    "duration": 743,
    "start_time": "2022-01-10T14:11:17.881Z"
   },
   {
    "duration": 7747,
    "start_time": "2022-01-10T14:13:49.720Z"
   },
   {
    "duration": 943,
    "start_time": "2022-01-10T14:15:47.783Z"
   },
   {
    "duration": 320,
    "start_time": "2022-01-10T14:17:01.839Z"
   },
   {
    "duration": 24,
    "start_time": "2022-01-10T14:17:13.967Z"
   },
   {
    "duration": 32,
    "start_time": "2022-01-10T14:17:46.493Z"
   },
   {
    "duration": 913,
    "start_time": "2022-01-10T14:18:27.412Z"
   },
   {
    "duration": 13,
    "start_time": "2022-01-10T14:22:34.955Z"
   },
   {
    "duration": 18,
    "start_time": "2022-01-10T14:23:09.441Z"
   },
   {
    "duration": 15,
    "start_time": "2022-01-10T14:24:16.666Z"
   },
   {
    "duration": 286,
    "start_time": "2022-01-10T14:24:40.522Z"
   },
   {
    "duration": 25,
    "start_time": "2022-01-10T14:25:39.346Z"
   },
   {
    "duration": 6,
    "start_time": "2022-01-10T14:26:56.256Z"
   },
   {
    "duration": 24,
    "start_time": "2022-01-10T14:27:03.648Z"
   },
   {
    "duration": 19,
    "start_time": "2022-01-10T14:27:52.401Z"
   },
   {
    "duration": 29,
    "start_time": "2022-01-10T14:28:41.600Z"
   },
   {
    "duration": 32,
    "start_time": "2022-01-10T14:29:16.738Z"
   },
   {
    "duration": 29,
    "start_time": "2022-01-10T14:29:25.343Z"
   },
   {
    "duration": 30,
    "start_time": "2022-01-10T14:29:51.103Z"
   },
   {
    "duration": 30,
    "start_time": "2022-01-10T14:30:27.240Z"
   },
   {
    "duration": 12,
    "start_time": "2022-01-10T14:31:04.848Z"
   },
   {
    "duration": 14,
    "start_time": "2022-01-10T14:33:15.765Z"
   },
   {
    "duration": 34,
    "start_time": "2022-01-10T14:33:18.797Z"
   },
   {
    "duration": 718,
    "start_time": "2022-01-10T14:58:33.858Z"
   },
   {
    "duration": 506,
    "start_time": "2022-01-10T14:58:34.579Z"
   },
   {
    "duration": 74,
    "start_time": "2022-01-10T14:58:35.088Z"
   },
   {
    "duration": 274,
    "start_time": "2022-01-10T14:58:35.165Z"
   },
   {
    "duration": 174,
    "start_time": "2022-01-10T14:58:35.442Z"
   },
   {
    "duration": 281,
    "start_time": "2022-01-10T14:58:35.619Z"
   },
   {
    "duration": 188,
    "start_time": "2022-01-10T14:58:35.904Z"
   },
   {
    "duration": 231,
    "start_time": "2022-01-10T14:58:36.096Z"
   },
   {
    "duration": 567,
    "start_time": "2022-01-10T14:58:36.331Z"
   },
   {
    "duration": 443,
    "start_time": "2022-01-10T14:58:36.900Z"
   },
   {
    "duration": 7,
    "start_time": "2022-01-10T14:58:37.346Z"
   },
   {
    "duration": 245,
    "start_time": "2022-01-10T14:58:37.356Z"
   },
   {
    "duration": 232,
    "start_time": "2022-01-10T14:58:37.604Z"
   },
   {
    "duration": 236,
    "start_time": "2022-01-10T14:58:37.839Z"
   },
   {
    "duration": 259,
    "start_time": "2022-01-10T14:58:38.078Z"
   },
   {
    "duration": 238,
    "start_time": "2022-01-10T14:58:38.340Z"
   },
   {
    "duration": 258,
    "start_time": "2022-01-10T14:58:38.581Z"
   },
   {
    "duration": 583,
    "start_time": "2022-01-10T14:58:38.841Z"
   },
   {
    "duration": 247,
    "start_time": "2022-01-10T14:58:39.426Z"
   },
   {
    "duration": 159,
    "start_time": "2022-01-10T14:58:39.676Z"
   },
   {
    "duration": 326,
    "start_time": "2022-01-10T14:58:39.839Z"
   },
   {
    "duration": 245,
    "start_time": "2022-01-10T14:58:40.168Z"
   },
   {
    "duration": 398,
    "start_time": "2022-01-10T14:58:40.419Z"
   },
   {
    "duration": 324,
    "start_time": "2022-01-10T14:58:40.820Z"
   },
   {
    "duration": 936,
    "start_time": "2022-01-10T14:58:41.147Z"
   },
   {
    "duration": 250,
    "start_time": "2022-01-10T14:58:42.085Z"
   },
   {
    "duration": 26,
    "start_time": "2022-01-10T14:58:42.337Z"
   },
   {
    "duration": 321,
    "start_time": "2022-01-10T14:58:42.366Z"
   },
   {
    "duration": 257,
    "start_time": "2022-01-10T14:58:42.690Z"
   },
   {
    "duration": 371,
    "start_time": "2022-01-10T14:58:42.949Z"
   },
   {
    "duration": 299,
    "start_time": "2022-01-10T14:58:43.323Z"
   },
   {
    "duration": 196,
    "start_time": "2022-01-10T14:58:43.624Z"
   },
   {
    "duration": 179,
    "start_time": "2022-01-10T14:58:43.823Z"
   },
   {
    "duration": 206,
    "start_time": "2022-01-10T14:58:44.005Z"
   },
   {
    "duration": 368,
    "start_time": "2022-01-10T14:58:44.214Z"
   },
   {
    "duration": 192,
    "start_time": "2022-01-10T14:58:44.584Z"
   },
   {
    "duration": 156,
    "start_time": "2022-01-10T14:58:44.779Z"
   },
   {
    "duration": 267,
    "start_time": "2022-01-10T14:58:44.938Z"
   },
   {
    "duration": 248,
    "start_time": "2022-01-10T14:58:45.207Z"
   },
   {
    "duration": 414,
    "start_time": "2022-01-10T14:58:45.457Z"
   },
   {
    "duration": 468,
    "start_time": "2022-01-10T14:58:45.874Z"
   },
   {
    "duration": 186,
    "start_time": "2022-01-10T14:58:46.345Z"
   },
   {
    "duration": 215,
    "start_time": "2022-01-10T14:58:46.534Z"
   },
   {
    "duration": 12,
    "start_time": "2022-01-10T14:59:04.125Z"
   },
   {
    "duration": 783,
    "start_time": "2022-01-10T15:01:03.893Z"
   },
   {
    "duration": 509,
    "start_time": "2022-01-10T15:01:04.679Z"
   },
   {
    "duration": 78,
    "start_time": "2022-01-10T15:01:05.191Z"
   },
   {
    "duration": 244,
    "start_time": "2022-01-10T15:01:05.272Z"
   },
   {
    "duration": 254,
    "start_time": "2022-01-10T15:01:05.519Z"
   },
   {
    "duration": 159,
    "start_time": "2022-01-10T15:01:05.775Z"
   },
   {
    "duration": 184,
    "start_time": "2022-01-10T15:01:05.937Z"
   },
   {
    "duration": 226,
    "start_time": "2022-01-10T15:01:06.126Z"
   },
   {
    "duration": 529,
    "start_time": "2022-01-10T15:01:06.355Z"
   },
   {
    "duration": 463,
    "start_time": "2022-01-10T15:01:06.887Z"
   },
   {
    "duration": 9,
    "start_time": "2022-01-10T15:01:07.353Z"
   },
   {
    "duration": 267,
    "start_time": "2022-01-10T15:01:07.365Z"
   },
   {
    "duration": 510,
    "start_time": "2022-01-10T15:01:07.634Z"
   },
   {
    "duration": 266,
    "start_time": "2022-01-10T15:01:08.146Z"
   },
   {
    "duration": 213,
    "start_time": "2022-01-10T15:01:08.414Z"
   },
   {
    "duration": 277,
    "start_time": "2022-01-10T15:01:08.629Z"
   },
   {
    "duration": 261,
    "start_time": "2022-01-10T15:01:08.908Z"
   },
   {
    "duration": 574,
    "start_time": "2022-01-10T15:01:09.172Z"
   },
   {
    "duration": 249,
    "start_time": "2022-01-10T15:01:09.748Z"
   },
   {
    "duration": 141,
    "start_time": "2022-01-10T15:01:09.999Z"
   },
   {
    "duration": 244,
    "start_time": "2022-01-10T15:01:10.142Z"
   },
   {
    "duration": 239,
    "start_time": "2022-01-10T15:01:10.389Z"
   },
   {
    "duration": 220,
    "start_time": "2022-01-10T15:01:10.635Z"
   },
   {
    "duration": 278,
    "start_time": "2022-01-10T15:01:10.859Z"
   },
   {
    "duration": 785,
    "start_time": "2022-01-10T15:01:11.140Z"
   },
   {
    "duration": 252,
    "start_time": "2022-01-10T15:01:11.928Z"
   },
   {
    "duration": 80,
    "start_time": "2022-01-10T15:01:12.183Z"
   },
   {
    "duration": 225,
    "start_time": "2022-01-10T15:01:12.265Z"
   },
   {
    "duration": 298,
    "start_time": "2022-01-10T15:01:12.493Z"
   },
   {
    "duration": 392,
    "start_time": "2022-01-10T15:01:12.794Z"
   },
   {
    "duration": 241,
    "start_time": "2022-01-10T15:01:13.188Z"
   },
   {
    "duration": 332,
    "start_time": "2022-01-10T15:01:13.431Z"
   },
   {
    "duration": 306,
    "start_time": "2022-01-10T15:01:13.765Z"
   },
   {
    "duration": 361,
    "start_time": "2022-01-10T15:01:14.074Z"
   },
   {
    "duration": 366,
    "start_time": "2022-01-10T15:01:14.438Z"
   },
   {
    "duration": 215,
    "start_time": "2022-01-10T15:01:14.807Z"
   },
   {
    "duration": 211,
    "start_time": "2022-01-10T15:01:15.025Z"
   },
   {
    "duration": 307,
    "start_time": "2022-01-10T15:01:15.238Z"
   },
   {
    "duration": 488,
    "start_time": "2022-01-10T15:01:15.547Z"
   },
   {
    "duration": 319,
    "start_time": "2022-01-10T15:01:16.038Z"
   },
   {
    "duration": 550,
    "start_time": "2022-01-10T15:01:16.359Z"
   },
   {
    "duration": 93,
    "start_time": "2022-01-10T15:01:16.923Z"
   },
   {
    "duration": 191,
    "start_time": "2022-01-10T15:01:17.018Z"
   },
   {
    "duration": 11,
    "start_time": "2022-01-10T15:10:38.840Z"
   },
   {
    "duration": 567,
    "start_time": "2022-01-11T07:08:03.270Z"
   },
   {
    "duration": 385,
    "start_time": "2022-01-11T07:08:03.839Z"
   },
   {
    "duration": 48,
    "start_time": "2022-01-11T07:08:04.226Z"
   },
   {
    "duration": 95,
    "start_time": "2022-01-11T07:08:04.276Z"
   },
   {
    "duration": 32,
    "start_time": "2022-01-11T07:08:04.372Z"
   },
   {
    "duration": 29,
    "start_time": "2022-01-11T07:08:04.405Z"
   },
   {
    "duration": 23,
    "start_time": "2022-01-11T07:08:04.435Z"
   },
   {
    "duration": 16,
    "start_time": "2022-01-11T07:08:04.460Z"
   },
   {
    "duration": 187,
    "start_time": "2022-01-11T07:08:04.478Z"
   },
   {
    "duration": 231,
    "start_time": "2022-01-11T07:08:04.667Z"
   },
   {
    "duration": 6,
    "start_time": "2022-01-11T07:08:04.900Z"
   },
   {
    "duration": 21,
    "start_time": "2022-01-11T07:08:04.907Z"
   },
   {
    "duration": 8,
    "start_time": "2022-01-11T07:08:04.930Z"
   },
   {
    "duration": 4,
    "start_time": "2022-01-11T07:08:04.940Z"
   },
   {
    "duration": 8,
    "start_time": "2022-01-11T07:08:04.946Z"
   },
   {
    "duration": 8,
    "start_time": "2022-01-11T07:08:04.956Z"
   },
   {
    "duration": 89,
    "start_time": "2022-01-11T07:08:04.965Z"
   },
   {
    "duration": 230,
    "start_time": "2022-01-11T07:08:05.056Z"
   },
   {
    "duration": 154,
    "start_time": "2022-01-11T07:08:05.288Z"
   },
   {
    "duration": 13,
    "start_time": "2022-01-11T07:08:05.445Z"
   },
   {
    "duration": 9,
    "start_time": "2022-01-11T07:08:05.459Z"
   },
   {
    "duration": 23,
    "start_time": "2022-01-11T07:08:05.470Z"
   },
   {
    "duration": 12,
    "start_time": "2022-01-11T07:08:05.498Z"
   },
   {
    "duration": 17,
    "start_time": "2022-01-11T07:08:05.527Z"
   },
   {
    "duration": 327,
    "start_time": "2022-01-11T07:08:05.546Z"
   },
   {
    "duration": 139,
    "start_time": "2022-01-11T07:08:05.875Z"
   },
   {
    "duration": 21,
    "start_time": "2022-01-11T07:08:06.016Z"
   },
   {
    "duration": 8,
    "start_time": "2022-01-11T07:08:06.038Z"
   },
   {
    "duration": 19,
    "start_time": "2022-01-11T07:08:06.048Z"
   },
   {
    "duration": 7,
    "start_time": "2022-01-11T07:08:06.068Z"
   },
   {
    "duration": 12,
    "start_time": "2022-01-11T07:08:06.076Z"
   },
   {
    "duration": 59,
    "start_time": "2022-01-11T07:08:06.089Z"
   },
   {
    "duration": 4,
    "start_time": "2022-01-11T07:08:06.149Z"
   },
   {
    "duration": 9,
    "start_time": "2022-01-11T07:08:06.154Z"
   },
   {
    "duration": 82,
    "start_time": "2022-01-11T07:08:06.164Z"
   },
   {
    "duration": 37,
    "start_time": "2022-01-11T07:08:06.248Z"
   },
   {
    "duration": 7,
    "start_time": "2022-01-11T07:08:06.287Z"
   },
   {
    "duration": 32,
    "start_time": "2022-01-11T07:08:06.296Z"
   },
   {
    "duration": 12,
    "start_time": "2022-01-11T07:08:06.331Z"
   },
   {
    "duration": 11,
    "start_time": "2022-01-11T07:08:06.345Z"
   },
   {
    "duration": 189,
    "start_time": "2022-01-11T07:08:06.358Z"
   },
   {
    "duration": 33,
    "start_time": "2022-01-11T07:08:06.549Z"
   },
   {
    "duration": 14,
    "start_time": "2022-01-11T07:08:06.583Z"
   },
   {
    "duration": 28,
    "start_time": "2022-01-11T07:08:06.599Z"
   },
   {
    "duration": 110,
    "start_time": "2022-01-11T07:08:49.589Z"
   },
   {
    "duration": 158,
    "start_time": "2022-01-11T07:09:30.880Z"
   },
   {
    "duration": 105,
    "start_time": "2022-01-11T07:09:43.278Z"
   },
   {
    "duration": 105,
    "start_time": "2022-01-11T07:10:00.570Z"
   },
   {
    "duration": 2749,
    "start_time": "2022-01-11T07:10:10.983Z"
   },
   {
    "duration": 11,
    "start_time": "2022-01-11T07:11:09.493Z"
   },
   {
    "duration": 6,
    "start_time": "2022-01-11T07:13:15.037Z"
   },
   {
    "duration": 11,
    "start_time": "2022-01-11T07:13:26.500Z"
   },
   {
    "duration": 427,
    "start_time": "2022-01-11T07:14:43.107Z"
   },
   {
    "duration": 319,
    "start_time": "2022-01-11T07:15:22.642Z"
   },
   {
    "duration": 120,
    "start_time": "2022-01-11T07:16:50.619Z"
   },
   {
    "duration": 134,
    "start_time": "2022-01-11T07:17:29.419Z"
   },
   {
    "duration": 121,
    "start_time": "2022-01-11T07:18:12.834Z"
   },
   {
    "duration": 8,
    "start_time": "2022-01-11T07:20:06.791Z"
   },
   {
    "duration": 9,
    "start_time": "2022-01-11T07:20:34.146Z"
   },
   {
    "duration": 7,
    "start_time": "2022-01-11T07:21:16.521Z"
   },
   {
    "duration": 7,
    "start_time": "2022-01-11T07:21:19.554Z"
   },
   {
    "duration": 125,
    "start_time": "2022-01-11T07:22:31.695Z"
   },
   {
    "duration": 341,
    "start_time": "2022-01-11T07:26:51.854Z"
   },
   {
    "duration": 4,
    "start_time": "2022-01-11T07:27:12.646Z"
   },
   {
    "duration": 321,
    "start_time": "2022-01-11T07:27:26.190Z"
   },
   {
    "duration": 4,
    "start_time": "2022-01-11T07:27:45.269Z"
   },
   {
    "duration": 330,
    "start_time": "2022-01-11T07:29:28.455Z"
   },
   {
    "duration": 12,
    "start_time": "2022-01-11T07:30:25.957Z"
   },
   {
    "duration": 380,
    "start_time": "2022-01-11T08:29:13.985Z"
   },
   {
    "duration": 17,
    "start_time": "2022-01-11T08:29:33.298Z"
   },
   {
    "duration": 20,
    "start_time": "2022-01-11T08:30:01.921Z"
   },
   {
    "duration": 123,
    "start_time": "2022-01-11T08:30:37.049Z"
   },
   {
    "duration": 4,
    "start_time": "2022-01-11T08:30:43.545Z"
   },
   {
    "duration": 8589,
    "start_time": "2022-01-11T08:30:54.881Z"
   },
   {
    "duration": 17,
    "start_time": "2022-01-11T08:31:58.520Z"
   },
   {
    "duration": 20,
    "start_time": "2022-01-11T08:32:12.938Z"
   },
   {
    "duration": 1015,
    "start_time": "2022-01-11T08:34:22.418Z"
   },
   {
    "duration": 12,
    "start_time": "2022-01-11T08:35:06.110Z"
   },
   {
    "duration": 18,
    "start_time": "2022-01-11T08:35:45.846Z"
   },
   {
    "duration": 858,
    "start_time": "2022-01-11T08:36:28.438Z"
   },
   {
    "duration": 3,
    "start_time": "2022-01-11T08:37:13.854Z"
   },
   {
    "duration": 19,
    "start_time": "2022-01-11T08:37:37.150Z"
   },
   {
    "duration": 1183,
    "start_time": "2022-01-11T08:41:13.491Z"
   },
   {
    "duration": 10,
    "start_time": "2022-01-11T08:41:30.555Z"
   },
   {
    "duration": 8,
    "start_time": "2022-01-11T08:42:05.595Z"
   },
   {
    "duration": 18,
    "start_time": "2022-01-11T08:42:15.898Z"
   },
   {
    "duration": 10,
    "start_time": "2022-01-11T08:42:47.707Z"
   },
   {
    "duration": 16,
    "start_time": "2022-01-11T08:42:49.866Z"
   },
   {
    "duration": 7,
    "start_time": "2022-01-11T08:57:57.108Z"
   },
   {
    "duration": 156,
    "start_time": "2022-01-11T08:59:55.010Z"
   },
   {
    "duration": 104,
    "start_time": "2022-01-11T09:00:54.736Z"
   },
   {
    "duration": 11,
    "start_time": "2022-01-11T09:01:00.392Z"
   },
   {
    "duration": 109,
    "start_time": "2022-01-11T09:02:12.744Z"
   },
   {
    "duration": 209,
    "start_time": "2022-01-11T09:02:27.719Z"
   },
   {
    "duration": 271,
    "start_time": "2022-01-11T09:03:17.504Z"
   },
   {
    "duration": 251,
    "start_time": "2022-01-11T09:03:53.793Z"
   },
   {
    "duration": 536,
    "start_time": "2022-01-11T09:10:38.677Z"
   },
   {
    "duration": 10,
    "start_time": "2022-01-11T09:44:32.528Z"
   },
   {
    "duration": 4,
    "start_time": "2022-01-11T09:45:07.032Z"
   },
   {
    "duration": 4,
    "start_time": "2022-01-11T09:45:15.895Z"
   },
   {
    "duration": 4,
    "start_time": "2022-01-11T09:45:24.415Z"
   },
   {
    "duration": 3,
    "start_time": "2022-01-11T09:45:30.911Z"
   },
   {
    "duration": 4,
    "start_time": "2022-01-11T09:45:47.854Z"
   },
   {
    "duration": 392,
    "start_time": "2022-01-11T09:46:07.759Z"
   },
   {
    "duration": 4,
    "start_time": "2022-01-11T09:46:21.687Z"
   },
   {
    "duration": 9768,
    "start_time": "2022-01-11T09:46:59.878Z"
   },
   {
    "duration": 9080,
    "start_time": "2022-01-11T09:47:24.064Z"
   },
   {
    "duration": 10391,
    "start_time": "2022-01-11T09:47:48.830Z"
   },
   {
    "duration": 4,
    "start_time": "2022-01-11T10:22:16.059Z"
   },
   {
    "duration": 348,
    "start_time": "2022-01-11T10:23:56.658Z"
   },
   {
    "duration": 8968,
    "start_time": "2022-01-11T10:24:31.636Z"
   },
   {
    "duration": 9215,
    "start_time": "2022-01-11T10:25:38.338Z"
   },
   {
    "duration": 4,
    "start_time": "2022-01-11T10:26:00.298Z"
   },
   {
    "duration": 4,
    "start_time": "2022-01-11T10:26:18.807Z"
   },
   {
    "duration": 340,
    "start_time": "2022-01-11T10:26:45.665Z"
   },
   {
    "duration": 344,
    "start_time": "2022-01-11T10:27:13.212Z"
   },
   {
    "duration": 9203,
    "start_time": "2022-01-11T10:27:25.480Z"
   },
   {
    "duration": 418,
    "start_time": "2022-01-11T10:27:44.645Z"
   },
   {
    "duration": 365,
    "start_time": "2022-01-11T10:28:05.241Z"
   },
   {
    "duration": 392,
    "start_time": "2022-01-11T10:29:40.719Z"
   },
   {
    "duration": 4,
    "start_time": "2022-01-11T10:29:53.927Z"
   },
   {
    "duration": 10191,
    "start_time": "2022-01-11T10:30:00.607Z"
   },
   {
    "duration": 7,
    "start_time": "2022-01-11T10:30:31.442Z"
   },
   {
    "duration": 332,
    "start_time": "2022-01-11T10:31:21.574Z"
   },
   {
    "duration": 12027,
    "start_time": "2022-01-11T10:31:56.918Z"
   },
   {
    "duration": 10,
    "start_time": "2022-01-11T10:41:14.745Z"
   },
   {
    "duration": 6,
    "start_time": "2022-01-11T10:41:34.309Z"
   },
   {
    "duration": 6,
    "start_time": "2022-01-11T10:41:57.435Z"
   },
   {
    "duration": 7,
    "start_time": "2022-01-11T10:42:31.113Z"
   },
   {
    "duration": 7,
    "start_time": "2022-01-11T10:42:35.057Z"
   },
   {
    "duration": 356,
    "start_time": "2022-01-11T10:43:57.487Z"
   },
   {
    "duration": 7,
    "start_time": "2022-01-11T10:44:27.128Z"
   },
   {
    "duration": 392,
    "start_time": "2022-01-11T10:44:41.008Z"
   },
   {
    "duration": 356,
    "start_time": "2022-01-11T10:45:23.735Z"
   },
   {
    "duration": 471,
    "start_time": "2022-01-11T10:45:47.368Z"
   },
   {
    "duration": 488,
    "start_time": "2022-01-11T10:46:27.671Z"
   },
   {
    "duration": 7,
    "start_time": "2022-01-11T10:46:43.588Z"
   },
   {
    "duration": 9,
    "start_time": "2022-01-11T10:47:01.559Z"
   },
   {
    "duration": 6,
    "start_time": "2022-01-11T10:47:05.103Z"
   },
   {
    "duration": 10,
    "start_time": "2022-01-11T10:47:09.174Z"
   },
   {
    "duration": 8,
    "start_time": "2022-01-11T10:47:13.790Z"
   },
   {
    "duration": 8,
    "start_time": "2022-01-11T10:48:48.493Z"
   },
   {
    "duration": 6,
    "start_time": "2022-01-11T10:48:51.006Z"
   },
   {
    "duration": 7,
    "start_time": "2022-01-11T10:48:53.813Z"
   },
   {
    "duration": 10,
    "start_time": "2022-01-11T10:49:31.749Z"
   },
   {
    "duration": 8,
    "start_time": "2022-01-11T10:49:49.773Z"
   },
   {
    "duration": 8,
    "start_time": "2022-01-11T10:49:52.359Z"
   },
   {
    "duration": 8,
    "start_time": "2022-01-11T10:49:54.805Z"
   },
   {
    "duration": 9,
    "start_time": "2022-01-11T10:50:17.460Z"
   },
   {
    "duration": 8,
    "start_time": "2022-01-11T10:50:36.692Z"
   },
   {
    "duration": 9,
    "start_time": "2022-01-11T10:50:38.932Z"
   },
   {
    "duration": 7,
    "start_time": "2022-01-11T10:50:41.293Z"
   },
   {
    "duration": 9,
    "start_time": "2022-01-11T10:51:19.516Z"
   },
   {
    "duration": 8,
    "start_time": "2022-01-11T10:54:24.858Z"
   },
   {
    "duration": 6,
    "start_time": "2022-01-11T10:54:26.794Z"
   },
   {
    "duration": 6,
    "start_time": "2022-01-11T10:54:30.954Z"
   },
   {
    "duration": 13,
    "start_time": "2022-01-11T10:54:36.178Z"
   },
   {
    "duration": 8,
    "start_time": "2022-01-11T10:55:00.306Z"
   },
   {
    "duration": 7,
    "start_time": "2022-01-11T10:55:02.362Z"
   },
   {
    "duration": 6,
    "start_time": "2022-01-11T10:55:04.917Z"
   },
   {
    "duration": 13,
    "start_time": "2022-01-11T10:55:09.065Z"
   },
   {
    "duration": 9,
    "start_time": "2022-01-11T10:55:52.242Z"
   },
   {
    "duration": 9,
    "start_time": "2022-01-11T10:56:37.540Z"
   },
   {
    "duration": 7,
    "start_time": "2022-01-11T10:56:39.592Z"
   },
   {
    "duration": 6,
    "start_time": "2022-01-11T10:56:42.305Z"
   },
   {
    "duration": 10,
    "start_time": "2022-01-11T10:56:49.305Z"
   },
   {
    "duration": 15,
    "start_time": "2022-01-11T10:56:52.113Z"
   },
   {
    "duration": 8,
    "start_time": "2022-01-11T10:57:15.337Z"
   },
   {
    "duration": 6,
    "start_time": "2022-01-11T10:57:33.824Z"
   },
   {
    "duration": 6,
    "start_time": "2022-01-11T10:57:45.408Z"
   },
   {
    "duration": 4,
    "start_time": "2022-01-11T10:58:59.880Z"
   },
   {
    "duration": 7,
    "start_time": "2022-01-11T10:59:05.200Z"
   },
   {
    "duration": 8,
    "start_time": "2022-01-11T11:05:12.228Z"
   },
   {
    "duration": 7,
    "start_time": "2022-01-11T11:05:44.635Z"
   },
   {
    "duration": 9,
    "start_time": "2022-01-11T11:05:59.547Z"
   },
   {
    "duration": 9,
    "start_time": "2022-01-11T11:06:07.715Z"
   },
   {
    "duration": 11,
    "start_time": "2022-01-11T11:06:24.261Z"
   },
   {
    "duration": 8,
    "start_time": "2022-01-11T11:06:51.571Z"
   },
   {
    "duration": 7,
    "start_time": "2022-01-11T11:06:54.197Z"
   },
   {
    "duration": 8,
    "start_time": "2022-01-11T11:07:04.507Z"
   },
   {
    "duration": 10,
    "start_time": "2022-01-11T11:07:08.018Z"
   },
   {
    "duration": 9,
    "start_time": "2022-01-11T11:07:13.210Z"
   },
   {
    "duration": 8,
    "start_time": "2022-01-11T11:07:26.682Z"
   },
   {
    "duration": 327,
    "start_time": "2022-01-11T11:08:50.346Z"
   },
   {
    "duration": 349,
    "start_time": "2022-01-11T11:09:00.898Z"
   },
   {
    "duration": 370,
    "start_time": "2022-01-11T11:09:10.099Z"
   },
   {
    "duration": 346,
    "start_time": "2022-01-11T11:09:21.366Z"
   },
   {
    "duration": 386,
    "start_time": "2022-01-11T11:09:27.698Z"
   },
   {
    "duration": 398,
    "start_time": "2022-01-11T11:09:38.081Z"
   },
   {
    "duration": 1117,
    "start_time": "2022-01-11T11:09:45.017Z"
   },
   {
    "duration": 1278,
    "start_time": "2022-01-11T11:10:12.400Z"
   },
   {
    "duration": 13,
    "start_time": "2022-01-11T11:10:21.889Z"
   },
   {
    "duration": 6,
    "start_time": "2022-01-11T11:16:34.741Z"
   },
   {
    "duration": 18,
    "start_time": "2022-01-11T11:16:54.398Z"
   },
   {
    "duration": 447,
    "start_time": "2022-01-11T11:17:37.759Z"
   },
   {
    "duration": 9,
    "start_time": "2022-01-11T11:18:12.849Z"
   },
   {
    "duration": 8,
    "start_time": "2022-01-11T11:18:51.188Z"
   },
   {
    "duration": 8,
    "start_time": "2022-01-11T11:19:16.500Z"
   },
   {
    "duration": 6,
    "start_time": "2022-01-11T11:19:20.220Z"
   },
   {
    "duration": 8,
    "start_time": "2022-01-11T11:19:24.716Z"
   },
   {
    "duration": 7,
    "start_time": "2022-01-11T11:19:40.124Z"
   },
   {
    "duration": 7,
    "start_time": "2022-01-11T11:19:50.396Z"
   },
   {
    "duration": 6,
    "start_time": "2022-01-11T11:20:06.971Z"
   },
   {
    "duration": 8,
    "start_time": "2022-01-11T11:20:22.916Z"
   },
   {
    "duration": 353,
    "start_time": "2022-01-11T11:20:39.835Z"
   },
   {
    "duration": 13,
    "start_time": "2022-01-11T11:21:08.139Z"
   },
   {
    "duration": 12,
    "start_time": "2022-01-11T11:21:39.050Z"
   },
   {
    "duration": 8,
    "start_time": "2022-01-11T11:21:49.514Z"
   },
   {
    "duration": 11,
    "start_time": "2022-01-11T11:21:56.099Z"
   },
   {
    "duration": 9,
    "start_time": "2022-01-11T11:22:30.795Z"
   },
   {
    "duration": 8,
    "start_time": "2022-01-11T11:22:39.514Z"
   },
   {
    "duration": 9,
    "start_time": "2022-01-11T11:22:42.787Z"
   },
   {
    "duration": 6,
    "start_time": "2022-01-11T11:22:45.114Z"
   },
   {
    "duration": 8,
    "start_time": "2022-01-11T11:22:48.282Z"
   },
   {
    "duration": 7,
    "start_time": "2022-01-11T11:23:12.370Z"
   },
   {
    "duration": 123,
    "start_time": "2022-01-11T11:27:16.365Z"
   },
   {
    "duration": 498,
    "start_time": "2022-01-11T11:30:26.583Z"
   },
   {
    "duration": 472,
    "start_time": "2022-01-11T11:32:21.507Z"
   },
   {
    "duration": 351,
    "start_time": "2022-01-11T11:37:13.235Z"
   },
   {
    "duration": 10,
    "start_time": "2022-01-11T11:37:22.090Z"
   },
   {
    "duration": 13,
    "start_time": "2022-01-11T11:38:17.002Z"
   },
   {
    "duration": 8,
    "start_time": "2022-01-11T11:38:50.578Z"
   },
   {
    "duration": 13,
    "start_time": "2022-01-11T11:39:39.043Z"
   },
   {
    "duration": 8,
    "start_time": "2022-01-11T11:40:03.345Z"
   },
   {
    "duration": 8,
    "start_time": "2022-01-11T11:40:40.017Z"
   },
   {
    "duration": 9,
    "start_time": "2022-01-11T11:40:57.952Z"
   },
   {
    "duration": 8,
    "start_time": "2022-01-11T11:41:26.736Z"
   },
   {
    "duration": 8,
    "start_time": "2022-01-11T11:41:37.697Z"
   },
   {
    "duration": 8,
    "start_time": "2022-01-11T11:41:44.216Z"
   },
   {
    "duration": 141,
    "start_time": "2022-01-11T11:41:57.392Z"
   },
   {
    "duration": 8,
    "start_time": "2022-01-11T11:42:03.104Z"
   },
   {
    "duration": 7,
    "start_time": "2022-01-11T11:42:08.032Z"
   },
   {
    "duration": 8,
    "start_time": "2022-01-11T11:42:15.968Z"
   },
   {
    "duration": 335,
    "start_time": "2022-01-11T11:45:31.719Z"
   },
   {
    "duration": 8,
    "start_time": "2022-01-11T11:45:41.662Z"
   },
   {
    "duration": 45,
    "start_time": "2022-01-11T11:46:27.822Z"
   },
   {
    "duration": 45,
    "start_time": "2022-01-11T11:49:40.492Z"
   },
   {
    "duration": 547,
    "start_time": "2022-01-11T11:51:23.066Z"
   },
   {
    "duration": 376,
    "start_time": "2022-01-11T11:51:23.615Z"
   },
   {
    "duration": 48,
    "start_time": "2022-01-11T11:51:23.993Z"
   },
   {
    "duration": 87,
    "start_time": "2022-01-11T11:51:24.042Z"
   },
   {
    "duration": 34,
    "start_time": "2022-01-11T11:51:24.131Z"
   },
   {
    "duration": 13,
    "start_time": "2022-01-11T11:51:24.166Z"
   },
   {
    "duration": 8,
    "start_time": "2022-01-11T11:51:24.181Z"
   },
   {
    "duration": 45,
    "start_time": "2022-01-11T11:51:24.191Z"
   },
   {
    "duration": 189,
    "start_time": "2022-01-11T11:51:24.238Z"
   },
   {
    "duration": 239,
    "start_time": "2022-01-11T11:51:24.429Z"
   },
   {
    "duration": 4,
    "start_time": "2022-01-11T11:51:24.670Z"
   },
   {
    "duration": 10,
    "start_time": "2022-01-11T11:51:24.676Z"
   },
   {
    "duration": 19,
    "start_time": "2022-01-11T11:51:24.688Z"
   },
   {
    "duration": 4,
    "start_time": "2022-01-11T11:51:24.709Z"
   },
   {
    "duration": 19,
    "start_time": "2022-01-11T11:51:24.715Z"
   },
   {
    "duration": 9,
    "start_time": "2022-01-11T11:51:24.736Z"
   },
   {
    "duration": 58,
    "start_time": "2022-01-11T11:51:24.747Z"
   },
   {
    "duration": 220,
    "start_time": "2022-01-11T11:51:24.807Z"
   },
   {
    "duration": 135,
    "start_time": "2022-01-11T11:51:25.028Z"
   },
   {
    "duration": 9,
    "start_time": "2022-01-11T11:51:25.165Z"
   },
   {
    "duration": 12,
    "start_time": "2022-01-11T11:51:25.175Z"
   },
   {
    "duration": 10,
    "start_time": "2022-01-11T11:51:25.189Z"
   },
   {
    "duration": 22,
    "start_time": "2022-01-11T11:51:25.202Z"
   },
   {
    "duration": 24,
    "start_time": "2022-01-11T11:51:25.226Z"
   },
   {
    "duration": 294,
    "start_time": "2022-01-11T11:51:25.251Z"
   },
   {
    "duration": 133,
    "start_time": "2022-01-11T11:51:25.546Z"
   },
   {
    "duration": 12,
    "start_time": "2022-01-11T11:51:25.680Z"
   },
   {
    "duration": 7,
    "start_time": "2022-01-11T11:51:25.694Z"
   },
   {
    "duration": 40,
    "start_time": "2022-01-11T11:51:25.702Z"
   },
   {
    "duration": 7,
    "start_time": "2022-01-11T11:51:25.743Z"
   },
   {
    "duration": 11,
    "start_time": "2022-01-11T11:51:25.751Z"
   },
   {
    "duration": 18,
    "start_time": "2022-01-11T11:51:25.764Z"
   },
   {
    "duration": 2,
    "start_time": "2022-01-11T11:51:25.784Z"
   },
   {
    "duration": 39,
    "start_time": "2022-01-11T11:51:25.788Z"
   },
   {
    "duration": 61,
    "start_time": "2022-01-11T11:51:25.828Z"
   },
   {
    "duration": 47,
    "start_time": "2022-01-11T11:51:25.890Z"
   },
   {
    "duration": 6,
    "start_time": "2022-01-11T11:51:25.938Z"
   },
   {
    "duration": 7,
    "start_time": "2022-01-11T11:51:25.945Z"
   },
   {
    "duration": 10,
    "start_time": "2022-01-11T11:51:25.954Z"
   },
   {
    "duration": 4,
    "start_time": "2022-01-11T11:51:25.966Z"
   },
   {
    "duration": 174,
    "start_time": "2022-01-11T11:51:25.972Z"
   },
   {
    "duration": 33,
    "start_time": "2022-01-11T11:51:26.147Z"
   },
   {
    "duration": 15,
    "start_time": "2022-01-11T11:51:26.182Z"
   },
   {
    "duration": 511,
    "start_time": "2022-01-11T11:53:02.829Z"
   },
   {
    "duration": 580,
    "start_time": "2022-01-11T12:02:11.759Z"
   },
   {
    "duration": 12,
    "start_time": "2022-01-11T12:02:18.550Z"
   },
   {
    "duration": 12,
    "start_time": "2022-01-11T12:02:34.287Z"
   },
   {
    "duration": 6,
    "start_time": "2022-01-11T12:02:48.727Z"
   },
   {
    "duration": 12,
    "start_time": "2022-01-11T12:03:03.182Z"
   },
   {
    "duration": 393,
    "start_time": "2022-01-11T12:03:11.368Z"
   },
   {
    "duration": 4,
    "start_time": "2022-01-11T12:03:16.686Z"
   },
   {
    "duration": 12,
    "start_time": "2022-01-11T12:03:20.854Z"
   },
   {
    "duration": 603,
    "start_time": "2022-01-11T12:07:38.005Z"
   },
   {
    "duration": 375,
    "start_time": "2022-01-11T12:07:38.610Z"
   },
   {
    "duration": 48,
    "start_time": "2022-01-11T12:07:38.987Z"
   },
   {
    "duration": 95,
    "start_time": "2022-01-11T12:07:39.038Z"
   },
   {
    "duration": 37,
    "start_time": "2022-01-11T12:07:39.135Z"
   },
   {
    "duration": 12,
    "start_time": "2022-01-11T12:07:39.174Z"
   },
   {
    "duration": 8,
    "start_time": "2022-01-11T12:07:39.188Z"
   },
   {
    "duration": 43,
    "start_time": "2022-01-11T12:07:39.198Z"
   },
   {
    "duration": 190,
    "start_time": "2022-01-11T12:07:39.242Z"
   },
   {
    "duration": 220,
    "start_time": "2022-01-11T12:07:39.433Z"
   },
   {
    "duration": 5,
    "start_time": "2022-01-11T12:07:39.654Z"
   },
   {
    "duration": 8,
    "start_time": "2022-01-11T12:07:39.660Z"
   },
   {
    "duration": 9,
    "start_time": "2022-01-11T12:07:39.669Z"
   },
   {
    "duration": 4,
    "start_time": "2022-01-11T12:07:39.679Z"
   },
   {
    "duration": 8,
    "start_time": "2022-01-11T12:07:39.685Z"
   },
   {
    "duration": 33,
    "start_time": "2022-01-11T12:07:39.694Z"
   },
   {
    "duration": 50,
    "start_time": "2022-01-11T12:07:39.728Z"
   },
   {
    "duration": 230,
    "start_time": "2022-01-11T12:07:39.780Z"
   },
   {
    "duration": 140,
    "start_time": "2022-01-11T12:07:40.012Z"
   },
   {
    "duration": 10,
    "start_time": "2022-01-11T12:07:40.154Z"
   },
   {
    "duration": 6,
    "start_time": "2022-01-11T12:07:40.165Z"
   },
   {
    "duration": 9,
    "start_time": "2022-01-11T12:07:40.172Z"
   },
   {
    "duration": 7,
    "start_time": "2022-01-11T12:07:40.183Z"
   },
   {
    "duration": 39,
    "start_time": "2022-01-11T12:07:40.192Z"
   },
   {
    "duration": 310,
    "start_time": "2022-01-11T12:07:40.232Z"
   },
   {
    "duration": 141,
    "start_time": "2022-01-11T12:07:40.544Z"
   },
   {
    "duration": 11,
    "start_time": "2022-01-11T12:07:40.686Z"
   },
   {
    "duration": 11,
    "start_time": "2022-01-11T12:07:40.699Z"
   },
   {
    "duration": 32,
    "start_time": "2022-01-11T12:07:40.712Z"
   },
   {
    "duration": 6,
    "start_time": "2022-01-11T12:07:40.746Z"
   },
   {
    "duration": 15,
    "start_time": "2022-01-11T12:07:40.753Z"
   },
   {
    "duration": 17,
    "start_time": "2022-01-11T12:07:40.770Z"
   },
   {
    "duration": 3,
    "start_time": "2022-01-11T12:07:40.788Z"
   },
   {
    "duration": 36,
    "start_time": "2022-01-11T12:07:40.792Z"
   },
   {
    "duration": 66,
    "start_time": "2022-01-11T12:07:40.830Z"
   },
   {
    "duration": 43,
    "start_time": "2022-01-11T12:07:40.898Z"
   },
   {
    "duration": 5,
    "start_time": "2022-01-11T12:07:40.942Z"
   },
   {
    "duration": 8,
    "start_time": "2022-01-11T12:07:40.948Z"
   },
   {
    "duration": 13,
    "start_time": "2022-01-11T12:07:40.957Z"
   },
   {
    "duration": 8,
    "start_time": "2022-01-11T12:07:40.971Z"
   },
   {
    "duration": 172,
    "start_time": "2022-01-11T12:07:40.980Z"
   },
   {
    "duration": 32,
    "start_time": "2022-01-11T12:07:41.153Z"
   },
   {
    "duration": 15,
    "start_time": "2022-01-11T12:07:41.186Z"
   },
   {
    "duration": 133,
    "start_time": "2022-01-11T12:07:41.226Z"
   },
   {
    "duration": 13,
    "start_time": "2022-01-11T12:09:08.007Z"
   },
   {
    "duration": 437,
    "start_time": "2022-01-11T12:12:59.156Z"
   },
   {
    "duration": 157,
    "start_time": "2022-01-11T12:13:42.766Z"
   },
   {
    "duration": 397,
    "start_time": "2022-01-11T12:13:50.757Z"
   },
   {
    "duration": 3,
    "start_time": "2022-01-11T12:14:41.996Z"
   },
   {
    "duration": 13,
    "start_time": "2022-01-11T12:14:44.476Z"
   },
   {
    "duration": 12,
    "start_time": "2022-01-11T12:16:05.411Z"
   },
   {
    "duration": 13,
    "start_time": "2022-01-11T12:23:43.992Z"
   },
   {
    "duration": 13,
    "start_time": "2022-01-11T12:24:10.103Z"
   },
   {
    "duration": 110,
    "start_time": "2022-01-11T12:24:27.175Z"
   },
   {
    "duration": 118,
    "start_time": "2022-01-11T12:24:44.847Z"
   },
   {
    "duration": 11,
    "start_time": "2022-01-11T12:24:53.223Z"
   },
   {
    "duration": 14,
    "start_time": "2022-01-11T12:25:08.894Z"
   },
   {
    "duration": 13,
    "start_time": "2022-01-11T12:30:09.692Z"
   },
   {
    "duration": 46,
    "start_time": "2022-01-11T12:36:59.856Z"
   },
   {
    "duration": 11,
    "start_time": "2022-01-11T12:39:14.967Z"
   },
   {
    "duration": 6,
    "start_time": "2022-01-11T12:46:12.707Z"
   },
   {
    "duration": 345,
    "start_time": "2022-01-11T12:51:17.937Z"
   },
   {
    "duration": 333,
    "start_time": "2022-01-11T12:52:40.048Z"
   },
   {
    "duration": 345,
    "start_time": "2022-01-11T12:53:37.560Z"
   },
   {
    "duration": 338,
    "start_time": "2022-01-11T12:54:12.999Z"
   },
   {
    "duration": 16,
    "start_time": "2022-01-11T12:55:04.390Z"
   },
   {
    "duration": 323,
    "start_time": "2022-01-11T12:55:36.535Z"
   },
   {
    "duration": 617,
    "start_time": "2022-01-11T13:51:28.007Z"
   },
   {
    "duration": 397,
    "start_time": "2022-01-11T13:51:28.626Z"
   },
   {
    "duration": 49,
    "start_time": "2022-01-11T13:51:29.025Z"
   },
   {
    "duration": 102,
    "start_time": "2022-01-11T13:51:29.076Z"
   },
   {
    "duration": 51,
    "start_time": "2022-01-11T13:51:29.180Z"
   },
   {
    "duration": 12,
    "start_time": "2022-01-11T13:51:29.233Z"
   },
   {
    "duration": 9,
    "start_time": "2022-01-11T13:51:29.247Z"
   },
   {
    "duration": 14,
    "start_time": "2022-01-11T13:51:29.257Z"
   },
   {
    "duration": 206,
    "start_time": "2022-01-11T13:51:29.274Z"
   },
   {
    "duration": 227,
    "start_time": "2022-01-11T13:51:29.482Z"
   },
   {
    "duration": 4,
    "start_time": "2022-01-11T13:51:29.711Z"
   },
   {
    "duration": 12,
    "start_time": "2022-01-11T13:51:29.717Z"
   },
   {
    "duration": 6,
    "start_time": "2022-01-11T13:51:29.731Z"
   },
   {
    "duration": 5,
    "start_time": "2022-01-11T13:51:29.738Z"
   },
   {
    "duration": 12,
    "start_time": "2022-01-11T13:51:29.744Z"
   },
   {
    "duration": 14,
    "start_time": "2022-01-11T13:51:29.757Z"
   },
   {
    "duration": 22,
    "start_time": "2022-01-11T13:51:29.773Z"
   },
   {
    "duration": 233,
    "start_time": "2022-01-11T13:51:29.796Z"
   },
   {
    "duration": 182,
    "start_time": "2022-01-11T13:51:30.030Z"
   },
   {
    "duration": 18,
    "start_time": "2022-01-11T13:51:30.214Z"
   },
   {
    "duration": 6,
    "start_time": "2022-01-11T13:51:30.233Z"
   },
   {
    "duration": 16,
    "start_time": "2022-01-11T13:51:30.241Z"
   },
   {
    "duration": 11,
    "start_time": "2022-01-11T13:51:30.258Z"
   },
   {
    "duration": 16,
    "start_time": "2022-01-11T13:51:30.271Z"
   },
   {
    "duration": 349,
    "start_time": "2022-01-11T13:51:30.288Z"
   },
   {
    "duration": 156,
    "start_time": "2022-01-11T13:51:30.638Z"
   },
   {
    "duration": 12,
    "start_time": "2022-01-11T13:51:30.798Z"
   },
   {
    "duration": 13,
    "start_time": "2022-01-11T13:51:30.826Z"
   },
   {
    "duration": 21,
    "start_time": "2022-01-11T13:51:30.841Z"
   },
   {
    "duration": 6,
    "start_time": "2022-01-11T13:51:30.864Z"
   },
   {
    "duration": 16,
    "start_time": "2022-01-11T13:51:30.871Z"
   },
   {
    "duration": 39,
    "start_time": "2022-01-11T13:51:30.888Z"
   },
   {
    "duration": 4,
    "start_time": "2022-01-11T13:51:30.928Z"
   },
   {
    "duration": 9,
    "start_time": "2022-01-11T13:51:30.933Z"
   },
   {
    "duration": 84,
    "start_time": "2022-01-11T13:51:30.943Z"
   },
   {
    "duration": 35,
    "start_time": "2022-01-11T13:51:31.029Z"
   },
   {
    "duration": 5,
    "start_time": "2022-01-11T13:51:31.066Z"
   },
   {
    "duration": 10,
    "start_time": "2022-01-11T13:51:31.072Z"
   },
   {
    "duration": 23,
    "start_time": "2022-01-11T13:51:31.083Z"
   },
   {
    "duration": 20,
    "start_time": "2022-01-11T13:51:31.107Z"
   },
   {
    "duration": 170,
    "start_time": "2022-01-11T13:51:31.129Z"
   },
   {
    "duration": 51,
    "start_time": "2022-01-11T13:51:31.301Z"
   },
   {
    "duration": 16,
    "start_time": "2022-01-11T13:51:31.354Z"
   },
   {
    "duration": 4,
    "start_time": "2022-01-11T14:20:16.416Z"
   },
   {
    "duration": 9,
    "start_time": "2022-01-11T14:21:18.328Z"
   },
   {
    "duration": 7792,
    "start_time": "2022-01-11T14:21:33.065Z"
   },
   {
    "duration": 4,
    "start_time": "2022-01-11T14:23:10.926Z"
   },
   {
    "duration": 9,
    "start_time": "2022-01-11T14:23:15.287Z"
   },
   {
    "duration": 6480,
    "start_time": "2022-01-11T14:23:44.751Z"
   },
   {
    "duration": 11,
    "start_time": "2022-01-11T14:24:03.127Z"
   },
   {
    "duration": 6,
    "start_time": "2022-01-11T14:24:14.951Z"
   },
   {
    "duration": 4,
    "start_time": "2022-01-11T14:24:37.911Z"
   },
   {
    "duration": 6,
    "start_time": "2022-01-11T14:24:48.007Z"
   },
   {
    "duration": 5,
    "start_time": "2022-01-11T14:24:59.414Z"
   },
   {
    "duration": 660,
    "start_time": "2022-01-11T14:25:05.759Z"
   },
   {
    "duration": 4,
    "start_time": "2022-01-11T14:26:02.484Z"
   },
   {
    "duration": 803,
    "start_time": "2022-01-11T14:26:06.902Z"
   },
   {
    "duration": 4,
    "start_time": "2022-01-11T14:27:10.741Z"
   },
   {
    "duration": 893,
    "start_time": "2022-01-11T14:27:13.477Z"
   },
   {
    "duration": 4,
    "start_time": "2022-01-11T14:27:33.837Z"
   },
   {
    "duration": 6850,
    "start_time": "2022-01-11T14:27:35.870Z"
   },
   {
    "duration": 4,
    "start_time": "2022-01-11T14:28:36.164Z"
   },
   {
    "duration": 664,
    "start_time": "2022-01-11T14:28:39.308Z"
   },
   {
    "duration": 6,
    "start_time": "2022-01-11T14:29:21.452Z"
   },
   {
    "duration": 5,
    "start_time": "2022-01-11T14:29:37.780Z"
   },
   {
    "duration": 4,
    "start_time": "2022-01-11T14:30:23.531Z"
   },
   {
    "duration": 958,
    "start_time": "2022-01-11T14:30:25.974Z"
   },
   {
    "duration": 6902,
    "start_time": "2022-01-11T14:30:50.499Z"
   },
   {
    "duration": 6,
    "start_time": "2022-01-11T14:31:12.611Z"
   },
   {
    "duration": 4,
    "start_time": "2022-01-11T14:31:31.415Z"
   },
   {
    "duration": 703,
    "start_time": "2022-01-11T14:31:33.778Z"
   },
   {
    "duration": 4,
    "start_time": "2022-01-11T14:31:43.419Z"
   },
   {
    "duration": 680,
    "start_time": "2022-01-11T14:31:45.506Z"
   },
   {
    "duration": 5,
    "start_time": "2022-01-11T14:32:30.986Z"
   },
   {
    "duration": 692,
    "start_time": "2022-01-11T14:32:33.045Z"
   },
   {
    "duration": 5,
    "start_time": "2022-01-11T14:33:44.570Z"
   },
   {
    "duration": 5,
    "start_time": "2022-01-11T14:36:07.256Z"
   },
   {
    "duration": 764,
    "start_time": "2022-01-11T14:36:09.128Z"
   },
   {
    "duration": 6,
    "start_time": "2022-01-11T14:37:22.537Z"
   },
   {
    "duration": 113,
    "start_time": "2022-01-11T14:38:01.592Z"
   },
   {
    "duration": 5,
    "start_time": "2022-01-11T14:38:09.959Z"
   },
   {
    "duration": 5,
    "start_time": "2022-01-11T14:38:24.207Z"
   },
   {
    "duration": 332,
    "start_time": "2022-01-11T14:39:06.502Z"
   },
   {
    "duration": 5,
    "start_time": "2022-01-11T14:39:23.406Z"
   },
   {
    "duration": 4,
    "start_time": "2022-01-11T14:40:17.366Z"
   },
   {
    "duration": 835,
    "start_time": "2022-01-11T14:40:20.822Z"
   },
   {
    "duration": 4,
    "start_time": "2022-01-11T14:40:56.565Z"
   },
   {
    "duration": 772,
    "start_time": "2022-01-11T14:40:58.837Z"
   },
   {
    "duration": 7,
    "start_time": "2022-01-11T14:41:29.284Z"
   },
   {
    "duration": 373,
    "start_time": "2022-01-11T14:42:00.308Z"
   },
   {
    "duration": 5,
    "start_time": "2022-01-11T14:42:10.565Z"
   },
   {
    "duration": 6,
    "start_time": "2022-01-11T14:42:54.436Z"
   },
   {
    "duration": 349,
    "start_time": "2022-01-11T14:43:20.355Z"
   },
   {
    "duration": 5,
    "start_time": "2022-01-11T14:43:26.692Z"
   },
   {
    "duration": 5,
    "start_time": "2022-01-11T14:43:59.707Z"
   },
   {
    "duration": 5,
    "start_time": "2022-01-11T14:44:52.859Z"
   },
   {
    "duration": 648,
    "start_time": "2022-01-11T14:44:56.060Z"
   },
   {
    "duration": 5,
    "start_time": "2022-01-11T14:45:46.930Z"
   },
   {
    "duration": 24,
    "start_time": "2022-01-11T14:45:50.546Z"
   },
   {
    "duration": 656,
    "start_time": "2022-01-11T14:47:18.033Z"
   },
   {
    "duration": 797,
    "start_time": "2022-01-11T14:49:45.769Z"
   },
   {
    "duration": 5170,
    "start_time": "2022-01-11T14:52:01.776Z"
   },
   {
    "duration": 677,
    "start_time": "2022-01-11T14:54:28.401Z"
   },
   {
    "duration": 555,
    "start_time": "2022-01-11T14:57:36.152Z"
   },
   {
    "duration": 385,
    "start_time": "2022-01-11T14:57:36.709Z"
   },
   {
    "duration": 47,
    "start_time": "2022-01-11T14:57:37.096Z"
   },
   {
    "duration": 87,
    "start_time": "2022-01-11T14:57:37.145Z"
   },
   {
    "duration": 34,
    "start_time": "2022-01-11T14:57:37.234Z"
   },
   {
    "duration": 12,
    "start_time": "2022-01-11T14:57:37.270Z"
   },
   {
    "duration": 8,
    "start_time": "2022-01-11T14:57:37.284Z"
   },
   {
    "duration": 13,
    "start_time": "2022-01-11T14:57:37.327Z"
   },
   {
    "duration": 190,
    "start_time": "2022-01-11T14:57:37.342Z"
   },
   {
    "duration": 220,
    "start_time": "2022-01-11T14:57:37.534Z"
   },
   {
    "duration": 5,
    "start_time": "2022-01-11T14:57:37.755Z"
   },
   {
    "duration": 8,
    "start_time": "2022-01-11T14:57:37.762Z"
   },
   {
    "duration": 10,
    "start_time": "2022-01-11T14:57:37.772Z"
   },
   {
    "duration": 9,
    "start_time": "2022-01-11T14:57:37.783Z"
   },
   {
    "duration": 9,
    "start_time": "2022-01-11T14:57:37.793Z"
   },
   {
    "duration": 7,
    "start_time": "2022-01-11T14:57:37.827Z"
   },
   {
    "duration": 52,
    "start_time": "2022-01-11T14:57:37.836Z"
   },
   {
    "duration": 240,
    "start_time": "2022-01-11T14:57:37.890Z"
   },
   {
    "duration": 139,
    "start_time": "2022-01-11T14:57:38.132Z"
   },
   {
    "duration": 10,
    "start_time": "2022-01-11T14:57:38.273Z"
   },
   {
    "duration": 6,
    "start_time": "2022-01-11T14:57:38.285Z"
   },
   {
    "duration": 9,
    "start_time": "2022-01-11T14:57:38.292Z"
   },
   {
    "duration": 26,
    "start_time": "2022-01-11T14:57:38.303Z"
   },
   {
    "duration": 12,
    "start_time": "2022-01-11T14:57:38.331Z"
   },
   {
    "duration": 310,
    "start_time": "2022-01-11T14:57:38.345Z"
   },
   {
    "duration": 138,
    "start_time": "2022-01-11T14:57:38.656Z"
   },
   {
    "duration": 12,
    "start_time": "2022-01-11T14:57:38.795Z"
   },
   {
    "duration": 20,
    "start_time": "2022-01-11T14:57:38.808Z"
   },
   {
    "duration": 19,
    "start_time": "2022-01-11T14:57:38.829Z"
   },
   {
    "duration": 7,
    "start_time": "2022-01-11T14:57:38.849Z"
   },
   {
    "duration": 12,
    "start_time": "2022-01-11T14:57:38.857Z"
   },
   {
    "duration": 17,
    "start_time": "2022-01-11T14:57:38.870Z"
   },
   {
    "duration": 4,
    "start_time": "2022-01-11T14:57:38.888Z"
   },
   {
    "duration": 6,
    "start_time": "2022-01-11T14:57:38.928Z"
   },
   {
    "duration": 384,
    "start_time": "2022-01-11T14:57:38.935Z"
   },
   {
    "duration": 312,
    "start_time": "2022-01-11T14:58:20.346Z"
   },
   {
    "duration": 328,
    "start_time": "2022-01-11T15:00:33.969Z"
   },
   {
    "duration": 334,
    "start_time": "2022-01-11T15:01:37.520Z"
   },
   {
    "duration": 334,
    "start_time": "2022-01-11T15:02:13.296Z"
   },
   {
    "duration": 372,
    "start_time": "2022-01-11T15:02:24.111Z"
   },
   {
    "duration": 332,
    "start_time": "2022-01-11T15:03:24.730Z"
   },
   {
    "duration": 333,
    "start_time": "2022-01-11T15:03:50.831Z"
   },
   {
    "duration": 436,
    "start_time": "2022-01-11T15:04:28.245Z"
   },
   {
    "duration": 535,
    "start_time": "2022-01-11T15:06:27.784Z"
   },
   {
    "duration": 369,
    "start_time": "2022-01-11T15:06:28.321Z"
   },
   {
    "duration": 48,
    "start_time": "2022-01-11T15:06:28.692Z"
   },
   {
    "duration": 86,
    "start_time": "2022-01-11T15:06:28.741Z"
   },
   {
    "duration": 32,
    "start_time": "2022-01-11T15:06:28.828Z"
   },
   {
    "duration": 12,
    "start_time": "2022-01-11T15:06:28.862Z"
   },
   {
    "duration": 7,
    "start_time": "2022-01-11T15:06:28.876Z"
   },
   {
    "duration": 44,
    "start_time": "2022-01-11T15:06:28.885Z"
   },
   {
    "duration": 191,
    "start_time": "2022-01-11T15:06:28.932Z"
   },
   {
    "duration": 234,
    "start_time": "2022-01-11T15:06:29.125Z"
   },
   {
    "duration": 4,
    "start_time": "2022-01-11T15:06:29.361Z"
   },
   {
    "duration": 7,
    "start_time": "2022-01-11T15:06:29.367Z"
   },
   {
    "duration": 7,
    "start_time": "2022-01-11T15:06:29.376Z"
   },
   {
    "duration": 5,
    "start_time": "2022-01-11T15:06:29.385Z"
   },
   {
    "duration": 8,
    "start_time": "2022-01-11T15:06:29.391Z"
   },
   {
    "duration": 31,
    "start_time": "2022-01-11T15:06:29.401Z"
   },
   {
    "duration": 17,
    "start_time": "2022-01-11T15:06:29.434Z"
   },
   {
    "duration": 229,
    "start_time": "2022-01-11T15:06:29.453Z"
   },
   {
    "duration": 180,
    "start_time": "2022-01-11T15:06:29.684Z"
   },
   {
    "duration": 11,
    "start_time": "2022-01-11T15:06:29.866Z"
   },
   {
    "duration": 7,
    "start_time": "2022-01-11T15:06:29.879Z"
   },
   {
    "duration": 9,
    "start_time": "2022-01-11T15:06:29.887Z"
   },
   {
    "duration": 31,
    "start_time": "2022-01-11T15:06:29.897Z"
   },
   {
    "duration": 12,
    "start_time": "2022-01-11T15:06:29.929Z"
   },
   {
    "duration": 318,
    "start_time": "2022-01-11T15:06:29.942Z"
   },
   {
    "duration": 139,
    "start_time": "2022-01-11T15:06:30.261Z"
   },
   {
    "duration": 11,
    "start_time": "2022-01-11T15:06:30.403Z"
   },
   {
    "duration": 7,
    "start_time": "2022-01-11T15:06:30.428Z"
   },
   {
    "duration": 19,
    "start_time": "2022-01-11T15:06:30.437Z"
   },
   {
    "duration": 7,
    "start_time": "2022-01-11T15:06:30.457Z"
   },
   {
    "duration": 13,
    "start_time": "2022-01-11T15:06:30.465Z"
   },
   {
    "duration": 49,
    "start_time": "2022-01-11T15:06:30.480Z"
   },
   {
    "duration": 4,
    "start_time": "2022-01-11T15:06:30.530Z"
   },
   {
    "duration": 12,
    "start_time": "2022-01-11T15:06:30.535Z"
   },
   {
    "duration": 70,
    "start_time": "2022-01-11T15:06:30.548Z"
   },
   {
    "duration": 36,
    "start_time": "2022-01-11T15:06:30.620Z"
   },
   {
    "duration": 6,
    "start_time": "2022-01-11T15:06:30.658Z"
   },
   {
    "duration": 11,
    "start_time": "2022-01-11T15:06:30.665Z"
   },
   {
    "duration": 22,
    "start_time": "2022-01-11T15:06:30.677Z"
   },
   {
    "duration": 10,
    "start_time": "2022-01-11T15:06:30.700Z"
   },
   {
    "duration": 168,
    "start_time": "2022-01-11T15:06:30.712Z"
   },
   {
    "duration": 50,
    "start_time": "2022-01-11T15:06:30.882Z"
   },
   {
    "duration": 16,
    "start_time": "2022-01-11T15:06:30.934Z"
   },
   {
    "duration": 8,
    "start_time": "2022-01-11T15:06:30.951Z"
   },
   {
    "duration": 780,
    "start_time": "2022-01-11T15:06:30.960Z"
   },
   {
    "duration": 5,
    "start_time": "2022-01-11T15:08:11.721Z"
   },
   {
    "duration": 4802,
    "start_time": "2022-01-11T15:08:14.689Z"
   },
   {
    "duration": 4,
    "start_time": "2022-01-11T15:09:53.320Z"
   },
   {
    "duration": 2381,
    "start_time": "2022-01-11T15:09:55.106Z"
   },
   {
    "duration": 4,
    "start_time": "2022-01-11T15:10:17.391Z"
   },
   {
    "duration": 1802,
    "start_time": "2022-01-11T15:10:19.671Z"
   },
   {
    "duration": 4,
    "start_time": "2022-01-11T15:10:51.799Z"
   },
   {
    "duration": 7154,
    "start_time": "2022-01-11T15:10:54.841Z"
   },
   {
    "duration": 4,
    "start_time": "2022-01-11T15:12:27.573Z"
   },
   {
    "duration": 9283,
    "start_time": "2022-01-11T15:12:28.168Z"
   },
   {
    "duration": 5176,
    "start_time": "2022-01-11T15:12:42.890Z"
   },
   {
    "duration": 4,
    "start_time": "2022-01-11T15:18:42.355Z"
   },
   {
    "duration": 4,
    "start_time": "2022-01-11T15:18:56.330Z"
   },
   {
    "duration": 4,
    "start_time": "2022-01-11T15:19:06.762Z"
   },
   {
    "duration": 4,
    "start_time": "2022-01-11T15:20:28.626Z"
   },
   {
    "duration": 667,
    "start_time": "2022-01-11T15:20:33.809Z"
   },
   {
    "duration": 4,
    "start_time": "2022-01-11T15:22:52.556Z"
   },
   {
    "duration": 622,
    "start_time": "2022-01-11T15:22:56.288Z"
   },
   {
    "duration": 4,
    "start_time": "2022-01-11T15:23:27.632Z"
   },
   {
    "duration": 6804,
    "start_time": "2022-01-11T15:23:29.352Z"
   },
   {
    "duration": 5,
    "start_time": "2022-01-11T15:24:34.008Z"
   },
   {
    "duration": 6621,
    "start_time": "2022-01-11T15:24:36.512Z"
   },
   {
    "duration": 4,
    "start_time": "2022-01-11T15:25:16.072Z"
   },
   {
    "duration": 6374,
    "start_time": "2022-01-11T15:25:16.775Z"
   },
   {
    "duration": 461,
    "start_time": "2022-01-11T15:26:30.670Z"
   },
   {
    "duration": 803,
    "start_time": "2022-01-12T07:48:16.234Z"
   },
   {
    "duration": 628,
    "start_time": "2022-01-12T07:48:17.039Z"
   },
   {
    "duration": 69,
    "start_time": "2022-01-12T07:48:17.670Z"
   },
   {
    "duration": 149,
    "start_time": "2022-01-12T07:48:17.741Z"
   },
   {
    "duration": 78,
    "start_time": "2022-01-12T07:48:17.892Z"
   },
   {
    "duration": 22,
    "start_time": "2022-01-12T07:48:17.972Z"
   },
   {
    "duration": 13,
    "start_time": "2022-01-12T07:48:17.996Z"
   },
   {
    "duration": 55,
    "start_time": "2022-01-12T07:48:18.011Z"
   },
   {
    "duration": 321,
    "start_time": "2022-01-12T07:48:18.069Z"
   },
   {
    "duration": 422,
    "start_time": "2022-01-12T07:48:18.393Z"
   },
   {
    "duration": 7,
    "start_time": "2022-01-12T07:48:18.817Z"
   },
   {
    "duration": 9,
    "start_time": "2022-01-12T07:48:18.826Z"
   },
   {
    "duration": 32,
    "start_time": "2022-01-12T07:48:18.837Z"
   },
   {
    "duration": 9,
    "start_time": "2022-01-12T07:48:18.871Z"
   },
   {
    "duration": 14,
    "start_time": "2022-01-12T07:48:18.883Z"
   },
   {
    "duration": 12,
    "start_time": "2022-01-12T07:48:18.900Z"
   },
   {
    "duration": 21,
    "start_time": "2022-01-12T07:48:18.958Z"
   },
   {
    "duration": 463,
    "start_time": "2022-01-12T07:48:18.982Z"
   },
   {
    "duration": 294,
    "start_time": "2022-01-12T07:48:19.447Z"
   },
   {
    "duration": 21,
    "start_time": "2022-01-12T07:48:19.744Z"
   },
   {
    "duration": 11,
    "start_time": "2022-01-12T07:48:19.767Z"
   },
   {
    "duration": 13,
    "start_time": "2022-01-12T07:48:19.780Z"
   },
   {
    "duration": 12,
    "start_time": "2022-01-12T07:48:19.795Z"
   },
   {
    "duration": 53,
    "start_time": "2022-01-12T07:48:19.809Z"
   },
   {
    "duration": 595,
    "start_time": "2022-01-12T07:48:19.864Z"
   },
   {
    "duration": 241,
    "start_time": "2022-01-12T07:48:20.462Z"
   },
   {
    "duration": 19,
    "start_time": "2022-01-12T07:48:20.708Z"
   },
   {
    "duration": 31,
    "start_time": "2022-01-12T07:48:20.730Z"
   },
   {
    "duration": 28,
    "start_time": "2022-01-12T07:48:20.764Z"
   },
   {
    "duration": 10,
    "start_time": "2022-01-12T07:48:20.795Z"
   },
   {
    "duration": 20,
    "start_time": "2022-01-12T07:48:20.808Z"
   },
   {
    "duration": 31,
    "start_time": "2022-01-12T07:48:20.859Z"
   },
   {
    "duration": 5,
    "start_time": "2022-01-12T07:48:20.892Z"
   },
   {
    "duration": 14,
    "start_time": "2022-01-12T07:48:20.899Z"
   },
   {
    "duration": 132,
    "start_time": "2022-01-12T07:48:20.916Z"
   },
   {
    "duration": 62,
    "start_time": "2022-01-12T07:48:21.050Z"
   },
   {
    "duration": 11,
    "start_time": "2022-01-12T07:48:21.115Z"
   },
   {
    "duration": 10,
    "start_time": "2022-01-12T07:48:21.160Z"
   },
   {
    "duration": 19,
    "start_time": "2022-01-12T07:48:21.173Z"
   },
   {
    "duration": 8,
    "start_time": "2022-01-12T07:48:21.195Z"
   },
   {
    "duration": 290,
    "start_time": "2022-01-12T07:48:21.206Z"
   },
   {
    "duration": 81,
    "start_time": "2022-01-12T07:48:21.498Z"
   },
   {
    "duration": 29,
    "start_time": "2022-01-12T07:48:21.582Z"
   },
   {
    "duration": 26,
    "start_time": "2022-01-12T07:50:16.510Z"
   },
   {
    "duration": 7,
    "start_time": "2022-01-12T08:01:10.722Z"
   },
   {
    "duration": 1002,
    "start_time": "2022-01-12T08:02:16.313Z"
   },
   {
    "duration": 780,
    "start_time": "2022-01-12T08:02:49.856Z"
   },
   {
    "duration": 7253,
    "start_time": "2022-01-12T08:04:57.287Z"
   },
   {
    "duration": 23,
    "start_time": "2022-01-12T08:05:37.386Z"
   },
   {
    "duration": 903,
    "start_time": "2022-01-12T08:06:00.064Z"
   },
   {
    "duration": 9,
    "start_time": "2022-01-12T08:06:12.343Z"
   },
   {
    "duration": 7,
    "start_time": "2022-01-12T08:06:52.430Z"
   },
   {
    "duration": 130,
    "start_time": "2022-01-12T08:08:00.058Z"
   },
   {
    "duration": 26,
    "start_time": "2022-01-12T08:08:07.238Z"
   },
   {
    "duration": 7,
    "start_time": "2022-01-12T08:08:14.803Z"
   },
   {
    "duration": 7,
    "start_time": "2022-01-12T08:08:32.591Z"
   },
   {
    "duration": 738,
    "start_time": "2022-01-12T08:08:34.790Z"
   },
   {
    "duration": 7,
    "start_time": "2022-01-12T08:09:40.117Z"
   },
   {
    "duration": 719,
    "start_time": "2022-01-12T08:09:41.725Z"
   },
   {
    "duration": 6,
    "start_time": "2022-01-12T08:11:10.817Z"
   },
   {
    "duration": 897,
    "start_time": "2022-01-12T08:11:14.500Z"
   },
   {
    "duration": 6,
    "start_time": "2022-01-12T08:12:07.195Z"
   },
   {
    "duration": 766,
    "start_time": "2022-01-12T08:12:08.123Z"
   },
   {
    "duration": 6,
    "start_time": "2022-01-12T08:12:36.515Z"
   },
   {
    "duration": 822,
    "start_time": "2022-01-12T08:12:37.115Z"
   },
   {
    "duration": 6,
    "start_time": "2022-01-12T08:13:18.372Z"
   },
   {
    "duration": 10035,
    "start_time": "2022-01-12T08:13:19.356Z"
   },
   {
    "duration": 128,
    "start_time": "2022-01-12T08:14:38.850Z"
   },
   {
    "duration": 10006,
    "start_time": "2022-01-12T08:15:21.297Z"
   },
   {
    "duration": 14,
    "start_time": "2022-01-12T08:15:42.345Z"
   },
   {
    "duration": 11,
    "start_time": "2022-01-12T08:17:11.433Z"
   },
   {
    "duration": 11,
    "start_time": "2022-01-12T08:17:41.609Z"
   },
   {
    "duration": 607,
    "start_time": "2022-01-12T08:18:22.385Z"
   },
   {
    "duration": 512,
    "start_time": "2022-01-12T08:18:43.199Z"
   },
   {
    "duration": 396,
    "start_time": "2022-01-12T08:19:18.047Z"
   },
   {
    "duration": 474,
    "start_time": "2022-01-12T08:19:25.874Z"
   },
   {
    "duration": 529,
    "start_time": "2022-01-12T08:19:57.648Z"
   },
   {
    "duration": 13,
    "start_time": "2022-01-12T08:20:11.318Z"
   },
   {
    "duration": 13,
    "start_time": "2022-01-12T08:20:40.294Z"
   },
   {
    "duration": 12,
    "start_time": "2022-01-12T08:20:49.942Z"
   },
   {
    "duration": 20,
    "start_time": "2022-01-12T08:21:16.974Z"
   },
   {
    "duration": 8538,
    "start_time": "2022-01-12T08:21:57.110Z"
   },
   {
    "duration": 14,
    "start_time": "2022-01-12T08:22:23.325Z"
   },
   {
    "duration": 10519,
    "start_time": "2022-01-12T08:23:02.221Z"
   },
   {
    "duration": 380,
    "start_time": "2022-01-12T08:23:18.245Z"
   },
   {
    "duration": 548,
    "start_time": "2022-01-12T08:23:33.557Z"
   },
   {
    "duration": 11,
    "start_time": "2022-01-12T08:23:51.061Z"
   },
   {
    "duration": 18,
    "start_time": "2022-01-12T08:23:59.508Z"
   },
   {
    "duration": 25,
    "start_time": "2022-01-12T08:24:17.437Z"
   },
   {
    "duration": 12,
    "start_time": "2022-01-12T08:24:34.469Z"
   },
   {
    "duration": 12,
    "start_time": "2022-01-12T08:24:42.412Z"
   },
   {
    "duration": 382,
    "start_time": "2022-01-12T08:24:58.008Z"
   },
   {
    "duration": 10266,
    "start_time": "2022-01-12T08:25:07.980Z"
   },
   {
    "duration": 17,
    "start_time": "2022-01-12T08:25:50.180Z"
   },
   {
    "duration": 15,
    "start_time": "2022-01-12T08:26:10.131Z"
   },
   {
    "duration": 8,
    "start_time": "2022-01-12T08:27:49.027Z"
   },
   {
    "duration": 804,
    "start_time": "2022-01-12T08:28:11.180Z"
   },
   {
    "duration": 969,
    "start_time": "2022-01-12T08:28:19.147Z"
   },
   {
    "duration": 914,
    "start_time": "2022-01-12T12:19:07.671Z"
   },
   {
    "duration": 528,
    "start_time": "2022-01-12T12:19:08.588Z"
   },
   {
    "duration": 73,
    "start_time": "2022-01-12T12:19:09.119Z"
   },
   {
    "duration": 137,
    "start_time": "2022-01-12T12:19:09.195Z"
   },
   {
    "duration": 80,
    "start_time": "2022-01-12T12:19:09.335Z"
   },
   {
    "duration": 45,
    "start_time": "2022-01-12T12:19:09.417Z"
   },
   {
    "duration": 13,
    "start_time": "2022-01-12T12:19:09.465Z"
   },
   {
    "duration": 25,
    "start_time": "2022-01-12T12:19:09.482Z"
   },
   {
    "duration": 366,
    "start_time": "2022-01-12T12:19:09.510Z"
   },
   {
    "duration": 438,
    "start_time": "2022-01-12T12:19:09.878Z"
   },
   {
    "duration": 9,
    "start_time": "2022-01-12T12:19:10.319Z"
   },
   {
    "duration": 36,
    "start_time": "2022-01-12T12:19:10.331Z"
   },
   {
    "duration": 17,
    "start_time": "2022-01-12T12:19:10.369Z"
   },
   {
    "duration": 9,
    "start_time": "2022-01-12T12:19:10.389Z"
   },
   {
    "duration": 13,
    "start_time": "2022-01-12T12:19:10.400Z"
   },
   {
    "duration": 45,
    "start_time": "2022-01-12T12:19:10.418Z"
   },
   {
    "duration": 72,
    "start_time": "2022-01-12T12:19:10.466Z"
   },
   {
    "duration": 592,
    "start_time": "2022-01-12T12:19:10.541Z"
   },
   {
    "duration": 340,
    "start_time": "2022-01-12T12:19:11.136Z"
   },
   {
    "duration": 14,
    "start_time": "2022-01-12T12:19:11.479Z"
   },
   {
    "duration": 9,
    "start_time": "2022-01-12T12:19:11.495Z"
   },
   {
    "duration": 12,
    "start_time": "2022-01-12T12:19:11.506Z"
   },
   {
    "duration": 11,
    "start_time": "2022-01-12T12:19:11.560Z"
   },
   {
    "duration": 19,
    "start_time": "2022-01-12T12:19:11.574Z"
   },
   {
    "duration": 613,
    "start_time": "2022-01-12T12:19:11.595Z"
   },
   {
    "duration": 250,
    "start_time": "2022-01-12T12:19:12.210Z"
   },
   {
    "duration": 17,
    "start_time": "2022-01-12T12:19:12.463Z"
   },
   {
    "duration": 11,
    "start_time": "2022-01-12T12:19:12.482Z"
   },
   {
    "duration": 28,
    "start_time": "2022-01-12T12:19:12.496Z"
   },
   {
    "duration": 11,
    "start_time": "2022-01-12T12:19:12.559Z"
   },
   {
    "duration": 19,
    "start_time": "2022-01-12T12:19:12.572Z"
   },
   {
    "duration": 71,
    "start_time": "2022-01-12T12:19:12.593Z"
   },
   {
    "duration": 5,
    "start_time": "2022-01-12T12:19:12.667Z"
   },
   {
    "duration": 13,
    "start_time": "2022-01-12T12:19:12.674Z"
   },
   {
    "duration": 130,
    "start_time": "2022-01-12T12:19:12.689Z"
   },
   {
    "duration": 65,
    "start_time": "2022-01-12T12:19:12.822Z"
   },
   {
    "duration": 11,
    "start_time": "2022-01-12T12:19:12.890Z"
   },
   {
    "duration": 10,
    "start_time": "2022-01-12T12:19:12.904Z"
   },
   {
    "duration": 57,
    "start_time": "2022-01-12T12:19:12.916Z"
   },
   {
    "duration": 7,
    "start_time": "2022-01-12T12:19:12.976Z"
   },
   {
    "duration": 276,
    "start_time": "2022-01-12T12:19:12.986Z"
   },
   {
    "duration": 97,
    "start_time": "2022-01-12T12:19:13.265Z"
   },
   {
    "duration": 31,
    "start_time": "2022-01-12T12:19:13.365Z"
   },
   {
    "duration": 24,
    "start_time": "2022-01-12T12:19:13.399Z"
   },
   {
    "duration": 45,
    "start_time": "2022-01-12T12:19:13.425Z"
   },
   {
    "duration": 7,
    "start_time": "2022-01-12T12:20:18.700Z"
   },
   {
    "duration": 941,
    "start_time": "2022-01-12T12:21:19.036Z"
   },
   {
    "duration": 8,
    "start_time": "2022-01-12T12:22:01.565Z"
   },
   {
    "duration": 842,
    "start_time": "2022-01-12T12:22:03.101Z"
   },
   {
    "duration": 7,
    "start_time": "2022-01-12T12:22:52.148Z"
   },
   {
    "duration": 766,
    "start_time": "2022-01-12T12:22:52.676Z"
   },
   {
    "duration": 198,
    "start_time": "2022-01-12T12:23:07.196Z"
   },
   {
    "duration": 875,
    "start_time": "2022-01-12T12:23:07.679Z"
   },
   {
    "duration": 6,
    "start_time": "2022-01-12T12:23:25.980Z"
   },
   {
    "duration": 1285,
    "start_time": "2022-01-12T12:23:26.427Z"
   },
   {
    "duration": 6,
    "start_time": "2022-01-12T12:25:22.835Z"
   },
   {
    "duration": 4100,
    "start_time": "2022-01-12T12:25:23.323Z"
   },
   {
    "duration": 6,
    "start_time": "2022-01-12T12:26:29.083Z"
   },
   {
    "duration": 6393,
    "start_time": "2022-01-12T12:26:29.514Z"
   },
   {
    "duration": 8,
    "start_time": "2022-01-12T12:27:32.131Z"
   },
   {
    "duration": 11497,
    "start_time": "2022-01-12T12:27:32.802Z"
   },
   {
    "duration": 10,
    "start_time": "2022-01-12T12:28:59.612Z"
   },
   {
    "duration": 939,
    "start_time": "2022-01-12T12:29:00.305Z"
   },
   {
    "duration": 6,
    "start_time": "2022-01-12T12:30:00.336Z"
   },
   {
    "duration": 909,
    "start_time": "2022-01-12T12:30:00.784Z"
   },
   {
    "duration": 9,
    "start_time": "2022-01-12T12:30:45.055Z"
   },
   {
    "duration": 16,
    "start_time": "2022-01-12T12:30:56.615Z"
   },
   {
    "duration": 19,
    "start_time": "2022-01-12T12:31:05.527Z"
   },
   {
    "duration": 14,
    "start_time": "2022-01-12T12:31:49.576Z"
   },
   {
    "duration": 875,
    "start_time": "2022-01-12T12:31:50.631Z"
   },
   {
    "duration": 7,
    "start_time": "2022-01-12T12:32:38.423Z"
   },
   {
    "duration": 790,
    "start_time": "2022-01-12T12:32:38.838Z"
   },
   {
    "duration": 450,
    "start_time": "2022-01-12T12:34:56.541Z"
   },
   {
    "duration": 514,
    "start_time": "2022-01-12T12:35:22.375Z"
   },
   {
    "duration": 29,
    "start_time": "2022-01-12T12:36:01.135Z"
   },
   {
    "duration": 18,
    "start_time": "2022-01-12T12:38:02.976Z"
   },
   {
    "duration": 26,
    "start_time": "2022-01-12T12:38:32.947Z"
   },
   {
    "duration": 26,
    "start_time": "2022-01-12T12:38:44.020Z"
   },
   {
    "duration": 17,
    "start_time": "2022-01-12T12:39:02.499Z"
   },
   {
    "duration": 7973,
    "start_time": "2022-01-12T12:39:12.907Z"
   },
   {
    "duration": 121,
    "start_time": "2022-01-12T12:40:14.058Z"
   },
   {
    "duration": 154,
    "start_time": "2022-01-12T12:40:27.139Z"
   },
   {
    "duration": 187,
    "start_time": "2022-01-12T12:40:33.819Z"
   },
   {
    "duration": 17,
    "start_time": "2022-01-12T12:40:40.506Z"
   },
   {
    "duration": 18,
    "start_time": "2022-01-12T12:40:59.676Z"
   },
   {
    "duration": 9,
    "start_time": "2022-01-12T12:41:15.386Z"
   },
   {
    "duration": 12,
    "start_time": "2022-01-12T12:41:32.179Z"
   },
   {
    "duration": 9079,
    "start_time": "2022-01-12T12:41:45.641Z"
   },
   {
    "duration": 14,
    "start_time": "2022-01-12T12:42:33.671Z"
   },
   {
    "duration": 10,
    "start_time": "2022-01-12T12:43:38.800Z"
   },
   {
    "duration": 10,
    "start_time": "2022-01-12T12:43:47.112Z"
   },
   {
    "duration": 456,
    "start_time": "2022-01-12T12:44:44.311Z"
   },
   {
    "duration": 375,
    "start_time": "2022-01-12T12:45:45.073Z"
   },
   {
    "duration": 11452,
    "start_time": "2022-01-12T12:48:04.478Z"
   },
   {
    "duration": 20,
    "start_time": "2022-01-12T12:48:57.886Z"
   },
   {
    "duration": 403,
    "start_time": "2022-01-12T12:49:09.212Z"
   },
   {
    "duration": 13,
    "start_time": "2022-01-12T12:49:19.516Z"
   },
   {
    "duration": 438,
    "start_time": "2022-01-12T12:49:31.628Z"
   },
   {
    "duration": 559,
    "start_time": "2022-01-12T12:49:37.980Z"
   },
   {
    "duration": 16,
    "start_time": "2022-01-12T12:50:48.884Z"
   },
   {
    "duration": 412,
    "start_time": "2022-01-12T13:07:28.578Z"
   },
   {
    "duration": 16,
    "start_time": "2022-01-12T13:08:00.953Z"
   },
   {
    "duration": 17,
    "start_time": "2022-01-12T13:08:31.905Z"
   },
   {
    "duration": 9,
    "start_time": "2022-01-12T13:16:46.086Z"
   },
   {
    "duration": 726,
    "start_time": "2022-01-12T13:16:47.381Z"
   },
   {
    "duration": 7,
    "start_time": "2022-01-12T13:17:44.324Z"
   },
   {
    "duration": 5672,
    "start_time": "2022-01-12T13:17:45.222Z"
   },
   {
    "duration": 24,
    "start_time": "2022-01-12T13:20:08.546Z"
   },
   {
    "duration": 7,
    "start_time": "2022-01-12T13:21:29.051Z"
   },
   {
    "duration": 1179,
    "start_time": "2022-01-12T13:21:31.034Z"
   },
   {
    "duration": 7,
    "start_time": "2022-01-12T13:22:03.794Z"
   },
   {
    "duration": 851,
    "start_time": "2022-01-12T13:22:07.106Z"
   },
   {
    "duration": 30,
    "start_time": "2022-01-12T13:24:01.777Z"
   },
   {
    "duration": 30,
    "start_time": "2022-01-12T13:24:50.599Z"
   },
   {
    "duration": 32,
    "start_time": "2022-01-12T13:25:52.985Z"
   },
   {
    "duration": -43,
    "start_time": "2022-01-12T13:26:39.820Z"
   },
   {
    "duration": 36,
    "start_time": "2022-01-12T13:26:42.872Z"
   },
   {
    "duration": 47,
    "start_time": "2022-01-12T13:26:59.704Z"
   },
   {
    "duration": 1373,
    "start_time": "2022-01-12T13:29:02.263Z"
   },
   {
    "duration": 62,
    "start_time": "2022-01-12T13:30:12.821Z"
   },
   {
    "duration": 57,
    "start_time": "2022-01-12T13:30:44.493Z"
   },
   {
    "duration": 24,
    "start_time": "2022-01-12T13:32:06.652Z"
   },
   {
    "duration": 2837,
    "start_time": "2022-01-12T13:35:08.788Z"
   },
   {
    "duration": 95,
    "start_time": "2022-01-12T13:35:19.067Z"
   },
   {
    "duration": 43,
    "start_time": "2022-01-12T13:40:20.848Z"
   },
   {
    "duration": 20,
    "start_time": "2022-01-12T13:40:38.328Z"
   },
   {
    "duration": 24,
    "start_time": "2022-01-12T13:40:58.680Z"
   },
   {
    "duration": 24,
    "start_time": "2022-01-12T13:46:19.577Z"
   },
   {
    "duration": 36,
    "start_time": "2022-01-12T13:48:14.195Z"
   },
   {
    "duration": 19,
    "start_time": "2022-01-12T13:48:17.288Z"
   },
   {
    "duration": 471,
    "start_time": "2022-01-12T13:59:27.200Z"
   },
   {
    "duration": 369,
    "start_time": "2022-01-12T14:03:13.444Z"
   },
   {
    "duration": 394,
    "start_time": "2022-01-12T14:03:39.177Z"
   },
   {
    "duration": 451,
    "start_time": "2022-01-12T14:04:39.408Z"
   },
   {
    "duration": 64,
    "start_time": "2022-01-12T14:05:20.016Z"
   },
   {
    "duration": 25,
    "start_time": "2022-01-12T14:05:37.471Z"
   },
   {
    "duration": 58,
    "start_time": "2022-01-12T14:05:41.256Z"
   },
   {
    "duration": 560,
    "start_time": "2022-01-12T14:06:06.025Z"
   },
   {
    "duration": 384,
    "start_time": "2022-01-12T14:06:25.175Z"
   },
   {
    "duration": 103,
    "start_time": "2022-01-12T14:07:56.702Z"
   },
   {
    "duration": 116,
    "start_time": "2022-01-12T14:08:21.470Z"
   },
   {
    "duration": 25,
    "start_time": "2022-01-12T14:08:35.390Z"
   },
   {
    "duration": 104,
    "start_time": "2022-01-12T14:08:37.269Z"
   },
   {
    "duration": 53,
    "start_time": "2022-01-12T14:08:51.213Z"
   },
   {
    "duration": 20,
    "start_time": "2022-01-12T14:08:54.716Z"
   },
   {
    "duration": 26,
    "start_time": "2022-01-12T14:09:12.637Z"
   },
   {
    "duration": 7864,
    "start_time": "2022-01-12T14:09:20.109Z"
   },
   {
    "duration": 20,
    "start_time": "2022-01-12T14:09:35.430Z"
   },
   {
    "duration": 598,
    "start_time": "2022-01-12T14:26:16.564Z"
   },
   {
    "duration": 660,
    "start_time": "2022-01-12T14:29:33.595Z"
   },
   {
    "duration": 411,
    "start_time": "2022-01-12T14:30:06.901Z"
   },
   {
    "duration": 763,
    "start_time": "2022-01-12T14:31:08.669Z"
   },
   {
    "duration": 538,
    "start_time": "2022-01-12T14:31:09.435Z"
   },
   {
    "duration": 74,
    "start_time": "2022-01-12T14:31:09.976Z"
   },
   {
    "duration": 141,
    "start_time": "2022-01-12T14:31:10.053Z"
   },
   {
    "duration": 79,
    "start_time": "2022-01-12T14:31:10.196Z"
   },
   {
    "duration": 22,
    "start_time": "2022-01-12T14:31:10.277Z"
   },
   {
    "duration": 15,
    "start_time": "2022-01-12T14:31:10.302Z"
   },
   {
    "duration": 59,
    "start_time": "2022-01-12T14:31:10.321Z"
   },
   {
    "duration": 331,
    "start_time": "2022-01-12T14:31:10.383Z"
   },
   {
    "duration": 432,
    "start_time": "2022-01-12T14:31:10.716Z"
   },
   {
    "duration": 12,
    "start_time": "2022-01-12T14:31:11.150Z"
   },
   {
    "duration": 12,
    "start_time": "2022-01-12T14:31:11.165Z"
   },
   {
    "duration": 13,
    "start_time": "2022-01-12T14:31:11.179Z"
   },
   {
    "duration": 8,
    "start_time": "2022-01-12T14:31:11.194Z"
   },
   {
    "duration": 60,
    "start_time": "2022-01-12T14:31:11.205Z"
   },
   {
    "duration": 11,
    "start_time": "2022-01-12T14:31:11.268Z"
   },
   {
    "duration": 84,
    "start_time": "2022-01-12T14:31:11.281Z"
   },
   {
    "duration": 411,
    "start_time": "2022-01-12T14:31:11.368Z"
   },
   {
    "duration": 252,
    "start_time": "2022-01-12T14:31:11.781Z"
   },
   {
    "duration": 27,
    "start_time": "2022-01-12T14:31:12.036Z"
   },
   {
    "duration": 10,
    "start_time": "2022-01-12T14:31:12.065Z"
   },
   {
    "duration": 12,
    "start_time": "2022-01-12T14:31:12.077Z"
   },
   {
    "duration": 11,
    "start_time": "2022-01-12T14:31:12.095Z"
   },
   {
    "duration": 54,
    "start_time": "2022-01-12T14:31:12.109Z"
   },
   {
    "duration": 594,
    "start_time": "2022-01-12T14:31:12.165Z"
   },
   {
    "duration": 246,
    "start_time": "2022-01-12T14:31:12.762Z"
   },
   {
    "duration": 19,
    "start_time": "2022-01-12T14:31:13.011Z"
   },
   {
    "duration": 32,
    "start_time": "2022-01-12T14:31:13.032Z"
   },
   {
    "duration": 29,
    "start_time": "2022-01-12T14:31:13.066Z"
   },
   {
    "duration": 12,
    "start_time": "2022-01-12T14:31:13.097Z"
   },
   {
    "duration": 52,
    "start_time": "2022-01-12T14:31:13.112Z"
   },
   {
    "duration": 33,
    "start_time": "2022-01-12T14:31:13.167Z"
   },
   {
    "duration": 6,
    "start_time": "2022-01-12T14:31:13.203Z"
   },
   {
    "duration": 54,
    "start_time": "2022-01-12T14:31:13.212Z"
   },
   {
    "duration": 121,
    "start_time": "2022-01-12T14:31:13.269Z"
   },
   {
    "duration": 55,
    "start_time": "2022-01-12T14:31:13.393Z"
   },
   {
    "duration": 9,
    "start_time": "2022-01-12T14:31:13.460Z"
   },
   {
    "duration": 8,
    "start_time": "2022-01-12T14:31:13.472Z"
   },
   {
    "duration": 18,
    "start_time": "2022-01-12T14:31:13.483Z"
   },
   {
    "duration": 8,
    "start_time": "2022-01-12T14:31:13.504Z"
   },
   {
    "duration": 300,
    "start_time": "2022-01-12T14:31:13.514Z"
   },
   {
    "duration": 79,
    "start_time": "2022-01-12T14:31:13.816Z"
   },
   {
    "duration": 29,
    "start_time": "2022-01-12T14:31:13.897Z"
   },
   {
    "duration": 51,
    "start_time": "2022-01-12T14:31:13.928Z"
   },
   {
    "duration": 7547,
    "start_time": "2022-01-12T14:31:13.982Z"
   },
   {
    "duration": 29,
    "start_time": "2022-01-12T14:31:21.532Z"
   },
   {
    "duration": 261,
    "start_time": "2022-01-12T14:31:21.563Z"
   },
   {
    "duration": 18,
    "start_time": "2022-01-12T14:31:26.056Z"
   },
   {
    "duration": 80,
    "start_time": "2022-01-12T14:31:40.720Z"
   },
   {
    "duration": 27,
    "start_time": "2022-01-12T14:33:07.576Z"
   },
   {
    "duration": 7711,
    "start_time": "2022-01-12T14:33:13.385Z"
   },
   {
    "duration": 20,
    "start_time": "2022-01-12T14:33:21.098Z"
   },
   {
    "duration": 79,
    "start_time": "2022-01-12T14:34:00.584Z"
   },
   {
    "duration": 20,
    "start_time": "2022-01-12T14:34:26.023Z"
   },
   {
    "duration": 1286,
    "start_time": "2022-01-12T14:35:58.695Z"
   },
   {
    "duration": 547,
    "start_time": "2022-01-12T14:35:59.984Z"
   },
   {
    "duration": 71,
    "start_time": "2022-01-12T14:36:00.533Z"
   },
   {
    "duration": 139,
    "start_time": "2022-01-12T14:36:00.607Z"
   },
   {
    "duration": 64,
    "start_time": "2022-01-12T14:36:00.749Z"
   },
   {
    "duration": 48,
    "start_time": "2022-01-12T14:36:00.816Z"
   },
   {
    "duration": 13,
    "start_time": "2022-01-12T14:36:00.867Z"
   },
   {
    "duration": 31,
    "start_time": "2022-01-12T14:36:00.884Z"
   },
   {
    "duration": 334,
    "start_time": "2022-01-12T14:36:00.918Z"
   },
   {
    "duration": 436,
    "start_time": "2022-01-12T14:36:01.259Z"
   },
   {
    "duration": 8,
    "start_time": "2022-01-12T14:36:01.698Z"
   },
   {
    "duration": 12,
    "start_time": "2022-01-12T14:36:01.709Z"
   },
   {
    "duration": 42,
    "start_time": "2022-01-12T14:36:01.724Z"
   },
   {
    "duration": 8,
    "start_time": "2022-01-12T14:36:01.768Z"
   },
   {
    "duration": 12,
    "start_time": "2022-01-12T14:36:01.778Z"
   },
   {
    "duration": 13,
    "start_time": "2022-01-12T14:36:01.792Z"
   },
   {
    "duration": 112,
    "start_time": "2022-01-12T14:36:01.808Z"
   },
   {
    "duration": 418,
    "start_time": "2022-01-12T14:36:01.923Z"
   },
   {
    "duration": 250,
    "start_time": "2022-01-12T14:36:02.343Z"
   },
   {
    "duration": 15,
    "start_time": "2022-01-12T14:36:02.596Z"
   },
   {
    "duration": 11,
    "start_time": "2022-01-12T14:36:02.613Z"
   },
   {
    "duration": 41,
    "start_time": "2022-01-12T14:36:02.626Z"
   },
   {
    "duration": 13,
    "start_time": "2022-01-12T14:36:02.672Z"
   },
   {
    "duration": 17,
    "start_time": "2022-01-12T14:36:02.688Z"
   },
   {
    "duration": 603,
    "start_time": "2022-01-12T14:36:02.708Z"
   },
   {
    "duration": 246,
    "start_time": "2022-01-12T14:36:03.313Z"
   },
   {
    "duration": 19,
    "start_time": "2022-01-12T14:36:03.562Z"
   },
   {
    "duration": 11,
    "start_time": "2022-01-12T14:36:03.583Z"
   },
   {
    "duration": 64,
    "start_time": "2022-01-12T14:36:03.596Z"
   },
   {
    "duration": 12,
    "start_time": "2022-01-12T14:36:03.663Z"
   },
   {
    "duration": 20,
    "start_time": "2022-01-12T14:36:03.678Z"
   },
   {
    "duration": 77,
    "start_time": "2022-01-12T14:36:03.701Z"
   },
   {
    "duration": 5,
    "start_time": "2022-01-12T14:36:03.781Z"
   },
   {
    "duration": 12,
    "start_time": "2022-01-12T14:36:03.788Z"
   },
   {
    "duration": 135,
    "start_time": "2022-01-12T14:36:03.803Z"
   },
   {
    "duration": 66,
    "start_time": "2022-01-12T14:36:03.940Z"
   },
   {
    "duration": 8,
    "start_time": "2022-01-12T14:36:04.008Z"
   },
   {
    "duration": 43,
    "start_time": "2022-01-12T14:36:04.019Z"
   },
   {
    "duration": 18,
    "start_time": "2022-01-12T14:36:04.065Z"
   },
   {
    "duration": 12,
    "start_time": "2022-01-12T14:36:04.085Z"
   },
   {
    "duration": 296,
    "start_time": "2022-01-12T14:36:04.099Z"
   },
   {
    "duration": 87,
    "start_time": "2022-01-12T14:36:04.398Z"
   },
   {
    "duration": 27,
    "start_time": "2022-01-12T14:36:04.488Z"
   },
   {
    "duration": 54,
    "start_time": "2022-01-12T14:36:04.518Z"
   },
   {
    "duration": 7612,
    "start_time": "2022-01-12T14:36:04.574Z"
   },
   {
    "duration": 20,
    "start_time": "2022-01-12T14:36:12.188Z"
   },
   {
    "duration": 521,
    "start_time": "2022-01-12T14:36:18.050Z"
   },
   {
    "duration": 796,
    "start_time": "2022-01-12T14:38:10.998Z"
   },
   {
    "duration": 790,
    "start_time": "2022-01-12T14:40:37.130Z"
   },
   {
    "duration": 546,
    "start_time": "2022-01-12T14:40:37.923Z"
   },
   {
    "duration": 70,
    "start_time": "2022-01-12T14:40:38.472Z"
   },
   {
    "duration": 140,
    "start_time": "2022-01-12T14:40:38.546Z"
   },
   {
    "duration": 88,
    "start_time": "2022-01-12T14:40:38.689Z"
   },
   {
    "duration": 23,
    "start_time": "2022-01-12T14:40:38.779Z"
   },
   {
    "duration": 16,
    "start_time": "2022-01-12T14:40:38.804Z"
   },
   {
    "duration": 59,
    "start_time": "2022-01-12T14:40:38.823Z"
   },
   {
    "duration": 401,
    "start_time": "2022-01-12T14:40:38.888Z"
   },
   {
    "duration": 443,
    "start_time": "2022-01-12T14:40:39.293Z"
   },
   {
    "duration": 7,
    "start_time": "2022-01-12T14:40:39.739Z"
   },
   {
    "duration": 8,
    "start_time": "2022-01-12T14:40:39.760Z"
   },
   {
    "duration": 11,
    "start_time": "2022-01-12T14:40:39.770Z"
   },
   {
    "duration": 6,
    "start_time": "2022-01-12T14:40:39.784Z"
   },
   {
    "duration": 12,
    "start_time": "2022-01-12T14:40:39.792Z"
   },
   {
    "duration": 55,
    "start_time": "2022-01-12T14:40:39.806Z"
   },
   {
    "duration": 21,
    "start_time": "2022-01-12T14:40:39.863Z"
   },
   {
    "duration": 426,
    "start_time": "2022-01-12T14:40:39.887Z"
   },
   {
    "duration": 302,
    "start_time": "2022-01-12T14:40:40.315Z"
   },
   {
    "duration": 15,
    "start_time": "2022-01-12T14:40:40.620Z"
   },
   {
    "duration": 31,
    "start_time": "2022-01-12T14:40:40.638Z"
   },
   {
    "duration": 16,
    "start_time": "2022-01-12T14:40:40.671Z"
   },
   {
    "duration": 12,
    "start_time": "2022-01-12T14:40:40.690Z"
   },
   {
    "duration": 19,
    "start_time": "2022-01-12T14:40:40.704Z"
   },
   {
    "duration": 608,
    "start_time": "2022-01-12T14:40:40.725Z"
   },
   {
    "duration": 253,
    "start_time": "2022-01-12T14:40:41.337Z"
   },
   {
    "duration": 19,
    "start_time": "2022-01-12T14:40:41.595Z"
   },
   {
    "duration": 13,
    "start_time": "2022-01-12T14:40:41.617Z"
   },
   {
    "duration": 31,
    "start_time": "2022-01-12T14:40:41.659Z"
   },
   {
    "duration": 11,
    "start_time": "2022-01-12T14:40:41.693Z"
   },
   {
    "duration": 17,
    "start_time": "2022-01-12T14:40:41.707Z"
   },
   {
    "duration": 31,
    "start_time": "2022-01-12T14:40:41.759Z"
   },
   {
    "duration": 5,
    "start_time": "2022-01-12T14:40:41.792Z"
   },
   {
    "duration": 10,
    "start_time": "2022-01-12T14:40:41.799Z"
   },
   {
    "duration": 147,
    "start_time": "2022-01-12T14:40:41.812Z"
   },
   {
    "duration": 56,
    "start_time": "2022-01-12T14:40:41.961Z"
   },
   {
    "duration": 9,
    "start_time": "2022-01-12T14:40:42.020Z"
   },
   {
    "duration": 9,
    "start_time": "2022-01-12T14:40:42.059Z"
   },
   {
    "duration": 19,
    "start_time": "2022-01-12T14:40:42.070Z"
   },
   {
    "duration": 8,
    "start_time": "2022-01-12T14:40:42.092Z"
   },
   {
    "duration": 287,
    "start_time": "2022-01-12T14:40:42.103Z"
   },
   {
    "duration": 83,
    "start_time": "2022-01-12T14:40:42.392Z"
   },
   {
    "duration": 28,
    "start_time": "2022-01-12T14:40:42.477Z"
   },
   {
    "duration": 53,
    "start_time": "2022-01-12T14:40:42.508Z"
   },
   {
    "duration": 7644,
    "start_time": "2022-01-12T14:40:42.563Z"
   },
   {
    "duration": 20,
    "start_time": "2022-01-12T14:40:50.209Z"
   },
   {
    "duration": 959,
    "start_time": "2022-01-12T14:41:00.864Z"
   },
   {
    "duration": 792,
    "start_time": "2022-01-12T15:01:28.433Z"
   },
   {
    "duration": 534,
    "start_time": "2022-01-12T15:01:29.227Z"
   },
   {
    "duration": 76,
    "start_time": "2022-01-12T15:01:29.764Z"
   },
   {
    "duration": 163,
    "start_time": "2022-01-12T15:01:29.844Z"
   },
   {
    "duration": 84,
    "start_time": "2022-01-12T15:01:30.010Z"
   },
   {
    "duration": 23,
    "start_time": "2022-01-12T15:01:30.096Z"
   },
   {
    "duration": 48,
    "start_time": "2022-01-12T15:01:30.122Z"
   },
   {
    "duration": 24,
    "start_time": "2022-01-12T15:01:30.176Z"
   },
   {
    "duration": 350,
    "start_time": "2022-01-12T15:01:30.203Z"
   },
   {
    "duration": 433,
    "start_time": "2022-01-12T15:01:30.560Z"
   },
   {
    "duration": 7,
    "start_time": "2022-01-12T15:01:30.997Z"
   },
   {
    "duration": 20,
    "start_time": "2022-01-12T15:01:31.007Z"
   },
   {
    "duration": 31,
    "start_time": "2022-01-12T15:01:31.030Z"
   },
   {
    "duration": 9,
    "start_time": "2022-01-12T15:01:31.064Z"
   },
   {
    "duration": 15,
    "start_time": "2022-01-12T15:01:31.076Z"
   },
   {
    "duration": 22,
    "start_time": "2022-01-12T15:01:31.094Z"
   },
   {
    "duration": 106,
    "start_time": "2022-01-12T15:01:31.118Z"
   },
   {
    "duration": 445,
    "start_time": "2022-01-12T15:01:31.227Z"
   },
   {
    "duration": 249,
    "start_time": "2022-01-12T15:01:31.674Z"
   },
   {
    "duration": 14,
    "start_time": "2022-01-12T15:01:31.925Z"
   },
   {
    "duration": 22,
    "start_time": "2022-01-12T15:01:31.942Z"
   },
   {
    "duration": 12,
    "start_time": "2022-01-12T15:01:31.967Z"
   },
   {
    "duration": 12,
    "start_time": "2022-01-12T15:01:31.985Z"
   },
   {
    "duration": 60,
    "start_time": "2022-01-12T15:01:32.000Z"
   },
   {
    "duration": 570,
    "start_time": "2022-01-12T15:01:32.062Z"
   },
   {
    "duration": 250,
    "start_time": "2022-01-12T15:01:32.634Z"
   },
   {
    "duration": 19,
    "start_time": "2022-01-12T15:01:32.887Z"
   },
   {
    "duration": 19,
    "start_time": "2022-01-12T15:01:32.909Z"
   },
   {
    "duration": 49,
    "start_time": "2022-01-12T15:01:32.931Z"
   },
   {
    "duration": 10,
    "start_time": "2022-01-12T15:01:32.983Z"
   },
   {
    "duration": 19,
    "start_time": "2022-01-12T15:01:32.996Z"
   },
   {
    "duration": 63,
    "start_time": "2022-01-12T15:01:33.017Z"
   },
   {
    "duration": 5,
    "start_time": "2022-01-12T15:01:33.082Z"
   },
   {
    "duration": 11,
    "start_time": "2022-01-12T15:01:33.089Z"
   },
   {
    "duration": 135,
    "start_time": "2022-01-12T15:01:33.102Z"
   },
   {
    "duration": 57,
    "start_time": "2022-01-12T15:01:33.240Z"
   },
   {
    "duration": 9,
    "start_time": "2022-01-12T15:01:33.299Z"
   },
   {
    "duration": 8,
    "start_time": "2022-01-12T15:01:33.311Z"
   },
   {
    "duration": 47,
    "start_time": "2022-01-12T15:01:33.322Z"
   },
   {
    "duration": 7,
    "start_time": "2022-01-12T15:01:33.372Z"
   },
   {
    "duration": 277,
    "start_time": "2022-01-12T15:01:33.382Z"
   },
   {
    "duration": 61,
    "start_time": "2022-01-12T15:01:33.662Z"
   },
   {
    "duration": 53,
    "start_time": "2022-01-12T15:01:33.725Z"
   },
   {
    "duration": 25,
    "start_time": "2022-01-12T15:01:33.780Z"
   },
   {
    "duration": 7615,
    "start_time": "2022-01-12T15:01:33.807Z"
   },
   {
    "duration": 23,
    "start_time": "2022-01-12T15:01:41.425Z"
   },
   {
    "duration": 913,
    "start_time": "2022-01-12T15:01:44.004Z"
   },
   {
    "duration": 820,
    "start_time": "2022-01-12T15:04:23.661Z"
   },
   {
    "duration": 541,
    "start_time": "2022-01-12T15:04:24.483Z"
   },
   {
    "duration": 76,
    "start_time": "2022-01-12T15:04:25.027Z"
   },
   {
    "duration": 141,
    "start_time": "2022-01-12T15:04:25.107Z"
   },
   {
    "duration": 60,
    "start_time": "2022-01-12T15:04:25.250Z"
   },
   {
    "duration": 55,
    "start_time": "2022-01-12T15:04:25.312Z"
   },
   {
    "duration": 15,
    "start_time": "2022-01-12T15:04:25.370Z"
   },
   {
    "duration": 23,
    "start_time": "2022-01-12T15:04:25.389Z"
   },
   {
    "duration": 361,
    "start_time": "2022-01-12T15:04:25.415Z"
   },
   {
    "duration": 429,
    "start_time": "2022-01-12T15:04:25.778Z"
   },
   {
    "duration": 8,
    "start_time": "2022-01-12T15:04:26.210Z"
   },
   {
    "duration": 17,
    "start_time": "2022-01-12T15:04:26.220Z"
   },
   {
    "duration": 11,
    "start_time": "2022-01-12T15:04:26.259Z"
   },
   {
    "duration": 7,
    "start_time": "2022-01-12T15:04:26.272Z"
   },
   {
    "duration": 11,
    "start_time": "2022-01-12T15:04:26.282Z"
   },
   {
    "duration": 14,
    "start_time": "2022-01-12T15:04:26.296Z"
   },
   {
    "duration": 111,
    "start_time": "2022-01-12T15:04:26.313Z"
   },
   {
    "duration": 424,
    "start_time": "2022-01-12T15:04:26.427Z"
   },
   {
    "duration": 261,
    "start_time": "2022-01-12T15:04:26.853Z"
   },
   {
    "duration": 15,
    "start_time": "2022-01-12T15:04:27.116Z"
   },
   {
    "duration": 28,
    "start_time": "2022-01-12T15:04:27.133Z"
   },
   {
    "duration": 12,
    "start_time": "2022-01-12T15:04:27.163Z"
   },
   {
    "duration": 13,
    "start_time": "2022-01-12T15:04:27.181Z"
   },
   {
    "duration": 33,
    "start_time": "2022-01-12T15:04:27.198Z"
   },
   {
    "duration": 642,
    "start_time": "2022-01-12T15:04:27.233Z"
   },
   {
    "duration": 262,
    "start_time": "2022-01-12T15:04:27.877Z"
   },
   {
    "duration": 30,
    "start_time": "2022-01-12T15:04:28.142Z"
   },
   {
    "duration": 11,
    "start_time": "2022-01-12T15:04:28.175Z"
   },
   {
    "duration": 29,
    "start_time": "2022-01-12T15:04:28.188Z"
   },
   {
    "duration": 42,
    "start_time": "2022-01-12T15:04:28.219Z"
   },
   {
    "duration": 18,
    "start_time": "2022-01-12T15:04:28.263Z"
   },
   {
    "duration": 32,
    "start_time": "2022-01-12T15:04:28.284Z"
   },
   {
    "duration": 43,
    "start_time": "2022-01-12T15:04:28.318Z"
   },
   {
    "duration": 10,
    "start_time": "2022-01-12T15:04:28.364Z"
   },
   {
    "duration": 121,
    "start_time": "2022-01-12T15:04:28.377Z"
   },
   {
    "duration": 65,
    "start_time": "2022-01-12T15:04:28.501Z"
   },
   {
    "duration": 8,
    "start_time": "2022-01-12T15:04:28.569Z"
   },
   {
    "duration": 10,
    "start_time": "2022-01-12T15:04:28.580Z"
   },
   {
    "duration": 20,
    "start_time": "2022-01-12T15:04:28.592Z"
   },
   {
    "duration": 48,
    "start_time": "2022-01-12T15:04:28.614Z"
   },
   {
    "duration": 269,
    "start_time": "2022-01-12T15:04:28.664Z"
   },
   {
    "duration": 74,
    "start_time": "2022-01-12T15:04:28.935Z"
   },
   {
    "duration": 57,
    "start_time": "2022-01-12T15:04:29.011Z"
   },
   {
    "duration": 24,
    "start_time": "2022-01-12T15:04:29.070Z"
   },
   {
    "duration": 9002,
    "start_time": "2022-01-12T15:04:29.097Z"
   },
   {
    "duration": 20,
    "start_time": "2022-01-12T15:04:38.102Z"
   },
   {
    "duration": 9191,
    "start_time": "2022-01-12T15:04:38.125Z"
   },
   {
    "duration": 831,
    "start_time": "2022-01-12T15:06:13.428Z"
   },
   {
    "duration": 576,
    "start_time": "2022-01-12T15:06:14.262Z"
   },
   {
    "duration": 75,
    "start_time": "2022-01-12T15:06:14.841Z"
   },
   {
    "duration": 153,
    "start_time": "2022-01-12T15:06:14.918Z"
   },
   {
    "duration": 58,
    "start_time": "2022-01-12T15:06:15.074Z"
   },
   {
    "duration": 21,
    "start_time": "2022-01-12T15:06:15.160Z"
   },
   {
    "duration": 14,
    "start_time": "2022-01-12T15:06:15.184Z"
   },
   {
    "duration": 21,
    "start_time": "2022-01-12T15:06:15.200Z"
   },
   {
    "duration": 321,
    "start_time": "2022-01-12T15:06:15.262Z"
   },
   {
    "duration": 438,
    "start_time": "2022-01-12T15:06:15.587Z"
   },
   {
    "duration": 8,
    "start_time": "2022-01-12T15:06:16.028Z"
   },
   {
    "duration": 10,
    "start_time": "2022-01-12T15:06:16.059Z"
   },
   {
    "duration": 13,
    "start_time": "2022-01-12T15:06:16.072Z"
   },
   {
    "duration": 8,
    "start_time": "2022-01-12T15:06:16.088Z"
   },
   {
    "duration": 12,
    "start_time": "2022-01-12T15:06:16.099Z"
   },
   {
    "duration": 55,
    "start_time": "2022-01-12T15:06:16.114Z"
   },
   {
    "duration": 23,
    "start_time": "2022-01-12T15:06:16.172Z"
   },
   {
    "duration": 443,
    "start_time": "2022-01-12T15:06:16.198Z"
   },
   {
    "duration": 310,
    "start_time": "2022-01-12T15:06:16.644Z"
   },
   {
    "duration": 14,
    "start_time": "2022-01-12T15:06:16.960Z"
   },
   {
    "duration": 10,
    "start_time": "2022-01-12T15:06:16.976Z"
   },
   {
    "duration": 12,
    "start_time": "2022-01-12T15:06:16.990Z"
   },
   {
    "duration": 11,
    "start_time": "2022-01-12T15:06:17.005Z"
   },
   {
    "duration": 59,
    "start_time": "2022-01-12T15:06:17.019Z"
   },
   {
    "duration": 585,
    "start_time": "2022-01-12T15:06:17.081Z"
   },
   {
    "duration": 256,
    "start_time": "2022-01-12T15:06:17.668Z"
   },
   {
    "duration": 31,
    "start_time": "2022-01-12T15:06:17.929Z"
   },
   {
    "duration": 12,
    "start_time": "2022-01-12T15:06:17.963Z"
   },
   {
    "duration": 30,
    "start_time": "2022-01-12T15:06:17.977Z"
   },
   {
    "duration": 11,
    "start_time": "2022-01-12T15:06:18.010Z"
   },
   {
    "duration": 53,
    "start_time": "2022-01-12T15:06:18.023Z"
   },
   {
    "duration": 31,
    "start_time": "2022-01-12T15:06:18.078Z"
   },
   {
    "duration": 4,
    "start_time": "2022-01-12T15:06:18.112Z"
   },
   {
    "duration": 49,
    "start_time": "2022-01-12T15:06:18.118Z"
   },
   {
    "duration": 118,
    "start_time": "2022-01-12T15:06:18.169Z"
   },
   {
    "duration": 50,
    "start_time": "2022-01-12T15:06:18.290Z"
   },
   {
    "duration": 22,
    "start_time": "2022-01-12T15:06:18.342Z"
   },
   {
    "duration": 10,
    "start_time": "2022-01-12T15:06:18.366Z"
   },
   {
    "duration": 18,
    "start_time": "2022-01-12T15:06:18.378Z"
   },
   {
    "duration": 7,
    "start_time": "2022-01-12T15:06:18.399Z"
   },
   {
    "duration": 288,
    "start_time": "2022-01-12T15:06:18.408Z"
   },
   {
    "duration": 85,
    "start_time": "2022-01-12T15:06:18.698Z"
   },
   {
    "duration": 27,
    "start_time": "2022-01-12T15:06:18.785Z"
   },
   {
    "duration": 53,
    "start_time": "2022-01-12T15:06:18.815Z"
   },
   {
    "duration": 7636,
    "start_time": "2022-01-12T15:06:18.870Z"
   },
   {
    "duration": 19,
    "start_time": "2022-01-12T15:06:26.509Z"
   },
   {
    "duration": 942,
    "start_time": "2022-01-12T15:06:29.348Z"
   },
   {
    "duration": 96,
    "start_time": "2022-01-12T15:08:12.467Z"
   },
   {
    "duration": 18,
    "start_time": "2022-01-12T15:08:24.819Z"
   },
   {
    "duration": 74,
    "start_time": "2022-01-12T15:09:19.979Z"
   },
   {
    "duration": 20,
    "start_time": "2022-01-12T15:09:41.138Z"
   },
   {
    "duration": 799,
    "start_time": "2022-01-12T15:10:20.939Z"
   },
   {
    "duration": 553,
    "start_time": "2022-01-12T15:10:21.741Z"
   },
   {
    "duration": 72,
    "start_time": "2022-01-12T15:10:22.297Z"
   },
   {
    "duration": 145,
    "start_time": "2022-01-12T15:10:22.372Z"
   },
   {
    "duration": 68,
    "start_time": "2022-01-12T15:10:22.520Z"
   },
   {
    "duration": 20,
    "start_time": "2022-01-12T15:10:22.591Z"
   },
   {
    "duration": 14,
    "start_time": "2022-01-12T15:10:22.613Z"
   },
   {
    "duration": 23,
    "start_time": "2022-01-12T15:10:22.662Z"
   },
   {
    "duration": 333,
    "start_time": "2022-01-12T15:10:22.689Z"
   },
   {
    "duration": 429,
    "start_time": "2022-01-12T15:10:23.024Z"
   },
   {
    "duration": 7,
    "start_time": "2022-01-12T15:10:23.459Z"
   },
   {
    "duration": 21,
    "start_time": "2022-01-12T15:10:23.468Z"
   },
   {
    "duration": 16,
    "start_time": "2022-01-12T15:10:23.491Z"
   },
   {
    "duration": 8,
    "start_time": "2022-01-12T15:10:23.509Z"
   },
   {
    "duration": 42,
    "start_time": "2022-01-12T15:10:23.519Z"
   },
   {
    "duration": 11,
    "start_time": "2022-01-12T15:10:23.563Z"
   },
   {
    "duration": 64,
    "start_time": "2022-01-12T15:10:23.576Z"
   },
   {
    "duration": 414,
    "start_time": "2022-01-12T15:10:23.660Z"
   },
   {
    "duration": 347,
    "start_time": "2022-01-12T15:10:24.077Z"
   },
   {
    "duration": 32,
    "start_time": "2022-01-12T15:10:24.427Z"
   },
   {
    "duration": 10,
    "start_time": "2022-01-12T15:10:24.461Z"
   },
   {
    "duration": 16,
    "start_time": "2022-01-12T15:10:24.474Z"
   },
   {
    "duration": 12,
    "start_time": "2022-01-12T15:10:24.496Z"
   },
   {
    "duration": 54,
    "start_time": "2022-01-12T15:10:24.511Z"
   },
   {
    "duration": 593,
    "start_time": "2022-01-12T15:10:24.568Z"
   },
   {
    "duration": 247,
    "start_time": "2022-01-12T15:10:25.164Z"
   },
   {
    "duration": 18,
    "start_time": "2022-01-12T15:10:25.414Z"
   },
   {
    "duration": 33,
    "start_time": "2022-01-12T15:10:25.435Z"
   },
   {
    "duration": 30,
    "start_time": "2022-01-12T15:10:25.470Z"
   },
   {
    "duration": 16,
    "start_time": "2022-01-12T15:10:25.503Z"
   },
   {
    "duration": 57,
    "start_time": "2022-01-12T15:10:25.523Z"
   },
   {
    "duration": 31,
    "start_time": "2022-01-12T15:10:25.583Z"
   },
   {
    "duration": 5,
    "start_time": "2022-01-12T15:10:25.616Z"
   },
   {
    "duration": 49,
    "start_time": "2022-01-12T15:10:25.623Z"
   },
   {
    "duration": 113,
    "start_time": "2022-01-12T15:10:25.675Z"
   },
   {
    "duration": 69,
    "start_time": "2022-01-12T15:10:25.790Z"
   },
   {
    "duration": 9,
    "start_time": "2022-01-12T15:10:25.862Z"
   },
   {
    "duration": 23,
    "start_time": "2022-01-12T15:10:25.873Z"
   },
   {
    "duration": 20,
    "start_time": "2022-01-12T15:10:25.899Z"
   },
   {
    "duration": 14,
    "start_time": "2022-01-12T15:10:25.922Z"
   },
   {
    "duration": 262,
    "start_time": "2022-01-12T15:10:25.960Z"
   },
   {
    "duration": 69,
    "start_time": "2022-01-12T15:10:26.225Z"
   },
   {
    "duration": 27,
    "start_time": "2022-01-12T15:10:26.296Z"
   },
   {
    "duration": 56,
    "start_time": "2022-01-12T15:10:26.326Z"
   },
   {
    "duration": 7429,
    "start_time": "2022-01-12T15:10:26.385Z"
   },
   {
    "duration": 50,
    "start_time": "2022-01-12T15:10:33.816Z"
   },
   {
    "duration": 834,
    "start_time": "2022-01-12T15:10:33.869Z"
   },
   {
    "duration": 439,
    "start_time": "2022-01-12T15:11:28.023Z"
   },
   {
    "duration": 785,
    "start_time": "2022-01-12T15:11:38.165Z"
   },
   {
    "duration": 566,
    "start_time": "2022-01-12T15:11:38.953Z"
   },
   {
    "duration": 72,
    "start_time": "2022-01-12T15:11:39.521Z"
   },
   {
    "duration": 140,
    "start_time": "2022-01-12T15:11:39.595Z"
   },
   {
    "duration": 72,
    "start_time": "2022-01-12T15:11:39.738Z"
   },
   {
    "duration": 48,
    "start_time": "2022-01-12T15:11:39.813Z"
   },
   {
    "duration": 15,
    "start_time": "2022-01-12T15:11:39.864Z"
   },
   {
    "duration": 26,
    "start_time": "2022-01-12T15:11:39.883Z"
   },
   {
    "duration": 347,
    "start_time": "2022-01-12T15:11:39.912Z"
   },
   {
    "duration": 438,
    "start_time": "2022-01-12T15:11:40.262Z"
   },
   {
    "duration": 7,
    "start_time": "2022-01-12T15:11:40.703Z"
   },
   {
    "duration": 11,
    "start_time": "2022-01-12T15:11:40.712Z"
   },
   {
    "duration": 37,
    "start_time": "2022-01-12T15:11:40.725Z"
   },
   {
    "duration": 9,
    "start_time": "2022-01-12T15:11:40.765Z"
   },
   {
    "duration": 27,
    "start_time": "2022-01-12T15:11:40.777Z"
   },
   {
    "duration": 19,
    "start_time": "2022-01-12T15:11:40.806Z"
   },
   {
    "duration": 86,
    "start_time": "2022-01-12T15:11:40.828Z"
   },
   {
    "duration": 433,
    "start_time": "2022-01-12T15:11:40.917Z"
   },
   {
    "duration": 247,
    "start_time": "2022-01-12T15:11:41.360Z"
   },
   {
    "duration": 14,
    "start_time": "2022-01-12T15:11:41.610Z"
   },
   {
    "duration": 10,
    "start_time": "2022-01-12T15:11:41.626Z"
   },
   {
    "duration": 29,
    "start_time": "2022-01-12T15:11:41.639Z"
   },
   {
    "duration": 12,
    "start_time": "2022-01-12T15:11:41.673Z"
   },
   {
    "duration": 19,
    "start_time": "2022-01-12T15:11:41.688Z"
   },
   {
    "duration": 580,
    "start_time": "2022-01-12T15:11:41.709Z"
   },
   {
    "duration": 250,
    "start_time": "2022-01-12T15:11:42.291Z"
   },
   {
    "duration": 25,
    "start_time": "2022-01-12T15:11:42.544Z"
   },
   {
    "duration": 13,
    "start_time": "2022-01-12T15:11:42.571Z"
   },
   {
    "duration": 28,
    "start_time": "2022-01-12T15:11:42.586Z"
   },
   {
    "duration": 11,
    "start_time": "2022-01-12T15:11:42.616Z"
   },
   {
    "duration": 17,
    "start_time": "2022-01-12T15:11:42.660Z"
   },
   {
    "duration": 30,
    "start_time": "2022-01-12T15:11:42.679Z"
   },
   {
    "duration": 50,
    "start_time": "2022-01-12T15:11:42.711Z"
   },
   {
    "duration": 10,
    "start_time": "2022-01-12T15:11:42.763Z"
   },
   {
    "duration": 119,
    "start_time": "2022-01-12T15:11:42.775Z"
   },
   {
    "duration": 71,
    "start_time": "2022-01-12T15:11:42.897Z"
   },
   {
    "duration": 9,
    "start_time": "2022-01-12T15:11:42.972Z"
   },
   {
    "duration": 7,
    "start_time": "2022-01-12T15:11:42.984Z"
   },
   {
    "duration": 18,
    "start_time": "2022-01-12T15:11:42.994Z"
   },
   {
    "duration": 45,
    "start_time": "2022-01-12T15:11:43.014Z"
   },
   {
    "duration": 253,
    "start_time": "2022-01-12T15:11:43.062Z"
   },
   {
    "duration": 75,
    "start_time": "2022-01-12T15:11:43.318Z"
   },
   {
    "duration": 26,
    "start_time": "2022-01-12T15:11:43.396Z"
   },
   {
    "duration": 52,
    "start_time": "2022-01-12T15:11:43.425Z"
   },
   {
    "duration": 7712,
    "start_time": "2022-01-12T15:11:43.479Z"
   },
   {
    "duration": 18,
    "start_time": "2022-01-12T15:11:51.193Z"
   },
   {
    "duration": 264,
    "start_time": "2022-01-12T15:11:51.213Z"
   },
   {
    "duration": 18,
    "start_time": "2022-01-12T15:13:05.001Z"
   },
   {
    "duration": 20,
    "start_time": "2022-01-12T15:13:27.905Z"
   },
   {
    "duration": 20,
    "start_time": "2022-01-12T15:13:47.097Z"
   },
   {
    "duration": 24,
    "start_time": "2022-01-12T15:16:04.568Z"
   },
   {
    "duration": 10,
    "start_time": "2022-01-12T15:41:05.303Z"
   },
   {
    "duration": 21,
    "start_time": "2022-01-12T15:42:02.485Z"
   },
   {
    "duration": 32,
    "start_time": "2022-01-12T15:42:26.042Z"
   },
   {
    "duration": 1077,
    "start_time": "2022-01-12T15:42:36.954Z"
   },
   {
    "duration": 780,
    "start_time": "2022-01-12T15:42:38.035Z"
   },
   {
    "duration": 75,
    "start_time": "2022-01-12T15:42:38.819Z"
   },
   {
    "duration": 209,
    "start_time": "2022-01-12T15:42:38.898Z"
   },
   {
    "duration": 108,
    "start_time": "2022-01-12T15:42:39.111Z"
   },
   {
    "duration": 45,
    "start_time": "2022-01-12T15:42:39.222Z"
   },
   {
    "duration": 14,
    "start_time": "2022-01-12T15:42:39.270Z"
   },
   {
    "duration": 26,
    "start_time": "2022-01-12T15:42:39.288Z"
   },
   {
    "duration": 354,
    "start_time": "2022-01-12T15:42:39.318Z"
   },
   {
    "duration": 704,
    "start_time": "2022-01-12T15:42:39.675Z"
   },
   {
    "duration": 11,
    "start_time": "2022-01-12T15:42:40.382Z"
   },
   {
    "duration": 13,
    "start_time": "2022-01-12T15:42:40.396Z"
   },
   {
    "duration": 49,
    "start_time": "2022-01-12T15:42:40.412Z"
   },
   {
    "duration": 10,
    "start_time": "2022-01-12T15:42:40.464Z"
   },
   {
    "duration": 14,
    "start_time": "2022-01-12T15:42:40.476Z"
   },
   {
    "duration": 13,
    "start_time": "2022-01-12T15:42:40.493Z"
   },
   {
    "duration": 110,
    "start_time": "2022-01-12T15:42:40.509Z"
   },
   {
    "duration": 438,
    "start_time": "2022-01-12T15:42:40.621Z"
   },
   {
    "duration": 395,
    "start_time": "2022-01-12T15:42:41.063Z"
   },
   {
    "duration": 16,
    "start_time": "2022-01-12T15:42:41.460Z"
   },
   {
    "duration": 10,
    "start_time": "2022-01-12T15:42:41.478Z"
   },
   {
    "duration": 13,
    "start_time": "2022-01-12T15:42:41.491Z"
   },
   {
    "duration": 63,
    "start_time": "2022-01-12T15:42:41.513Z"
   },
   {
    "duration": 23,
    "start_time": "2022-01-12T15:42:41.581Z"
   },
   {
    "duration": 974,
    "start_time": "2022-01-12T15:42:41.607Z"
   },
   {
    "duration": 253,
    "start_time": "2022-01-12T15:42:42.583Z"
   },
   {
    "duration": 27,
    "start_time": "2022-01-12T15:42:42.838Z"
   },
   {
    "duration": 13,
    "start_time": "2022-01-12T15:42:42.867Z"
   },
   {
    "duration": 30,
    "start_time": "2022-01-12T15:42:42.883Z"
   },
   {
    "duration": 50,
    "start_time": "2022-01-12T15:42:42.915Z"
   },
   {
    "duration": 19,
    "start_time": "2022-01-12T15:42:42.968Z"
   },
   {
    "duration": 71,
    "start_time": "2022-01-12T15:42:42.990Z"
   },
   {
    "duration": 5,
    "start_time": "2022-01-12T15:42:43.064Z"
   },
   {
    "duration": 8,
    "start_time": "2022-01-12T15:42:43.072Z"
   },
   {
    "duration": 138,
    "start_time": "2022-01-12T15:42:43.082Z"
   },
   {
    "duration": 73,
    "start_time": "2022-01-12T15:42:43.223Z"
   },
   {
    "duration": 8,
    "start_time": "2022-01-12T15:42:43.299Z"
   },
   {
    "duration": 9,
    "start_time": "2022-01-12T15:42:43.310Z"
   },
   {
    "duration": 42,
    "start_time": "2022-01-12T15:42:43.321Z"
   },
   {
    "duration": 7,
    "start_time": "2022-01-12T15:42:43.366Z"
   },
   {
    "duration": 291,
    "start_time": "2022-01-12T15:42:43.376Z"
   },
   {
    "duration": 61,
    "start_time": "2022-01-12T15:42:43.669Z"
   },
   {
    "duration": 27,
    "start_time": "2022-01-12T15:42:43.760Z"
   },
   {
    "duration": 24,
    "start_time": "2022-01-12T15:42:43.790Z"
   },
   {
    "duration": 8629,
    "start_time": "2022-01-12T15:42:43.817Z"
   },
   {
    "duration": 21,
    "start_time": "2022-01-12T15:42:52.449Z"
   },
   {
    "duration": 272,
    "start_time": "2022-01-12T15:42:52.472Z"
   },
   {
    "duration": 25,
    "start_time": "2022-01-12T15:42:52.746Z"
   },
   {
    "duration": 22,
    "start_time": "2022-01-12T15:42:52.773Z"
   },
   {
    "duration": 11,
    "start_time": "2022-01-12T15:43:07.370Z"
   },
   {
    "duration": 135,
    "start_time": "2022-01-12T15:46:53.064Z"
   },
   {
    "duration": 124,
    "start_time": "2022-01-12T15:47:12.209Z"
   },
   {
    "duration": 54,
    "start_time": "2022-01-12T15:47:52.424Z"
   },
   {
    "duration": 6,
    "start_time": "2022-01-12T15:48:17.839Z"
   },
   {
    "duration": 22,
    "start_time": "2022-01-12T15:48:32.463Z"
   },
   {
    "duration": 22,
    "start_time": "2022-01-12T15:49:08.470Z"
   },
   {
    "duration": 51,
    "start_time": "2022-01-12T15:51:33.493Z"
   },
   {
    "duration": 13,
    "start_time": "2022-01-12T15:51:36.901Z"
   },
   {
    "duration": 30,
    "start_time": "2022-01-12T15:51:54.492Z"
   },
   {
    "duration": 7,
    "start_time": "2022-01-12T15:58:02.516Z"
   },
   {
    "duration": 8,
    "start_time": "2022-01-12T16:01:02.960Z"
   },
   {
    "duration": 6,
    "start_time": "2022-01-12T16:01:17.072Z"
   },
   {
    "duration": 6,
    "start_time": "2022-01-12T16:02:14.520Z"
   },
   {
    "duration": 7,
    "start_time": "2022-01-12T16:03:31.181Z"
   },
   {
    "duration": 13,
    "start_time": "2022-01-12T16:04:07.966Z"
   },
   {
    "duration": 8,
    "start_time": "2022-01-12T16:06:06.370Z"
   },
   {
    "duration": 7,
    "start_time": "2022-01-12T16:06:57.636Z"
   },
   {
    "duration": 7,
    "start_time": "2022-01-12T16:07:23.795Z"
   },
   {
    "duration": 9,
    "start_time": "2022-01-12T16:15:35.224Z"
   },
   {
    "duration": 7,
    "start_time": "2022-01-12T16:15:52.959Z"
   },
   {
    "duration": 460,
    "start_time": "2022-01-12T16:17:18.038Z"
   },
   {
    "duration": 355,
    "start_time": "2022-01-12T16:17:36.526Z"
   },
   {
    "duration": 466,
    "start_time": "2022-01-12T16:18:40.473Z"
   },
   {
    "duration": 172,
    "start_time": "2022-01-12T16:20:05.213Z"
   },
   {
    "duration": 8,
    "start_time": "2022-01-12T16:20:15.188Z"
   },
   {
    "duration": 1016,
    "start_time": "2022-01-12T16:20:31.757Z"
   },
   {
    "duration": 1616,
    "start_time": "2022-01-12T16:20:39.165Z"
   },
   {
    "duration": 7,
    "start_time": "2022-01-12T16:21:01.516Z"
   },
   {
    "duration": 374,
    "start_time": "2022-01-12T16:21:13.468Z"
   },
   {
    "duration": 919,
    "start_time": "2022-01-12T16:21:33.571Z"
   },
   {
    "duration": 919,
    "start_time": "2022-01-12T16:21:43.835Z"
   },
   {
    "duration": 11,
    "start_time": "2022-01-12T16:22:24.724Z"
   },
   {
    "duration": 18,
    "start_time": "2022-01-12T16:23:38.188Z"
   },
   {
    "duration": 28,
    "start_time": "2022-01-12T16:26:47.890Z"
   },
   {
    "duration": 30,
    "start_time": "2022-01-12T16:27:08.381Z"
   },
   {
    "duration": 55,
    "start_time": "2022-01-12T16:31:02.503Z"
   },
   {
    "duration": 23,
    "start_time": "2022-01-12T16:31:06.090Z"
   },
   {
    "duration": 32,
    "start_time": "2022-01-12T16:31:22.375Z"
   },
   {
    "duration": 290,
    "start_time": "2022-01-12T19:25:50.755Z"
   },
   {
    "duration": 329,
    "start_time": "2022-01-12T19:26:03.670Z"
   },
   {
    "duration": 679,
    "start_time": "2022-01-12T19:26:11.323Z"
   },
   {
    "duration": 409,
    "start_time": "2022-01-12T19:26:12.004Z"
   },
   {
    "duration": 49,
    "start_time": "2022-01-12T19:26:12.415Z"
   },
   {
    "duration": 108,
    "start_time": "2022-01-12T19:26:12.466Z"
   },
   {
    "duration": 41,
    "start_time": "2022-01-12T19:26:12.576Z"
   },
   {
    "duration": 14,
    "start_time": "2022-01-12T19:26:12.619Z"
   },
   {
    "duration": 34,
    "start_time": "2022-01-12T19:26:12.634Z"
   },
   {
    "duration": 20,
    "start_time": "2022-01-12T19:26:12.669Z"
   },
   {
    "duration": 209,
    "start_time": "2022-01-12T19:26:12.691Z"
   },
   {
    "duration": 254,
    "start_time": "2022-01-12T19:26:12.902Z"
   },
   {
    "duration": 5,
    "start_time": "2022-01-12T19:26:13.160Z"
   },
   {
    "duration": 8,
    "start_time": "2022-01-12T19:26:13.167Z"
   },
   {
    "duration": 9,
    "start_time": "2022-01-12T19:26:13.177Z"
   },
   {
    "duration": 5,
    "start_time": "2022-01-12T19:26:13.188Z"
   },
   {
    "duration": 14,
    "start_time": "2022-01-12T19:26:13.194Z"
   },
   {
    "duration": 8,
    "start_time": "2022-01-12T19:26:13.210Z"
   },
   {
    "duration": 55,
    "start_time": "2022-01-12T19:26:13.220Z"
   },
   {
    "duration": 260,
    "start_time": "2022-01-12T19:26:13.277Z"
   },
   {
    "duration": 204,
    "start_time": "2022-01-12T19:26:13.539Z"
   },
   {
    "duration": 20,
    "start_time": "2022-01-12T19:26:13.745Z"
   },
   {
    "duration": 6,
    "start_time": "2022-01-12T19:26:13.767Z"
   },
   {
    "duration": 10,
    "start_time": "2022-01-12T19:26:13.775Z"
   },
   {
    "duration": 11,
    "start_time": "2022-01-12T19:26:13.786Z"
   },
   {
    "duration": 15,
    "start_time": "2022-01-12T19:26:13.798Z"
   },
   {
    "duration": 368,
    "start_time": "2022-01-12T19:26:13.814Z"
   },
   {
    "duration": 160,
    "start_time": "2022-01-12T19:26:14.184Z"
   },
   {
    "duration": 22,
    "start_time": "2022-01-12T19:26:14.348Z"
   },
   {
    "duration": 8,
    "start_time": "2022-01-12T19:26:14.372Z"
   },
   {
    "duration": 21,
    "start_time": "2022-01-12T19:26:14.382Z"
   },
   {
    "duration": 7,
    "start_time": "2022-01-12T19:26:14.405Z"
   },
   {
    "duration": 25,
    "start_time": "2022-01-12T19:26:14.413Z"
   },
   {
    "duration": 39,
    "start_time": "2022-01-12T19:26:14.440Z"
   },
   {
    "duration": 4,
    "start_time": "2022-01-12T19:26:14.481Z"
   },
   {
    "duration": 7,
    "start_time": "2022-01-12T19:26:14.486Z"
   },
   {
    "duration": 93,
    "start_time": "2022-01-12T19:26:14.495Z"
   },
   {
    "duration": 36,
    "start_time": "2022-01-12T19:26:14.590Z"
   },
   {
    "duration": 6,
    "start_time": "2022-01-12T19:26:14.628Z"
   },
   {
    "duration": 25,
    "start_time": "2022-01-12T19:26:14.635Z"
   },
   {
    "duration": 11,
    "start_time": "2022-01-12T19:26:14.661Z"
   },
   {
    "duration": 10,
    "start_time": "2022-01-12T19:26:14.673Z"
   },
   {
    "duration": 183,
    "start_time": "2022-01-12T19:26:14.685Z"
   },
   {
    "duration": 36,
    "start_time": "2022-01-12T19:26:14.870Z"
   },
   {
    "duration": 15,
    "start_time": "2022-01-12T19:26:14.908Z"
   },
   {
    "duration": 43,
    "start_time": "2022-01-12T19:26:14.924Z"
   },
   {
    "duration": 4916,
    "start_time": "2022-01-12T19:26:14.969Z"
   },
   {
    "duration": 11,
    "start_time": "2022-01-12T19:26:19.886Z"
   },
   {
    "duration": 164,
    "start_time": "2022-01-12T19:26:19.898Z"
   },
   {
    "duration": 10,
    "start_time": "2022-01-12T19:26:20.064Z"
   },
   {
    "duration": 14,
    "start_time": "2022-01-12T19:26:20.076Z"
   },
   {
    "duration": 6,
    "start_time": "2022-01-12T19:26:20.092Z"
   },
   {
    "duration": 14,
    "start_time": "2022-01-12T19:26:34.128Z"
   },
   {
    "duration": 5,
    "start_time": "2022-01-12T19:26:45.068Z"
   },
   {
    "duration": 5,
    "start_time": "2022-01-12T19:26:58.130Z"
   },
   {
    "duration": 4,
    "start_time": "2022-01-12T19:27:27.761Z"
   },
   {
    "duration": 4,
    "start_time": "2022-01-12T19:29:43.901Z"
   },
   {
    "duration": 18,
    "start_time": "2022-01-12T19:30:42.810Z"
   },
   {
    "duration": 10,
    "start_time": "2022-01-12T19:31:22.576Z"
   },
   {
    "duration": 247,
    "start_time": "2022-01-12T19:32:05.439Z"
   },
   {
    "duration": 328,
    "start_time": "2022-01-12T19:32:20.919Z"
   },
   {
    "duration": 4,
    "start_time": "2022-01-12T19:32:34.173Z"
   },
   {
    "duration": 5,
    "start_time": "2022-01-12T19:33:09.384Z"
   },
   {
    "duration": 4,
    "start_time": "2022-01-12T19:33:29.294Z"
   },
   {
    "duration": 5,
    "start_time": "2022-01-12T19:33:37.198Z"
   },
   {
    "duration": 4,
    "start_time": "2022-01-12T19:33:50.830Z"
   },
   {
    "duration": 9,
    "start_time": "2022-01-12T19:38:09.610Z"
   },
   {
    "duration": 10,
    "start_time": "2022-01-12T19:41:49.114Z"
   },
   {
    "duration": 305,
    "start_time": "2022-01-12T19:44:07.499Z"
   },
   {
    "duration": 15,
    "start_time": "2022-01-12T19:44:25.500Z"
   },
   {
    "duration": 7,
    "start_time": "2022-01-12T19:52:21.378Z"
   },
   {
    "duration": 523,
    "start_time": "2022-01-12T19:53:12.941Z"
   },
   {
    "duration": 680,
    "start_time": "2022-01-12T19:54:17.541Z"
   },
   {
    "duration": 10,
    "start_time": "2022-01-12T19:55:25.336Z"
   },
   {
    "duration": 15,
    "start_time": "2022-01-12T19:55:27.886Z"
   },
   {
    "duration": 7,
    "start_time": "2022-01-12T19:57:50.507Z"
   },
   {
    "duration": 296,
    "start_time": "2022-01-12T19:59:35.038Z"
   },
   {
    "duration": 321,
    "start_time": "2022-01-12T20:00:29.163Z"
   },
   {
    "duration": 318,
    "start_time": "2022-01-12T20:00:48.135Z"
   },
   {
    "duration": 285,
    "start_time": "2022-01-12T20:02:46.031Z"
   },
   {
    "duration": 7493,
    "start_time": "2022-01-12T20:03:29.015Z"
   },
   {
    "duration": 92,
    "start_time": "2022-01-12T20:04:26.313Z"
   },
   {
    "duration": 10,
    "start_time": "2022-01-12T20:04:32.297Z"
   },
   {
    "duration": 18,
    "start_time": "2022-01-12T20:07:59.817Z"
   },
   {
    "duration": 17,
    "start_time": "2022-01-12T20:08:12.493Z"
   },
   {
    "duration": 16,
    "start_time": "2022-01-12T20:09:21.107Z"
   },
   {
    "duration": 440,
    "start_time": "2022-01-12T20:09:59.346Z"
   },
   {
    "duration": 85,
    "start_time": "2022-01-12T20:15:03.156Z"
   },
   {
    "duration": 5,
    "start_time": "2022-01-12T20:16:08.342Z"
   },
   {
    "duration": 4,
    "start_time": "2022-01-12T20:17:19.901Z"
   },
   {
    "duration": 426,
    "start_time": "2022-01-12T20:17:23.521Z"
   },
   {
    "duration": 5,
    "start_time": "2022-01-12T20:19:23.490Z"
   },
   {
    "duration": 375,
    "start_time": "2022-01-12T20:19:25.991Z"
   },
   {
    "duration": 697,
    "start_time": "2022-01-12T20:21:48.397Z"
   },
   {
    "duration": 434,
    "start_time": "2022-01-12T20:21:49.097Z"
   },
   {
    "duration": 57,
    "start_time": "2022-01-12T20:21:49.533Z"
   },
   {
    "duration": 117,
    "start_time": "2022-01-12T20:21:49.592Z"
   },
   {
    "duration": 56,
    "start_time": "2022-01-12T20:21:49.711Z"
   },
   {
    "duration": 16,
    "start_time": "2022-01-12T20:21:49.769Z"
   },
   {
    "duration": 9,
    "start_time": "2022-01-12T20:21:49.787Z"
   },
   {
    "duration": 16,
    "start_time": "2022-01-12T20:21:49.799Z"
   },
   {
    "duration": 239,
    "start_time": "2022-01-12T20:21:49.817Z"
   },
   {
    "duration": 272,
    "start_time": "2022-01-12T20:21:50.060Z"
   },
   {
    "duration": 5,
    "start_time": "2022-01-12T20:21:50.334Z"
   },
   {
    "duration": 27,
    "start_time": "2022-01-12T20:21:50.341Z"
   },
   {
    "duration": 10,
    "start_time": "2022-01-12T20:21:50.371Z"
   },
   {
    "duration": 5,
    "start_time": "2022-01-12T20:21:50.383Z"
   },
   {
    "duration": 17,
    "start_time": "2022-01-12T20:21:50.390Z"
   },
   {
    "duration": 8,
    "start_time": "2022-01-12T20:21:50.409Z"
   },
   {
    "duration": 86,
    "start_time": "2022-01-12T20:21:50.419Z"
   },
   {
    "duration": 267,
    "start_time": "2022-01-12T20:21:50.507Z"
   },
   {
    "duration": 148,
    "start_time": "2022-01-12T20:21:50.776Z"
   },
   {
    "duration": 11,
    "start_time": "2022-01-12T20:21:50.926Z"
   },
   {
    "duration": 7,
    "start_time": "2022-01-12T20:21:50.938Z"
   },
   {
    "duration": 27,
    "start_time": "2022-01-12T20:21:50.947Z"
   },
   {
    "duration": 11,
    "start_time": "2022-01-12T20:21:50.978Z"
   },
   {
    "duration": 17,
    "start_time": "2022-01-12T20:21:50.991Z"
   },
   {
    "duration": 372,
    "start_time": "2022-01-12T20:21:51.010Z"
   },
   {
    "duration": 162,
    "start_time": "2022-01-12T20:21:51.384Z"
   },
   {
    "duration": 21,
    "start_time": "2022-01-12T20:21:51.547Z"
   },
   {
    "duration": 13,
    "start_time": "2022-01-12T20:21:51.570Z"
   },
   {
    "duration": 22,
    "start_time": "2022-01-12T20:21:51.585Z"
   },
   {
    "duration": 8,
    "start_time": "2022-01-12T20:21:51.609Z"
   },
   {
    "duration": 55,
    "start_time": "2022-01-12T20:21:51.618Z"
   },
   {
    "duration": 27,
    "start_time": "2022-01-12T20:21:51.676Z"
   },
   {
    "duration": 4,
    "start_time": "2022-01-12T20:21:51.705Z"
   },
   {
    "duration": 9,
    "start_time": "2022-01-12T20:21:51.711Z"
   },
   {
    "duration": 137,
    "start_time": "2022-01-12T20:21:51.722Z"
   },
   {
    "duration": 52,
    "start_time": "2022-01-12T20:21:51.861Z"
   },
   {
    "duration": 6,
    "start_time": "2022-01-12T20:21:51.915Z"
   },
   {
    "duration": 9,
    "start_time": "2022-01-12T20:21:51.923Z"
   },
   {
    "duration": 39,
    "start_time": "2022-01-12T20:21:51.934Z"
   },
   {
    "duration": 46,
    "start_time": "2022-01-12T20:21:51.975Z"
   },
   {
    "duration": 186,
    "start_time": "2022-01-12T20:21:52.023Z"
   },
   {
    "duration": 35,
    "start_time": "2022-01-12T20:21:52.211Z"
   },
   {
    "duration": 38,
    "start_time": "2022-01-12T20:21:52.247Z"
   },
   {
    "duration": 14,
    "start_time": "2022-01-12T20:21:52.287Z"
   },
   {
    "duration": 4856,
    "start_time": "2022-01-12T20:21:52.303Z"
   },
   {
    "duration": 20,
    "start_time": "2022-01-12T20:21:57.161Z"
   },
   {
    "duration": 149,
    "start_time": "2022-01-12T20:21:57.183Z"
   },
   {
    "duration": 11,
    "start_time": "2022-01-12T20:21:57.333Z"
   },
   {
    "duration": 24,
    "start_time": "2022-01-12T20:21:57.346Z"
   },
   {
    "duration": 11,
    "start_time": "2022-01-12T20:21:57.372Z"
   },
   {
    "duration": 5,
    "start_time": "2022-01-12T20:21:57.384Z"
   },
   {
    "duration": 363,
    "start_time": "2022-01-12T20:21:57.391Z"
   },
   {
    "duration": 593,
    "start_time": "2022-01-12T20:23:18.325Z"
   },
   {
    "duration": 413,
    "start_time": "2022-01-12T20:23:18.919Z"
   },
   {
    "duration": 62,
    "start_time": "2022-01-12T20:23:19.334Z"
   },
   {
    "duration": 107,
    "start_time": "2022-01-12T20:23:19.399Z"
   },
   {
    "duration": 66,
    "start_time": "2022-01-12T20:23:19.508Z"
   },
   {
    "duration": 16,
    "start_time": "2022-01-12T20:23:19.576Z"
   },
   {
    "duration": 10,
    "start_time": "2022-01-12T20:23:19.594Z"
   },
   {
    "duration": 18,
    "start_time": "2022-01-12T20:23:19.605Z"
   },
   {
    "duration": 247,
    "start_time": "2022-01-12T20:23:19.626Z"
   },
   {
    "duration": 278,
    "start_time": "2022-01-12T20:23:19.876Z"
   },
   {
    "duration": 7,
    "start_time": "2022-01-12T20:23:20.156Z"
   },
   {
    "duration": 20,
    "start_time": "2022-01-12T20:23:20.165Z"
   },
   {
    "duration": 7,
    "start_time": "2022-01-12T20:23:20.188Z"
   },
   {
    "duration": 6,
    "start_time": "2022-01-12T20:23:20.196Z"
   },
   {
    "duration": 10,
    "start_time": "2022-01-12T20:23:20.203Z"
   },
   {
    "duration": 7,
    "start_time": "2022-01-12T20:23:20.214Z"
   },
   {
    "duration": 18,
    "start_time": "2022-01-12T20:23:20.223Z"
   },
   {
    "duration": 270,
    "start_time": "2022-01-12T20:23:20.266Z"
   },
   {
    "duration": 210,
    "start_time": "2022-01-12T20:23:20.538Z"
   },
   {
    "duration": 16,
    "start_time": "2022-01-12T20:23:20.750Z"
   },
   {
    "duration": 9,
    "start_time": "2022-01-12T20:23:20.769Z"
   },
   {
    "duration": 10,
    "start_time": "2022-01-12T20:23:20.780Z"
   },
   {
    "duration": 9,
    "start_time": "2022-01-12T20:23:20.791Z"
   },
   {
    "duration": 14,
    "start_time": "2022-01-12T20:23:20.802Z"
   },
   {
    "duration": 395,
    "start_time": "2022-01-12T20:23:20.818Z"
   },
   {
    "duration": 152,
    "start_time": "2022-01-12T20:23:21.214Z"
   },
   {
    "duration": 15,
    "start_time": "2022-01-12T20:23:21.372Z"
   },
   {
    "duration": 10,
    "start_time": "2022-01-12T20:23:21.389Z"
   },
   {
    "duration": 24,
    "start_time": "2022-01-12T20:23:21.400Z"
   },
   {
    "duration": 44,
    "start_time": "2022-01-12T20:23:21.426Z"
   },
   {
    "duration": 17,
    "start_time": "2022-01-12T20:23:21.473Z"
   },
   {
    "duration": 21,
    "start_time": "2022-01-12T20:23:21.492Z"
   },
   {
    "duration": 3,
    "start_time": "2022-01-12T20:23:21.515Z"
   },
   {
    "duration": 44,
    "start_time": "2022-01-12T20:23:21.520Z"
   },
   {
    "duration": 71,
    "start_time": "2022-01-12T20:23:21.567Z"
   },
   {
    "duration": 55,
    "start_time": "2022-01-12T20:23:21.640Z"
   },
   {
    "duration": 8,
    "start_time": "2022-01-12T20:23:21.699Z"
   },
   {
    "duration": 7,
    "start_time": "2022-01-12T20:23:21.709Z"
   },
   {
    "duration": 12,
    "start_time": "2022-01-12T20:23:21.717Z"
   },
   {
    "duration": 33,
    "start_time": "2022-01-12T20:23:21.730Z"
   },
   {
    "duration": 185,
    "start_time": "2022-01-12T20:23:21.766Z"
   },
   {
    "duration": 39,
    "start_time": "2022-01-12T20:23:21.962Z"
   },
   {
    "duration": 15,
    "start_time": "2022-01-12T20:23:22.003Z"
   },
   {
    "duration": 44,
    "start_time": "2022-01-12T20:23:22.020Z"
   },
   {
    "duration": 4566,
    "start_time": "2022-01-12T20:23:22.067Z"
   },
   {
    "duration": 12,
    "start_time": "2022-01-12T20:23:26.635Z"
   },
   {
    "duration": 181,
    "start_time": "2022-01-12T20:23:26.649Z"
   },
   {
    "duration": 13,
    "start_time": "2022-01-12T20:23:26.831Z"
   },
   {
    "duration": 35,
    "start_time": "2022-01-12T20:23:26.846Z"
   },
   {
    "duration": 15,
    "start_time": "2022-01-12T20:23:26.882Z"
   },
   {
    "duration": 12,
    "start_time": "2022-01-12T20:23:26.900Z"
   },
   {
    "duration": 371,
    "start_time": "2022-01-12T20:23:26.914Z"
   },
   {
    "duration": 5,
    "start_time": "2022-01-12T20:28:03.455Z"
   },
   {
    "duration": 363,
    "start_time": "2022-01-12T20:28:07.393Z"
   },
   {
    "duration": 6,
    "start_time": "2022-01-12T20:30:37.386Z"
   },
   {
    "duration": 363,
    "start_time": "2022-01-12T20:30:42.644Z"
   },
   {
    "duration": 437,
    "start_time": "2022-01-12T20:32:07.550Z"
   },
   {
    "duration": 338,
    "start_time": "2022-01-12T20:32:42.174Z"
   },
   {
    "duration": 369,
    "start_time": "2022-01-12T20:33:29.127Z"
   },
   {
    "duration": 6,
    "start_time": "2022-01-12T20:35:55.622Z"
   },
   {
    "duration": 1187,
    "start_time": "2022-01-12T20:36:01.332Z"
   },
   {
    "duration": 5,
    "start_time": "2022-01-12T20:36:45.817Z"
   },
   {
    "duration": 359,
    "start_time": "2022-01-12T20:36:53.901Z"
   },
   {
    "duration": 7,
    "start_time": "2022-01-12T20:38:26.795Z"
   },
   {
    "duration": 430,
    "start_time": "2022-01-12T20:38:35.004Z"
   },
   {
    "duration": 636,
    "start_time": "2022-01-12T20:42:47.239Z"
   },
   {
    "duration": 442,
    "start_time": "2022-01-12T20:42:47.877Z"
   },
   {
    "duration": 60,
    "start_time": "2022-01-12T20:42:48.321Z"
   },
   {
    "duration": 125,
    "start_time": "2022-01-12T20:42:48.384Z"
   },
   {
    "duration": 35,
    "start_time": "2022-01-12T20:42:48.510Z"
   },
   {
    "duration": 37,
    "start_time": "2022-01-12T20:42:48.546Z"
   },
   {
    "duration": 9,
    "start_time": "2022-01-12T20:42:48.585Z"
   },
   {
    "duration": 15,
    "start_time": "2022-01-12T20:42:48.597Z"
   },
   {
    "duration": 225,
    "start_time": "2022-01-12T20:42:48.614Z"
   },
   {
    "duration": 262,
    "start_time": "2022-01-12T20:42:48.841Z"
   },
   {
    "duration": 5,
    "start_time": "2022-01-12T20:42:49.105Z"
   },
   {
    "duration": 21,
    "start_time": "2022-01-12T20:42:49.112Z"
   },
   {
    "duration": 8,
    "start_time": "2022-01-12T20:42:49.134Z"
   },
   {
    "duration": 5,
    "start_time": "2022-01-12T20:42:49.144Z"
   },
   {
    "duration": 23,
    "start_time": "2022-01-12T20:42:49.151Z"
   },
   {
    "duration": 9,
    "start_time": "2022-01-12T20:42:49.176Z"
   },
   {
    "duration": 87,
    "start_time": "2022-01-12T20:42:49.187Z"
   },
   {
    "duration": 265,
    "start_time": "2022-01-12T20:42:49.275Z"
   },
   {
    "duration": 159,
    "start_time": "2022-01-12T20:42:49.542Z"
   },
   {
    "duration": 11,
    "start_time": "2022-01-12T20:42:49.703Z"
   },
   {
    "duration": 6,
    "start_time": "2022-01-12T20:42:49.716Z"
   },
   {
    "duration": 10,
    "start_time": "2022-01-12T20:42:49.724Z"
   },
   {
    "duration": 31,
    "start_time": "2022-01-12T20:42:49.737Z"
   },
   {
    "duration": 25,
    "start_time": "2022-01-12T20:42:49.771Z"
   },
   {
    "duration": 351,
    "start_time": "2022-01-12T20:42:49.798Z"
   },
   {
    "duration": 170,
    "start_time": "2022-01-12T20:42:50.150Z"
   },
   {
    "duration": 13,
    "start_time": "2022-01-12T20:42:50.322Z"
   },
   {
    "duration": 28,
    "start_time": "2022-01-12T20:42:50.336Z"
   },
   {
    "duration": 26,
    "start_time": "2022-01-12T20:42:50.366Z"
   },
   {
    "duration": 7,
    "start_time": "2022-01-12T20:42:50.394Z"
   },
   {
    "duration": 12,
    "start_time": "2022-01-12T20:42:50.403Z"
   },
   {
    "duration": 61,
    "start_time": "2022-01-12T20:42:50.417Z"
   },
   {
    "duration": 4,
    "start_time": "2022-01-12T20:42:50.480Z"
   },
   {
    "duration": 11,
    "start_time": "2022-01-12T20:42:50.486Z"
   },
   {
    "duration": 88,
    "start_time": "2022-01-12T20:42:50.499Z"
   },
   {
    "duration": 42,
    "start_time": "2022-01-12T20:42:50.589Z"
   },
   {
    "duration": 32,
    "start_time": "2022-01-12T20:42:50.633Z"
   },
   {
    "duration": 9,
    "start_time": "2022-01-12T20:42:50.667Z"
   },
   {
    "duration": 13,
    "start_time": "2022-01-12T20:42:50.678Z"
   },
   {
    "duration": 5,
    "start_time": "2022-01-12T20:42:50.693Z"
   },
   {
    "duration": 210,
    "start_time": "2022-01-12T20:42:50.699Z"
   },
   {
    "duration": 61,
    "start_time": "2022-01-12T20:42:50.910Z"
   },
   {
    "duration": 20,
    "start_time": "2022-01-12T20:42:50.973Z"
   },
   {
    "duration": 18,
    "start_time": "2022-01-12T20:42:50.995Z"
   },
   {
    "duration": 4869,
    "start_time": "2022-01-12T20:42:51.014Z"
   },
   {
    "duration": 11,
    "start_time": "2022-01-12T20:42:55.885Z"
   },
   {
    "duration": 153,
    "start_time": "2022-01-12T20:42:55.897Z"
   },
   {
    "duration": 13,
    "start_time": "2022-01-12T20:42:56.052Z"
   },
   {
    "duration": 24,
    "start_time": "2022-01-12T20:42:56.068Z"
   },
   {
    "duration": 8,
    "start_time": "2022-01-12T20:42:56.094Z"
   },
   {
    "duration": 5,
    "start_time": "2022-01-12T20:42:56.103Z"
   },
   {
    "duration": 373,
    "start_time": "2022-01-12T20:42:56.110Z"
   },
   {
    "duration": 354,
    "start_time": "2022-01-12T20:42:56.485Z"
   },
   {
    "duration": 464,
    "start_time": "2022-01-12T20:42:56.841Z"
   },
   {
    "duration": 847,
    "start_time": "2022-01-13T06:58:37.962Z"
   },
   {
    "duration": 555,
    "start_time": "2022-01-13T06:58:38.812Z"
   },
   {
    "duration": 73,
    "start_time": "2022-01-13T06:58:39.370Z"
   },
   {
    "duration": 160,
    "start_time": "2022-01-13T06:58:39.445Z"
   },
   {
    "duration": 63,
    "start_time": "2022-01-13T06:58:39.608Z"
   },
   {
    "duration": 24,
    "start_time": "2022-01-13T06:58:39.703Z"
   },
   {
    "duration": 15,
    "start_time": "2022-01-13T06:58:39.731Z"
   },
   {
    "duration": 63,
    "start_time": "2022-01-13T06:58:39.752Z"
   },
   {
    "duration": 342,
    "start_time": "2022-01-13T06:58:39.819Z"
   },
   {
    "duration": 436,
    "start_time": "2022-01-13T06:58:40.164Z"
   },
   {
    "duration": 8,
    "start_time": "2022-01-13T06:58:40.602Z"
   },
   {
    "duration": 12,
    "start_time": "2022-01-13T06:58:40.613Z"
   },
   {
    "duration": 14,
    "start_time": "2022-01-13T06:58:40.628Z"
   },
   {
    "duration": 8,
    "start_time": "2022-01-13T06:58:40.645Z"
   },
   {
    "duration": 54,
    "start_time": "2022-01-13T06:58:40.656Z"
   },
   {
    "duration": 15,
    "start_time": "2022-01-13T06:58:40.712Z"
   },
   {
    "duration": 102,
    "start_time": "2022-01-13T06:58:40.729Z"
   },
   {
    "duration": 432,
    "start_time": "2022-01-13T06:58:40.834Z"
   },
   {
    "duration": 259,
    "start_time": "2022-01-13T06:58:41.269Z"
   },
   {
    "duration": 15,
    "start_time": "2022-01-13T06:58:41.530Z"
   },
   {
    "duration": 10,
    "start_time": "2022-01-13T06:58:41.548Z"
   },
   {
    "duration": 39,
    "start_time": "2022-01-13T06:58:41.561Z"
   },
   {
    "duration": 12,
    "start_time": "2022-01-13T06:58:41.607Z"
   },
   {
    "duration": 19,
    "start_time": "2022-01-13T06:58:41.622Z"
   },
   {
    "duration": 607,
    "start_time": "2022-01-13T06:58:41.643Z"
   },
   {
    "duration": 278,
    "start_time": "2022-01-13T06:58:42.252Z"
   },
   {
    "duration": 18,
    "start_time": "2022-01-13T06:58:42.532Z"
   },
   {
    "duration": 14,
    "start_time": "2022-01-13T06:58:42.552Z"
   },
   {
    "duration": 59,
    "start_time": "2022-01-13T06:58:42.568Z"
   },
   {
    "duration": 12,
    "start_time": "2022-01-13T06:58:42.629Z"
   },
   {
    "duration": 19,
    "start_time": "2022-01-13T06:58:42.643Z"
   },
   {
    "duration": 61,
    "start_time": "2022-01-13T06:58:42.665Z"
   },
   {
    "duration": 5,
    "start_time": "2022-01-13T06:58:42.728Z"
   },
   {
    "duration": 18,
    "start_time": "2022-01-13T06:58:42.736Z"
   },
   {
    "duration": 134,
    "start_time": "2022-01-13T06:58:42.758Z"
   },
   {
    "duration": 60,
    "start_time": "2022-01-13T06:58:42.894Z"
   },
   {
    "duration": 9,
    "start_time": "2022-01-13T06:58:42.956Z"
   },
   {
    "duration": 35,
    "start_time": "2022-01-13T06:58:42.968Z"
   },
   {
    "duration": 26,
    "start_time": "2022-01-13T06:58:43.006Z"
   },
   {
    "duration": 28,
    "start_time": "2022-01-13T06:58:43.035Z"
   },
   {
    "duration": 273,
    "start_time": "2022-01-13T06:58:43.066Z"
   },
   {
    "duration": 81,
    "start_time": "2022-01-13T06:58:43.341Z"
   },
   {
    "duration": 25,
    "start_time": "2022-01-13T06:58:43.424Z"
   },
   {
    "duration": 53,
    "start_time": "2022-01-13T06:58:43.451Z"
   },
   {
    "duration": 7591,
    "start_time": "2022-01-13T06:58:43.506Z"
   },
   {
    "duration": 18,
    "start_time": "2022-01-13T06:58:51.101Z"
   },
   {
    "duration": 262,
    "start_time": "2022-01-13T06:58:51.121Z"
   },
   {
    "duration": 23,
    "start_time": "2022-01-13T06:58:51.385Z"
   },
   {
    "duration": 38,
    "start_time": "2022-01-13T06:58:51.410Z"
   },
   {
    "duration": 14,
    "start_time": "2022-01-13T06:58:51.450Z"
   },
   {
    "duration": 22,
    "start_time": "2022-01-13T06:58:51.466Z"
   },
   {
    "duration": 582,
    "start_time": "2022-01-13T06:58:51.490Z"
   },
   {
    "duration": 566,
    "start_time": "2022-01-13T06:58:52.075Z"
   },
   {
    "duration": 664,
    "start_time": "2022-01-13T06:58:52.644Z"
   },
   {
    "duration": 453,
    "start_time": "2022-01-13T07:48:07.464Z"
   },
   {
    "duration": 12,
    "start_time": "2022-01-13T07:56:37.307Z"
   },
   {
    "duration": 19,
    "start_time": "2022-01-13T07:57:18.745Z"
   },
   {
    "duration": 16,
    "start_time": "2022-01-13T07:58:36.434Z"
   },
   {
    "duration": 15,
    "start_time": "2022-01-13T08:02:17.066Z"
   },
   {
    "duration": 18,
    "start_time": "2022-01-13T08:07:57.938Z"
   },
   {
    "duration": 16,
    "start_time": "2022-01-13T08:09:17.492Z"
   },
   {
    "duration": 17,
    "start_time": "2022-01-13T08:11:41.546Z"
   },
   {
    "duration": 22,
    "start_time": "2022-01-13T08:19:35.381Z"
   },
   {
    "duration": 155,
    "start_time": "2022-01-13T08:21:32.941Z"
   },
   {
    "duration": 23,
    "start_time": "2022-01-13T08:38:49.106Z"
   },
   {
    "duration": 24,
    "start_time": "2022-01-13T08:44:17.844Z"
   },
   {
    "duration": 25,
    "start_time": "2022-01-13T08:46:22.320Z"
   },
   {
    "duration": 1212,
    "start_time": "2022-01-13T09:17:41.248Z"
   },
   {
    "duration": 591,
    "start_time": "2022-01-13T09:17:42.463Z"
   },
   {
    "duration": 76,
    "start_time": "2022-01-13T09:17:43.057Z"
   },
   {
    "duration": 170,
    "start_time": "2022-01-13T09:17:43.136Z"
   },
   {
    "duration": 57,
    "start_time": "2022-01-13T09:17:43.309Z"
   },
   {
    "duration": 52,
    "start_time": "2022-01-13T09:17:43.368Z"
   },
   {
    "duration": 16,
    "start_time": "2022-01-13T09:17:43.423Z"
   },
   {
    "duration": 23,
    "start_time": "2022-01-13T09:17:43.441Z"
   },
   {
    "duration": 420,
    "start_time": "2022-01-13T09:17:43.468Z"
   },
   {
    "duration": 432,
    "start_time": "2022-01-13T09:17:43.900Z"
   },
   {
    "duration": 7,
    "start_time": "2022-01-13T09:17:44.335Z"
   },
   {
    "duration": 12,
    "start_time": "2022-01-13T09:17:44.345Z"
   },
   {
    "duration": 42,
    "start_time": "2022-01-13T09:17:44.359Z"
   },
   {
    "duration": 8,
    "start_time": "2022-01-13T09:17:44.404Z"
   },
   {
    "duration": 17,
    "start_time": "2022-01-13T09:17:44.414Z"
   },
   {
    "duration": 14,
    "start_time": "2022-01-13T09:17:44.433Z"
   },
   {
    "duration": 55,
    "start_time": "2022-01-13T09:17:44.449Z"
   },
   {
    "duration": 430,
    "start_time": "2022-01-13T09:17:44.506Z"
   },
   {
    "duration": 261,
    "start_time": "2022-01-13T09:17:44.939Z"
   },
   {
    "duration": 15,
    "start_time": "2022-01-13T09:17:45.202Z"
   },
   {
    "duration": 10,
    "start_time": "2022-01-13T09:17:45.220Z"
   },
   {
    "duration": 17,
    "start_time": "2022-01-13T09:17:45.232Z"
   },
   {
    "duration": 51,
    "start_time": "2022-01-13T09:17:45.251Z"
   },
   {
    "duration": 21,
    "start_time": "2022-01-13T09:17:45.305Z"
   },
   {
    "duration": 617,
    "start_time": "2022-01-13T09:17:45.329Z"
   },
   {
    "duration": 276,
    "start_time": "2022-01-13T09:17:45.948Z"
   },
   {
    "duration": 19,
    "start_time": "2022-01-13T09:17:46.229Z"
   },
   {
    "duration": 12,
    "start_time": "2022-01-13T09:17:46.251Z"
   },
   {
    "duration": 61,
    "start_time": "2022-01-13T09:17:46.265Z"
   },
   {
    "duration": 11,
    "start_time": "2022-01-13T09:17:46.328Z"
   },
   {
    "duration": 21,
    "start_time": "2022-01-13T09:17:46.342Z"
   },
   {
    "duration": 64,
    "start_time": "2022-01-13T09:17:46.366Z"
   },
   {
    "duration": 5,
    "start_time": "2022-01-13T09:17:46.433Z"
   },
   {
    "duration": 59,
    "start_time": "2022-01-13T09:17:46.441Z"
   },
   {
    "duration": 128,
    "start_time": "2022-01-13T09:17:46.503Z"
   },
   {
    "duration": 68,
    "start_time": "2022-01-13T09:17:46.634Z"
   },
   {
    "duration": 10,
    "start_time": "2022-01-13T09:17:46.705Z"
   },
   {
    "duration": 12,
    "start_time": "2022-01-13T09:17:46.718Z"
   },
   {
    "duration": 22,
    "start_time": "2022-01-13T09:17:46.733Z"
   },
   {
    "duration": 52,
    "start_time": "2022-01-13T09:17:46.801Z"
   },
   {
    "duration": 295,
    "start_time": "2022-01-13T09:17:46.856Z"
   },
   {
    "duration": 93,
    "start_time": "2022-01-13T09:17:47.154Z"
   },
   {
    "duration": 60,
    "start_time": "2022-01-13T09:17:47.250Z"
   },
   {
    "duration": 23,
    "start_time": "2022-01-13T09:17:47.312Z"
   },
   {
    "duration": 7867,
    "start_time": "2022-01-13T09:17:47.338Z"
   },
   {
    "duration": 19,
    "start_time": "2022-01-13T09:17:55.207Z"
   },
   {
    "duration": 263,
    "start_time": "2022-01-13T09:17:55.228Z"
   },
   {
    "duration": 20,
    "start_time": "2022-01-13T09:17:55.493Z"
   },
   {
    "duration": 22,
    "start_time": "2022-01-13T09:17:55.515Z"
   },
   {
    "duration": 10,
    "start_time": "2022-01-13T09:17:55.540Z"
   },
   {
    "duration": 7,
    "start_time": "2022-01-13T09:17:55.552Z"
   },
   {
    "duration": 673,
    "start_time": "2022-01-13T09:17:55.601Z"
   },
   {
    "duration": 564,
    "start_time": "2022-01-13T09:17:56.276Z"
   },
   {
    "duration": 681,
    "start_time": "2022-01-13T09:17:56.842Z"
   },
   {
    "duration": 17,
    "start_time": "2022-01-13T09:17:57.525Z"
   },
   {
    "duration": 17,
    "start_time": "2022-01-13T09:17:57.544Z"
   },
   {
    "duration": 51,
    "start_time": "2022-01-13T09:17:57.564Z"
   },
   {
    "duration": 24,
    "start_time": "2022-01-13T09:17:57.618Z"
   },
   {
    "duration": 22,
    "start_time": "2022-01-13T09:18:48.859Z"
   },
   {
    "duration": 1823,
    "start_time": "2022-01-13T09:28:13.362Z"
   },
   {
    "duration": 671,
    "start_time": "2022-01-13T09:28:15.189Z"
   },
   {
    "duration": 83,
    "start_time": "2022-01-13T09:28:15.865Z"
   },
   {
    "duration": 175,
    "start_time": "2022-01-13T09:28:15.951Z"
   },
   {
    "duration": 74,
    "start_time": "2022-01-13T09:28:16.129Z"
   },
   {
    "duration": 22,
    "start_time": "2022-01-13T09:28:16.205Z"
   },
   {
    "duration": 14,
    "start_time": "2022-01-13T09:28:16.229Z"
   },
   {
    "duration": 25,
    "start_time": "2022-01-13T09:28:16.247Z"
   },
   {
    "duration": 726,
    "start_time": "2022-01-13T09:28:16.275Z"
   },
   {
    "duration": 610,
    "start_time": "2022-01-13T09:28:17.003Z"
   },
   {
    "duration": 8,
    "start_time": "2022-01-13T09:28:17.617Z"
   },
   {
    "duration": 12,
    "start_time": "2022-01-13T09:28:17.628Z"
   },
   {
    "duration": 17,
    "start_time": "2022-01-13T09:28:17.642Z"
   },
   {
    "duration": 44,
    "start_time": "2022-01-13T09:28:17.662Z"
   },
   {
    "duration": 15,
    "start_time": "2022-01-13T09:28:17.709Z"
   },
   {
    "duration": 14,
    "start_time": "2022-01-13T09:28:17.727Z"
   },
   {
    "duration": 58,
    "start_time": "2022-01-13T09:28:17.744Z"
   },
   {
    "duration": 442,
    "start_time": "2022-01-13T09:28:17.805Z"
   },
   {
    "duration": 262,
    "start_time": "2022-01-13T09:28:18.250Z"
   },
   {
    "duration": 15,
    "start_time": "2022-01-13T09:28:18.514Z"
   },
   {
    "duration": 10,
    "start_time": "2022-01-13T09:28:18.532Z"
   },
   {
    "duration": 15,
    "start_time": "2022-01-13T09:28:18.545Z"
   },
   {
    "duration": 13,
    "start_time": "2022-01-13T09:28:18.605Z"
   },
   {
    "duration": 18,
    "start_time": "2022-01-13T09:28:18.622Z"
   },
   {
    "duration": 645,
    "start_time": "2022-01-13T09:28:18.642Z"
   },
   {
    "duration": 370,
    "start_time": "2022-01-13T09:28:19.291Z"
   },
   {
    "duration": 42,
    "start_time": "2022-01-13T09:28:19.664Z"
   },
   {
    "duration": 16,
    "start_time": "2022-01-13T09:28:19.709Z"
   },
   {
    "duration": 73,
    "start_time": "2022-01-13T09:28:19.728Z"
   },
   {
    "duration": 18,
    "start_time": "2022-01-13T09:28:19.804Z"
   },
   {
    "duration": 26,
    "start_time": "2022-01-13T09:28:19.825Z"
   },
   {
    "duration": 155,
    "start_time": "2022-01-13T09:28:19.854Z"
   },
   {
    "duration": 6,
    "start_time": "2022-01-13T09:28:20.012Z"
   },
   {
    "duration": 11,
    "start_time": "2022-01-13T09:28:20.022Z"
   },
   {
    "duration": 136,
    "start_time": "2022-01-13T09:28:20.035Z"
   },
   {
    "duration": 63,
    "start_time": "2022-01-13T09:28:20.174Z"
   },
   {
    "duration": 9,
    "start_time": "2022-01-13T09:28:20.240Z"
   },
   {
    "duration": 10,
    "start_time": "2022-01-13T09:28:20.251Z"
   },
   {
    "duration": 52,
    "start_time": "2022-01-13T09:28:20.263Z"
   },
   {
    "duration": 8,
    "start_time": "2022-01-13T09:28:20.318Z"
   },
   {
    "duration": 289,
    "start_time": "2022-01-13T09:28:20.329Z"
   },
   {
    "duration": 91,
    "start_time": "2022-01-13T09:28:20.621Z"
   },
   {
    "duration": 28,
    "start_time": "2022-01-13T09:28:20.714Z"
   },
   {
    "duration": 67,
    "start_time": "2022-01-13T09:28:20.745Z"
   },
   {
    "duration": 10158,
    "start_time": "2022-01-13T09:28:20.815Z"
   },
   {
    "duration": 33,
    "start_time": "2022-01-13T09:28:30.976Z"
   },
   {
    "duration": 274,
    "start_time": "2022-01-13T09:28:31.012Z"
   },
   {
    "duration": 23,
    "start_time": "2022-01-13T09:28:31.288Z"
   },
   {
    "duration": 33,
    "start_time": "2022-01-13T09:28:31.313Z"
   },
   {
    "duration": 15,
    "start_time": "2022-01-13T09:28:31.348Z"
   },
   {
    "duration": 14,
    "start_time": "2022-01-13T09:28:31.365Z"
   },
   {
    "duration": 642,
    "start_time": "2022-01-13T09:28:31.382Z"
   },
   {
    "duration": 648,
    "start_time": "2022-01-13T09:28:32.026Z"
   },
   {
    "duration": 579,
    "start_time": "2022-01-13T09:28:32.677Z"
   },
   {
    "duration": 20,
    "start_time": "2022-01-13T09:28:33.258Z"
   },
   {
    "duration": 35,
    "start_time": "2022-01-13T09:28:33.281Z"
   },
   {
    "duration": 21,
    "start_time": "2022-01-13T09:28:33.319Z"
   },
   {
    "duration": 64,
    "start_time": "2022-01-13T09:28:33.342Z"
   },
   {
    "duration": 1212,
    "start_time": "2022-01-15T09:47:23.167Z"
   },
   {
    "duration": 623,
    "start_time": "2022-01-15T09:47:24.382Z"
   },
   {
    "duration": 78,
    "start_time": "2022-01-15T09:47:25.008Z"
   },
   {
    "duration": 143,
    "start_time": "2022-01-15T09:47:25.088Z"
   },
   {
    "duration": 78,
    "start_time": "2022-01-15T09:47:25.234Z"
   },
   {
    "duration": 20,
    "start_time": "2022-01-15T09:47:25.315Z"
   },
   {
    "duration": 43,
    "start_time": "2022-01-15T09:47:25.337Z"
   },
   {
    "duration": 23,
    "start_time": "2022-01-15T09:47:25.384Z"
   },
   {
    "duration": 421,
    "start_time": "2022-01-15T09:47:25.410Z"
   },
   {
    "duration": 463,
    "start_time": "2022-01-15T09:47:25.834Z"
   },
   {
    "duration": 7,
    "start_time": "2022-01-15T09:47:26.300Z"
   },
   {
    "duration": 8,
    "start_time": "2022-01-15T09:47:26.310Z"
   },
   {
    "duration": 46,
    "start_time": "2022-01-15T09:47:26.321Z"
   },
   {
    "duration": 10,
    "start_time": "2022-01-15T09:47:26.370Z"
   },
   {
    "duration": 16,
    "start_time": "2022-01-15T09:47:26.382Z"
   },
   {
    "duration": 13,
    "start_time": "2022-01-15T09:47:26.400Z"
   },
   {
    "duration": 63,
    "start_time": "2022-01-15T09:47:26.416Z"
   },
   {
    "duration": 445,
    "start_time": "2022-01-15T09:47:26.481Z"
   },
   {
    "duration": 268,
    "start_time": "2022-01-15T09:47:26.929Z"
   },
   {
    "duration": 15,
    "start_time": "2022-01-15T09:47:27.199Z"
   },
   {
    "duration": 10,
    "start_time": "2022-01-15T09:47:27.217Z"
   },
   {
    "duration": 41,
    "start_time": "2022-01-15T09:47:27.229Z"
   },
   {
    "duration": 15,
    "start_time": "2022-01-15T09:47:27.277Z"
   },
   {
    "duration": 17,
    "start_time": "2022-01-15T09:47:27.295Z"
   },
   {
    "duration": 639,
    "start_time": "2022-01-15T09:47:27.314Z"
   },
   {
    "duration": 265,
    "start_time": "2022-01-15T09:47:27.955Z"
   },
   {
    "duration": 18,
    "start_time": "2022-01-15T09:47:28.222Z"
   },
   {
    "duration": 33,
    "start_time": "2022-01-15T09:47:28.242Z"
   },
   {
    "duration": 30,
    "start_time": "2022-01-15T09:47:28.278Z"
   },
   {
    "duration": 12,
    "start_time": "2022-01-15T09:47:28.310Z"
   },
   {
    "duration": 57,
    "start_time": "2022-01-15T09:47:28.325Z"
   },
   {
    "duration": 131,
    "start_time": "2022-01-15T09:47:28.384Z"
   },
   {
    "duration": 5,
    "start_time": "2022-01-15T09:47:28.517Z"
   },
   {
    "duration": 10,
    "start_time": "2022-01-15T09:47:28.524Z"
   },
   {
    "duration": 133,
    "start_time": "2022-01-15T09:47:28.536Z"
   },
   {
    "duration": 53,
    "start_time": "2022-01-15T09:47:28.673Z"
   },
   {
    "duration": 8,
    "start_time": "2022-01-15T09:47:28.729Z"
   },
   {
    "duration": 34,
    "start_time": "2022-01-15T09:47:28.739Z"
   },
   {
    "duration": 20,
    "start_time": "2022-01-15T09:47:28.776Z"
   },
   {
    "duration": 9,
    "start_time": "2022-01-15T09:47:28.799Z"
   },
   {
    "duration": 300,
    "start_time": "2022-01-15T09:47:28.810Z"
   },
   {
    "duration": 88,
    "start_time": "2022-01-15T09:47:29.112Z"
   },
   {
    "duration": 62,
    "start_time": "2022-01-15T09:47:29.203Z"
   },
   {
    "duration": 37,
    "start_time": "2022-01-15T09:47:29.268Z"
   },
   {
    "duration": 8444,
    "start_time": "2022-01-15T09:47:29.307Z"
   },
   {
    "duration": 27,
    "start_time": "2022-01-15T09:47:37.762Z"
   },
   {
    "duration": 276,
    "start_time": "2022-01-15T09:47:37.792Z"
   },
   {
    "duration": 20,
    "start_time": "2022-01-15T09:47:38.072Z"
   },
   {
    "duration": 22,
    "start_time": "2022-01-15T09:47:38.095Z"
   },
   {
    "duration": 12,
    "start_time": "2022-01-15T09:47:38.120Z"
   },
   {
    "duration": 10,
    "start_time": "2022-01-15T09:47:38.135Z"
   },
   {
    "duration": 761,
    "start_time": "2022-01-15T09:47:38.147Z"
   },
   {
    "duration": 831,
    "start_time": "2022-01-15T09:47:38.920Z"
   },
   {
    "duration": 641,
    "start_time": "2022-01-15T09:47:39.754Z"
   },
   {
    "duration": 18,
    "start_time": "2022-01-15T09:47:40.398Z"
   },
   {
    "duration": 44,
    "start_time": "2022-01-15T09:47:40.419Z"
   },
   {
    "duration": 26,
    "start_time": "2022-01-15T09:47:40.468Z"
   },
   {
    "duration": 22,
    "start_time": "2022-01-15T09:47:40.496Z"
   },
   {
    "duration": 43,
    "start_time": "2022-01-15T09:54:34.605Z"
   },
   {
    "duration": 24,
    "start_time": "2022-01-15T09:54:41.182Z"
   },
   {
    "duration": 65,
    "start_time": "2022-01-15T09:54:44.285Z"
   },
   {
    "duration": 14,
    "start_time": "2022-01-15T09:55:04.301Z"
   },
   {
    "duration": 7,
    "start_time": "2022-01-15T09:56:44.431Z"
   },
   {
    "duration": 17,
    "start_time": "2022-01-15T09:56:56.514Z"
   }
  ],
  "kernelspec": {
   "display_name": "Python 3 (ipykernel)",
   "language": "python",
   "name": "python3"
  },
  "language_info": {
   "codemirror_mode": {
    "name": "ipython",
    "version": 3
   },
   "file_extension": ".py",
   "mimetype": "text/x-python",
   "name": "python",
   "nbconvert_exporter": "python",
   "pygments_lexer": "ipython3",
   "version": "3.9.6"
  },
  "toc": {
   "base_numbering": 1,
   "nav_menu": {},
   "number_sections": true,
   "sideBar": true,
   "skip_h1_title": true,
   "title_cell": "Содержание",
   "title_sidebar": "Contents",
   "toc_cell": true,
   "toc_position": {},
   "toc_section_display": true,
   "toc_window_display": true
  }
 },
 "nbformat": 4,
 "nbformat_minor": 2
}
