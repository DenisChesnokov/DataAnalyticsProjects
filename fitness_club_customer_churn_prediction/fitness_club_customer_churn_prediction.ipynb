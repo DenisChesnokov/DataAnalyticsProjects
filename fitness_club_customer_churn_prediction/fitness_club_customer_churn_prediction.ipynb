{
 "cells": [
  {
   "cell_type": "markdown",
   "metadata": {
    "toc": true
   },
   "source": [
    "<h1>Содержание<span class=\"tocSkip\"></span></h1>\n",
    "<div class=\"toc\"><ul class=\"toc-item\"><li><span><a href=\"#Загрузка-и-подготовка-данных\" data-toc-modified-id=\"Загрузка-и-подготовка-данных-1\"><span class=\"toc-item-num\">1&nbsp;&nbsp;</span>Загрузка и подготовка данных</a></span><ul class=\"toc-item\"><li><span><a href=\"#Загрузка-данных\" data-toc-modified-id=\"Загрузка-данных-1.1\"><span class=\"toc-item-num\">1.1&nbsp;&nbsp;</span>Загрузка данных</a></span></li></ul></li><li><span><a href=\"#Исследовательский-анализ-данных\" data-toc-modified-id=\"Исследовательский-анализ-данных-2\"><span class=\"toc-item-num\">2&nbsp;&nbsp;</span>Исследовательский анализ данных</a></span><ul class=\"toc-item\"><li><span><a href=\"#Cредние-значения-и-стандартные-отклонения-всего-датасета\" data-toc-modified-id=\"Cредние-значения-и-стандартные-отклонения-всего-датасета-2.1\"><span class=\"toc-item-num\">2.1&nbsp;&nbsp;</span>Cредние значения и стандартные отклонения всего датасета</a></span></li><li><span><a href=\"#Средние-значения-признаков-ушедших-и-оставшихся-клиентов\" data-toc-modified-id=\"Средние-значения-признаков-ушедших-и-оставшихся-клиентов-2.2\"><span class=\"toc-item-num\">2.2&nbsp;&nbsp;</span>Средние значения признаков ушедших и оставшихся клиентов</a></span></li><li><span><a href=\"#Cтолбчатые-гистограммы-и-распределения-признаков\" data-toc-modified-id=\"Cтолбчатые-гистограммы-и-распределения-признаков-2.3\"><span class=\"toc-item-num\">2.3&nbsp;&nbsp;</span>Cтолбчатые гистограммы и распределения признаков</a></span></li><li><span><a href=\"#Матрица-корреляций\" data-toc-modified-id=\"Матрица-корреляций-2.4\"><span class=\"toc-item-num\">2.4&nbsp;&nbsp;</span>Матрица корреляций</a></span></li><li><span><a href=\"#Выводы\" data-toc-modified-id=\"Выводы-2.5\"><span class=\"toc-item-num\">2.5&nbsp;&nbsp;</span>Выводы</a></span></li></ul></li><li><span><a href=\"#Модель-прогнозирования-оттока-клиентов\" data-toc-modified-id=\"Модель-прогнозирования-оттока-клиентов-3\"><span class=\"toc-item-num\">3&nbsp;&nbsp;</span>Модель прогнозирования оттока клиентов</a></span><ul class=\"toc-item\"><li><span><a href=\"#Подготовка-данных-к-обучению\" data-toc-modified-id=\"Подготовка-данных-к-обучению-3.1\"><span class=\"toc-item-num\">3.1&nbsp;&nbsp;</span>Подготовка данных к обучению</a></span></li><li><span><a href=\"#Модель-логистической-регрессии\" data-toc-modified-id=\"Модель-логистической-регрессии-3.2\"><span class=\"toc-item-num\">3.2&nbsp;&nbsp;</span>Модель логистической регрессии</a></span></li><li><span><a href=\"#Модель-случайный-лес\" data-toc-modified-id=\"Модель-случайный-лес-3.3\"><span class=\"toc-item-num\">3.3&nbsp;&nbsp;</span>Модель случайный лес</a></span></li><li><span><a href=\"#Сравнение-моделей\" data-toc-modified-id=\"Сравнение-моделей-3.4\"><span class=\"toc-item-num\">3.4&nbsp;&nbsp;</span>Сравнение моделей</a></span><ul class=\"toc-item\"><li><span><a href=\"#Дополнительно.-Влияние-факторов.\" data-toc-modified-id=\"Дополнительно.-Влияние-факторов.-3.4.1\"><span class=\"toc-item-num\">3.4.1&nbsp;&nbsp;</span>Дополнительно. Влияние факторов.</a></span></li></ul></li><li><span><a href=\"#Выводы\" data-toc-modified-id=\"Выводы-3.5\"><span class=\"toc-item-num\">3.5&nbsp;&nbsp;</span>Выводы</a></span></li></ul></li><li><span><a href=\"#Кластеризация-клиентов\" data-toc-modified-id=\"Кластеризация-клиентов-4\"><span class=\"toc-item-num\">4&nbsp;&nbsp;</span>Кластеризация клиентов</a></span><ul class=\"toc-item\"><li><span><a href=\"#Подготовка-данных\" data-toc-modified-id=\"Подготовка-данных-4.1\"><span class=\"toc-item-num\">4.1&nbsp;&nbsp;</span>Подготовка данных</a></span></li><li><span><a href=\"#Матрица-расстояний-и-дендрограмма\" data-toc-modified-id=\"Матрица-расстояний-и-дендрограмма-4.2\"><span class=\"toc-item-num\">4.2&nbsp;&nbsp;</span>Матрица расстояний и дендрограмма</a></span></li><li><span><a href=\"#Кластеризация-клиентов-с-помощью-алгоритма-KMeans\" data-toc-modified-id=\"Кластеризация-клиентов-с-помощью-алгоритма-KMeans-4.3\"><span class=\"toc-item-num\">4.3&nbsp;&nbsp;</span>Кластеризация клиентов с помощью алгоритма KMeans</a></span></li><li><span><a href=\"#Характеристики-кластеров\" data-toc-modified-id=\"Характеристики-кластеров-4.4\"><span class=\"toc-item-num\">4.4&nbsp;&nbsp;</span>Характеристики кластеров</a></span></li><li><span><a href=\"#Распределение-признаков-в-кластерах\" data-toc-modified-id=\"Распределение-признаков-в-кластерах-4.5\"><span class=\"toc-item-num\">4.5&nbsp;&nbsp;</span>Распределение признаков в кластерах</a></span></li><li><span><a href=\"#Выводы\" data-toc-modified-id=\"Выводы-4.6\"><span class=\"toc-item-num\">4.6&nbsp;&nbsp;</span>Выводы</a></span></li></ul></li><li><span><a href=\"#Выводы-и-рекомендации\" data-toc-modified-id=\"Выводы-и-рекомендации-5\"><span class=\"toc-item-num\">5&nbsp;&nbsp;</span>Выводы и рекомендации</a></span></li></ul></div>"
   ]
  },
  {
   "cell_type": "markdown",
   "metadata": {},
   "source": [
    "# Аализ данных и подготовка рекомендаций по удержанию клиентов финтнес центра «Культурист-датасаентист»"
   ]
  },
  {
   "cell_type": "markdown",
   "metadata": {},
   "source": [
    "Проект направлен на уменьшение оттока посетителей фитнес клуба. В проекте будут исследованы обезличенные данные подгоовленые отделом по работе с клиентами. На основе этих данных будет построена модель прогнозирования события оттока для каждого клиента. Так же будет проведена кластеризация - выделение групп потребителей со специфичискими признаками и выявлены группы с наибольшим процентом оттока. На основании этого разделения для групп с большим процентом оттока будут даны рекомендации по удержанию клиентов."
   ]
  },
  {
   "cell_type": "markdown",
   "metadata": {},
   "source": [
    "## Загрузка и подготовка данных"
   ]
  },
  {
   "cell_type": "code",
   "execution_count": 1,
   "metadata": {},
   "outputs": [],
   "source": [
    "#Импорт библитотек\n",
    "import pandas as pd\n",
    "\n",
    "#для отображения графиков\n",
    "import matplotlib.pyplot as plt\n",
    "from matplotlib.ticker import PercentFormatter\n",
    "import seaborn as sns"
   ]
  },
  {
   "cell_type": "markdown",
   "metadata": {},
   "source": [
    "### Загрузка данных"
   ]
  },
  {
   "cell_type": "code",
   "execution_count": 2,
   "metadata": {},
   "outputs": [],
   "source": [
    "#Загрузка датасета\n",
    "df = pd.read_csv('/datasets/gym_churn.csv')"
   ]
  },
  {
   "cell_type": "code",
   "execution_count": 3,
   "metadata": {
    "scrolled": true
   },
   "outputs": [
    {
     "data": {
      "text/html": [
       "<div>\n",
       "<style scoped>\n",
       "    .dataframe tbody tr th:only-of-type {\n",
       "        vertical-align: middle;\n",
       "    }\n",
       "\n",
       "    .dataframe tbody tr th {\n",
       "        vertical-align: top;\n",
       "    }\n",
       "\n",
       "    .dataframe thead th {\n",
       "        text-align: right;\n",
       "    }\n",
       "</style>\n",
       "<table border=\"1\" class=\"dataframe\">\n",
       "  <thead>\n",
       "    <tr style=\"text-align: right;\">\n",
       "      <th></th>\n",
       "      <th>gender</th>\n",
       "      <th>Near_Location</th>\n",
       "      <th>Partner</th>\n",
       "      <th>Promo_friends</th>\n",
       "      <th>Phone</th>\n",
       "      <th>Contract_period</th>\n",
       "      <th>Group_visits</th>\n",
       "      <th>Age</th>\n",
       "      <th>Avg_additional_charges_total</th>\n",
       "      <th>Month_to_end_contract</th>\n",
       "      <th>Lifetime</th>\n",
       "      <th>Avg_class_frequency_total</th>\n",
       "      <th>Avg_class_frequency_current_month</th>\n",
       "      <th>Churn</th>\n",
       "    </tr>\n",
       "  </thead>\n",
       "  <tbody>\n",
       "    <tr>\n",
       "      <th>0</th>\n",
       "      <td>1</td>\n",
       "      <td>1</td>\n",
       "      <td>1</td>\n",
       "      <td>1</td>\n",
       "      <td>0</td>\n",
       "      <td>6</td>\n",
       "      <td>1</td>\n",
       "      <td>29</td>\n",
       "      <td>14.227470</td>\n",
       "      <td>5.0</td>\n",
       "      <td>3</td>\n",
       "      <td>0.020398</td>\n",
       "      <td>0.000000</td>\n",
       "      <td>0</td>\n",
       "    </tr>\n",
       "    <tr>\n",
       "      <th>1</th>\n",
       "      <td>0</td>\n",
       "      <td>1</td>\n",
       "      <td>0</td>\n",
       "      <td>0</td>\n",
       "      <td>1</td>\n",
       "      <td>12</td>\n",
       "      <td>1</td>\n",
       "      <td>31</td>\n",
       "      <td>113.202938</td>\n",
       "      <td>12.0</td>\n",
       "      <td>7</td>\n",
       "      <td>1.922936</td>\n",
       "      <td>1.910244</td>\n",
       "      <td>0</td>\n",
       "    </tr>\n",
       "    <tr>\n",
       "      <th>2</th>\n",
       "      <td>0</td>\n",
       "      <td>1</td>\n",
       "      <td>1</td>\n",
       "      <td>0</td>\n",
       "      <td>1</td>\n",
       "      <td>1</td>\n",
       "      <td>0</td>\n",
       "      <td>28</td>\n",
       "      <td>129.448479</td>\n",
       "      <td>1.0</td>\n",
       "      <td>2</td>\n",
       "      <td>1.859098</td>\n",
       "      <td>1.736502</td>\n",
       "      <td>0</td>\n",
       "    </tr>\n",
       "    <tr>\n",
       "      <th>3</th>\n",
       "      <td>0</td>\n",
       "      <td>1</td>\n",
       "      <td>1</td>\n",
       "      <td>1</td>\n",
       "      <td>1</td>\n",
       "      <td>12</td>\n",
       "      <td>1</td>\n",
       "      <td>33</td>\n",
       "      <td>62.669863</td>\n",
       "      <td>12.0</td>\n",
       "      <td>2</td>\n",
       "      <td>3.205633</td>\n",
       "      <td>3.357215</td>\n",
       "      <td>0</td>\n",
       "    </tr>\n",
       "    <tr>\n",
       "      <th>4</th>\n",
       "      <td>1</td>\n",
       "      <td>1</td>\n",
       "      <td>1</td>\n",
       "      <td>1</td>\n",
       "      <td>1</td>\n",
       "      <td>1</td>\n",
       "      <td>0</td>\n",
       "      <td>26</td>\n",
       "      <td>198.362265</td>\n",
       "      <td>1.0</td>\n",
       "      <td>3</td>\n",
       "      <td>1.113884</td>\n",
       "      <td>1.120078</td>\n",
       "      <td>0</td>\n",
       "    </tr>\n",
       "  </tbody>\n",
       "</table>\n",
       "</div>"
      ],
      "text/plain": [
       "   gender  Near_Location  Partner  Promo_friends  Phone  Contract_period  \\\n",
       "0       1              1        1              1      0                6   \n",
       "1       0              1        0              0      1               12   \n",
       "2       0              1        1              0      1                1   \n",
       "3       0              1        1              1      1               12   \n",
       "4       1              1        1              1      1                1   \n",
       "\n",
       "   Group_visits  Age  Avg_additional_charges_total  Month_to_end_contract  \\\n",
       "0             1   29                     14.227470                    5.0   \n",
       "1             1   31                    113.202938                   12.0   \n",
       "2             0   28                    129.448479                    1.0   \n",
       "3             1   33                     62.669863                   12.0   \n",
       "4             0   26                    198.362265                    1.0   \n",
       "\n",
       "   Lifetime  Avg_class_frequency_total  Avg_class_frequency_current_month  \\\n",
       "0         3                   0.020398                           0.000000   \n",
       "1         7                   1.922936                           1.910244   \n",
       "2         2                   1.859098                           1.736502   \n",
       "3         2                   3.205633                           3.357215   \n",
       "4         3                   1.113884                           1.120078   \n",
       "\n",
       "   Churn  \n",
       "0      0  \n",
       "1      0  \n",
       "2      0  \n",
       "3      0  \n",
       "4      0  "
      ]
     },
     "execution_count": 3,
     "metadata": {},
     "output_type": "execute_result"
    }
   ],
   "source": [
    "#Первое знакомство\n",
    "df.head()"
   ]
  },
  {
   "cell_type": "markdown",
   "metadata": {},
   "source": [
    "* Датасет имеет стандартный разделитель, данные читаются успешно\n",
    "* Столбцы записаны латиницей, имею \"змеинную нотацию\", однако имею заглавные буквы в названиях которые надо заменить на строчные"
   ]
  },
  {
   "cell_type": "code",
   "execution_count": 4,
   "metadata": {},
   "outputs": [
    {
     "data": {
      "text/plain": [
       "Index(['gender', 'near_location', 'partner', 'promo_friends', 'phone',\n",
       "       'contract_period', 'group_visits', 'age',\n",
       "       'avg_additional_charges_total', 'month_to_end_contract', 'lifetime',\n",
       "       'avg_class_frequency_total', 'avg_class_frequency_current_month',\n",
       "       'churn'],\n",
       "      dtype='object')"
      ]
     },
     "execution_count": 4,
     "metadata": {},
     "output_type": "execute_result"
    }
   ],
   "source": [
    "#Приводим названия столбцов к нижнему регистру\n",
    "df.columns = df.columns.str.lower()\n",
    "df.columns"
   ]
  },
  {
   "cell_type": "code",
   "execution_count": 5,
   "metadata": {},
   "outputs": [
    {
     "name": "stdout",
     "output_type": "stream",
     "text": [
      "<class 'pandas.core.frame.DataFrame'>\n",
      "RangeIndex: 4000 entries, 0 to 3999\n",
      "Data columns (total 14 columns):\n",
      " #   Column                             Non-Null Count  Dtype  \n",
      "---  ------                             --------------  -----  \n",
      " 0   gender                             4000 non-null   int64  \n",
      " 1   near_location                      4000 non-null   int64  \n",
      " 2   partner                            4000 non-null   int64  \n",
      " 3   promo_friends                      4000 non-null   int64  \n",
      " 4   phone                              4000 non-null   int64  \n",
      " 5   contract_period                    4000 non-null   int64  \n",
      " 6   group_visits                       4000 non-null   int64  \n",
      " 7   age                                4000 non-null   int64  \n",
      " 8   avg_additional_charges_total       4000 non-null   float64\n",
      " 9   month_to_end_contract              4000 non-null   float64\n",
      " 10  lifetime                           4000 non-null   int64  \n",
      " 11  avg_class_frequency_total          4000 non-null   float64\n",
      " 12  avg_class_frequency_current_month  4000 non-null   float64\n",
      " 13  churn                              4000 non-null   int64  \n",
      "dtypes: float64(4), int64(10)\n",
      "memory usage: 437.6 KB\n"
     ]
    }
   ],
   "source": [
    "#Общая информация о датасете\n",
    "df.info()"
   ]
  },
  {
   "cell_type": "markdown",
   "metadata": {},
   "source": [
    "Датасет имеет 4 тыс записей. Все колонки имеют числовой тип. Все колонки заполнены польность, без пропусков. Многие стобцы по сути должны иметь логический тип и котигориальную природу, но для дальнейших вычислений лучше оставить как есть."
   ]
  },
  {
   "cell_type": "code",
   "execution_count": 6,
   "metadata": {},
   "outputs": [
    {
     "data": {
      "text/plain": [
       "0"
      ]
     },
     "execution_count": 6,
     "metadata": {},
     "output_type": "execute_result"
    }
   ],
   "source": [
    "#Проверим на наличие дублей\n",
    "df.duplicated().sum()"
   ]
  },
  {
   "cell_type": "markdown",
   "metadata": {},
   "source": [
    "В датасете отсутсвуют полные дубликаты. Можно сразу проверять количественные характеристики."
   ]
  },
  {
   "cell_type": "markdown",
   "metadata": {},
   "source": [
    "## Исследовательский анализ данных"
   ]
  },
  {
   "cell_type": "markdown",
   "metadata": {},
   "source": [
    "### Cредние значения и стандартные отклонения всего датасета"
   ]
  },
  {
   "cell_type": "code",
   "execution_count": 7,
   "metadata": {
    "scrolled": true
   },
   "outputs": [
    {
     "data": {
      "text/html": [
       "<div>\n",
       "<style scoped>\n",
       "    .dataframe tbody tr th:only-of-type {\n",
       "        vertical-align: middle;\n",
       "    }\n",
       "\n",
       "    .dataframe tbody tr th {\n",
       "        vertical-align: top;\n",
       "    }\n",
       "\n",
       "    .dataframe thead th {\n",
       "        text-align: right;\n",
       "    }\n",
       "</style>\n",
       "<table border=\"1\" class=\"dataframe\">\n",
       "  <thead>\n",
       "    <tr style=\"text-align: right;\">\n",
       "      <th></th>\n",
       "      <th>gender</th>\n",
       "      <th>near_location</th>\n",
       "      <th>partner</th>\n",
       "      <th>promo_friends</th>\n",
       "      <th>phone</th>\n",
       "      <th>contract_period</th>\n",
       "      <th>group_visits</th>\n",
       "      <th>age</th>\n",
       "      <th>avg_additional_charges_total</th>\n",
       "      <th>month_to_end_contract</th>\n",
       "      <th>lifetime</th>\n",
       "      <th>avg_class_frequency_total</th>\n",
       "      <th>avg_class_frequency_current_month</th>\n",
       "      <th>churn</th>\n",
       "    </tr>\n",
       "  </thead>\n",
       "  <tbody>\n",
       "    <tr>\n",
       "      <th>count</th>\n",
       "      <td>4000.000000</td>\n",
       "      <td>4000.000000</td>\n",
       "      <td>4000.000000</td>\n",
       "      <td>4000.000000</td>\n",
       "      <td>4000.000000</td>\n",
       "      <td>4000.000000</td>\n",
       "      <td>4000.000000</td>\n",
       "      <td>4000.000000</td>\n",
       "      <td>4000.000000</td>\n",
       "      <td>4000.000000</td>\n",
       "      <td>4000.000000</td>\n",
       "      <td>4000.000000</td>\n",
       "      <td>4000.000000</td>\n",
       "      <td>4000.000000</td>\n",
       "    </tr>\n",
       "    <tr>\n",
       "      <th>mean</th>\n",
       "      <td>0.510250</td>\n",
       "      <td>0.845250</td>\n",
       "      <td>0.486750</td>\n",
       "      <td>0.308500</td>\n",
       "      <td>0.903500</td>\n",
       "      <td>4.681250</td>\n",
       "      <td>0.412250</td>\n",
       "      <td>29.184250</td>\n",
       "      <td>146.943728</td>\n",
       "      <td>4.322750</td>\n",
       "      <td>3.724750</td>\n",
       "      <td>1.879020</td>\n",
       "      <td>1.767052</td>\n",
       "      <td>0.265250</td>\n",
       "    </tr>\n",
       "    <tr>\n",
       "      <th>std</th>\n",
       "      <td>0.499957</td>\n",
       "      <td>0.361711</td>\n",
       "      <td>0.499887</td>\n",
       "      <td>0.461932</td>\n",
       "      <td>0.295313</td>\n",
       "      <td>4.549706</td>\n",
       "      <td>0.492301</td>\n",
       "      <td>3.258367</td>\n",
       "      <td>96.355602</td>\n",
       "      <td>4.191297</td>\n",
       "      <td>3.749267</td>\n",
       "      <td>0.972245</td>\n",
       "      <td>1.052906</td>\n",
       "      <td>0.441521</td>\n",
       "    </tr>\n",
       "    <tr>\n",
       "      <th>min</th>\n",
       "      <td>0.000000</td>\n",
       "      <td>0.000000</td>\n",
       "      <td>0.000000</td>\n",
       "      <td>0.000000</td>\n",
       "      <td>0.000000</td>\n",
       "      <td>1.000000</td>\n",
       "      <td>0.000000</td>\n",
       "      <td>18.000000</td>\n",
       "      <td>0.148205</td>\n",
       "      <td>1.000000</td>\n",
       "      <td>0.000000</td>\n",
       "      <td>0.000000</td>\n",
       "      <td>0.000000</td>\n",
       "      <td>0.000000</td>\n",
       "    </tr>\n",
       "    <tr>\n",
       "      <th>25%</th>\n",
       "      <td>0.000000</td>\n",
       "      <td>1.000000</td>\n",
       "      <td>0.000000</td>\n",
       "      <td>0.000000</td>\n",
       "      <td>1.000000</td>\n",
       "      <td>1.000000</td>\n",
       "      <td>0.000000</td>\n",
       "      <td>27.000000</td>\n",
       "      <td>68.868830</td>\n",
       "      <td>1.000000</td>\n",
       "      <td>1.000000</td>\n",
       "      <td>1.180875</td>\n",
       "      <td>0.963003</td>\n",
       "      <td>0.000000</td>\n",
       "    </tr>\n",
       "    <tr>\n",
       "      <th>50%</th>\n",
       "      <td>1.000000</td>\n",
       "      <td>1.000000</td>\n",
       "      <td>0.000000</td>\n",
       "      <td>0.000000</td>\n",
       "      <td>1.000000</td>\n",
       "      <td>1.000000</td>\n",
       "      <td>0.000000</td>\n",
       "      <td>29.000000</td>\n",
       "      <td>136.220159</td>\n",
       "      <td>1.000000</td>\n",
       "      <td>3.000000</td>\n",
       "      <td>1.832768</td>\n",
       "      <td>1.719574</td>\n",
       "      <td>0.000000</td>\n",
       "    </tr>\n",
       "    <tr>\n",
       "      <th>75%</th>\n",
       "      <td>1.000000</td>\n",
       "      <td>1.000000</td>\n",
       "      <td>1.000000</td>\n",
       "      <td>1.000000</td>\n",
       "      <td>1.000000</td>\n",
       "      <td>6.000000</td>\n",
       "      <td>1.000000</td>\n",
       "      <td>31.000000</td>\n",
       "      <td>210.949625</td>\n",
       "      <td>6.000000</td>\n",
       "      <td>5.000000</td>\n",
       "      <td>2.536078</td>\n",
       "      <td>2.510336</td>\n",
       "      <td>1.000000</td>\n",
       "    </tr>\n",
       "    <tr>\n",
       "      <th>max</th>\n",
       "      <td>1.000000</td>\n",
       "      <td>1.000000</td>\n",
       "      <td>1.000000</td>\n",
       "      <td>1.000000</td>\n",
       "      <td>1.000000</td>\n",
       "      <td>12.000000</td>\n",
       "      <td>1.000000</td>\n",
       "      <td>41.000000</td>\n",
       "      <td>552.590740</td>\n",
       "      <td>12.000000</td>\n",
       "      <td>31.000000</td>\n",
       "      <td>6.023668</td>\n",
       "      <td>6.146783</td>\n",
       "      <td>1.000000</td>\n",
       "    </tr>\n",
       "  </tbody>\n",
       "</table>\n",
       "</div>"
      ],
      "text/plain": [
       "            gender  near_location      partner  promo_friends        phone  \\\n",
       "count  4000.000000    4000.000000  4000.000000    4000.000000  4000.000000   \n",
       "mean      0.510250       0.845250     0.486750       0.308500     0.903500   \n",
       "std       0.499957       0.361711     0.499887       0.461932     0.295313   \n",
       "min       0.000000       0.000000     0.000000       0.000000     0.000000   \n",
       "25%       0.000000       1.000000     0.000000       0.000000     1.000000   \n",
       "50%       1.000000       1.000000     0.000000       0.000000     1.000000   \n",
       "75%       1.000000       1.000000     1.000000       1.000000     1.000000   \n",
       "max       1.000000       1.000000     1.000000       1.000000     1.000000   \n",
       "\n",
       "       contract_period  group_visits          age  \\\n",
       "count      4000.000000   4000.000000  4000.000000   \n",
       "mean          4.681250      0.412250    29.184250   \n",
       "std           4.549706      0.492301     3.258367   \n",
       "min           1.000000      0.000000    18.000000   \n",
       "25%           1.000000      0.000000    27.000000   \n",
       "50%           1.000000      0.000000    29.000000   \n",
       "75%           6.000000      1.000000    31.000000   \n",
       "max          12.000000      1.000000    41.000000   \n",
       "\n",
       "       avg_additional_charges_total  month_to_end_contract     lifetime  \\\n",
       "count                   4000.000000            4000.000000  4000.000000   \n",
       "mean                     146.943728               4.322750     3.724750   \n",
       "std                       96.355602               4.191297     3.749267   \n",
       "min                        0.148205               1.000000     0.000000   \n",
       "25%                       68.868830               1.000000     1.000000   \n",
       "50%                      136.220159               1.000000     3.000000   \n",
       "75%                      210.949625               6.000000     5.000000   \n",
       "max                      552.590740              12.000000    31.000000   \n",
       "\n",
       "       avg_class_frequency_total  avg_class_frequency_current_month  \\\n",
       "count                4000.000000                        4000.000000   \n",
       "mean                    1.879020                           1.767052   \n",
       "std                     0.972245                           1.052906   \n",
       "min                     0.000000                           0.000000   \n",
       "25%                     1.180875                           0.963003   \n",
       "50%                     1.832768                           1.719574   \n",
       "75%                     2.536078                           2.510336   \n",
       "max                     6.023668                           6.146783   \n",
       "\n",
       "             churn  \n",
       "count  4000.000000  \n",
       "mean      0.265250  \n",
       "std       0.441521  \n",
       "min       0.000000  \n",
       "25%       0.000000  \n",
       "50%       0.000000  \n",
       "75%       1.000000  \n",
       "max       1.000000  "
      ]
     },
     "execution_count": 7,
     "metadata": {},
     "output_type": "execute_result"
    }
   ],
   "source": [
    "# Посмотрим на распределения данных в столбцах\n",
    "df.describe()"
   ]
  },
  {
   "cell_type": "markdown",
   "metadata": {},
   "source": [
    "В среднем: \n",
    "* данные равномерно распределены по полу\n",
    "* 84% клиентов находятся в ближайших локациях\n",
    "* почти половина - 48% это сотрудники партнеров клуба\n",
    "* 30% пришли по акции \"приведи друга\"\n",
    "* 90% клиентов оставляют свой телефон\n",
    "* средний период контракта по всей выборке 4.68 месяцев\n",
    "* 41% клиентов посещают групповые занятия\n",
    "* средний возраст 29 лет, при этом стандартное отклонение всего 3.25\n",
    "* средняя сумма дополнительных услуг 146\n",
    "* средний срок до окончания текущего договора 4.3 месяца\n",
    "* среднее время с момента первого контакта 3.7 месяцев\n",
    "* средняя частота посещений в неделю 1.87 \n",
    "* средняя средняя частота посещений в неделю за предыдущий месяц 1.76\n",
    "* средний факт оттока в текущем месяце 0.26\n",
    "\n",
    "Среднее отклонение почти у всех факторов сравнимо по размерам со средним значением, что может говорить о \"равномерном\" распеределении большинства параметров."
   ]
  },
  {
   "cell_type": "markdown",
   "metadata": {},
   "source": [
    "### Средние значения признаков ушедших и оставшихся клиентов"
   ]
  },
  {
   "cell_type": "code",
   "execution_count": 8,
   "metadata": {},
   "outputs": [
    {
     "data": {
      "text/html": [
       "<div>\n",
       "<style scoped>\n",
       "    .dataframe tbody tr th:only-of-type {\n",
       "        vertical-align: middle;\n",
       "    }\n",
       "\n",
       "    .dataframe tbody tr th {\n",
       "        vertical-align: top;\n",
       "    }\n",
       "\n",
       "    .dataframe thead th {\n",
       "        text-align: right;\n",
       "    }\n",
       "</style>\n",
       "<table border=\"1\" class=\"dataframe\">\n",
       "  <thead>\n",
       "    <tr style=\"text-align: right;\">\n",
       "      <th></th>\n",
       "      <th>gender</th>\n",
       "      <th>near_location</th>\n",
       "      <th>partner</th>\n",
       "      <th>promo_friends</th>\n",
       "      <th>phone</th>\n",
       "      <th>contract_period</th>\n",
       "      <th>group_visits</th>\n",
       "      <th>age</th>\n",
       "      <th>avg_additional_charges_total</th>\n",
       "      <th>month_to_end_contract</th>\n",
       "      <th>lifetime</th>\n",
       "      <th>avg_class_frequency_total</th>\n",
       "      <th>avg_class_frequency_current_month</th>\n",
       "    </tr>\n",
       "    <tr>\n",
       "      <th>churn</th>\n",
       "      <th></th>\n",
       "      <th></th>\n",
       "      <th></th>\n",
       "      <th></th>\n",
       "      <th></th>\n",
       "      <th></th>\n",
       "      <th></th>\n",
       "      <th></th>\n",
       "      <th></th>\n",
       "      <th></th>\n",
       "      <th></th>\n",
       "      <th></th>\n",
       "      <th></th>\n",
       "    </tr>\n",
       "  </thead>\n",
       "  <tbody>\n",
       "    <tr>\n",
       "      <th>0</th>\n",
       "      <td>0.510037</td>\n",
       "      <td>0.873086</td>\n",
       "      <td>0.534195</td>\n",
       "      <td>0.353522</td>\n",
       "      <td>0.903709</td>\n",
       "      <td>5.747193</td>\n",
       "      <td>0.464103</td>\n",
       "      <td>29.976523</td>\n",
       "      <td>158.445715</td>\n",
       "      <td>5.283089</td>\n",
       "      <td>4.711807</td>\n",
       "      <td>2.024876</td>\n",
       "      <td>2.027882</td>\n",
       "    </tr>\n",
       "    <tr>\n",
       "      <th>1</th>\n",
       "      <td>0.510839</td>\n",
       "      <td>0.768143</td>\n",
       "      <td>0.355325</td>\n",
       "      <td>0.183789</td>\n",
       "      <td>0.902922</td>\n",
       "      <td>1.728558</td>\n",
       "      <td>0.268615</td>\n",
       "      <td>26.989632</td>\n",
       "      <td>115.082899</td>\n",
       "      <td>1.662582</td>\n",
       "      <td>0.990575</td>\n",
       "      <td>1.474995</td>\n",
       "      <td>1.044546</td>\n",
       "    </tr>\n",
       "  </tbody>\n",
       "</table>\n",
       "</div>"
      ],
      "text/plain": [
       "         gender  near_location   partner  promo_friends     phone  \\\n",
       "churn                                                               \n",
       "0      0.510037       0.873086  0.534195       0.353522  0.903709   \n",
       "1      0.510839       0.768143  0.355325       0.183789  0.902922   \n",
       "\n",
       "       contract_period  group_visits        age  avg_additional_charges_total  \\\n",
       "churn                                                                           \n",
       "0             5.747193      0.464103  29.976523                    158.445715   \n",
       "1             1.728558      0.268615  26.989632                    115.082899   \n",
       "\n",
       "       month_to_end_contract  lifetime  avg_class_frequency_total  \\\n",
       "churn                                                               \n",
       "0                   5.283089  4.711807                   2.024876   \n",
       "1                   1.662582  0.990575                   1.474995   \n",
       "\n",
       "       avg_class_frequency_current_month  \n",
       "churn                                     \n",
       "0                               2.027882  \n",
       "1                               1.044546  "
      ]
     },
     "execution_count": 8,
     "metadata": {},
     "output_type": "execute_result"
    }
   ],
   "source": [
    "df.groupby('churn').agg('mean')"
   ]
  },
  {
   "cell_type": "markdown",
   "metadata": {},
   "source": [
    "Отличие средних показателей в группе оставшихся и ушедших клиентов:\n",
    "* доля мужчин и женщин в обеих группах одинаковая\n",
    "* нахождение в ближайшей локации в группе ушедших немного ниже: 77% вместо 87%\n",
    "* среди ушедших доля сотрудников партнеров гораздо меньше: 35% вместо 53%\n",
    "* среди ушедших доля клиентов пришедших по акции \"приведи друга\" почти в два раза ниже: 18% и 35%\n",
    "* доля оставивших контактный телефон одинаковая в обеих группах\n",
    "* продолжительность текущего контракта в группе ушедших в среднем в три раза меньше, чем у оставшихся: 1.72 против 5.74\n",
    "* доля посещавших групповые занятия у ушедших заметно меньше: 26% против 46%\n",
    "* ушедшие клиенты в среднем немного моложе оставшихся: 27 лет против 30\n",
    "* оставшиеся клиенты примерно на 25% больше расходуют на дополнительные услуги: 158.44 против 115.08\n",
    "* количество месяцев до окончания контракта у ушедших почти в три раза меньше, чем у оставшихся: 1.66 вместо 5.28\n",
    "* время прошедшее с первого контакта у ушедших практически в пять раз меньше, чем у оставшихся: 0.99 вместо 4.71\n",
    "* количество посещений в неделю у ушедших почти на четверть меньше, чем у оставшихся: 1.47 и 2.02\n",
    "* количество посещений в неделю в текущий месяц у ушедших падает до 1, а у оставшихся остается около 2 раз в неделю\n",
    "\n",
    " Предварительно можно сделать предположение, что пол, возраст, локация и указание мобильного телефона не оказывает серьезного влияния на отток, а вот продолжительность текущего контракта, количество месяцев до окончания текущего контракта и общее время с первого контакта существенно влияют на отток. \n",
    " Наиболее \"опасным\" пока видится время после первого месяца занятий у группы с короткими текущими контрактами."
   ]
  },
  {
   "cell_type": "markdown",
   "metadata": {},
   "source": [
    "### Cтолбчатые гистограммы и распределения признаков"
   ]
  },
  {
   "cell_type": "markdown",
   "metadata": {},
   "source": [
    "Т.к. группы имеют разное количество наблюдений, то для сравнивания лучше выводить доли показателя, а не абсолютные значения."
   ]
  },
  {
   "cell_type": "code",
   "execution_count": 9,
   "metadata": {
    "scrolled": true
   },
   "outputs": [
    {
     "data": {
      "image/png": "[encoded data removed]",
      "text/plain": [
       "<Figure size 432x288 with 1 Axes>"
      ]
     },
     "metadata": {
      "needs_background": "light"
     },
     "output_type": "display_data"
    },
    {
     "data": {
      "image/png": "[encoded data removed]",
      "text/plain": [
       "<Figure size 432x288 with 1 Axes>"
      ]
     },
     "metadata": {
      "needs_background": "light"
     },
     "output_type": "display_data"
    },
    {
     "data": {
      "image/png": "[encoded data removed]",
      "text/plain": [
       "<Figure size 432x288 with 1 Axes>"
      ]
     },
     "metadata": {
      "needs_background": "light"
     },
     "output_type": "display_data"
    },
    {
     "data": {
      "image/png": "[encoded data removed]",
      "text/plain": [
       "<Figure size 432x288 with 1 Axes>"
      ]
     },
     "metadata": {
      "needs_background": "light"
     },
     "output_type": "display_data"
    },
    {
     "data": {
      "image/png": "[encoded data removed]",
      "text/plain": [
       "<Figure size 432x288 with 1 Axes>"
      ]
     },
     "metadata": {
      "needs_background": "light"
     },
     "output_type": "display_data"
    },
    {
     "data": {
      "image/png": "[encoded data removed]",
      "text/plain": [
       "<Figure size 432x288 with 1 Axes>"
      ]
     },
     "metadata": {
      "needs_background": "light"
     },
     "output_type": "display_data"
    },
    {
     "data": {
      "image/png": "[encoded data removed]",
      "text/plain": [
       "<Figure size 432x288 with 1 Axes>"
      ]
     },
     "metadata": {
      "needs_background": "light"
     },
     "output_type": "display_data"
    },
    {
     "data": {
      "image/png": "[encoded data removed]",
      "text/plain": [
       "<Figure size 432x288 with 1 Axes>"
      ]
     },
     "metadata": {
      "needs_background": "light"
     },
     "output_type": "display_data"
    },
    {
     "data": {
      "image/png": "[encoded data removed]",
      "text/plain": [
       "<Figure size 432x288 with 1 Axes>"
      ]
     },
     "metadata": {
      "needs_background": "light"
     },
     "output_type": "display_data"
    },
    {
     "data": {
      "image/png": "[encoded data removed]",
      "text/plain": [
       "<Figure size 432x288 with 1 Axes>"
      ]
     },
     "metadata": {
      "needs_background": "light"
     },
     "output_type": "display_data"
    },
    {
     "data": {
      "image/png": "[encoded data removed]",
      "text/plain": [
       "<Figure size 432x288 with 1 Axes>"
      ]
     },
     "metadata": {
      "needs_background": "light"
     },
     "output_type": "display_data"
    },
    {
     "data": {
      "image/png": "[encoded data removed]",
      "text/plain": [
       "<Figure size 432x288 with 1 Axes>"
      ]
     },
     "metadata": {
      "needs_background": "light"
     },
     "output_type": "display_data"
    },
    {
     "data": {
      "image/png": "[encoded data removed]",
      "text/plain": [
       "<Figure size 432x288 with 1 Axes>"
      ]
     },
     "metadata": {
      "needs_background": "light"
     },
     "output_type": "display_data"
    },
    {
     "data": {
      "image/png": "[encoded data removed]",
      "text/plain": [
       "<Figure size 432x288 with 1 Axes>"
      ]
     },
     "metadata": {
      "needs_background": "light"
     },
     "output_type": "display_data"
    }
   ],
   "source": [
    "for column in list(df.columns): #цикл по признакам, включая последний для контроля\n",
    "    \n",
    "    plt.hist([df.query('churn == 1')[column], df.query('churn == 0')[column]],\n",
    "             label=['Ушедшие', 'Оставшиеся'], \n",
    "             density=True) #отображать доли\n",
    "    \n",
    "    plt.legend(loc='upper center')\n",
    "    \n",
    "    plt.title(f'Распределение {column}')\n",
    "    plt.show()"
   ]
  },
  {
   "cell_type": "markdown",
   "metadata": {},
   "source": [
    "### Матрица корреляций"
   ]
  },
  {
   "cell_type": "code",
   "execution_count": 10,
   "metadata": {},
   "outputs": [
    {
     "data": {
      "image/png": "[encoded data removed]",
      "text/plain": [
       "<Figure size 864x864 with 2 Axes>"
      ]
     },
     "metadata": {
      "needs_background": "light"
     },
     "output_type": "display_data"
    }
   ],
   "source": [
    "#Посмотрим на матрицу корреляции\n",
    "plt.figure(figsize=(12, 12))\n",
    "sns.heatmap(df.corr(), annot=True, square=True)\n",
    "plt.show()"
   ]
  },
  {
   "cell_type": "markdown",
   "metadata": {},
   "source": [
    "* Пол и наличие телефона практически ника не связаня с параметром оттока и с другими параметрами. С учётом предыдущих выводов, их можно удалить из датасета.\n",
    "* Количество месяцев до окончания контракта и количество месяцев в текущем контракте практически имеют прямую функциональную зависимость. Можно учесть, что 80% оттока имеют контракты на 1 месяц и они попадают в группу оттока \"1 месяц до окончания контракта\".\n",
    "* Такая же зависимость есть у средней посещаемости в неделю вообще и в текущем месяце.\n",
    "* Учитывая, что мы прогнозируем отток на следующий месяц наиболее важными показателями будут срок до конца текущего контракта и частота посещений в неделю за последний месяц."
   ]
  },
  {
   "cell_type": "code",
   "execution_count": 11,
   "metadata": {},
   "outputs": [
    {
     "data": {
      "text/plain": [
       "Index(['near_location', 'partner', 'promo_friends', 'group_visits', 'age',\n",
       "       'avg_additional_charges_total', 'month_to_end_contract', 'lifetime',\n",
       "       'avg_class_frequency_current_month', 'churn'],\n",
       "      dtype='object')"
      ]
     },
     "execution_count": 11,
     "metadata": {},
     "output_type": "execute_result"
    }
   ],
   "source": [
    "df = df.drop(['gender', 'phone', 'contract_period', 'avg_class_frequency_total'], axis=1)\n",
    "df.columns"
   ]
  },
  {
   "cell_type": "markdown",
   "metadata": {},
   "source": [
    "### Выводы"
   ]
  },
  {
   "cell_type": "markdown",
   "metadata": {},
   "source": [
    "* Датасет имеет стандартный разделитель, данные читаются успешно.\n",
    "* Столбцы записаны латиницей, имею \"змеинную нотацию\", заглавные буквы в названиях были заменены на строчные.\n",
    "* Датасет имеет 4 тыс записей. Все колонки имеют числовой тип. Все колонки заполнены польность, без пропусков. В датасете отсутсвуют полные дубликаты. Можно сразу проверять количественные характеристики.\n",
    "* Многие стобцы по сути должны иметь логический тип и котигориальную природу, но для дальнейших вычислений лучше оставить как есть.\n",
    "\n",
    "В среднем: \n",
    "* данные равномерно распределены по полу\n",
    "* 84% клиентов находятся в ближайших локациях\n",
    "* почти половина - 48% это сотрудники партнеров клуба\n",
    "* 30% пришли по акции \"приведи друга\"\n",
    "* 90% клиентов оставляют свой телефон\n",
    "* средний период контракта по всей выборке 4.68 месяцев\n",
    "* 41% клиентов посещают групповые занятия\n",
    "* средний возраст 29 лет, при этом стандартное отклонение всего 3.25\n",
    "* средняя сумма дополнительных услуг 146\n",
    "* средний срок до окончания текущего договора 4.3 месяца\n",
    "* среднее время с момента первого контакта 3.7 месяцев\n",
    "* средняя частота посещений в неделю 1.87 \n",
    "* средняя средняя частота посещений в неделю за предыдущий месяц 1.76\n",
    "* средний факт оттока в текущем месяце 0.26\n",
    "\n",
    "Стандартное отклонение почти у всех факторов сравнимо или почти равно со средним значением, что может говорить о равномерном распеределении большинства параметров.\n",
    "\n",
    "Отличие средних показателей в группе оставшихся и ушедших клиентов:\n",
    "* доля мужчин и женщин в обеих группах одинаковая\n",
    "* нахождение в ближайшей локации в группе ушедших немного ниже: 77% вместо 87%\n",
    "* среди ушедших доля сотрудников партнеров гораздо меньше: 35% вместо 53%\n",
    "* среди ушедших доля клиентов пришедших по акции \"приведи друга\" почти в два раза ниже: 18% и 35%\n",
    "* доля оставивших контактный телефон одинаковая в обеих группах\n",
    "* продолжительность текущего контракта в группе ушедших в среднем в три раза меньше, чем у оставшихся: 1.72 против 5.74\n",
    "* доля посещавших групповые занятия у ушедших заметно меньше: 26% против 46%\n",
    "* ушедшие клиенты в среднем немного моложе оставшихся: 27 лет против 30\n",
    "* оставшиеся клиенты примерно на 25% больше расходуют на дополнительные услуги: 158.44 против 115.08\n",
    "* количество месяцев до окончания контракта у ушедших почти в три раза меньше, чем у оставшихся: 1.66 вместо 5.28\n",
    "* время прошедшее с первого контакта у ушедших практически в пять раз меньше, чем у оставшихся: 0.99 вместо 4.71\n",
    "* количество посещений в неделю у ушедших почти на четверть меньше, чем у оставшихся: 1.47 и 2.02\n",
    "* количество посещений в неделю в текущий месяц у ушедших падает до 1, а у оставшихся остается около 2 раз в неделю\n",
    "\n",
    " Предварительно можно сделать предположение, что пол, возраст, локация и указание мобильного телефона не оказывает серьезного влияния на отток, а вот продолжительность текущего контракта, количество месяцев до окончания текущего контракта и общее время с первого контакта существенно влияют на отток. \n",
    " Наиболее \"опасным\" пока видится время после первого месяца занятий у группы с короткими текущими контрактами.\n",
    " \n",
    "Взаимозависимости и корреляция:\n",
    "* Пол и наличие телефона практически ника не связаня с параметром оттока и с другими параметрами. С учётом предыдущих выводов, их можно удалить из датасета.\n",
    "* Количество месяцев до окончания контракта и количество месяцев в текущем контракте практически имеют прямую функциональную зависимость. Можно учесть, что 80% оттока имеют контракты на 1 месяц и они попадают в группу оттока \"1 месяц до окончания контракта\".\n",
    "* Такая же зависимость есть у средней посещаемости в неделю вообще и в текущем месяце.\n",
    "* Учитывая, что мы прогнозируем отток на следующий месяц наиболее важными показателями будут срок до конца текущего контракта и частота посещений в неделю за последний месяц, дублирующие показатели удалим из датасета."
   ]
  },
  {
   "cell_type": "markdown",
   "metadata": {},
   "source": [
    "## Модель прогнозирования оттока клиентов"
   ]
  },
  {
   "cell_type": "code",
   "execution_count": 12,
   "metadata": {},
   "outputs": [],
   "source": [
    "#Импортируем библиотеки для машинного обучения\n",
    "#Библиотеки подготовки данных\n",
    "from sklearn.preprocessing import StandardScaler\n",
    "from sklearn.model_selection import train_test_split\n",
    "\n",
    "#Модели\n",
    "from sklearn.linear_model import LogisticRegression\n",
    "from sklearn.ensemble import RandomForestClassifier\n",
    "\n",
    "#Метрики\n",
    "from sklearn.metrics import accuracy_score, precision_score, recall_score"
   ]
  },
  {
   "cell_type": "markdown",
   "metadata": {},
   "source": [
    "### Подготовка данных к обучению"
   ]
  },
  {
   "cell_type": "code",
   "execution_count": 13,
   "metadata": {},
   "outputs": [],
   "source": [
    "#Разделим выборку на признаки и целевой показатель\n",
    "X = df.drop('churn', axis=1)\n",
    "y = df['churn']"
   ]
  },
  {
   "cell_type": "code",
   "execution_count": 14,
   "metadata": {},
   "outputs": [],
   "source": [
    "#Разобрьем выборку на учебную и валидационную. \n",
    "#Зададим параметр random_state=0 для сравнения результатов с другими работами\n",
    "X_train, X_test, y_train, y_test = train_test_split(X, y, test_size=0.2, random_state=0)"
   ]
  },
  {
   "cell_type": "code",
   "execution_count": 15,
   "metadata": {},
   "outputs": [],
   "source": [
    "#Стандартизируем данные в выборке\n",
    "scaler = StandardScaler()\n",
    "X_train_st = scaler.fit_transform(X_train)\n",
    "X_test_st = scaler.transform(X_test)"
   ]
  },
  {
   "cell_type": "markdown",
   "metadata": {},
   "source": [
    "### Модель логистической регрессии"
   ]
  },
  {
   "cell_type": "code",
   "execution_count": 16,
   "metadata": {},
   "outputs": [
    {
     "data": {
      "text/plain": [
       "LogisticRegression(random_state=0, solver='liblinear')"
      ]
     },
     "execution_count": 16,
     "metadata": {},
     "output_type": "execute_result"
    }
   ],
   "source": [
    "#Обучение модели логистической регрессии\n",
    "model_LR = LogisticRegression(solver='liblinear', random_state=0)\n",
    "model_LR.fit(X_train_st, y_train)"
   ]
  },
  {
   "cell_type": "code",
   "execution_count": 17,
   "metadata": {
    "scrolled": true
   },
   "outputs": [
    {
     "data": {
      "text/plain": [
       "array([0, 1, 1, 1, 0, 0, 0, 0, 1, 0, 0, 0, 0, 0, 0, 0, 0, 0, 1, 0, 1, 0,\n",
       "       0, 0, 0, 1, 0, 0, 0, 0, 0, 0, 0, 0, 0, 0, 0, 0, 0, 0, 0, 0, 0, 0,\n",
       "       0, 1, 0, 0, 1, 1, 1, 0, 0, 0, 0, 1, 0, 0, 0, 0, 1, 1, 0, 0, 0, 0,\n",
       "       0, 0, 0, 0, 0, 0, 0, 0, 0, 0, 1, 1, 1, 0, 1, 0, 0, 0, 0, 1, 1, 0,\n",
       "       0, 0, 0, 0, 1, 0, 0, 0, 0, 0, 0, 1, 0, 1, 1, 0, 0, 0, 0, 0, 1, 0,\n",
       "       0, 0, 1, 1, 0, 0, 0, 1, 0, 0, 0, 0, 0, 0, 1, 0, 0, 0, 1, 0, 1, 0,\n",
       "       1, 0, 0, 1, 0, 0, 1, 1, 1, 1, 0, 1, 0, 1, 1, 1, 0, 0, 0, 1, 1, 0,\n",
       "       0, 1, 0, 1, 0, 1, 0, 0, 0, 1, 0, 0, 1, 0, 0, 1, 0, 0, 1, 0, 0, 0,\n",
       "       0, 0, 1, 0, 1, 1, 1, 0, 0, 1, 0, 0, 0, 0, 0, 0, 0, 0, 1, 0, 0, 0,\n",
       "       1, 0, 0, 0, 0, 0, 0, 0, 1, 0, 0, 0, 0, 0, 0, 0, 0, 0, 0, 0, 0, 0,\n",
       "       1, 0, 0, 0, 1, 1, 0, 0, 0, 0, 0, 0, 0, 0, 0, 0, 0, 0, 1, 0, 0, 0,\n",
       "       1, 0, 0, 0, 0, 0, 0, 0, 0, 0, 0, 0, 0, 0, 0, 1, 1, 0, 0, 0, 0, 0,\n",
       "       1, 1, 0, 0, 1, 0, 0, 1, 0, 0, 0, 0, 0, 1, 1, 0, 0, 0, 0, 0, 0, 0,\n",
       "       0, 0, 0, 0, 1, 0, 0, 0, 1, 1, 0, 0, 0, 0, 1, 0, 0, 1, 0, 0, 0, 0,\n",
       "       0, 0, 0, 0, 0, 0, 0, 0, 0, 0, 0, 0, 0, 0, 0, 0, 0, 1, 0, 0, 0, 0,\n",
       "       0, 0, 0, 0, 0, 1, 0, 1, 0, 1, 1, 0, 1, 0, 0, 0, 0, 0, 0, 0, 0, 0,\n",
       "       0, 0, 1, 0, 0, 1, 0, 1, 1, 1, 0, 1, 0, 1, 1, 0, 0, 0, 1, 0, 0, 1,\n",
       "       0, 1, 1, 1, 0, 0, 1, 1, 0, 0, 0, 0, 1, 0, 0, 0, 0, 0, 1, 0, 1, 0,\n",
       "       1, 0, 0, 0, 0, 0, 1, 0, 1, 0, 0, 0, 0, 0, 0, 0, 0, 0, 0, 0, 0, 0,\n",
       "       1, 0, 0, 0, 0, 0, 1, 0, 0, 1, 1, 0, 0, 0, 0, 1, 1, 0, 0, 1, 1, 0,\n",
       "       0, 0, 0, 0, 0, 0, 0, 1, 0, 0, 1, 0, 0, 0, 0, 1, 0, 0, 1, 0, 0, 0,\n",
       "       0, 1, 0, 0, 0, 0, 0, 1, 1, 0, 0, 0, 0, 0, 0, 1, 0, 1, 1, 0, 0, 0,\n",
       "       1, 0, 0, 0, 1, 1, 0, 0, 0, 0, 0, 0, 0, 0, 0, 0, 0, 0, 0, 0, 0, 0,\n",
       "       0, 1, 0, 0, 0, 0, 0, 0, 0, 0, 0, 0, 0, 1, 1, 0, 0, 1, 0, 0, 0, 0,\n",
       "       0, 0, 1, 0, 1, 0, 0, 0, 0, 1, 0, 1, 0, 1, 0, 0, 0, 0, 0, 1, 0, 1,\n",
       "       1, 0, 0, 0, 0, 1, 0, 0, 1, 0, 0, 0, 0, 1, 0, 0, 0, 0, 0, 1, 1, 1,\n",
       "       0, 0, 0, 1, 0, 0, 0, 0, 1, 0, 0, 0, 0, 0, 0, 1, 1, 1, 0, 1, 0, 0,\n",
       "       0, 0, 0, 0, 0, 0, 0, 0, 1, 1, 0, 1, 0, 1, 0, 0, 0, 1, 0, 0, 0, 1,\n",
       "       1, 1, 1, 0, 0, 1, 0, 0, 1, 0, 0, 0, 0, 0, 0, 0, 0, 0, 0, 0, 0, 1,\n",
       "       0, 0, 1, 1, 0, 0, 0, 0, 0, 1, 0, 0, 0, 1, 0, 0, 1, 0, 1, 0, 1, 1,\n",
       "       1, 0, 0, 0, 0, 0, 1, 0, 1, 0, 0, 0, 0, 0, 0, 0, 0, 0, 0, 0, 0, 0,\n",
       "       0, 0, 0, 1, 0, 0, 0, 0, 0, 1, 0, 0, 1, 0, 0, 0, 0, 1, 0, 0, 0, 0,\n",
       "       0, 0, 0, 0, 0, 1, 0, 0, 0, 0, 0, 0, 0, 1, 0, 0, 0, 0, 0, 0, 0, 1,\n",
       "       0, 0, 0, 1, 1, 1, 0, 0, 0, 0, 0, 1, 1, 1, 0, 0, 0, 0, 0, 0, 0, 0,\n",
       "       0, 0, 1, 1, 1, 1, 0, 0, 0, 0, 0, 0, 1, 0, 0, 0, 0, 0, 0, 1, 0, 0,\n",
       "       0, 0, 0, 0, 1, 1, 0, 1, 1, 0, 1, 0, 1, 1, 0, 1, 0, 0, 0, 0, 1, 1,\n",
       "       0, 1, 0, 1, 0, 0, 0, 0])"
      ]
     },
     "execution_count": 17,
     "metadata": {},
     "output_type": "execute_result"
    }
   ],
   "source": [
    "#Прогноз\n",
    "predictions_LR = model_LR.predict(X_test_st)\n",
    "predictions_LR"
   ]
  },
  {
   "cell_type": "markdown",
   "metadata": {},
   "source": [
    "### Модель случайный лес"
   ]
  },
  {
   "cell_type": "code",
   "execution_count": 18,
   "metadata": {
    "scrolled": true
   },
   "outputs": [
    {
     "data": {
      "text/plain": [
       "RandomForestClassifier(n_estimators=1000, random_state=0)"
      ]
     },
     "execution_count": 18,
     "metadata": {},
     "output_type": "execute_result"
    }
   ],
   "source": [
    "#Обучаем модель Случайный лес, ограничим число деревьев до 100\n",
    "model_RF = RandomForestClassifier(n_estimators = 1000, random_state = 0)\n",
    "model_RF.fit(X_train_st, y_train)"
   ]
  },
  {
   "cell_type": "code",
   "execution_count": 19,
   "metadata": {
    "scrolled": true
   },
   "outputs": [
    {
     "data": {
      "text/plain": [
       "array([0, 1, 0, 1, 0, 0, 0, 0, 1, 0, 0, 1, 0, 0, 0, 1, 0, 0, 1, 0, 0, 0,\n",
       "       0, 0, 0, 1, 0, 0, 0, 0, 0, 0, 0, 0, 0, 0, 0, 0, 0, 0, 0, 0, 0, 0,\n",
       "       0, 1, 0, 0, 1, 1, 1, 0, 0, 0, 0, 1, 0, 0, 0, 0, 1, 1, 0, 0, 0, 0,\n",
       "       0, 0, 0, 0, 0, 0, 0, 0, 0, 0, 1, 0, 1, 0, 1, 0, 0, 0, 0, 1, 1, 0,\n",
       "       0, 0, 0, 0, 1, 0, 0, 0, 0, 0, 0, 1, 0, 1, 1, 0, 0, 0, 0, 0, 1, 0,\n",
       "       0, 0, 1, 0, 1, 0, 0, 1, 0, 0, 0, 0, 0, 0, 1, 0, 0, 0, 1, 0, 1, 0,\n",
       "       1, 0, 0, 0, 0, 0, 1, 1, 1, 1, 0, 1, 0, 1, 1, 1, 0, 0, 0, 1, 1, 0,\n",
       "       0, 1, 0, 1, 0, 1, 0, 0, 0, 1, 0, 0, 1, 0, 0, 1, 0, 0, 1, 0, 0, 0,\n",
       "       0, 0, 0, 0, 1, 1, 1, 0, 0, 1, 0, 0, 0, 0, 0, 0, 0, 0, 1, 0, 0, 0,\n",
       "       1, 0, 0, 0, 0, 0, 0, 0, 1, 0, 0, 0, 0, 0, 0, 0, 1, 0, 0, 0, 0, 0,\n",
       "       1, 0, 0, 0, 1, 1, 0, 0, 0, 0, 0, 0, 0, 0, 0, 0, 0, 0, 0, 0, 0, 0,\n",
       "       1, 0, 0, 0, 0, 0, 0, 0, 0, 0, 0, 0, 0, 0, 0, 1, 1, 0, 0, 0, 0, 0,\n",
       "       1, 1, 0, 0, 1, 0, 0, 1, 0, 0, 0, 0, 0, 1, 1, 0, 0, 0, 0, 0, 0, 0,\n",
       "       0, 0, 0, 0, 1, 0, 0, 0, 1, 1, 0, 0, 0, 0, 1, 0, 0, 1, 0, 0, 0, 0,\n",
       "       0, 0, 0, 0, 0, 0, 0, 0, 0, 0, 0, 0, 0, 1, 0, 0, 0, 1, 0, 0, 0, 0,\n",
       "       0, 0, 0, 0, 0, 1, 0, 1, 0, 1, 1, 0, 1, 0, 0, 0, 0, 0, 0, 0, 0, 0,\n",
       "       0, 0, 1, 0, 0, 1, 0, 0, 1, 1, 0, 1, 0, 1, 1, 0, 0, 0, 1, 0, 0, 1,\n",
       "       0, 1, 1, 1, 0, 0, 0, 1, 0, 0, 0, 0, 1, 0, 0, 0, 0, 0, 1, 0, 1, 0,\n",
       "       1, 0, 0, 0, 0, 0, 1, 0, 1, 0, 0, 0, 0, 0, 0, 0, 0, 0, 0, 0, 0, 0,\n",
       "       1, 0, 0, 0, 0, 0, 1, 0, 1, 1, 0, 0, 0, 0, 0, 1, 1, 0, 0, 0, 1, 0,\n",
       "       0, 0, 0, 0, 0, 0, 0, 1, 0, 0, 1, 0, 0, 1, 0, 1, 0, 0, 1, 0, 0, 0,\n",
       "       0, 1, 0, 0, 0, 0, 0, 1, 1, 0, 0, 0, 0, 1, 0, 1, 0, 1, 1, 0, 0, 0,\n",
       "       1, 0, 0, 0, 0, 1, 0, 0, 0, 0, 0, 0, 0, 0, 0, 0, 0, 0, 0, 0, 0, 0,\n",
       "       0, 1, 0, 0, 0, 0, 0, 0, 0, 0, 1, 0, 0, 1, 1, 0, 0, 0, 0, 0, 0, 0,\n",
       "       0, 0, 1, 0, 1, 0, 0, 0, 0, 1, 0, 1, 0, 1, 0, 0, 0, 0, 0, 1, 0, 1,\n",
       "       1, 0, 0, 0, 0, 0, 0, 0, 1, 0, 0, 0, 0, 1, 0, 0, 0, 0, 0, 0, 1, 1,\n",
       "       0, 0, 0, 1, 0, 0, 0, 0, 1, 0, 0, 0, 0, 0, 0, 1, 0, 0, 0, 0, 0, 0,\n",
       "       0, 0, 0, 0, 0, 0, 0, 0, 0, 1, 0, 1, 0, 1, 0, 0, 0, 1, 0, 0, 0, 1,\n",
       "       1, 1, 0, 0, 0, 0, 0, 0, 1, 0, 0, 0, 0, 0, 0, 0, 0, 0, 0, 0, 0, 1,\n",
       "       0, 0, 0, 1, 0, 0, 0, 0, 0, 1, 0, 0, 0, 1, 0, 0, 1, 0, 1, 0, 1, 1,\n",
       "       1, 0, 0, 0, 0, 0, 1, 0, 1, 0, 0, 0, 0, 0, 0, 0, 0, 0, 0, 0, 0, 0,\n",
       "       0, 0, 0, 1, 0, 0, 0, 0, 0, 1, 0, 0, 1, 0, 0, 0, 0, 1, 0, 0, 0, 0,\n",
       "       0, 0, 0, 0, 0, 0, 0, 0, 1, 0, 0, 0, 0, 1, 0, 0, 0, 0, 0, 0, 0, 1,\n",
       "       0, 0, 0, 1, 0, 1, 0, 0, 0, 0, 0, 1, 1, 1, 0, 0, 0, 0, 0, 0, 0, 0,\n",
       "       0, 0, 1, 1, 1, 1, 0, 0, 0, 0, 0, 0, 1, 1, 0, 0, 0, 0, 0, 1, 0, 0,\n",
       "       0, 0, 0, 0, 1, 1, 0, 1, 1, 0, 1, 0, 1, 1, 0, 1, 0, 0, 0, 0, 1, 1,\n",
       "       0, 1, 0, 1, 0, 0, 0, 0])"
      ]
     },
     "execution_count": 19,
     "metadata": {},
     "output_type": "execute_result"
    }
   ],
   "source": [
    "#Прогноз\n",
    "predictions_RF = model_RF.predict(X_test_st)\n",
    "predictions_RF"
   ]
  },
  {
   "cell_type": "markdown",
   "metadata": {},
   "source": [
    "### Сравнение моделей"
   ]
  },
  {
   "cell_type": "code",
   "execution_count": 20,
   "metadata": {},
   "outputs": [],
   "source": [
    "#Функция для печати метрик оценки модели\n",
    "def print_all_metrics(y_true, y_pred, title='Метрики классификации'):\n",
    "    print(title)\n",
    "    print('\\tAccuracy: {:.2f}'.format(accuracy_score(y_true, y_pred)))\n",
    "    print('\\tPrecision: {:.2f}'.format(precision_score(y_true, y_pred)))\n",
    "    print('\\tRecall: {:.2f}'.format(recall_score(y_true, y_pred)))"
   ]
  },
  {
   "cell_type": "code",
   "execution_count": 21,
   "metadata": {},
   "outputs": [
    {
     "name": "stdout",
     "output_type": "stream",
     "text": [
      "Метрики для модели логистической регрессии:\n",
      "\tAccuracy: 0.90\n",
      "\tPrecision: 0.80\n",
      "\tRecall: 0.81\n"
     ]
    }
   ],
   "source": [
    "#Метрики логистической регрессии\n",
    "print_all_metrics(y_test, predictions_LR, title='Метрики для модели логистической регрессии:')"
   ]
  },
  {
   "cell_type": "code",
   "execution_count": 22,
   "metadata": {
    "scrolled": true
   },
   "outputs": [
    {
     "name": "stdout",
     "output_type": "stream",
     "text": [
      "Метрики для модели случайный лес:\n",
      "\tAccuracy: 0.90\n",
      "\tPrecision: 0.80\n",
      "\tRecall: 0.77\n"
     ]
    }
   ],
   "source": [
    "#Метрики модели случайный лес\n",
    "print_all_metrics(y_test, predictions_RF, title='Метрики для модели случайный лес:')"
   ]
  },
  {
   "cell_type": "markdown",
   "metadata": {},
   "source": [
    "* Доля правильных ответов (Accuracy) совпадает у обеих моделей, т.к. класс оттока всего 26% от всей выборки то этот показатель может не отражать качество модели.\n",
    "* Доля правильных ответов только среди \"оттока\" (точность - precision) у обеих моделей почти одинаковая 80% у логистической регрессии и 81% у случайного леса.\n",
    "* Доля обнаруженных реальных \"оттоков\" (полнота - recall) у логистической регрессии лучше, чем у случайного леса: 81% против 77%\n",
    "\n",
    "В целом лучше выбрать модель логистической регрессии, т.к. важнее провести маркетинговые мероприятия для удержания тех кто готовится уйти и продлить lifetime."
   ]
  },
  {
   "cell_type": "markdown",
   "metadata": {},
   "source": [
    "#### Дополнительно. Влияние факторов."
   ]
  },
  {
   "cell_type": "code",
   "execution_count": 23,
   "metadata": {},
   "outputs": [
    {
     "data": {
      "text/plain": [
       "array([[-0.08672624, -0.0748765 , -0.2365069 , -0.37259344, -1.08959213,\n",
       "        -0.57074155, -1.29709287, -3.79572753, -1.31350358]])"
      ]
     },
     "execution_count": 23,
     "metadata": {},
     "output_type": "execute_result"
    }
   ],
   "source": [
    "#Проверим какие параметры у модели логистической регрессии\n",
    "model_LR.coef_"
   ]
  },
  {
   "cell_type": "code",
   "execution_count": 24,
   "metadata": {},
   "outputs": [
    {
     "data": {
      "text/plain": [
       "Index(['near_location', 'partner', 'promo_friends', 'group_visits', 'age',\n",
       "       'avg_additional_charges_total', 'month_to_end_contract', 'lifetime',\n",
       "       'avg_class_frequency_current_month'],\n",
       "      dtype='object')"
      ]
     },
     "execution_count": 24,
     "metadata": {},
     "output_type": "execute_result"
    }
   ],
   "source": [
    "df.drop('churn', axis=1).columns"
   ]
  },
  {
   "cell_type": "markdown",
   "metadata": {},
   "source": [
    "Т.к. мы обучали модель на стандартизированных данных, то можно сравнить степень влияния параметров на конечный прогноз. Все коэфициенты модели логистической регресси имеют знак минус, что говорит об обратной зависимости признака и принадлежности клиента к классу \"отток\", чем больше значение параметра, тем менее вероятна принадлежность клиента к классу \"отток\". \n",
    "* Наибольшее значечение имеет параметр lifetime, чем он выше, тем менее вероятен отток, коэфициент этого параметр почти в три раза больше следующего по модулю параметра. \n",
    "* Далее по значимости идут сразу два параметра имеющие практически одинаковые значения коэфициентов, это частота посещения в неделю за текущий месяц и количество месяцев до окончания контракта, чем они больше, тем менее вероятен отток.\n",
    "* Последний из заметных и выжных параметров - возраст, чем он выше тем менее вероятен отток."
   ]
  },
  {
   "cell_type": "markdown",
   "metadata": {},
   "source": [
    "### Выводы"
   ]
  },
  {
   "cell_type": "markdown",
   "metadata": {},
   "source": [
    "* Доля правильных ответов (Accuracy) совпадает у обеих моделей, т.к. класс оттока всего 26% от всей выборки то этот показатель может не отражать качество модели.\n",
    "* Доля правильных ответов только среди \"оттока\" (точность - precision) у обеих моделей почти одинаковая 80% у логистической регрессии и 81% у случайного леса.\n",
    "* Доля обнаруженных реальных \"оттоков\" (полнота - recall) у логистической регрессии лучше, чем у случайного леса: 81% против 77%\n",
    "\n",
    "В целом лучше выбрать модель логистической регрессии, т.к. важнее провести маркетинговые мероприятия для удержания тех кто готовится уйти и продлить lifetime.\n",
    "\n",
    "Т.к. мы обучали модель на стандартизированных данных, то можно сравнить степень влияния параметров на конечный прогноз. Все коэфициенты модели логистической регресси имеют знак минус, что говорит об обратной зависимости признака и принадлежности клиента к классу \"отток\", чем больше значение параметра, тем менее вероятна принадлежность клиента к классу \"отток\". \n",
    "* Наибольшее значечение имеет параметр lifetime, чем он выше, тем менее вероятен отток, коэфициент этого параметр почти в три раза больше следующего по модулю параметра. \n",
    "* Далее по значимости идут сразу два параметра имеющие практически одинаковые значения коэфициентов, это частота посещения в неделю за текущий месяц и количество месяцев до окончания контракта, чем они больше, тем менее вероятен отток.\n",
    "* Последний из заметных и выжных параметров - возраст, чем он выше тем менее вероятен отток."
   ]
  },
  {
   "cell_type": "markdown",
   "metadata": {},
   "source": [
    "## Кластеризация клиентов"
   ]
  },
  {
   "cell_type": "markdown",
   "metadata": {},
   "source": [
    "### Подготовка данных"
   ]
  },
  {
   "cell_type": "code",
   "execution_count": 25,
   "metadata": {},
   "outputs": [],
   "source": [
    "#Методы постройки матрицы расстояний и дендрограммы\n",
    "from scipy.cluster.hierarchy import dendrogram, linkage\n",
    "\n",
    "#Модель кластеризации с заданным числом кластеров\n",
    "from sklearn.cluster import KMeans"
   ]
  },
  {
   "cell_type": "code",
   "execution_count": 26,
   "metadata": {},
   "outputs": [],
   "source": [
    "#Стандартизируем матрицу признаков\n",
    "scaler = StandardScaler() \n",
    "X_sc = scaler.fit_transform(df.drop('churn', axis=1))"
   ]
  },
  {
   "cell_type": "markdown",
   "metadata": {},
   "source": [
    "### Матрица расстояний и дендрограмма"
   ]
  },
  {
   "cell_type": "code",
   "execution_count": 27,
   "metadata": {},
   "outputs": [],
   "source": [
    "#Строим матрицу расстояний\n",
    "linked = linkage(X_sc, method = 'ward') "
   ]
  },
  {
   "cell_type": "code",
   "execution_count": 28,
   "metadata": {
    "scrolled": false
   },
   "outputs": [
    {
     "data": {
      "image/png": "[encoded data removed]",
      "text/plain": [
       "<Figure size 1080x720 with 1 Axes>"
      ]
     },
     "metadata": {
      "needs_background": "light"
     },
     "output_type": "display_data"
    }
   ],
   "source": [
    "#Строим дендрограмму\n",
    "plt.figure(figsize=(15, 10))  \n",
    "dendrogram(linked, orientation='top')\n",
    "plt.title('Иерархическая кластеризация клиентов фитнес-клуба «Культурист-датасаентист»')\n",
    "plt.show() "
   ]
  },
  {
   "cell_type": "markdown",
   "metadata": {},
   "source": [
    "На основании дендрограммы можно выделить три кластера клиентов фитнес-клуба «Культурист-датасаентист»"
   ]
  },
  {
   "cell_type": "markdown",
   "metadata": {},
   "source": [
    "### Кластеризация клиентов с помощью алгоритма KMeans"
   ]
  },
  {
   "cell_type": "code",
   "execution_count": 29,
   "metadata": {},
   "outputs": [],
   "source": [
    "#Задаем модель с заданым числом кластеров и параметром random_state=0 для сравнения результатов\n",
    "km = KMeans(n_clusters=5, random_state=0)"
   ]
  },
  {
   "cell_type": "code",
   "execution_count": 30,
   "metadata": {},
   "outputs": [
    {
     "data": {
      "text/plain": [
       "array([0, 2, 1, ..., 0, 0, 3], dtype=int32)"
      ]
     },
     "execution_count": 30,
     "metadata": {},
     "output_type": "execute_result"
    }
   ],
   "source": [
    "#Приписываем каждому потребителю номер одного из 5 кластеров.\n",
    "labels = km.fit_predict(X_sc)\n",
    "labels"
   ]
  },
  {
   "cell_type": "code",
   "execution_count": 31,
   "metadata": {},
   "outputs": [
    {
     "data": {
      "text/plain": [
       "4000"
      ]
     },
     "execution_count": 31,
     "metadata": {},
     "output_type": "execute_result"
    }
   ],
   "source": [
    "len(labels)"
   ]
  },
  {
   "cell_type": "markdown",
   "metadata": {},
   "source": [
    "### Характеристики кластеров"
   ]
  },
  {
   "cell_type": "code",
   "execution_count": 32,
   "metadata": {
    "scrolled": true
   },
   "outputs": [
    {
     "data": {
      "text/html": [
       "<div>\n",
       "<style scoped>\n",
       "    .dataframe tbody tr th:only-of-type {\n",
       "        vertical-align: middle;\n",
       "    }\n",
       "\n",
       "    .dataframe tbody tr th {\n",
       "        vertical-align: top;\n",
       "    }\n",
       "\n",
       "    .dataframe thead th {\n",
       "        text-align: right;\n",
       "    }\n",
       "</style>\n",
       "<table border=\"1\" class=\"dataframe\">\n",
       "  <thead>\n",
       "    <tr style=\"text-align: right;\">\n",
       "      <th></th>\n",
       "      <th>near_location</th>\n",
       "      <th>partner</th>\n",
       "      <th>promo_friends</th>\n",
       "      <th>group_visits</th>\n",
       "      <th>age</th>\n",
       "      <th>avg_additional_charges_total</th>\n",
       "      <th>month_to_end_contract</th>\n",
       "      <th>lifetime</th>\n",
       "      <th>avg_class_frequency_current_month</th>\n",
       "      <th>churn</th>\n",
       "      <th>class</th>\n",
       "    </tr>\n",
       "  </thead>\n",
       "  <tbody>\n",
       "    <tr>\n",
       "      <th>0</th>\n",
       "      <td>1</td>\n",
       "      <td>1</td>\n",
       "      <td>1</td>\n",
       "      <td>1</td>\n",
       "      <td>29</td>\n",
       "      <td>14.227470</td>\n",
       "      <td>5.0</td>\n",
       "      <td>3</td>\n",
       "      <td>0.000000</td>\n",
       "      <td>0</td>\n",
       "      <td>0</td>\n",
       "    </tr>\n",
       "    <tr>\n",
       "      <th>1</th>\n",
       "      <td>1</td>\n",
       "      <td>0</td>\n",
       "      <td>0</td>\n",
       "      <td>1</td>\n",
       "      <td>31</td>\n",
       "      <td>113.202938</td>\n",
       "      <td>12.0</td>\n",
       "      <td>7</td>\n",
       "      <td>1.910244</td>\n",
       "      <td>0</td>\n",
       "      <td>2</td>\n",
       "    </tr>\n",
       "    <tr>\n",
       "      <th>2</th>\n",
       "      <td>1</td>\n",
       "      <td>1</td>\n",
       "      <td>0</td>\n",
       "      <td>0</td>\n",
       "      <td>28</td>\n",
       "      <td>129.448479</td>\n",
       "      <td>1.0</td>\n",
       "      <td>2</td>\n",
       "      <td>1.736502</td>\n",
       "      <td>0</td>\n",
       "      <td>1</td>\n",
       "    </tr>\n",
       "    <tr>\n",
       "      <th>3</th>\n",
       "      <td>1</td>\n",
       "      <td>1</td>\n",
       "      <td>1</td>\n",
       "      <td>1</td>\n",
       "      <td>33</td>\n",
       "      <td>62.669863</td>\n",
       "      <td>12.0</td>\n",
       "      <td>2</td>\n",
       "      <td>3.357215</td>\n",
       "      <td>0</td>\n",
       "      <td>0</td>\n",
       "    </tr>\n",
       "    <tr>\n",
       "      <th>4</th>\n",
       "      <td>1</td>\n",
       "      <td>1</td>\n",
       "      <td>1</td>\n",
       "      <td>0</td>\n",
       "      <td>26</td>\n",
       "      <td>198.362265</td>\n",
       "      <td>1.0</td>\n",
       "      <td>3</td>\n",
       "      <td>1.120078</td>\n",
       "      <td>0</td>\n",
       "      <td>0</td>\n",
       "    </tr>\n",
       "  </tbody>\n",
       "</table>\n",
       "</div>"
      ],
      "text/plain": [
       "   near_location  partner  promo_friends  group_visits  age  \\\n",
       "0              1        1              1             1   29   \n",
       "1              1        0              0             1   31   \n",
       "2              1        1              0             0   28   \n",
       "3              1        1              1             1   33   \n",
       "4              1        1              1             0   26   \n",
       "\n",
       "   avg_additional_charges_total  month_to_end_contract  lifetime  \\\n",
       "0                     14.227470                    5.0         3   \n",
       "1                    113.202938                   12.0         7   \n",
       "2                    129.448479                    1.0         2   \n",
       "3                     62.669863                   12.0         2   \n",
       "4                    198.362265                    1.0         3   \n",
       "\n",
       "   avg_class_frequency_current_month  churn  class  \n",
       "0                           0.000000      0      0  \n",
       "1                           1.910244      0      2  \n",
       "2                           1.736502      0      1  \n",
       "3                           3.357215      0      0  \n",
       "4                           1.120078      0      0  "
      ]
     },
     "execution_count": 32,
     "metadata": {},
     "output_type": "execute_result"
    }
   ],
   "source": [
    "# Присоединим метки кластеров к исходной матрице датасета\n",
    "df = df.join(pd.Series(labels, name='class'))\n",
    "df.head()"
   ]
  },
  {
   "cell_type": "code",
   "execution_count": 33,
   "metadata": {
    "scrolled": true
   },
   "outputs": [
    {
     "name": "stdout",
     "output_type": "stream",
     "text": [
      "       count  percent\n",
      "class                \n",
      "0        990  0.24750\n",
      "1        805  0.20125\n",
      "2        838  0.20950\n",
      "3        612  0.15300\n",
      "4        755  0.18875\n"
     ]
    },
    {
     "data": {
      "image/png": "[encoded data removed]",
      "text/plain": [
       "<Figure size 432x288 with 1 Axes>"
      ]
     },
     "metadata": {},
     "output_type": "display_data"
    }
   ],
   "source": [
    "#Посмотрим на количество клиентов в каждом кластере\n",
    "classes = df.groupby('class')['churn'].count()\n",
    "classes = pd.DataFrame(classes)\n",
    "classes['percent'] = classes['churn'] /  classes['churn'].sum()\n",
    "print(classes.set_axis(['count', 'percent'], axis=1))\n",
    "classes['churn'].plot(kind='pie')\n",
    "plt.show()"
   ]
  },
  {
   "cell_type": "markdown",
   "metadata": {},
   "source": [
    "Каждый кластер хорошо наполнен, минимум 612, максимум 990"
   ]
  },
  {
   "cell_type": "code",
   "execution_count": 34,
   "metadata": {},
   "outputs": [
    {
     "data": {
      "text/html": [
       "<div>\n",
       "<style scoped>\n",
       "    .dataframe tbody tr th:only-of-type {\n",
       "        vertical-align: middle;\n",
       "    }\n",
       "\n",
       "    .dataframe tbody tr th {\n",
       "        vertical-align: top;\n",
       "    }\n",
       "\n",
       "    .dataframe thead th {\n",
       "        text-align: right;\n",
       "    }\n",
       "</style>\n",
       "<table border=\"1\" class=\"dataframe\">\n",
       "  <thead>\n",
       "    <tr style=\"text-align: right;\">\n",
       "      <th></th>\n",
       "      <th>near_location</th>\n",
       "      <th>partner</th>\n",
       "      <th>promo_friends</th>\n",
       "      <th>group_visits</th>\n",
       "      <th>age</th>\n",
       "      <th>avg_additional_charges_total</th>\n",
       "      <th>month_to_end_contract</th>\n",
       "      <th>lifetime</th>\n",
       "      <th>avg_class_frequency_current_month</th>\n",
       "      <th>churn</th>\n",
       "    </tr>\n",
       "    <tr>\n",
       "      <th>class</th>\n",
       "      <th></th>\n",
       "      <th></th>\n",
       "      <th></th>\n",
       "      <th></th>\n",
       "      <th></th>\n",
       "      <th></th>\n",
       "      <th></th>\n",
       "      <th></th>\n",
       "      <th></th>\n",
       "      <th></th>\n",
       "    </tr>\n",
       "  </thead>\n",
       "  <tbody>\n",
       "    <tr>\n",
       "      <th>0</th>\n",
       "      <td>0.994949</td>\n",
       "      <td>0.954545</td>\n",
       "      <td>1.000000</td>\n",
       "      <td>0.529293</td>\n",
       "      <td>29.656566</td>\n",
       "      <td>154.518499</td>\n",
       "      <td>6.768687</td>\n",
       "      <td>4.321212</td>\n",
       "      <td>1.931770</td>\n",
       "      <td>0.103030</td>\n",
       "    </tr>\n",
       "    <tr>\n",
       "      <th>1</th>\n",
       "      <td>1.000000</td>\n",
       "      <td>0.233540</td>\n",
       "      <td>0.122981</td>\n",
       "      <td>0.178882</td>\n",
       "      <td>26.783851</td>\n",
       "      <td>110.844348</td>\n",
       "      <td>1.708075</td>\n",
       "      <td>1.406211</td>\n",
       "      <td>0.978029</td>\n",
       "      <td>0.741615</td>\n",
       "    </tr>\n",
       "    <tr>\n",
       "      <th>2</th>\n",
       "      <td>0.998807</td>\n",
       "      <td>0.272076</td>\n",
       "      <td>0.077566</td>\n",
       "      <td>1.000000</td>\n",
       "      <td>30.243437</td>\n",
       "      <td>155.162399</td>\n",
       "      <td>4.692124</td>\n",
       "      <td>4.465394</td>\n",
       "      <td>2.032974</td>\n",
       "      <td>0.096659</td>\n",
       "    </tr>\n",
       "    <tr>\n",
       "      <th>3</th>\n",
       "      <td>0.000000</td>\n",
       "      <td>0.490196</td>\n",
       "      <td>0.073529</td>\n",
       "      <td>0.233660</td>\n",
       "      <td>28.694444</td>\n",
       "      <td>137.236762</td>\n",
       "      <td>2.839869</td>\n",
       "      <td>3.024510</td>\n",
       "      <td>1.599137</td>\n",
       "      <td>0.401961</td>\n",
       "    </tr>\n",
       "    <tr>\n",
       "      <th>4</th>\n",
       "      <td>0.998675</td>\n",
       "      <td>0.378808</td>\n",
       "      <td>0.046358</td>\n",
       "      <td>0.000000</td>\n",
       "      <td>30.345695</td>\n",
       "      <td>174.247561</td>\n",
       "      <td>4.695364</td>\n",
       "      <td>5.160265</td>\n",
       "      <td>2.233295</td>\n",
       "      <td>0.046358</td>\n",
       "    </tr>\n",
       "  </tbody>\n",
       "</table>\n",
       "</div>"
      ],
      "text/plain": [
       "       near_location   partner  promo_friends  group_visits        age  \\\n",
       "class                                                                    \n",
       "0           0.994949  0.954545       1.000000      0.529293  29.656566   \n",
       "1           1.000000  0.233540       0.122981      0.178882  26.783851   \n",
       "2           0.998807  0.272076       0.077566      1.000000  30.243437   \n",
       "3           0.000000  0.490196       0.073529      0.233660  28.694444   \n",
       "4           0.998675  0.378808       0.046358      0.000000  30.345695   \n",
       "\n",
       "       avg_additional_charges_total  month_to_end_contract  lifetime  \\\n",
       "class                                                                  \n",
       "0                        154.518499               6.768687  4.321212   \n",
       "1                        110.844348               1.708075  1.406211   \n",
       "2                        155.162399               4.692124  4.465394   \n",
       "3                        137.236762               2.839869  3.024510   \n",
       "4                        174.247561               4.695364  5.160265   \n",
       "\n",
       "       avg_class_frequency_current_month     churn  \n",
       "class                                               \n",
       "0                               1.931770  0.103030  \n",
       "1                               0.978029  0.741615  \n",
       "2                               2.032974  0.096659  \n",
       "3                               1.599137  0.401961  \n",
       "4                               2.233295  0.046358  "
      ]
     },
     "execution_count": 34,
     "metadata": {},
     "output_type": "execute_result"
    }
   ],
   "source": [
    "#Средние значения для признаков по кластерам\n",
    "df.groupby('class').agg('mean')"
   ]
  },
  {
   "cell_type": "markdown",
   "metadata": {},
   "source": [
    "* Наибольшая доля оттока в 74% наблюдаетсяв класстере №1, характерная особенность этого кластера наименьшее среднее количество посещений в неделю за последний месяц, наименьшее время с первого контакта, наименьшее время до окончания текущего контакта, наименьшее количество дополнительных оплат и самый молодой средний возраст. Примечательно, что все клиенты этого кластера находятся в ближайших локациях. Скорее всего это молодые люди которые решили \"попробовать\" фитнес центры в ближайшей локации покупая абонементы на короткий срок.\n",
    "* Вторая по велечине оттока в 40% группа -  кластер №3. Выделяющимися оказались те же показатели, что и для первой группы, низкая частота посещений в неделю за последний месяц, время с момента первого контакта и время до окончания контракта около 3х месяцев. Чуть большие, чем у первой группы дополнительные затраты, чуть старше возраст. Примечательно, что все клиенты этой группы не находятся в ближайших локациях. Скорее всего это клиенты находящиеся \"в середине\" шестимесячных контрактов половина из которых пришла по рекомендации друзей.\n",
    "* Самый маленький отток у кластера №4, всего 4%. Это наиболее мотивированная группа людей индивидуалистов, т.к. они чаще других посещают зал, у пдавляющего большинства 12 месячные контракты, они больше остальных приобретают дополнительные услуги, в этой группе находятся в среднем самые старшие по возрасту клиенты, никто из них не ходит на групповые занятия и практическ все они находятся в блжайших локациях.\n",
    "* Второй с конца по величине оттока кластер №3. В целом он очень похож на кластер №4 за одним исключением, все клиенты из этой группы ходят на групповые занятия, т.е. это тоже взрослые мотивированные люди с длинными контрактами и пользующиеся дополнительными услугами из ближайших локаций, но любители групповых занятий.\n",
    "* Клиенты из кластера №0 также имеют очень низкий показатель оттока на уровне 10%, они часто посещают фитнес клуб, у них длинные контракты, они пользуются дополнительными услугами, у них самый большой срок до окончания контракта, основное их отличие - они все пришли по рекомендации друзей, а так же подавляющее большинство из них сотрудники партнеров и находятся они в ближайших локациях."
   ]
  },
  {
   "cell_type": "markdown",
   "metadata": {},
   "source": [
    "### Распределение признаков в кластерах"
   ]
  },
  {
   "cell_type": "code",
   "execution_count": 35,
   "metadata": {
    "scrolled": true
   },
   "outputs": [
    {
     "data": {
      "image/png": "[encoded data removed]",
      "text/plain": [
       "<Figure size 432x288 with 1 Axes>"
      ]
     },
     "metadata": {
      "needs_background": "light"
     },
     "output_type": "display_data"
    },
    {
     "data": {
      "image/png": "[encoded data removed]",
      "text/plain": [
       "<Figure size 432x288 with 1 Axes>"
      ]
     },
     "metadata": {
      "needs_background": "light"
     },
     "output_type": "display_data"
    },
    {
     "data": {
      "image/png": "[encoded data removed]",
      "text/plain": [
       "<Figure size 432x288 with 1 Axes>"
      ]
     },
     "metadata": {
      "needs_background": "light"
     },
     "output_type": "display_data"
    },
    {
     "data": {
      "image/png": "[encoded data removed]",
      "text/plain": [
       "<Figure size 432x288 with 1 Axes>"
      ]
     },
     "metadata": {
      "needs_background": "light"
     },
     "output_type": "display_data"
    },
    {
     "data": {
      "image/png": "[encoded data removed]",
      "text/plain": [
       "<Figure size 432x288 with 1 Axes>"
      ]
     },
     "metadata": {
      "needs_background": "light"
     },
     "output_type": "display_data"
    },
    {
     "data": {
      "image/png": "[encoded data removed]",
      "text/plain": [
       "<Figure size 432x288 with 1 Axes>"
      ]
     },
     "metadata": {
      "needs_background": "light"
     },
     "output_type": "display_data"
    },
    {
     "data": {
      "image/png": "[encoded data removed]",
      "text/plain": [
       "<Figure size 432x288 with 1 Axes>"
      ]
     },
     "metadata": {
      "needs_background": "light"
     },
     "output_type": "display_data"
    },
    {
     "data": {
      "image/png": "[encoded data removed]",
      "text/plain": [
       "<Figure size 432x288 with 1 Axes>"
      ]
     },
     "metadata": {
      "needs_background": "light"
     },
     "output_type": "display_data"
    },
    {
     "data": {
      "image/png": "[encoded data removed]",
      "text/plain": [
       "<Figure size 432x288 with 1 Axes>"
      ]
     },
     "metadata": {
      "needs_background": "light"
     },
     "output_type": "display_data"
    },
    {
     "data": {
      "image/png": "[encoded data removed]",
      "text/plain": [
       "<Figure size 432x288 with 1 Axes>"
      ]
     },
     "metadata": {
      "needs_background": "light"
     },
     "output_type": "display_data"
    }
   ],
   "source": [
    "for column in list(df.columns)[:-1]:\n",
    "    show_data = []\n",
    "    for i in range(df['class'].nunique()):\n",
    "        show_data.append(df.loc[df['class'] == i][column])\n",
    "    \n",
    "    plt.hist(show_data, label=[0, 1, 2, 3, 4], density=True) #Отображаем долю для возможности сравнения показателей\n",
    "    \n",
    "    plt.legend(loc='upper center')\n",
    "    \n",
    "    plt.title(f'Распределение {column}')\n",
    "    plt.show()"
   ]
  },
  {
   "cell_type": "markdown",
   "metadata": {},
   "source": [
    "Графики распределения признаков в кластерах в целом подтверждают картину полученную посредним характеристикам.\n",
    "* Все кластеры, кроме третьего, практически полностью находятся в ближайших локациях\n",
    "* Самое большое количество человек пришедших от партнеров находится в кластере №0, в этом же кластере, в единственном где 100% клиентов пришло по рекомендации друзей\n",
    "* Ярко видны различия между \"индивидуалистами\" кластера №4 и любителями коллективных занятий кластера №2\n",
    "* Распределение возраста кластера №2 имеет явное смещение к 26 годам, а кластера №4 к 30\n",
    "* Распределение затрат на дополнитеьные услуги кластера №4 похоже на нормальное, а у кластера №1 на распределение Пуассона\n",
    "* Значительная доля клиентов имеет короткие сроки до конца контракта, за исключением кластера №0\n",
    "* Распределение времени прошедшего с последнего контакта у всех кластеров имеет одинаковй вид, но \"разную скоростьснижения\", медленнее всего \"падает\" кластер №4\n",
    "* Распределение недельной частоты посещения зала за последний месяц схоже с приобретением дополнительных услуг для тех же кластеров. Кластера с наименьшим оттоком имеют вид распределения близкий к нормальному, а кластера с нибольшим оттком имею вид распределени Пуассона\n",
    "* На графике распределения оттока чётко видно, что наибольший процент оттока у кластера №1 и кластера №3"
   ]
  },
  {
   "cell_type": "code",
   "execution_count": 36,
   "metadata": {
    "scrolled": true
   },
   "outputs": [
    {
     "data": {
      "text/plain": [
       "class\n",
       "0    0.103030\n",
       "1    0.741615\n",
       "2    0.096659\n",
       "3    0.401961\n",
       "4    0.046358\n",
       "Name: churn, dtype: float64"
      ]
     },
     "execution_count": 36,
     "metadata": {},
     "output_type": "execute_result"
    }
   ],
   "source": [
    "# Выделим оттедльно долю оттока по кластерам\n",
    "df.groupby('class').agg('mean')['churn']"
   ]
  },
  {
   "cell_type": "markdown",
   "metadata": {},
   "source": [
    "Наиболее подверженные оттоку кластера №1 и №3, наиболее надежный кластер №4, кластера №0 и №2 имеют один и тот же уровень оттока, тоже могут считаться надежными."
   ]
  },
  {
   "cell_type": "markdown",
   "metadata": {},
   "source": [
    "### Выводы"
   ]
  },
  {
   "cell_type": "markdown",
   "metadata": {},
   "source": [
    "Дендрограмма на основе матрицы расстояний выделила три основных кластера.\n",
    "\n",
    "Характеристрики 5 кластеров полученных методом KMeans:\n",
    "* Наибольшая доля оттока в 74% наблюдаетсяв класстере №1, характерная особенность этого кластера наименьшее среднее количество посещений в неделю за последний месяц, наименьшее время с первого контакта, наименьшее время до окончания текущего контакта, наименьшее количество дополнительных оплат и самый молодой средний возраст. Примечательно, что все клиенты этого кластера находятся в ближайших локациях. Скорее всего это молодые люди которые решили \"попробовать\" фитнес центры в ближайшей локации покупая абонементы на короткий срок.\n",
    "* Вторая по велечине оттока в 40% группа -  кластер №3. Выделяющимися оказались те же показатели, что и для первой группы, низкая частота посещений в неделю за последний месяц, время с момента первого контакта и время до окончания контракта около 3х месяцев. Чуть большие, чем у первой группы дополнительные затраты, чуть старше возраст. Примечательно, что все клиенты этой группы не находятся в ближайших локациях. Скорее всего это клиенты находящиеся \"в середине\" шестимесячных контрактов половина из которых пришла по рекомендации друзей.\n",
    "* Самый маленький отток у кластера №4, всего 4%. Это наиболее мотивированная группа людей индивидуалистов, т.к. они чаще других посещают зал, у пдавляющего большинства 12 месячные контракты, они больше остальных приобретают дополнительные услуги, в этой группе находятся в среднем самые старшие по возрасту клиенты, никто из них не ходит на групповые занятия и практическ все они находятся в блжайших локациях.\n",
    "* Второй с конца по величине оттока кластер №3. В целом он очень похож на кластер №4 за одним исключением, все клиенты из этой группы ходят на групповые занятия, т.е. это тоже взрослые мотивированные люди с длинными контрактами и пользующиеся дополнительными услугами из ближайших локаций, но любители групповых занятий.\n",
    "* Клиенты из кластера №0 также имеют очень низкий показатель оттока на уровне 10%, они часто посещают фитнес клуб, у них длинные контракты, они пользуются дополнительными услугами, у них самый большой срок до окончания контракта, основное их отличие - они все пришли по рекомендации друзей, а так же подавляющее большинство из них сотрудники партнеров и находятся они в ближайших локациях.\n",
    "\n",
    "Графики распределения признаков в кластерах в целом подтверждают картину полученную посредним характеристикам.\n",
    "* Все кластеры, кроме третьего, практически полностью находятся в ближайших локациях\n",
    "* Самое большое количество человек пришедших от партнеров находится в кластере №0, в этом же кластере, в единственном где 100% клиентов пришло по рекомендации друзей\n",
    "* Ярко видны различия между \"индивидуалистами\" кластера №4 и любителями коллективных занятий кластера №2\n",
    "* Распределение возраста кластера №2 имеет явное смещение к 26 годам, а кластера №4 к 30\n",
    "* Распределение затрат на дополнитеьные услуги кластера №4 похоже на нормальное, а у кластера №1 на распределение Пуассона\n",
    "* Значительная доля клиентов имеет короткие сроки до конца контракта, за исключением кластера №0\n",
    "* Распределение времени прошедшего с последнего контакта у всех кластеров имеет одинаковй вид, но \"разную скоростьснижения\", медленнее всего \"падает\" кластер №4\n",
    "* Распределение недельной частоты посещения зала за последний месяц схоже с приобретением дополнительных услуг для тех же кластеров. Кластера с наименьшим оттоком имеют вид распределения близкий к нормальному, а кластера с нибольшим оттком имею вид распределени Пуассона\n",
    "* На графике распределения оттока чётко видно, что наибольший процент оттока у кластера №1 и кластера №3\n",
    "\n",
    "Наиболее подверженные оттоку кластера №1 и №3, наиболее надежный кластер №4, кластера №0 и №2 имеют один и тот же уровень оттока, тоже могут считаться надежными."
   ]
  },
  {
   "cell_type": "markdown",
   "metadata": {},
   "source": [
    "## Выводы и рекомендации"
   ]
  },
  {
   "cell_type": "markdown",
   "metadata": {},
   "source": [
    "<b>Загрузка, исследование и педобработка данных</b>\n",
    "* Датасет имеет стандартный разделитель, данные читаются успешно.\n",
    "* Столбцы записаны латиницей, имею \"змеинную нотацию\", заглавные буквы в названиях были заменены на строчные.\n",
    "* Датасет имеет 4 тыс записей. Все колонки имеют числовой тип. Все колонки заполнены польность, без пропусков. В датасете отсутсвуют полные дубликаты. Можно сразу проверять количественные характеристики.\n",
    "* Многие стобцы по сути должны иметь логический тип и котигориальную природу, но для дальнейших вычислений лучше оставить как есть.\n",
    "\n",
    "В среднем: \n",
    "* данные равномерно распределены по полу\n",
    "* 84% клиентов находятся в ближайших локациях\n",
    "* почти половина - 48% это сотрудники партнеров клуба\n",
    "* 30% пришли по акции \"приведи друга\"\n",
    "* 90% клиентов оставляют свой телефон\n",
    "* средний период контракта по всей выборке 4.68 месяцев\n",
    "* 41% клиентов посещают групповые занятия\n",
    "* средний возраст 29 лет, при этом стандартное отклонение всего 3.25\n",
    "* средняя сумма дополнительных услуг 146\n",
    "* средний срок до окончания текущего договора 4.3 месяца\n",
    "* среднее время с момента первого контакта 3.7 месяцев\n",
    "* средняя частота посещений в неделю 1.87 \n",
    "* средняя средняя частота посещений в неделю за предыдущий месяц 1.76\n",
    "* средний факт оттока в текущем месяце 0.26\n",
    "\n",
    "Стандартное отклонение почти у всех факторов сравнимо или почти равно со средним значением, что может говорить о равномерном распеределении большинства параметров.\n",
    "\n",
    "Отличие средних показателей в группе оставшихся и ушедших клиентов:\n",
    "* доля мужчин и женщин в обеих группах одинаковая\n",
    "* нахождение в ближайшей локации в группе ушедших немного ниже: 77% вместо 87%\n",
    "* среди ушедших доля сотрудников партнеров гораздо меньше: 35% вместо 53%\n",
    "* среди ушедших доля клиентов пришедших по акции \"приведи друга\" почти в два раза ниже: 18% и 35%\n",
    "* доля оставивших контактный телефон одинаковая в обеих группах\n",
    "* продолжительность текущего контракта в группе ушедших в среднем в три раза меньше, чем у оставшихся: 1.72 против 5.74\n",
    "* доля посещавших групповые занятия у ушедших заметно меньше: 26% против 46%\n",
    "* ушедшие клиенты в среднем немного моложе оставшихся: 27 лет против 30\n",
    "* оставшиеся клиенты примерно на 25% больше расходуют на дополнительные услуги: 158.44 против 115.08\n",
    "* количество месяцев до окончания контракта у ушедших почти в три раза меньше, чем у оставшихся: 1.66 вместо 5.28\n",
    "* время прошедшее с первого контакта у ушедших практически в пять раз меньше, чем у оставшихся: 0.99 вместо 4.71\n",
    "* количество посещений в неделю у ушедших почти на четверть меньше, чем у оставшихся: 1.47 и 2.02\n",
    "* количество посещений в неделю в текущий месяц у ушедших падает до 1, а у оставшихся остается около 2 раз в неделю\n",
    "\n",
    " Предварительно можно сделать предположение, что пол, возраст, локация и указание мобильного телефона не оказывает серьезного влияния на отток, а вот продолжительность текущего контракта, количество месяцев до окончания текущего контракта и общее время с первого контакта существенно влияют на отток. \n",
    " Наиболее \"опасным\" пока видится время после первого месяца занятий у группы с короткими текущими контрактами.\n",
    " \n",
    "Взаимозависимости и корреляция:\n",
    "* Пол и наличие телефона практически ника не связаня с параметром оттока и с другими параметрами. С учётом предыдущих выводов, их можно удалить из датасета.\n",
    "* Количество месяцев до окончания контракта и количество месяцев в текущем контракте практически имеют прямую функциональную зависимость. Можно учесть, что 80% оттока имеют контракты на 1 месяц и они попадают в группу оттока \"1 месяц до окончания контракта\".\n",
    "* Такая же зависимость есть у средней посещаемости в неделю вообще и в текущем месяце.\n",
    "* Учитывая, что мы прогнозируем отток на следующий месяц наиболее важными показателями будут срок до конца текущего контракта и частота посещений в неделю за последний месяц, дублирующие показатели удалим из датасета.\n",
    "\n",
    "<b>Выбор модели прогнозирования оттока. Логистическая регрессия и случайный лес.</b>\n",
    "* Доля правильных ответов (Accuracy) совпадает у обеих моделей, т.к. класс оттока всего 26% от всей выборки то этот показатель может не отражать качество модели.\n",
    "* Доля правильных ответов только среди \"оттока\" (точность - precision) у обеих моделей почти одинаковая 80% у логистической регрессии и 81% у случайного леса.\n",
    "* Доля обнаруженных реальных \"оттоков\" (полнота - recall) у логистической регрессии лучше, чем у случайного леса: 81% против 77%\n",
    "\n",
    "В целом лучше выбрать модель логистической регрессии, т.к. важнее провести маркетинговые мероприятия для удержания тех кто готовится уйти и продлить lifetime.\n",
    "\n",
    "Т.к. мы обучали модель на стандартизированных данных, то можно сравнить степень влияния параметров на конечный прогноз. Все коэфициенты модели логистической регресси имеют знак минус, что говорит об обратной зависимости признака и принадлежности клиента к классу \"отток\", чем больше значение параметра, тем менее вероятна принадлежность клиента к классу \"отток\". \n",
    "* Наибольшее значечение имеет параметр lifetime, чем он выше, тем менее вероятен отток, коэфициент этого параметр почти в три раза больше следующего по модулю параметра. \n",
    "* Далее по значимости идут сразу два параметра имеющие практически одинаковые значения коэфициентов, это частота посещения в неделю за текущий месяц и количество месяцев до окончания контракта, чем они больше, тем менее вероятен отток.\n",
    "* Последний из заметных и выжных параметров - возраст, чем он выше тем менее вероятен отток.\n",
    "\n",
    "<b>Кластеризация клиентов.</b>\n",
    "\n",
    "Дендрограмма на основе матрицы расстояний выделила три основных кластера.\n",
    "\n",
    "Характеристрики 5 кластеров полученных методом KMeans:\n",
    "* Наибольшая доля оттока в 74% наблюдаетсяв класстере №1, характерная особенность этого кластера наименьшее среднее количество посещений в неделю за последний месяц, наименьшее время с первого контакта, наименьшее время до окончания текущего контакта, наименьшее количество дополнительных оплат и самый молодой средний возраст. Примечательно, что все клиенты этого кластера находятся в ближайших локациях. Скорее всего это молодые люди которые решили \"попробовать\" фитнес центры в ближайшей локации покупая абонементы на короткий срок.\n",
    "* Вторая по велечине оттока в 40% группа -  кластер №3. Выделяющимися оказались те же показатели, что и для первой группы, низкая частота посещений в неделю за последний месяц, время с момента первого контакта и время до окончания контракта около 3х месяцев. Чуть большие, чем у первой группы дополнительные затраты, чуть старше возраст. Примечательно, что все клиенты этой группы не находятся в ближайших локациях. Скорее всего это клиенты находящиеся \"в середине\" шестимесячных контрактов половина из которых пришла по рекомендации друзей.\n",
    "* Самый маленький отток у кластера №4, всего 4%. Это наиболее мотивированная группа людей индивидуалистов, т.к. они чаще других посещают зал, у пдавляющего большинства 12 месячные контракты, они больше остальных приобретают дополнительные услуги, в этой группе находятся в среднем самые старшие по возрасту клиенты, никто из них не ходит на групповые занятия и практическ все они находятся в блжайших локациях.\n",
    "* Второй с конца по величине оттока кластер №3. В целом он очень похож на кластер №4 за одним исключением, все клиенты из этой группы ходят на групповые занятия, т.е. это тоже взрослые мотивированные люди с длинными контрактами и пользующиеся дополнительными услугами из ближайших локаций, но любители групповых занятий.\n",
    "* Клиенты из кластера №0 также имеют очень низкий показатель оттока на уровне 10%, они часто посещают фитнес клуб, у них длинные контракты, они пользуются дополнительными услугами, у них самый большой срок до окончания контракта, основное их отличие - они все пришли по рекомендации друзей, а так же подавляющее большинство из них сотрудники партнеров и находятся они в ближайших локациях.\n",
    "\n",
    "Графики распределения признаков в кластерах в целом подтверждают картину полученную посредним характеристикам.\n",
    "* Все кластеры, кроме третьего, практически полностью находятся в ближайших локациях\n",
    "* Самое большое количество человек пришедших от партнеров находится в кластере №0, в этом же кластере, в единственном где 100% клиентов пришло по рекомендации друзей\n",
    "* Ярко видны различия между \"индивидуалистами\" кластера №4 и любителями коллективных занятий кластера №2\n",
    "* Распределение возраста кластера №2 имеет явное смещение к 26 годам, а кластера №4 к 30\n",
    "* Распределение затрат на дополнитеьные услуги кластера №4 похоже на нормальное, а у кластера №1 на распределение Пуассона\n",
    "* Значительная доля клиентов имеет короткие сроки до конца контракта, за исключением кластера №0\n",
    "* Распределение времени прошедшего с последнего контакта у всех кластеров имеет одинаковй вид, но \"разную скоростьснижения\", медленнее всего \"падает\" кластер №4\n",
    "* Распределение недельной частоты посещения зала за последний месяц схоже с приобретением дополнительных услуг для тех же кластеров. Кластера с наименьшим оттоком имеют вид распределения близкий к нормальному, а кластера с нибольшим оттком имею вид распределени Пуассона\n",
    "* На графике распределения оттока чётко видно, что наибольший процент оттока у кластера №1 и кластера №3\n",
    "\n",
    "Наиболее подверженные оттоку кластера №1 и №3, наиболее надежный кластер №4, кластера №0 и №2 имеют один и тот же уровень оттока, тоже могут считаться надежными.\n",
    "\n",
    "<b>Рекомендации</b>\n",
    "\n",
    "Наиболее подверженная оттоку категория клиентов это люди в возрасте около 26-27 лет которые купили короткие контракты на \"попробовать\" и ходят в зал около одного раза в неделю. В качестве действий по их удержанию рекомендуется провести анкетирование на тему причин уходоа почти 74% таких потребителей и устранить ее, так же рекомендуется предлагать таким покупателям скидку на более длительные контракты и возможно на дополнительные услуги.\n",
    "\n",
    "Основная причина оттока в класстере №3 скорее всего является удаленность клуба. Для уменьшения оттока рекомендуются похожие мероприятия, т.е. скидки на более длительные контракты и дополнительные услуги.\n",
    "\n",
    "В качестве общей рекомендации возможно повышать вовлеченность в групповые занятия и наличие дежурных бесплатных трениров помогающим адаптироваться новичкам."
   ]
  }
 ],
 "metadata": {
  "ExecuteTimeLog": [
   {
    "duration": 378,
    "start_time": "2022-05-02T13:07:24.760Z"
   },
   {
    "duration": 37,
    "start_time": "2022-05-02T13:08:19.518Z"
   },
   {
    "duration": 20,
    "start_time": "2022-05-02T13:09:15.071Z"
   },
   {
    "duration": 11,
    "start_time": "2022-05-02T13:09:46.799Z"
   },
   {
    "duration": 75,
    "start_time": "2022-05-02T13:13:35.423Z"
   },
   {
    "duration": 5,
    "start_time": "2022-05-02T13:13:44.770Z"
   },
   {
    "duration": 3,
    "start_time": "2022-05-02T13:14:06.298Z"
   },
   {
    "duration": 9,
    "start_time": "2022-05-02T13:18:39.559Z"
   },
   {
    "duration": 10,
    "start_time": "2022-05-02T13:18:53.765Z"
   },
   {
    "duration": 44,
    "start_time": "2022-05-02T13:22:26.759Z"
   },
   {
    "duration": 6,
    "start_time": "2022-05-02T13:25:06.141Z"
   },
   {
    "duration": 10,
    "start_time": "2022-05-02T13:26:02.208Z"
   },
   {
    "duration": 7,
    "start_time": "2022-05-02T13:26:27.164Z"
   },
   {
    "duration": 7,
    "start_time": "2022-05-02T13:37:32.267Z"
   },
   {
    "duration": 6,
    "start_time": "2022-05-02T13:37:47.258Z"
   },
   {
    "duration": 14,
    "start_time": "2022-05-02T13:38:17.991Z"
   },
   {
    "duration": 120,
    "start_time": "2022-05-02T13:57:36.414Z"
   },
   {
    "duration": 13,
    "start_time": "2022-05-02T13:58:21.997Z"
   },
   {
    "duration": 79,
    "start_time": "2022-05-02T13:58:56.567Z"
   },
   {
    "duration": 18,
    "start_time": "2022-05-02T13:59:26.614Z"
   },
   {
    "duration": 19,
    "start_time": "2022-05-02T13:59:49.280Z"
   },
   {
    "duration": 16,
    "start_time": "2022-05-02T14:01:06.480Z"
   },
   {
    "duration": 9,
    "start_time": "2022-05-02T15:08:27.853Z"
   },
   {
    "duration": 1004,
    "start_time": "2022-05-02T15:08:46.790Z"
   },
   {
    "duration": 207,
    "start_time": "2022-05-02T15:09:21.522Z"
   },
   {
    "duration": 3,
    "start_time": "2022-05-02T15:10:18.083Z"
   },
   {
    "duration": 1905,
    "start_time": "2022-05-02T15:10:24.290Z"
   },
   {
    "duration": 2299,
    "start_time": "2022-05-02T15:18:40.669Z"
   },
   {
    "duration": 130,
    "start_time": "2022-05-02T15:21:19.692Z"
   },
   {
    "duration": 2238,
    "start_time": "2022-05-02T15:21:57.459Z"
   },
   {
    "duration": 2270,
    "start_time": "2022-05-02T15:33:07.755Z"
   },
   {
    "duration": 8,
    "start_time": "2022-05-02T15:34:19.438Z"
   },
   {
    "duration": 3,
    "start_time": "2022-05-02T15:34:24.060Z"
   },
   {
    "duration": 781,
    "start_time": "2022-05-02T15:34:26.904Z"
   },
   {
    "duration": 135,
    "start_time": "2022-05-02T15:36:21.320Z"
   },
   {
    "duration": 1153,
    "start_time": "2022-05-02T15:43:43.912Z"
   },
   {
    "duration": 21,
    "start_time": "2022-05-02T15:43:45.068Z"
   },
   {
    "duration": 59,
    "start_time": "2022-05-02T15:43:45.091Z"
   },
   {
    "duration": 12,
    "start_time": "2022-05-02T15:43:45.155Z"
   },
   {
    "duration": 40,
    "start_time": "2022-05-02T15:43:45.171Z"
   },
   {
    "duration": 10,
    "start_time": "2022-05-02T15:43:45.213Z"
   },
   {
    "duration": 92,
    "start_time": "2022-05-02T15:43:45.226Z"
   },
   {
    "duration": 33,
    "start_time": "2022-05-02T15:43:45.320Z"
   },
   {
    "duration": 4,
    "start_time": "2022-05-02T15:43:45.355Z"
   },
   {
    "duration": 373,
    "start_time": "2022-05-02T15:43:45.361Z"
   },
   {
    "duration": 1339,
    "start_time": "2022-05-02T15:44:12.991Z"
   },
   {
    "duration": 15,
    "start_time": "2022-05-02T15:45:14.900Z"
   },
   {
    "duration": 1145,
    "start_time": "2022-05-02T15:45:58.479Z"
   },
   {
    "duration": 200,
    "start_time": "2022-05-02T15:46:50.825Z"
   },
   {
    "duration": 4,
    "start_time": "2022-05-02T15:46:56.502Z"
   },
   {
    "duration": 1898,
    "start_time": "2022-05-02T15:47:03.981Z"
   },
   {
    "duration": 2000,
    "start_time": "2022-05-02T15:47:12.433Z"
   },
   {
    "duration": 1493,
    "start_time": "2022-05-02T15:47:18.212Z"
   },
   {
    "duration": 1295,
    "start_time": "2022-05-02T15:48:19.928Z"
   },
   {
    "duration": 21,
    "start_time": "2022-05-02T15:58:22.746Z"
   },
   {
    "duration": 355,
    "start_time": "2022-05-02T15:58:36.017Z"
   },
   {
    "duration": 1587,
    "start_time": "2022-05-02T16:03:23.584Z"
   },
   {
    "duration": 1610,
    "start_time": "2022-05-02T16:03:47.944Z"
   },
   {
    "duration": 1869,
    "start_time": "2022-05-02T16:04:08.523Z"
   },
   {
    "duration": 229,
    "start_time": "2022-05-02T16:08:29.795Z"
   },
   {
    "duration": 1512,
    "start_time": "2022-05-02T16:08:58.780Z"
   },
   {
    "duration": 277,
    "start_time": "2022-05-02T16:09:17.674Z"
   },
   {
    "duration": 377,
    "start_time": "2022-05-02T16:09:35.526Z"
   },
   {
    "duration": 370,
    "start_time": "2022-05-02T16:10:06.987Z"
   },
   {
    "duration": 143,
    "start_time": "2022-05-02T16:10:24.966Z"
   },
   {
    "duration": 23,
    "start_time": "2022-05-02T16:10:46.181Z"
   },
   {
    "duration": 1972,
    "start_time": "2022-05-02T16:10:57.146Z"
   },
   {
    "duration": 13,
    "start_time": "2022-05-02T16:14:26.499Z"
   },
   {
    "duration": 1912,
    "start_time": "2022-05-02T16:15:45.513Z"
   },
   {
    "duration": 5061,
    "start_time": "2022-05-02T16:16:59.841Z"
   },
   {
    "duration": 3380,
    "start_time": "2022-05-02T16:18:43.887Z"
   },
   {
    "duration": 3577,
    "start_time": "2022-05-02T16:19:47.747Z"
   },
   {
    "duration": 5269,
    "start_time": "2022-05-02T16:22:32.215Z"
   },
   {
    "duration": 3455,
    "start_time": "2022-05-02T16:24:27.535Z"
   },
   {
    "duration": 32,
    "start_time": "2022-05-02T16:34:22.410Z"
   },
   {
    "duration": 646,
    "start_time": "2022-05-02T16:35:23.035Z"
   },
   {
    "duration": 79,
    "start_time": "2022-05-02T16:36:21.665Z"
   },
   {
    "duration": 2149,
    "start_time": "2022-05-02T16:36:40.252Z"
   },
   {
    "duration": 2184,
    "start_time": "2022-05-02T16:37:48.169Z"
   },
   {
    "duration": 23,
    "start_time": "2022-05-02T17:02:33.012Z"
   },
   {
    "duration": 7,
    "start_time": "2022-05-02T17:02:56.570Z"
   },
   {
    "duration": 3,
    "start_time": "2022-05-02T17:03:37.306Z"
   },
   {
    "duration": 6,
    "start_time": "2022-05-02T17:06:11.361Z"
   },
   {
    "duration": 1851,
    "start_time": "2022-05-03T09:13:32.231Z"
   },
   {
    "duration": 29,
    "start_time": "2022-05-03T09:13:34.085Z"
   },
   {
    "duration": 24,
    "start_time": "2022-05-03T09:13:34.116Z"
   },
   {
    "duration": 7,
    "start_time": "2022-05-03T09:13:34.143Z"
   },
   {
    "duration": 16,
    "start_time": "2022-05-03T09:13:34.153Z"
   },
   {
    "duration": 42,
    "start_time": "2022-05-03T09:13:34.172Z"
   },
   {
    "duration": 68,
    "start_time": "2022-05-03T09:13:34.217Z"
   },
   {
    "duration": 24,
    "start_time": "2022-05-03T09:13:34.307Z"
   },
   {
    "duration": 3734,
    "start_time": "2022-05-03T09:13:34.333Z"
   },
   {
    "duration": 2269,
    "start_time": "2022-05-03T09:13:38.071Z"
   },
   {
    "duration": 7,
    "start_time": "2022-05-03T09:13:40.342Z"
   },
   {
    "duration": 324,
    "start_time": "2022-05-03T09:23:29.226Z"
   },
   {
    "duration": 119,
    "start_time": "2022-05-03T09:24:31.770Z"
   },
   {
    "duration": 5,
    "start_time": "2022-05-03T09:25:04.705Z"
   },
   {
    "duration": 5,
    "start_time": "2022-05-03T09:27:13.409Z"
   },
   {
    "duration": 6,
    "start_time": "2022-05-03T09:29:09.923Z"
   },
   {
    "duration": 10,
    "start_time": "2022-05-03T09:30:00.220Z"
   },
   {
    "duration": 21,
    "start_time": "2022-05-03T09:35:29.172Z"
   },
   {
    "duration": 3,
    "start_time": "2022-05-03T09:39:15.744Z"
   },
   {
    "duration": 26,
    "start_time": "2022-05-03T09:40:49.662Z"
   },
   {
    "duration": 24,
    "start_time": "2022-05-03T09:42:37.139Z"
   },
   {
    "duration": 6,
    "start_time": "2022-05-03T09:42:38.074Z"
   },
   {
    "duration": 7,
    "start_time": "2022-05-03T09:43:32.102Z"
   },
   {
    "duration": 7,
    "start_time": "2022-05-03T09:43:35.948Z"
   },
   {
    "duration": 17,
    "start_time": "2022-05-03T09:46:42.032Z"
   },
   {
    "duration": 7,
    "start_time": "2022-05-03T09:47:22.568Z"
   },
   {
    "duration": 23,
    "start_time": "2022-05-03T09:56:27.320Z"
   },
   {
    "duration": 8,
    "start_time": "2022-05-03T09:56:33.916Z"
   },
   {
    "duration": 7,
    "start_time": "2022-05-03T09:56:37.067Z"
   },
   {
    "duration": 28,
    "start_time": "2022-05-03T10:01:46.073Z"
   },
   {
    "duration": 326,
    "start_time": "2022-05-03T10:04:31.560Z"
   },
   {
    "duration": 30,
    "start_time": "2022-05-03T10:06:02.792Z"
   },
   {
    "duration": 11,
    "start_time": "2022-05-03T10:07:51.437Z"
   },
   {
    "duration": 5,
    "start_time": "2022-05-03T10:07:54.895Z"
   },
   {
    "duration": 5,
    "start_time": "2022-05-03T10:08:09.588Z"
   },
   {
    "duration": 29,
    "start_time": "2022-05-03T10:08:24.757Z"
   },
   {
    "duration": 4,
    "start_time": "2022-05-03T10:12:21.065Z"
   },
   {
    "duration": 3,
    "start_time": "2022-05-03T10:15:53.704Z"
   },
   {
    "duration": 4,
    "start_time": "2022-05-03T10:17:11.033Z"
   },
   {
    "duration": 9,
    "start_time": "2022-05-03T10:17:12.084Z"
   },
   {
    "duration": 8,
    "start_time": "2022-05-03T10:17:13.181Z"
   },
   {
    "duration": 336,
    "start_time": "2022-05-03T10:18:17.574Z"
   },
   {
    "duration": 30,
    "start_time": "2022-05-03T10:18:19.326Z"
   },
   {
    "duration": 6,
    "start_time": "2022-05-03T10:18:26.346Z"
   },
   {
    "duration": 3273,
    "start_time": "2022-05-03T10:18:39.481Z"
   },
   {
    "duration": 4,
    "start_time": "2022-05-03T10:42:52.434Z"
   },
   {
    "duration": 6,
    "start_time": "2022-05-03T10:43:51.371Z"
   },
   {
    "duration": 5,
    "start_time": "2022-05-03T10:44:52.461Z"
   },
   {
    "duration": 5,
    "start_time": "2022-05-03T10:45:23.034Z"
   },
   {
    "duration": 5,
    "start_time": "2022-05-03T10:46:35.988Z"
   },
   {
    "duration": 7,
    "start_time": "2022-05-03T10:48:11.661Z"
   },
   {
    "duration": 5,
    "start_time": "2022-05-03T10:48:42.860Z"
   },
   {
    "duration": 5,
    "start_time": "2022-05-03T10:49:12.975Z"
   },
   {
    "duration": 5,
    "start_time": "2022-05-03T11:04:14.752Z"
   },
   {
    "duration": 4,
    "start_time": "2022-05-03T11:04:55.919Z"
   },
   {
    "duration": 5,
    "start_time": "2022-05-03T11:05:13.524Z"
   },
   {
    "duration": 5,
    "start_time": "2022-05-03T11:05:34.140Z"
   },
   {
    "duration": 5,
    "start_time": "2022-05-03T11:05:49.940Z"
   },
   {
    "duration": 4,
    "start_time": "2022-05-03T11:06:00.353Z"
   },
   {
    "duration": 5,
    "start_time": "2022-05-03T11:06:28.915Z"
   },
   {
    "duration": 4,
    "start_time": "2022-05-03T11:06:43.204Z"
   },
   {
    "duration": 130,
    "start_time": "2022-05-03T11:07:02.851Z"
   },
   {
    "duration": 233,
    "start_time": "2022-05-03T11:07:31.041Z"
   },
   {
    "duration": 252,
    "start_time": "2022-05-03T11:07:54.502Z"
   },
   {
    "duration": 236,
    "start_time": "2022-05-03T11:08:26.077Z"
   },
   {
    "duration": 314,
    "start_time": "2022-05-03T11:08:38.138Z"
   },
   {
    "duration": 237,
    "start_time": "2022-05-03T11:08:47.705Z"
   },
   {
    "duration": 229,
    "start_time": "2022-05-03T11:09:12.348Z"
   },
   {
    "duration": 227,
    "start_time": "2022-05-03T11:09:18.365Z"
   },
   {
    "duration": 239,
    "start_time": "2022-05-03T11:09:25.905Z"
   },
   {
    "duration": 245,
    "start_time": "2022-05-03T11:09:46.738Z"
   },
   {
    "duration": 3,
    "start_time": "2022-05-03T11:25:29.655Z"
   },
   {
    "duration": 3,
    "start_time": "2022-05-03T11:25:48.220Z"
   },
   {
    "duration": 3,
    "start_time": "2022-05-03T11:26:00.646Z"
   },
   {
    "duration": 4,
    "start_time": "2022-05-03T11:26:31.984Z"
   },
   {
    "duration": 5,
    "start_time": "2022-05-03T11:28:02.316Z"
   },
   {
    "duration": 8,
    "start_time": "2022-05-03T11:28:23.427Z"
   },
   {
    "duration": 10,
    "start_time": "2022-05-03T11:33:22.384Z"
   },
   {
    "duration": 2,
    "start_time": "2022-05-03T11:35:56.561Z"
   },
   {
    "duration": 3,
    "start_time": "2022-05-03T11:36:04.832Z"
   },
   {
    "duration": 9,
    "start_time": "2022-05-03T11:36:07.038Z"
   },
   {
    "duration": 16,
    "start_time": "2022-05-03T11:38:57.091Z"
   },
   {
    "duration": 9,
    "start_time": "2022-05-03T11:39:08.665Z"
   },
   {
    "duration": 575,
    "start_time": "2022-05-03T11:39:11.503Z"
   },
   {
    "duration": 117787,
    "start_time": "2022-05-03T11:40:43.586Z"
   },
   {
    "duration": 21,
    "start_time": "2022-05-03T11:51:13.878Z"
   },
   {
    "duration": 3,
    "start_time": "2022-05-03T11:52:39.386Z"
   },
   {
    "duration": 1299,
    "start_time": "2022-05-03T11:53:27.633Z"
   },
   {
    "duration": 4,
    "start_time": "2022-05-03T11:53:49.140Z"
   },
   {
    "duration": 1051,
    "start_time": "2022-05-03T11:55:06.258Z"
   },
   {
    "duration": 15,
    "start_time": "2022-05-03T17:37:49.430Z"
   },
   {
    "duration": 13,
    "start_time": "2022-05-03T17:39:55.425Z"
   },
   {
    "duration": 8,
    "start_time": "2022-05-03T17:41:15.320Z"
   },
   {
    "duration": 14,
    "start_time": "2022-05-03T17:41:32.420Z"
   },
   {
    "duration": 96,
    "start_time": "2022-05-03T17:41:51.225Z"
   },
   {
    "duration": 311,
    "start_time": "2022-05-03T17:42:42.919Z"
   },
   {
    "duration": 102,
    "start_time": "2022-05-03T17:46:29.056Z"
   },
   {
    "duration": 175,
    "start_time": "2022-05-03T17:47:25.059Z"
   },
   {
    "duration": 178,
    "start_time": "2022-05-03T17:51:08.482Z"
   },
   {
    "duration": 87,
    "start_time": "2022-05-03T17:51:24.055Z"
   },
   {
    "duration": 17,
    "start_time": "2022-05-03T17:55:13.736Z"
   },
   {
    "duration": 13,
    "start_time": "2022-05-03T18:03:43.538Z"
   },
   {
    "duration": 17,
    "start_time": "2022-05-03T18:04:19.183Z"
   },
   {
    "duration": 75,
    "start_time": "2022-05-03T18:04:50.985Z"
   },
   {
    "duration": 83,
    "start_time": "2022-05-03T18:06:05.226Z"
   },
   {
    "duration": 78,
    "start_time": "2022-05-03T18:06:47.337Z"
   },
   {
    "duration": 17,
    "start_time": "2022-05-03T18:11:27.516Z"
   },
   {
    "duration": 30,
    "start_time": "2022-05-03T18:11:49.396Z"
   },
   {
    "duration": 1195,
    "start_time": "2022-05-03T18:12:29.350Z"
   },
   {
    "duration": 100,
    "start_time": "2022-05-03T18:12:39.024Z"
   },
   {
    "duration": 19,
    "start_time": "2022-05-03T18:30:20.168Z"
   },
   {
    "duration": 278,
    "start_time": "2022-05-03T18:30:46.126Z"
   },
   {
    "duration": 83,
    "start_time": "2022-05-03T18:31:02.223Z"
   },
   {
    "duration": 1825,
    "start_time": "2022-05-04T07:48:41.860Z"
   },
   {
    "duration": 27,
    "start_time": "2022-05-04T07:48:43.688Z"
   },
   {
    "duration": 35,
    "start_time": "2022-05-04T07:48:43.717Z"
   },
   {
    "duration": 7,
    "start_time": "2022-05-04T07:48:43.754Z"
   },
   {
    "duration": 18,
    "start_time": "2022-05-04T07:48:43.763Z"
   },
   {
    "duration": 10,
    "start_time": "2022-05-04T07:48:43.783Z"
   },
   {
    "duration": 100,
    "start_time": "2022-05-04T07:48:43.795Z"
   },
   {
    "duration": 41,
    "start_time": "2022-05-04T07:48:43.897Z"
   },
   {
    "duration": 3673,
    "start_time": "2022-05-04T07:48:43.940Z"
   },
   {
    "duration": 2353,
    "start_time": "2022-05-04T07:48:47.616Z"
   },
   {
    "duration": 7,
    "start_time": "2022-05-04T07:48:49.972Z"
   },
   {
    "duration": 593,
    "start_time": "2022-05-04T07:48:49.981Z"
   },
   {
    "duration": 5,
    "start_time": "2022-05-04T07:48:50.577Z"
   },
   {
    "duration": 14,
    "start_time": "2022-05-04T07:48:50.584Z"
   },
   {
    "duration": 32,
    "start_time": "2022-05-04T07:48:50.600Z"
   },
   {
    "duration": 22,
    "start_time": "2022-05-04T07:48:50.634Z"
   },
   {
    "duration": 8,
    "start_time": "2022-05-04T07:48:50.658Z"
   },
   {
    "duration": 4986,
    "start_time": "2022-05-04T07:48:50.668Z"
   },
   {
    "duration": 302,
    "start_time": "2022-05-04T07:48:55.657Z"
   },
   {
    "duration": 7,
    "start_time": "2022-05-04T07:48:55.961Z"
   },
   {
    "duration": 22,
    "start_time": "2022-05-04T07:48:55.970Z"
   },
   {
    "duration": 41,
    "start_time": "2022-05-04T07:48:55.995Z"
   },
   {
    "duration": 6,
    "start_time": "2022-05-04T07:48:56.038Z"
   },
   {
    "duration": 20,
    "start_time": "2022-05-04T07:48:56.046Z"
   },
   {
    "duration": 145,
    "start_time": "2022-05-04T07:48:56.068Z"
   },
   {
    "duration": 15,
    "start_time": "2022-05-04T07:48:56.216Z"
   },
   {
    "duration": 862,
    "start_time": "2022-05-04T07:48:56.234Z"
   },
   {
    "duration": 286,
    "start_time": "2022-05-04T07:48:57.101Z"
   },
   {
    "duration": 3,
    "start_time": "2022-05-04T07:48:57.390Z"
   },
   {
    "duration": 1434,
    "start_time": "2022-05-04T07:48:57.395Z"
   },
   {
    "duration": 97,
    "start_time": "2022-05-04T07:48:58.837Z"
   },
   {
    "duration": 27,
    "start_time": "2022-05-04T07:48:58.937Z"
   },
   {
    "duration": 143,
    "start_time": "2022-05-04T07:48:58.966Z"
   },
   {
    "duration": 33,
    "start_time": "2022-05-04T07:48:59.112Z"
   },
   {
    "duration": 151427,
    "start_time": "2022-05-04T08:00:38.481Z"
   },
   {
    "duration": 7,
    "start_time": "2022-05-04T08:06:14.196Z"
   },
   {
    "duration": 159,
    "start_time": "2022-05-04T08:08:07.060Z"
   },
   {
    "duration": 13,
    "start_time": "2022-05-04T08:08:12.515Z"
   },
   {
    "duration": 15,
    "start_time": "2022-05-04T08:08:25.124Z"
   },
   {
    "duration": 20,
    "start_time": "2022-05-04T08:08:51.268Z"
   },
   {
    "duration": 23,
    "start_time": "2022-05-04T08:10:14.650Z"
   },
   {
    "duration": 94,
    "start_time": "2022-05-04T08:16:13.631Z"
   },
   {
    "duration": 66,
    "start_time": "2022-05-04T08:16:24.304Z"
   },
   {
    "duration": 3117,
    "start_time": "2022-05-04T08:17:38.759Z"
   },
   {
    "duration": 19,
    "start_time": "2022-05-04T08:18:18.430Z"
   },
   {
    "duration": 277,
    "start_time": "2022-05-04T08:18:40.663Z"
   },
   {
    "duration": 2989,
    "start_time": "2022-05-04T08:18:54.638Z"
   },
   {
    "duration": 21,
    "start_time": "2022-05-04T08:20:11.398Z"
   },
   {
    "duration": 3447,
    "start_time": "2022-05-04T08:20:48.764Z"
   },
   {
    "duration": 3479,
    "start_time": "2022-05-04T08:26:13.234Z"
   },
   {
    "duration": 11,
    "start_time": "2022-05-04T08:41:35.961Z"
   },
   {
    "duration": 1590,
    "start_time": "2022-05-04T08:56:09.885Z"
   },
   {
    "duration": 22,
    "start_time": "2022-05-04T08:56:11.478Z"
   },
   {
    "duration": 33,
    "start_time": "2022-05-04T08:56:11.502Z"
   },
   {
    "duration": 7,
    "start_time": "2022-05-04T08:56:11.538Z"
   },
   {
    "duration": 20,
    "start_time": "2022-05-04T08:56:11.547Z"
   },
   {
    "duration": 11,
    "start_time": "2022-05-04T08:56:11.569Z"
   },
   {
    "duration": 99,
    "start_time": "2022-05-04T08:56:11.582Z"
   },
   {
    "duration": 24,
    "start_time": "2022-05-04T08:56:11.683Z"
   },
   {
    "duration": 3493,
    "start_time": "2022-05-04T08:56:11.725Z"
   },
   {
    "duration": 2085,
    "start_time": "2022-05-04T08:56:15.224Z"
   },
   {
    "duration": 7,
    "start_time": "2022-05-04T08:56:17.312Z"
   },
   {
    "duration": 576,
    "start_time": "2022-05-04T08:56:17.322Z"
   },
   {
    "duration": 6,
    "start_time": "2022-05-04T08:56:17.900Z"
   },
   {
    "duration": 19,
    "start_time": "2022-05-04T08:56:17.908Z"
   },
   {
    "duration": 14,
    "start_time": "2022-05-04T08:56:17.929Z"
   },
   {
    "duration": 28,
    "start_time": "2022-05-04T08:56:17.945Z"
   },
   {
    "duration": 8,
    "start_time": "2022-05-04T08:56:17.976Z"
   },
   {
    "duration": 4891,
    "start_time": "2022-05-04T08:56:17.986Z"
   },
   {
    "duration": 304,
    "start_time": "2022-05-04T08:56:22.879Z"
   },
   {
    "duration": 6,
    "start_time": "2022-05-04T08:56:23.185Z"
   },
   {
    "duration": 16,
    "start_time": "2022-05-04T08:56:23.192Z"
   },
   {
    "duration": 22,
    "start_time": "2022-05-04T08:56:23.210Z"
   },
   {
    "duration": 6,
    "start_time": "2022-05-04T08:56:23.234Z"
   },
   {
    "duration": 9,
    "start_time": "2022-05-04T08:56:23.242Z"
   },
   {
    "duration": 26,
    "start_time": "2022-05-04T08:56:23.253Z"
   },
   {
    "duration": 52,
    "start_time": "2022-05-04T08:56:23.281Z"
   },
   {
    "duration": 794,
    "start_time": "2022-05-04T08:56:23.335Z"
   },
   {
    "duration": 161826,
    "start_time": "2022-05-04T08:56:24.136Z"
   },
   {
    "duration": 4,
    "start_time": "2022-05-04T08:59:05.964Z"
   },
   {
    "duration": 1660,
    "start_time": "2022-05-04T08:59:05.970Z"
   },
   {
    "duration": 5,
    "start_time": "2022-05-04T08:59:07.633Z"
   },
   {
    "duration": 21,
    "start_time": "2022-05-04T08:59:07.640Z"
   },
   {
    "duration": 164,
    "start_time": "2022-05-04T08:59:07.663Z"
   },
   {
    "duration": 22,
    "start_time": "2022-05-04T08:59:07.830Z"
   },
   {
    "duration": 3699,
    "start_time": "2022-05-04T08:59:07.854Z"
   },
   {
    "duration": 11,
    "start_time": "2022-05-04T08:59:11.556Z"
   },
   {
    "duration": 69,
    "start_time": "2022-05-05T09:08:41.368Z"
   },
   {
    "duration": 63,
    "start_time": "2022-05-05T09:10:52.679Z"
   },
   {
    "duration": 82,
    "start_time": "2022-05-05T09:13:40.550Z"
   },
   {
    "duration": 74,
    "start_time": "2022-05-05T09:44:34.796Z"
   },
   {
    "duration": 1461,
    "start_time": "2022-05-05T09:49:21.872Z"
   },
   {
    "duration": 18,
    "start_time": "2022-05-05T09:49:23.335Z"
   },
   {
    "duration": 17,
    "start_time": "2022-05-05T09:49:23.354Z"
   },
   {
    "duration": 5,
    "start_time": "2022-05-05T09:49:23.372Z"
   },
   {
    "duration": 33,
    "start_time": "2022-05-05T09:49:23.379Z"
   },
   {
    "duration": 8,
    "start_time": "2022-05-05T09:49:23.414Z"
   },
   {
    "duration": 46,
    "start_time": "2022-05-05T09:49:23.423Z"
   },
   {
    "duration": 45,
    "start_time": "2022-05-05T09:49:23.471Z"
   },
   {
    "duration": 2336,
    "start_time": "2022-05-05T09:49:23.517Z"
   },
   {
    "duration": 1624,
    "start_time": "2022-05-05T09:49:25.855Z"
   },
   {
    "duration": 5,
    "start_time": "2022-05-05T09:49:27.481Z"
   },
   {
    "duration": 367,
    "start_time": "2022-05-05T09:49:27.487Z"
   },
   {
    "duration": 4,
    "start_time": "2022-05-05T09:49:27.856Z"
   },
   {
    "duration": 5,
    "start_time": "2022-05-05T09:49:27.863Z"
   },
   {
    "duration": 11,
    "start_time": "2022-05-05T09:49:27.870Z"
   },
   {
    "duration": 32,
    "start_time": "2022-05-05T09:49:27.882Z"
   },
   {
    "duration": 5,
    "start_time": "2022-05-05T09:49:27.916Z"
   },
   {
    "duration": 3337,
    "start_time": "2022-05-05T09:49:27.923Z"
   },
   {
    "duration": 249,
    "start_time": "2022-05-05T09:49:31.262Z"
   },
   {
    "duration": 3,
    "start_time": "2022-05-05T09:49:31.513Z"
   },
   {
    "duration": 15,
    "start_time": "2022-05-05T09:49:31.518Z"
   },
   {
    "duration": 9,
    "start_time": "2022-05-05T09:49:31.534Z"
   },
   {
    "duration": 9,
    "start_time": "2022-05-05T09:49:31.544Z"
   },
   {
    "duration": 19,
    "start_time": "2022-05-05T09:49:31.555Z"
   },
   {
    "duration": 32,
    "start_time": "2022-05-05T09:49:31.576Z"
   },
   {
    "duration": 9,
    "start_time": "2022-05-05T09:49:31.610Z"
   },
   {
    "duration": 532,
    "start_time": "2022-05-05T09:49:31.620Z"
   },
   {
    "duration": 117629,
    "start_time": "2022-05-05T09:49:32.154Z"
   },
   {
    "duration": 3,
    "start_time": "2022-05-05T09:51:29.785Z"
   },
   {
    "duration": 1423,
    "start_time": "2022-05-05T09:51:29.790Z"
   },
   {
    "duration": 4,
    "start_time": "2022-05-05T09:51:31.214Z"
   },
   {
    "duration": 15,
    "start_time": "2022-05-05T09:51:31.220Z"
   },
   {
    "duration": 109,
    "start_time": "2022-05-05T09:51:31.237Z"
   },
   {
    "duration": 16,
    "start_time": "2022-05-05T09:51:31.347Z"
   },
   {
    "duration": 2425,
    "start_time": "2022-05-05T09:51:31.365Z"
   },
   {
    "duration": 17,
    "start_time": "2022-05-05T09:51:33.792Z"
   },
   {
    "duration": 253,
    "start_time": "2022-05-05T13:06:13.484Z"
   }
  ],
  "kernelspec": {
   "display_name": "Python 3 (ipykernel)",
   "language": "python",
   "name": "python3"
  },
  "language_info": {
   "codemirror_mode": {
    "name": "ipython",
    "version": 3
   },
   "file_extension": ".py",
   "mimetype": "text/x-python",
   "name": "python",
   "nbconvert_exporter": "python",
   "pygments_lexer": "ipython3",
   "version": "3.9.6"
  },
  "toc": {
   "base_numbering": 1,
   "nav_menu": {},
   "number_sections": true,
   "sideBar": true,
   "skip_h1_title": true,
   "title_cell": "Содержание",
   "title_sidebar": "Содержание",
   "toc_cell": true,
   "toc_position": {
    "height": "calc(100% - 180px)",
    "left": "10px",
    "top": "150px",
    "width": "238.391px"
   },
   "toc_section_display": true,
   "toc_window_display": true
  }
 },
 "nbformat": 4,
 "nbformat_minor": 2
}
