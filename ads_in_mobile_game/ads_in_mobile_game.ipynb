{
 "cells": [
  {
   "cell_type": "markdown",
   "id": "6d2ee3fb",
   "metadata": {
    "toc": true
   },
   "source": [
    "<h1>Содержание<span class=\"tocSkip\"></span></h1>\n",
    "<div class=\"toc\"><ul class=\"toc-item\"><li><span><a data-toc-modified-id=\"Загрузка-и-знакомство-с-данными-1\"><span class=\"toc-item-num\">1&nbsp;&nbsp;</span>Загрузка и знакомство с данными</a></span><ul class=\"toc-item\"><li><span><a data-toc-modified-id=\"Выводы-1.1\"><span class=\"toc-item-num\">1.1&nbsp;&nbsp;</span>Выводы</a></span></li></ul></li><li><span><a data-toc-modified-id=\"Предобработка-данных-2\"><span class=\"toc-item-num\">2&nbsp;&nbsp;</span>Предобработка данных</a></span><ul class=\"toc-item\"><li><span><a data-toc-modified-id=\"Проверка-соответсвия-условиям-ТЗ-2.1\"><span class=\"toc-item-num\">2.1&nbsp;&nbsp;</span>Проверка соответсвия условиям ТЗ</a></span></li><li><span><a data-toc-modified-id=\"Проверка-на-дубли-2.2\"><span class=\"toc-item-num\">2.2&nbsp;&nbsp;</span>Проверка на дубли</a></span></li><li><span><a data-toc-modified-id=\"Обработка-пропусков-2.3\"><span class=\"toc-item-num\">2.3&nbsp;&nbsp;</span>Обработка пропусков</a></span></li><li><span><a data-toc-modified-id=\"Формирование-датасета-для-анализа-2.4\"><span class=\"toc-item-num\">2.4&nbsp;&nbsp;</span>Формирование датасета для анализа</a></span></li><li><span><a data-toc-modified-id=\"Выводы-2.5\"><span class=\"toc-item-num\">2.5&nbsp;&nbsp;</span>Выводы</a></span></li></ul></li><li><span><a data-toc-modified-id=\"Вычисление-целевых-показателей-3\"><span class=\"toc-item-num\">3&nbsp;&nbsp;</span>Вычисление целевых показателей</a></span><ul class=\"toc-item\"><li><span><a data-toc-modified-id=\"Распределение-средних-eCPM-ов-пользователей-3.1\"><span class=\"toc-item-num\">3.1&nbsp;&nbsp;</span>Распределение средних eCPM-ов пользователей</a></span></li><li><span><a data-toc-modified-id=\"Cуммарные-доходы-по-городам,-версиям-ОС-3.2\"><span class=\"toc-item-num\">3.2&nbsp;&nbsp;</span>Cуммарные доходы по городам, версиям ОС</a></span><ul class=\"toc-item\"><li><span><a data-toc-modified-id=\"Cуммарные-доходы-по-городам-3.2.1\"><span class=\"toc-item-num\">3.2.1&nbsp;&nbsp;</span>Cуммарные доходы по городам</a></span></li><li><span><a data-toc-modified-id=\"Cуммарные-доходы-по-версиям-ОС-3.2.2\"><span class=\"toc-item-num\">3.2.2&nbsp;&nbsp;</span>Cуммарные доходы по версиям ОС</a></span></li></ul></li><li><span><a data-toc-modified-id=\"Средние-eCPM-ы-по-городам,-версиям-ОС-3.3\"><span class=\"toc-item-num\">3.3&nbsp;&nbsp;</span>Средние eCPM-ы по городам, версиям ОС</a></span><ul class=\"toc-item\"><li><span><a data-toc-modified-id=\"Средние-eCPM-ы-по-городам-3.3.1\"><span class=\"toc-item-num\">3.3.1&nbsp;&nbsp;</span>Средние eCPM-ы по городам</a></span></li><li><span><a data-toc-modified-id=\"Средние-eCPM-ы-по-версиям-ОС-3.3.2\"><span class=\"toc-item-num\">3.3.2&nbsp;&nbsp;</span>Средние eCPM-ы по версиям ОС</a></span></li></ul></li><li><span><a data-toc-modified-id=\"Выводы-3.4\"><span class=\"toc-item-num\">3.4&nbsp;&nbsp;</span>Выводы</a></span></li></ul></li><li><span><a data-toc-modified-id=\"Выводы-4\"><span class=\"toc-item-num\">4&nbsp;&nbsp;</span>Выводы</a></span></li></ul></div>"
   ]
  },
  {
   "cell_type": "markdown",
   "id": "ecd695ba",
   "metadata": {},
   "source": [
    "# Исследование eCPM рекламы в мобильной игре"
   ]
  },
  {
   "cell_type": "markdown",
   "id": "fa8db87f",
   "metadata": {},
   "source": [
    "**Описание проекта**:\n",
    "\n",
    "Мобильная игра зарабатывает на показе рекламы. Есть несколько форматов: int – полноэкранная реклама; banner – горизонтальный баннер, висит внизу экрана пока юзер играет; rv – видео, которое юзер смотрит по желанию и за просмотр получает монетки или др. ресурсы. Информация о каждом показе отправляется в аналитику и содержит доход от показа, формат показанной рекламы, рекламную сеть от которой был показ и др.\n",
    "\n",
    "**Цель** понять на сколько отличается eCPM в зависимости от географии (города) юзера, версии ОС и других параметров. для этого необходимо для каждого формата рекламы:\n",
    "1. построить распределение средних eCPM-ов юзеров\n",
    "2. отобразить средние eCPM-ы по городам, версиям ОС\n",
    "3. отобразить суммарные доходы по городам, версиям ОС\n",
    "\n",
    "Так же нужно учесть статистическую значимость для п.2 (отобразить, отфильтровать незначимое или прокомментировать). Объяснить решение.\n",
    "\n",
    "**Описание данных**:\n",
    "\n",
    "Файл `ads_in_mobile_game.csv` содержит информацию о показах рекламы для юзеров США\n",
    "\n",
    "*Наиболее значимые столбцы*:\n",
    "\n",
    "1. Столбец `profile_id` – id юзера\n",
    "2. Столбец `event_json` содержит данные о событии показа рекламы:\n",
    "    * `ad_type` – формат рекламы (int, banner или rv)\n",
    "    * `placement` – когда/где был показ рекламы в игре\n",
    "    * `view_index` – номер показа конкретного формата рекламы для юзера (не поддерживается для баннеров)\n",
    "    * `revenue` – доход от конкретного показа рекламы (eCPM = revenue * 1000)\n",
    "    * `ads_ltv` – накапливающийся доход от рекламы, равен сумме всех revenue юзера\n",
    "    * `network_name` – рекламная сеть, от которой был показ\n",
    "    \n",
    "Остальные столбцы должны быть интуитивно понятны"
   ]
  },
  {
   "cell_type": "markdown",
   "id": "112d9744",
   "metadata": {},
   "source": [
    "**Формулы используемые для расчёта**:\n",
    "    \n",
    "* средний eCPM пользователя по одному виду рекламы - среднее значение всех доходов (revenue) этого пользователя по этому типу рекламы умноженное на 1000, т.е. eCPM = mean(revenue) * 1000\n",
    "* суммарные доходы по городам, версиям ОС - сумма всех доходов (revenue) пользователей из этого города или с этой версией ОС по этому типу рекламы\n",
    "* средний eCPM для города или версии ОС по одному виду рекламы - среднее значение всех доходов (revenue) пользователей из этого города или с этой версией ОС по этому типу рекламы умноженное на 1000, т.е. eCPM = mean(revenue) * 1000"
   ]
  },
  {
   "cell_type": "code",
   "execution_count": 1,
   "id": "43bdf320",
   "metadata": {},
   "outputs": [],
   "source": [
    "import pandas as pd\n",
    "import json\n",
    "import matplotlib.pyplot as plt\n",
    "import numpy as np"
   ]
  },
  {
   "cell_type": "code",
   "execution_count": 2,
   "id": "8dcdf520",
   "metadata": {},
   "outputs": [],
   "source": [
    "# Настройка отображения всех колонок датафрейма\n",
    "pd.set_option('display.max_columns', None)"
   ]
  },
  {
   "cell_type": "markdown",
   "id": "326b7f6b",
   "metadata": {},
   "source": [
    "## Загрузка и знакомство с данными"
   ]
  },
  {
   "cell_type": "code",
   "execution_count": 3,
   "id": "ccc96610",
   "metadata": {},
   "outputs": [
    {
     "data": {
      "text/html": [
       "<div>\n",
       "<style scoped>\n",
       "    .dataframe tbody tr th:only-of-type {\n",
       "        vertical-align: middle;\n",
       "    }\n",
       "\n",
       "    .dataframe tbody tr th {\n",
       "        vertical-align: top;\n",
       "    }\n",
       "\n",
       "    .dataframe thead th {\n",
       "        text-align: right;\n",
       "    }\n",
       "</style>\n",
       "<table border=\"1\" class=\"dataframe\">\n",
       "  <thead>\n",
       "    <tr style=\"text-align: right;\">\n",
       "      <th></th>\n",
       "      <th>profile_id</th>\n",
       "      <th>os_version</th>\n",
       "      <th>device_manufacturer</th>\n",
       "      <th>device_model</th>\n",
       "      <th>device_type</th>\n",
       "      <th>device_locale</th>\n",
       "      <th>event_name</th>\n",
       "      <th>event_json</th>\n",
       "      <th>event_datetime</th>\n",
       "      <th>event_timestamp</th>\n",
       "      <th>event_receive_datetime</th>\n",
       "      <th>event_receive_timestamp</th>\n",
       "      <th>connection_type</th>\n",
       "      <th>operator_name</th>\n",
       "      <th>country_iso_code</th>\n",
       "      <th>city</th>\n",
       "    </tr>\n",
       "  </thead>\n",
       "  <tbody>\n",
       "    <tr>\n",
       "      <th>0</th>\n",
       "      <td>JLjpGzDHBQm</td>\n",
       "      <td>11</td>\n",
       "      <td>Samsung</td>\n",
       "      <td>Galaxy Tab S6</td>\n",
       "      <td>tablet</td>\n",
       "      <td>en_US</td>\n",
       "      <td>c_ad_revenue</td>\n",
       "      <td>{\"ad_type\":\"banner\",\"placement\":\"\",\"view_index...</td>\n",
       "      <td>2022-02-04 20:02:28</td>\n",
       "      <td>1643994148</td>\n",
       "      <td>2022-02-06 17:58:19</td>\n",
       "      <td>1644159499</td>\n",
       "      <td>wifi</td>\n",
       "      <td>NaN</td>\n",
       "      <td>US</td>\n",
       "      <td>Norwalk</td>\n",
       "    </tr>\n",
       "    <tr>\n",
       "      <th>1</th>\n",
       "      <td>JLjpGzDHBQm</td>\n",
       "      <td>11</td>\n",
       "      <td>Samsung</td>\n",
       "      <td>Galaxy Tab S6</td>\n",
       "      <td>tablet</td>\n",
       "      <td>en_US</td>\n",
       "      <td>c_ad_revenue</td>\n",
       "      <td>{\"ad_type\":\"banner\",\"placement\":\"\",\"view_index...</td>\n",
       "      <td>2022-02-04 20:02:45</td>\n",
       "      <td>1643994165</td>\n",
       "      <td>2022-02-06 17:58:19</td>\n",
       "      <td>1644159499</td>\n",
       "      <td>wifi</td>\n",
       "      <td>NaN</td>\n",
       "      <td>US</td>\n",
       "      <td>Norwalk</td>\n",
       "    </tr>\n",
       "    <tr>\n",
       "      <th>2</th>\n",
       "      <td>JLkVacrzHY6</td>\n",
       "      <td>11</td>\n",
       "      <td>Google</td>\n",
       "      <td>Pixel 2</td>\n",
       "      <td>phone</td>\n",
       "      <td>en_US</td>\n",
       "      <td>c_ad_revenue</td>\n",
       "      <td>{\"ad_type\":\"banner\",\"placement\":\"\",\"view_index...</td>\n",
       "      <td>2022-02-05 17:53:05</td>\n",
       "      <td>1644072785</td>\n",
       "      <td>2022-02-06 16:59:29</td>\n",
       "      <td>1644155969</td>\n",
       "      <td>wifi</td>\n",
       "      <td>Verizon</td>\n",
       "      <td>US</td>\n",
       "      <td>Charlotte</td>\n",
       "    </tr>\n",
       "    <tr>\n",
       "      <th>3</th>\n",
       "      <td>JMC6wG3cX0f</td>\n",
       "      <td>10</td>\n",
       "      <td>Samsung</td>\n",
       "      <td>Galaxy S9</td>\n",
       "      <td>phone</td>\n",
       "      <td>en_US</td>\n",
       "      <td>c_ad_revenue</td>\n",
       "      <td>{\"ad_type\":\"int\",\"placement\":\"next_level\",\"vie...</td>\n",
       "      <td>2022-02-06 17:09:01</td>\n",
       "      <td>1644156541</td>\n",
       "      <td>2022-02-06 17:09:24</td>\n",
       "      <td>1644156564</td>\n",
       "      <td>wifi</td>\n",
       "      <td>T-Mobile</td>\n",
       "      <td>US</td>\n",
       "      <td>Cocoa</td>\n",
       "    </tr>\n",
       "    <tr>\n",
       "      <th>4</th>\n",
       "      <td>JLzWWTJfi1b</td>\n",
       "      <td>10</td>\n",
       "      <td>Samsung</td>\n",
       "      <td>Galaxy S9</td>\n",
       "      <td>phone</td>\n",
       "      <td>en_US</td>\n",
       "      <td>c_ad_revenue</td>\n",
       "      <td>{\"ad_type\":\"banner\",\"placement\":\"\",\"view_index...</td>\n",
       "      <td>2022-02-06 17:15:38</td>\n",
       "      <td>1644156938</td>\n",
       "      <td>2022-02-06 17:16:16</td>\n",
       "      <td>1644156976</td>\n",
       "      <td>cell</td>\n",
       "      <td>Verizon</td>\n",
       "      <td>US</td>\n",
       "      <td>NaN</td>\n",
       "    </tr>\n",
       "  </tbody>\n",
       "</table>\n",
       "</div>"
      ],
      "text/plain": [
       "    profile_id os_version device_manufacturer   device_model device_type  \\\n",
       "0  JLjpGzDHBQm         11             Samsung  Galaxy Tab S6      tablet   \n",
       "1  JLjpGzDHBQm         11             Samsung  Galaxy Tab S6      tablet   \n",
       "2  JLkVacrzHY6         11              Google        Pixel 2       phone   \n",
       "3  JMC6wG3cX0f         10             Samsung      Galaxy S9       phone   \n",
       "4  JLzWWTJfi1b         10             Samsung      Galaxy S9       phone   \n",
       "\n",
       "  device_locale    event_name  \\\n",
       "0         en_US  c_ad_revenue   \n",
       "1         en_US  c_ad_revenue   \n",
       "2         en_US  c_ad_revenue   \n",
       "3         en_US  c_ad_revenue   \n",
       "4         en_US  c_ad_revenue   \n",
       "\n",
       "                                          event_json       event_datetime  \\\n",
       "0  {\"ad_type\":\"banner\",\"placement\":\"\",\"view_index...  2022-02-04 20:02:28   \n",
       "1  {\"ad_type\":\"banner\",\"placement\":\"\",\"view_index...  2022-02-04 20:02:45   \n",
       "2  {\"ad_type\":\"banner\",\"placement\":\"\",\"view_index...  2022-02-05 17:53:05   \n",
       "3  {\"ad_type\":\"int\",\"placement\":\"next_level\",\"vie...  2022-02-06 17:09:01   \n",
       "4  {\"ad_type\":\"banner\",\"placement\":\"\",\"view_index...  2022-02-06 17:15:38   \n",
       "\n",
       "   event_timestamp event_receive_datetime  event_receive_timestamp  \\\n",
       "0       1643994148    2022-02-06 17:58:19               1644159499   \n",
       "1       1643994165    2022-02-06 17:58:19               1644159499   \n",
       "2       1644072785    2022-02-06 16:59:29               1644155969   \n",
       "3       1644156541    2022-02-06 17:09:24               1644156564   \n",
       "4       1644156938    2022-02-06 17:16:16               1644156976   \n",
       "\n",
       "  connection_type operator_name country_iso_code       city  \n",
       "0            wifi           NaN               US    Norwalk  \n",
       "1            wifi           NaN               US    Norwalk  \n",
       "2            wifi       Verizon               US  Charlotte  \n",
       "3            wifi      T-Mobile               US      Cocoa  \n",
       "4            cell      Verizon                US        NaN  "
      ]
     },
     "execution_count": 3,
     "metadata": {},
     "output_type": "execute_result"
    }
   ],
   "source": [
    "df = pd.read_csv('ads_in_mobile_game.csv')\n",
    "df.head()"
   ]
  },
  {
   "cell_type": "markdown",
   "id": "e1a87afb",
   "metadata": {},
   "source": [
    "* датасет имеет стандартный разделитель csv файлов ','\n",
    "* все столбцы названы строчными английскими буквами в змеинном стиле, менять названия не требуется"
   ]
  },
  {
   "cell_type": "code",
   "execution_count": 4,
   "id": "a77cbb89",
   "metadata": {
    "scrolled": false
   },
   "outputs": [
    {
     "name": "stdout",
     "output_type": "stream",
     "text": [
      "<class 'pandas.core.frame.DataFrame'>\n",
      "RangeIndex: 860079 entries, 0 to 860078\n",
      "Data columns (total 16 columns):\n",
      " #   Column                   Non-Null Count   Dtype \n",
      "---  ------                   --------------   ----- \n",
      " 0   profile_id               860065 non-null  object\n",
      " 1   os_version               860079 non-null  object\n",
      " 2   device_manufacturer      860079 non-null  object\n",
      " 3   device_model             860079 non-null  object\n",
      " 4   device_type              860079 non-null  object\n",
      " 5   device_locale            860079 non-null  object\n",
      " 6   event_name               860079 non-null  object\n",
      " 7   event_json               860079 non-null  object\n",
      " 8   event_datetime           860079 non-null  object\n",
      " 9   event_timestamp          860079 non-null  int64 \n",
      " 10  event_receive_datetime   860079 non-null  object\n",
      " 11  event_receive_timestamp  860079 non-null  int64 \n",
      " 12  connection_type          860079 non-null  object\n",
      " 13  operator_name            841200 non-null  object\n",
      " 14  country_iso_code         860079 non-null  object\n",
      " 15  city                     536371 non-null  object\n",
      "dtypes: int64(2), object(14)\n",
      "memory usage: 105.0+ MB\n"
     ]
    }
   ],
   "source": [
    "df.info()"
   ]
  },
  {
   "cell_type": "markdown",
   "id": "42331d19",
   "metadata": {},
   "source": [
    "* всего в датасете 86 тыс записей\n",
    "* есть несколько пропусков в поле идентификатора пользователя\n",
    "* есть пропуски в имени оператора сотовой связи\n",
    "* есть существенное количество пропусков в названии города\n",
    "* столбцы с датами имеют строчный тип"
   ]
  },
  {
   "cell_type": "code",
   "execution_count": 5,
   "id": "70bd28b6",
   "metadata": {
    "scrolled": true
   },
   "outputs": [
    {
     "data": {
      "text/html": [
       "<div>\n",
       "<style scoped>\n",
       "    .dataframe tbody tr th:only-of-type {\n",
       "        vertical-align: middle;\n",
       "    }\n",
       "\n",
       "    .dataframe tbody tr th {\n",
       "        vertical-align: top;\n",
       "    }\n",
       "\n",
       "    .dataframe thead th {\n",
       "        text-align: right;\n",
       "    }\n",
       "</style>\n",
       "<table border=\"1\" class=\"dataframe\">\n",
       "  <thead>\n",
       "    <tr style=\"text-align: right;\">\n",
       "      <th></th>\n",
       "      <th>ad_type</th>\n",
       "      <th>placement</th>\n",
       "      <th>view_index</th>\n",
       "      <th>session_view_index</th>\n",
       "      <th>cur_ticks</th>\n",
       "      <th>session_length</th>\n",
       "      <th>revenue</th>\n",
       "      <th>ads_ltv</th>\n",
       "      <th>ecpm_sma</th>\n",
       "      <th>normalized_ecpm_sma</th>\n",
       "      <th>value</th>\n",
       "      <th>currency</th>\n",
       "      <th>ad_country_code</th>\n",
       "      <th>network_name</th>\n",
       "      <th>ad_unit_id</th>\n",
       "      <th>ad_network_placement</th>\n",
       "      <th>creativeId</th>\n",
       "    </tr>\n",
       "  </thead>\n",
       "  <tbody>\n",
       "    <tr>\n",
       "      <th>0</th>\n",
       "      <td>banner</td>\n",
       "      <td></td>\n",
       "      <td>1</td>\n",
       "      <td>0</td>\n",
       "      <td>637795729492245130</td>\n",
       "      <td>705.88070</td>\n",
       "      <td>0.000510</td>\n",
       "      <td>0.487877</td>\n",
       "      <td>0.511508</td>\n",
       "      <td>0.511508</td>\n",
       "      <td>0.000510</td>\n",
       "      <td>USD</td>\n",
       "      <td>US</td>\n",
       "      <td>Google AdMob</td>\n",
       "      <td>64c6b1114ea8c1cc</td>\n",
       "      <td>ca-app-pub-7511632782617496/8825263691</td>\n",
       "      <td>CJ3XirfD5vUCFYPnKAUdG3MOYQ</td>\n",
       "    </tr>\n",
       "    <tr>\n",
       "      <th>1</th>\n",
       "      <td>banner</td>\n",
       "      <td></td>\n",
       "      <td>1</td>\n",
       "      <td>0</td>\n",
       "      <td>637795729659949790</td>\n",
       "      <td>722.65120</td>\n",
       "      <td>0.000510</td>\n",
       "      <td>0.488387</td>\n",
       "      <td>0.511389</td>\n",
       "      <td>0.511389</td>\n",
       "      <td>0.000510</td>\n",
       "      <td>USD</td>\n",
       "      <td>US</td>\n",
       "      <td>Google AdMob</td>\n",
       "      <td>64c6b1114ea8c1cc</td>\n",
       "      <td>ca-app-pub-7511632782617496/8825263691</td>\n",
       "      <td>CNa-lL_D5vUCFZrpKAUdU2QBDQ</td>\n",
       "    </tr>\n",
       "    <tr>\n",
       "      <th>2</th>\n",
       "      <td>banner</td>\n",
       "      <td></td>\n",
       "      <td>1</td>\n",
       "      <td>0</td>\n",
       "      <td>637796515863735930</td>\n",
       "      <td>431.81290</td>\n",
       "      <td>0.002386</td>\n",
       "      <td>0.678479</td>\n",
       "      <td>0.928597</td>\n",
       "      <td>0.928597</td>\n",
       "      <td>0.002386</td>\n",
       "      <td>USD</td>\n",
       "      <td>US</td>\n",
       "      <td>APPLOVIN_EXCHANGE</td>\n",
       "      <td>64c6b1114ea8c1cc</td>\n",
       "      <td>banner_regular</td>\n",
       "      <td>pandora-58</td>\n",
       "    </tr>\n",
       "    <tr>\n",
       "      <th>3</th>\n",
       "      <td>int</td>\n",
       "      <td>next_level</td>\n",
       "      <td>1</td>\n",
       "      <td>1</td>\n",
       "      <td>637797353426827330</td>\n",
       "      <td>125.94960</td>\n",
       "      <td>0.013894</td>\n",
       "      <td>0.013894</td>\n",
       "      <td>13.782633</td>\n",
       "      <td>13.893784</td>\n",
       "      <td>0.013894</td>\n",
       "      <td>USD</td>\n",
       "      <td>US</td>\n",
       "      <td>AppLovin</td>\n",
       "      <td>3ab7705b07ebb75f</td>\n",
       "      <td>inter_regular</td>\n",
       "      <td>13045364</td>\n",
       "    </tr>\n",
       "    <tr>\n",
       "      <th>4</th>\n",
       "      <td>banner</td>\n",
       "      <td></td>\n",
       "      <td>1</td>\n",
       "      <td>0</td>\n",
       "      <td>637797357392197840</td>\n",
       "      <td>12.71129</td>\n",
       "      <td>0.006828</td>\n",
       "      <td>0.060571</td>\n",
       "      <td>1.660282</td>\n",
       "      <td>1.660282</td>\n",
       "      <td>0.006828</td>\n",
       "      <td>USD</td>\n",
       "      <td>US</td>\n",
       "      <td>Google AdMob</td>\n",
       "      <td>64c6b1114ea8c1cc</td>\n",
       "      <td>ca-app-pub-7511632782617496/6197324251</td>\n",
       "      <td>CMTi5e-h6_UCFUdVwQodt9EIMw</td>\n",
       "    </tr>\n",
       "  </tbody>\n",
       "</table>\n",
       "</div>"
      ],
      "text/plain": [
       "  ad_type   placement  view_index  session_view_index           cur_ticks  \\\n",
       "0  banner                       1                   0  637795729492245130   \n",
       "1  banner                       1                   0  637795729659949790   \n",
       "2  banner                       1                   0  637796515863735930   \n",
       "3     int  next_level           1                   1  637797353426827330   \n",
       "4  banner                       1                   0  637797357392197840   \n",
       "\n",
       "   session_length   revenue   ads_ltv   ecpm_sma  normalized_ecpm_sma  \\\n",
       "0       705.88070  0.000510  0.487877   0.511508             0.511508   \n",
       "1       722.65120  0.000510  0.488387   0.511389             0.511389   \n",
       "2       431.81290  0.002386  0.678479   0.928597             0.928597   \n",
       "3       125.94960  0.013894  0.013894  13.782633            13.893784   \n",
       "4        12.71129  0.006828  0.060571   1.660282             1.660282   \n",
       "\n",
       "      value currency ad_country_code       network_name        ad_unit_id  \\\n",
       "0  0.000510      USD              US       Google AdMob  64c6b1114ea8c1cc   \n",
       "1  0.000510      USD              US       Google AdMob  64c6b1114ea8c1cc   \n",
       "2  0.002386      USD              US  APPLOVIN_EXCHANGE  64c6b1114ea8c1cc   \n",
       "3  0.013894      USD              US           AppLovin  3ab7705b07ebb75f   \n",
       "4  0.006828      USD              US       Google AdMob  64c6b1114ea8c1cc   \n",
       "\n",
       "                     ad_network_placement                  creativeId  \n",
       "0  ca-app-pub-7511632782617496/8825263691  CJ3XirfD5vUCFYPnKAUdG3MOYQ  \n",
       "1  ca-app-pub-7511632782617496/8825263691  CNa-lL_D5vUCFZrpKAUdU2QBDQ  \n",
       "2                          banner_regular                  pandora-58  \n",
       "3                           inter_regular                    13045364  \n",
       "4  ca-app-pub-7511632782617496/6197324251  CMTi5e-h6_UCFUdVwQodt9EIMw  "
      ]
     },
     "execution_count": 5,
     "metadata": {},
     "output_type": "execute_result"
    }
   ],
   "source": [
    "# Посмотрим на содержание поля 'event_json'\n",
    "event_df = pd.json_normalize(df['event_json'].apply(json.loads))\n",
    "event_df.head()"
   ]
  },
  {
   "cell_type": "code",
   "execution_count": 6,
   "id": "3b2ad29e",
   "metadata": {
    "scrolled": false
   },
   "outputs": [
    {
     "name": "stdout",
     "output_type": "stream",
     "text": [
      "<class 'pandas.core.frame.DataFrame'>\n",
      "RangeIndex: 860079 entries, 0 to 860078\n",
      "Data columns (total 17 columns):\n",
      " #   Column                Non-Null Count   Dtype  \n",
      "---  ------                --------------   -----  \n",
      " 0   ad_type               860079 non-null  object \n",
      " 1   placement             860079 non-null  object \n",
      " 2   view_index            860079 non-null  int64  \n",
      " 3   session_view_index    860079 non-null  int64  \n",
      " 4   cur_ticks             860079 non-null  int64  \n",
      " 5   session_length        860079 non-null  float64\n",
      " 6   revenue               860079 non-null  float64\n",
      " 7   ads_ltv               860079 non-null  float64\n",
      " 8   ecpm_sma              860079 non-null  float64\n",
      " 9   normalized_ecpm_sma   860079 non-null  float64\n",
      " 10  value                 860079 non-null  float64\n",
      " 11  currency              860079 non-null  object \n",
      " 12  ad_country_code       860079 non-null  object \n",
      " 13  network_name          860079 non-null  object \n",
      " 14  ad_unit_id            860079 non-null  object \n",
      " 15  ad_network_placement  860079 non-null  object \n",
      " 16  creativeId            860079 non-null  object \n",
      "dtypes: float64(6), int64(3), object(8)\n",
      "memory usage: 111.6+ MB\n"
     ]
    }
   ],
   "source": [
    "event_df.info()"
   ]
  },
  {
   "cell_type": "markdown",
   "id": "3d155448",
   "metadata": {},
   "source": [
    "В записях о событиях нет ни одного пропуска"
   ]
  },
  {
   "cell_type": "markdown",
   "id": "663212cb",
   "metadata": {},
   "source": [
    "### Выводы"
   ]
  },
  {
   "cell_type": "markdown",
   "id": "e7302a0f",
   "metadata": {},
   "source": [
    "**Общие сведения**\n",
    "* датасет имеет стандартный разделитель csv файлов ','\n",
    "* все столбцы названы строчными английскими буквами в змеинном стиле, менять названия не требуется\n",
    "* всего в датасете 86 тыс записей\n",
    "* есть несколько пропусков в поле идентификатора пользователя\n",
    "* есть пропуски в имени оператора сотовой связи\n",
    "* есть существенное количество пропусков в названии города\n",
    "* столбцы с датами имеют строчный тип\n",
    "* в записях о событиях (event_json) нет ни одного пропуска"
   ]
  },
  {
   "cell_type": "markdown",
   "id": "7032f4ec",
   "metadata": {},
   "source": [
    "## Предобработка данных"
   ]
  },
  {
   "cell_type": "markdown",
   "id": "e92d28d7",
   "metadata": {},
   "source": [
    "В целом, можно разбирать иходный датафрейи и датафрейм событий по отдельности для ускорения производительности, но для сохранения общей структуры и последовательной обработки данных сразу в обоих датасетах присоединим датасет событий к общему датасету, а столбец event_json удалим"
   ]
  },
  {
   "cell_type": "code",
   "execution_count": 7,
   "id": "0cb70705",
   "metadata": {},
   "outputs": [
    {
     "name": "stdout",
     "output_type": "stream",
     "text": [
      "<class 'pandas.core.frame.DataFrame'>\n",
      "RangeIndex: 860079 entries, 0 to 860078\n",
      "Data columns (total 32 columns):\n",
      " #   Column                   Non-Null Count   Dtype  \n",
      "---  ------                   --------------   -----  \n",
      " 0   profile_id               860065 non-null  object \n",
      " 1   os_version               860079 non-null  object \n",
      " 2   device_manufacturer      860079 non-null  object \n",
      " 3   device_model             860079 non-null  object \n",
      " 4   device_type              860079 non-null  object \n",
      " 5   device_locale            860079 non-null  object \n",
      " 6   event_name               860079 non-null  object \n",
      " 7   event_datetime           860079 non-null  object \n",
      " 8   event_timestamp          860079 non-null  int64  \n",
      " 9   event_receive_datetime   860079 non-null  object \n",
      " 10  event_receive_timestamp  860079 non-null  int64  \n",
      " 11  connection_type          860079 non-null  object \n",
      " 12  operator_name            841200 non-null  object \n",
      " 13  country_iso_code         860079 non-null  object \n",
      " 14  city                     536371 non-null  object \n",
      " 15  ad_type                  860079 non-null  object \n",
      " 16  placement                860079 non-null  object \n",
      " 17  view_index               860079 non-null  int64  \n",
      " 18  session_view_index       860079 non-null  int64  \n",
      " 19  cur_ticks                860079 non-null  int64  \n",
      " 20  session_length           860079 non-null  float64\n",
      " 21  revenue                  860079 non-null  float64\n",
      " 22  ads_ltv                  860079 non-null  float64\n",
      " 23  ecpm_sma                 860079 non-null  float64\n",
      " 24  normalized_ecpm_sma      860079 non-null  float64\n",
      " 25  value                    860079 non-null  float64\n",
      " 26  currency                 860079 non-null  object \n",
      " 27  ad_country_code          860079 non-null  object \n",
      " 28  network_name             860079 non-null  object \n",
      " 29  ad_unit_id               860079 non-null  object \n",
      " 30  ad_network_placement     860079 non-null  object \n",
      " 31  creativeId               860079 non-null  object \n",
      "dtypes: float64(6), int64(5), object(21)\n",
      "memory usage: 210.0+ MB\n"
     ]
    }
   ],
   "source": [
    "df = df.join(event_df)\n",
    "df = df.drop('event_json', axis=1)\n",
    "df.info()"
   ]
  },
  {
   "cell_type": "markdown",
   "id": "7c9c4bb6",
   "metadata": {},
   "source": [
    "### Проверка соответсвия условиям ТЗ"
   ]
  },
  {
   "cell_type": "code",
   "execution_count": 8,
   "id": "69817279",
   "metadata": {},
   "outputs": [
    {
     "data": {
      "text/plain": [
       "US    860079\n",
       "Name: country_iso_code, dtype: int64"
      ]
     },
     "execution_count": 8,
     "metadata": {},
     "output_type": "execute_result"
    }
   ],
   "source": [
    "# Проверим, что пользователи действительно находятся в регионе US\n",
    "df['country_iso_code'].value_counts()"
   ]
  },
  {
   "cell_type": "markdown",
   "id": "e4436473",
   "metadata": {},
   "source": [
    "Все значения в колонке из региона US"
   ]
  },
  {
   "cell_type": "code",
   "execution_count": 9,
   "id": "6545d434",
   "metadata": {
    "scrolled": true
   },
   "outputs": [
    {
     "data": {
      "text/plain": [
       "en_US         856257\n",
       "en_GB           1543\n",
       "en_IN            875\n",
       "en_CA            718\n",
       "en_NL            438\n",
       "ko_KR            147\n",
       "fr_FR             43\n",
       "zh-Hant_TW        41\n",
       "en_AU             17\n",
       "Name: device_locale, dtype: int64"
      ]
     },
     "execution_count": 9,
     "metadata": {},
     "output_type": "execute_result"
    }
   ],
   "source": [
    "# Проверим устройства\n",
    "df['device_locale'].value_counts()"
   ]
  },
  {
   "cell_type": "code",
   "execution_count": 10,
   "id": "7b9d5df5",
   "metadata": {
    "scrolled": true
   },
   "outputs": [
    {
     "data": {
      "text/plain": [
       "US    859962\n",
       "ID        42\n",
       "DE        41\n",
       "FR        14\n",
       "CA        10\n",
       "KR         4\n",
       "GB         2\n",
       "EG         2\n",
       "MX         2\n",
       "Name: ad_country_code, dtype: int64"
      ]
     },
     "execution_count": 10,
     "metadata": {},
     "output_type": "execute_result"
    }
   ],
   "source": [
    "# Проверим, что все события являются рекламой\n",
    "df['ad_country_code'].value_counts()"
   ]
  },
  {
   "cell_type": "markdown",
   "id": "6896fa43",
   "metadata": {},
   "source": [
    "Местоположение устройств и страна из кода рекламы содержат регионы отличные от US. Возможно это туристы из соответсвующих стран сейчас находящиеся в США или таргетирование работает только по текущему местоположению, без учёта локализации устройства. В любом случае надо обратить на наличие таких пользователей сотрудников отвечающих за таргет рекламмы, т.к. врядли реклама для пользователя из США будет эффективна для пользователя из Индии, что может сказаться на будущих доходах."
   ]
  },
  {
   "cell_type": "code",
   "execution_count": 11,
   "id": "93140d2f",
   "metadata": {},
   "outputs": [
    {
     "data": {
      "text/plain": [
       "856246"
      ]
     },
     "execution_count": 11,
     "metadata": {},
     "output_type": "execute_result"
    }
   ],
   "source": [
    "# Оставим только пользователей из US\n",
    "df = df.query('device_locale == \"en_US\" and ad_country_code == \"US\"')\n",
    "df.shape[0]"
   ]
  },
  {
   "cell_type": "code",
   "execution_count": 12,
   "id": "98e81d6f",
   "metadata": {},
   "outputs": [
    {
     "data": {
      "text/plain": [
       "c_ad_revenue    856246\n",
       "Name: event_name, dtype: int64"
      ]
     },
     "execution_count": 12,
     "metadata": {},
     "output_type": "execute_result"
    }
   ],
   "source": [
    "#Проверим, что все зафиксированные события были рекламой\n",
    "df['event_name'].value_counts()"
   ]
  },
  {
   "cell_type": "markdown",
   "id": "d8c24bd1",
   "metadata": {},
   "source": [
    "Да, все зафиксированные события были рекламой"
   ]
  },
  {
   "cell_type": "code",
   "execution_count": 13,
   "id": "1c642982",
   "metadata": {},
   "outputs": [
    {
     "data": {
      "text/plain": [
       "array(['banner', 'int', 'rv'], dtype=object)"
      ]
     },
     "execution_count": 13,
     "metadata": {},
     "output_type": "execute_result"
    }
   ],
   "source": [
    "#Проверим, что тип рекламы имеет только заявленые значения\n",
    "df['ad_type'].unique()"
   ]
  },
  {
   "cell_type": "markdown",
   "id": "2c814abe",
   "metadata": {},
   "source": [
    "### Проверка на дубли"
   ]
  },
  {
   "cell_type": "code",
   "execution_count": 14,
   "id": "523276f3",
   "metadata": {},
   "outputs": [
    {
     "data": {
      "text/plain": [
       "0"
      ]
     },
     "execution_count": 14,
     "metadata": {},
     "output_type": "execute_result"
    }
   ],
   "source": [
    "df.duplicated().sum()"
   ]
  },
  {
   "cell_type": "markdown",
   "id": "b23c9841",
   "metadata": {},
   "source": [
    "Полных дубликатов нет."
   ]
  },
  {
   "cell_type": "markdown",
   "id": "90a03c99",
   "metadata": {},
   "source": [
    "### Обработка пропусков"
   ]
  },
  {
   "cell_type": "code",
   "execution_count": 15,
   "id": "3f866f42",
   "metadata": {
    "scrolled": true
   },
   "outputs": [
    {
     "data": {
      "text/html": [
       "<div>\n",
       "<style scoped>\n",
       "    .dataframe tbody tr th:only-of-type {\n",
       "        vertical-align: middle;\n",
       "    }\n",
       "\n",
       "    .dataframe tbody tr th {\n",
       "        vertical-align: top;\n",
       "    }\n",
       "\n",
       "    .dataframe thead th {\n",
       "        text-align: right;\n",
       "    }\n",
       "</style>\n",
       "<table border=\"1\" class=\"dataframe\">\n",
       "  <thead>\n",
       "    <tr style=\"text-align: right;\">\n",
       "      <th></th>\n",
       "      <th>profile_id</th>\n",
       "      <th>os_version</th>\n",
       "      <th>device_manufacturer</th>\n",
       "      <th>device_model</th>\n",
       "      <th>device_type</th>\n",
       "      <th>device_locale</th>\n",
       "      <th>event_name</th>\n",
       "      <th>event_datetime</th>\n",
       "      <th>event_timestamp</th>\n",
       "      <th>event_receive_datetime</th>\n",
       "      <th>event_receive_timestamp</th>\n",
       "      <th>connection_type</th>\n",
       "      <th>operator_name</th>\n",
       "      <th>country_iso_code</th>\n",
       "      <th>city</th>\n",
       "      <th>ad_type</th>\n",
       "      <th>placement</th>\n",
       "      <th>view_index</th>\n",
       "      <th>session_view_index</th>\n",
       "      <th>cur_ticks</th>\n",
       "      <th>session_length</th>\n",
       "      <th>revenue</th>\n",
       "      <th>ads_ltv</th>\n",
       "      <th>ecpm_sma</th>\n",
       "      <th>normalized_ecpm_sma</th>\n",
       "      <th>value</th>\n",
       "      <th>currency</th>\n",
       "      <th>ad_country_code</th>\n",
       "      <th>network_name</th>\n",
       "      <th>ad_unit_id</th>\n",
       "      <th>ad_network_placement</th>\n",
       "      <th>creativeId</th>\n",
       "    </tr>\n",
       "  </thead>\n",
       "  <tbody>\n",
       "    <tr>\n",
       "      <th>191509</th>\n",
       "      <td>NaN</td>\n",
       "      <td>11</td>\n",
       "      <td>Samsung</td>\n",
       "      <td>Galaxy A10e</td>\n",
       "      <td>phone</td>\n",
       "      <td>en_US</td>\n",
       "      <td>c_ad_revenue</td>\n",
       "      <td>2022-02-06 21:07:27</td>\n",
       "      <td>1644170847</td>\n",
       "      <td>2022-02-06 21:07:41</td>\n",
       "      <td>1644170861</td>\n",
       "      <td>wifi</td>\n",
       "      <td>AT&amp;T</td>\n",
       "      <td>US</td>\n",
       "      <td>NaN</td>\n",
       "      <td>int</td>\n",
       "      <td>next_level</td>\n",
       "      <td>1</td>\n",
       "      <td>1</td>\n",
       "      <td>637797496485079780</td>\n",
       "      <td>121.2020</td>\n",
       "      <td>0.024596</td>\n",
       "      <td>0.024596</td>\n",
       "      <td>24.399611</td>\n",
       "      <td>24.596382</td>\n",
       "      <td>0.024596</td>\n",
       "      <td>USD</td>\n",
       "      <td>US</td>\n",
       "      <td>Facebook</td>\n",
       "      <td>3ab7705b07ebb75f</td>\n",
       "      <td>524377382067272_528132981691712</td>\n",
       "      <td>8128790388721590458</td>\n",
       "    </tr>\n",
       "    <tr>\n",
       "      <th>191510</th>\n",
       "      <td>NaN</td>\n",
       "      <td>11</td>\n",
       "      <td>Samsung</td>\n",
       "      <td>Galaxy A10e</td>\n",
       "      <td>phone</td>\n",
       "      <td>en_US</td>\n",
       "      <td>c_ad_revenue</td>\n",
       "      <td>2022-02-06 21:08:27</td>\n",
       "      <td>1644170907</td>\n",
       "      <td>2022-02-06 21:09:47</td>\n",
       "      <td>1644170987</td>\n",
       "      <td>wifi</td>\n",
       "      <td>AT&amp;T</td>\n",
       "      <td>US</td>\n",
       "      <td>NaN</td>\n",
       "      <td>banner</td>\n",
       "      <td></td>\n",
       "      <td>1</td>\n",
       "      <td>0</td>\n",
       "      <td>637797497082605190</td>\n",
       "      <td>180.9337</td>\n",
       "      <td>0.000317</td>\n",
       "      <td>0.024914</td>\n",
       "      <td>0.317236</td>\n",
       "      <td>0.317236</td>\n",
       "      <td>0.000317</td>\n",
       "      <td>USD</td>\n",
       "      <td>US</td>\n",
       "      <td>APPLOVIN_EXCHANGE</td>\n",
       "      <td>64c6b1114ea8c1cc</td>\n",
       "      <td>banner_regular</td>\n",
       "      <td>238963:cb32c1cbda1907486e56659eac121b51</td>\n",
       "    </tr>\n",
       "    <tr>\n",
       "      <th>191511</th>\n",
       "      <td>NaN</td>\n",
       "      <td>11</td>\n",
       "      <td>Samsung</td>\n",
       "      <td>Galaxy A10e</td>\n",
       "      <td>phone</td>\n",
       "      <td>en_US</td>\n",
       "      <td>c_ad_revenue</td>\n",
       "      <td>2022-02-06 21:12:38</td>\n",
       "      <td>1644171158</td>\n",
       "      <td>2022-02-06 21:13:25</td>\n",
       "      <td>1644171205</td>\n",
       "      <td>wifi</td>\n",
       "      <td>AT&amp;T</td>\n",
       "      <td>US</td>\n",
       "      <td>NaN</td>\n",
       "      <td>int</td>\n",
       "      <td>next_level</td>\n",
       "      <td>2</td>\n",
       "      <td>2</td>\n",
       "      <td>637797499596646980</td>\n",
       "      <td>432.3397</td>\n",
       "      <td>0.024596</td>\n",
       "      <td>0.049510</td>\n",
       "      <td>24.242193</td>\n",
       "      <td>24.636375</td>\n",
       "      <td>0.024596</td>\n",
       "      <td>USD</td>\n",
       "      <td>US</td>\n",
       "      <td>Facebook</td>\n",
       "      <td>3ab7705b07ebb75f</td>\n",
       "      <td>524377382067272_528132981691712</td>\n",
       "      <td>4858603389059905410</td>\n",
       "    </tr>\n",
       "    <tr>\n",
       "      <th>191512</th>\n",
       "      <td>NaN</td>\n",
       "      <td>11</td>\n",
       "      <td>Samsung</td>\n",
       "      <td>Galaxy A10e</td>\n",
       "      <td>phone</td>\n",
       "      <td>en_US</td>\n",
       "      <td>c_ad_revenue</td>\n",
       "      <td>2022-02-06 21:13:41</td>\n",
       "      <td>1644171221</td>\n",
       "      <td>2022-02-06 21:16:10</td>\n",
       "      <td>1644171370</td>\n",
       "      <td>wifi</td>\n",
       "      <td>AT&amp;T</td>\n",
       "      <td>US</td>\n",
       "      <td>NaN</td>\n",
       "      <td>banner</td>\n",
       "      <td></td>\n",
       "      <td>1</td>\n",
       "      <td>0</td>\n",
       "      <td>637797500227105840</td>\n",
       "      <td>495.3856</td>\n",
       "      <td>0.000181</td>\n",
       "      <td>0.049691</td>\n",
       "      <td>0.303622</td>\n",
       "      <td>0.303622</td>\n",
       "      <td>0.000181</td>\n",
       "      <td>USD</td>\n",
       "      <td>US</td>\n",
       "      <td>APPLOVIN_EXCHANGE</td>\n",
       "      <td>64c6b1114ea8c1cc</td>\n",
       "      <td>banner_regular</td>\n",
       "      <td>236104:17978c0ab28c0d130d6b997182630f57</td>\n",
       "    </tr>\n",
       "    <tr>\n",
       "      <th>191513</th>\n",
       "      <td>NaN</td>\n",
       "      <td>11</td>\n",
       "      <td>Samsung</td>\n",
       "      <td>Galaxy A10e</td>\n",
       "      <td>phone</td>\n",
       "      <td>en_US</td>\n",
       "      <td>c_ad_revenue</td>\n",
       "      <td>2022-02-06 21:14:12</td>\n",
       "      <td>1644171252</td>\n",
       "      <td>2022-02-06 21:16:10</td>\n",
       "      <td>1644171370</td>\n",
       "      <td>wifi</td>\n",
       "      <td>AT&amp;T</td>\n",
       "      <td>US</td>\n",
       "      <td>NaN</td>\n",
       "      <td>banner</td>\n",
       "      <td></td>\n",
       "      <td>1</td>\n",
       "      <td>0</td>\n",
       "      <td>637797500533944000</td>\n",
       "      <td>526.0692</td>\n",
       "      <td>0.002386</td>\n",
       "      <td>0.052077</td>\n",
       "      <td>0.511876</td>\n",
       "      <td>0.511876</td>\n",
       "      <td>0.002386</td>\n",
       "      <td>USD</td>\n",
       "      <td>US</td>\n",
       "      <td>APPLOVIN_EXCHANGE</td>\n",
       "      <td>64c6b1114ea8c1cc</td>\n",
       "      <td>banner_regular</td>\n",
       "      <td>pandora-57</td>\n",
       "    </tr>\n",
       "    <tr>\n",
       "      <th>191514</th>\n",
       "      <td>NaN</td>\n",
       "      <td>11</td>\n",
       "      <td>Samsung</td>\n",
       "      <td>Galaxy A10e</td>\n",
       "      <td>phone</td>\n",
       "      <td>en_US</td>\n",
       "      <td>c_ad_revenue</td>\n",
       "      <td>2022-02-06 21:15:28</td>\n",
       "      <td>1644171328</td>\n",
       "      <td>2022-02-06 21:16:10</td>\n",
       "      <td>1644171370</td>\n",
       "      <td>wifi</td>\n",
       "      <td>AT&amp;T</td>\n",
       "      <td>US</td>\n",
       "      <td>NaN</td>\n",
       "      <td>banner</td>\n",
       "      <td></td>\n",
       "      <td>1</td>\n",
       "      <td>0</td>\n",
       "      <td>637797501294427770</td>\n",
       "      <td>602.1183</td>\n",
       "      <td>0.000155</td>\n",
       "      <td>0.052232</td>\n",
       "      <td>0.476180</td>\n",
       "      <td>0.476180</td>\n",
       "      <td>0.000155</td>\n",
       "      <td>USD</td>\n",
       "      <td>US</td>\n",
       "      <td>APPLOVIN_EXCHANGE</td>\n",
       "      <td>64c6b1114ea8c1cc</td>\n",
       "      <td>banner_regular</td>\n",
       "      <td>238963:cb32c1cbda1907486e56659eac121b51</td>\n",
       "    </tr>\n",
       "    <tr>\n",
       "      <th>191515</th>\n",
       "      <td>NaN</td>\n",
       "      <td>11</td>\n",
       "      <td>Samsung</td>\n",
       "      <td>Galaxy A10e</td>\n",
       "      <td>phone</td>\n",
       "      <td>en_US</td>\n",
       "      <td>c_ad_revenue</td>\n",
       "      <td>2022-02-06 21:17:22</td>\n",
       "      <td>1644171442</td>\n",
       "      <td>2022-02-06 21:17:42</td>\n",
       "      <td>1644171462</td>\n",
       "      <td>wifi</td>\n",
       "      <td>AT&amp;T</td>\n",
       "      <td>US</td>\n",
       "      <td>NaN</td>\n",
       "      <td>banner</td>\n",
       "      <td></td>\n",
       "      <td>1</td>\n",
       "      <td>0</td>\n",
       "      <td>637797502427659960</td>\n",
       "      <td>715.4388</td>\n",
       "      <td>0.000517</td>\n",
       "      <td>0.053407</td>\n",
       "      <td>0.453385</td>\n",
       "      <td>0.453385</td>\n",
       "      <td>0.000517</td>\n",
       "      <td>USD</td>\n",
       "      <td>US</td>\n",
       "      <td>Facebook</td>\n",
       "      <td>64c6b1114ea8c1cc</td>\n",
       "      <td>524377382067272_528134061691604</td>\n",
       "      <td>4860842819419589218</td>\n",
       "    </tr>\n",
       "    <tr>\n",
       "      <th>191516</th>\n",
       "      <td>NaN</td>\n",
       "      <td>11</td>\n",
       "      <td>Samsung</td>\n",
       "      <td>Galaxy A10e</td>\n",
       "      <td>phone</td>\n",
       "      <td>en_US</td>\n",
       "      <td>c_ad_revenue</td>\n",
       "      <td>2022-02-06 21:17:36</td>\n",
       "      <td>1644171456</td>\n",
       "      <td>2022-02-06 21:17:42</td>\n",
       "      <td>1644171462</td>\n",
       "      <td>wifi</td>\n",
       "      <td>AT&amp;T</td>\n",
       "      <td>US</td>\n",
       "      <td>NaN</td>\n",
       "      <td>banner</td>\n",
       "      <td></td>\n",
       "      <td>1</td>\n",
       "      <td>0</td>\n",
       "      <td>637797502577176870</td>\n",
       "      <td>730.3909</td>\n",
       "      <td>0.000517</td>\n",
       "      <td>0.053924</td>\n",
       "      <td>0.459763</td>\n",
       "      <td>0.459763</td>\n",
       "      <td>0.000517</td>\n",
       "      <td>USD</td>\n",
       "      <td>US</td>\n",
       "      <td>Facebook</td>\n",
       "      <td>64c6b1114ea8c1cc</td>\n",
       "      <td>524377382067272_528134061691604</td>\n",
       "      <td>1622666176655429538</td>\n",
       "    </tr>\n",
       "    <tr>\n",
       "      <th>191517</th>\n",
       "      <td>NaN</td>\n",
       "      <td>11</td>\n",
       "      <td>Samsung</td>\n",
       "      <td>Galaxy A10e</td>\n",
       "      <td>phone</td>\n",
       "      <td>en_US</td>\n",
       "      <td>c_ad_revenue</td>\n",
       "      <td>2022-02-06 21:18:08</td>\n",
       "      <td>1644171488</td>\n",
       "      <td>2022-02-06 21:18:42</td>\n",
       "      <td>1644171522</td>\n",
       "      <td>wifi</td>\n",
       "      <td>AT&amp;T</td>\n",
       "      <td>US</td>\n",
       "      <td>NaN</td>\n",
       "      <td>banner</td>\n",
       "      <td></td>\n",
       "      <td>1</td>\n",
       "      <td>0</td>\n",
       "      <td>637797502891857410</td>\n",
       "      <td>761.8586</td>\n",
       "      <td>0.000124</td>\n",
       "      <td>0.054048</td>\n",
       "      <td>0.426187</td>\n",
       "      <td>0.426187</td>\n",
       "      <td>0.000124</td>\n",
       "      <td>USD</td>\n",
       "      <td>US</td>\n",
       "      <td>APPLOVIN_EXCHANGE</td>\n",
       "      <td>64c6b1114ea8c1cc</td>\n",
       "      <td>banner_regular</td>\n",
       "      <td>207193</td>\n",
       "    </tr>\n",
       "    <tr>\n",
       "      <th>191518</th>\n",
       "      <td>NaN</td>\n",
       "      <td>11</td>\n",
       "      <td>Samsung</td>\n",
       "      <td>Galaxy A10e</td>\n",
       "      <td>phone</td>\n",
       "      <td>en_US</td>\n",
       "      <td>c_ad_revenue</td>\n",
       "      <td>2022-02-06 21:18:23</td>\n",
       "      <td>1644171503</td>\n",
       "      <td>2022-02-06 21:18:42</td>\n",
       "      <td>1644171522</td>\n",
       "      <td>wifi</td>\n",
       "      <td>AT&amp;T</td>\n",
       "      <td>US</td>\n",
       "      <td>NaN</td>\n",
       "      <td>banner</td>\n",
       "      <td></td>\n",
       "      <td>1</td>\n",
       "      <td>0</td>\n",
       "      <td>637797503042824310</td>\n",
       "      <td>776.9558</td>\n",
       "      <td>0.000133</td>\n",
       "      <td>0.054181</td>\n",
       "      <td>0.396887</td>\n",
       "      <td>0.396887</td>\n",
       "      <td>0.000133</td>\n",
       "      <td>USD</td>\n",
       "      <td>US</td>\n",
       "      <td>APPLOVIN_EXCHANGE</td>\n",
       "      <td>64c6b1114ea8c1cc</td>\n",
       "      <td>banner_regular</td>\n",
       "      <td>150253</td>\n",
       "    </tr>\n",
       "    <tr>\n",
       "      <th>191519</th>\n",
       "      <td>NaN</td>\n",
       "      <td>11</td>\n",
       "      <td>Samsung</td>\n",
       "      <td>Galaxy A10e</td>\n",
       "      <td>phone</td>\n",
       "      <td>en_US</td>\n",
       "      <td>c_ad_revenue</td>\n",
       "      <td>2022-02-06 21:18:38</td>\n",
       "      <td>1644171518</td>\n",
       "      <td>2022-02-06 21:18:42</td>\n",
       "      <td>1644171522</td>\n",
       "      <td>wifi</td>\n",
       "      <td>AT&amp;T</td>\n",
       "      <td>US</td>\n",
       "      <td>NaN</td>\n",
       "      <td>banner</td>\n",
       "      <td></td>\n",
       "      <td>1</td>\n",
       "      <td>0</td>\n",
       "      <td>637797503193556100</td>\n",
       "      <td>792.0285</td>\n",
       "      <td>0.000121</td>\n",
       "      <td>0.054302</td>\n",
       "      <td>0.369311</td>\n",
       "      <td>0.369311</td>\n",
       "      <td>0.000121</td>\n",
       "      <td>USD</td>\n",
       "      <td>US</td>\n",
       "      <td>APPLOVIN_EXCHANGE</td>\n",
       "      <td>64c6b1114ea8c1cc</td>\n",
       "      <td>banner_regular</td>\n",
       "      <td>textnow:a:AIrAfyIiQYRuN0a3</td>\n",
       "    </tr>\n",
       "    <tr>\n",
       "      <th>191520</th>\n",
       "      <td>NaN</td>\n",
       "      <td>11</td>\n",
       "      <td>Samsung</td>\n",
       "      <td>Galaxy A10e</td>\n",
       "      <td>phone</td>\n",
       "      <td>en_US</td>\n",
       "      <td>c_ad_revenue</td>\n",
       "      <td>2022-02-06 21:16:34</td>\n",
       "      <td>1644171394</td>\n",
       "      <td>2022-02-06 21:17:42</td>\n",
       "      <td>1644171462</td>\n",
       "      <td>wifi</td>\n",
       "      <td>AT&amp;T</td>\n",
       "      <td>US</td>\n",
       "      <td>NaN</td>\n",
       "      <td>banner</td>\n",
       "      <td></td>\n",
       "      <td>1</td>\n",
       "      <td>0</td>\n",
       "      <td>637797501951408430</td>\n",
       "      <td>667.8138</td>\n",
       "      <td>0.000517</td>\n",
       "      <td>0.052749</td>\n",
       "      <td>0.480279</td>\n",
       "      <td>0.480279</td>\n",
       "      <td>0.000517</td>\n",
       "      <td>USD</td>\n",
       "      <td>US</td>\n",
       "      <td>Facebook</td>\n",
       "      <td>64c6b1114ea8c1cc</td>\n",
       "      <td>524377382067272_528134061691604</td>\n",
       "      <td>6259195110550783042</td>\n",
       "    </tr>\n",
       "    <tr>\n",
       "      <th>191521</th>\n",
       "      <td>NaN</td>\n",
       "      <td>11</td>\n",
       "      <td>Samsung</td>\n",
       "      <td>Galaxy A10e</td>\n",
       "      <td>phone</td>\n",
       "      <td>en_US</td>\n",
       "      <td>c_ad_revenue</td>\n",
       "      <td>2022-02-06 21:17:06</td>\n",
       "      <td>1644171426</td>\n",
       "      <td>2022-02-06 21:17:42</td>\n",
       "      <td>1644171462</td>\n",
       "      <td>wifi</td>\n",
       "      <td>AT&amp;T</td>\n",
       "      <td>US</td>\n",
       "      <td>NaN</td>\n",
       "      <td>banner</td>\n",
       "      <td></td>\n",
       "      <td>1</td>\n",
       "      <td>0</td>\n",
       "      <td>637797502273544900</td>\n",
       "      <td>700.0276</td>\n",
       "      <td>0.000140</td>\n",
       "      <td>0.052890</td>\n",
       "      <td>0.446298</td>\n",
       "      <td>0.446298</td>\n",
       "      <td>0.000140</td>\n",
       "      <td>USD</td>\n",
       "      <td>US</td>\n",
       "      <td>APPLOVIN_EXCHANGE</td>\n",
       "      <td>64c6b1114ea8c1cc</td>\n",
       "      <td>banner_regular</td>\n",
       "      <td>150253</td>\n",
       "    </tr>\n",
       "    <tr>\n",
       "      <th>257210</th>\n",
       "      <td>NaN</td>\n",
       "      <td>11</td>\n",
       "      <td>Motorola</td>\n",
       "      <td>moto g(8) power</td>\n",
       "      <td>phone</td>\n",
       "      <td>en_US</td>\n",
       "      <td>c_ad_revenue</td>\n",
       "      <td>2022-02-05 08:27:54</td>\n",
       "      <td>1644038874</td>\n",
       "      <td>2022-02-05 08:28:29</td>\n",
       "      <td>1644038909</td>\n",
       "      <td>wifi</td>\n",
       "      <td>AT&amp;T</td>\n",
       "      <td>US</td>\n",
       "      <td>NaN</td>\n",
       "      <td>int</td>\n",
       "      <td>next_level</td>\n",
       "      <td>1</td>\n",
       "      <td>1</td>\n",
       "      <td>637796140753454920</td>\n",
       "      <td>118.3392</td>\n",
       "      <td>0.015110</td>\n",
       "      <td>0.015110</td>\n",
       "      <td>14.989329</td>\n",
       "      <td>15.110211</td>\n",
       "      <td>0.015110</td>\n",
       "      <td>USD</td>\n",
       "      <td>US</td>\n",
       "      <td>AppLovin</td>\n",
       "      <td>3ab7705b07ebb75f</td>\n",
       "      <td>inter_regular</td>\n",
       "      <td>11397027</td>\n",
       "    </tr>\n",
       "  </tbody>\n",
       "</table>\n",
       "</div>"
      ],
      "text/plain": [
       "       profile_id os_version device_manufacturer     device_model device_type  \\\n",
       "191509        NaN         11             Samsung      Galaxy A10e       phone   \n",
       "191510        NaN         11             Samsung      Galaxy A10e       phone   \n",
       "191511        NaN         11             Samsung      Galaxy A10e       phone   \n",
       "191512        NaN         11             Samsung      Galaxy A10e       phone   \n",
       "191513        NaN         11             Samsung      Galaxy A10e       phone   \n",
       "191514        NaN         11             Samsung      Galaxy A10e       phone   \n",
       "191515        NaN         11             Samsung      Galaxy A10e       phone   \n",
       "191516        NaN         11             Samsung      Galaxy A10e       phone   \n",
       "191517        NaN         11             Samsung      Galaxy A10e       phone   \n",
       "191518        NaN         11             Samsung      Galaxy A10e       phone   \n",
       "191519        NaN         11             Samsung      Galaxy A10e       phone   \n",
       "191520        NaN         11             Samsung      Galaxy A10e       phone   \n",
       "191521        NaN         11             Samsung      Galaxy A10e       phone   \n",
       "257210        NaN         11            Motorola  moto g(8) power       phone   \n",
       "\n",
       "       device_locale    event_name       event_datetime  event_timestamp  \\\n",
       "191509         en_US  c_ad_revenue  2022-02-06 21:07:27       1644170847   \n",
       "191510         en_US  c_ad_revenue  2022-02-06 21:08:27       1644170907   \n",
       "191511         en_US  c_ad_revenue  2022-02-06 21:12:38       1644171158   \n",
       "191512         en_US  c_ad_revenue  2022-02-06 21:13:41       1644171221   \n",
       "191513         en_US  c_ad_revenue  2022-02-06 21:14:12       1644171252   \n",
       "191514         en_US  c_ad_revenue  2022-02-06 21:15:28       1644171328   \n",
       "191515         en_US  c_ad_revenue  2022-02-06 21:17:22       1644171442   \n",
       "191516         en_US  c_ad_revenue  2022-02-06 21:17:36       1644171456   \n",
       "191517         en_US  c_ad_revenue  2022-02-06 21:18:08       1644171488   \n",
       "191518         en_US  c_ad_revenue  2022-02-06 21:18:23       1644171503   \n",
       "191519         en_US  c_ad_revenue  2022-02-06 21:18:38       1644171518   \n",
       "191520         en_US  c_ad_revenue  2022-02-06 21:16:34       1644171394   \n",
       "191521         en_US  c_ad_revenue  2022-02-06 21:17:06       1644171426   \n",
       "257210         en_US  c_ad_revenue  2022-02-05 08:27:54       1644038874   \n",
       "\n",
       "       event_receive_datetime  event_receive_timestamp connection_type  \\\n",
       "191509    2022-02-06 21:07:41               1644170861            wifi   \n",
       "191510    2022-02-06 21:09:47               1644170987            wifi   \n",
       "191511    2022-02-06 21:13:25               1644171205            wifi   \n",
       "191512    2022-02-06 21:16:10               1644171370            wifi   \n",
       "191513    2022-02-06 21:16:10               1644171370            wifi   \n",
       "191514    2022-02-06 21:16:10               1644171370            wifi   \n",
       "191515    2022-02-06 21:17:42               1644171462            wifi   \n",
       "191516    2022-02-06 21:17:42               1644171462            wifi   \n",
       "191517    2022-02-06 21:18:42               1644171522            wifi   \n",
       "191518    2022-02-06 21:18:42               1644171522            wifi   \n",
       "191519    2022-02-06 21:18:42               1644171522            wifi   \n",
       "191520    2022-02-06 21:17:42               1644171462            wifi   \n",
       "191521    2022-02-06 21:17:42               1644171462            wifi   \n",
       "257210    2022-02-05 08:28:29               1644038909            wifi   \n",
       "\n",
       "       operator_name country_iso_code city ad_type   placement  view_index  \\\n",
       "191509          AT&T               US  NaN     int  next_level           1   \n",
       "191510          AT&T               US  NaN  banner                       1   \n",
       "191511          AT&T               US  NaN     int  next_level           2   \n",
       "191512          AT&T               US  NaN  banner                       1   \n",
       "191513          AT&T               US  NaN  banner                       1   \n",
       "191514          AT&T               US  NaN  banner                       1   \n",
       "191515          AT&T               US  NaN  banner                       1   \n",
       "191516          AT&T               US  NaN  banner                       1   \n",
       "191517          AT&T               US  NaN  banner                       1   \n",
       "191518          AT&T               US  NaN  banner                       1   \n",
       "191519          AT&T               US  NaN  banner                       1   \n",
       "191520          AT&T               US  NaN  banner                       1   \n",
       "191521          AT&T               US  NaN  banner                       1   \n",
       "257210          AT&T               US  NaN     int  next_level           1   \n",
       "\n",
       "        session_view_index           cur_ticks  session_length   revenue  \\\n",
       "191509                   1  637797496485079780        121.2020  0.024596   \n",
       "191510                   0  637797497082605190        180.9337  0.000317   \n",
       "191511                   2  637797499596646980        432.3397  0.024596   \n",
       "191512                   0  637797500227105840        495.3856  0.000181   \n",
       "191513                   0  637797500533944000        526.0692  0.002386   \n",
       "191514                   0  637797501294427770        602.1183  0.000155   \n",
       "191515                   0  637797502427659960        715.4388  0.000517   \n",
       "191516                   0  637797502577176870        730.3909  0.000517   \n",
       "191517                   0  637797502891857410        761.8586  0.000124   \n",
       "191518                   0  637797503042824310        776.9558  0.000133   \n",
       "191519                   0  637797503193556100        792.0285  0.000121   \n",
       "191520                   0  637797501951408430        667.8138  0.000517   \n",
       "191521                   0  637797502273544900        700.0276  0.000140   \n",
       "257210                   1  637796140753454920        118.3392  0.015110   \n",
       "\n",
       "         ads_ltv   ecpm_sma  normalized_ecpm_sma     value currency  \\\n",
       "191509  0.024596  24.399611            24.596382  0.024596      USD   \n",
       "191510  0.024914   0.317236             0.317236  0.000317      USD   \n",
       "191511  0.049510  24.242193            24.636375  0.024596      USD   \n",
       "191512  0.049691   0.303622             0.303622  0.000181      USD   \n",
       "191513  0.052077   0.511876             0.511876  0.002386      USD   \n",
       "191514  0.052232   0.476180             0.476180  0.000155      USD   \n",
       "191515  0.053407   0.453385             0.453385  0.000517      USD   \n",
       "191516  0.053924   0.459763             0.459763  0.000517      USD   \n",
       "191517  0.054048   0.426187             0.426187  0.000124      USD   \n",
       "191518  0.054181   0.396887             0.396887  0.000133      USD   \n",
       "191519  0.054302   0.369311             0.369311  0.000121      USD   \n",
       "191520  0.052749   0.480279             0.480279  0.000517      USD   \n",
       "191521  0.052890   0.446298             0.446298  0.000140      USD   \n",
       "257210  0.015110  14.989329            15.110211  0.015110      USD   \n",
       "\n",
       "       ad_country_code       network_name        ad_unit_id  \\\n",
       "191509              US           Facebook  3ab7705b07ebb75f   \n",
       "191510              US  APPLOVIN_EXCHANGE  64c6b1114ea8c1cc   \n",
       "191511              US           Facebook  3ab7705b07ebb75f   \n",
       "191512              US  APPLOVIN_EXCHANGE  64c6b1114ea8c1cc   \n",
       "191513              US  APPLOVIN_EXCHANGE  64c6b1114ea8c1cc   \n",
       "191514              US  APPLOVIN_EXCHANGE  64c6b1114ea8c1cc   \n",
       "191515              US           Facebook  64c6b1114ea8c1cc   \n",
       "191516              US           Facebook  64c6b1114ea8c1cc   \n",
       "191517              US  APPLOVIN_EXCHANGE  64c6b1114ea8c1cc   \n",
       "191518              US  APPLOVIN_EXCHANGE  64c6b1114ea8c1cc   \n",
       "191519              US  APPLOVIN_EXCHANGE  64c6b1114ea8c1cc   \n",
       "191520              US           Facebook  64c6b1114ea8c1cc   \n",
       "191521              US  APPLOVIN_EXCHANGE  64c6b1114ea8c1cc   \n",
       "257210              US           AppLovin  3ab7705b07ebb75f   \n",
       "\n",
       "                   ad_network_placement  \\\n",
       "191509  524377382067272_528132981691712   \n",
       "191510                   banner_regular   \n",
       "191511  524377382067272_528132981691712   \n",
       "191512                   banner_regular   \n",
       "191513                   banner_regular   \n",
       "191514                   banner_regular   \n",
       "191515  524377382067272_528134061691604   \n",
       "191516  524377382067272_528134061691604   \n",
       "191517                   banner_regular   \n",
       "191518                   banner_regular   \n",
       "191519                   banner_regular   \n",
       "191520  524377382067272_528134061691604   \n",
       "191521                   banner_regular   \n",
       "257210                    inter_regular   \n",
       "\n",
       "                                     creativeId  \n",
       "191509                      8128790388721590458  \n",
       "191510  238963:cb32c1cbda1907486e56659eac121b51  \n",
       "191511                      4858603389059905410  \n",
       "191512  236104:17978c0ab28c0d130d6b997182630f57  \n",
       "191513                               pandora-57  \n",
       "191514  238963:cb32c1cbda1907486e56659eac121b51  \n",
       "191515                      4860842819419589218  \n",
       "191516                      1622666176655429538  \n",
       "191517                                   207193  \n",
       "191518                                   150253  \n",
       "191519               textnow:a:AIrAfyIiQYRuN0a3  \n",
       "191520                      6259195110550783042  \n",
       "191521                                   150253  \n",
       "257210                                 11397027  "
      ]
     },
     "execution_count": 15,
     "metadata": {},
     "output_type": "execute_result"
    }
   ],
   "source": [
    "# Посмотрим на пропуске в столбце profile_id\n",
    "df.query('profile_id.isna()')"
   ]
  },
  {
   "cell_type": "markdown",
   "id": "a52187ff",
   "metadata": {},
   "source": [
    "13 из 14 случаев пропуска идентификатора пользователя происходят с одной и той же модельню телефона и версией ОС, так же у всех этих пользователей нет идентификатора города. В силу их малого числа можно просто удалить."
   ]
  },
  {
   "cell_type": "code",
   "execution_count": 16,
   "id": "e505ca1f",
   "metadata": {
    "scrolled": true
   },
   "outputs": [
    {
     "name": "stdout",
     "output_type": "stream",
     "text": [
      "<class 'pandas.core.frame.DataFrame'>\n",
      "Int64Index: 856232 entries, 0 to 860078\n",
      "Data columns (total 32 columns):\n",
      " #   Column                   Non-Null Count   Dtype  \n",
      "---  ------                   --------------   -----  \n",
      " 0   profile_id               856232 non-null  object \n",
      " 1   os_version               856232 non-null  object \n",
      " 2   device_manufacturer      856232 non-null  object \n",
      " 3   device_model             856232 non-null  object \n",
      " 4   device_type              856232 non-null  object \n",
      " 5   device_locale            856232 non-null  object \n",
      " 6   event_name               856232 non-null  object \n",
      " 7   event_datetime           856232 non-null  object \n",
      " 8   event_timestamp          856232 non-null  int64  \n",
      " 9   event_receive_datetime   856232 non-null  object \n",
      " 10  event_receive_timestamp  856232 non-null  int64  \n",
      " 11  connection_type          856232 non-null  object \n",
      " 12  operator_name            837584 non-null  object \n",
      " 13  country_iso_code         856232 non-null  object \n",
      " 14  city                     533478 non-null  object \n",
      " 15  ad_type                  856232 non-null  object \n",
      " 16  placement                856232 non-null  object \n",
      " 17  view_index               856232 non-null  int64  \n",
      " 18  session_view_index       856232 non-null  int64  \n",
      " 19  cur_ticks                856232 non-null  int64  \n",
      " 20  session_length           856232 non-null  float64\n",
      " 21  revenue                  856232 non-null  float64\n",
      " 22  ads_ltv                  856232 non-null  float64\n",
      " 23  ecpm_sma                 856232 non-null  float64\n",
      " 24  normalized_ecpm_sma      856232 non-null  float64\n",
      " 25  value                    856232 non-null  float64\n",
      " 26  currency                 856232 non-null  object \n",
      " 27  ad_country_code          856232 non-null  object \n",
      " 28  network_name             856232 non-null  object \n",
      " 29  ad_unit_id               856232 non-null  object \n",
      " 30  ad_network_placement     856232 non-null  object \n",
      " 31  creativeId               856232 non-null  object \n",
      "dtypes: float64(6), int64(5), object(21)\n",
      "memory usage: 215.6+ MB\n"
     ]
    }
   ],
   "source": [
    "df = df.query('~profile_id.isna()')\n",
    "df.info()"
   ]
  },
  {
   "cell_type": "code",
   "execution_count": 17,
   "id": "b786d604",
   "metadata": {
    "scrolled": true
   },
   "outputs": [
    {
     "data": {
      "text/html": [
       "<div>\n",
       "<style scoped>\n",
       "    .dataframe tbody tr th:only-of-type {\n",
       "        vertical-align: middle;\n",
       "    }\n",
       "\n",
       "    .dataframe tbody tr th {\n",
       "        vertical-align: top;\n",
       "    }\n",
       "\n",
       "    .dataframe thead th {\n",
       "        text-align: right;\n",
       "    }\n",
       "</style>\n",
       "<table border=\"1\" class=\"dataframe\">\n",
       "  <thead>\n",
       "    <tr style=\"text-align: right;\">\n",
       "      <th></th>\n",
       "      <th>profile_id</th>\n",
       "      <th>os_version</th>\n",
       "      <th>device_manufacturer</th>\n",
       "      <th>device_model</th>\n",
       "      <th>device_type</th>\n",
       "      <th>device_locale</th>\n",
       "      <th>event_name</th>\n",
       "      <th>event_datetime</th>\n",
       "      <th>event_timestamp</th>\n",
       "      <th>event_receive_datetime</th>\n",
       "      <th>event_receive_timestamp</th>\n",
       "      <th>connection_type</th>\n",
       "      <th>operator_name</th>\n",
       "      <th>country_iso_code</th>\n",
       "      <th>city</th>\n",
       "      <th>ad_type</th>\n",
       "      <th>placement</th>\n",
       "      <th>view_index</th>\n",
       "      <th>session_view_index</th>\n",
       "      <th>cur_ticks</th>\n",
       "      <th>session_length</th>\n",
       "      <th>revenue</th>\n",
       "      <th>ads_ltv</th>\n",
       "      <th>ecpm_sma</th>\n",
       "      <th>normalized_ecpm_sma</th>\n",
       "      <th>value</th>\n",
       "      <th>currency</th>\n",
       "      <th>ad_country_code</th>\n",
       "      <th>network_name</th>\n",
       "      <th>ad_unit_id</th>\n",
       "      <th>ad_network_placement</th>\n",
       "      <th>creativeId</th>\n",
       "    </tr>\n",
       "  </thead>\n",
       "  <tbody>\n",
       "    <tr>\n",
       "      <th>4</th>\n",
       "      <td>JLzWWTJfi1b</td>\n",
       "      <td>10</td>\n",
       "      <td>Samsung</td>\n",
       "      <td>Galaxy S9</td>\n",
       "      <td>phone</td>\n",
       "      <td>en_US</td>\n",
       "      <td>c_ad_revenue</td>\n",
       "      <td>2022-02-06 17:15:38</td>\n",
       "      <td>1644156938</td>\n",
       "      <td>2022-02-06 17:16:16</td>\n",
       "      <td>1644156976</td>\n",
       "      <td>cell</td>\n",
       "      <td>Verizon</td>\n",
       "      <td>US</td>\n",
       "      <td>NaN</td>\n",
       "      <td>banner</td>\n",
       "      <td></td>\n",
       "      <td>1</td>\n",
       "      <td>0</td>\n",
       "      <td>637797357392197840</td>\n",
       "      <td>12.71129</td>\n",
       "      <td>0.006828</td>\n",
       "      <td>0.060571</td>\n",
       "      <td>1.660282</td>\n",
       "      <td>1.660282</td>\n",
       "      <td>0.006828</td>\n",
       "      <td>USD</td>\n",
       "      <td>US</td>\n",
       "      <td>Google AdMob</td>\n",
       "      <td>64c6b1114ea8c1cc</td>\n",
       "      <td>ca-app-pub-7511632782617496/6197324251</td>\n",
       "      <td>CMTi5e-h6_UCFUdVwQodt9EIMw</td>\n",
       "    </tr>\n",
       "    <tr>\n",
       "      <th>5</th>\n",
       "      <td>JLzWWTJfi1b</td>\n",
       "      <td>10</td>\n",
       "      <td>Samsung</td>\n",
       "      <td>Galaxy S9</td>\n",
       "      <td>phone</td>\n",
       "      <td>en_US</td>\n",
       "      <td>c_ad_revenue</td>\n",
       "      <td>2022-02-06 17:15:53</td>\n",
       "      <td>1644156953</td>\n",
       "      <td>2022-02-06 17:16:16</td>\n",
       "      <td>1644156976</td>\n",
       "      <td>cell</td>\n",
       "      <td>Verizon</td>\n",
       "      <td>US</td>\n",
       "      <td>NaN</td>\n",
       "      <td>banner</td>\n",
       "      <td></td>\n",
       "      <td>1</td>\n",
       "      <td>0</td>\n",
       "      <td>637797357542806540</td>\n",
       "      <td>27.75300</td>\n",
       "      <td>0.000494</td>\n",
       "      <td>0.061065</td>\n",
       "      <td>1.543673</td>\n",
       "      <td>1.543673</td>\n",
       "      <td>0.000494</td>\n",
       "      <td>USD</td>\n",
       "      <td>US</td>\n",
       "      <td>Google AdMob</td>\n",
       "      <td>64c6b1114ea8c1cc</td>\n",
       "      <td>ca-app-pub-7511632782617496/8825263691</td>\n",
       "      <td>CKjDtPSh6_UCFV-DywEd7-gBAQ</td>\n",
       "    </tr>\n",
       "    <tr>\n",
       "      <th>6</th>\n",
       "      <td>JLzWWTJfi1b</td>\n",
       "      <td>10</td>\n",
       "      <td>Samsung</td>\n",
       "      <td>Galaxy S9</td>\n",
       "      <td>phone</td>\n",
       "      <td>en_US</td>\n",
       "      <td>c_ad_revenue</td>\n",
       "      <td>2022-02-06 17:16:03</td>\n",
       "      <td>1644156963</td>\n",
       "      <td>2022-02-06 17:16:16</td>\n",
       "      <td>1644156976</td>\n",
       "      <td>cell</td>\n",
       "      <td>Verizon</td>\n",
       "      <td>US</td>\n",
       "      <td>NaN</td>\n",
       "      <td>banner</td>\n",
       "      <td></td>\n",
       "      <td>1</td>\n",
       "      <td>0</td>\n",
       "      <td>637797357641550460</td>\n",
       "      <td>37.62716</td>\n",
       "      <td>0.002386</td>\n",
       "      <td>0.063451</td>\n",
       "      <td>1.627922</td>\n",
       "      <td>1.627922</td>\n",
       "      <td>0.002386</td>\n",
       "      <td>USD</td>\n",
       "      <td>US</td>\n",
       "      <td>APPLOVIN_EXCHANGE</td>\n",
       "      <td>64c6b1114ea8c1cc</td>\n",
       "      <td>banner_regular</td>\n",
       "      <td>pandora-58</td>\n",
       "    </tr>\n",
       "    <tr>\n",
       "      <th>7</th>\n",
       "      <td>JLzWWTJfi1b</td>\n",
       "      <td>10</td>\n",
       "      <td>Samsung</td>\n",
       "      <td>Galaxy S9</td>\n",
       "      <td>phone</td>\n",
       "      <td>en_US</td>\n",
       "      <td>c_ad_revenue</td>\n",
       "      <td>2022-02-06 17:16:23</td>\n",
       "      <td>1644156983</td>\n",
       "      <td>2022-02-06 17:17:11</td>\n",
       "      <td>1644157031</td>\n",
       "      <td>cell</td>\n",
       "      <td>Verizon</td>\n",
       "      <td>US</td>\n",
       "      <td>NaN</td>\n",
       "      <td>banner</td>\n",
       "      <td></td>\n",
       "      <td>1</td>\n",
       "      <td>0</td>\n",
       "      <td>637797357843375100</td>\n",
       "      <td>57.81027</td>\n",
       "      <td>0.000494</td>\n",
       "      <td>0.063945</td>\n",
       "      <td>1.514549</td>\n",
       "      <td>1.514549</td>\n",
       "      <td>0.000494</td>\n",
       "      <td>USD</td>\n",
       "      <td>US</td>\n",
       "      <td>Google AdMob</td>\n",
       "      <td>64c6b1114ea8c1cc</td>\n",
       "      <td>ca-app-pub-7511632782617496/8825263691</td>\n",
       "      <td>CPTz84Ki6_UCFUp2wQodL68LZw</td>\n",
       "    </tr>\n",
       "    <tr>\n",
       "      <th>8</th>\n",
       "      <td>JLzWWTJfi1b</td>\n",
       "      <td>10</td>\n",
       "      <td>Samsung</td>\n",
       "      <td>Galaxy S9</td>\n",
       "      <td>phone</td>\n",
       "      <td>en_US</td>\n",
       "      <td>c_ad_revenue</td>\n",
       "      <td>2022-02-06 17:16:33</td>\n",
       "      <td>1644156993</td>\n",
       "      <td>2022-02-06 17:17:11</td>\n",
       "      <td>1644157031</td>\n",
       "      <td>cell</td>\n",
       "      <td>Verizon</td>\n",
       "      <td>US</td>\n",
       "      <td>NaN</td>\n",
       "      <td>banner</td>\n",
       "      <td></td>\n",
       "      <td>1</td>\n",
       "      <td>0</td>\n",
       "      <td>637797357941529010</td>\n",
       "      <td>67.62502</td>\n",
       "      <td>0.002386</td>\n",
       "      <td>0.066332</td>\n",
       "      <td>1.601711</td>\n",
       "      <td>1.601711</td>\n",
       "      <td>0.002386</td>\n",
       "      <td>USD</td>\n",
       "      <td>US</td>\n",
       "      <td>APPLOVIN_EXCHANGE</td>\n",
       "      <td>64c6b1114ea8c1cc</td>\n",
       "      <td>banner_regular</td>\n",
       "      <td>pandora-57</td>\n",
       "    </tr>\n",
       "  </tbody>\n",
       "</table>\n",
       "</div>"
      ],
      "text/plain": [
       "    profile_id os_version device_manufacturer device_model device_type  \\\n",
       "4  JLzWWTJfi1b         10             Samsung    Galaxy S9       phone   \n",
       "5  JLzWWTJfi1b         10             Samsung    Galaxy S9       phone   \n",
       "6  JLzWWTJfi1b         10             Samsung    Galaxy S9       phone   \n",
       "7  JLzWWTJfi1b         10             Samsung    Galaxy S9       phone   \n",
       "8  JLzWWTJfi1b         10             Samsung    Galaxy S9       phone   \n",
       "\n",
       "  device_locale    event_name       event_datetime  event_timestamp  \\\n",
       "4         en_US  c_ad_revenue  2022-02-06 17:15:38       1644156938   \n",
       "5         en_US  c_ad_revenue  2022-02-06 17:15:53       1644156953   \n",
       "6         en_US  c_ad_revenue  2022-02-06 17:16:03       1644156963   \n",
       "7         en_US  c_ad_revenue  2022-02-06 17:16:23       1644156983   \n",
       "8         en_US  c_ad_revenue  2022-02-06 17:16:33       1644156993   \n",
       "\n",
       "  event_receive_datetime  event_receive_timestamp connection_type  \\\n",
       "4    2022-02-06 17:16:16               1644156976            cell   \n",
       "5    2022-02-06 17:16:16               1644156976            cell   \n",
       "6    2022-02-06 17:16:16               1644156976            cell   \n",
       "7    2022-02-06 17:17:11               1644157031            cell   \n",
       "8    2022-02-06 17:17:11               1644157031            cell   \n",
       "\n",
       "  operator_name country_iso_code city ad_type placement  view_index  \\\n",
       "4      Verizon                US  NaN  banner                     1   \n",
       "5      Verizon                US  NaN  banner                     1   \n",
       "6      Verizon                US  NaN  banner                     1   \n",
       "7      Verizon                US  NaN  banner                     1   \n",
       "8      Verizon                US  NaN  banner                     1   \n",
       "\n",
       "   session_view_index           cur_ticks  session_length   revenue   ads_ltv  \\\n",
       "4                   0  637797357392197840        12.71129  0.006828  0.060571   \n",
       "5                   0  637797357542806540        27.75300  0.000494  0.061065   \n",
       "6                   0  637797357641550460        37.62716  0.002386  0.063451   \n",
       "7                   0  637797357843375100        57.81027  0.000494  0.063945   \n",
       "8                   0  637797357941529010        67.62502  0.002386  0.066332   \n",
       "\n",
       "   ecpm_sma  normalized_ecpm_sma     value currency ad_country_code  \\\n",
       "4  1.660282             1.660282  0.006828      USD              US   \n",
       "5  1.543673             1.543673  0.000494      USD              US   \n",
       "6  1.627922             1.627922  0.002386      USD              US   \n",
       "7  1.514549             1.514549  0.000494      USD              US   \n",
       "8  1.601711             1.601711  0.002386      USD              US   \n",
       "\n",
       "        network_name        ad_unit_id  \\\n",
       "4       Google AdMob  64c6b1114ea8c1cc   \n",
       "5       Google AdMob  64c6b1114ea8c1cc   \n",
       "6  APPLOVIN_EXCHANGE  64c6b1114ea8c1cc   \n",
       "7       Google AdMob  64c6b1114ea8c1cc   \n",
       "8  APPLOVIN_EXCHANGE  64c6b1114ea8c1cc   \n",
       "\n",
       "                     ad_network_placement                  creativeId  \n",
       "4  ca-app-pub-7511632782617496/6197324251  CMTi5e-h6_UCFUdVwQodt9EIMw  \n",
       "5  ca-app-pub-7511632782617496/8825263691  CKjDtPSh6_UCFV-DywEd7-gBAQ  \n",
       "6                          banner_regular                  pandora-58  \n",
       "7  ca-app-pub-7511632782617496/8825263691  CPTz84Ki6_UCFUp2wQodL68LZw  \n",
       "8                          banner_regular                  pandora-57  "
      ]
     },
     "execution_count": 17,
     "metadata": {},
     "output_type": "execute_result"
    }
   ],
   "source": [
    "# Посмотрим на пропуски городов\n",
    "df.query('city.isna()').head()"
   ]
  },
  {
   "cell_type": "code",
   "execution_count": 18,
   "id": "4dd92f6c",
   "metadata": {},
   "outputs": [
    {
     "data": {
      "text/plain": [
       "1828"
      ]
     },
     "execution_count": 18,
     "metadata": {},
     "output_type": "execute_result"
    }
   ],
   "source": [
    "# Посмотрим сколько пользователей имеют пропуски\n",
    "df.query('city.isna()')['profile_id'].nunique()"
   ]
  },
  {
   "cell_type": "code",
   "execution_count": 19,
   "id": "465d7fff",
   "metadata": {},
   "outputs": [
    {
     "name": "stdout",
     "output_type": "stream",
     "text": [
      "Процент строк с пропущеным городом: 37.69%\n"
     ]
    }
   ],
   "source": [
    "# Проверим какой это процент от общего числа пользователей\n",
    "print(\"Процент строк с пропущеным городом: {:.2%}\"\\\n",
    "      .format(df.query('city.isna()').shape[0] / df['profile_id'].shape[0]))"
   ]
  },
  {
   "cell_type": "markdown",
   "id": "6b6bfa7c",
   "metadata": {},
   "source": [
    "Проверим, возможно для некоторых записей с пропущенным городом можно его найти по номеру пользователя в других строках."
   ]
  },
  {
   "cell_type": "code",
   "execution_count": 20,
   "id": "2c126b8d",
   "metadata": {},
   "outputs": [
    {
     "data": {
      "text/plain": [
       "537"
      ]
     },
     "execution_count": 20,
     "metadata": {},
     "output_type": "execute_result"
    }
   ],
   "source": [
    "users_with_city =\\\n",
    "    set(df.query('city.isna()')['profile_id']).intersection(set(df.query('~city.isna()')['profile_id']))\n",
    "len(users_with_city)"
   ]
  },
  {
   "cell_type": "markdown",
   "id": "c5b46aef",
   "metadata": {},
   "source": [
    "Для 537 пользователей можно попробовать восстановить пропущенный город."
   ]
  },
  {
   "cell_type": "code",
   "execution_count": 21,
   "id": "f110ac68",
   "metadata": {
    "scrolled": true
   },
   "outputs": [
    {
     "data": {
      "text/html": [
       "<div>\n",
       "<style scoped>\n",
       "    .dataframe tbody tr th:only-of-type {\n",
       "        vertical-align: middle;\n",
       "    }\n",
       "\n",
       "    .dataframe tbody tr th {\n",
       "        vertical-align: top;\n",
       "    }\n",
       "\n",
       "    .dataframe thead th {\n",
       "        text-align: right;\n",
       "    }\n",
       "</style>\n",
       "<table border=\"1\" class=\"dataframe\">\n",
       "  <thead>\n",
       "    <tr style=\"text-align: right;\">\n",
       "      <th></th>\n",
       "      <th>city</th>\n",
       "    </tr>\n",
       "    <tr>\n",
       "      <th>profile_id</th>\n",
       "      <th></th>\n",
       "    </tr>\n",
       "  </thead>\n",
       "  <tbody>\n",
       "    <tr>\n",
       "      <th>JLe1d3coPO0</th>\n",
       "      <td>6</td>\n",
       "    </tr>\n",
       "    <tr>\n",
       "      <th>JLoyUG8eLDW</th>\n",
       "      <td>5</td>\n",
       "    </tr>\n",
       "    <tr>\n",
       "      <th>JLMigrVe166</th>\n",
       "      <td>4</td>\n",
       "    </tr>\n",
       "    <tr>\n",
       "      <th>JLjKJSuXqbo</th>\n",
       "      <td>4</td>\n",
       "    </tr>\n",
       "    <tr>\n",
       "      <th>JLHMTg87Uqz</th>\n",
       "      <td>4</td>\n",
       "    </tr>\n",
       "    <tr>\n",
       "      <th>...</th>\n",
       "      <td>...</td>\n",
       "    </tr>\n",
       "    <tr>\n",
       "      <th>JL6YKvnEgBt</th>\n",
       "      <td>2</td>\n",
       "    </tr>\n",
       "    <tr>\n",
       "      <th>JLN9fjCPLKi</th>\n",
       "      <td>2</td>\n",
       "    </tr>\n",
       "    <tr>\n",
       "      <th>JMF8J3Fmqof</th>\n",
       "      <td>2</td>\n",
       "    </tr>\n",
       "    <tr>\n",
       "      <th>JLRnXNach6j</th>\n",
       "      <td>2</td>\n",
       "    </tr>\n",
       "    <tr>\n",
       "      <th>JLKkOHuhHBE</th>\n",
       "      <td>2</td>\n",
       "    </tr>\n",
       "  </tbody>\n",
       "</table>\n",
       "<p>462 rows × 1 columns</p>\n",
       "</div>"
      ],
      "text/plain": [
       "             city\n",
       "profile_id       \n",
       "JLe1d3coPO0     6\n",
       "JLoyUG8eLDW     5\n",
       "JLMigrVe166     4\n",
       "JLjKJSuXqbo     4\n",
       "JLHMTg87Uqz     4\n",
       "...           ...\n",
       "JL6YKvnEgBt     2\n",
       "JLN9fjCPLKi     2\n",
       "JMF8J3Fmqof     2\n",
       "JLRnXNach6j     2\n",
       "JLKkOHuhHBE     2\n",
       "\n",
       "[462 rows x 1 columns]"
      ]
     },
     "execution_count": 21,
     "metadata": {},
     "output_type": "execute_result"
    }
   ],
   "source": [
    "#Проверим есть ли пользователи с несколькими городами\n",
    "df.query('~city.isna()').pivot_table(\n",
    "    index='profile_id', \n",
    "    values='city', \n",
    "    aggfunc='nunique').sort_values(by='city', ascending=False).query('city > 1')"
   ]
  },
  {
   "cell_type": "markdown",
   "id": "041d425c",
   "metadata": {},
   "source": [
    "462 плользователя имеют 2 и более города. Возможно путешественники. Для восстановления пропусков не очень понятно какой именно город испльзовать. При необходимости можно попробовать использовать привязку ко времени события, заодно это позволит проверить наличие аномалий в виде большого количества городов. В этом исследовании будем опираться только на пользователей с одним городом."
   ]
  },
  {
   "cell_type": "code",
   "execution_count": 22,
   "id": "bfd58500",
   "metadata": {},
   "outputs": [
    {
     "data": {
      "text/plain": [
       "415"
      ]
     },
     "execution_count": 22,
     "metadata": {},
     "output_type": "execute_result"
    }
   ],
   "source": [
    "#Составим список пользователей с одним городом для которых можно восстановить название города\n",
    "one_city_users = set(df.query('~city.isna()').pivot_table(\n",
    "        index='profile_id', \n",
    "        values='city', \n",
    "        aggfunc='nunique').sort_values(by='city', ascending=False).query('city == 1').reset_index()['profile_id'])\\\n",
    "    .intersection(set(df.query('city.isna()')['profile_id']))\n",
    "len(one_city_users)"
   ]
  },
  {
   "cell_type": "code",
   "execution_count": 23,
   "id": "0e75b3e6",
   "metadata": {},
   "outputs": [
    {
     "data": {
      "text/plain": [
       "415"
      ]
     },
     "execution_count": 23,
     "metadata": {},
     "output_type": "execute_result"
    }
   ],
   "source": [
    "# Составим словарь с названием города для каждого пользователя\n",
    "users_city = {user: df.query('profile_id == @user and ~city.isna()')['city'].unique()[0] for user in one_city_users}\n",
    "len(users_city)"
   ]
  },
  {
   "cell_type": "code",
   "execution_count": 24,
   "id": "163f9837",
   "metadata": {},
   "outputs": [],
   "source": [
    "# Заполним пропуски где это возможно\n",
    "for user, city in users_city.items():\n",
    "    df.loc[df['profile_id'] == user, 'city'] = city"
   ]
  },
  {
   "cell_type": "code",
   "execution_count": 25,
   "id": "9db01f9f",
   "metadata": {
    "scrolled": true
   },
   "outputs": [
    {
     "name": "stdout",
     "output_type": "stream",
     "text": [
      "Процент строк с пропущеным городом: 27.16%\n"
     ]
    }
   ],
   "source": [
    "# Проверим какой процент пропусков остался \n",
    "print(\"Процент строк с пропущеным городом: {:.2%}\"\\\n",
    "      .format(df.query('city.isna()').shape[0] / df['profile_id'].shape[0]))"
   ]
  },
  {
   "cell_type": "markdown",
   "id": "7591504f",
   "metadata": {},
   "source": [
    "Пропуске в имени оператора сотовой связи не имеют значения, т.к. не учавствуют в вычислении целевых показателей этого исследования"
   ]
  },
  {
   "cell_type": "markdown",
   "id": "41fd9935",
   "metadata": {},
   "source": [
    "### Формирование датасета для анализа"
   ]
  },
  {
   "cell_type": "code",
   "execution_count": 26,
   "id": "9b536e45",
   "metadata": {
    "scrolled": true
   },
   "outputs": [
    {
     "data": {
      "text/plain": [
       "Samsung             650458\n",
       "Google               71691\n",
       "Motorola             63543\n",
       "LG                   40030\n",
       "OnePlus               9675\n",
       "T-Mobile              3979\n",
       "TCL                   2956\n",
       "Kyocera               2930\n",
       "Cricket               1839\n",
       "Lenovo                1478\n",
       "Alcatel               1426\n",
       "Dish                  1361\n",
       "Blu                   1328\n",
       "Verizon Wireless       822\n",
       "Nokia                  746\n",
       "JOYAR                  375\n",
       "Teracube               351\n",
       "Wiko                   330\n",
       "Maxwest                182\n",
       "FIH                    169\n",
       "Zte                    144\n",
       "AT&T                   133\n",
       "Schok                   99\n",
       "Redmi                   83\n",
       "Onn (Walmart)           45\n",
       "Ulefone                 32\n",
       "deejoy                  12\n",
       "Yulong                   5\n",
       "Razer                    5\n",
       "AEEZO                    3\n",
       "Asus                     1\n",
       "Xiaomi                   1\n",
       "Name: device_manufacturer, dtype: int64"
      ]
     },
     "execution_count": 26,
     "metadata": {},
     "output_type": "execute_result"
    }
   ],
   "source": [
    "# Т.к.в ТЗ есть версия ОС, то нужно проверить, что все устройства на андроиде и нет Apple\n",
    "df['device_manufacturer'].value_counts()"
   ]
  },
  {
   "cell_type": "markdown",
   "id": "42cead9c",
   "metadata": {},
   "source": [
    "Все устройства на Android, т.е. поле производителя можно не учитывать"
   ]
  },
  {
   "cell_type": "code",
   "execution_count": 27,
   "id": "deae4de2",
   "metadata": {
    "scrolled": true
   },
   "outputs": [
    {
     "name": "stdout",
     "output_type": "stream",
     "text": [
      "<class 'pandas.core.frame.DataFrame'>\n",
      "Int64Index: 856232 entries, 0 to 860078\n",
      "Data columns (total 5 columns):\n",
      " #   Column      Non-Null Count   Dtype  \n",
      "---  ------      --------------   -----  \n",
      " 0   profile_id  856232 non-null  object \n",
      " 1   os_version  856232 non-null  object \n",
      " 2   city        623701 non-null  object \n",
      " 3   ad_type     856232 non-null  object \n",
      " 4   revenue     856232 non-null  float64\n",
      "dtypes: float64(1), object(4)\n",
      "memory usage: 39.2+ MB\n"
     ]
    }
   ],
   "source": [
    "# Оставим в датасете только те столбцы которые необходимы для целей исследования\n",
    "df = df[['profile_id', 'os_version', 'city', 'ad_type', 'revenue']]\n",
    "df.info()"
   ]
  },
  {
   "cell_type": "markdown",
   "id": "baafb773",
   "metadata": {},
   "source": [
    "### Выводы"
   ]
  },
  {
   "cell_type": "markdown",
   "id": "6fd562c7",
   "metadata": {},
   "source": [
    "Для одновременной обработки присоединили датасет полученный из json колонки с описанием событий к основному датасету, а колонку с json удалили.\n",
    "\n",
    "**Предобработка данных**\n",
    "\n",
    "* Большинство пользователей находятся в США, но есть устройства и рекламные компании с другим регионом. Их не много, но на этот факт стоит обратить внимание, т.к. вряд ли реклама для пользователя из США будет эффективна для пользователя из Индии. Пользователи с устройствами из других регионов и рекламные показы для других стран были удалены.\n",
    "* Все зафиксированные события были рекламой\n",
    "* Полных дубликатов в датасете нет\n",
    "* 13 из 14 случаев пропуска идентификатора пользователя происходят с одной и той же модельню телефона и версией ОС, так же у всех этих пользователей нет идентификатора города. В силу их малого числа были удалены.\n",
    "* Процент строк с пропущеным городом: 37.69%. Для некоторых записей с пропущенным городом можно его найти по номеру пользователя в других строках\n",
    "* 462 плользователя имеют 2 и более города. Возможно путешественники. Для восстановления пропусков не очень понятно какой именно город испльзовать. При необходимости можно попробовать использовать привязку ко времени события, за одно это позволит проверить наличие аномалий в виде большого количества городов. В этом исследовании будем опираться только на пользователей с одним городом.\n",
    "* После подстановки города пользователя для строк с пропущенным городом, количество таких строк уменьшилось до 27,16%\n",
    "* Пропуске в имени оператора сотовой связи не имеют значения, т.к. не учавствуют в вычислении целевых показателей этого исследования\n",
    "* Для дальнейших исследований оставили только те столбцы, которые нужны для вычисления показателей из ТЗ: идентификатор пользователя, версия ОС, город, тип рекламы, доход от конкретного показа рекламы."
   ]
  },
  {
   "cell_type": "markdown",
   "id": "b54e2ff4",
   "metadata": {},
   "source": [
    "## Вычисление целевых показателей"
   ]
  },
  {
   "cell_type": "code",
   "execution_count": 28,
   "id": "9b209044",
   "metadata": {},
   "outputs": [
    {
     "data": {
      "text/plain": [
       "banner    812383\n",
       "int        37394\n",
       "rv          6455\n",
       "Name: ad_type, dtype: int64"
      ]
     },
     "execution_count": 28,
     "metadata": {},
     "output_type": "execute_result"
    }
   ],
   "source": [
    "# Посмотрим на распределение количества показов разного типа рекламы\n",
    "df['ad_type'].value_counts()"
   ]
  },
  {
   "cell_type": "code",
   "execution_count": 29,
   "id": "e6d67218",
   "metadata": {
    "scrolled": true
   },
   "outputs": [
    {
     "data": {
      "text/plain": [
       "banner    0.948788\n",
       "int       0.043673\n",
       "rv        0.007539\n",
       "Name: ad_type, dtype: float64"
      ]
     },
     "execution_count": 29,
     "metadata": {},
     "output_type": "execute_result"
    }
   ],
   "source": [
    "df['ad_type'].value_counts() / df.shape[0]"
   ]
  },
  {
   "cell_type": "markdown",
   "id": "c97ea100",
   "metadata": {},
   "source": [
    "94% всех показов составляет баннерная реклама, полноэкранная реклама чуть более 4%, а видео менее 1%"
   ]
  },
  {
   "cell_type": "code",
   "execution_count": 30,
   "id": "e84a38be",
   "metadata": {},
   "outputs": [
    {
     "data": {
      "text/plain": [
       "['banner', 'int', 'rv']"
      ]
     },
     "execution_count": 30,
     "metadata": {},
     "output_type": "execute_result"
    }
   ],
   "source": [
    "# Сформируем список с видами рекламы\n",
    "ad_types_list = list(df['ad_type'].unique())\n",
    "ad_types_list"
   ]
  },
  {
   "cell_type": "markdown",
   "id": "00a550b9",
   "metadata": {},
   "source": [
    "### Распределение средних eCPM-ов пользователей"
   ]
  },
  {
   "cell_type": "code",
   "execution_count": 31,
   "id": "8f0bfade",
   "metadata": {
    "scrolled": true
   },
   "outputs": [
    {
     "data": {
      "image/png": "[encoded data removed]",
      "text/plain": [
       "<Figure size 1080x504 with 1 Axes>"
      ]
     },
     "metadata": {
      "needs_background": "light"
     },
     "output_type": "display_data"
    },
    {
     "data": {
      "image/png": "[encoded data removed]",
      "text/plain": [
       "<Figure size 1080x504 with 1 Axes>"
      ]
     },
     "metadata": {
      "needs_background": "light"
     },
     "output_type": "display_data"
    },
    {
     "data": {
      "image/png": "[encoded data removed]",
      "text/plain": [
       "<Figure size 1080x504 with 1 Axes>"
      ]
     },
     "metadata": {
      "needs_background": "light"
     },
     "output_type": "display_data"
    }
   ],
   "source": [
    "for ad in ad_types_list:\n",
    "    plt.rcParams[\"figure.figsize\"] = (15,7)\n",
    "    plt.hist(df.query('ad_type == @ad').pivot_table(index='profile_id',\n",
    "                                           values='revenue', \n",
    "                                           aggfunc='mean') * 1000, bins=100)\n",
    "    plt.title(f'Распределение средних eCPM-ов пользователей для рекламы типа - {ad}')\n",
    "    plt.grid()\n",
    "    plt.show()"
   ]
  },
  {
   "cell_type": "code",
   "execution_count": 32,
   "id": "d79f0178",
   "metadata": {},
   "outputs": [
    {
     "data": {
      "text/html": [
       "<div>\n",
       "<style scoped>\n",
       "    .dataframe tbody tr th:only-of-type {\n",
       "        vertical-align: middle;\n",
       "    }\n",
       "\n",
       "    .dataframe tbody tr th {\n",
       "        vertical-align: top;\n",
       "    }\n",
       "\n",
       "    .dataframe thead th {\n",
       "        text-align: right;\n",
       "    }\n",
       "</style>\n",
       "<table border=\"1\" class=\"dataframe\">\n",
       "  <thead>\n",
       "    <tr style=\"text-align: right;\">\n",
       "      <th>ad_type</th>\n",
       "      <th>banner</th>\n",
       "      <th>int</th>\n",
       "      <th>rv</th>\n",
       "    </tr>\n",
       "  </thead>\n",
       "  <tbody>\n",
       "    <tr>\n",
       "      <th>count</th>\n",
       "      <td>3484.000000</td>\n",
       "      <td>3937.000000</td>\n",
       "      <td>1313.000000</td>\n",
       "    </tr>\n",
       "    <tr>\n",
       "      <th>mean</th>\n",
       "      <td>1.159948</td>\n",
       "      <td>45.635766</td>\n",
       "      <td>80.855493</td>\n",
       "    </tr>\n",
       "    <tr>\n",
       "      <th>std</th>\n",
       "      <td>1.870765</td>\n",
       "      <td>46.925567</td>\n",
       "      <td>79.321976</td>\n",
       "    </tr>\n",
       "    <tr>\n",
       "      <th>min</th>\n",
       "      <td>0.022929</td>\n",
       "      <td>0.000000</td>\n",
       "      <td>2.841385</td>\n",
       "    </tr>\n",
       "    <tr>\n",
       "      <th>25%</th>\n",
       "      <td>0.324457</td>\n",
       "      <td>17.643986</td>\n",
       "      <td>28.240000</td>\n",
       "    </tr>\n",
       "    <tr>\n",
       "      <th>50%</th>\n",
       "      <td>0.583784</td>\n",
       "      <td>27.639407</td>\n",
       "      <td>46.750748</td>\n",
       "    </tr>\n",
       "    <tr>\n",
       "      <th>75%</th>\n",
       "      <td>1.306972</td>\n",
       "      <td>56.482101</td>\n",
       "      <td>99.362857</td>\n",
       "    </tr>\n",
       "    <tr>\n",
       "      <th>max</th>\n",
       "      <td>43.021387</td>\n",
       "      <td>568.678270</td>\n",
       "      <td>808.294820</td>\n",
       "    </tr>\n",
       "  </tbody>\n",
       "</table>\n",
       "</div>"
      ],
      "text/plain": [
       "ad_type       banner          int           rv\n",
       "count    3484.000000  3937.000000  1313.000000\n",
       "mean        1.159948    45.635766    80.855493\n",
       "std         1.870765    46.925567    79.321976\n",
       "min         0.022929     0.000000     2.841385\n",
       "25%         0.324457    17.643986    28.240000\n",
       "50%         0.583784    27.639407    46.750748\n",
       "75%         1.306972    56.482101    99.362857\n",
       "max        43.021387   568.678270   808.294820"
      ]
     },
     "execution_count": 32,
     "metadata": {},
     "output_type": "execute_result"
    }
   ],
   "source": [
    "# Посмотрим на распределение в цифрах\n",
    "(df.pivot_table(index='profile_id', \n",
    "               columns='ad_type', \n",
    "               values='revenue', \n",
    "               aggfunc='mean') * 1000).describe()"
   ]
  },
  {
   "cell_type": "markdown",
   "id": "128f2152",
   "metadata": {},
   "source": [
    "* Баннерная и полноэкранная рекламма показывалась практически всем пользователям, видео примерно одной трети.\n",
    "* Среднее значение и медиана баннерной рекламы примерно в 40-50 раз меньше, чем у полноэкранной и примерно в 80-100 раз меньше, чем у видеороликов:\n",
    "    * срендее и медиана баннерной рекламы - 1.16 и 0.58\n",
    "    * срендее и медиана полноэкранной рекламы - 45.63 и 27.64\n",
    "    * срендее и медиана видео рекламы - 80.85 и 46.75\n",
    "* Полноэкранная реклама содержит нулевые значения доходов, другие виды рекламы всегда имеют положительное значение.\n",
    "* Самая выгодная реклама по показателю средних eCPM-ов пользователей - видеоролики с вознаграждением"
   ]
  },
  {
   "cell_type": "markdown",
   "id": "05742a1a",
   "metadata": {},
   "source": [
    "### Cуммарные доходы по городам, версиям ОС"
   ]
  },
  {
   "cell_type": "markdown",
   "id": "0249a97c",
   "metadata": {},
   "source": [
    "#### Cуммарные доходы по городам"
   ]
  },
  {
   "cell_type": "code",
   "execution_count": 33,
   "id": "e52e8e89",
   "metadata": {
    "scrolled": true
   },
   "outputs": [
    {
     "data": {
      "text/html": [
       "<div>\n",
       "<style scoped>\n",
       "    .dataframe tbody tr th:only-of-type {\n",
       "        vertical-align: middle;\n",
       "    }\n",
       "\n",
       "    .dataframe tbody tr th {\n",
       "        vertical-align: top;\n",
       "    }\n",
       "\n",
       "    .dataframe thead th {\n",
       "        text-align: right;\n",
       "    }\n",
       "</style>\n",
       "<table border=\"1\" class=\"dataframe\">\n",
       "  <thead>\n",
       "    <tr style=\"text-align: right;\">\n",
       "      <th>ad_type</th>\n",
       "      <th>banner</th>\n",
       "      <th>int</th>\n",
       "      <th>rv</th>\n",
       "    </tr>\n",
       "  </thead>\n",
       "  <tbody>\n",
       "    <tr>\n",
       "      <th>count</th>\n",
       "      <td>850.000000</td>\n",
       "      <td>871.000000</td>\n",
       "      <td>465.000000</td>\n",
       "    </tr>\n",
       "    <tr>\n",
       "      <th>mean</th>\n",
       "      <td>0.505382</td>\n",
       "      <td>1.125764</td>\n",
       "      <td>0.682046</td>\n",
       "    </tr>\n",
       "    <tr>\n",
       "      <th>std</th>\n",
       "      <td>1.234310</td>\n",
       "      <td>2.523050</td>\n",
       "      <td>1.340053</td>\n",
       "    </tr>\n",
       "    <tr>\n",
       "      <th>min</th>\n",
       "      <td>0.000031</td>\n",
       "      <td>0.002891</td>\n",
       "      <td>0.004075</td>\n",
       "    </tr>\n",
       "    <tr>\n",
       "      <th>25%</th>\n",
       "      <td>0.029853</td>\n",
       "      <td>0.118835</td>\n",
       "      <td>0.080640</td>\n",
       "    </tr>\n",
       "    <tr>\n",
       "      <th>50%</th>\n",
       "      <td>0.113503</td>\n",
       "      <td>0.340948</td>\n",
       "      <td>0.211700</td>\n",
       "    </tr>\n",
       "    <tr>\n",
       "      <th>75%</th>\n",
       "      <td>0.411237</td>\n",
       "      <td>0.936059</td>\n",
       "      <td>0.670508</td>\n",
       "    </tr>\n",
       "    <tr>\n",
       "      <th>max</th>\n",
       "      <td>14.234099</td>\n",
       "      <td>28.878708</td>\n",
       "      <td>12.108662</td>\n",
       "    </tr>\n",
       "  </tbody>\n",
       "</table>\n",
       "</div>"
      ],
      "text/plain": [
       "ad_type      banner         int          rv\n",
       "count    850.000000  871.000000  465.000000\n",
       "mean       0.505382    1.125764    0.682046\n",
       "std        1.234310    2.523050    1.340053\n",
       "min        0.000031    0.002891    0.004075\n",
       "25%        0.029853    0.118835    0.080640\n",
       "50%        0.113503    0.340948    0.211700\n",
       "75%        0.411237    0.936059    0.670508\n",
       "max       14.234099   28.878708   12.108662"
      ]
     },
     "execution_count": 33,
     "metadata": {},
     "output_type": "execute_result"
    }
   ],
   "source": [
    "# Подсчитаем суммарные доходы по городам\n",
    "cityes_revenue = df.pivot_table(index='city', \n",
    "               columns='ad_type', \n",
    "               values='revenue', \n",
    "               aggfunc='sum')\n",
    "cityes_revenue.describe()"
   ]
  },
  {
   "cell_type": "code",
   "execution_count": 34,
   "id": "6fb9c53e",
   "metadata": {
    "scrolled": true
   },
   "outputs": [
    {
     "data": {
      "image/png": "[encoded data removed]",
      "text/plain": [
       "<Figure size 1440x360 with 2 Axes>"
      ]
     },
     "metadata": {
      "needs_background": "light"
     },
     "output_type": "display_data"
    },
    {
     "data": {
      "image/png": "[encoded data removed]",
      "text/plain": [
       "<Figure size 1440x360 with 2 Axes>"
      ]
     },
     "metadata": {
      "needs_background": "light"
     },
     "output_type": "display_data"
    },
    {
     "data": {
      "image/png": "[encoded data removed]",
      "text/plain": [
       "<Figure size 1440x360 with 2 Axes>"
      ]
     },
     "metadata": {
      "needs_background": "light"
     },
     "output_type": "display_data"
    }
   ],
   "source": [
    "#Посмотрим на размх значений дохода и гистограммы каждого вида рекламы\n",
    "for value in list(cityes_revenue.columns):\n",
    "\n",
    "    plt.figure(figsize=(20, 5))\n",
    "    \n",
    "    plt.subplot(1, 2, 1)\n",
    "    cityes_revenue.boxplot(value)\n",
    "    plt.title(f'Размах значений {value}')\n",
    "\n",
    "    plt.subplot(1, 2, 2)\n",
    "    cityes_revenue[value].hist(bins=100)\n",
    "    plt.title(f'Гистограмма {value}')\n",
    "        \n",
    "    plt.show()"
   ]
  },
  {
   "cell_type": "code",
   "execution_count": 35,
   "id": "aaa4bd8a",
   "metadata": {},
   "outputs": [
    {
     "name": "stdout",
     "output_type": "stream",
     "text": [
      "Суммарные доходы от рекламы banner: 429.5749404256336\n",
      "Суммарные доходы от рекламы int: 980.5404126124533\n",
      "Суммарные доходы от рекламы rv: 317.1513090935232\n"
     ]
    }
   ],
   "source": [
    "# Посмотрим на топ-10 городов по доходу для каждого вида рекламы\n",
    "for ad in cityes_revenue.columns:\n",
    "    print(f'Суммарные доходы от рекламы {ad}:', cityes_revenue[ad].sum()) "
   ]
  },
  {
   "cell_type": "markdown",
   "id": "7c87f7ea",
   "metadata": {},
   "source": [
    "* Все распределения доходов по городам имеют сильное смещение влево\n",
    "* Самая большая медиана у полноэкранной рекламы - 0.34 цента, у видеорекламы - 0.21, у банерной - 0.11\n",
    "* Суммарно самый большой доход приносит полноэкранная реклама - 980.54 доллара, далее баннерная реклама - 429.57, далее видео - 317.15 долларов"
   ]
  },
  {
   "cell_type": "markdown",
   "id": "ce1262f1",
   "metadata": {},
   "source": [
    "#### Cуммарные доходы по версиям ОС"
   ]
  },
  {
   "cell_type": "code",
   "execution_count": 36,
   "id": "f39e73fe",
   "metadata": {
    "scrolled": true
   },
   "outputs": [
    {
     "data": {
      "text/html": [
       "<div>\n",
       "<style scoped>\n",
       "    .dataframe tbody tr th:only-of-type {\n",
       "        vertical-align: middle;\n",
       "    }\n",
       "\n",
       "    .dataframe tbody tr th {\n",
       "        vertical-align: top;\n",
       "    }\n",
       "\n",
       "    .dataframe thead th {\n",
       "        text-align: right;\n",
       "    }\n",
       "</style>\n",
       "<table border=\"1\" class=\"dataframe\">\n",
       "  <thead>\n",
       "    <tr style=\"text-align: right;\">\n",
       "      <th>ad_type</th>\n",
       "      <th>banner</th>\n",
       "      <th>int</th>\n",
       "      <th>rv</th>\n",
       "    </tr>\n",
       "    <tr>\n",
       "      <th>os_version</th>\n",
       "      <th></th>\n",
       "      <th></th>\n",
       "      <th></th>\n",
       "    </tr>\n",
       "  </thead>\n",
       "  <tbody>\n",
       "    <tr>\n",
       "      <th>12</th>\n",
       "      <td>363.310286</td>\n",
       "      <td>702.606360</td>\n",
       "      <td>237.222825</td>\n",
       "    </tr>\n",
       "    <tr>\n",
       "      <th>11</th>\n",
       "      <td>115.852121</td>\n",
       "      <td>361.529747</td>\n",
       "      <td>107.179523</td>\n",
       "    </tr>\n",
       "    <tr>\n",
       "      <th>10</th>\n",
       "      <td>83.637841</td>\n",
       "      <td>189.988307</td>\n",
       "      <td>51.214966</td>\n",
       "    </tr>\n",
       "    <tr>\n",
       "      <th>9</th>\n",
       "      <td>34.819046</td>\n",
       "      <td>78.302881</td>\n",
       "      <td>19.728330</td>\n",
       "    </tr>\n",
       "    <tr>\n",
       "      <th>8.1.0</th>\n",
       "      <td>2.847789</td>\n",
       "      <td>6.016151</td>\n",
       "      <td>0.923077</td>\n",
       "    </tr>\n",
       "    <tr>\n",
       "      <th>8.0.0</th>\n",
       "      <td>2.804952</td>\n",
       "      <td>6.770185</td>\n",
       "      <td>2.316879</td>\n",
       "    </tr>\n",
       "    <tr>\n",
       "      <th>7.0</th>\n",
       "      <td>1.061301</td>\n",
       "      <td>7.781186</td>\n",
       "      <td>2.050464</td>\n",
       "    </tr>\n",
       "    <tr>\n",
       "      <th>7.1.1</th>\n",
       "      <td>0.300135</td>\n",
       "      <td>1.203363</td>\n",
       "      <td>0.121076</td>\n",
       "    </tr>\n",
       "    <tr>\n",
       "      <th>7.1.2</th>\n",
       "      <td>0.252216</td>\n",
       "      <td>0.837482</td>\n",
       "      <td>NaN</td>\n",
       "    </tr>\n",
       "    <tr>\n",
       "      <th>6.0.1</th>\n",
       "      <td>0.166939</td>\n",
       "      <td>0.579568</td>\n",
       "      <td>0.036764</td>\n",
       "    </tr>\n",
       "    <tr>\n",
       "      <th>5.0.2</th>\n",
       "      <td>0.135827</td>\n",
       "      <td>0.329325</td>\n",
       "      <td>0.028377</td>\n",
       "    </tr>\n",
       "  </tbody>\n",
       "</table>\n",
       "</div>"
      ],
      "text/plain": [
       "ad_type         banner         int          rv\n",
       "os_version                                    \n",
       "12          363.310286  702.606360  237.222825\n",
       "11          115.852121  361.529747  107.179523\n",
       "10           83.637841  189.988307   51.214966\n",
       "9            34.819046   78.302881   19.728330\n",
       "8.1.0         2.847789    6.016151    0.923077\n",
       "8.0.0         2.804952    6.770185    2.316879\n",
       "7.0           1.061301    7.781186    2.050464\n",
       "7.1.1         0.300135    1.203363    0.121076\n",
       "7.1.2         0.252216    0.837482         NaN\n",
       "6.0.1         0.166939    0.579568    0.036764\n",
       "5.0.2         0.135827    0.329325    0.028377"
      ]
     },
     "execution_count": 36,
     "metadata": {},
     "output_type": "execute_result"
    }
   ],
   "source": [
    "# Подсчитаем суммарные доходы по версиям ОС\n",
    "OS_revenue = df.pivot_table(index='os_version', \n",
    "               columns='ad_type', \n",
    "               values='revenue', \n",
    "               aggfunc='sum')\n",
    "OS_revenue.sort_values(by='banner', ascending=False)"
   ]
  },
  {
   "cell_type": "code",
   "execution_count": 37,
   "id": "fa31af4c",
   "metadata": {
    "scrolled": true
   },
   "outputs": [
    {
     "data": {
      "text/html": [
       "<div>\n",
       "<style scoped>\n",
       "    .dataframe tbody tr th:only-of-type {\n",
       "        vertical-align: middle;\n",
       "    }\n",
       "\n",
       "    .dataframe tbody tr th {\n",
       "        vertical-align: top;\n",
       "    }\n",
       "\n",
       "    .dataframe thead th {\n",
       "        text-align: right;\n",
       "    }\n",
       "</style>\n",
       "<table border=\"1\" class=\"dataframe\">\n",
       "  <thead>\n",
       "    <tr style=\"text-align: right;\">\n",
       "      <th>ad_type</th>\n",
       "      <th>banner</th>\n",
       "      <th>int</th>\n",
       "      <th>rv</th>\n",
       "    </tr>\n",
       "    <tr>\n",
       "      <th>os_version</th>\n",
       "      <th></th>\n",
       "      <th></th>\n",
       "      <th></th>\n",
       "    </tr>\n",
       "  </thead>\n",
       "  <tbody>\n",
       "    <tr>\n",
       "      <th>12</th>\n",
       "      <td>0.600326</td>\n",
       "      <td>0.518167</td>\n",
       "      <td>0.563713</td>\n",
       "    </tr>\n",
       "    <tr>\n",
       "      <th>11</th>\n",
       "      <td>0.191431</td>\n",
       "      <td>0.266626</td>\n",
       "      <td>0.254691</td>\n",
       "    </tr>\n",
       "    <tr>\n",
       "      <th>10</th>\n",
       "      <td>0.138201</td>\n",
       "      <td>0.140115</td>\n",
       "      <td>0.121702</td>\n",
       "    </tr>\n",
       "    <tr>\n",
       "      <th>9</th>\n",
       "      <td>0.057534</td>\n",
       "      <td>0.057748</td>\n",
       "      <td>0.046880</td>\n",
       "    </tr>\n",
       "    <tr>\n",
       "      <th>8.1.0</th>\n",
       "      <td>0.004706</td>\n",
       "      <td>0.004437</td>\n",
       "      <td>0.002194</td>\n",
       "    </tr>\n",
       "    <tr>\n",
       "      <th>8.0.0</th>\n",
       "      <td>0.004635</td>\n",
       "      <td>0.004993</td>\n",
       "      <td>0.005506</td>\n",
       "    </tr>\n",
       "    <tr>\n",
       "      <th>7.0</th>\n",
       "      <td>0.001754</td>\n",
       "      <td>0.005739</td>\n",
       "      <td>0.004873</td>\n",
       "    </tr>\n",
       "    <tr>\n",
       "      <th>7.1.1</th>\n",
       "      <td>0.000496</td>\n",
       "      <td>0.000887</td>\n",
       "      <td>0.000288</td>\n",
       "    </tr>\n",
       "    <tr>\n",
       "      <th>7.1.2</th>\n",
       "      <td>0.000417</td>\n",
       "      <td>0.000618</td>\n",
       "      <td>NaN</td>\n",
       "    </tr>\n",
       "    <tr>\n",
       "      <th>6.0.1</th>\n",
       "      <td>0.000276</td>\n",
       "      <td>0.000427</td>\n",
       "      <td>0.000087</td>\n",
       "    </tr>\n",
       "    <tr>\n",
       "      <th>5.0.2</th>\n",
       "      <td>0.000224</td>\n",
       "      <td>0.000243</td>\n",
       "      <td>0.000067</td>\n",
       "    </tr>\n",
       "  </tbody>\n",
       "</table>\n",
       "</div>"
      ],
      "text/plain": [
       "ad_type       banner       int        rv\n",
       "os_version                              \n",
       "12          0.600326  0.518167  0.563713\n",
       "11          0.191431  0.266626  0.254691\n",
       "10          0.138201  0.140115  0.121702\n",
       "9           0.057534  0.057748  0.046880\n",
       "8.1.0       0.004706  0.004437  0.002194\n",
       "8.0.0       0.004635  0.004993  0.005506\n",
       "7.0         0.001754  0.005739  0.004873\n",
       "7.1.1       0.000496  0.000887  0.000288\n",
       "7.1.2       0.000417  0.000618       NaN\n",
       "6.0.1       0.000276  0.000427  0.000087\n",
       "5.0.2       0.000224  0.000243  0.000067"
      ]
     },
     "execution_count": 37,
     "metadata": {},
     "output_type": "execute_result"
    }
   ],
   "source": [
    "OS_revenue.sort_values(by='banner', ascending=False) / OS_revenue.sum()"
   ]
  },
  {
   "cell_type": "markdown",
   "id": "21c90082",
   "metadata": {},
   "source": [
    "Самы прибыльные версии ОС для всех видов рекламы впорядке убывания доходности - 12, 11, 10"
   ]
  },
  {
   "cell_type": "markdown",
   "id": "35c5f235",
   "metadata": {},
   "source": [
    "### Средние eCPM-ы по городам, версиям ОС"
   ]
  },
  {
   "cell_type": "markdown",
   "id": "3fa7ed59",
   "metadata": {},
   "source": [
    "#### Средние eCPM-ы по городам"
   ]
  },
  {
   "cell_type": "code",
   "execution_count": 38,
   "id": "56365008",
   "metadata": {
    "scrolled": false
   },
   "outputs": [
    {
     "data": {
      "text/html": [
       "<div>\n",
       "<style scoped>\n",
       "    .dataframe tbody tr th:only-of-type {\n",
       "        vertical-align: middle;\n",
       "    }\n",
       "\n",
       "    .dataframe tbody tr th {\n",
       "        vertical-align: top;\n",
       "    }\n",
       "\n",
       "    .dataframe thead th {\n",
       "        text-align: right;\n",
       "    }\n",
       "</style>\n",
       "<table border=\"1\" class=\"dataframe\">\n",
       "  <thead>\n",
       "    <tr style=\"text-align: right;\">\n",
       "      <th>ad_type</th>\n",
       "      <th>banner</th>\n",
       "      <th>int</th>\n",
       "      <th>rv</th>\n",
       "    </tr>\n",
       "  </thead>\n",
       "  <tbody>\n",
       "    <tr>\n",
       "      <th>count</th>\n",
       "      <td>850.000000</td>\n",
       "      <td>871.000000</td>\n",
       "      <td>465.000000</td>\n",
       "    </tr>\n",
       "    <tr>\n",
       "      <th>mean</th>\n",
       "      <td>1.032835</td>\n",
       "      <td>44.954315</td>\n",
       "      <td>79.316963</td>\n",
       "    </tr>\n",
       "    <tr>\n",
       "      <th>std</th>\n",
       "      <td>1.446537</td>\n",
       "      <td>45.164542</td>\n",
       "      <td>76.112608</td>\n",
       "    </tr>\n",
       "    <tr>\n",
       "      <th>min</th>\n",
       "      <td>0.029317</td>\n",
       "      <td>2.750576</td>\n",
       "      <td>2.841385</td>\n",
       "    </tr>\n",
       "    <tr>\n",
       "      <th>25%</th>\n",
       "      <td>0.343092</td>\n",
       "      <td>19.642277</td>\n",
       "      <td>28.240000</td>\n",
       "    </tr>\n",
       "    <tr>\n",
       "      <th>50%</th>\n",
       "      <td>0.574217</td>\n",
       "      <td>30.876463</td>\n",
       "      <td>54.887747</td>\n",
       "    </tr>\n",
       "    <tr>\n",
       "      <th>75%</th>\n",
       "      <td>1.086356</td>\n",
       "      <td>51.977330</td>\n",
       "      <td>101.401993</td>\n",
       "    </tr>\n",
       "    <tr>\n",
       "      <th>max</th>\n",
       "      <td>19.326435</td>\n",
       "      <td>437.039882</td>\n",
       "      <td>808.294820</td>\n",
       "    </tr>\n",
       "  </tbody>\n",
       "</table>\n",
       "</div>"
      ],
      "text/plain": [
       "ad_type      banner         int          rv\n",
       "count    850.000000  871.000000  465.000000\n",
       "mean       1.032835   44.954315   79.316963\n",
       "std        1.446537   45.164542   76.112608\n",
       "min        0.029317    2.750576    2.841385\n",
       "25%        0.343092   19.642277   28.240000\n",
       "50%        0.574217   30.876463   54.887747\n",
       "75%        1.086356   51.977330  101.401993\n",
       "max       19.326435  437.039882  808.294820"
      ]
     },
     "execution_count": 38,
     "metadata": {},
     "output_type": "execute_result"
    }
   ],
   "source": [
    "# Средние eCPM-ы по городам\n",
    "cities_mean_ecpm = df.pivot_table(index='city', \n",
    "               columns='ad_type', \n",
    "               values='revenue', \n",
    "               aggfunc='mean') * 1000\n",
    "cities_mean_ecpm.describe()"
   ]
  },
  {
   "cell_type": "code",
   "execution_count": 39,
   "id": "ffbc2f6a",
   "metadata": {
    "scrolled": true
   },
   "outputs": [
    {
     "data": {
      "image/png": "[encoded data removed]",
      "text/plain": [
       "<Figure size 1440x360 with 2 Axes>"
      ]
     },
     "metadata": {
      "needs_background": "light"
     },
     "output_type": "display_data"
    },
    {
     "data": {
      "image/png": "[encoded data removed]",
      "text/plain": [
       "<Figure size 1440x360 with 2 Axes>"
      ]
     },
     "metadata": {
      "needs_background": "light"
     },
     "output_type": "display_data"
    },
    {
     "data": {
      "image/png": "[encoded data removed]",
      "text/plain": [
       "<Figure size 1440x360 with 2 Axes>"
      ]
     },
     "metadata": {
      "needs_background": "light"
     },
     "output_type": "display_data"
    }
   ],
   "source": [
    "#Посмотрим на размх значений и гистограммы каждого вида рекламы\n",
    "for value in list(cities_mean_ecpm.columns):\n",
    "\n",
    "    plt.figure(figsize=(20, 5))\n",
    "    \n",
    "    plt.subplot(1, 2, 1)\n",
    "    cities_mean_ecpm.boxplot(value)\n",
    "    plt.title(f'Размах значений {value}')\n",
    "\n",
    "    plt.subplot(1, 2, 2)\n",
    "    cities_mean_ecpm[value].hist(bins=100)\n",
    "    plt.title(f'Гистограмма {value}')\n",
    "        \n",
    "    plt.show()"
   ]
  },
  {
   "cell_type": "markdown",
   "id": "bbee1fe0",
   "metadata": {},
   "source": [
    "* Распределения средних eCPM по городам для всех видов рекламы сильно смещены влево.\n",
    "* Медианное значение для баннерной рекламы - 0.57, для полноэкранной - 30.88, для видео - 54.88"
   ]
  },
  {
   "cell_type": "code",
   "execution_count": 40,
   "id": "44b66da4",
   "metadata": {},
   "outputs": [
    {
     "data": {
      "text/plain": [
       "ad_type\n",
       "banner    -0.771804\n",
       "int      -28.860301\n",
       "rv       -81.502990\n",
       "dtype: float64"
      ]
     },
     "execution_count": 40,
     "metadata": {},
     "output_type": "execute_result"
    }
   ],
   "source": [
    "# Построим нижний порок диаграммы размаха\n",
    "cities_mean_ecpm.describe().loc['25%',:] - \\\n",
    "    (cities_mean_ecpm.describe().loc['75%',:] - cities_mean_ecpm.describe().loc['25%',:]) * 1.5"
   ]
  },
  {
   "cell_type": "markdown",
   "id": "500d396f",
   "metadata": {},
   "source": [
    "Отсечь статистически значимые города по нижнему пределу диагарммы размаха не получится, т.к. он равен нулю для всех видов рекламы"
   ]
  },
  {
   "cell_type": "code",
   "execution_count": 41,
   "id": "850ff995",
   "metadata": {},
   "outputs": [
    {
     "name": "stdout",
     "output_type": "stream",
     "text": [
      "--------------------\n",
      "Для рекламы типа -  banner , значения 1 и 5 процентилей 0.06 и 0.12\n",
      "\t количество городов в 1 процентиле -  9\n",
      "\t количество городов в 5 процентиле -  43\n",
      "\n",
      "--------------------\n",
      "Для рекламы типа -  int , значения 1 и 5 процентилей 5.47 и 10.11\n",
      "\t количество городов в 1 процентиле -  9\n",
      "\t количество городов в 5 процентиле -  44\n",
      "\n",
      "--------------------\n",
      "Для рекламы типа -  rv , значения 1 и 5 процентилей 9.17 и 18.09\n",
      "\t количество городов в 1 процентиле -  5\n",
      "\t количество городов в 5 процентиле -  24\n",
      "\n"
     ]
    }
   ],
   "source": [
    "# Выячним сколько городов находятся в 1% и 5% средних eCPM для каждого вида рекламы\n",
    "for ad in cities_mean_ecpm.columns:\n",
    "    cities_percentile = list(np.percentile(cities_mean_ecpm[ad].dropna(), q=[1, 5]))\n",
    "    print('-' * 20)\n",
    "    print('Для рекламы типа - ', ad, \n",
    "          ', значения 1 и 5 процентилей {:.2f} и {:.2f}'.format(cities_percentile[0],\n",
    "                                                                cities_percentile[1])\n",
    "         )\n",
    "    print('\\t количество городов в 1 процентиле - ', \n",
    "          cities_mean_ecpm[ad].loc[cities_mean_ecpm[ad] < cities_percentile[0]].count())\n",
    "    print('\\t количество городов в 5 процентиле - ', \n",
    "          cities_mean_ecpm[ad].loc[cities_mean_ecpm[ad] < cities_percentile[1]].count())\n",
    "    print()"
   ]
  },
  {
   "cell_type": "code",
   "execution_count": 42,
   "id": "9b585275",
   "metadata": {},
   "outputs": [
    {
     "data": {
      "text/plain": [
       "913"
      ]
     },
     "execution_count": 42,
     "metadata": {},
     "output_type": "execute_result"
    }
   ],
   "source": [
    "# Проверим какое количество городов существует\n",
    "df['city'].nunique()"
   ]
  },
  {
   "cell_type": "markdown",
   "id": "1913cb35",
   "metadata": {},
   "source": [
    "Можно отсечь города из 1 или 5 процентиля по значениям eCPM, но их слишком мало, что бы что-то изменить."
   ]
  },
  {
   "cell_type": "code",
   "execution_count": 43,
   "id": "6f806337",
   "metadata": {
    "scrolled": true
   },
   "outputs": [
    {
     "name": "stdout",
     "output_type": "stream",
     "text": [
      "--------------------\n",
      "Топ 10 городов по размеру среднего eCPM для рекламы - banner\n"
     ]
    },
    {
     "data": {
      "text/plain": [
       "city\n",
       "La Crosse        19.326435\n",
       "Mountain View    12.750000\n",
       "Huron             7.574941\n",
       "Lawrenceville     7.519341\n",
       "Oxnard            7.519341\n",
       "Corbin            7.288381\n",
       "Clarks Summit     7.266254\n",
       "Colchester        7.069658\n",
       "Dobson            6.987747\n",
       "Muncie            6.929203\n",
       "Name: banner, dtype: float64"
      ]
     },
     "metadata": {},
     "output_type": "display_data"
    },
    {
     "name": "stdout",
     "output_type": "stream",
     "text": [
      "\n",
      "--------------------\n",
      "Топ 10 городов по размеру среднего eCPM для рекламы - int\n"
     ]
    },
    {
     "data": {
      "text/plain": [
       "city\n",
       "Madisonville    437.039882\n",
       "La Crosse       415.159332\n",
       "York            316.353420\n",
       "Rohnert Park    297.600000\n",
       "Nashua          252.555569\n",
       "Norwood         245.528961\n",
       "Spirit Lake     229.195908\n",
       "Rocky Mount     227.190990\n",
       "Oxnard          221.145738\n",
       "Lake Worth      219.315372\n",
       "Name: int, dtype: float64"
      ]
     },
     "metadata": {},
     "output_type": "display_data"
    },
    {
     "name": "stdout",
     "output_type": "stream",
     "text": [
      "\n",
      "--------------------\n",
      "Топ 10 городов по размеру среднего eCPM для рекламы - rv\n"
     ]
    },
    {
     "data": {
      "text/plain": [
       "city\n",
       "East Peoria    808.294820\n",
       "Norwood        597.984497\n",
       "Idaho Falls    366.840286\n",
       "Valparaiso     318.750000\n",
       "Rocky Mount    290.111970\n",
       "Hilliard       278.536986\n",
       "Glen Burnie    276.947998\n",
       "Mayfield       276.441772\n",
       "El Paso        249.243790\n",
       "Port Huron     245.026134\n",
       "Name: rv, dtype: float64"
      ]
     },
     "metadata": {},
     "output_type": "display_data"
    },
    {
     "name": "stdout",
     "output_type": "stream",
     "text": [
      "\n"
     ]
    }
   ],
   "source": [
    "# Выведем топ-10 городов по среднему eCPM для каждого вида рекламы\n",
    "for ad in cities_mean_ecpm.columns:\n",
    "    print('-' * 20)\n",
    "    print('Топ 10 городов по размеру среднего eCPM для рекламы -', ad)\n",
    "    display(cities_mean_ecpm[ad].sort_values(ascending=False).head(10))\n",
    "    print()"
   ]
  },
  {
   "cell_type": "markdown",
   "id": "a1a616a6",
   "metadata": {},
   "source": [
    "Самый высокий средний eCPM:\n",
    "\n",
    "* для баннерной рекламы в городе La Crosse - 19.33, \n",
    "* для полноэкранной рекламы Madisonville - 437.03,\n",
    "* для видео рекламы East Peoria - 808.29"
   ]
  },
  {
   "cell_type": "markdown",
   "id": "faa0ca2b",
   "metadata": {},
   "source": [
    "#### Средние eCPM-ы по версиям ОС"
   ]
  },
  {
   "cell_type": "code",
   "execution_count": 44,
   "id": "58e12e0e",
   "metadata": {
    "scrolled": true
   },
   "outputs": [
    {
     "data": {
      "text/html": [
       "<div>\n",
       "<style scoped>\n",
       "    .dataframe tbody tr th:only-of-type {\n",
       "        vertical-align: middle;\n",
       "    }\n",
       "\n",
       "    .dataframe tbody tr th {\n",
       "        vertical-align: top;\n",
       "    }\n",
       "\n",
       "    .dataframe thead th {\n",
       "        text-align: right;\n",
       "    }\n",
       "</style>\n",
       "<table border=\"1\" class=\"dataframe\">\n",
       "  <thead>\n",
       "    <tr style=\"text-align: right;\">\n",
       "      <th>ad_type</th>\n",
       "      <th>banner</th>\n",
       "      <th>int</th>\n",
       "      <th>rv</th>\n",
       "    </tr>\n",
       "    <tr>\n",
       "      <th>os_version</th>\n",
       "      <th></th>\n",
       "      <th></th>\n",
       "      <th></th>\n",
       "    </tr>\n",
       "  </thead>\n",
       "  <tbody>\n",
       "    <tr>\n",
       "      <th>12</th>\n",
       "      <td>0.939335</td>\n",
       "      <td>42.512637</td>\n",
       "      <td>79.685195</td>\n",
       "    </tr>\n",
       "    <tr>\n",
       "      <th>11</th>\n",
       "      <td>0.595344</td>\n",
       "      <td>33.546418</td>\n",
       "      <td>53.429473</td>\n",
       "    </tr>\n",
       "    <tr>\n",
       "      <th>10</th>\n",
       "      <td>0.584823</td>\n",
       "      <td>31.069224</td>\n",
       "      <td>53.348922</td>\n",
       "    </tr>\n",
       "    <tr>\n",
       "      <th>9</th>\n",
       "      <td>0.549630</td>\n",
       "      <td>27.019628</td>\n",
       "      <td>50.585462</td>\n",
       "    </tr>\n",
       "    <tr>\n",
       "      <th>8.0.0</th>\n",
       "      <td>0.368201</td>\n",
       "      <td>20.030134</td>\n",
       "      <td>38.614653</td>\n",
       "    </tr>\n",
       "    <tr>\n",
       "      <th>8.1.0</th>\n",
       "      <td>0.320697</td>\n",
       "      <td>17.694561</td>\n",
       "      <td>31.830249</td>\n",
       "    </tr>\n",
       "    <tr>\n",
       "      <th>7.0</th>\n",
       "      <td>0.279510</td>\n",
       "      <td>39.498407</td>\n",
       "      <td>93.202916</td>\n",
       "    </tr>\n",
       "    <tr>\n",
       "      <th>6.0.1</th>\n",
       "      <td>0.254481</td>\n",
       "      <td>13.172003</td>\n",
       "      <td>9.191038</td>\n",
       "    </tr>\n",
       "    <tr>\n",
       "      <th>7.1.1</th>\n",
       "      <td>0.236141</td>\n",
       "      <td>18.232767</td>\n",
       "      <td>24.215299</td>\n",
       "    </tr>\n",
       "    <tr>\n",
       "      <th>5.0.2</th>\n",
       "      <td>0.198288</td>\n",
       "      <td>14.969333</td>\n",
       "      <td>14.188713</td>\n",
       "    </tr>\n",
       "    <tr>\n",
       "      <th>7.1.2</th>\n",
       "      <td>0.144868</td>\n",
       "      <td>11.964031</td>\n",
       "      <td>NaN</td>\n",
       "    </tr>\n",
       "  </tbody>\n",
       "</table>\n",
       "</div>"
      ],
      "text/plain": [
       "ad_type       banner        int         rv\n",
       "os_version                                \n",
       "12          0.939335  42.512637  79.685195\n",
       "11          0.595344  33.546418  53.429473\n",
       "10          0.584823  31.069224  53.348922\n",
       "9           0.549630  27.019628  50.585462\n",
       "8.0.0       0.368201  20.030134  38.614653\n",
       "8.1.0       0.320697  17.694561  31.830249\n",
       "7.0         0.279510  39.498407  93.202916\n",
       "6.0.1       0.254481  13.172003   9.191038\n",
       "7.1.1       0.236141  18.232767  24.215299\n",
       "5.0.2       0.198288  14.969333  14.188713\n",
       "7.1.2       0.144868  11.964031        NaN"
      ]
     },
     "execution_count": 44,
     "metadata": {},
     "output_type": "execute_result"
    }
   ],
   "source": [
    "# Средние eCPM-ы по версиям ОС\n",
    "OS_mean_ecpm = df.pivot_table(index='os_version', \n",
    "               columns='ad_type', \n",
    "               values='revenue', \n",
    "               aggfunc='mean') * 1000\n",
    "OS_mean_ecpm.sort_values(by='banner', ascending=False)"
   ]
  },
  {
   "cell_type": "markdown",
   "id": "ab5d8964",
   "metadata": {},
   "source": [
    "Три самы лучшие по средниму eCPM версии ОС для всех видов рекламы совпадают с самыми доходными - 12, 11, 10"
   ]
  },
  {
   "cell_type": "markdown",
   "id": "ce1acefc",
   "metadata": {},
   "source": [
    "### Выводы"
   ]
  },
  {
   "cell_type": "markdown",
   "id": "6b359bb2",
   "metadata": {},
   "source": [
    "**Целевые показатели**\n",
    "\n",
    "* 94% всех показов составляет баннерная реклама, полноэкранная реклама чуть более 4%, а видео менее 1%\n",
    "\n",
    "*Распределение средних eCPM-ов пользователей*\n",
    "\n",
    "* Баннерная и полноэкранная рекламма показывалась практически всем пользователям, видео примерно одной трети.\n",
    "* Среднее значение и медиана баннерной рекламы примерно в 40-50 раз меньше, чем у полноэкранной и примерно в 80-100 раз меньше, чем у видеороликов:\n",
    "    * срендее и медиана баннерной рекламы - 1.16 и 0.58\n",
    "    * срендее и медиана полноэкранной рекламы - 45.63 и 27.64\n",
    "    * срендее и медиана видео рекламы - 80.85 и 46.75\n",
    "* Полноэкранная реклама содержит нулевые значения доходов, другие виды рекламы всегда имеют положительное значение.\n",
    "* Самая выгодная реклама по показателю средних eCPM-ов пользователей - видеоролики с вознаграждением\n",
    "\n",
    "*Cуммарные доходы по городам*\n",
    "\n",
    "* Все распределения доходов по городам имеют сильное смещение влево\n",
    "* Самая большая медиана у полноэкранной рекламы - 0.34 цента, у видеорекламы - 0.21, у банерной - 0.11\n",
    "* Суммарно самый большой доход приносит полноэкранная реклама - 980.54 доллара, далее баннерная реклама - 429.57, далее видео - 317.15 долларов\n",
    "\n",
    "*Cуммарные доходы по версиям ОС*\n",
    "\n",
    "Самы прибыльные версии ОС для всех видов рекламы впорядке убывания доходности - 12, 11, 10\n",
    "\n",
    "|Версия ОС| banner| int | rv |\n",
    "|:----|:------------|:------------|:----------|\n",
    "|12|0.600326|0.518167|0.563713|\n",
    "|11|0.191431|0.266626|0.254691|\n",
    "|10|0.138201|0.140115|0.121702|\n",
    "\n",
    "*Распределение средних eCPM по городам*\n",
    "\n",
    "* Распределения средних eCPM по городам для всех видов рекламы сильно смещены влево.\n",
    "* Медианное значение для баннерной рекламы - 0.57, для полноэкранной - 30.88, для видео - 54.88\n",
    "* Самый высокий средний eCPM:\n",
    "    * для баннерной рекламы в городе La Crosse - 19.33, \n",
    "    * для полноэкранной рекламы Madisonville - 437.03,\n",
    "    * для видео рекламы East Peoria - 808.29\n",
    "    \n",
    "*Распределение средних eCPM по версиям ОС*\n",
    "\n",
    "Три самы лучшие по средниму eCPM версии ОС для всех видов рекламы совпадают с самыми доходными - 12, 11, 10\n",
    "\n",
    "|Версия ОС| banner| int | rv |\n",
    "|:----|:------------|:------------|:----------|\n",
    "|12|0.939335|42.512637|79.685195|\n",
    "|11|0.595344|33.546418|53.429473|\n",
    "|10|0.584823|31.069224|53.348922|"
   ]
  },
  {
   "cell_type": "markdown",
   "id": "5ea5f0c1",
   "metadata": {},
   "source": [
    "## Выводы"
   ]
  },
  {
   "cell_type": "markdown",
   "id": "c4dfdd1d",
   "metadata": {},
   "source": [
    "**Общие сведения**\n",
    "* датасет имеет стандартный разделитель csv файлов ','\n",
    "* все столбцы названы строчными английскими буквами в змеинном стиле, менять названия не требуется\n",
    "* всего в датасете 86 тыс записей\n",
    "* есть несколько пропусков в поле идентификатора пользователя\n",
    "* есть пропуски в имени оператора сотовой связи\n",
    "* есть существенное количество пропусков в названии города\n",
    "* столбцы с датами имеют строчный тип\n",
    "* в записях о событиях (event_json) нет ни одного пропуска\n",
    "\n",
    "Для одновременной обработки присоединили датасет полученный из json колонки с описанием событий к основному датасету, а колонку с json удалили.\n",
    "\n",
    "**Предобработка данных**\n",
    "\n",
    "* Большинство пользователей находятся в США, но есть устройства и рекламные компании с другим регионом. Их не много, но на этот факт стоит обратить внимание, т.к. вряд ли реклама для пользователя из США будет эффективна для пользователя из Индии. Пользователи с устройствами из других регионов и рекламные показы для других стран были удалены.\n",
    "* Все зафиксированные события были рекламой\n",
    "* Полных дубликатов в датасете нет\n",
    "* 13 из 14 случаев пропуска идентификатора пользователя происходят с одной и той же модельню телефона и версией ОС, так же у всех этих пользователей нет идентификатора города. В силу их малого числа были удалены.\n",
    "* Процент строк с пропущеным городом: 37.69%. Для некоторых записей с пропущенным городом можно его найти по номеру пользователя в других строках\n",
    "* 462 плользователя имеют 2 и более города. Возможно путешественники. Для восстановления пропусков не очень понятно какой именно город испльзовать. При необходимости можно попробовать использовать привязку ко времени события, за одно это позволит проверить наличие аномалий в виде большого количества городов. В этом исследовании будем опираться только на пользователей с одним городом.\n",
    "* После подстановки города пользователя для строк с пропущенным городом, количество таких строк уменьшилось до 27,16%\n",
    "* Пропуске в имени оператора сотовой связи не имеют значения, т.к. не учавствуют в вычислении целевых показателей этого исследования\n",
    "* Для дальнейших исследований оставили только те столбцы, которые нужны для вычисления показателей из ТЗ: идентификатор пользователя, версия ОС, город, тип рекламы, доход от конкретного показа рекламы.\n",
    "\n",
    "**Целевые показатели**\n",
    "\n",
    "* 94% всех показов составляет баннерная реклама, полноэкранная реклама чуть более 4%, а видео менее 1%\n",
    "* Суммарно самый большой доход приносит полноэкранная реклама - 980.54 доллара, далее баннерная реклама - 429.57, далее видео - 317.15 долларов\n",
    "\n",
    "*Распределение средних eCPM-ов пользователей*\n",
    "\n",
    "* Баннерная и полноэкранная рекламма показывалась практически всем пользователям, видео примерно одной трети.\n",
    "* Среднее значение и медиана баннерной рекламы примерно в 40-50 раз меньше, чем у полноэкранной и примерно в 80-100 раз меньше, чем у видеороликов:\n",
    "    * срендее и медиана баннерной рекламы - 1.16 и 0.58\n",
    "    * срендее и медиана полноэкранной рекламы - 45.63 и 27.64\n",
    "    * срендее и медиана видео рекламы - 80.85 и 46.75\n",
    "* Полноэкранная реклама содержит нулевые значения доходов, другие виды рекламы всегда имеют положительное значение.\n",
    "* Самая выгодная реклама по показателю средних eCPM-ов пользователей - видеоролики с вознаграждением\n",
    "\n",
    "*Cуммарные доходы по городам*\n",
    "\n",
    "* Все распределения доходов по городам имеют сильное смещение влево\n",
    "* Самая большая медиана у полноэкранной рекламы - 0.34 цента, у видеорекламы - 0.21, у банерной - 0.11\n",
    "\n",
    "*Cуммарные доходы по версиям ОС*\n",
    "\n",
    "Самы прибыльные версии ОС для всех видов рекламы впорядке убывания доходности - 12, 11, 10\n",
    "\n",
    "|Версия ОС| banner| int | rv |\n",
    "|:----|:------------|:------------|:----------|\n",
    "|12|0.600326|0.518167|0.563713|\n",
    "|11|0.191431|0.266626|0.254691|\n",
    "|10|0.138201|0.140115|0.121702|\n",
    "\n",
    "*Распределение средних eCPM по городам*\n",
    "\n",
    "* Распределения средних eCPM по городам для всех видов рекламы сильно смещены влево.\n",
    "* Медианное значение для баннерной рекламы - 0.57, для полноэкранной - 30.88, для видео - 54.88\n",
    "* Самый высокий средний eCPM:\n",
    "    * для баннерной рекламы в городе La Crosse - 19.33, \n",
    "    * для полноэкранной рекламы Madisonville - 437.03,\n",
    "    * для видео рекламы East Peoria - 808.29\n",
    "    \n",
    "*Распределение средних eCPM по версиям ОС*\n",
    "\n",
    "Три самые лучшие по средниму eCPM версии ОС для всех видов рекламы совпадают с самыми доходными - 12, 11, 10\n",
    "\n",
    "|Версия ОС| banner| int | rv |\n",
    "|:----|:------------|:------------|:----------|\n",
    "|12|0.939335|42.512637|79.685195|\n",
    "|11|0.595344|33.546418|53.429473|\n",
    "|10|0.584823|31.069224|53.348922|"
   ]
  }
 ],
 "metadata": {
  "kernelspec": {
   "display_name": "Python 3 (ipykernel)",
   "language": "python",
   "name": "python3"
  },
  "language_info": {
   "codemirror_mode": {
    "name": "ipython",
    "version": 3
   },
   "file_extension": ".py",
   "mimetype": "text/x-python",
   "name": "python",
   "nbconvert_exporter": "python",
   "pygments_lexer": "ipython3",
   "version": "3.9.6"
  },
  "toc": {
   "base_numbering": 1,
   "nav_menu": {},
   "number_sections": true,
   "sideBar": true,
   "skip_h1_title": true,
   "title_cell": "Содержание",
   "title_sidebar": "Contents",
   "toc_cell": true,
   "toc_position": {
    "height": "calc(100% - 180px)",
    "left": "10px",
    "top": "150px",
    "width": "256px"
   },
   "toc_section_display": true,
   "toc_window_display": true
  }
 },
 "nbformat": 4,
 "nbformat_minor": 5
}
