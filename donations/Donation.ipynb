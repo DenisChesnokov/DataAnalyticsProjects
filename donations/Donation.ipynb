{
 "cells": [
  {
   "cell_type": "markdown",
   "id": "1a8e9917",
   "metadata": {
    "toc": true
   },
   "source": [
    "<h1>Содержание<span class=\"tocSkip\"></span></h1>\n",
    "<div class=\"toc\"><ul class=\"toc-item\"><li><span><a href=\"#Загрузка-и-предобработка-данных\" data-toc-modified-id=\"Загрузка-и-предобработка-данных-1\"><span class=\"toc-item-num\">1&nbsp;&nbsp;</span>Загрузка и предобработка данных</a></span><ul class=\"toc-item\"><li><span><a href=\"#Датасет-&quot;Доноры&quot;\" data-toc-modified-id=\"Датасет-&quot;Доноры&quot;-1.1\"><span class=\"toc-item-num\">1.1&nbsp;&nbsp;</span>Датасет \"Доноры\"</a></span></li><li><span><a href=\"#Датасет-&quot;Пожертвования&quot;\" data-toc-modified-id=\"Датасет-&quot;Пожертвования&quot;-1.2\"><span class=\"toc-item-num\">1.2&nbsp;&nbsp;</span>Датасет \"Пожертвования\"</a></span></li><li><span><a href=\"#Выводы\" data-toc-modified-id=\"Выводы-1.3\"><span class=\"toc-item-num\">1.3&nbsp;&nbsp;</span>Выводы</a></span></li></ul></li><li><span><a href=\"#Знакомство-с-данными-и-предобработка\" data-toc-modified-id=\"Знакомство-с-данными-и-предобработка-2\"><span class=\"toc-item-num\">2&nbsp;&nbsp;</span>Знакомство с данными и предобработка</a></span><ul class=\"toc-item\"><li><span><a href=\"#Датасет-&quot;Доноры&quot;\" data-toc-modified-id=\"Датасет-&quot;Доноры&quot;-2.1\"><span class=\"toc-item-num\">2.1&nbsp;&nbsp;</span>Датасет \"Доноры\"</a></span><ul class=\"toc-item\"><li><span><a href=\"#Столбец-gender\" data-toc-modified-id=\"Столбец-gender-2.1.1\"><span class=\"toc-item-num\">2.1.1&nbsp;&nbsp;</span>Столбец gender</a></span></li><li><span><a href=\"#Столбец-city\" data-toc-modified-id=\"Столбец-city-2.1.2\"><span class=\"toc-item-num\">2.1.2&nbsp;&nbsp;</span>Столбец city</a></span></li><li><span><a href=\"#Столбец-last_activity\" data-toc-modified-id=\"Столбец-last_activity-2.1.3\"><span class=\"toc-item-num\">2.1.3&nbsp;&nbsp;</span>Столбец last_activity</a></span></li></ul></li><li><span><a href=\"#Датасет-&quot;Пожертвования&quot;\" data-toc-modified-id=\"Датасет-&quot;Пожертвования&quot;-2.2\"><span class=\"toc-item-num\">2.2&nbsp;&nbsp;</span>Датасет \"Пожертвования\"</a></span><ul class=\"toc-item\"><li><span><a href=\"#Столбец-id\" data-toc-modified-id=\"Столбец-id-2.2.1\"><span class=\"toc-item-num\">2.2.1&nbsp;&nbsp;</span>Столбец id</a></span></li><li><span><a href=\"#Столбец-date\" data-toc-modified-id=\"Столбец-date-2.2.2\"><span class=\"toc-item-num\">2.2.2&nbsp;&nbsp;</span>Столбец date</a></span></li></ul></li><li><span><a href=\"#Выводы\" data-toc-modified-id=\"Выводы-2.3\"><span class=\"toc-item-num\">2.3&nbsp;&nbsp;</span>Выводы</a></span></li></ul></li><li><span><a href=\"#Выводы\" data-toc-modified-id=\"Выводы-3\"><span class=\"toc-item-num\">3&nbsp;&nbsp;</span>Выводы</a></span></li></ul></div>"
   ]
  },
  {
   "cell_type": "markdown",
   "id": "647e61ca",
   "metadata": {},
   "source": [
    "# Проект классификации доноров благотворительного фонда [“Бюро добрых дел”](https://burodd.ru/) \n",
    "\n",
    "**Описание данных**<br>\n",
    "Датасет \"Доноры\":\n",
    "* ID - идентификатор донора\n",
    "* Пол - пол донора\n",
    "* Город - город донора\n",
    "* Дата последней email активности - ???\n",
    "\n",
    "Датасет \"Пожертвования\":\n",
    "* Donor ID - идентификатор донора\n",
    "* Дата платежа\n",
    "* Сумма платежа\n",
    "* Рекуррентный - признак постоянного переодического или единовременного платежа\n",
    "* Назначение платежа - название программы или акции на которое было совершено пожертвование\n",
    "* Канал оплаты - каким способом был совершён платех, банковская карта, СМС и т.п.\n",
    "\n",
    "**Цель исследования**\n",
    "Увеличение поступлений от доноров благотворительного фонда."
   ]
  },
  {
   "cell_type": "markdown",
   "id": "9a2bd137",
   "metadata": {},
   "source": [
    "## Загрузка и предобработка данных"
   ]
  },
  {
   "cell_type": "code",
   "execution_count": 1,
   "id": "59fda122",
   "metadata": {},
   "outputs": [],
   "source": [
    "# Загрузка библиотек\n",
    "import pandas as pd\n",
    "import matplotlib.pyplot as plt"
   ]
  },
  {
   "cell_type": "markdown",
   "id": "90829623",
   "metadata": {},
   "source": [
    "### Датасет \"Доноры\""
   ]
  },
  {
   "cell_type": "code",
   "execution_count": 2,
   "id": "52c0521a",
   "metadata": {},
   "outputs": [
    {
     "data": {
      "text/html": [
       "<div>\n",
       "<style scoped>\n",
       "    .dataframe tbody tr th:only-of-type {\n",
       "        vertical-align: middle;\n",
       "    }\n",
       "\n",
       "    .dataframe tbody tr th {\n",
       "        vertical-align: top;\n",
       "    }\n",
       "\n",
       "    .dataframe thead th {\n",
       "        text-align: right;\n",
       "    }\n",
       "</style>\n",
       "<table border=\"1\" class=\"dataframe\">\n",
       "  <thead>\n",
       "    <tr style=\"text-align: right;\">\n",
       "      <th></th>\n",
       "      <th>ID</th>\n",
       "      <th>Пол</th>\n",
       "      <th>Город</th>\n",
       "      <th>Дата последней email активности</th>\n",
       "    </tr>\n",
       "  </thead>\n",
       "  <tbody>\n",
       "    <tr>\n",
       "      <th>0</th>\n",
       "      <td>AF575B85-917F-475D-8875-00055586E05B</td>\n",
       "      <td>NaN</td>\n",
       "      <td>NaN</td>\n",
       "      <td>NaT</td>\n",
       "    </tr>\n",
       "    <tr>\n",
       "      <th>1</th>\n",
       "      <td>229A9B43-3A15-4A48-8CB6-000EDB240D50</td>\n",
       "      <td>NaN</td>\n",
       "      <td>NaN</td>\n",
       "      <td>NaT</td>\n",
       "    </tr>\n",
       "    <tr>\n",
       "      <th>2</th>\n",
       "      <td>C6606486-05A8-4437-ACF9-00344E54FEE1</td>\n",
       "      <td>NaN</td>\n",
       "      <td>NaN</td>\n",
       "      <td>NaT</td>\n",
       "    </tr>\n",
       "    <tr>\n",
       "      <th>3</th>\n",
       "      <td>6ED86154-A688-4A11-868F-006209035413</td>\n",
       "      <td>Женский                                       ...</td>\n",
       "      <td>NaN</td>\n",
       "      <td>NaT</td>\n",
       "    </tr>\n",
       "    <tr>\n",
       "      <th>4</th>\n",
       "      <td>46C41E20-EA56-4698-9C37-00692FD6FFE8</td>\n",
       "      <td>Женский                                       ...</td>\n",
       "      <td>NaN</td>\n",
       "      <td>NaT</td>\n",
       "    </tr>\n",
       "  </tbody>\n",
       "</table>\n",
       "</div>"
      ],
      "text/plain": [
       "                                     ID  \\\n",
       "0  AF575B85-917F-475D-8875-00055586E05B   \n",
       "1  229A9B43-3A15-4A48-8CB6-000EDB240D50   \n",
       "2  C6606486-05A8-4437-ACF9-00344E54FEE1   \n",
       "3  6ED86154-A688-4A11-868F-006209035413   \n",
       "4  46C41E20-EA56-4698-9C37-00692FD6FFE8   \n",
       "\n",
       "                                                 Пол Город  \\\n",
       "0                                                NaN   NaN   \n",
       "1                                                NaN   NaN   \n",
       "2                                                NaN   NaN   \n",
       "3  Женский                                       ...   NaN   \n",
       "4  Женский                                       ...   NaN   \n",
       "\n",
       "  Дата последней email активности  \n",
       "0                             NaT  \n",
       "1                             NaT  \n",
       "2                             NaT  \n",
       "3                             NaT  \n",
       "4                             NaT  "
      ]
     },
     "execution_count": 2,
     "metadata": {},
     "output_type": "execute_result"
    }
   ],
   "source": [
    "donors = pd.read_excel('Выгрузка для ЯП_2.xlsx', sheet_name='Доноры')\n",
    "donors.head()"
   ]
  },
  {
   "cell_type": "code",
   "execution_count": 3,
   "id": "8ac20330",
   "metadata": {
    "scrolled": true
   },
   "outputs": [
    {
     "name": "stdout",
     "output_type": "stream",
     "text": [
      "<class 'pandas.core.frame.DataFrame'>\n",
      "RangeIndex: 3683 entries, 0 to 3682\n",
      "Data columns (total 4 columns):\n",
      " #   Column                           Non-Null Count  Dtype         \n",
      "---  ------                           --------------  -----         \n",
      " 0   ID                               3683 non-null   object        \n",
      " 1   Пол                              2431 non-null   object        \n",
      " 2   Город                            1015 non-null   object        \n",
      " 3   Дата последней email активности  1835 non-null   datetime64[ns]\n",
      "dtypes: datetime64[ns](1), object(3)\n",
      "memory usage: 72.0+ KB\n"
     ]
    }
   ],
   "source": [
    "donors.info()"
   ]
  },
  {
   "cell_type": "markdown",
   "id": "45be78b3",
   "metadata": {},
   "source": [
    "Всего в датасете \"Доноры\" 4 столбца, названия 3 столбцов записаны кирилицей и требуют переименования. В датасете 3683 записи, в каждой колонке кроме идентификатора имеются пропуски. Последняя колонка с датой имеет правильный тип данных, преобразование типов не требуется."
   ]
  },
  {
   "cell_type": "code",
   "execution_count": 4,
   "id": "6f8fa5c3",
   "metadata": {},
   "outputs": [
    {
     "data": {
      "text/html": [
       "<div>\n",
       "<style scoped>\n",
       "    .dataframe tbody tr th:only-of-type {\n",
       "        vertical-align: middle;\n",
       "    }\n",
       "\n",
       "    .dataframe tbody tr th {\n",
       "        vertical-align: top;\n",
       "    }\n",
       "\n",
       "    .dataframe thead th {\n",
       "        text-align: right;\n",
       "    }\n",
       "</style>\n",
       "<table border=\"1\" class=\"dataframe\">\n",
       "  <thead>\n",
       "    <tr style=\"text-align: right;\">\n",
       "      <th></th>\n",
       "      <th>id</th>\n",
       "      <th>gender</th>\n",
       "      <th>city</th>\n",
       "      <th>last_activity</th>\n",
       "    </tr>\n",
       "  </thead>\n",
       "  <tbody>\n",
       "    <tr>\n",
       "      <th>0</th>\n",
       "      <td>AF575B85-917F-475D-8875-00055586E05B</td>\n",
       "      <td>NaN</td>\n",
       "      <td>NaN</td>\n",
       "      <td>NaT</td>\n",
       "    </tr>\n",
       "  </tbody>\n",
       "</table>\n",
       "</div>"
      ],
      "text/plain": [
       "                                     id gender city last_activity\n",
       "0  AF575B85-917F-475D-8875-00055586E05B    NaN  NaN           NaT"
      ]
     },
     "execution_count": 4,
     "metadata": {},
     "output_type": "execute_result"
    }
   ],
   "source": [
    "donors.columns = ['id', 'gender', 'city', 'last_activity']\n",
    "donors.head(1)"
   ]
  },
  {
   "cell_type": "markdown",
   "id": "322becf2",
   "metadata": {},
   "source": [
    "### Датасет \"Пожертвования\""
   ]
  },
  {
   "cell_type": "code",
   "execution_count": 5,
   "id": "cadcd8b1",
   "metadata": {
    "scrolled": true
   },
   "outputs": [
    {
     "data": {
      "text/html": [
       "<div>\n",
       "<style scoped>\n",
       "    .dataframe tbody tr th:only-of-type {\n",
       "        vertical-align: middle;\n",
       "    }\n",
       "\n",
       "    .dataframe tbody tr th {\n",
       "        vertical-align: top;\n",
       "    }\n",
       "\n",
       "    .dataframe thead th {\n",
       "        text-align: right;\n",
       "    }\n",
       "</style>\n",
       "<table border=\"1\" class=\"dataframe\">\n",
       "  <thead>\n",
       "    <tr style=\"text-align: right;\">\n",
       "      <th></th>\n",
       "      <th>Donor ID</th>\n",
       "      <th>Дата платежа</th>\n",
       "      <th>Сумма платежа</th>\n",
       "      <th>Рекуррентный</th>\n",
       "      <th>Назначение платежа</th>\n",
       "      <th>Канал оплаты</th>\n",
       "    </tr>\n",
       "  </thead>\n",
       "  <tbody>\n",
       "    <tr>\n",
       "      <th>0</th>\n",
       "      <td>DE5393F9-9585-4057-B7FB-24B69697FC08</td>\n",
       "      <td>2022-07-03 19:49:48</td>\n",
       "      <td>300.0</td>\n",
       "      <td>Да                                            ...</td>\n",
       "      <td>ПОЖЕРТВОВАНИЕ  undefined</td>\n",
       "      <td>Банковские карты</td>\n",
       "    </tr>\n",
       "    <tr>\n",
       "      <th>1</th>\n",
       "      <td>81CD4BEF-443E-4D36-B34F-664E11182D65</td>\n",
       "      <td>2020-03-14 12:20:02</td>\n",
       "      <td>300.0</td>\n",
       "      <td>Нет                                           ...</td>\n",
       "      <td>SMS bdd</td>\n",
       "      <td>SMS</td>\n",
       "    </tr>\n",
       "    <tr>\n",
       "      <th>2</th>\n",
       "      <td>D3BEB76D-D8B6-47E2-8109-44F1B278943B</td>\n",
       "      <td>2022-04-07 00:00:00</td>\n",
       "      <td>16.0</td>\n",
       "      <td>Нет                                           ...</td>\n",
       "      <td>Добровольное пожертвование. НДС не облагается</td>\n",
       "      <td>Прямые поступления на счет</td>\n",
       "    </tr>\n",
       "    <tr>\n",
       "      <th>3</th>\n",
       "      <td>F1310736-B229-4AAC-99B7-F13ACECF67CB</td>\n",
       "      <td>2019-12-26 02:25:42</td>\n",
       "      <td>300.0</td>\n",
       "      <td>Нет                                           ...</td>\n",
       "      <td>NaN</td>\n",
       "      <td>SMS</td>\n",
       "    </tr>\n",
       "    <tr>\n",
       "      <th>4</th>\n",
       "      <td>61C3D86B-39DA-445C-9D7F-9924CE9BDA14</td>\n",
       "      <td>2021-06-26 01:26:07</td>\n",
       "      <td>200.0</td>\n",
       "      <td>Да                                            ...</td>\n",
       "      <td>ПОЖЕРТВОВАНИЕ  undefined</td>\n",
       "      <td>Банковские карты</td>\n",
       "    </tr>\n",
       "  </tbody>\n",
       "</table>\n",
       "</div>"
      ],
      "text/plain": [
       "                               Donor ID        Дата платежа  Сумма платежа  \\\n",
       "0  DE5393F9-9585-4057-B7FB-24B69697FC08 2022-07-03 19:49:48          300.0   \n",
       "1  81CD4BEF-443E-4D36-B34F-664E11182D65 2020-03-14 12:20:02          300.0   \n",
       "2  D3BEB76D-D8B6-47E2-8109-44F1B278943B 2022-04-07 00:00:00           16.0   \n",
       "3  F1310736-B229-4AAC-99B7-F13ACECF67CB 2019-12-26 02:25:42          300.0   \n",
       "4  61C3D86B-39DA-445C-9D7F-9924CE9BDA14 2021-06-26 01:26:07          200.0   \n",
       "\n",
       "                                        Рекуррентный  \\\n",
       "0  Да                                            ...   \n",
       "1  Нет                                           ...   \n",
       "2  Нет                                           ...   \n",
       "3  Нет                                           ...   \n",
       "4  Да                                            ...   \n",
       "\n",
       "                              Назначение платежа                  Канал оплаты  \n",
       "0                       ПОЖЕРТВОВАНИЕ  undefined            Банковские карты    \n",
       "1                                        SMS bdd                         SMS    \n",
       "2  Добровольное пожертвование. НДС не облагается  Прямые поступления на счет    \n",
       "3                                            NaN                         SMS    \n",
       "4                       ПОЖЕРТВОВАНИЕ  undefined            Банковские карты    "
      ]
     },
     "execution_count": 5,
     "metadata": {},
     "output_type": "execute_result"
    }
   ],
   "source": [
    "donations = pd.read_excel('Выгрузка для ЯП_2.xlsx', sheet_name='Пожертвования')\n",
    "donations.head()"
   ]
  },
  {
   "cell_type": "code",
   "execution_count": 6,
   "id": "589ab120",
   "metadata": {
    "scrolled": true
   },
   "outputs": [
    {
     "name": "stdout",
     "output_type": "stream",
     "text": [
      "<class 'pandas.core.frame.DataFrame'>\n",
      "RangeIndex: 14043 entries, 0 to 14042\n",
      "Data columns (total 6 columns):\n",
      " #   Column              Non-Null Count  Dtype         \n",
      "---  ------              --------------  -----         \n",
      " 0   Donor ID            14043 non-null  object        \n",
      " 1   Дата платежа        14043 non-null  datetime64[ns]\n",
      " 2   Сумма платежа       14043 non-null  float64       \n",
      " 3   Рекуррентный        14043 non-null  object        \n",
      " 4   Назначение платежа  12774 non-null  object        \n",
      " 5   Канал оплаты        14043 non-null  object        \n",
      "dtypes: datetime64[ns](1), float64(1), object(4)\n",
      "memory usage: 438.9+ KB\n"
     ]
    }
   ],
   "source": [
    "donations.info()"
   ]
  },
  {
   "cell_type": "markdown",
   "id": "e20cd83a",
   "metadata": {},
   "source": [
    "В датасете \"Пожертвования\" 6 столбцов, все названия не соответствуют PEP8 поэтому их нужно переименовать латинскими буквами в змеинном стиле. В датасете 140043 строки, пропуски есть только в стобце назначение платежа, возможно некотрые пропуски можно попробовать восстановить. Столбец с датами имеет правильный тип, преобразования столбцов в датасете не требуется."
   ]
  },
  {
   "cell_type": "code",
   "execution_count": 7,
   "id": "5080d455",
   "metadata": {},
   "outputs": [
    {
     "data": {
      "text/html": [
       "<div>\n",
       "<style scoped>\n",
       "    .dataframe tbody tr th:only-of-type {\n",
       "        vertical-align: middle;\n",
       "    }\n",
       "\n",
       "    .dataframe tbody tr th {\n",
       "        vertical-align: top;\n",
       "    }\n",
       "\n",
       "    .dataframe thead th {\n",
       "        text-align: right;\n",
       "    }\n",
       "</style>\n",
       "<table border=\"1\" class=\"dataframe\">\n",
       "  <thead>\n",
       "    <tr style=\"text-align: right;\">\n",
       "      <th></th>\n",
       "      <th>id</th>\n",
       "      <th>date</th>\n",
       "      <th>amount</th>\n",
       "      <th>regular</th>\n",
       "      <th>purpose</th>\n",
       "      <th>channel</th>\n",
       "    </tr>\n",
       "  </thead>\n",
       "  <tbody>\n",
       "    <tr>\n",
       "      <th>0</th>\n",
       "      <td>DE5393F9-9585-4057-B7FB-24B69697FC08</td>\n",
       "      <td>2022-07-03 19:49:48</td>\n",
       "      <td>300.0</td>\n",
       "      <td>Да                                            ...</td>\n",
       "      <td>ПОЖЕРТВОВАНИЕ  undefined</td>\n",
       "      <td>Банковские карты</td>\n",
       "    </tr>\n",
       "  </tbody>\n",
       "</table>\n",
       "</div>"
      ],
      "text/plain": [
       "                                     id                date  amount  \\\n",
       "0  DE5393F9-9585-4057-B7FB-24B69697FC08 2022-07-03 19:49:48   300.0   \n",
       "\n",
       "                                             regular  \\\n",
       "0  Да                                            ...   \n",
       "\n",
       "                    purpose             channel  \n",
       "0  ПОЖЕРТВОВАНИЕ  undefined  Банковские карты    "
      ]
     },
     "execution_count": 7,
     "metadata": {},
     "output_type": "execute_result"
    }
   ],
   "source": [
    "donations.columns = ['id', 'date', 'amount', 'regular', 'purpose', 'channel']\n",
    "donations.head(1)"
   ]
  },
  {
   "cell_type": "markdown",
   "id": "3ca7e94a",
   "metadata": {},
   "source": [
    "### Выводы"
   ]
  },
  {
   "cell_type": "markdown",
   "id": "541d8d08",
   "metadata": {},
   "source": [
    "* Всего в датасете \"Доноры\" 4 столбца, названия 3 столбцов записаны кирилицей и были переименованы. В датасете 3683 записи, в каждой колонке кроме идентификатора имеются пропуски. Последняя колонка с датой имеет правильный тип данных, преобразование типов не требуется.\n",
    "* В датасете \"Пожертвования\" 6 столбцов, все названия не соответствуют PEP8 поэтому были переименованы латинскими буквами в змеинном стиле. В датасете 140043 строки, пропуски есть только в стобце назначение платежа, возможно некотрые пропуски можно попробовать восстановить. Столбец с датами имеет правильный тип, преобразования столбцов в датасете не требуется."
   ]
  },
  {
   "cell_type": "markdown",
   "id": "de61c64b",
   "metadata": {},
   "source": [
    "## Знакомство с данными и предобработка"
   ]
  },
  {
   "cell_type": "markdown",
   "id": "c645cff3",
   "metadata": {},
   "source": [
    "### Датасет \"Доноры\""
   ]
  },
  {
   "cell_type": "code",
   "execution_count": 8,
   "id": "42b71b30",
   "metadata": {},
   "outputs": [
    {
     "name": "stdout",
     "output_type": "stream",
     "text": [
      "<class 'pandas.core.frame.DataFrame'>\n",
      "RangeIndex: 3683 entries, 0 to 3682\n",
      "Data columns (total 4 columns):\n",
      " #   Column         Non-Null Count  Dtype         \n",
      "---  ------         --------------  -----         \n",
      " 0   id             3683 non-null   object        \n",
      " 1   gender         2431 non-null   object        \n",
      " 2   city           1015 non-null   object        \n",
      " 3   last_activity  1835 non-null   datetime64[ns]\n",
      "dtypes: datetime64[ns](1), object(3)\n",
      "memory usage: 72.0+ KB\n"
     ]
    }
   ],
   "source": [
    "donors.info()"
   ]
  },
  {
   "cell_type": "code",
   "execution_count": 9,
   "id": "1bb6af8c",
   "metadata": {
    "scrolled": true
   },
   "outputs": [
    {
     "name": "stdout",
     "output_type": "stream",
     "text": [
      "Все доноры датасета уникальны\n"
     ]
    }
   ],
   "source": [
    "# Проверим, что все доноры уникальны\n",
    "if donors['id'].nunique() != donors.shape[0]:\n",
    "    print('Есть неуникальные доноры!!!')\n",
    "else:\n",
    "    print('Все доноры датасета уникальны')"
   ]
  },
  {
   "cell_type": "markdown",
   "id": "99d0627e",
   "metadata": {},
   "source": [
    "#### Столбец gender"
   ]
  },
  {
   "cell_type": "code",
   "execution_count": 10,
   "id": "b50e3b1b",
   "metadata": {
    "scrolled": true
   },
   "outputs": [
    {
     "data": {
      "text/plain": [
       "Женский                                                                                                                                                                                                                                                       1874\n",
       "Мужской                                                                                                                                                                                                                                                        557\n",
       "Name: gender, dtype: int64"
      ]
     },
     "execution_count": 10,
     "metadata": {},
     "output_type": "execute_result"
    }
   ],
   "source": [
    "# проверим столбец gender\n",
    "donors['gender'].value_counts()"
   ]
  },
  {
   "cell_type": "code",
   "execution_count": 11,
   "id": "a46498cc",
   "metadata": {},
   "outputs": [
    {
     "data": {
      "text/plain": [
       "Женский                                                                                                                                                                                                                                                       0.508824\n",
       "не указан                                                                                                                                                                                                                                                     0.339940\n",
       "Мужской                                                                                                                                                                                                                                                       0.151235\n",
       "Name: gender, dtype: float64"
      ]
     },
     "execution_count": 11,
     "metadata": {},
     "output_type": "execute_result"
    }
   ],
   "source": [
    "# В процентах к общему числу доноров\n",
    "donors['gender'].fillna(\"не указан\").value_counts() / donors.shape[0]"
   ]
  },
  {
   "cell_type": "markdown",
   "id": "48f837e8",
   "metadata": {},
   "source": [
    "Женщин - 50.9%,\n",
    "Мужчин - 15.1%\n",
    "Не указан - 34%"
   ]
  },
  {
   "cell_type": "markdown",
   "id": "e4396fcd",
   "metadata": {},
   "source": [
    "#### Столбец city"
   ]
  },
  {
   "cell_type": "code",
   "execution_count": 12,
   "id": "5d5377a4",
   "metadata": {
    "scrolled": true
   },
   "outputs": [
    {
     "data": {
      "text/plain": [
       "array([nan, 'Брянск', 'Истра', 'Москва', 'Бирск', 'Казань', 'Ижевск',\n",
       "       'Southall', 'ЗАСЕЧНОЕ', 'Самара', 'Frankfurt am Main',\n",
       "       'Новосибирск', 'БЕРЕЗКА', 'Павловск', 'КИНГИСЕППСКИЙ',\n",
       "       'Черноголовка', 'Краснодар', 'Якутск', 'Владивосток', 'Charleston',\n",
       "       'Феодосия', 'Кемерово', 'Уфа', 'Ульяновск', 'Саров', 'БОРОВСКИЙ',\n",
       "       'СТЕРЛИТАМАК', 'Нижний Новгород', 'Бухарест', 'Саратов', 'Lucca',\n",
       "       'Северск', 'Усть-Илимск', 'Санкт-Петербург', 'Киров', 'Йошкар-Ола',\n",
       "       'НОВОКУЙБЫШЕВСК', 'Тверь', 'Волхов', 'ЛЕНИНОГОРСК', 'Химки',\n",
       "       'Омск', 'Заречный', 'Фрязино', 'ХАБАРОВСК', 'Сочи', 'Балашиха',\n",
       "       'Астрахань', 'Арзамас', 'Королев', 'ТОБОЛЬСК', 'Denver',\n",
       "       'АЛЬМЕТЬЕВСК', ' НАБЕРЕЖНЫЕ ЧЕЛНЫ ', 'ПИЖАНКА', 'Пермь',\n",
       "       'Улан-Удэ', 'Челябинск', 'Чебоксары', 'Дубна', 'Щелково',\n",
       "       'БАГДАРИН', 'Орёл', 'Ярославль', 'Brooklyn', 'Симферополь',\n",
       "       'ПОЙКОВСКИЙ', 'Константиновск', 'Riga', 'Тольятти', 'Лыткарино',\n",
       "       'Fort Lauderdale', 'Старый Оскол', 'Copenhagen', 'Tartu',\n",
       "       'Ставрополь', 'Рязань', 'Молаканский', 'Бугульма', 'ШУМЕРЛЯ',\n",
       "       'НЕВЕЛЬ', 'АМАНГИЛЬДИНО', 'Ростов-на-Дону', 'Котельники',\n",
       "       'Калининград', 'Минск', 'Екатеринбург', 'Воронеж',\n",
       "       'Saint-Etienne-de-Valoux', 'Иваново', 'Киев', 'Ленск', 'Мытищи',\n",
       "       'Новороссийск', 'КЕМЕРОВО', 'Одинцово', 'Бор', 'Волгоград',\n",
       "       'ШЕЛЕХОВ', 'Лев Толстой', 'Landskrona', ' БОЛЬШОЕ ПОЛПИНО',\n",
       "       'ПОПЧИХА', 'Калуга', 'Гагарин', 'Донецк', 'Сыктывкар', 'НЯГАНЬ',\n",
       "       'Louisville', 'ЗЕЛЕНЕЦ', 'Хабаровск', 'Магнитогорск', 'Алупка',\n",
       "       'Апатиты', 'Икряное', 'СИЯ', 'Елабуга', 'Ивантеевка', 'Тюмень',\n",
       "       'КАНДРЫ', 'Воркута', 'Владимир', 'Prague', 'ОЗЕРЕЦКИЙ',\n",
       "       'ПИОНЕРСКИЙ', 'Berlin', 'Мужукай', 'Antalya', 'Электросталь',\n",
       "       'БЛАГОВЕЩЕНСК', 'Тамбов', 'Абакан', 'Seoul', 'Juba', 'АГИРТАМАК',\n",
       "       'Сорговый', 'Пенза', 'Ереван', 'Пятигорск', 'Bad Voslau',\n",
       "       'Иркутск', 'Jakarta', 'Звездный', 'Garching bei Munchen', 'Holon',\n",
       "       'ЯРКОВО', 'Южно-Сахалинск', 'ИЛОВЛЯ', 'Вольск', 'Люберцы',\n",
       "       'Вологда', 'Элиста', 'Саранск', 'Ессентуки', 'КАМЕНКА',\n",
       "       'Каменск-Шахтинский', 'ПЕТРОПАВЛОВСК-КАМЧАТСКИЙ', 'Бобруйск',\n",
       "       'Юбилейный', 'КРАСНОЯРСК', 'Сургут', 'Усинск', 'Красноярск',\n",
       "       'ВЕЛИЖАНЫ', 'ДУДИНКА', 'Салтыкова', 'Салават', 'Орехово-Зуево',\n",
       "       'ЗАРЕЧНЫЙ', 'Севастополь', 'КУДРОВО', 'Одесса', 'Архангельск',\n",
       "       'Keighley', 'Пригорское', 'Таймазы', 'Армавир', 'РЕШЕТНИКОВО',\n",
       "       'Ивня', 'Изобильный', 'Красногорск', 'Нижневартовск', 'ШЕМЫШЕЙКА',\n",
       "       'Tromsø', 'НЕСТЕРОВКА', 'Фокино', 'Naples', 'Туапсе', 'МЕЛЕУЗ',\n",
       "       'Коркино', 'Липецк', 'Искитим', 'Liberec', 'Курган', 'Караганда',\n",
       "       'Leawood', 'ВЫБОРГ', 'Ноябрьск', 'San Jose', 'КАРДЫМОВО', 'Vienna',\n",
       "       'Оренбург', 'Великий Новгород', \"Villanova d'Asti\", 'Herndon',\n",
       "       'Charlestown', 'ГОРЛОВКА', 'Podgorica', 'London', 'Helsinki',\n",
       "       'Алексеевский', 'Белгород', 'НИЖНЕКАМСК', 'Выборг', 'Alameda',\n",
       "       'Istanbul', 'БУРМИНКА', 'Наро-Фоминск', 'ЩЕКИНО', 'ПЫТЬ-ЯХ',\n",
       "       'Орск', 'Hyderabad', 'Bristol', 'ШИНДАЛОВО', 'Vancouver',\n",
       "       'ПРОКОПЬЕВСК', 'Орел', 'МАЙКОП', 'Коломна', 'Margate', 'НОЯБРЬСК',\n",
       "       'Барнаул', 'Воткинск', 'Руза', 'КУШВА'], dtype=object)"
      ]
     },
     "execution_count": 12,
     "metadata": {},
     "output_type": "execute_result"
    }
   ],
   "source": [
    "# Посмотрим на распределение доноров по городам\n",
    "donors['city'].unique()"
   ]
  },
  {
   "cell_type": "code",
   "execution_count": 13,
   "id": "47470588",
   "metadata": {},
   "outputs": [
    {
     "data": {
      "text/plain": [
       "234"
      ]
     },
     "execution_count": 13,
     "metadata": {},
     "output_type": "execute_result"
    }
   ],
   "source": [
    "donors['city'].nunique()"
   ]
  },
  {
   "cell_type": "markdown",
   "id": "2f5df2b8",
   "metadata": {},
   "source": [
    "Городов довольно много и они записаны в разных стилях, приведём названия всех городов к нижнему регистру"
   ]
  },
  {
   "cell_type": "code",
   "execution_count": 14,
   "id": "e8fe954b",
   "metadata": {},
   "outputs": [],
   "source": [
    "donors['city'] = donors['city'].str.lower()"
   ]
  },
  {
   "cell_type": "code",
   "execution_count": 15,
   "id": "cc797dcb",
   "metadata": {},
   "outputs": [
    {
     "data": {
      "text/plain": [
       "228"
      ]
     },
     "execution_count": 15,
     "metadata": {},
     "output_type": "execute_result"
    }
   ],
   "source": [
    "donors['city'].nunique()"
   ]
  },
  {
   "cell_type": "markdown",
   "id": "f5138e84",
   "metadata": {},
   "source": [
    "Количество уникальных названий городов - 234, после приведения названий к нижнему регистру сократилось до 228."
   ]
  },
  {
   "cell_type": "code",
   "execution_count": 16,
   "id": "e62a681e",
   "metadata": {},
   "outputs": [
    {
     "name": "stdout",
     "output_type": "stream",
     "text": [
      "В датасете доноров нет полных дубликатов\n"
     ]
    }
   ],
   "source": [
    "# Проверка на дубли\n",
    "if donors.duplicated().sum() == 0:\n",
    "    print('В датасете доноров нет полных дубликатов')\n",
    "else:\n",
    "    print(f'В датасете доноров есть {donors.duplicated().sum()} дубликатов!')\n",
    "    print('Дубликату были удалены из датасета, индексы переустановлены.')\n",
    "    donors = donors.drop_duplicates().reset_index()"
   ]
  },
  {
   "cell_type": "code",
   "execution_count": 17,
   "id": "9050710c",
   "metadata": {
    "scrolled": true
   },
   "outputs": [
    {
     "data": {
      "text/plain": [
       "N/A                2668\n",
       "москва              458\n",
       "санкт-петербург      78\n",
       "краснодар            23\n",
       "нижний новгород      20\n",
       "                   ... \n",
       "магнитогорск          1\n",
       "алупка                1\n",
       "апатиты               1\n",
       "икряное               1\n",
       "кушва                 1\n",
       "Name: city, Length: 229, dtype: int64"
      ]
     },
     "execution_count": 17,
     "metadata": {},
     "output_type": "execute_result"
    }
   ],
   "source": [
    "donors['city'].fillna('N/A').value_counts()"
   ]
  },
  {
   "cell_type": "code",
   "execution_count": 18,
   "id": "b081b81c",
   "metadata": {
    "scrolled": true
   },
   "outputs": [
    {
     "name": "stderr",
     "output_type": "stream",
     "text": [
      "C:\\Users\\admin\\AppData\\Local\\Temp\\ipykernel_10488\\3125531584.py:2: FutureWarning: The series.append method is deprecated and will be removed from pandas in a future version. Use pandas.concat instead.\n",
      "  city_donors = city_donors.append(pd.Series({'прочее': donors.shape[0] - city_donors.sum()}))\n"
     ]
    },
    {
     "data": {
      "image/png": "[encoded data removed]",
      "text/plain": [
       "<Figure size 360x360 with 1 Axes>"
      ]
     },
     "metadata": {},
     "output_type": "display_data"
    }
   ],
   "source": [
    "city_donors = donors['city'].fillna('не указан').value_counts().head(3)\n",
    "city_donors = city_donors.append(pd.Series({'прочее': donors.shape[0] - city_donors.sum()}))\n",
    "city_donors.plot.pie(figsize=(5, 5), title='Доли доноров по городам.', ylabel='', autopct='%1.1f%%')\n",
    "plt.show()"
   ]
  },
  {
   "cell_type": "code",
   "execution_count": 19,
   "id": "80a65bfb",
   "metadata": {
    "scrolled": true
   },
   "outputs": [
    {
     "data": {
      "text/plain": [
       "N/A                0.724409\n",
       "москва             0.124355\n",
       "санкт-петербург    0.021178\n",
       "краснодар          0.006245\n",
       "нижний новгород    0.005430\n",
       "                     ...   \n",
       "магнитогорск       0.000272\n",
       "алупка             0.000272\n",
       "апатиты            0.000272\n",
       "икряное            0.000272\n",
       "кушва              0.000272\n",
       "Name: city, Length: 229, dtype: float64"
      ]
     },
     "execution_count": 19,
     "metadata": {},
     "output_type": "execute_result"
    }
   ],
   "source": [
    "# В проценттном соотношении\n",
    "donors['city'].fillna('N/A').value_counts() / donors.shape[0]"
   ]
  },
  {
   "cell_type": "markdown",
   "id": "69ed2594",
   "metadata": {},
   "source": [
    "72% доноров не указали свой город, 12% всех доноров находятся в Москве и 2% в Санкт-Петербурге, далее идут Краснодар и Нижний Новгород, 0.6% и 0.5% соответсвенно."
   ]
  },
  {
   "cell_type": "markdown",
   "id": "8137d0d7",
   "metadata": {},
   "source": [
    "#### Столбец last_activity"
   ]
  },
  {
   "cell_type": "code",
   "execution_count": 20,
   "id": "76a45123",
   "metadata": {
    "scrolled": true
   },
   "outputs": [
    {
     "name": "stdout",
     "output_type": "stream",
     "text": [
      "Процент доноров с email активностью: 49.82%\n"
     ]
    }
   ],
   "source": [
    "print(f\"Процент доноров с email активностью: {donors['last_activity'].count() / donors.shape[0]:.2%}\")"
   ]
  },
  {
   "cell_type": "code",
   "execution_count": 21,
   "id": "c98f056b",
   "metadata": {},
   "outputs": [
    {
     "data": {
      "image/png": "[encoded data removed]",
      "text/plain": [
       "<Figure size 720x360 with 1 Axes>"
      ]
     },
     "metadata": {
      "needs_background": "light"
     },
     "output_type": "display_data"
    }
   ],
   "source": [
    "donors['last_activity'].hist(bins=100, figsize=(10,5))\n",
    "plt.title('Количество доноров с признаком email активности по месяцам.')\n",
    "plt.show()"
   ]
  },
  {
   "cell_type": "markdown",
   "id": "8997593a",
   "metadata": {},
   "source": [
    "Подавляющее большинство доноров имеют дату последней email активности в июле 2022 года. Возможно в этот перидо была проведена маркетинговая компания."
   ]
  },
  {
   "cell_type": "markdown",
   "id": "06eac823",
   "metadata": {},
   "source": [
    "### Датасет \"Пожертвования\""
   ]
  },
  {
   "cell_type": "code",
   "execution_count": 22,
   "id": "7df47a66",
   "metadata": {
    "scrolled": false
   },
   "outputs": [
    {
     "name": "stdout",
     "output_type": "stream",
     "text": [
      "<class 'pandas.core.frame.DataFrame'>\n",
      "RangeIndex: 14043 entries, 0 to 14042\n",
      "Data columns (total 6 columns):\n",
      " #   Column   Non-Null Count  Dtype         \n",
      "---  ------   --------------  -----         \n",
      " 0   id       14043 non-null  object        \n",
      " 1   date     14043 non-null  datetime64[ns]\n",
      " 2   amount   14043 non-null  float64       \n",
      " 3   regular  14043 non-null  object        \n",
      " 4   purpose  12774 non-null  object        \n",
      " 5   channel  14043 non-null  object        \n",
      "dtypes: datetime64[ns](1), float64(1), object(4)\n",
      "memory usage: 438.9+ KB\n"
     ]
    }
   ],
   "source": [
    "donations.info()"
   ]
  },
  {
   "cell_type": "code",
   "execution_count": 23,
   "id": "04b4810a",
   "metadata": {},
   "outputs": [
    {
     "data": {
      "text/html": [
       "<div>\n",
       "<style scoped>\n",
       "    .dataframe tbody tr th:only-of-type {\n",
       "        vertical-align: middle;\n",
       "    }\n",
       "\n",
       "    .dataframe tbody tr th {\n",
       "        vertical-align: top;\n",
       "    }\n",
       "\n",
       "    .dataframe thead th {\n",
       "        text-align: right;\n",
       "    }\n",
       "</style>\n",
       "<table border=\"1\" class=\"dataframe\">\n",
       "  <thead>\n",
       "    <tr style=\"text-align: right;\">\n",
       "      <th></th>\n",
       "      <th>id</th>\n",
       "      <th>date</th>\n",
       "      <th>amount</th>\n",
       "      <th>regular</th>\n",
       "      <th>purpose</th>\n",
       "      <th>channel</th>\n",
       "    </tr>\n",
       "  </thead>\n",
       "  <tbody>\n",
       "    <tr>\n",
       "      <th>0</th>\n",
       "      <td>DE5393F9-9585-4057-B7FB-24B69697FC08</td>\n",
       "      <td>2022-07-03 19:49:48</td>\n",
       "      <td>300.0</td>\n",
       "      <td>да                                            ...</td>\n",
       "      <td>пожертвование  undefined</td>\n",
       "      <td>банковские карты</td>\n",
       "    </tr>\n",
       "    <tr>\n",
       "      <th>1</th>\n",
       "      <td>81CD4BEF-443E-4D36-B34F-664E11182D65</td>\n",
       "      <td>2020-03-14 12:20:02</td>\n",
       "      <td>300.0</td>\n",
       "      <td>нет                                           ...</td>\n",
       "      <td>sms bdd</td>\n",
       "      <td>sms</td>\n",
       "    </tr>\n",
       "    <tr>\n",
       "      <th>2</th>\n",
       "      <td>D3BEB76D-D8B6-47E2-8109-44F1B278943B</td>\n",
       "      <td>2022-04-07 00:00:00</td>\n",
       "      <td>16.0</td>\n",
       "      <td>нет                                           ...</td>\n",
       "      <td>добровольное пожертвование. ндс не облагается</td>\n",
       "      <td>прямые поступления на счет</td>\n",
       "    </tr>\n",
       "    <tr>\n",
       "      <th>3</th>\n",
       "      <td>F1310736-B229-4AAC-99B7-F13ACECF67CB</td>\n",
       "      <td>2019-12-26 02:25:42</td>\n",
       "      <td>300.0</td>\n",
       "      <td>нет                                           ...</td>\n",
       "      <td>NaN</td>\n",
       "      <td>sms</td>\n",
       "    </tr>\n",
       "    <tr>\n",
       "      <th>4</th>\n",
       "      <td>61C3D86B-39DA-445C-9D7F-9924CE9BDA14</td>\n",
       "      <td>2021-06-26 01:26:07</td>\n",
       "      <td>200.0</td>\n",
       "      <td>да                                            ...</td>\n",
       "      <td>пожертвование  undefined</td>\n",
       "      <td>банковские карты</td>\n",
       "    </tr>\n",
       "  </tbody>\n",
       "</table>\n",
       "</div>"
      ],
      "text/plain": [
       "                                     id                date  amount  \\\n",
       "0  DE5393F9-9585-4057-B7FB-24B69697FC08 2022-07-03 19:49:48   300.0   \n",
       "1  81CD4BEF-443E-4D36-B34F-664E11182D65 2020-03-14 12:20:02   300.0   \n",
       "2  D3BEB76D-D8B6-47E2-8109-44F1B278943B 2022-04-07 00:00:00    16.0   \n",
       "3  F1310736-B229-4AAC-99B7-F13ACECF67CB 2019-12-26 02:25:42   300.0   \n",
       "4  61C3D86B-39DA-445C-9D7F-9924CE9BDA14 2021-06-26 01:26:07   200.0   \n",
       "\n",
       "                                             regular  \\\n",
       "0  да                                            ...   \n",
       "1  нет                                           ...   \n",
       "2  нет                                           ...   \n",
       "3  нет                                           ...   \n",
       "4  да                                            ...   \n",
       "\n",
       "                                         purpose                       channel  \n",
       "0                       пожертвование  undefined            банковские карты    \n",
       "1                                        sms bdd                         sms    \n",
       "2  добровольное пожертвование. ндс не облагается  прямые поступления на счет    \n",
       "3                                            NaN                         sms    \n",
       "4                       пожертвование  undefined            банковские карты    "
      ]
     },
     "execution_count": 23,
     "metadata": {},
     "output_type": "execute_result"
    }
   ],
   "source": [
    "# Приведём текстовые стобцы к нижнему регистру\n",
    "for column in ['regular', 'purpose', 'channel']:\n",
    "    donations[column] = donations[column].str.lower()\n",
    "donations.head()"
   ]
  },
  {
   "cell_type": "code",
   "execution_count": 24,
   "id": "cec50dd2",
   "metadata": {
    "scrolled": false
   },
   "outputs": [
    {
     "name": "stdout",
     "output_type": "stream",
     "text": [
      "В датасете пожертвований есть 12 дубликатов!\n"
     ]
    },
    {
     "data": {
      "text/html": [
       "<div>\n",
       "<style scoped>\n",
       "    .dataframe tbody tr th:only-of-type {\n",
       "        vertical-align: middle;\n",
       "    }\n",
       "\n",
       "    .dataframe tbody tr th {\n",
       "        vertical-align: top;\n",
       "    }\n",
       "\n",
       "    .dataframe thead th {\n",
       "        text-align: right;\n",
       "    }\n",
       "</style>\n",
       "<table border=\"1\" class=\"dataframe\">\n",
       "  <thead>\n",
       "    <tr style=\"text-align: right;\">\n",
       "      <th></th>\n",
       "      <th>id</th>\n",
       "      <th>date</th>\n",
       "      <th>amount</th>\n",
       "      <th>regular</th>\n",
       "      <th>purpose</th>\n",
       "      <th>channel</th>\n",
       "    </tr>\n",
       "  </thead>\n",
       "  <tbody>\n",
       "    <tr>\n",
       "      <th>133</th>\n",
       "      <td>5D288F50-4F0E-4FDF-A026-863590DF3F69</td>\n",
       "      <td>2022-04-28</td>\n",
       "      <td>1.0</td>\n",
       "      <td>нет                                           ...</td>\n",
       "      <td>благотворительное пожертвование 1.00</td>\n",
       "      <td>прямые поступления на счет</td>\n",
       "    </tr>\n",
       "    <tr>\n",
       "      <th>297</th>\n",
       "      <td>5D288F50-4F0E-4FDF-A026-863590DF3F69</td>\n",
       "      <td>2022-04-28</td>\n",
       "      <td>1.0</td>\n",
       "      <td>нет                                           ...</td>\n",
       "      <td>благотворительное пожертвование 1.00</td>\n",
       "      <td>прямые поступления на счет</td>\n",
       "    </tr>\n",
       "    <tr>\n",
       "      <th>1438</th>\n",
       "      <td>5D288F50-4F0E-4FDF-A026-863590DF3F69</td>\n",
       "      <td>2022-04-28</td>\n",
       "      <td>1.0</td>\n",
       "      <td>нет                                           ...</td>\n",
       "      <td>благотворительное пожертвование 1.00</td>\n",
       "      <td>прямые поступления на счет</td>\n",
       "    </tr>\n",
       "    <tr>\n",
       "      <th>2837</th>\n",
       "      <td>5D288F50-4F0E-4FDF-A026-863590DF3F69</td>\n",
       "      <td>2022-04-28</td>\n",
       "      <td>1.0</td>\n",
       "      <td>нет                                           ...</td>\n",
       "      <td>благотворительное пожертвование 1.00</td>\n",
       "      <td>прямые поступления на счет</td>\n",
       "    </tr>\n",
       "    <tr>\n",
       "      <th>5166</th>\n",
       "      <td>FFCCBA23-89CA-4A22-BD8A-7CAD2D9EB7F7</td>\n",
       "      <td>2021-09-13</td>\n",
       "      <td>20.0</td>\n",
       "      <td>нет                                           ...</td>\n",
       "      <td>добровольное пожертвование. ндс не облагается</td>\n",
       "      <td>прямые поступления на счет</td>\n",
       "    </tr>\n",
       "    <tr>\n",
       "      <th>7654</th>\n",
       "      <td>FFCCBA23-89CA-4A22-BD8A-7CAD2D9EB7F7</td>\n",
       "      <td>2021-09-13</td>\n",
       "      <td>20.0</td>\n",
       "      <td>нет                                           ...</td>\n",
       "      <td>добровольное пожертвование. ндс не облагается</td>\n",
       "      <td>прямые поступления на счет</td>\n",
       "    </tr>\n",
       "    <tr>\n",
       "      <th>9594</th>\n",
       "      <td>D38F6A22-9BEF-4484-B377-ED8ED1DB4553</td>\n",
       "      <td>2021-02-11</td>\n",
       "      <td>1.0</td>\n",
       "      <td>нет                                           ...</td>\n",
       "      <td>добровольное пожертвование;сумма 1.00 руб.;ком...</td>\n",
       "      <td>прямые поступления на счет</td>\n",
       "    </tr>\n",
       "    <tr>\n",
       "      <th>10112</th>\n",
       "      <td>FFCCBA23-89CA-4A22-BD8A-7CAD2D9EB7F7</td>\n",
       "      <td>2021-09-13</td>\n",
       "      <td>20.0</td>\n",
       "      <td>нет                                           ...</td>\n",
       "      <td>добровольное пожертвование. ндс не облагается</td>\n",
       "      <td>прямые поступления на счет</td>\n",
       "    </tr>\n",
       "    <tr>\n",
       "      <th>10685</th>\n",
       "      <td>5D288F50-4F0E-4FDF-A026-863590DF3F69</td>\n",
       "      <td>2022-04-28</td>\n",
       "      <td>1.0</td>\n",
       "      <td>нет                                           ...</td>\n",
       "      <td>благотворительное пожертвование 1.00</td>\n",
       "      <td>прямые поступления на счет</td>\n",
       "    </tr>\n",
       "    <tr>\n",
       "      <th>11757</th>\n",
       "      <td>5D288F50-4F0E-4FDF-A026-863590DF3F69</td>\n",
       "      <td>2022-04-28</td>\n",
       "      <td>1.0</td>\n",
       "      <td>нет                                           ...</td>\n",
       "      <td>благотворительное пожертвование 1.00</td>\n",
       "      <td>прямые поступления на счет</td>\n",
       "    </tr>\n",
       "    <tr>\n",
       "      <th>13775</th>\n",
       "      <td>8FBCD1D4-5490-496F-A089-FB39AB7975AF</td>\n",
       "      <td>2021-04-12</td>\n",
       "      <td>10.0</td>\n",
       "      <td>нет                                           ...</td>\n",
       "      <td>добровольное пожертвование. ндс не облагается</td>\n",
       "      <td>прямые поступления на счет</td>\n",
       "    </tr>\n",
       "    <tr>\n",
       "      <th>13990</th>\n",
       "      <td>C6CA05F1-C324-46EE-8A5A-7B1302DBB149</td>\n",
       "      <td>2020-12-27</td>\n",
       "      <td>100.0</td>\n",
       "      <td>нет                                           ...</td>\n",
       "      <td>добровольное пожертвование;сумма 100 руб.;коми...</td>\n",
       "      <td>прямые поступления на счет</td>\n",
       "    </tr>\n",
       "  </tbody>\n",
       "</table>\n",
       "</div>"
      ],
      "text/plain": [
       "                                         id       date  amount  \\\n",
       "133    5D288F50-4F0E-4FDF-A026-863590DF3F69 2022-04-28     1.0   \n",
       "297    5D288F50-4F0E-4FDF-A026-863590DF3F69 2022-04-28     1.0   \n",
       "1438   5D288F50-4F0E-4FDF-A026-863590DF3F69 2022-04-28     1.0   \n",
       "2837   5D288F50-4F0E-4FDF-A026-863590DF3F69 2022-04-28     1.0   \n",
       "5166   FFCCBA23-89CA-4A22-BD8A-7CAD2D9EB7F7 2021-09-13    20.0   \n",
       "7654   FFCCBA23-89CA-4A22-BD8A-7CAD2D9EB7F7 2021-09-13    20.0   \n",
       "9594   D38F6A22-9BEF-4484-B377-ED8ED1DB4553 2021-02-11     1.0   \n",
       "10112  FFCCBA23-89CA-4A22-BD8A-7CAD2D9EB7F7 2021-09-13    20.0   \n",
       "10685  5D288F50-4F0E-4FDF-A026-863590DF3F69 2022-04-28     1.0   \n",
       "11757  5D288F50-4F0E-4FDF-A026-863590DF3F69 2022-04-28     1.0   \n",
       "13775  8FBCD1D4-5490-496F-A089-FB39AB7975AF 2021-04-12    10.0   \n",
       "13990  C6CA05F1-C324-46EE-8A5A-7B1302DBB149 2020-12-27   100.0   \n",
       "\n",
       "                                                 regular  \\\n",
       "133    нет                                           ...   \n",
       "297    нет                                           ...   \n",
       "1438   нет                                           ...   \n",
       "2837   нет                                           ...   \n",
       "5166   нет                                           ...   \n",
       "7654   нет                                           ...   \n",
       "9594   нет                                           ...   \n",
       "10112  нет                                           ...   \n",
       "10685  нет                                           ...   \n",
       "11757  нет                                           ...   \n",
       "13775  нет                                           ...   \n",
       "13990  нет                                           ...   \n",
       "\n",
       "                                                 purpose  \\\n",
       "133                 благотворительное пожертвование 1.00   \n",
       "297                 благотворительное пожертвование 1.00   \n",
       "1438                благотворительное пожертвование 1.00   \n",
       "2837                благотворительное пожертвование 1.00   \n",
       "5166       добровольное пожертвование. ндс не облагается   \n",
       "7654       добровольное пожертвование. ндс не облагается   \n",
       "9594   добровольное пожертвование;сумма 1.00 руб.;ком...   \n",
       "10112      добровольное пожертвование. ндс не облагается   \n",
       "10685               благотворительное пожертвование 1.00   \n",
       "11757               благотворительное пожертвование 1.00   \n",
       "13775      добровольное пожертвование. ндс не облагается   \n",
       "13990  добровольное пожертвование;сумма 100 руб.;коми...   \n",
       "\n",
       "                            channel  \n",
       "133    прямые поступления на счет    \n",
       "297    прямые поступления на счет    \n",
       "1438   прямые поступления на счет    \n",
       "2837   прямые поступления на счет    \n",
       "5166   прямые поступления на счет    \n",
       "7654   прямые поступления на счет    \n",
       "9594   прямые поступления на счет    \n",
       "10112  прямые поступления на счет    \n",
       "10685  прямые поступления на счет    \n",
       "11757  прямые поступления на счет    \n",
       "13775  прямые поступления на счет    \n",
       "13990  прямые поступления на счет    "
      ]
     },
     "metadata": {},
     "output_type": "display_data"
    }
   ],
   "source": [
    "# Проверим на наличие дублей\n",
    "if donations.duplicated().sum() == 0:\n",
    "    print('В датасете пожертвований нет полных дубликатов')\n",
    "else:\n",
    "    print(f'В датасете пожертвований есть {donations.duplicated().sum()} дубликатов!')\n",
    "    display(donations.loc[donations.duplicated()])\n",
    "    #print('Дубликату были удалены из датасета, индексы переустановлены.')\n",
    "    #donations = donations.drop_duplicates().reset_index()"
   ]
  },
  {
   "cell_type": "markdown",
   "id": "ee27ff36",
   "metadata": {},
   "source": [
    "<b>Могут ли одни и те же доноры совершить одинаковые платежи в ту же дату???</b>"
   ]
  },
  {
   "cell_type": "markdown",
   "id": "e7badf45",
   "metadata": {},
   "source": [
    "#### Столбец id"
   ]
  },
  {
   "cell_type": "code",
   "execution_count": 25,
   "id": "9ecdd123",
   "metadata": {},
   "outputs": [
    {
     "name": "stdout",
     "output_type": "stream",
     "text": [
      "Все доноры совершили хотябы одно пожертвование.\n"
     ]
    }
   ],
   "source": [
    "if donations['id'].value_counts().shape[0] != donors.shape[0]:\n",
    "    print('Есть доноры не совершавшие пожертвования.')\n",
    "else:\n",
    "    print('Все доноры совершили хотябы одно пожертвование.')"
   ]
  },
  {
   "cell_type": "code",
   "execution_count": 26,
   "id": "d4e8eb11",
   "metadata": {
    "scrolled": false
   },
   "outputs": [
    {
     "data": {
      "image/png": "[encoded data removed]",
      "text/plain": [
       "<Figure size 720x360 with 1 Axes>"
      ]
     },
     "metadata": {
      "needs_background": "light"
     },
     "output_type": "display_data"
    }
   ],
   "source": [
    "# Посмотрим на распределение доноров по количеству пожертвований\n",
    "donations['id'].value_counts().hist(bins=100, figsize=(10,5))\n",
    "plt.title('Количество доноров по количеству пожертвований.')\n",
    "plt.show()"
   ]
  },
  {
   "cell_type": "code",
   "execution_count": 27,
   "id": "cc3f276c",
   "metadata": {
    "scrolled": true
   },
   "outputs": [
    {
     "name": "stdout",
     "output_type": "stream",
     "text": [
      "Процент доноров совершивших только один платёж - 71.73%\n"
     ]
    }
   ],
   "source": [
    "print(('Процент доноров совершивших только один платёж - '\n",
    "       f'{(donations[\"id\"].value_counts() == 1).sum() / donors.shape[0]:.2%}'))"
   ]
  },
  {
   "cell_type": "markdown",
   "id": "44b4a947",
   "metadata": {},
   "source": [
    "#### Столбец date"
   ]
  },
  {
   "cell_type": "code",
   "execution_count": 28,
   "id": "76a941a0",
   "metadata": {},
   "outputs": [
    {
     "data": {
      "image/png": "[encoded data removed]",
      "text/plain": [
       "<Figure size 1080x504 with 1 Axes>"
      ]
     },
     "metadata": {
      "needs_background": "light"
     },
     "output_type": "display_data"
    }
   ],
   "source": [
    "donations['date'].hist(bins=100, figsize=(15, 7))\n",
    "plt.title('Количество пожертвований по датам.')\n",
    "plt.show()"
   ]
  },
  {
   "cell_type": "markdown",
   "id": "8c0bc82e",
   "metadata": {},
   "source": [
    "В середине 2017 и 2019 года наблюдаются выбросы по количеству пожертвований."
   ]
  },
  {
   "cell_type": "code",
   "execution_count": 29,
   "id": "45ad4db1",
   "metadata": {
    "scrolled": true
   },
   "outputs": [
    {
     "data": {
      "text/html": [
       "<div>\n",
       "<style scoped>\n",
       "    .dataframe tbody tr th:only-of-type {\n",
       "        vertical-align: middle;\n",
       "    }\n",
       "\n",
       "    .dataframe tbody tr th {\n",
       "        vertical-align: top;\n",
       "    }\n",
       "\n",
       "    .dataframe thead th {\n",
       "        text-align: right;\n",
       "    }\n",
       "</style>\n",
       "<table border=\"1\" class=\"dataframe\">\n",
       "  <thead>\n",
       "    <tr style=\"text-align: right;\">\n",
       "      <th>date</th>\n",
       "      <th>2015</th>\n",
       "      <th>2016</th>\n",
       "      <th>2017</th>\n",
       "      <th>2018</th>\n",
       "      <th>2019</th>\n",
       "      <th>2020</th>\n",
       "      <th>2021</th>\n",
       "      <th>2022</th>\n",
       "    </tr>\n",
       "  </thead>\n",
       "  <tbody>\n",
       "    <tr>\n",
       "      <th>amount</th>\n",
       "      <td>227</td>\n",
       "      <td>761</td>\n",
       "      <td>1252</td>\n",
       "      <td>855</td>\n",
       "      <td>2455</td>\n",
       "      <td>3196</td>\n",
       "      <td>3552</td>\n",
       "      <td>1745</td>\n",
       "    </tr>\n",
       "  </tbody>\n",
       "</table>\n",
       "</div>"
      ],
      "text/plain": [
       "date    2015  2016  2017  2018  2019  2020  2021  2022\n",
       "amount   227   761  1252   855  2455  3196  3552  1745"
      ]
     },
     "execution_count": 29,
     "metadata": {},
     "output_type": "execute_result"
    }
   ],
   "source": [
    "donations.pivot_table(columns=donations['date'].dt.year, aggfunc='count').head(1)"
   ]
  },
  {
   "cell_type": "markdown",
   "id": "89ed9b4a",
   "metadata": {},
   "source": [
    "Начиная с 2019 года количество пожертвований роезко возрастает."
   ]
  },
  {
   "cell_type": "markdown",
   "id": "278830d2",
   "metadata": {},
   "source": [
    "#### Столбец amount"
   ]
  },
  {
   "cell_type": "code",
   "execution_count": 38,
   "id": "3265659d",
   "metadata": {},
   "outputs": [
    {
     "data": {
      "text/plain": [
       "<AxesSubplot:>"
      ]
     },
     "execution_count": 38,
     "metadata": {},
     "output_type": "execute_result"
    },
    {
     "data": {
      "image/png": "[encoded data removed]",
      "text/plain": [
       "<Figure size 432x288 with 1 Axes>"
      ]
     },
     "metadata": {
      "needs_background": "light"
     },
     "output_type": "display_data"
    }
   ],
   "source": [
    "donations['amount'].value_counts().head(20).plot.bar()"
   ]
  },
  {
   "cell_type": "code",
   "execution_count": 40,
   "id": "3d8798df",
   "metadata": {},
   "outputs": [
    {
     "data": {
      "text/plain": [
       "<AxesSubplot:>"
      ]
     },
     "execution_count": 40,
     "metadata": {},
     "output_type": "execute_result"
    },
    {
     "data": {
      "image/png": "[encoded data removed]",
      "text/plain": [
       "<Figure size 432x288 with 1 Axes>"
      ]
     },
     "metadata": {
      "needs_background": "light"
     },
     "output_type": "display_data"
    }
   ],
   "source": [
    "donations[['amount']].boxplot()"
   ]
  },
  {
   "cell_type": "markdown",
   "id": "d018b839",
   "metadata": {},
   "source": [
    "### Выводы"
   ]
  },
  {
   "cell_type": "markdown",
   "id": "8b520418",
   "metadata": {},
   "source": [
    "*датасет Доноры*<br>\n",
    "* Все доноры датасета уникальны\n",
    "* Женщин - 50.9%, Мужчин - 15.1%, Не указан - 34%\n",
    "* Количество уникальных названий городов - 234, после приведения названий к нижнему регистру сократилось до 228.\n",
    "* 72% доноров не указали свой город, 12% всех доноров находятся в Москве и 2% в Санкт-Петербурге, далее идут Краснодар и Нижний Новгород, 0.6% и 0.5% соответсвенно.\n",
    "* Почти 50% пользователей имеют признак email активности.\n",
    "* Подавляющее большинство доноров имеют дату последней email активности в июле 2022 года. Возможно в этот перидо была проведена маркетинговая компания.\n",
    "* В датасете доноров нет полных дубликатов\n",
    "\n",
    "*датасет Пожертвования*<br>\n",
    "* Все доноры совершили хотябы одно пожертвование.\n",
    "* Процент доноров совершивших только один платёж - 71.73%\n",
    "* В середине 2017 и 2019 года наблюдаются выбросы по количеству пожертвований.\n",
    "* Начиная с 2019 года количество пожертвований роезко возрастает."
   ]
  },
  {
   "cell_type": "markdown",
   "id": "218e5193",
   "metadata": {},
   "source": [
    "## Выводы"
   ]
  },
  {
   "cell_type": "markdown",
   "id": "39f6fc52",
   "metadata": {},
   "source": [
    "**Загрузка данных**<br>\n",
    "* Всего в датасете \"Доноры\" 4 столбца, названия 3 столбцов записаны кирилицей и требуют переименования. В датасете 3683 записи, в каждой колонке кроме идентификатора имеются пропуски. Последняя колонка с датой имеет правильный тип данных, преобразование типов не требуется.\n",
    "* В датасете \"Пожертвования\" 6 столбцов, все названия не соответствуют PEP8 поэтому их нужно переименовать латинскими буквами в змеинном стиле. В датасете 140043 строки, пропуски есть только в стобце назначение платежа, возможно некотрые пропуски можно попробовать восстановить. Столбец с датами имеет правильный тип, преобразования столбцов в датасете не требуется.\n",
    "\n",
    "**Предобработка данных**"
   ]
  }
 ],
 "metadata": {
  "kernelspec": {
   "display_name": "Python 3 (ipykernel)",
   "language": "python",
   "name": "python3"
  },
  "language_info": {
   "codemirror_mode": {
    "name": "ipython",
    "version": 3
   },
   "file_extension": ".py",
   "mimetype": "text/x-python",
   "name": "python",
   "nbconvert_exporter": "python",
   "pygments_lexer": "ipython3",
   "version": "3.9.12"
  },
  "toc": {
   "base_numbering": 1,
   "nav_menu": {},
   "number_sections": true,
   "sideBar": true,
   "skip_h1_title": true,
   "title_cell": "Содержание",
   "title_sidebar": "Contents",
   "toc_cell": true,
   "toc_position": {
    "height": "calc(100% - 180px)",
    "left": "10px",
    "top": "150px",
    "width": "256px"
   },
   "toc_section_display": true,
   "toc_window_display": true
  }
 },
 "nbformat": 4,
 "nbformat_minor": 5
}
