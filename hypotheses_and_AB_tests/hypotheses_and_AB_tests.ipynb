{
 "cells": [
  {
   "cell_type": "markdown",
   "metadata": {
    "toc": true
   },
   "source": [
    "<h1>Содержание<span class=\"tocSkip\"></span></h1>\n",
    "<div class=\"toc\"><ul class=\"toc-item\"><li><span><a data-toc-modified-id=\"Приоритизация-гипотез-1\"><span class=\"toc-item-num\">1&nbsp;&nbsp;</span>Приоритизация гипотез</a></span><ul class=\"toc-item\"><li><span><a  data-toc-modified-id=\"Применение-фреймворка-ICE-для-приоритизации-гипотез-1.1\"><span class=\"toc-item-num\">1.1&nbsp;&nbsp;</span>Применение фреймворка ICE для приоритизации гипотез</a></span></li><li><span><a data-toc-modified-id=\"Применение-фреймворка-RICE-для-приоритизации-гипотез-1.2\"><span class=\"toc-item-num\">1.2&nbsp;&nbsp;</span>Применение фреймворка RICE для приоритизации гипотез</a></span></li><li><span><a data-toc-modified-id=\"Выводы-1.3\"><span class=\"toc-item-num\">1.3&nbsp;&nbsp;</span>Выводы</a></span></li></ul></li><li><span><a data-toc-modified-id=\"Анализ-A/B-теста-2\"><span class=\"toc-item-num\">2&nbsp;&nbsp;</span>Анализ A/B-теста</a></span><ul class=\"toc-item\"><li><span><a data-toc-modified-id=\"Кумулятивные-данные-2.1\"><span class=\"toc-item-num\">2.1&nbsp;&nbsp;</span>Кумулятивные данные</a></span></li><li><span><a data-toc-modified-id=\"График-кумулятивной-выручки-по-группам-2.2\"><span class=\"toc-item-num\">2.2&nbsp;&nbsp;</span>График кумулятивной выручки по группам</a></span></li><li><span><a data-toc-modified-id=\"График-среднего-чека-по-группам-2.3\"><span class=\"toc-item-num\">2.3&nbsp;&nbsp;</span>График среднего чека по группам</a></span></li><li><span><a data-toc-modified-id=\"График-относительного-изменения-кумулятивного-среднего-чека-2.4\"><span class=\"toc-item-num\">2.4&nbsp;&nbsp;</span>График относительного изменения кумулятивного среднего чека</a></span></li><li><span><a data-toc-modified-id=\"График-кумулятивной-конверсии-по-группам-2.5\"><span class=\"toc-item-num\">2.5&nbsp;&nbsp;</span>График кумулятивной конверсии по группам</a></span></li><li><span><a data-toc-modified-id=\"График-относительного-изменения-кумулятивной-конверсии-2.6\"><span class=\"toc-item-num\">2.6&nbsp;&nbsp;</span>График относительного изменения кумулятивной конверсии</a></span></li><li><span><a data-toc-modified-id=\"Точечный-график-количества-заказов-по-пользователям-2.7\"><span class=\"toc-item-num\">2.7&nbsp;&nbsp;</span>Точечный график количества заказов по пользователям</a></span></li><li><span><a data-toc-modified-id=\"Расчёт-95-й-и-99-й-перцентили-количества-заказов-на-пользователя-2.8\"><span class=\"toc-item-num\">2.8&nbsp;&nbsp;</span>Расчёт 95-й и 99-й перцентили количества заказов на пользователя</a></span></li><li><span><a data-toc-modified-id=\"Точечный-график-стоимостей-заказов-2.9\"><span class=\"toc-item-num\">2.9&nbsp;&nbsp;</span>Точечный график стоимостей заказов</a></span></li><li><span><a data-toc-modified-id=\"Расчёт-95-й-и-99-й-перцентили-стоимости-заказов.-2.10\"><span class=\"toc-item-num\">2.10&nbsp;&nbsp;</span>Расчёт 95-й и 99-й перцентили стоимости заказов.</a></span></li><li><span><a data-toc-modified-id=\"Расчёт-статистической-значимости-различий-2.11\"><span class=\"toc-item-num\">2.11&nbsp;&nbsp;</span>Расчёт статистической значимости различий</a></span><ul class=\"toc-item\"><li><span><a data-toc-modified-id=\"Подготовка-данных-2.11.1\"><span class=\"toc-item-num\">2.11.1&nbsp;&nbsp;</span>Подготовка данных</a></span></li><li><span><a data-toc-modified-id=\"Расчёт-статистической-значимости-различий-в-конверсии-между-группами-по-«сырым»-данным.-2.11.2\"><span class=\"toc-item-num\">2.11.2&nbsp;&nbsp;</span>Расчёт статистической значимости различий в конверсии между группами по «сырым» данным.</a></span></li><li><span><a data-toc-modified-id=\"Расчёт-статистической-значимости-различий-в-среднем-чеке-заказа-между-группами-по-«сырым»-данным.-2.11.3\"><span class=\"toc-item-num\">2.11.3&nbsp;&nbsp;</span>Расчёт статистической значимости различий в среднем чеке заказа между группами по «сырым» данным.</a></span></li><li><span><a data-toc-modified-id=\"Определение-аномальных-пользователей-и-заказов-2.11.4\"><span class=\"toc-item-num\">2.11.4&nbsp;&nbsp;</span>Определение аномальных пользователей и заказов</a></span></li><li><span><a data-toc-modified-id=\"Расчёт-статистической-значимости-различий-в-конверсии-между-группами-по-«очищенным»-данным.-2.11.5\"><span class=\"toc-item-num\">2.11.5&nbsp;&nbsp;</span>Расчёт статистической значимости различий в конверсии между группами по «очищенным» данным.</a></span></li><li><span><a data-toc-modified-id=\"Расчёт-статистической-значимости-различий-в-среднем-чеке-заказа-между-группами-по-«очищенным»-данным.-2.11.6\"><span class=\"toc-item-num\">2.11.6&nbsp;&nbsp;</span>Расчёт статистической значимости различий в среднем чеке заказа между группами по «очищенным» данным.</a></span></li></ul></li><li><span><a data-toc-modified-id=\"Выводы-2.12\"><span class=\"toc-item-num\">2.12&nbsp;&nbsp;</span>Выводы</a></span></li></ul></li><li><span><a data-toc-modified-id=\"Выводы-3\"><span class=\"toc-item-num\">3&nbsp;&nbsp;</span>Выводы</a></span></li><li><span><a data-toc-modified-id=\"Решение-по-результатам-тестирования-4\"><span class=\"toc-item-num\">4&nbsp;&nbsp;</span>Решение по результатам тестирования</a></span></li></ul></div>"
   ]
  },
  {
   "cell_type": "markdown",
   "metadata": {},
   "source": [
    "# Проверка гипотез и А/В тесты для увеличения прибыли интернет магазина"
   ]
  },
  {
   "cell_type": "markdown",
   "metadata": {},
   "source": [
    "Отдел маркетинга крупного интернет магазина подготовил список гипотез для увеличения выручки.\n",
    "Необходимо приоритизировать гипотезы, а также запустить A/B-тест и проанализировать его результаты."
   ]
  },
  {
   "cell_type": "code",
   "execution_count": 1,
   "metadata": {},
   "outputs": [],
   "source": [
    "#Загружаем библиотеки\n",
    "import pandas as pd\n",
    "import matplotlib.pyplot as plt\n",
    "import datetime as dt\n",
    "import numpy as np\n",
    "import scipy.stats as stats"
   ]
  },
  {
   "cell_type": "code",
   "execution_count": 2,
   "metadata": {},
   "outputs": [],
   "source": [
    "# Сброс ограничений на количество выводимых рядов\n",
    "pd.set_option('display.max_rows', None)\n",
    " \n",
    "# Сброс ограничений на число столбцов\n",
    "pd.set_option('display.max_columns', None)\n",
    " \n",
    "# Сброс ограничений на количество символов в записи\n",
    "pd.set_option('display.max_colwidth', 200)"
   ]
  },
  {
   "cell_type": "markdown",
   "metadata": {},
   "source": [
    "## Приоритизация гипотез"
   ]
  },
  {
   "cell_type": "code",
   "execution_count": 3,
   "metadata": {
    "scrolled": true
   },
   "outputs": [
    {
     "data": {
      "text/html": [
       "<div>\n",
       "<style scoped>\n",
       "    .dataframe tbody tr th:only-of-type {\n",
       "        vertical-align: middle;\n",
       "    }\n",
       "\n",
       "    .dataframe tbody tr th {\n",
       "        vertical-align: top;\n",
       "    }\n",
       "\n",
       "    .dataframe thead th {\n",
       "        text-align: right;\n",
       "    }\n",
       "</style>\n",
       "<table border=\"1\" class=\"dataframe\">\n",
       "  <thead>\n",
       "    <tr style=\"text-align: right;\">\n",
       "      <th></th>\n",
       "      <th>Hypothesis</th>\n",
       "      <th>Reach</th>\n",
       "      <th>Impact</th>\n",
       "      <th>Confidence</th>\n",
       "      <th>Efforts</th>\n",
       "    </tr>\n",
       "  </thead>\n",
       "  <tbody>\n",
       "    <tr>\n",
       "      <td>0</td>\n",
       "      <td>Добавить два новых канала привлечения трафика, что позволит привлекать на 30% больше пользователей</td>\n",
       "      <td>3</td>\n",
       "      <td>10</td>\n",
       "      <td>8</td>\n",
       "      <td>6</td>\n",
       "    </tr>\n",
       "    <tr>\n",
       "      <td>1</td>\n",
       "      <td>Запустить собственную службу доставки, что сократит срок доставки заказов</td>\n",
       "      <td>2</td>\n",
       "      <td>5</td>\n",
       "      <td>4</td>\n",
       "      <td>10</td>\n",
       "    </tr>\n",
       "    <tr>\n",
       "      <td>2</td>\n",
       "      <td>Добавить блоки рекомендаций товаров на сайт интернет магазина, чтобы повысить конверсию и средний чек заказа</td>\n",
       "      <td>8</td>\n",
       "      <td>3</td>\n",
       "      <td>7</td>\n",
       "      <td>3</td>\n",
       "    </tr>\n",
       "    <tr>\n",
       "      <td>3</td>\n",
       "      <td>Изменить структура категорий, что увеличит конверсию, т.к. пользователи быстрее найдут нужный товар</td>\n",
       "      <td>8</td>\n",
       "      <td>3</td>\n",
       "      <td>3</td>\n",
       "      <td>8</td>\n",
       "    </tr>\n",
       "    <tr>\n",
       "      <td>4</td>\n",
       "      <td>Изменить цвет фона главной страницы, чтобы увеличить вовлеченность пользователей</td>\n",
       "      <td>3</td>\n",
       "      <td>1</td>\n",
       "      <td>1</td>\n",
       "      <td>1</td>\n",
       "    </tr>\n",
       "    <tr>\n",
       "      <td>5</td>\n",
       "      <td>Добавить страницу отзывов клиентов о магазине, что позволит увеличить количество заказов</td>\n",
       "      <td>3</td>\n",
       "      <td>2</td>\n",
       "      <td>2</td>\n",
       "      <td>3</td>\n",
       "    </tr>\n",
       "    <tr>\n",
       "      <td>6</td>\n",
       "      <td>Показать на главной странице баннеры с актуальными акциями и распродажами, чтобы увеличить конверсию</td>\n",
       "      <td>5</td>\n",
       "      <td>3</td>\n",
       "      <td>8</td>\n",
       "      <td>3</td>\n",
       "    </tr>\n",
       "    <tr>\n",
       "      <td>7</td>\n",
       "      <td>Добавить форму подписки на все основные страницы, чтобы собрать базу клиентов для email-рассылок</td>\n",
       "      <td>10</td>\n",
       "      <td>7</td>\n",
       "      <td>8</td>\n",
       "      <td>5</td>\n",
       "    </tr>\n",
       "    <tr>\n",
       "      <td>8</td>\n",
       "      <td>Запустить акцию, дающую скидку на товар в день рождения</td>\n",
       "      <td>1</td>\n",
       "      <td>9</td>\n",
       "      <td>9</td>\n",
       "      <td>5</td>\n",
       "    </tr>\n",
       "  </tbody>\n",
       "</table>\n",
       "</div>"
      ],
      "text/plain": [
       "                                                                                                     Hypothesis  \\\n",
       "0            Добавить два новых канала привлечения трафика, что позволит привлекать на 30% больше пользователей   \n",
       "1                                     Запустить собственную службу доставки, что сократит срок доставки заказов   \n",
       "2  Добавить блоки рекомендаций товаров на сайт интернет магазина, чтобы повысить конверсию и средний чек заказа   \n",
       "3           Изменить структура категорий, что увеличит конверсию, т.к. пользователи быстрее найдут нужный товар   \n",
       "4                              Изменить цвет фона главной страницы, чтобы увеличить вовлеченность пользователей   \n",
       "5                      Добавить страницу отзывов клиентов о магазине, что позволит увеличить количество заказов   \n",
       "6          Показать на главной странице баннеры с актуальными акциями и распродажами, чтобы увеличить конверсию   \n",
       "7              Добавить форму подписки на все основные страницы, чтобы собрать базу клиентов для email-рассылок   \n",
       "8                                                       Запустить акцию, дающую скидку на товар в день рождения   \n",
       "\n",
       "   Reach  Impact  Confidence  Efforts  \n",
       "0      3      10           8        6  \n",
       "1      2       5           4       10  \n",
       "2      8       3           7        3  \n",
       "3      8       3           3        8  \n",
       "4      3       1           1        1  \n",
       "5      3       2           2        3  \n",
       "6      5       3           8        3  \n",
       "7     10       7           8        5  \n",
       "8      1       9           9        5  "
      ]
     },
     "execution_count": 3,
     "metadata": {},
     "output_type": "execute_result"
    }
   ],
   "source": [
    "# Загружаем датасет\n",
    "data = pd.read_csv('/datasets/hypothesis.csv')\n",
    "data"
   ]
  },
  {
   "cell_type": "markdown",
   "metadata": {},
   "source": [
    "Датафрейм не содержит пропусков. Названия столбцов написаны латиницей, не имеют пробелы в названиии, содержат заглавные буквы которые лучше перевести в строчные."
   ]
  },
  {
   "cell_type": "code",
   "execution_count": 4,
   "metadata": {},
   "outputs": [
    {
     "data": {
      "text/plain": [
       "Index(['hypothesis', 'reach', 'impact', 'confidence', 'efforts'], dtype='object')"
      ]
     },
     "execution_count": 4,
     "metadata": {},
     "output_type": "execute_result"
    }
   ],
   "source": [
    "data.columns = data.columns.map(lambda x: x.lower())\n",
    "data.columns"
   ]
  },
  {
   "cell_type": "markdown",
   "metadata": {},
   "source": [
    "### Применение фреймворка ICE для приоритизации гипотез"
   ]
  },
  {
   "cell_type": "code",
   "execution_count": 5,
   "metadata": {
    "scrolled": true
   },
   "outputs": [
    {
     "data": {
      "text/html": [
       "<div>\n",
       "<style scoped>\n",
       "    .dataframe tbody tr th:only-of-type {\n",
       "        vertical-align: middle;\n",
       "    }\n",
       "\n",
       "    .dataframe tbody tr th {\n",
       "        vertical-align: top;\n",
       "    }\n",
       "\n",
       "    .dataframe thead th {\n",
       "        text-align: right;\n",
       "    }\n",
       "</style>\n",
       "<table border=\"1\" class=\"dataframe\">\n",
       "  <thead>\n",
       "    <tr style=\"text-align: right;\">\n",
       "      <th></th>\n",
       "      <th>hypothesis</th>\n",
       "      <th>ice</th>\n",
       "    </tr>\n",
       "  </thead>\n",
       "  <tbody>\n",
       "    <tr>\n",
       "      <td>8</td>\n",
       "      <td>Запустить акцию, дающую скидку на товар в день рождения</td>\n",
       "      <td>16.200000</td>\n",
       "    </tr>\n",
       "    <tr>\n",
       "      <td>0</td>\n",
       "      <td>Добавить два новых канала привлечения трафика, что позволит привлекать на 30% больше пользователей</td>\n",
       "      <td>13.333333</td>\n",
       "    </tr>\n",
       "    <tr>\n",
       "      <td>7</td>\n",
       "      <td>Добавить форму подписки на все основные страницы, чтобы собрать базу клиентов для email-рассылок</td>\n",
       "      <td>11.200000</td>\n",
       "    </tr>\n",
       "    <tr>\n",
       "      <td>6</td>\n",
       "      <td>Показать на главной странице баннеры с актуальными акциями и распродажами, чтобы увеличить конверсию</td>\n",
       "      <td>8.000000</td>\n",
       "    </tr>\n",
       "    <tr>\n",
       "      <td>2</td>\n",
       "      <td>Добавить блоки рекомендаций товаров на сайт интернет магазина, чтобы повысить конверсию и средний чек заказа</td>\n",
       "      <td>7.000000</td>\n",
       "    </tr>\n",
       "    <tr>\n",
       "      <td>1</td>\n",
       "      <td>Запустить собственную службу доставки, что сократит срок доставки заказов</td>\n",
       "      <td>2.000000</td>\n",
       "    </tr>\n",
       "    <tr>\n",
       "      <td>5</td>\n",
       "      <td>Добавить страницу отзывов клиентов о магазине, что позволит увеличить количество заказов</td>\n",
       "      <td>1.333333</td>\n",
       "    </tr>\n",
       "    <tr>\n",
       "      <td>3</td>\n",
       "      <td>Изменить структура категорий, что увеличит конверсию, т.к. пользователи быстрее найдут нужный товар</td>\n",
       "      <td>1.125000</td>\n",
       "    </tr>\n",
       "    <tr>\n",
       "      <td>4</td>\n",
       "      <td>Изменить цвет фона главной страницы, чтобы увеличить вовлеченность пользователей</td>\n",
       "      <td>1.000000</td>\n",
       "    </tr>\n",
       "  </tbody>\n",
       "</table>\n",
       "</div>"
      ],
      "text/plain": [
       "                                                                                                     hypothesis  \\\n",
       "8                                                       Запустить акцию, дающую скидку на товар в день рождения   \n",
       "0            Добавить два новых канала привлечения трафика, что позволит привлекать на 30% больше пользователей   \n",
       "7              Добавить форму подписки на все основные страницы, чтобы собрать базу клиентов для email-рассылок   \n",
       "6          Показать на главной странице баннеры с актуальными акциями и распродажами, чтобы увеличить конверсию   \n",
       "2  Добавить блоки рекомендаций товаров на сайт интернет магазина, чтобы повысить конверсию и средний чек заказа   \n",
       "1                                     Запустить собственную службу доставки, что сократит срок доставки заказов   \n",
       "5                      Добавить страницу отзывов клиентов о магазине, что позволит увеличить количество заказов   \n",
       "3           Изменить структура категорий, что увеличит конверсию, т.к. пользователи быстрее найдут нужный товар   \n",
       "4                              Изменить цвет фона главной страницы, чтобы увеличить вовлеченность пользователей   \n",
       "\n",
       "         ice  \n",
       "8  16.200000  \n",
       "0  13.333333  \n",
       "7  11.200000  \n",
       "6   8.000000  \n",
       "2   7.000000  \n",
       "1   2.000000  \n",
       "5   1.333333  \n",
       "3   1.125000  \n",
       "4   1.000000  "
      ]
     },
     "execution_count": 5,
     "metadata": {},
     "output_type": "execute_result"
    }
   ],
   "source": [
    "# Добавляем столбец с расчетом приоритетов по методике ICE\n",
    "data['ice'] = data['impact'] * data['confidence'] / data['efforts']\n",
    "\n",
    "#Выводим отсортированные по убыванию гипотезы\n",
    "data[['hypothesis', 'ice']].sort_values(by='ice', ascending=False)"
   ]
  },
  {
   "cell_type": "code",
   "execution_count": 6,
   "metadata": {
    "scrolled": true
   },
   "outputs": [
    {
     "data": {
      "text/plain": [
       "<matplotlib.axes._subplots.AxesSubplot at 0x7f7ede389ed0>"
      ]
     },
     "execution_count": 6,
     "metadata": {},
     "output_type": "execute_result"
    },
    {
     "data": {
      "image/png": "[encoded data removed]",
      "text/plain": [
       "<Figure size 432x288 with 1 Axes>"
      ]
     },
     "metadata": {
      "needs_background": "light"
     },
     "output_type": "display_data"
    }
   ],
   "source": [
    "data['ice'].sort_values(ascending=False).plot(kind='bar')"
   ]
  },
  {
   "cell_type": "markdown",
   "metadata": {},
   "source": [
    "В первую тройку гипотез по методике ICE входят гипотезы:\n",
    "- номер 8 - акция со скидкой в день рождения\n",
    "- номер 0 - добавление двух новых каналов трафика\n",
    "- номер 7 - довавление формы подписки для сбора базы email'ов"
   ]
  },
  {
   "cell_type": "markdown",
   "metadata": {},
   "source": [
    "### Применение фреймворка RICE для приоритизации гипотез"
   ]
  },
  {
   "cell_type": "code",
   "execution_count": 7,
   "metadata": {
    "scrolled": true
   },
   "outputs": [
    {
     "data": {
      "text/html": [
       "<div>\n",
       "<style scoped>\n",
       "    .dataframe tbody tr th:only-of-type {\n",
       "        vertical-align: middle;\n",
       "    }\n",
       "\n",
       "    .dataframe tbody tr th {\n",
       "        vertical-align: top;\n",
       "    }\n",
       "\n",
       "    .dataframe thead th {\n",
       "        text-align: right;\n",
       "    }\n",
       "</style>\n",
       "<table border=\"1\" class=\"dataframe\">\n",
       "  <thead>\n",
       "    <tr style=\"text-align: right;\">\n",
       "      <th></th>\n",
       "      <th>hypothesis</th>\n",
       "      <th>rice</th>\n",
       "    </tr>\n",
       "  </thead>\n",
       "  <tbody>\n",
       "    <tr>\n",
       "      <td>7</td>\n",
       "      <td>Добавить форму подписки на все основные страницы, чтобы собрать базу клиентов для email-рассылок</td>\n",
       "      <td>112.0</td>\n",
       "    </tr>\n",
       "    <tr>\n",
       "      <td>2</td>\n",
       "      <td>Добавить блоки рекомендаций товаров на сайт интернет магазина, чтобы повысить конверсию и средний чек заказа</td>\n",
       "      <td>56.0</td>\n",
       "    </tr>\n",
       "    <tr>\n",
       "      <td>0</td>\n",
       "      <td>Добавить два новых канала привлечения трафика, что позволит привлекать на 30% больше пользователей</td>\n",
       "      <td>40.0</td>\n",
       "    </tr>\n",
       "    <tr>\n",
       "      <td>6</td>\n",
       "      <td>Показать на главной странице баннеры с актуальными акциями и распродажами, чтобы увеличить конверсию</td>\n",
       "      <td>40.0</td>\n",
       "    </tr>\n",
       "    <tr>\n",
       "      <td>8</td>\n",
       "      <td>Запустить акцию, дающую скидку на товар в день рождения</td>\n",
       "      <td>16.2</td>\n",
       "    </tr>\n",
       "    <tr>\n",
       "      <td>3</td>\n",
       "      <td>Изменить структура категорий, что увеличит конверсию, т.к. пользователи быстрее найдут нужный товар</td>\n",
       "      <td>9.0</td>\n",
       "    </tr>\n",
       "    <tr>\n",
       "      <td>1</td>\n",
       "      <td>Запустить собственную службу доставки, что сократит срок доставки заказов</td>\n",
       "      <td>4.0</td>\n",
       "    </tr>\n",
       "    <tr>\n",
       "      <td>5</td>\n",
       "      <td>Добавить страницу отзывов клиентов о магазине, что позволит увеличить количество заказов</td>\n",
       "      <td>4.0</td>\n",
       "    </tr>\n",
       "    <tr>\n",
       "      <td>4</td>\n",
       "      <td>Изменить цвет фона главной страницы, чтобы увеличить вовлеченность пользователей</td>\n",
       "      <td>3.0</td>\n",
       "    </tr>\n",
       "  </tbody>\n",
       "</table>\n",
       "</div>"
      ],
      "text/plain": [
       "                                                                                                     hypothesis  \\\n",
       "7              Добавить форму подписки на все основные страницы, чтобы собрать базу клиентов для email-рассылок   \n",
       "2  Добавить блоки рекомендаций товаров на сайт интернет магазина, чтобы повысить конверсию и средний чек заказа   \n",
       "0            Добавить два новых канала привлечения трафика, что позволит привлекать на 30% больше пользователей   \n",
       "6          Показать на главной странице баннеры с актуальными акциями и распродажами, чтобы увеличить конверсию   \n",
       "8                                                       Запустить акцию, дающую скидку на товар в день рождения   \n",
       "3           Изменить структура категорий, что увеличит конверсию, т.к. пользователи быстрее найдут нужный товар   \n",
       "1                                     Запустить собственную службу доставки, что сократит срок доставки заказов   \n",
       "5                      Добавить страницу отзывов клиентов о магазине, что позволит увеличить количество заказов   \n",
       "4                              Изменить цвет фона главной страницы, чтобы увеличить вовлеченность пользователей   \n",
       "\n",
       "    rice  \n",
       "7  112.0  \n",
       "2   56.0  \n",
       "0   40.0  \n",
       "6   40.0  \n",
       "8   16.2  \n",
       "3    9.0  \n",
       "1    4.0  \n",
       "5    4.0  \n",
       "4    3.0  "
      ]
     },
     "execution_count": 7,
     "metadata": {},
     "output_type": "execute_result"
    }
   ],
   "source": [
    "# Добавляем столбец с расчетом приоритетов по методике RICE\n",
    "data['rice'] = data['reach'] * data['impact'] * data['confidence'] / data['efforts']\n",
    "\n",
    "data[['hypothesis', 'rice']].sort_values(by='rice', ascending=False)"
   ]
  },
  {
   "cell_type": "code",
   "execution_count": 8,
   "metadata": {
    "scrolled": true
   },
   "outputs": [
    {
     "data": {
      "text/plain": [
       "<matplotlib.axes._subplots.AxesSubplot at 0x7f7ede389e90>"
      ]
     },
     "execution_count": 8,
     "metadata": {},
     "output_type": "execute_result"
    },
    {
     "data": {
      "image/png": "[encoded data removed]",
      "text/plain": [
       "<Figure size 432x288 with 1 Axes>"
      ]
     },
     "metadata": {
      "needs_background": "light"
     },
     "output_type": "display_data"
    }
   ],
   "source": [
    "data['rice'].sort_values(ascending=False).plot(kind='bar')"
   ]
  },
  {
   "cell_type": "markdown",
   "metadata": {},
   "source": [
    "Приоретизация по методике RICE:\n",
    "- В лидеры по критерию приоритезации RICE стоит выделить гипотезу №7 - сбор email'ов для создания списка рассылки. \n",
    "- Следующая гипотеза имеет рейтинг в два раза ниже, это гипотеза №2 - добавление блока рекомендаций на каждой странице\n",
    "- На третьем месте стоят гипотезы №6 и №0 - баннеры с актальными акциями на главной странице и два новых канала привлечения соответсвенно"
   ]
  },
  {
   "cell_type": "markdown",
   "metadata": {},
   "source": [
    "### Выводы"
   ]
  },
  {
   "cell_type": "code",
   "execution_count": 9,
   "metadata": {},
   "outputs": [
    {
     "data": {
      "text/html": [
       "<div>\n",
       "<style scoped>\n",
       "    .dataframe tbody tr th:only-of-type {\n",
       "        vertical-align: middle;\n",
       "    }\n",
       "\n",
       "    .dataframe tbody tr th {\n",
       "        vertical-align: top;\n",
       "    }\n",
       "\n",
       "    .dataframe thead th {\n",
       "        text-align: right;\n",
       "    }\n",
       "</style>\n",
       "<table border=\"1\" class=\"dataframe\">\n",
       "  <thead>\n",
       "    <tr style=\"text-align: right;\">\n",
       "      <th></th>\n",
       "      <th>hypothesis</th>\n",
       "      <th>reach</th>\n",
       "      <th>impact</th>\n",
       "      <th>confidence</th>\n",
       "      <th>efforts</th>\n",
       "      <th>ice</th>\n",
       "      <th>rice</th>\n",
       "    </tr>\n",
       "  </thead>\n",
       "  <tbody>\n",
       "    <tr>\n",
       "      <td>0</td>\n",
       "      <td>Добавить два новых канала привлечения трафика, что позволит привлекать на 30% больше пользователей</td>\n",
       "      <td>3</td>\n",
       "      <td>10</td>\n",
       "      <td>8</td>\n",
       "      <td>6</td>\n",
       "      <td>13.333333</td>\n",
       "      <td>40.0</td>\n",
       "    </tr>\n",
       "    <tr>\n",
       "      <td>1</td>\n",
       "      <td>Запустить собственную службу доставки, что сократит срок доставки заказов</td>\n",
       "      <td>2</td>\n",
       "      <td>5</td>\n",
       "      <td>4</td>\n",
       "      <td>10</td>\n",
       "      <td>2.000000</td>\n",
       "      <td>4.0</td>\n",
       "    </tr>\n",
       "    <tr>\n",
       "      <td>2</td>\n",
       "      <td>Добавить блоки рекомендаций товаров на сайт интернет магазина, чтобы повысить конверсию и средний чек заказа</td>\n",
       "      <td>8</td>\n",
       "      <td>3</td>\n",
       "      <td>7</td>\n",
       "      <td>3</td>\n",
       "      <td>7.000000</td>\n",
       "      <td>56.0</td>\n",
       "    </tr>\n",
       "    <tr>\n",
       "      <td>3</td>\n",
       "      <td>Изменить структура категорий, что увеличит конверсию, т.к. пользователи быстрее найдут нужный товар</td>\n",
       "      <td>8</td>\n",
       "      <td>3</td>\n",
       "      <td>3</td>\n",
       "      <td>8</td>\n",
       "      <td>1.125000</td>\n",
       "      <td>9.0</td>\n",
       "    </tr>\n",
       "    <tr>\n",
       "      <td>4</td>\n",
       "      <td>Изменить цвет фона главной страницы, чтобы увеличить вовлеченность пользователей</td>\n",
       "      <td>3</td>\n",
       "      <td>1</td>\n",
       "      <td>1</td>\n",
       "      <td>1</td>\n",
       "      <td>1.000000</td>\n",
       "      <td>3.0</td>\n",
       "    </tr>\n",
       "    <tr>\n",
       "      <td>5</td>\n",
       "      <td>Добавить страницу отзывов клиентов о магазине, что позволит увеличить количество заказов</td>\n",
       "      <td>3</td>\n",
       "      <td>2</td>\n",
       "      <td>2</td>\n",
       "      <td>3</td>\n",
       "      <td>1.333333</td>\n",
       "      <td>4.0</td>\n",
       "    </tr>\n",
       "    <tr>\n",
       "      <td>6</td>\n",
       "      <td>Показать на главной странице баннеры с актуальными акциями и распродажами, чтобы увеличить конверсию</td>\n",
       "      <td>5</td>\n",
       "      <td>3</td>\n",
       "      <td>8</td>\n",
       "      <td>3</td>\n",
       "      <td>8.000000</td>\n",
       "      <td>40.0</td>\n",
       "    </tr>\n",
       "    <tr>\n",
       "      <td>7</td>\n",
       "      <td>Добавить форму подписки на все основные страницы, чтобы собрать базу клиентов для email-рассылок</td>\n",
       "      <td>10</td>\n",
       "      <td>7</td>\n",
       "      <td>8</td>\n",
       "      <td>5</td>\n",
       "      <td>11.200000</td>\n",
       "      <td>112.0</td>\n",
       "    </tr>\n",
       "    <tr>\n",
       "      <td>8</td>\n",
       "      <td>Запустить акцию, дающую скидку на товар в день рождения</td>\n",
       "      <td>1</td>\n",
       "      <td>9</td>\n",
       "      <td>9</td>\n",
       "      <td>5</td>\n",
       "      <td>16.200000</td>\n",
       "      <td>16.2</td>\n",
       "    </tr>\n",
       "  </tbody>\n",
       "</table>\n",
       "</div>"
      ],
      "text/plain": [
       "                                                                                                     hypothesis  \\\n",
       "0            Добавить два новых канала привлечения трафика, что позволит привлекать на 30% больше пользователей   \n",
       "1                                     Запустить собственную службу доставки, что сократит срок доставки заказов   \n",
       "2  Добавить блоки рекомендаций товаров на сайт интернет магазина, чтобы повысить конверсию и средний чек заказа   \n",
       "3           Изменить структура категорий, что увеличит конверсию, т.к. пользователи быстрее найдут нужный товар   \n",
       "4                              Изменить цвет фона главной страницы, чтобы увеличить вовлеченность пользователей   \n",
       "5                      Добавить страницу отзывов клиентов о магазине, что позволит увеличить количество заказов   \n",
       "6          Показать на главной странице баннеры с актуальными акциями и распродажами, чтобы увеличить конверсию   \n",
       "7              Добавить форму подписки на все основные страницы, чтобы собрать базу клиентов для email-рассылок   \n",
       "8                                                       Запустить акцию, дающую скидку на товар в день рождения   \n",
       "\n",
       "   reach  impact  confidence  efforts        ice   rice  \n",
       "0      3      10           8        6  13.333333   40.0  \n",
       "1      2       5           4       10   2.000000    4.0  \n",
       "2      8       3           7        3   7.000000   56.0  \n",
       "3      8       3           3        8   1.125000    9.0  \n",
       "4      3       1           1        1   1.000000    3.0  \n",
       "5      3       2           2        3   1.333333    4.0  \n",
       "6      5       3           8        3   8.000000   40.0  \n",
       "7     10       7           8        5  11.200000  112.0  \n",
       "8      1       9           9        5  16.200000   16.2  "
      ]
     },
     "execution_count": 9,
     "metadata": {},
     "output_type": "execute_result"
    }
   ],
   "source": [
    "data"
   ]
  },
  {
   "cell_type": "markdown",
   "metadata": {},
   "source": [
    "Датафрейм не содержит пропусков. Названия столбцов написаны латиницей, не имеют пробелы в названиии, содержат заглавные буквы которые были переведены в строчные.\n",
    "\n",
    "В первую тройку гипотез по методике ICE входят гипотезы:\n",
    "- номер 8 - акция со скидкой в день рождения\n",
    "- номер 0 - добавление двух новых каналов трафика\n",
    "- номер 7 - довавление формы подписки для сбора базы email'ов\n",
    "\n",
    "Приоретизация по методике RICE:\n",
    "- В лидеры по критерию приоритезации RICE стоит выделить гипотезу №7 - сбор email'ов для создания списка рассылки. \n",
    "- Следующая гипотеза имеет рейтинг в два раза ниже, это гипотеза №2 - добавление блока рекомендаций на каждой странице\n",
    "- На третьем месте стоят гипотезы №6 и №0 - баннеры с актальными акциями на главной странице и два новых канала привлечения соответсвенно\n",
    "\n",
    "Сравнение изменений приоритетов гипотез при учете параметра \"охват\" (Reach), те смене модели ICE на RICE\n",
    "- Гипотеза 8 ушла из лидеров в методике RICE потому, что имеет минимальный охват из всех представленных гипотез несмотря на высокие показатели влияния и уверенности.\n",
    "- Гипотеза 7 поднялась с третьего на первое место, т.к. имеет самый высокий показатель охвата и довольно высокие показатели влияния и уверенности, а так же средние показатели необходимых усилий.\n",
    "- Гипотеза 0 осталась в числе лидеров, не смотря на малый охват, т.к. имеет самое сильное влияние среди остальных гипотез при средних показателях уверенности и усилий\n",
    "- Гипотеза 2 вошла в топ по методике RICE тк имеет очень хорошие показатели охвата.\n",
    "\n",
    "Исходя из обеих методик в первую очередь стоит проверить гипотезу №7, а затем гипотезу №0"
   ]
  },
  {
   "cell_type": "markdown",
   "metadata": {},
   "source": [
    "## Анализ A/B-теста"
   ]
  },
  {
   "cell_type": "code",
   "execution_count": 10,
   "metadata": {
    "scrolled": true
   },
   "outputs": [
    {
     "name": "stdout",
     "output_type": "stream",
     "text": [
      "<class 'pandas.core.frame.DataFrame'>\n",
      "RangeIndex: 1197 entries, 0 to 1196\n",
      "Data columns (total 5 columns):\n",
      "transactionId    1197 non-null int64\n",
      "visitorId        1197 non-null int64\n",
      "date             1197 non-null object\n",
      "revenue          1197 non-null int64\n",
      "group            1197 non-null object\n",
      "dtypes: int64(3), object(2)\n",
      "memory usage: 46.9+ KB\n"
     ]
    }
   ],
   "source": [
    "#Чтение датасетов\n",
    "orders = pd.read_csv('/datasets/orders.csv')\n",
    "orders.info()"
   ]
  },
  {
   "cell_type": "code",
   "execution_count": 11,
   "metadata": {},
   "outputs": [],
   "source": [
    "#Приводим поле с датой к типу datetime и обрезаем время\n",
    "orders['date'] = orders['date'].map(lambda x: dt.datetime.strptime(x, '%Y-%m-%d'))"
   ]
  },
  {
   "cell_type": "code",
   "execution_count": 12,
   "metadata": {
    "scrolled": true
   },
   "outputs": [
    {
     "data": {
      "text/html": [
       "<div>\n",
       "<style scoped>\n",
       "    .dataframe tbody tr th:only-of-type {\n",
       "        vertical-align: middle;\n",
       "    }\n",
       "\n",
       "    .dataframe tbody tr th {\n",
       "        vertical-align: top;\n",
       "    }\n",
       "\n",
       "    .dataframe thead th {\n",
       "        text-align: right;\n",
       "    }\n",
       "</style>\n",
       "<table border=\"1\" class=\"dataframe\">\n",
       "  <thead>\n",
       "    <tr style=\"text-align: right;\">\n",
       "      <th></th>\n",
       "      <th>transactionId</th>\n",
       "      <th>visitorId</th>\n",
       "      <th>date</th>\n",
       "      <th>revenue</th>\n",
       "      <th>group</th>\n",
       "    </tr>\n",
       "  </thead>\n",
       "  <tbody>\n",
       "    <tr>\n",
       "      <td>0</td>\n",
       "      <td>3667963787</td>\n",
       "      <td>3312258926</td>\n",
       "      <td>2019-08-15</td>\n",
       "      <td>1650</td>\n",
       "      <td>B</td>\n",
       "    </tr>\n",
       "    <tr>\n",
       "      <td>1</td>\n",
       "      <td>2804400009</td>\n",
       "      <td>3642806036</td>\n",
       "      <td>2019-08-15</td>\n",
       "      <td>730</td>\n",
       "      <td>B</td>\n",
       "    </tr>\n",
       "    <tr>\n",
       "      <td>2</td>\n",
       "      <td>2961555356</td>\n",
       "      <td>4069496402</td>\n",
       "      <td>2019-08-15</td>\n",
       "      <td>400</td>\n",
       "      <td>A</td>\n",
       "    </tr>\n",
       "    <tr>\n",
       "      <td>3</td>\n",
       "      <td>3797467345</td>\n",
       "      <td>1196621759</td>\n",
       "      <td>2019-08-15</td>\n",
       "      <td>9759</td>\n",
       "      <td>B</td>\n",
       "    </tr>\n",
       "    <tr>\n",
       "      <td>4</td>\n",
       "      <td>2282983706</td>\n",
       "      <td>2322279887</td>\n",
       "      <td>2019-08-15</td>\n",
       "      <td>2308</td>\n",
       "      <td>B</td>\n",
       "    </tr>\n",
       "  </tbody>\n",
       "</table>\n",
       "</div>"
      ],
      "text/plain": [
       "   transactionId   visitorId       date  revenue group\n",
       "0     3667963787  3312258926 2019-08-15     1650     B\n",
       "1     2804400009  3642806036 2019-08-15      730     B\n",
       "2     2961555356  4069496402 2019-08-15      400     A\n",
       "3     3797467345  1196621759 2019-08-15     9759     B\n",
       "4     2282983706  2322279887 2019-08-15     2308     B"
      ]
     },
     "execution_count": 12,
     "metadata": {},
     "output_type": "execute_result"
    }
   ],
   "source": [
    "orders.head()"
   ]
  },
  {
   "cell_type": "markdown",
   "metadata": {},
   "source": [
    "Тоже самое для данных о посещениях"
   ]
  },
  {
   "cell_type": "code",
   "execution_count": 13,
   "metadata": {
    "scrolled": true
   },
   "outputs": [
    {
     "name": "stdout",
     "output_type": "stream",
     "text": [
      "<class 'pandas.core.frame.DataFrame'>\n",
      "RangeIndex: 62 entries, 0 to 61\n",
      "Data columns (total 3 columns):\n",
      "date        62 non-null object\n",
      "group       62 non-null object\n",
      "visitors    62 non-null int64\n",
      "dtypes: int64(1), object(2)\n",
      "memory usage: 1.6+ KB\n"
     ]
    }
   ],
   "source": [
    "visitors = pd.read_csv('/datasets/visitors.csv')\n",
    "visitors.info()"
   ]
  },
  {
   "cell_type": "code",
   "execution_count": 14,
   "metadata": {},
   "outputs": [],
   "source": [
    "visitors['date'] = visitors['date'].map(lambda x: dt.datetime.strptime(x, '%Y-%m-%d'))"
   ]
  },
  {
   "cell_type": "code",
   "execution_count": 15,
   "metadata": {
    "scrolled": true
   },
   "outputs": [
    {
     "data": {
      "text/html": [
       "<div>\n",
       "<style scoped>\n",
       "    .dataframe tbody tr th:only-of-type {\n",
       "        vertical-align: middle;\n",
       "    }\n",
       "\n",
       "    .dataframe tbody tr th {\n",
       "        vertical-align: top;\n",
       "    }\n",
       "\n",
       "    .dataframe thead th {\n",
       "        text-align: right;\n",
       "    }\n",
       "</style>\n",
       "<table border=\"1\" class=\"dataframe\">\n",
       "  <thead>\n",
       "    <tr style=\"text-align: right;\">\n",
       "      <th></th>\n",
       "      <th>date</th>\n",
       "      <th>group</th>\n",
       "      <th>visitors</th>\n",
       "    </tr>\n",
       "  </thead>\n",
       "  <tbody>\n",
       "    <tr>\n",
       "      <td>0</td>\n",
       "      <td>2019-08-01</td>\n",
       "      <td>A</td>\n",
       "      <td>719</td>\n",
       "    </tr>\n",
       "    <tr>\n",
       "      <td>1</td>\n",
       "      <td>2019-08-02</td>\n",
       "      <td>A</td>\n",
       "      <td>619</td>\n",
       "    </tr>\n",
       "    <tr>\n",
       "      <td>2</td>\n",
       "      <td>2019-08-03</td>\n",
       "      <td>A</td>\n",
       "      <td>507</td>\n",
       "    </tr>\n",
       "    <tr>\n",
       "      <td>3</td>\n",
       "      <td>2019-08-04</td>\n",
       "      <td>A</td>\n",
       "      <td>717</td>\n",
       "    </tr>\n",
       "    <tr>\n",
       "      <td>4</td>\n",
       "      <td>2019-08-05</td>\n",
       "      <td>A</td>\n",
       "      <td>756</td>\n",
       "    </tr>\n",
       "  </tbody>\n",
       "</table>\n",
       "</div>"
      ],
      "text/plain": [
       "        date group  visitors\n",
       "0 2019-08-01     A       719\n",
       "1 2019-08-02     A       619\n",
       "2 2019-08-03     A       507\n",
       "3 2019-08-04     A       717\n",
       "4 2019-08-05     A       756"
      ]
     },
     "execution_count": 15,
     "metadata": {},
     "output_type": "execute_result"
    }
   ],
   "source": [
    "visitors.head()"
   ]
  },
  {
   "cell_type": "code",
   "execution_count": 16,
   "metadata": {
    "scrolled": true
   },
   "outputs": [
    {
     "name": "stdout",
     "output_type": "stream",
     "text": [
      "Количество дубликатов в датасете \"orders\" 0\n",
      "Количество дубликатов в датасете \"visitors\" 0\n"
     ]
    }
   ],
   "source": [
    "print('Количество дубликатов в датасете \"orders\"', orders.duplicated().sum())\n",
    "print('Количество дубликатов в датасете \"visitors\"', visitors.duplicated().sum())"
   ]
  },
  {
   "cell_type": "markdown",
   "metadata": {},
   "source": [
    "### Кумулятивные данные"
   ]
  },
  {
   "cell_type": "code",
   "execution_count": 17,
   "metadata": {
    "scrolled": true
   },
   "outputs": [
    {
     "data": {
      "text/html": [
       "<div>\n",
       "<style scoped>\n",
       "    .dataframe tbody tr th:only-of-type {\n",
       "        vertical-align: middle;\n",
       "    }\n",
       "\n",
       "    .dataframe tbody tr th {\n",
       "        vertical-align: top;\n",
       "    }\n",
       "\n",
       "    .dataframe thead th {\n",
       "        text-align: right;\n",
       "    }\n",
       "</style>\n",
       "<table border=\"1\" class=\"dataframe\">\n",
       "  <thead>\n",
       "    <tr style=\"text-align: right;\">\n",
       "      <th></th>\n",
       "      <th>date</th>\n",
       "      <th>group</th>\n",
       "      <th>orders</th>\n",
       "      <th>buyers</th>\n",
       "      <th>revenue</th>\n",
       "      <th>visitors</th>\n",
       "    </tr>\n",
       "  </thead>\n",
       "  <tbody>\n",
       "    <tr>\n",
       "      <td>0</td>\n",
       "      <td>2019-08-01</td>\n",
       "      <td>A</td>\n",
       "      <td>24</td>\n",
       "      <td>20</td>\n",
       "      <td>148579</td>\n",
       "      <td>719</td>\n",
       "    </tr>\n",
       "    <tr>\n",
       "      <td>1</td>\n",
       "      <td>2019-08-01</td>\n",
       "      <td>B</td>\n",
       "      <td>21</td>\n",
       "      <td>20</td>\n",
       "      <td>101217</td>\n",
       "      <td>713</td>\n",
       "    </tr>\n",
       "    <tr>\n",
       "      <td>2</td>\n",
       "      <td>2019-08-02</td>\n",
       "      <td>A</td>\n",
       "      <td>44</td>\n",
       "      <td>38</td>\n",
       "      <td>242401</td>\n",
       "      <td>1338</td>\n",
       "    </tr>\n",
       "    <tr>\n",
       "      <td>3</td>\n",
       "      <td>2019-08-02</td>\n",
       "      <td>B</td>\n",
       "      <td>45</td>\n",
       "      <td>43</td>\n",
       "      <td>266748</td>\n",
       "      <td>1294</td>\n",
       "    </tr>\n",
       "    <tr>\n",
       "      <td>4</td>\n",
       "      <td>2019-08-03</td>\n",
       "      <td>A</td>\n",
       "      <td>68</td>\n",
       "      <td>62</td>\n",
       "      <td>354874</td>\n",
       "      <td>1845</td>\n",
       "    </tr>\n",
       "  </tbody>\n",
       "</table>\n",
       "</div>"
      ],
      "text/plain": [
       "        date group  orders  buyers  revenue  visitors\n",
       "0 2019-08-01     A      24      20   148579       719\n",
       "1 2019-08-01     B      21      20   101217       713\n",
       "2 2019-08-02     A      44      38   242401      1338\n",
       "3 2019-08-02     B      45      43   266748      1294\n",
       "4 2019-08-03     A      68      62   354874      1845"
      ]
     },
     "execution_count": 17,
     "metadata": {},
     "output_type": "execute_result"
    }
   ],
   "source": [
    "# создаем массив уникальных пар значений дат и групп теста\n",
    "datesGroups = orders[['date','group']].drop_duplicates()\n",
    "\n",
    "# получаем агрегированные кумулятивные по дням данные о заказах \n",
    "ordersAggregated = datesGroups.apply(lambda x: orders[np.logical_and(orders['date'] <= x['date'], orders['group'] == x['group'])].agg({'date' : 'max', 'group' : 'max', 'transactionId' : 'nunique', 'visitorId' : 'nunique', 'revenue' : 'sum'}), axis=1).sort_values(by=['date','group'])\n",
    "\n",
    "# получаем агрегированные кумулятивные по дням данные о посетителях интернет-магазина \n",
    "visitorsAggregated = datesGroups.apply(lambda x: visitors[np.logical_and(visitors['date'] <= x['date'], visitors['group'] == x['group'])].agg({'date' : 'max', 'group' : 'max', 'visitors' : 'sum'}), axis=1).sort_values(by=['date','group'])\n",
    "\n",
    "# объединяем кумулятивные данные в одной таблице и присваиваем ее столбцам понятные названия\n",
    "cumulativeData = ordersAggregated.merge(visitorsAggregated, left_on=['date', 'group'], right_on=['date', 'group'])\n",
    "cumulativeData.columns = ['date', 'group', 'orders', 'buyers', 'revenue', 'visitors']\n",
    "\n",
    "cumulativeData.head(5)"
   ]
  },
  {
   "cell_type": "markdown",
   "metadata": {},
   "source": [
    "### График кумулятивной выручки по группам"
   ]
  },
  {
   "cell_type": "code",
   "execution_count": 18,
   "metadata": {
    "scrolled": false
   },
   "outputs": [
    {
     "data": {
      "image/png": "[encoded data removed]",
      "text/plain": [
       "<Figure size 720x360 with 1 Axes>"
      ]
     },
     "metadata": {
      "needs_background": "light"
     },
     "output_type": "display_data"
    }
   ],
   "source": [
    "# датафрейм с кумулятивным количеством заказов и кумулятивной выручкой по дням в группе А\n",
    "cumulativeRevenueA = cumulativeData[cumulativeData['group']=='A'][['date','revenue', 'orders']]\n",
    "\n",
    "# датафрейм с кумулятивным количеством заказов и кумулятивной выручкой по дням в группе B\n",
    "cumulativeRevenueB = cumulativeData[cumulativeData['group']=='B'][['date','revenue', 'orders']]\n",
    "\n",
    "plt.figure(figsize=(10, 5))\n",
    "\n",
    "# Строим график выручки группы А\n",
    "plt.plot(cumulativeRevenueA['date'], cumulativeRevenueA['revenue'], label='A')\n",
    "\n",
    "# Строим график выручки группы B\n",
    "plt.plot(cumulativeRevenueB['date'], cumulativeRevenueB['revenue'], label='B')\n",
    "\n",
    "plt.legend() \n",
    "\n",
    "plt.title('График кумулятивной выручки по группам')\n",
    "\n",
    "plt.show()"
   ]
  },
  {
   "cell_type": "markdown",
   "metadata": {},
   "source": [
    "График кумулятивной выручки растёт в обеих группах на протяжении всего эксперимента. 19 августа 2019 года размер выручки в группе В значительно вырастает, т.к. далее рост идет с такой же скоростью как и в остальные дни, то скорее всего это выброс по количеству заказаов и/или по сумме заказов."
   ]
  },
  {
   "cell_type": "markdown",
   "metadata": {},
   "source": [
    "### График среднего чека по группам"
   ]
  },
  {
   "cell_type": "code",
   "execution_count": 19,
   "metadata": {
    "scrolled": true
   },
   "outputs": [
    {
     "data": {
      "image/png": "[encoded data removed]",
      "text/plain": [
       "<Figure size 720x360 with 1 Axes>"
      ]
     },
     "metadata": {
      "needs_background": "light"
     },
     "output_type": "display_data"
    }
   ],
   "source": [
    "plt.figure(figsize=(10, 5))\n",
    "\n",
    "plt.plot(cumulativeRevenueA['date'], cumulativeRevenueA['revenue']/cumulativeRevenueA['orders'], label='A')\n",
    "plt.plot(cumulativeRevenueB['date'], cumulativeRevenueB['revenue']/cumulativeRevenueB['orders'], label='B')\n",
    "\n",
    "plt.legend() \n",
    "\n",
    "plt.title('График среднего чека по группам')\n",
    "\n",
    "plt.show()"
   ]
  },
  {
   "cell_type": "markdown",
   "metadata": {},
   "source": [
    "- Средний чек расчитанный на кумулятивных данных в группе В постепенно растёт от начала эксперимента до 18 августа, затем идет резкий скачёк и дальнейшее постепенное снижение среднего чека, что свидетельствует о наличии выброса в виде большого заказа в указанную дату.\n",
    "\n",
    "- Средний чек расчитанный на кумулятивных данных в группе А имеет резкий провал в районе 6-го августа, но начиная с 13 августа и до конца эксперимента стабилизируется около 7000."
   ]
  },
  {
   "cell_type": "markdown",
   "metadata": {},
   "source": [
    "### График относительного изменения кумулятивного среднего чека"
   ]
  },
  {
   "cell_type": "code",
   "execution_count": 20,
   "metadata": {
    "scrolled": true
   },
   "outputs": [
    {
     "data": {
      "image/png": "[encoded data removed]",
      "text/plain": [
       "<Figure size 720x360 with 1 Axes>"
      ]
     },
     "metadata": {
      "needs_background": "light"
     },
     "output_type": "display_data"
    }
   ],
   "source": [
    "#Устанавливаем размер фигуры \n",
    "plt.figure(figsize=(10, 5))\n",
    "\n",
    "# собираем данные в одном датафрейме\n",
    "mergedCumulativeRevenue = cumulativeRevenueA.merge(cumulativeRevenueB, left_on='date', right_on='date', how='left', suffixes=['A', 'B'])\n",
    "\n",
    "# cтроим отношение средних чеков\n",
    "plt.plot(mergedCumulativeRevenue['date'], (mergedCumulativeRevenue['revenueB']/mergedCumulativeRevenue['ordersB'])/(mergedCumulativeRevenue['revenueA']/mergedCumulativeRevenue['ordersA'])-1)\n",
    "\n",
    "# добавляем ось X\n",
    "plt.axhline(y=0, color='black', linestyle='--') \n",
    "\n",
    "plt.title('График относительного изменения кумулятивного среднего чека')\n",
    "\n",
    "plt.show()"
   ]
  },
  {
   "cell_type": "markdown",
   "metadata": {},
   "source": [
    "График изменения среднего чека группы В относительено группы А резко скачет в нескольких местах. На графике ярко видны провал группы А в районе 6го августа, пик группы А в районе 13 августа и скачёк группы В в районе 18 августа, что в целом свидетельствует о наличии больших заказов."
   ]
  },
  {
   "cell_type": "markdown",
   "metadata": {},
   "source": [
    "### График кумулятивной конверсии по группам"
   ]
  },
  {
   "cell_type": "code",
   "execution_count": 21,
   "metadata": {},
   "outputs": [],
   "source": [
    "# считаем кумулятивную конверсию\n",
    "cumulativeData['conversion'] = cumulativeData['orders']/cumulativeData['visitors']\n",
    "\n",
    "# отделяем данные по группе A\n",
    "cumulativeDataA = cumulativeData[cumulativeData['group']=='A']\n",
    "\n",
    "# отделяем данные по группе B\n",
    "cumulativeDataB = cumulativeData[cumulativeData['group']=='B']"
   ]
  },
  {
   "cell_type": "code",
   "execution_count": 22,
   "metadata": {
    "scrolled": true
   },
   "outputs": [
    {
     "data": {
      "text/plain": [
       "0   2019-08-01\n",
       "Name: date, dtype: datetime64[ns]"
      ]
     },
     "metadata": {},
     "output_type": "display_data"
    },
    {
     "data": {
      "text/plain": [
       "61   2019-08-31\n",
       "Name: date, dtype: datetime64[ns]"
      ]
     },
     "execution_count": 22,
     "metadata": {},
     "output_type": "execute_result"
    }
   ],
   "source": [
    "#Узнаем минимальное и максимальное значение дат\n",
    "display(cumulativeData['date'].head(1))\n",
    "cumulativeData['date'].tail(1)"
   ]
  },
  {
   "cell_type": "code",
   "execution_count": 23,
   "metadata": {},
   "outputs": [
    {
     "name": "stdout",
     "output_type": "stream",
     "text": [
      "0.029217427214536445 0.03685636856368564\n"
     ]
    }
   ],
   "source": [
    "#Узнаем минимальное и максимальное значение конверсии\n",
    "print(cumulativeData['conversion'].min(), cumulativeData['conversion'].max())"
   ]
  },
  {
   "cell_type": "code",
   "execution_count": 24,
   "metadata": {
    "scrolled": true
   },
   "outputs": [
    {
     "data": {
      "image/png": "[encoded data removed]",
      "text/plain": [
       "<Figure size 720x360 with 1 Axes>"
      ]
     },
     "metadata": {
      "needs_background": "light"
     },
     "output_type": "display_data"
    }
   ],
   "source": [
    "# строим графики\n",
    "plt.figure(figsize=(10, 5))\n",
    "\n",
    "plt.plot(cumulativeDataA['date'], cumulativeDataA['conversion'], label='A')\n",
    "plt.plot(cumulativeDataB['date'], cumulativeDataB['conversion'], label='B')\n",
    "plt.legend()\n",
    "\n",
    "# задаем масштаб осей\n",
    "plt.axis([\"2019-08-01\", '2019-08-31', 0.025, 0.04]) \n",
    "\n",
    "plt.title('График кумулятивной конверсии по группам')\n",
    "\n",
    "plt.show()"
   ]
  },
  {
   "cell_type": "markdown",
   "metadata": {},
   "source": [
    "До 6 августа кумулятивная конверсия группы А была выше конверсии группы В, после шестого ситуация поменялась. Конверсии в обеих группа стабилизировались. Конверсия группы В имеет слабую тенденцию на снижение, конверсия группы А слабую тенденцию роста."
   ]
  },
  {
   "cell_type": "markdown",
   "metadata": {},
   "source": [
    "### График относительного изменения кумулятивной конверсии"
   ]
  },
  {
   "cell_type": "code",
   "execution_count": 25,
   "metadata": {},
   "outputs": [
    {
     "data": {
      "image/png": "[encoded data removed]",
      "text/plain": [
       "<Figure size 720x360 with 1 Axes>"
      ]
     },
     "metadata": {
      "needs_background": "light"
     },
     "output_type": "display_data"
    }
   ],
   "source": [
    "mergedCumulativeConversions = cumulativeDataA[['date','conversion']].\\\n",
    "    merge(cumulativeDataB[['date','conversion']], left_on='date', right_on='date', how='left', suffixes=['A', 'B'])\n",
    "\n",
    "plt.figure(figsize=(10, 5))\n",
    "\n",
    "plt.plot(mergedCumulativeConversions['date'], \n",
    "         mergedCumulativeConversions['conversionB']/mergedCumulativeConversions['conversionA']-1, \n",
    "         label=\"Относительный прирост конверсии группы B относительно группы A\")\n",
    "\n",
    "plt.legend()\n",
    "\n",
    "plt.axhline(y=0, color='black', linestyle='--')\n",
    "\n",
    "plt.title('График относительного изменения кумулятивной конверсии')\n",
    "\n",
    "plt.show()"
   ]
  },
  {
   "cell_type": "markdown",
   "metadata": {},
   "source": [
    "До 6 августа кумулятивная конверсия группы В была ниже конверсии группы А за исключением выброса 2 августа. Это может сказываться малое количество данных в начале наблюдения. Начиная с 6 августа конверсия группы В резко вырастает и превосходит конверсию группы А на протяжении оставшегося времени эксперимента. Пик в 0.2 приходится на 16 августа после чего происходит постепенное снижение до 0.15."
   ]
  },
  {
   "cell_type": "markdown",
   "metadata": {},
   "source": [
    "### Точечный график количества заказов по пользователям"
   ]
  },
  {
   "cell_type": "code",
   "execution_count": 26,
   "metadata": {
    "scrolled": true
   },
   "outputs": [
    {
     "data": {
      "text/html": [
       "<div>\n",
       "<style scoped>\n",
       "    .dataframe tbody tr th:only-of-type {\n",
       "        vertical-align: middle;\n",
       "    }\n",
       "\n",
       "    .dataframe tbody tr th {\n",
       "        vertical-align: top;\n",
       "    }\n",
       "\n",
       "    .dataframe thead th {\n",
       "        text-align: right;\n",
       "    }\n",
       "</style>\n",
       "<table border=\"1\" class=\"dataframe\">\n",
       "  <thead>\n",
       "    <tr style=\"text-align: right;\">\n",
       "      <th></th>\n",
       "      <th>userId</th>\n",
       "      <th>orders</th>\n",
       "    </tr>\n",
       "  </thead>\n",
       "  <tbody>\n",
       "    <tr>\n",
       "      <td>897</td>\n",
       "      <td>3717692402</td>\n",
       "      <td>5</td>\n",
       "    </tr>\n",
       "    <tr>\n",
       "      <td>487</td>\n",
       "      <td>2038680547</td>\n",
       "      <td>8</td>\n",
       "    </tr>\n",
       "    <tr>\n",
       "      <td>569</td>\n",
       "      <td>2378935119</td>\n",
       "      <td>9</td>\n",
       "    </tr>\n",
       "    <tr>\n",
       "      <td>1023</td>\n",
       "      <td>4256040402</td>\n",
       "      <td>11</td>\n",
       "    </tr>\n",
       "    <tr>\n",
       "      <td>591</td>\n",
       "      <td>2458001652</td>\n",
       "      <td>11</td>\n",
       "    </tr>\n",
       "  </tbody>\n",
       "</table>\n",
       "</div>"
      ],
      "text/plain": [
       "          userId  orders\n",
       "897   3717692402       5\n",
       "487   2038680547       8\n",
       "569   2378935119       9\n",
       "1023  4256040402      11\n",
       "591   2458001652      11"
      ]
     },
     "execution_count": 26,
     "metadata": {},
     "output_type": "execute_result"
    }
   ],
   "source": [
    "#Сгруппируем заказы по пользователям\n",
    "ordersByUsers = orders.groupby('visitorId', as_index=False).agg({'transactionId': 'nunique'})\n",
    "\n",
    "ordersByUsers.columns = ['userId', 'orders']\n",
    "\n",
    "ordersByUsers.sort_values(by='orders').tail()"
   ]
  },
  {
   "cell_type": "code",
   "execution_count": 27,
   "metadata": {
    "scrolled": true
   },
   "outputs": [
    {
     "data": {
      "image/png": "[encoded data removed]",
      "text/plain": [
       "<Figure size 432x288 with 1 Axes>"
      ]
     },
     "metadata": {
      "needs_background": "light"
     },
     "output_type": "display_data"
    }
   ],
   "source": [
    "#график количества заказов по пользователям\n",
    "x_values = pd.Series(range(0,len(ordersByUsers)))\n",
    "\n",
    "plt.scatter(x_values, ordersByUsers['orders']) \n",
    "\n",
    "plt.title('График количества заказов по пользователям')\n",
    "\n",
    "plt.show()"
   ]
  },
  {
   "cell_type": "markdown",
   "metadata": {},
   "source": [
    "Только 4 пользователя совершили более 5 заказов, основная масса пользователей совершили 1-2 заказа."
   ]
  },
  {
   "cell_type": "markdown",
   "metadata": {},
   "source": [
    "### Расчёт 95-й и 99-й перцентили количества заказов на пользователя"
   ]
  },
  {
   "cell_type": "code",
   "execution_count": 28,
   "metadata": {
    "scrolled": true
   },
   "outputs": [
    {
     "data": {
      "text/plain": [
       "array([2., 4.])"
      ]
     },
     "execution_count": 28,
     "metadata": {},
     "output_type": "execute_result"
    }
   ],
   "source": [
    "np.percentile(ordersByUsers['orders'], [95, 99])"
   ]
  },
  {
   "cell_type": "markdown",
   "metadata": {},
   "source": [
    "Не более 5% пользователей оформляло более 2 заказов и не более 1% пользователей сделали более 4 заказов. Принимая в расчёт данные с графика количества заказов по пользователям выберем в качестве границы для отсечения аномальных - пользователей сделавших более 4 заказов."
   ]
  },
  {
   "cell_type": "markdown",
   "metadata": {},
   "source": [
    "### Точечный график стоимостей заказов"
   ]
  },
  {
   "cell_type": "code",
   "execution_count": 29,
   "metadata": {
    "scrolled": false
   },
   "outputs": [
    {
     "data": {
      "image/png": "[encoded data removed]",
      "text/plain": [
       "<Figure size 432x288 with 1 Axes>"
      ]
     },
     "metadata": {
      "needs_background": "light"
     },
     "output_type": "display_data"
    }
   ],
   "source": [
    "x_values = pd.Series(range(0, len(orders['revenue'])))\n",
    "\n",
    "plt.scatter(x_values, orders['revenue']) \n",
    "\n",
    "plt.title('График стоимостей заказов')\n",
    "\n",
    "plt.show()"
   ]
  },
  {
   "cell_type": "code",
   "execution_count": 30,
   "metadata": {
    "scrolled": true
   },
   "outputs": [
    {
     "data": {
      "text/html": [
       "<div>\n",
       "<style scoped>\n",
       "    .dataframe tbody tr th:only-of-type {\n",
       "        vertical-align: middle;\n",
       "    }\n",
       "\n",
       "    .dataframe tbody tr th {\n",
       "        vertical-align: top;\n",
       "    }\n",
       "\n",
       "    .dataframe thead th {\n",
       "        text-align: right;\n",
       "    }\n",
       "</style>\n",
       "<table border=\"1\" class=\"dataframe\">\n",
       "  <thead>\n",
       "    <tr style=\"text-align: right;\">\n",
       "      <th></th>\n",
       "      <th>transactionId</th>\n",
       "      <th>visitorId</th>\n",
       "      <th>date</th>\n",
       "      <th>revenue</th>\n",
       "      <th>group</th>\n",
       "    </tr>\n",
       "  </thead>\n",
       "  <tbody>\n",
       "    <tr>\n",
       "      <td>425</td>\n",
       "      <td>590470918</td>\n",
       "      <td>1920142716</td>\n",
       "      <td>2019-08-19</td>\n",
       "      <td>1294500</td>\n",
       "      <td>B</td>\n",
       "    </tr>\n",
       "    <tr>\n",
       "      <td>1196</td>\n",
       "      <td>3936777065</td>\n",
       "      <td>2108080724</td>\n",
       "      <td>2019-08-15</td>\n",
       "      <td>202740</td>\n",
       "      <td>B</td>\n",
       "    </tr>\n",
       "  </tbody>\n",
       "</table>\n",
       "</div>"
      ],
      "text/plain": [
       "      transactionId   visitorId       date  revenue group\n",
       "425       590470918  1920142716 2019-08-19  1294500     B\n",
       "1196     3936777065  2108080724 2019-08-15   202740     B"
      ]
     },
     "execution_count": 30,
     "metadata": {},
     "output_type": "execute_result"
    }
   ],
   "source": [
    "#Выделим два аномально больших заказа\n",
    "orders.query('revenue > 150000')"
   ]
  },
  {
   "cell_type": "markdown",
   "metadata": {},
   "source": [
    "Есть два аномально больших заказа в группе В 15 и 19 августа на сумму 202 тыс и 1.3 млн. при том что сумма остальных заказов менее 150 тыс. "
   ]
  },
  {
   "cell_type": "markdown",
   "metadata": {},
   "source": [
    "### Расчёт 95-й и 99-й перцентили стоимости заказов."
   ]
  },
  {
   "cell_type": "code",
   "execution_count": 31,
   "metadata": {},
   "outputs": [
    {
     "data": {
      "text/plain": [
       "array([28000. , 58233.2])"
      ]
     },
     "execution_count": 31,
     "metadata": {},
     "output_type": "execute_result"
    }
   ],
   "source": [
    "np.percentile(orders['revenue'], [95, 99])"
   ]
  },
  {
   "cell_type": "markdown",
   "metadata": {},
   "source": [
    "Не более 5% заказов по сумме превышают 28 тысяч и не более 1% превышают по сумме 58.23 тысячи. В качестве порога отсечения заказов с аномально большой суммой выберем 59 тысяч."
   ]
  },
  {
   "cell_type": "markdown",
   "metadata": {},
   "source": [
    "### Расчёт статистической значимости различий"
   ]
  },
  {
   "cell_type": "markdown",
   "metadata": {},
   "source": [
    "#### Подготовка данных"
   ]
  },
  {
   "cell_type": "code",
   "execution_count": 32,
   "metadata": {},
   "outputs": [
    {
     "data": {
      "text/html": [
       "<div>\n",
       "<style scoped>\n",
       "    .dataframe tbody tr th:only-of-type {\n",
       "        vertical-align: middle;\n",
       "    }\n",
       "\n",
       "    .dataframe tbody tr th {\n",
       "        vertical-align: top;\n",
       "    }\n",
       "\n",
       "    .dataframe thead th {\n",
       "        text-align: right;\n",
       "    }\n",
       "</style>\n",
       "<table border=\"1\" class=\"dataframe\">\n",
       "  <thead>\n",
       "    <tr style=\"text-align: right;\">\n",
       "      <th></th>\n",
       "      <th>transactionId</th>\n",
       "      <th>visitorId</th>\n",
       "      <th>date</th>\n",
       "      <th>revenue</th>\n",
       "      <th>group</th>\n",
       "    </tr>\n",
       "  </thead>\n",
       "  <tbody>\n",
       "    <tr>\n",
       "      <td>0</td>\n",
       "      <td>3667963787</td>\n",
       "      <td>3312258926</td>\n",
       "      <td>2019-08-15</td>\n",
       "      <td>1650</td>\n",
       "      <td>B</td>\n",
       "    </tr>\n",
       "  </tbody>\n",
       "</table>\n",
       "</div>"
      ],
      "text/plain": [
       "   transactionId   visitorId       date  revenue group\n",
       "0     3667963787  3312258926 2019-08-15     1650     B"
      ]
     },
     "execution_count": 32,
     "metadata": {},
     "output_type": "execute_result"
    }
   ],
   "source": [
    "orders.head(1)"
   ]
  },
  {
   "cell_type": "code",
   "execution_count": 33,
   "metadata": {
    "scrolled": true
   },
   "outputs": [
    {
     "data": {
      "text/html": [
       "<div>\n",
       "<style scoped>\n",
       "    .dataframe tbody tr th:only-of-type {\n",
       "        vertical-align: middle;\n",
       "    }\n",
       "\n",
       "    .dataframe tbody tr th {\n",
       "        vertical-align: top;\n",
       "    }\n",
       "\n",
       "    .dataframe thead th {\n",
       "        text-align: right;\n",
       "    }\n",
       "</style>\n",
       "<table border=\"1\" class=\"dataframe\">\n",
       "  <thead>\n",
       "    <tr style=\"text-align: right;\">\n",
       "      <th></th>\n",
       "      <th>date</th>\n",
       "      <th>group</th>\n",
       "      <th>visitors</th>\n",
       "    </tr>\n",
       "  </thead>\n",
       "  <tbody>\n",
       "    <tr>\n",
       "      <td>0</td>\n",
       "      <td>2019-08-01</td>\n",
       "      <td>A</td>\n",
       "      <td>719</td>\n",
       "    </tr>\n",
       "  </tbody>\n",
       "</table>\n",
       "</div>"
      ],
      "text/plain": [
       "        date group  visitors\n",
       "0 2019-08-01     A       719"
      ]
     },
     "execution_count": 33,
     "metadata": {},
     "output_type": "execute_result"
    }
   ],
   "source": [
    "visitors.head(1)"
   ]
  },
  {
   "cell_type": "code",
   "execution_count": 34,
   "metadata": {
    "scrolled": false
   },
   "outputs": [
    {
     "name": "stdout",
     "output_type": "stream",
     "text": [
      "        date  ordersPerDateA  revenuePerDateA  ordersPerDateB  \\\n",
      "0 2019-08-01              24           148579              21   \n",
      "1 2019-08-02              20            93822              24   \n",
      "2 2019-08-03              24           112473              16   \n",
      "3 2019-08-04              16            70825              17   \n",
      "4 2019-08-05              25           124218              23   \n",
      "\n",
      "   revenuePerDateB  ordersCummulativeA  revenueCummulativeA  \\\n",
      "0           101217                  24               148579   \n",
      "1           165531                  44               242401   \n",
      "2           114248                  68               354874   \n",
      "3           108571                  84               425699   \n",
      "4            92428                 109               549917   \n",
      "\n",
      "   ordersCummulativeB  revenueCummulativeB  visitorsPerDateA  \\\n",
      "0                  21               101217               719   \n",
      "1                  45               266748               619   \n",
      "2                  61               380996               507   \n",
      "3                  78               489567               717   \n",
      "4                 101               581995               756   \n",
      "\n",
      "   visitorsPerDateB  visitorsCummulativeA  visitorsCummulativeB  \n",
      "0               713                   719                   713  \n",
      "1               581                  1338                  1294  \n",
      "2               509                  1845                  1803  \n",
      "3               770                  2562                  2573  \n",
      "4               707                  3318                  3280  \n"
     ]
    }
   ],
   "source": [
    "#Выделяем количиство пользователей по дням в группе А\n",
    "visitorsADaily = visitors[visitors['group'] == 'A'][['date', 'visitors']]\n",
    "visitorsADaily.columns = ['date', 'visitorsPerDateA']\n",
    "\n",
    "#Кумулятивное количество пользователей группы А по дням\n",
    "visitorsACummulative = visitorsADaily.apply(lambda x: visitorsADaily[visitorsADaily['date'] <= x['date']].\\\n",
    "                                            agg({'date': 'max', 'visitorsPerDateA': 'sum'}), axis=1,)\n",
    "visitorsACummulative.columns = ['date', 'visitorsCummulativeA']\n",
    "\n",
    "#Выделяем количиство пользователей по дням в группе В\n",
    "visitorsBDaily = visitors[visitors['group'] == 'B'][['date', 'visitors']]\n",
    "visitorsBDaily.columns = ['date', 'visitorsPerDateB']\n",
    "\n",
    "#Кумулятивное количество пользователей группы В по дням\n",
    "visitorsBCummulative = visitorsBDaily.apply(lambda x: visitorsBDaily[visitorsBDaily['date'] <= x['date']].\\\n",
    "                                            agg({'date': 'max', 'visitorsPerDateB': 'sum'}), axis=1,)\n",
    "visitorsBCummulative.columns = ['date', 'visitorsCummulativeB']\n",
    "\n",
    "#Количество и сумма заказов по датам в группе А\n",
    "ordersADaily = orders[orders['group'] == 'A'][['date', 'transactionId', 'visitorId', 'revenue']].\\\n",
    "                groupby('date', as_index=False).agg({'transactionId': pd.Series.nunique, 'revenue': 'sum'})\n",
    "ordersADaily.columns = ['date', 'ordersPerDateA', 'revenuePerDateA']\n",
    "\n",
    "#Кумулятивные показатели числа заказов и с суммы заказов в группе А\n",
    "ordersACummulative = ordersADaily.apply(lambda x: ordersADaily[ordersADaily['date'] <= x['date']].\\\n",
    "                                        agg({'date': 'max', 'ordersPerDateA': 'sum', 'revenuePerDateA': 'sum'}), \n",
    "                                        axis=1,).sort_values(by=['date'])\n",
    "ordersACummulative.columns = ['date', 'ordersCummulativeA', 'revenueCummulativeA',]\n",
    "\n",
    "\n",
    "###### Аналогичные расчеты для группы В #####################\n",
    "ordersBDaily = orders[orders['group'] == 'B'][['date', 'transactionId', 'visitorId', 'revenue']]\\\n",
    "    .groupby('date', as_index=False).agg({'transactionId': pd.Series.nunique, 'revenue': 'sum'})\n",
    "ordersBDaily.columns = ['date', 'ordersPerDateB', 'revenuePerDateB']\n",
    "\n",
    "ordersBCummulative = ordersBDaily.apply(lambda x: ordersBDaily[ordersBDaily['date'] <= x['date']].\\\n",
    "                                        agg({'date': 'max', 'ordersPerDateB': 'sum', 'revenuePerDateB': 'sum'}),\n",
    "                                        axis=1).sort_values(by=['date'])\n",
    "ordersBCummulative.columns = ['date', 'ordersCummulativeB', 'revenueCummulativeB',]\n",
    "\n",
    "\n",
    "# Объединяем все данные в один датасет\n",
    "data = ordersADaily.merge(ordersBDaily, left_on='date', right_on='date', how='left')\\\n",
    "                   .merge(ordersACummulative, left_on='date', right_on='date', how='left')\\\n",
    "                   .merge(ordersBCummulative, left_on='date', right_on='date', how='left')\\\n",
    "                   .merge(visitorsADaily, left_on='date', right_on='date', how='left')\\\n",
    "                   .merge(visitorsBDaily, left_on='date', right_on='date', how='left')\\\n",
    "                   .merge(visitorsACummulative, left_on='date', right_on='date', how='left')\\\n",
    "                   .merge(visitorsBCummulative, left_on='date', right_on='date', how='left')\\\n",
    "\n",
    "print(data.head(5)) \n"
   ]
  },
  {
   "cell_type": "markdown",
   "metadata": {},
   "source": [
    "#### Расчёт статистической значимости различий в конверсии между группами по «сырым» данным."
   ]
  },
  {
   "cell_type": "code",
   "execution_count": 35,
   "metadata": {
    "scrolled": true
   },
   "outputs": [
    {
     "name": "stdout",
     "output_type": "stream",
     "text": [
      "0.008\n",
      "0.138\n"
     ]
    }
   ],
   "source": [
    "#Расчитываем количество заказов на одного покупателя в каждой группе\n",
    "ordersByUsersA = orders[orders['group'] == 'A'].groupby('visitorId', as_index=False).agg({'transactionId': 'nunique'})\n",
    "ordersByUsersA.columns = ['userId', 'orders']\n",
    "\n",
    "ordersByUsersB = orders[orders['group'] == 'B'].groupby('visitorId', as_index=False).agg({'transactionId': 'nunique'})\n",
    "ordersByUsersB.columns = ['userId', 'orders']\n",
    "\n",
    "\n",
    "#Формируем серию с количеством заказов для пользователей группы которые сделали хотябы один заказ \n",
    "#и добавляем значение 0 для количества пользователей которые не сделали ни одного заказа\n",
    "sampleA = pd.concat([ordersByUsersA['orders'],\n",
    "                    pd.Series(0, index=np.arange(data['visitorsPerDateA'].sum() - len(ordersByUsersA['orders'])),\n",
    "                              name='orders')], axis=0)\n",
    "\n",
    "\n",
    "sampleB = pd.concat([ordersByUsersB['orders'],\n",
    "                     pd.Series(0, index=np.arange(data['visitorsPerDateB'].sum() - len(ordersByUsersB['orders'])),\n",
    "                               name='orders')], axis=0)\n",
    "\n",
    "\n",
    "#Проверим гипотезу о том, что статистически значимых различий в конверсии группы А и группы В нет.\n",
    "print(\"{0:.3f}\".format(stats.mannwhitneyu(sampleA, sampleB)[1]))\n",
    "\n",
    "#Относительный прирост конверсии в группе В по отношению к группе А\n",
    "print(\"{0:.3f}\".format(sampleB.mean() / sampleA.mean() - 1))"
   ]
  },
  {
   "cell_type": "markdown",
   "metadata": {},
   "source": [
    "Первое число — p-value = 0.008 меньше 0.05. Значит, нулевую гипотезу о том, что статистически значимых различий в конверсии между группами нет, отвергаем и, с учетом превосходства конверсии группы В над конверсией группы А почти на 14%, принимаем гипотезу, что есть статистически значимые различия в конверсиях в группе А и в группе В. "
   ]
  },
  {
   "cell_type": "markdown",
   "metadata": {},
   "source": [
    "#### Расчёт статистической значимости различий в среднем чеке заказа между группами по «сырым» данным."
   ]
  },
  {
   "cell_type": "markdown",
   "metadata": {},
   "source": [
    "Передадим критерию mannwhitneyu() данные о выручке с заказов.\n",
    "А ещё найдём относительные различия в среднем чеке между группами"
   ]
  },
  {
   "cell_type": "code",
   "execution_count": 37,
   "metadata": {},
   "outputs": [
    {
     "name": "stdout",
     "output_type": "stream",
     "text": [
      "0.365\n",
      "0.259\n"
     ]
    }
   ],
   "source": [
    "print('{0:.3f}'.format(stats.mannwhitneyu(orders[orders['group']=='A']['revenue'], orders[orders['group']=='B']['revenue'])[1]))\n",
    "print('{0:.3f}'.format(orders[orders['group']=='B']['revenue'].mean()/orders[orders['group']=='A']['revenue'].mean()-1)) "
   ]
  },
  {
   "cell_type": "markdown",
   "metadata": {},
   "source": [
    "Показатель статистической значимости гипотезы о том, что нет различий в среднем чеке заказа между группами более 0.05, что означает невозможность отвергнуть нулевую гипотезу. Вместе с тем относительное различие средней выручки в группе В выше на 26%, чем в группе А"
   ]
  },
  {
   "cell_type": "markdown",
   "metadata": {},
   "source": [
    "#### Определение аномальных пользователей и заказов"
   ]
  },
  {
   "cell_type": "markdown",
   "metadata": {},
   "source": [
    "В пунктах 2.8 и 2.10 были установлены границы отсечения аномальных значений числа заказов на одного пользователя - 4 и суммы заказа - 59000"
   ]
  },
  {
   "cell_type": "code",
   "execution_count": 38,
   "metadata": {
    "scrolled": true
   },
   "outputs": [
    {
     "name": "stdout",
     "output_type": "stream",
     "text": [
      "1099     148427295\n",
      "949      887908475\n",
      "744      888512513\n",
      "1103    1164614297\n",
      "1136    1307669133\n",
      "858     1316129916\n",
      "425     1920142716\n",
      "227     2038680547\n",
      "1196    2108080724\n",
      "326     2378935119\n",
      "278     2458001652\n",
      "743     4133034833\n",
      "499     4256040402\n",
      "662     4266935830\n",
      "dtype: int64\n",
      "(14,)\n"
     ]
    }
   ],
   "source": [
    "#Выбираем пользователей с числом заказов более 4 и суммами заказов более 59000\n",
    "usersWithManyOrders = pd.concat([ordersByUsersA[ordersByUsersA['orders'] > 4]['userId'],\n",
    "                                 ordersByUsersB[ordersByUsersB['orders'] > 4]['userId']],\n",
    "                                 axis=0)\n",
    "\n",
    "usersWithExpensiveOrders = orders[orders['revenue'] > 59000]['visitorId']\n",
    "\n",
    "#Объединим их в одну таблицу\n",
    "abnormalUsers = pd.concat([usersWithManyOrders, usersWithExpensiveOrders], axis=0).drop_duplicates().sort_values()\n",
    "\n",
    "print(abnormalUsers)\n",
    "print(abnormalUsers.shape) "
   ]
  },
  {
   "cell_type": "markdown",
   "metadata": {},
   "source": [
    "Получилось 14 аномальных пользователей."
   ]
  },
  {
   "cell_type": "code",
   "execution_count": 39,
   "metadata": {},
   "outputs": [],
   "source": [
    "#Создадим отфильтрованные данные исключающие аномальных пользователей.\n",
    "\n",
    "sampleAFiltered = pd.concat([ordersByUsersA[np.logical_not(ordersByUsersA['userId'].isin(abnormalUsers))]['orders'],\n",
    "                  pd.Series(0, index=np.arange(data['visitorsPerDateA'].sum() - len(ordersByUsersA['orders'])),\n",
    "                  name='orders')], axis=0)\n",
    "\n",
    "sampleBFiltered = pd.concat([ordersByUsersB[np.logical_not(ordersByUsersB['userId'].isin(abnormalUsers))]['orders'],\n",
    "                  pd.Series(0, index=np.arange(data['visitorsPerDateB'].sum() - len(ordersByUsersB['orders'])),\n",
    "                  name='orders')], axis=0) "
   ]
  },
  {
   "cell_type": "markdown",
   "metadata": {},
   "source": [
    "#### Расчёт статистической значимости различий в конверсии между группами по «очищенным» данным."
   ]
  },
  {
   "cell_type": "code",
   "execution_count": 40,
   "metadata": {
    "scrolled": true
   },
   "outputs": [
    {
     "name": "stdout",
     "output_type": "stream",
     "text": [
      "0.007\n",
      "0.155\n"
     ]
    }
   ],
   "source": [
    "print('{0:.3f}'.format(stats.mannwhitneyu(sampleAFiltered, sampleBFiltered)[1]))\n",
    "print('{0:.3f}'.format(sampleBFiltered.mean()/sampleAFiltered.mean()-1)) "
   ]
  },
  {
   "cell_type": "markdown",
   "metadata": {},
   "source": [
    "Результат остался практически тем же самым чти и на сырых данных. Уровень статистической значимости стал еще меньше на одну тысчную, а относительный прирост конверсии в группе В относительно группы А вырос на 0.017. Таким образом гипотезу о том, что статистически значимых различий в конверсии между группами А и В нет можно отвергнуть и принять гипотезу о том, что конверсия группы В выше чем в группе А."
   ]
  },
  {
   "cell_type": "markdown",
   "metadata": {},
   "source": [
    "#### Расчёт статистической значимости различий в среднем чеке заказа между группами по «очищенным» данным."
   ]
  },
  {
   "cell_type": "code",
   "execution_count": 41,
   "metadata": {
    "scrolled": true
   },
   "outputs": [
    {
     "name": "stdout",
     "output_type": "stream",
     "text": [
      "0.407\n",
      "0.007\n"
     ]
    }
   ],
   "source": [
    "print('{0:.3f}'.format(stats.mannwhitneyu(orders[np.logical_and(orders['group'] == 'A', \n",
    "                                                                np.logical_not(orders['visitorId'].isin(abnormalUsers)))]\n",
    "                                                                ['revenue'],\n",
    "                                          orders[np.logical_and(orders['group'] == 'B',\n",
    "                                                                np.logical_not(orders['visitorId'].isin(abnormalUsers)))]\n",
    "                                                                ['revenue'],\n",
    "                                          )[1]\n",
    "                      )\n",
    "     )\n",
    "\n",
    "print(\"{0:.3f}\".format(orders[np.logical_and(orders['group'] == 'B', np.logical_not(orders['visitorId'].isin(abnormalUsers)))]\n",
    "                       ['revenue'].mean() / \n",
    "                       orders[np.logical_and(orders['group'] == 'A', np.logical_not(orders['visitorId'].isin(abnormalUsers)))]\n",
    "                       ['revenue'].mean() - 1\n",
    "                      )\n",
    "     ) "
   ]
  },
  {
   "cell_type": "markdown",
   "metadata": {},
   "source": [
    "При проверке гипотезы о том, что нет статистически значимых отличий в среднем чеке между группами на очищенных данных значение порога p-value увеличилось на 0.042 и значительно выше 0,05. Это означает, что нельзя отвергать такую гипотезу. Вместе с тем относительное увеличение среднего чека в группе В относительно группы А на очищенных данных резго уменьшилось и свелось практичекси к нулю, что связано устранением аномально больших заказов из группы В."
   ]
  },
  {
   "cell_type": "markdown",
   "metadata": {},
   "source": [
    "Формулировка проверяемых гипотез:\n",
    "* Н0 - средний чек в группе А и в группе В совпадают\n",
    "* Н1 - средний чек в группе А и в группе В отличаются"
   ]
  },
  {
   "cell_type": "markdown",
   "metadata": {},
   "source": [
    "### Выводы"
   ]
  },
  {
   "cell_type": "markdown",
   "metadata": {},
   "source": [
    "Датасеты о заказах и посещениях не содержат пропусков. Столбцы с датами были преобразованы из типа строк к типу дат.\n",
    "\n",
    "- График кумулятивной выручки растёт в обеих группах на протяжении всего эксперимента. 19 августа 2019 года размер выручки в группе В значительно вырастает, т.к. далее рост идет с такой же скоростью как и в остальные дни, то скорее всего это выброс по количеству заказаов и/или по сумме заказов.\n",
    "\n",
    "- Средний чек расчитанный на кумулятивных данных в группе В постепенно растёт от начала эксперимента до 18 августа, затем идет резкий скачёк и дальнейшее постепенное снижение среднего чека, что свидетельствует о наличии выброса в виде большого заказа в указанную дату.\n",
    "\n",
    "- Средний чек расчитанный на кумулятивных данных в группе А имеет резкий провал в районе 6-го августа, но начиная с 13 августа и до конца эксперимента стабилизируется около 7000.\n",
    "\n",
    "- График изменения среднего чека группы В относительено группы А резко скачет в нескольких местах. На графике ярко видны провал группы А в районе 6го августа, пик группы А в районе 13 августа и скачёк группы В в районе 18 августа, что в целом свидетельствует о наличии больших заказов.\n",
    "\n",
    "- До 6 августа кумулятивная конверсия группы А была выше конверсии группы В, после шестого ситуация поменялась. Конверсии в обеих группа стабилизировались. Конверсия группы В имеет слабую тенденцию на снижение, конверсия группы А слабую тенденцию роста.\n",
    "\n",
    "- Исходя из графика прироста конверсии группы В отностельно группы А, до 6 августа кумулятивная конверсия группы В была ниже конверсии группы А за исключением выброса 2 августа. Это может сказываться малое количество данных в начале наблюдения. Начиная с 6 августа конверсия группы В резко вырастает и превосходит конверсию группы А на протяжении оставшегося времени эксперимента. Пик в 0.2 приходится на 16 августа после чего происходит постепенное снижение до 0.15.\n",
    "\n",
    "- Только 4 пользователя совершили более 5 заказов, основная масса пользователей совершили 1-2 заказа.\n",
    "\n",
    "- Не более 5% пользователей оформляло более 2 заказов и не более 1% пользователей сделали более 4 заказов. Принимая в расчёт данные с графика количества заказов по пользователям выберем в качестве границы для отсечения аномальных - пользователей сделавших более 4 заказов.\n",
    "\n",
    "- Есть два аномально больших заказа в группе В, 15 и 19 августа на сумму 202 тыс и 1.3 млн. при том что сумма остальных заказов менее 150 тыс. \n",
    "\n",
    "- Не более 5% заказов по сумме превышают 28 тысяч и не более 1% превышают по сумме 58.23 тысячи. В качестве порога отсечения заказов с аномально большой суммой выберем 59 тысяч.\n",
    "\n",
    "- При проверке на статистическую значимость различий в конверсии между группами по «сырым» данным с помощью теста Манна-Уитни p-value = 0.008 меньше 0.05. Значит, нулевую гипотезу о том, что статистически значимых различий в конверсии между группами нет, отвергаем и, с учетом превосходства конверсии группы В над конверсией группы А почти на 14%, принимаем гипотезу, что есть статистически значимые различия в конверсиях в группе А и в группе В.\n",
    "\n",
    "- Показатель статистической значимости гипотезы о том, что нет различий в среднем чеке заказа между группами по «сырым» данным более 0.05, что означает невозможность отвергнуть нулевую гипотезу. Вместе с тем относительное различие средней выручки в группе В выше на 26%, чем в группе А\n",
    "\n",
    "- Исходя из выбранных порогов аномального числа заказов на одного пользователя и суммы одного заказа получилось выделить 14 аномальных пользователей которых надо исключить для проверки гипотез на \"очищенных\" данных без выбросов.\n",
    "\n",
    "- Результат проверки на статистическую значимость различий в конверсии между группами по «очищенным» данным с помощью теста Манна-Уитни остался практически тем же самым что и на сырых данных. Уровень статистической значимости стал еще меньше на одну тысчную, а относительный прирост конверсии в группе В относительно группы А вырос на 0.017. Таким образом гипотезу о том, что статистически значимых различий в конверсии между группами А и В нет можно отвергнуть и принять гипотезу о том, что конверсия группы В выше чем в группе А.\n",
    "\n",
    "- При проверке гипотезы о том, что нет статистически значимых отличий в среднем чеке между группами на очищенных данных значение порога p-value увеличилось на 0.042 и значительно выше 0,05. Это означает, что нельзя отвергать такую гипотезу. Вместе с тем относительное увеличение среднего чека в группе В относительно группы А на очищенных данных резго уменьшилось и свелось практичекси к нулю, что связано устранением аномально больших заказов из группы В."
   ]
  },
  {
   "cell_type": "markdown",
   "metadata": {},
   "source": [
    "## Выводы"
   ]
  },
  {
   "cell_type": "markdown",
   "metadata": {},
   "source": [
    "<b>Приоритезация гипотез.</b>\n",
    "\n",
    "Датафрейм hypothesis не содержит пропусков. Названия столбцов написаны латиницей, не имеют пробелы в названиии, содержат заглавные буквы которые были переведены в строчные.\n",
    "\n",
    "В первую тройку гипотез по методике ICE входят гипотезы:\n",
    "- номер 8 - акция со скидкой в день рождения\n",
    "- номер 0 - добавление двух новых каналов трафика\n",
    "- номер 7 - довавление формы подписки для сбора базы email'ов\n",
    "\n",
    "Приоретизация по методике RICE:\n",
    "- В лидеры по критерию приоритезации RICE стоит выделить гипотезу №7 - сбор email'ов для создания списка рассылки. \n",
    "- Следующая гипотеза имеет рейтинг в два раза ниже, это гипотеза №2 - добавление блока рекомендаций на каждой странице\n",
    "- На третьем месте стоят гипотезы №6 и №0 - баннеры с актальными акциями на главной странице и два новых канала привлечения соответсвенно\n",
    "\n",
    "Сравнение изменений приоритетов гипотез при учете параметра \"охват\" (Reach), те смене модели ICE на RICE\n",
    "- Гипотеза 8 ушла из лидеров в методике RICE потому, что имеет минимальный охват из всех представленных гипотез несмотря на высокие показатели влияния и уверенности.\n",
    "- Гипотеза 7 поднялась с третьего на первое место, т.к. имеет самый высокий показатель охвата и довольно высокие показатели влияния и уверенности, а так же средние показатели необходимых усилий.\n",
    "- Гипотеза 0 осталась в числе лидеров, не смотря на малый охват, т.к. имеет самое сильное влияние среди остальных гипотез при средних показателях уверенности и усилий\n",
    "- Гипотеза 2 вошла в топ по методике RICE тк имеет очень хорошие показатели охвата.\n",
    "\n",
    "Исходя из обеих методик в первую очередь стоит проверить гипотезу №7, а затем гипотезу №0\n",
    "\n",
    "<b>Результаты А/В тестирования</b>\n",
    "Датасеты о заказах и посещениях не содержат пропусков. Столбцы с датами были преобразованы из типа строк к типу дат.\n",
    "\n",
    "- График кумулятивной выручки растёт в обеих группах на протяжении всего эксперимента. 19 августа 2019 года размер выручки в группе В значительно вырастает, т.к. далее рост идет с такой же скоростью как и в остальные дни, то скорее всего это выброс по количеству заказаов и/или по сумме заказов.\n",
    "\n",
    "- Средний чек расчитанный на кумулятивных данных в группе В постепенно растёт от начала эксперимента до 18 августа, затем идет резкий скачёк и дальнейшее постепенное снижение среднего чека, что свидетельствует о наличии выброса в виде большого заказа в указанную дату.\n",
    "\n",
    "- Средний чек расчитанный на кумулятивных данных в группе А имеет резкий провал в районе 6-го августа, но начиная с 13 августа и до конца эксперимента стабилизируется около 7000.\n",
    "\n",
    "- График изменения среднего чека группы В относительено группы А резко скачет в нескольких местах. На графике ярко видны провал группы А в районе 6го августа, пик группы А в районе 13 августа и скачёк группы В в районе 18 августа, что в целом свидетельствует о наличии больших заказов.\n",
    "\n",
    "- До 6 августа кумулятивная конверсия группы А была выше конверсии группы В, после шестого ситуация поменялась. Конверсии в обеих группа стабилизировались. Конверсия группы В имеет слабую тенденцию на снижение, конверсия группы А слабую тенденцию роста.\n",
    "\n",
    "- Исходя из графика прироста конверсии группы В отностельно группы А, до 6 августа кумулятивная конверсия группы В была ниже конверсии группы А за исключением выброса 2 августа. Это может сказываться малое количество данных в начале наблюдения. Начиная с 6 августа конверсия группы В резко вырастает и превосходит конверсию группы А на протяжении оставшегося времени эксперимента. Пик в 0.2 приходится на 16 августа после чего происходит постепенное снижение до 0.15.\n",
    "\n",
    "- Только 4 пользователя совершили более 5 заказов, основная масса пользователей совершили 1-2 заказа.\n",
    "\n",
    "- Не более 5% пользователей оформляло более 2 заказов и не более 1% пользователей сделали более 4 заказов. Принимая в расчёт данные с графика количества заказов по пользователям выберем в качестве границы для отсечения аномальных - пользователей сделавших более 4 заказов.\n",
    "\n",
    "- Есть два аномально больших заказа в группе В, 15 и 19 августа на сумму 202 тыс и 1.3 млн. при том что сумма остальных заказов менее 150 тыс. \n",
    "\n",
    "- Не более 5% заказов по сумме превышают 28 тысяч и не более 1% превышают по сумме 58.23 тысячи. В качестве порога отсечения заказов с аномально большой суммой выберем 59 тысяч.\n",
    "\n",
    "- При проверке на статистическую значимость различий в конверсии между группами по «сырым» данным с помощью теста Манна-Уитни p-value = 0.008 меньше 0.05. Значит, нулевую гипотезу о том, что статистически значимых различий в конверсии между группами нет, отвергаем и, с учетом превосходства конверсии группы В над конверсией группы А почти на 14%, принимаем гипотезу, что есть статистически значимые различия в конверсиях в группе А и в группе В.\n",
    "\n",
    "- Показатель статистической значимости гипотезы о том, что нет различий в среднем чеке заказа между группами по «сырым» данным более 0.05, что означает невозможность отвергнуть нулевую гипотезу. Вместе с тем относительное различие средней выручки в группе В выше на 26%, чем в группе А\n",
    "\n",
    "- Исходя из выбранных порогов аномального числа заказов на одного пользователя и суммы одного заказа получилось выделить 14 аномальных пользователей которых надо исключить для проверки гипотез на \"очищенных\" данных без выбросов.\n",
    "\n",
    "- Результат проверки на статистическую значимость различий в конверсии между группами по «очищенным» данным с помощью теста Манна-Уитни остался практически тем же самым что и на сырых данных. Уровень статистической значимости стал еще меньше на одну тысчную, а относительный прирост конверсии в группе В относительно группы А вырос на 0.017. Таким образом гипотезу о том, что статистически значимых различий в конверсии между группами А и В нет можно отвергнуть и принять гипотезу о том, что конверсия группы В выше чем в группе А.\n",
    "\n",
    "- При проверке гипотезы о том, что нет статистически значимых отличий в среднем чеке между группами на очищенных данных значение порога p-value увеличилось на 0.042 и значительно выше 0,05. Это означает, что нельзя отвергать такую гипотезу. Вместе с тем относительное увеличение среднего чека в группе В относительно группы А на очищенных данных резго уменьшилось и свелось практичекси к нулю, что связано устранением аномально больших заказов из группы В."
   ]
  },
  {
   "cell_type": "markdown",
   "metadata": {},
   "source": [
    "## Решение по результатам тестирования"
   ]
  },
  {
   "cell_type": "markdown",
   "metadata": {},
   "source": [
    "Учитывая цель теста - увеличение выручки. Учитывая совокупное превосходство общей выручки группы В на большинстве графиков и исходя из того, что тесты Манна-Уитни четко показали превышение конверсии в группе В над конверсией в группе А на очищенных от выбрасов данных, а статистически значимых различий в среднем чеке между группами нет, при прочих равных между граппами А и В, <b>эксперимент можно прекратить</b> и <b>признать победу группы В над группой А</b>. Выйгрыш группы В обеспечен за счет большей по сравнению с группой А конверсией."
   ]
  }
 ],
 "metadata": {
  "ExecuteTimeLog": [
   {
    "duration": 3,
    "start_time": "2022-03-09T08:31:00.673Z"
   },
   {
    "duration": 603,
    "start_time": "2022-03-09T08:37:11.646Z"
   },
   {
    "duration": 32,
    "start_time": "2022-03-09T08:38:22.291Z"
   },
   {
    "duration": 17,
    "start_time": "2022-03-09T08:38:31.971Z"
   },
   {
    "duration": 4412,
    "start_time": "2022-03-09T08:41:46.089Z"
   },
   {
    "duration": 5,
    "start_time": "2022-03-09T08:45:20.205Z"
   },
   {
    "duration": 201,
    "start_time": "2022-03-09T08:45:30.357Z"
   },
   {
    "duration": 17,
    "start_time": "2022-03-09T08:45:56.598Z"
   },
   {
    "duration": 5,
    "start_time": "2022-03-09T08:45:59.910Z"
   },
   {
    "duration": 177,
    "start_time": "2022-03-09T08:46:02.774Z"
   },
   {
    "duration": 12,
    "start_time": "2022-03-09T08:46:12.950Z"
   },
   {
    "duration": 170,
    "start_time": "2022-03-09T08:48:02.869Z"
   },
   {
    "duration": 254,
    "start_time": "2022-03-09T08:49:26.277Z"
   },
   {
    "duration": 3,
    "start_time": "2022-03-09T08:49:36.589Z"
   },
   {
    "duration": 22,
    "start_time": "2022-03-09T08:49:40.932Z"
   },
   {
    "duration": 3,
    "start_time": "2022-03-09T08:49:55.020Z"
   },
   {
    "duration": 2,
    "start_time": "2022-03-09T08:49:58.697Z"
   },
   {
    "duration": 17,
    "start_time": "2022-03-09T08:50:01.116Z"
   },
   {
    "duration": 5,
    "start_time": "2022-03-09T08:50:12.635Z"
   },
   {
    "duration": 11,
    "start_time": "2022-03-09T08:50:14.684Z"
   },
   {
    "duration": 12,
    "start_time": "2022-03-09T08:52:28.474Z"
   },
   {
    "duration": 4191,
    "start_time": "2022-03-09T08:54:07.978Z"
   },
   {
    "duration": 286,
    "start_time": "2022-03-09T08:54:16.746Z"
   },
   {
    "duration": 192,
    "start_time": "2022-03-09T08:54:57.881Z"
   },
   {
    "duration": 193,
    "start_time": "2022-03-09T08:55:23.300Z"
   },
   {
    "duration": 218,
    "start_time": "2022-03-09T08:55:52.121Z"
   },
   {
    "duration": 165,
    "start_time": "2022-03-09T08:56:05.481Z"
   },
   {
    "duration": 184,
    "start_time": "2022-03-09T11:36:46.102Z"
   },
   {
    "duration": 3,
    "start_time": "2022-03-09T11:37:27.065Z"
   },
   {
    "duration": 418,
    "start_time": "2022-03-09T11:37:40.969Z"
   },
   {
    "duration": 383,
    "start_time": "2022-03-09T11:38:11.426Z"
   },
   {
    "duration": 178,
    "start_time": "2022-03-09T11:38:18.985Z"
   },
   {
    "duration": 167,
    "start_time": "2022-03-09T11:38:38.779Z"
   },
   {
    "duration": 12,
    "start_time": "2022-03-09T11:56:44.997Z"
   },
   {
    "duration": 94,
    "start_time": "2022-03-09T12:15:41.424Z"
   },
   {
    "duration": 34,
    "start_time": "2022-03-09T12:17:58.670Z"
   },
   {
    "duration": 8,
    "start_time": "2022-03-09T12:18:32.287Z"
   },
   {
    "duration": 15,
    "start_time": "2022-03-09T12:25:53.578Z"
   },
   {
    "duration": 10,
    "start_time": "2022-03-09T12:26:09.570Z"
   },
   {
    "duration": 178,
    "start_time": "2022-03-09T13:35:38.567Z"
   },
   {
    "duration": 803,
    "start_time": "2022-03-09T13:35:47.095Z"
   },
   {
    "duration": 3,
    "start_time": "2022-03-09T13:54:01.234Z"
   },
   {
    "duration": 893,
    "start_time": "2022-03-09T13:55:12.838Z"
   },
   {
    "duration": 769,
    "start_time": "2022-03-09T13:55:58.687Z"
   },
   {
    "duration": 12,
    "start_time": "2022-03-09T13:56:17.963Z"
   },
   {
    "duration": 8,
    "start_time": "2022-03-09T13:56:33.443Z"
   },
   {
    "duration": 5,
    "start_time": "2022-03-09T13:57:24.586Z"
   },
   {
    "duration": 7,
    "start_time": "2022-03-09T13:57:25.963Z"
   },
   {
    "duration": 2,
    "start_time": "2022-03-09T14:01:49.826Z"
   },
   {
    "duration": 402,
    "start_time": "2022-03-09T14:08:29.870Z"
   },
   {
    "duration": 3,
    "start_time": "2022-03-09T14:09:05.198Z"
   },
   {
    "duration": 4926,
    "start_time": "2022-03-09T14:09:11.567Z"
   },
   {
    "duration": 5036,
    "start_time": "2022-03-09T14:11:00.093Z"
   },
   {
    "duration": 12,
    "start_time": "2022-03-09T14:12:52.484Z"
   },
   {
    "duration": 5782,
    "start_time": "2022-03-09T14:13:29.228Z"
   },
   {
    "duration": 4861,
    "start_time": "2022-03-09T14:15:35.675Z"
   },
   {
    "duration": 5124,
    "start_time": "2022-03-09T14:16:24.692Z"
   },
   {
    "duration": 327,
    "start_time": "2022-03-09T14:17:25.115Z"
   },
   {
    "duration": 216,
    "start_time": "2022-03-09T14:19:08.341Z"
   },
   {
    "duration": 413,
    "start_time": "2022-03-09T14:20:09.768Z"
   },
   {
    "duration": 206,
    "start_time": "2022-03-09T14:20:18.648Z"
   },
   {
    "duration": 295,
    "start_time": "2022-03-09T14:22:08.639Z"
   },
   {
    "duration": 195,
    "start_time": "2022-03-09T14:22:26.519Z"
   },
   {
    "duration": 392,
    "start_time": "2022-03-09T14:22:46.838Z"
   },
   {
    "duration": 291,
    "start_time": "2022-03-09T14:23:01.903Z"
   },
   {
    "duration": 292,
    "start_time": "2022-03-09T14:23:13.199Z"
   },
   {
    "duration": 385,
    "start_time": "2022-03-09T14:23:35.718Z"
   },
   {
    "duration": 380,
    "start_time": "2022-03-09T14:24:30.597Z"
   },
   {
    "duration": 297,
    "start_time": "2022-03-09T14:30:42.530Z"
   },
   {
    "duration": 235,
    "start_time": "2022-03-09T14:30:55.378Z"
   },
   {
    "duration": 5,
    "start_time": "2022-03-09T14:31:49.986Z"
   },
   {
    "duration": 205,
    "start_time": "2022-03-09T14:32:25.994Z"
   },
   {
    "duration": 228,
    "start_time": "2022-03-09T14:33:18.919Z"
   },
   {
    "duration": 295,
    "start_time": "2022-03-09T14:38:28.856Z"
   },
   {
    "duration": 220,
    "start_time": "2022-03-09T14:38:40.632Z"
   },
   {
    "duration": 279,
    "start_time": "2022-03-09T14:46:03.973Z"
   },
   {
    "duration": 301,
    "start_time": "2022-03-09T14:47:09.390Z"
   },
   {
    "duration": 917,
    "start_time": "2022-03-10T06:51:23.270Z"
   },
   {
    "duration": 4,
    "start_time": "2022-03-10T06:51:24.190Z"
   },
   {
    "duration": 34,
    "start_time": "2022-03-10T06:51:24.198Z"
   },
   {
    "duration": 8,
    "start_time": "2022-03-10T06:51:24.234Z"
   },
   {
    "duration": 35,
    "start_time": "2022-03-10T06:51:24.244Z"
   },
   {
    "duration": 303,
    "start_time": "2022-03-10T06:51:24.282Z"
   },
   {
    "duration": 17,
    "start_time": "2022-03-10T06:51:24.588Z"
   },
   {
    "duration": 288,
    "start_time": "2022-03-10T06:51:24.609Z"
   },
   {
    "duration": 14,
    "start_time": "2022-03-10T06:51:24.900Z"
   },
   {
    "duration": 33,
    "start_time": "2022-03-10T06:51:24.916Z"
   },
   {
    "duration": 24,
    "start_time": "2022-03-10T06:51:24.951Z"
   },
   {
    "duration": 22,
    "start_time": "2022-03-10T06:51:24.978Z"
   },
   {
    "duration": 19,
    "start_time": "2022-03-10T06:51:25.002Z"
   },
   {
    "duration": 7,
    "start_time": "2022-03-10T06:51:25.024Z"
   },
   {
    "duration": 16,
    "start_time": "2022-03-10T06:51:25.033Z"
   },
   {
    "duration": 606,
    "start_time": "2022-03-10T06:51:25.074Z"
   },
   {
    "duration": 399,
    "start_time": "2022-03-10T06:51:25.682Z"
   },
   {
    "duration": 431,
    "start_time": "2022-03-10T06:51:26.084Z"
   },
   {
    "duration": 541,
    "start_time": "2022-03-10T06:51:26.518Z"
   },
   {
    "duration": 395,
    "start_time": "2022-03-10T06:57:37.890Z"
   },
   {
    "duration": 8,
    "start_time": "2022-03-10T06:57:47.091Z"
   },
   {
    "duration": 7,
    "start_time": "2022-03-10T06:58:03.563Z"
   },
   {
    "duration": 351,
    "start_time": "2022-03-10T06:58:33.236Z"
   },
   {
    "duration": 353,
    "start_time": "2022-03-10T06:58:50.403Z"
   },
   {
    "duration": 319,
    "start_time": "2022-03-10T06:59:13.349Z"
   },
   {
    "duration": 394,
    "start_time": "2022-03-10T07:01:53.707Z"
   },
   {
    "duration": 374,
    "start_time": "2022-03-10T07:02:34.777Z"
   },
   {
    "duration": 13,
    "start_time": "2022-03-10T07:03:11.272Z"
   },
   {
    "duration": 160,
    "start_time": "2022-03-10T07:03:49.560Z"
   },
   {
    "duration": 6,
    "start_time": "2022-03-10T07:03:57.868Z"
   },
   {
    "duration": 338,
    "start_time": "2022-03-10T07:10:16.605Z"
   },
   {
    "duration": 500,
    "start_time": "2022-03-10T07:11:36.867Z"
   },
   {
    "duration": 525,
    "start_time": "2022-03-10T07:11:52.459Z"
   },
   {
    "duration": 518,
    "start_time": "2022-03-10T07:12:50.276Z"
   },
   {
    "duration": 13,
    "start_time": "2022-03-10T07:24:23.549Z"
   },
   {
    "duration": 12,
    "start_time": "2022-03-10T07:25:30.555Z"
   },
   {
    "duration": 7444,
    "start_time": "2022-03-10T07:28:41.758Z"
   },
   {
    "duration": 207,
    "start_time": "2022-03-10T07:29:04.955Z"
   },
   {
    "duration": 212,
    "start_time": "2022-03-10T07:29:46.459Z"
   },
   {
    "duration": 475,
    "start_time": "2022-03-10T07:31:21.329Z"
   },
   {
    "duration": 16,
    "start_time": "2022-03-10T07:32:02.649Z"
   },
   {
    "duration": 488,
    "start_time": "2022-03-10T07:32:04.698Z"
   },
   {
    "duration": 390,
    "start_time": "2022-03-10T07:32:47.585Z"
   },
   {
    "duration": 8,
    "start_time": "2022-03-10T07:39:12.789Z"
   },
   {
    "duration": 12,
    "start_time": "2022-03-10T07:52:27.726Z"
   },
   {
    "duration": 408,
    "start_time": "2022-03-10T07:53:17.877Z"
   },
   {
    "duration": 460,
    "start_time": "2022-03-10T09:21:53.347Z"
   },
   {
    "duration": 14,
    "start_time": "2022-03-10T09:22:47.911Z"
   },
   {
    "duration": 6,
    "start_time": "2022-03-10T09:27:51.856Z"
   },
   {
    "duration": 15,
    "start_time": "2022-03-10T10:19:30.651Z"
   },
   {
    "duration": 11,
    "start_time": "2022-03-10T10:25:10.877Z"
   },
   {
    "duration": 11,
    "start_time": "2022-03-10T10:25:26.190Z"
   },
   {
    "duration": 12,
    "start_time": "2022-03-10T10:25:43.647Z"
   },
   {
    "duration": 11,
    "start_time": "2022-03-10T10:32:24.835Z"
   },
   {
    "duration": 11,
    "start_time": "2022-03-10T10:32:29.925Z"
   },
   {
    "duration": 542,
    "start_time": "2022-03-10T13:34:39.202Z"
   },
   {
    "duration": 474,
    "start_time": "2022-03-10T13:36:33.694Z"
   },
   {
    "duration": 299,
    "start_time": "2022-03-10T13:46:28.433Z"
   },
   {
    "duration": 318,
    "start_time": "2022-03-10T13:47:30.844Z"
   },
   {
    "duration": 475,
    "start_time": "2022-03-10T13:48:14.020Z"
   },
   {
    "duration": 32,
    "start_time": "2022-03-10T13:49:30.811Z"
   },
   {
    "duration": 28,
    "start_time": "2022-03-10T13:53:34.242Z"
   },
   {
    "duration": 16,
    "start_time": "2022-03-10T14:01:39.244Z"
   },
   {
    "duration": 9,
    "start_time": "2022-03-10T14:19:59.768Z"
   },
   {
    "duration": 12,
    "start_time": "2022-03-10T14:20:17.592Z"
   },
   {
    "duration": 18,
    "start_time": "2022-03-10T14:21:31.834Z"
   },
   {
    "duration": 13,
    "start_time": "2022-03-10T14:21:46.185Z"
   },
   {
    "duration": 16,
    "start_time": "2022-03-10T14:28:21.374Z"
   },
   {
    "duration": 10,
    "start_time": "2022-03-10T14:30:59.523Z"
   },
   {
    "duration": 8071,
    "start_time": "2022-03-10T14:42:25.454Z"
   },
   {
    "duration": 20,
    "start_time": "2022-03-10T14:43:24.397Z"
   },
   {
    "duration": 1357,
    "start_time": "2022-03-10T15:03:55.792Z"
   },
   {
    "duration": 4,
    "start_time": "2022-03-10T15:03:57.152Z"
   },
   {
    "duration": 37,
    "start_time": "2022-03-10T15:03:57.159Z"
   },
   {
    "duration": 12,
    "start_time": "2022-03-10T15:03:57.199Z"
   },
   {
    "duration": 17,
    "start_time": "2022-03-10T15:03:57.214Z"
   },
   {
    "duration": 298,
    "start_time": "2022-03-10T15:03:57.233Z"
   },
   {
    "duration": 16,
    "start_time": "2022-03-10T15:03:57.534Z"
   },
   {
    "duration": 274,
    "start_time": "2022-03-10T15:03:57.552Z"
   },
   {
    "duration": 13,
    "start_time": "2022-03-10T15:03:57.830Z"
   },
   {
    "duration": 33,
    "start_time": "2022-03-10T15:03:57.846Z"
   },
   {
    "duration": 22,
    "start_time": "2022-03-10T15:03:57.881Z"
   },
   {
    "duration": 16,
    "start_time": "2022-03-10T15:03:57.905Z"
   },
   {
    "duration": 17,
    "start_time": "2022-03-10T15:03:57.924Z"
   },
   {
    "duration": 29,
    "start_time": "2022-03-10T15:03:57.944Z"
   },
   {
    "duration": 18,
    "start_time": "2022-03-10T15:03:57.976Z"
   },
   {
    "duration": 594,
    "start_time": "2022-03-10T15:03:57.997Z"
   },
   {
    "duration": 397,
    "start_time": "2022-03-10T15:03:58.593Z"
   },
   {
    "duration": 393,
    "start_time": "2022-03-10T15:03:58.992Z"
   },
   {
    "duration": 466,
    "start_time": "2022-03-10T15:03:59.387Z"
   },
   {
    "duration": 21,
    "start_time": "2022-03-10T15:03:59.855Z"
   },
   {
    "duration": 25,
    "start_time": "2022-03-10T15:03:59.879Z"
   },
   {
    "duration": 13,
    "start_time": "2022-03-10T15:03:59.907Z"
   },
   {
    "duration": 421,
    "start_time": "2022-03-10T15:03:59.923Z"
   },
   {
    "duration": 553,
    "start_time": "2022-03-10T15:04:00.347Z"
   },
   {
    "duration": 16,
    "start_time": "2022-03-10T15:04:00.902Z"
   },
   {
    "duration": 447,
    "start_time": "2022-03-10T15:04:00.920Z"
   },
   {
    "duration": 16,
    "start_time": "2022-03-10T15:04:01.376Z"
   },
   {
    "duration": 523,
    "start_time": "2022-03-10T15:04:01.395Z"
   },
   {
    "duration": 16,
    "start_time": "2022-03-10T15:04:01.921Z"
   },
   {
    "duration": 26,
    "start_time": "2022-03-10T15:04:01.939Z"
   },
   {
    "duration": 24,
    "start_time": "2022-03-10T15:04:01.973Z"
   },
   {
    "duration": 27,
    "start_time": "2022-03-10T15:04:02.000Z"
   },
   {
    "duration": 481,
    "start_time": "2022-03-10T15:04:02.030Z"
   },
   {
    "duration": 39,
    "start_time": "2022-03-10T15:04:02.514Z"
   },
   {
    "duration": 18,
    "start_time": "2022-03-10T15:04:02.573Z"
   },
   {
    "duration": 18,
    "start_time": "2022-03-10T15:04:02.594Z"
   },
   {
    "duration": 35,
    "start_time": "2022-03-10T15:04:02.615Z"
   },
   {
    "duration": 23,
    "start_time": "2022-03-10T15:04:02.653Z"
   },
   {
    "duration": 35,
    "start_time": "2022-03-10T15:04:02.679Z"
   },
   {
    "duration": 1292,
    "start_time": "2022-03-11T04:31:50.381Z"
   },
   {
    "duration": 4,
    "start_time": "2022-03-11T04:31:51.675Z"
   },
   {
    "duration": 36,
    "start_time": "2022-03-11T04:31:51.682Z"
   },
   {
    "duration": 14,
    "start_time": "2022-03-11T04:31:51.721Z"
   },
   {
    "duration": 16,
    "start_time": "2022-03-11T04:31:51.738Z"
   },
   {
    "duration": 294,
    "start_time": "2022-03-11T04:31:51.756Z"
   },
   {
    "duration": 18,
    "start_time": "2022-03-11T04:31:52.052Z"
   },
   {
    "duration": 266,
    "start_time": "2022-03-11T04:31:52.074Z"
   },
   {
    "duration": 13,
    "start_time": "2022-03-11T04:31:52.343Z"
   },
   {
    "duration": 46,
    "start_time": "2022-03-11T04:31:52.358Z"
   },
   {
    "duration": 19,
    "start_time": "2022-03-11T04:31:52.406Z"
   },
   {
    "duration": 18,
    "start_time": "2022-03-11T04:31:52.427Z"
   },
   {
    "duration": 25,
    "start_time": "2022-03-11T04:31:52.447Z"
   },
   {
    "duration": 7,
    "start_time": "2022-03-11T04:31:52.474Z"
   },
   {
    "duration": 13,
    "start_time": "2022-03-11T04:31:52.483Z"
   },
   {
    "duration": 586,
    "start_time": "2022-03-11T04:31:52.498Z"
   },
   {
    "duration": 378,
    "start_time": "2022-03-11T04:31:53.086Z"
   },
   {
    "duration": 350,
    "start_time": "2022-03-11T04:31:53.466Z"
   },
   {
    "duration": 460,
    "start_time": "2022-03-11T04:31:53.818Z"
   },
   {
    "duration": 8,
    "start_time": "2022-03-11T04:31:54.280Z"
   },
   {
    "duration": 12,
    "start_time": "2022-03-11T04:31:54.290Z"
   },
   {
    "duration": 29,
    "start_time": "2022-03-11T04:31:54.304Z"
   },
   {
    "duration": 384,
    "start_time": "2022-03-11T04:31:54.338Z"
   },
   {
    "duration": 479,
    "start_time": "2022-03-11T04:31:54.724Z"
   },
   {
    "duration": 30,
    "start_time": "2022-03-11T04:31:55.205Z"
   },
   {
    "duration": 376,
    "start_time": "2022-03-11T04:31:55.238Z"
   },
   {
    "duration": 15,
    "start_time": "2022-03-11T04:31:55.617Z"
   },
   {
    "duration": 489,
    "start_time": "2022-03-11T04:31:55.634Z"
   },
   {
    "duration": 19,
    "start_time": "2022-03-11T04:31:56.125Z"
   },
   {
    "duration": 8,
    "start_time": "2022-03-11T04:31:56.147Z"
   },
   {
    "duration": 12,
    "start_time": "2022-03-11T04:31:56.158Z"
   },
   {
    "duration": 11,
    "start_time": "2022-03-11T04:31:56.173Z"
   },
   {
    "duration": 460,
    "start_time": "2022-03-11T04:31:56.234Z"
   },
   {
    "duration": 39,
    "start_time": "2022-03-11T04:31:56.696Z"
   },
   {
    "duration": 14,
    "start_time": "2022-03-11T04:31:56.737Z"
   },
   {
    "duration": 12,
    "start_time": "2022-03-11T04:31:56.753Z"
   },
   {
    "duration": 12,
    "start_time": "2022-03-11T04:31:56.767Z"
   },
   {
    "duration": 8,
    "start_time": "2022-03-11T04:31:56.782Z"
   },
   {
    "duration": 59,
    "start_time": "2022-03-11T04:31:56.792Z"
   },
   {
    "duration": 5,
    "start_time": "2022-03-11T04:41:10.359Z"
   },
   {
    "duration": 179,
    "start_time": "2022-03-11T06:38:00.801Z"
   },
   {
    "duration": 526,
    "start_time": "2022-03-11T06:38:07.808Z"
   },
   {
    "duration": 1345,
    "start_time": "2022-03-11T06:38:30.055Z"
   },
   {
    "duration": 6,
    "start_time": "2022-03-11T06:38:31.402Z"
   },
   {
    "duration": 43,
    "start_time": "2022-03-11T06:38:31.412Z"
   },
   {
    "duration": 7,
    "start_time": "2022-03-11T06:38:31.458Z"
   },
   {
    "duration": 18,
    "start_time": "2022-03-11T06:38:31.467Z"
   },
   {
    "duration": 296,
    "start_time": "2022-03-11T06:38:31.487Z"
   },
   {
    "duration": 17,
    "start_time": "2022-03-11T06:38:31.786Z"
   },
   {
    "duration": 270,
    "start_time": "2022-03-11T06:38:31.806Z"
   },
   {
    "duration": 14,
    "start_time": "2022-03-11T06:38:32.079Z"
   },
   {
    "duration": 47,
    "start_time": "2022-03-11T06:38:32.095Z"
   },
   {
    "duration": 19,
    "start_time": "2022-03-11T06:38:32.144Z"
   },
   {
    "duration": 14,
    "start_time": "2022-03-11T06:38:32.165Z"
   },
   {
    "duration": 22,
    "start_time": "2022-03-11T06:38:32.181Z"
   },
   {
    "duration": 27,
    "start_time": "2022-03-11T06:38:32.205Z"
   },
   {
    "duration": 9,
    "start_time": "2022-03-11T06:38:32.235Z"
   },
   {
    "duration": 12,
    "start_time": "2022-03-11T06:38:32.247Z"
   },
   {
    "duration": 15,
    "start_time": "2022-03-11T06:39:32.121Z"
   },
   {
    "duration": 1810,
    "start_time": "2022-03-11T06:40:11.996Z"
   },
   {
    "duration": 4,
    "start_time": "2022-03-11T06:40:13.809Z"
   },
   {
    "duration": 34,
    "start_time": "2022-03-11T06:40:13.816Z"
   },
   {
    "duration": 7,
    "start_time": "2022-03-11T06:40:13.853Z"
   },
   {
    "duration": 19,
    "start_time": "2022-03-11T06:40:13.863Z"
   },
   {
    "duration": 308,
    "start_time": "2022-03-11T06:40:13.884Z"
   },
   {
    "duration": 17,
    "start_time": "2022-03-11T06:40:14.194Z"
   },
   {
    "duration": 259,
    "start_time": "2022-03-11T06:40:14.234Z"
   },
   {
    "duration": 13,
    "start_time": "2022-03-11T06:40:14.496Z"
   },
   {
    "duration": 66,
    "start_time": "2022-03-11T06:40:14.512Z"
   },
   {
    "duration": 20,
    "start_time": "2022-03-11T06:40:14.581Z"
   },
   {
    "duration": 13,
    "start_time": "2022-03-11T06:40:14.604Z"
   },
   {
    "duration": 22,
    "start_time": "2022-03-11T06:40:14.620Z"
   },
   {
    "duration": 7,
    "start_time": "2022-03-11T06:40:14.644Z"
   },
   {
    "duration": 11,
    "start_time": "2022-03-11T06:40:14.654Z"
   },
   {
    "duration": 9,
    "start_time": "2022-03-11T06:40:14.667Z"
   },
   {
    "duration": 571,
    "start_time": "2022-03-11T06:40:14.679Z"
   },
   {
    "duration": 376,
    "start_time": "2022-03-11T06:40:15.252Z"
   },
   {
    "duration": 350,
    "start_time": "2022-03-11T06:40:15.633Z"
   },
   {
    "duration": 513,
    "start_time": "2022-03-11T06:40:15.986Z"
   },
   {
    "duration": 8,
    "start_time": "2022-03-11T06:40:16.502Z"
   },
   {
    "duration": 28,
    "start_time": "2022-03-11T06:40:16.513Z"
   },
   {
    "duration": 6,
    "start_time": "2022-03-11T06:40:16.548Z"
   },
   {
    "duration": 370,
    "start_time": "2022-03-11T06:40:16.557Z"
   },
   {
    "duration": 529,
    "start_time": "2022-03-11T06:40:16.933Z"
   },
   {
    "duration": 17,
    "start_time": "2022-03-11T06:40:17.464Z"
   },
   {
    "duration": 441,
    "start_time": "2022-03-11T06:40:17.483Z"
   },
   {
    "duration": 10,
    "start_time": "2022-03-11T06:40:17.926Z"
   },
   {
    "duration": 477,
    "start_time": "2022-03-11T06:40:17.938Z"
   },
   {
    "duration": 18,
    "start_time": "2022-03-11T06:40:18.418Z"
   },
   {
    "duration": 7,
    "start_time": "2022-03-11T06:40:18.438Z"
   },
   {
    "duration": 11,
    "start_time": "2022-03-11T06:40:18.448Z"
   },
   {
    "duration": 10,
    "start_time": "2022-03-11T06:40:18.461Z"
   },
   {
    "duration": 464,
    "start_time": "2022-03-11T06:40:18.474Z"
   },
   {
    "duration": 26,
    "start_time": "2022-03-11T06:40:18.940Z"
   },
   {
    "duration": 5,
    "start_time": "2022-03-11T06:40:18.969Z"
   },
   {
    "duration": 14,
    "start_time": "2022-03-11T06:40:18.976Z"
   },
   {
    "duration": 50,
    "start_time": "2022-03-11T06:40:18.992Z"
   },
   {
    "duration": 11,
    "start_time": "2022-03-11T06:40:19.045Z"
   },
   {
    "duration": 10,
    "start_time": "2022-03-11T06:40:19.059Z"
   },
   {
    "duration": 18,
    "start_time": "2022-03-11T06:40:19.072Z"
   },
   {
    "duration": 106,
    "start_time": "2022-03-11T06:51:26.651Z"
   },
   {
    "duration": 1642,
    "start_time": "2022-03-11T08:33:33.755Z"
   },
   {
    "duration": 3,
    "start_time": "2022-03-11T08:33:35.400Z"
   },
   {
    "duration": 39,
    "start_time": "2022-03-11T08:33:35.407Z"
   },
   {
    "duration": 9,
    "start_time": "2022-03-11T08:33:35.449Z"
   },
   {
    "duration": 19,
    "start_time": "2022-03-11T08:33:35.461Z"
   },
   {
    "duration": 304,
    "start_time": "2022-03-11T08:33:35.482Z"
   },
   {
    "duration": 19,
    "start_time": "2022-03-11T08:33:35.789Z"
   },
   {
    "duration": 280,
    "start_time": "2022-03-11T08:33:35.833Z"
   },
   {
    "duration": 23,
    "start_time": "2022-03-11T08:33:36.118Z"
   },
   {
    "duration": 45,
    "start_time": "2022-03-11T08:33:36.144Z"
   },
   {
    "duration": 18,
    "start_time": "2022-03-11T08:33:36.192Z"
   },
   {
    "duration": 13,
    "start_time": "2022-03-11T08:33:36.213Z"
   },
   {
    "duration": 24,
    "start_time": "2022-03-11T08:33:36.229Z"
   },
   {
    "duration": 11,
    "start_time": "2022-03-11T08:33:36.255Z"
   },
   {
    "duration": 14,
    "start_time": "2022-03-11T08:33:36.268Z"
   },
   {
    "duration": 12,
    "start_time": "2022-03-11T08:33:36.285Z"
   },
   {
    "duration": 689,
    "start_time": "2022-03-11T08:33:36.299Z"
   },
   {
    "duration": 381,
    "start_time": "2022-03-11T08:33:36.990Z"
   },
   {
    "duration": 377,
    "start_time": "2022-03-11T08:33:37.374Z"
   },
   {
    "duration": 482,
    "start_time": "2022-03-11T08:33:37.753Z"
   },
   {
    "duration": 10,
    "start_time": "2022-03-11T08:33:38.239Z"
   },
   {
    "duration": 14,
    "start_time": "2022-03-11T08:33:38.252Z"
   },
   {
    "duration": 6,
    "start_time": "2022-03-11T08:33:38.271Z"
   },
   {
    "duration": 419,
    "start_time": "2022-03-11T08:33:38.279Z"
   },
   {
    "duration": 507,
    "start_time": "2022-03-11T08:33:38.701Z"
   },
   {
    "duration": 26,
    "start_time": "2022-03-11T08:33:39.211Z"
   },
   {
    "duration": 378,
    "start_time": "2022-03-11T08:33:39.239Z"
   },
   {
    "duration": 14,
    "start_time": "2022-03-11T08:33:39.619Z"
   },
   {
    "duration": 491,
    "start_time": "2022-03-11T08:33:39.636Z"
   },
   {
    "duration": 14,
    "start_time": "2022-03-11T08:33:40.133Z"
   },
   {
    "duration": 7,
    "start_time": "2022-03-11T08:33:40.149Z"
   },
   {
    "duration": 10,
    "start_time": "2022-03-11T08:33:40.158Z"
   },
   {
    "duration": 11,
    "start_time": "2022-03-11T08:33:40.170Z"
   },
   {
    "duration": 515,
    "start_time": "2022-03-11T08:33:40.183Z"
   },
   {
    "duration": 38,
    "start_time": "2022-03-11T08:33:40.701Z"
   },
   {
    "duration": 5,
    "start_time": "2022-03-11T08:33:40.741Z"
   },
   {
    "duration": 15,
    "start_time": "2022-03-11T08:33:40.749Z"
   },
   {
    "duration": 15,
    "start_time": "2022-03-11T08:33:40.766Z"
   },
   {
    "duration": 11,
    "start_time": "2022-03-11T08:33:40.784Z"
   },
   {
    "duration": 9,
    "start_time": "2022-03-11T08:33:40.833Z"
   },
   {
    "duration": 19,
    "start_time": "2022-03-11T08:33:40.844Z"
   }
  ],
  "kernelspec": {
   "display_name": "Python 3 (ipykernel)",
   "language": "python",
   "name": "python3"
  },
  "language_info": {
   "codemirror_mode": {
    "name": "ipython",
    "version": 3
   },
   "file_extension": ".py",
   "mimetype": "text/x-python",
   "name": "python",
   "nbconvert_exporter": "python",
   "pygments_lexer": "ipython3",
   "version": "3.9.6"
  },
  "toc": {
   "base_numbering": 1,
   "nav_menu": {},
   "number_sections": true,
   "sideBar": true,
   "skip_h1_title": true,
   "title_cell": "Содержание",
   "title_sidebar": "Contents",
   "toc_cell": true,
   "toc_position": {},
   "toc_section_display": true,
   "toc_window_display": false
  }
 },
 "nbformat": 4,
 "nbformat_minor": 2
}
