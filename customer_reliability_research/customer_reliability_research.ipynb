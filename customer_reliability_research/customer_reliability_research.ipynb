{
 "cells": [
  {
   "cell_type": "markdown",
   "metadata": {
    "toc": true
   },
   "source": [
    "<h1>Содержание<span class=\"tocSkip\"></span></h1>\n",
    "<div class=\"toc\"><ul class=\"toc-item\"><li><span><a data-toc-modified-id=\"Шаг-1.-Файл-с-данными-и-общая-информация-1\"><span class=\"toc-item-num\">1&nbsp;&nbsp;</span>Шаг 1. Файл с данными и общая информация</a></span></li><li><span><a data-toc-modified-id=\"Шаг-2.-Предобработка-данных-2\"><span class=\"toc-item-num\">2&nbsp;&nbsp;</span>Шаг 2. Предобработка данных</a></span><ul class=\"toc-item\"><li><span><a data-toc-modified-id=\"Обработка-пропусков-2.1\"><span class=\"toc-item-num\">2.1&nbsp;&nbsp;</span>Обработка пропусков</a></span></li><li><span><a data-toc-modified-id=\"Замена-типа-данных-2.2\"><span class=\"toc-item-num\">2.2&nbsp;&nbsp;</span>Замена типа данных</a></span></li><li><span><a data-toc-modified-id=\"Обработка-дубликатов-2.3\"><span class=\"toc-item-num\">2.3&nbsp;&nbsp;</span>Обработка дубликатов</a></span></li><li><span><a data-toc-modified-id=\"Лемматизация-2.4\"><span class=\"toc-item-num\">2.4&nbsp;&nbsp;</span>Лемматизация</a></span></li><li><span><a data-toc-modified-id=\"Категоризация-данных-2.5\"><span class=\"toc-item-num\">2.5&nbsp;&nbsp;</span>Категоризация данных</a></span></li></ul></li><li><span><a data-toc-modified-id=\"Шаг-3.-Ответы-на-вопросы-3\"><span class=\"toc-item-num\">3&nbsp;&nbsp;</span>Шаг 3. Ответы на вопросы</a></span></li><li><span><a data-toc-modified-id=\"Шаг-4.-Общий-вывод-4\"><span class=\"toc-item-num\">4&nbsp;&nbsp;</span>Шаг 4. Общий вывод</a></span><ul class=\"toc-item\"><li><span><a data-toc-modified-id=\"Зависимость-просрочек-по-кредиту-от-количества-детей.-4.1\"><span class=\"toc-item-num\">4.1&nbsp;&nbsp;</span>Зависимость просрочек по кредиту от количества детей.</a></span></li><li><span><a data-toc-modified-id=\"Зависимость-просрочек-от-семейного-статуса.-4.2\"><span class=\"toc-item-num\">4.2&nbsp;&nbsp;</span>Зависимость просрочек от семейного статуса.</a></span></li><li><span><a data-toc-modified-id=\"Зависимость-просрочек-от-уровня-доходов.-4.3\"><span class=\"toc-item-num\">4.3&nbsp;&nbsp;</span>Зависимость просрочек от уровня доходов.</a></span></li><li><span><a data-toc-modified-id=\"Зависимость-просрочек-от-целей-кредита.-4.4\"><span class=\"toc-item-num\">4.4&nbsp;&nbsp;</span>Зависимость просрочек от целей кредита.</a></span></li><li><span><a data-toc-modified-id=\"Общий-вывод.-4.5\"><span class=\"toc-item-num\">4.5&nbsp;&nbsp;</span>Общий вывод.</a></span></li><li><span><a data-toc-modified-id=\"Рекомендации.-4.6\"><span class=\"toc-item-num\">4.6&nbsp;&nbsp;</span>Рекомендации.</a></span></li></ul></li></ul></div>"
   ]
  },
  {
   "cell_type": "markdown",
   "metadata": {},
   "source": [
    "# Исследование надёжности заёмщиков\n",
    "\n",
    "Заказчик — кредитный отдел банка. Нужно разобраться, влияет ли семейное положение и количество детей клиента на факт погашения кредита в срок. Входные данные от банка — статистика о платёжеспособности клиентов.\n",
    "\n",
    "Результаты исследования будут учтены при построении модели **кредитного скоринга** — специальной системы, которая оценивает способность потенциального заёмщика вернуть кредит банку."
   ]
  },
  {
   "cell_type": "markdown",
   "metadata": {},
   "source": [
    "## Шаг 1. Файл с данными и общая информация"
   ]
  },
  {
   "cell_type": "code",
   "execution_count": 2,
   "metadata": {},
   "outputs": [],
   "source": [
    "import pandas as pd\n",
    "\n",
    "df = pd.read_csv('/datasets/data.csv')"
   ]
  },
  {
   "cell_type": "code",
   "execution_count": 3,
   "metadata": {},
   "outputs": [],
   "source": [
    "from pymystem3 import Mystem\n",
    "from collections import Counter"
   ]
  },
  {
   "cell_type": "code",
   "execution_count": 3,
   "metadata": {},
   "outputs": [
    {
     "data": {
      "text/html": [
       "<div>\n",
       "<style scoped>\n",
       "    .dataframe tbody tr th:only-of-type {\n",
       "        vertical-align: middle;\n",
       "    }\n",
       "\n",
       "    .dataframe tbody tr th {\n",
       "        vertical-align: top;\n",
       "    }\n",
       "\n",
       "    .dataframe thead th {\n",
       "        text-align: right;\n",
       "    }\n",
       "</style>\n",
       "<table border=\"1\" class=\"dataframe\">\n",
       "  <thead>\n",
       "    <tr style=\"text-align: right;\">\n",
       "      <th></th>\n",
       "      <th>children</th>\n",
       "      <th>days_employed</th>\n",
       "      <th>dob_years</th>\n",
       "      <th>education</th>\n",
       "      <th>education_id</th>\n",
       "      <th>family_status</th>\n",
       "      <th>family_status_id</th>\n",
       "      <th>gender</th>\n",
       "      <th>income_type</th>\n",
       "      <th>debt</th>\n",
       "      <th>total_income</th>\n",
       "      <th>purpose</th>\n",
       "    </tr>\n",
       "  </thead>\n",
       "  <tbody>\n",
       "    <tr>\n",
       "      <td>0</td>\n",
       "      <td>1</td>\n",
       "      <td>-8437.673028</td>\n",
       "      <td>42</td>\n",
       "      <td>высшее</td>\n",
       "      <td>0</td>\n",
       "      <td>женат / замужем</td>\n",
       "      <td>0</td>\n",
       "      <td>F</td>\n",
       "      <td>сотрудник</td>\n",
       "      <td>0</td>\n",
       "      <td>253875.639453</td>\n",
       "      <td>покупка жилья</td>\n",
       "    </tr>\n",
       "    <tr>\n",
       "      <td>1</td>\n",
       "      <td>1</td>\n",
       "      <td>-4024.803754</td>\n",
       "      <td>36</td>\n",
       "      <td>среднее</td>\n",
       "      <td>1</td>\n",
       "      <td>женат / замужем</td>\n",
       "      <td>0</td>\n",
       "      <td>F</td>\n",
       "      <td>сотрудник</td>\n",
       "      <td>0</td>\n",
       "      <td>112080.014102</td>\n",
       "      <td>приобретение автомобиля</td>\n",
       "    </tr>\n",
       "    <tr>\n",
       "      <td>2</td>\n",
       "      <td>0</td>\n",
       "      <td>-5623.422610</td>\n",
       "      <td>33</td>\n",
       "      <td>Среднее</td>\n",
       "      <td>1</td>\n",
       "      <td>женат / замужем</td>\n",
       "      <td>0</td>\n",
       "      <td>M</td>\n",
       "      <td>сотрудник</td>\n",
       "      <td>0</td>\n",
       "      <td>145885.952297</td>\n",
       "      <td>покупка жилья</td>\n",
       "    </tr>\n",
       "    <tr>\n",
       "      <td>3</td>\n",
       "      <td>3</td>\n",
       "      <td>-4124.747207</td>\n",
       "      <td>32</td>\n",
       "      <td>среднее</td>\n",
       "      <td>1</td>\n",
       "      <td>женат / замужем</td>\n",
       "      <td>0</td>\n",
       "      <td>M</td>\n",
       "      <td>сотрудник</td>\n",
       "      <td>0</td>\n",
       "      <td>267628.550329</td>\n",
       "      <td>дополнительное образование</td>\n",
       "    </tr>\n",
       "    <tr>\n",
       "      <td>4</td>\n",
       "      <td>0</td>\n",
       "      <td>340266.072047</td>\n",
       "      <td>53</td>\n",
       "      <td>среднее</td>\n",
       "      <td>1</td>\n",
       "      <td>гражданский брак</td>\n",
       "      <td>1</td>\n",
       "      <td>F</td>\n",
       "      <td>пенсионер</td>\n",
       "      <td>0</td>\n",
       "      <td>158616.077870</td>\n",
       "      <td>сыграть свадьбу</td>\n",
       "    </tr>\n",
       "  </tbody>\n",
       "</table>\n",
       "</div>"
      ],
      "text/plain": [
       "   children  days_employed  dob_years education  education_id  \\\n",
       "0         1   -8437.673028         42    высшее             0   \n",
       "1         1   -4024.803754         36   среднее             1   \n",
       "2         0   -5623.422610         33   Среднее             1   \n",
       "3         3   -4124.747207         32   среднее             1   \n",
       "4         0  340266.072047         53   среднее             1   \n",
       "\n",
       "      family_status  family_status_id gender income_type  debt   total_income  \\\n",
       "0   женат / замужем                 0      F   сотрудник     0  253875.639453   \n",
       "1   женат / замужем                 0      F   сотрудник     0  112080.014102   \n",
       "2   женат / замужем                 0      M   сотрудник     0  145885.952297   \n",
       "3   женат / замужем                 0      M   сотрудник     0  267628.550329   \n",
       "4  гражданский брак                 1      F   пенсионер     0  158616.077870   \n",
       "\n",
       "                      purpose  \n",
       "0               покупка жилья  \n",
       "1     приобретение автомобиля  \n",
       "2               покупка жилья  \n",
       "3  дополнительное образование  \n",
       "4             сыграть свадьбу  "
      ]
     },
     "execution_count": 3,
     "metadata": {},
     "output_type": "execute_result"
    }
   ],
   "source": [
    "#Первый взгляд на содержание\n",
    "df.head()"
   ]
  },
  {
   "cell_type": "code",
   "execution_count": 4,
   "metadata": {},
   "outputs": [
    {
     "name": "stdout",
     "output_type": "stream",
     "text": [
      "<class 'pandas.core.frame.DataFrame'>\n",
      "RangeIndex: 21525 entries, 0 to 21524\n",
      "Data columns (total 12 columns):\n",
      "children            21525 non-null int64\n",
      "days_employed       19351 non-null float64\n",
      "dob_years           21525 non-null int64\n",
      "education           21525 non-null object\n",
      "education_id        21525 non-null int64\n",
      "family_status       21525 non-null object\n",
      "family_status_id    21525 non-null int64\n",
      "gender              21525 non-null object\n",
      "income_type         21525 non-null object\n",
      "debt                21525 non-null int64\n",
      "total_income        19351 non-null float64\n",
      "purpose             21525 non-null object\n",
      "dtypes: float64(2), int64(5), object(5)\n",
      "memory usage: 2.0+ MB\n"
     ]
    }
   ],
   "source": [
    "#Общая информация о всем датасете\n",
    "df.info()"
   ]
  },
  {
   "cell_type": "code",
   "execution_count": 5,
   "metadata": {},
   "outputs": [
    {
     "data": {
      "text/plain": [
       "15906"
      ]
     },
     "execution_count": 5,
     "metadata": {},
     "output_type": "execute_result"
    }
   ],
   "source": [
    "#Подсчитываем отрицательные значения в стаже\n",
    "df.loc[df['days_employed'] < 0]['days_employed'].count()"
   ]
  },
  {
   "cell_type": "code",
   "execution_count": 6,
   "metadata": {},
   "outputs": [
    {
     "data": {
      "text/plain": [
       "0"
      ]
     },
     "execution_count": 6,
     "metadata": {},
     "output_type": "execute_result"
    }
   ],
   "source": [
    "#В столбце со стажем и доходе одинаковое количество пропусков. \n",
    "#Проверяем в одних и тех же строках или нет.\n",
    "df.loc[df['days_employed'].isna()]['total_income'].count()"
   ]
  },
  {
   "cell_type": "code",
   "execution_count": 7,
   "metadata": {},
   "outputs": [
    {
     "data": {
      "text/plain": [
       "0"
      ]
     },
     "execution_count": 7,
     "metadata": {},
     "output_type": "execute_result"
    }
   ],
   "source": [
    "#В обратную сторону для контроля\n",
    "df.loc[df['total_income'].isna()]['days_employed'].count()"
   ]
  },
  {
   "cell_type": "code",
   "execution_count": 8,
   "metadata": {},
   "outputs": [
    {
     "data": {
      "text/plain": [
       "children                           0\n",
       "days_employed                    NaN\n",
       "dob_years                         65\n",
       "education                    среднее\n",
       "education_id                       1\n",
       "family_status       гражданский брак\n",
       "family_status_id                   1\n",
       "gender                             M\n",
       "income_type                пенсионер\n",
       "debt                               0\n",
       "total_income                     NaN\n",
       "purpose              сыграть свадьбу\n",
       "Name: 12, dtype: object"
      ]
     },
     "execution_count": 8,
     "metadata": {},
     "output_type": "execute_result"
    }
   ],
   "source": [
    "#Пример строки с пропуском в стаже и доходе\n",
    "df.loc[12]"
   ]
  },
  {
   "cell_type": "code",
   "execution_count": 9,
   "metadata": {},
   "outputs": [
    {
     "data": {
      "text/plain": [
       "1    15233\n",
       "0     5260\n",
       "2      744\n",
       "3      282\n",
       "4        6\n",
       "Name: education_id, dtype: int64"
      ]
     },
     "execution_count": 9,
     "metadata": {},
     "output_type": "execute_result"
    }
   ],
   "source": [
    "#Посмотрим сколько и каких категорий образования есть в датасете\n",
    "df['education_id'].value_counts()"
   ]
  },
  {
   "cell_type": "code",
   "execution_count": 10,
   "metadata": {},
   "outputs": [
    {
     "data": {
      "text/plain": [
       "среднее                13750\n",
       "высшее                  4718\n",
       "СРЕДНЕЕ                  772\n",
       "Среднее                  711\n",
       "неоконченное высшее      668\n",
       "ВЫСШЕЕ                   274\n",
       "Высшее                   268\n",
       "начальное                250\n",
       "Неоконченное высшее       47\n",
       "НЕОКОНЧЕННОЕ ВЫСШЕЕ       29\n",
       "НАЧАЛЬНОЕ                 17\n",
       "Начальное                 15\n",
       "ученая степень             4\n",
       "Ученая степень             1\n",
       "УЧЕНАЯ СТЕПЕНЬ             1\n",
       "Name: education, dtype: int64"
      ]
     },
     "execution_count": 10,
     "metadata": {},
     "output_type": "execute_result"
    }
   ],
   "source": [
    "df['education'].value_counts()"
   ]
  },
  {
   "cell_type": "code",
   "execution_count": 11,
   "metadata": {},
   "outputs": [
    {
     "data": {
      "text/plain": [
       "0    12380\n",
       "1     4177\n",
       "4     2813\n",
       "3     1195\n",
       "2      960\n",
       "Name: family_status_id, dtype: int64"
      ]
     },
     "execution_count": 11,
     "metadata": {},
     "output_type": "execute_result"
    }
   ],
   "source": [
    "#Смотрим какие есть категории социального статуса\n",
    "df['family_status_id'].value_counts()"
   ]
  },
  {
   "cell_type": "code",
   "execution_count": 12,
   "metadata": {},
   "outputs": [
    {
     "data": {
      "text/plain": [
       "женат / замужем          12380\n",
       "гражданский брак          4177\n",
       "Не женат / не замужем     2813\n",
       "в разводе                 1195\n",
       "вдовец / вдова             960\n",
       "Name: family_status, dtype: int64"
      ]
     },
     "execution_count": 12,
     "metadata": {},
     "output_type": "execute_result"
    }
   ],
   "source": [
    "df['family_status'].value_counts()"
   ]
  },
  {
   "cell_type": "code",
   "execution_count": 13,
   "metadata": {},
   "outputs": [
    {
     "data": {
      "text/plain": [
       " 0     14149\n",
       " 1      4818\n",
       " 2      2055\n",
       " 3       330\n",
       " 20       76\n",
       "-1        47\n",
       " 4        41\n",
       " 5         9\n",
       "Name: children, dtype: int64"
      ]
     },
     "execution_count": 13,
     "metadata": {},
     "output_type": "execute_result"
    }
   ],
   "source": [
    "#Проверяем данные о детях\n",
    "df['children'].value_counts()"
   ]
  },
  {
   "cell_type": "code",
   "execution_count": 14,
   "metadata": {},
   "outputs": [
    {
     "data": {
      "text/plain": [
       "array([42, 36, 33, 32, 53, 27, 43, 50, 35, 41, 40, 65, 54, 56, 26, 48, 24,\n",
       "       21, 57, 67, 28, 63, 62, 47, 34, 68, 25, 31, 30, 20, 49, 37, 45, 61,\n",
       "       64, 44, 52, 46, 23, 38, 39, 51,  0, 59, 29, 60, 55, 58, 71, 22, 73,\n",
       "       66, 69, 19, 72, 70, 74, 75])"
      ]
     },
     "execution_count": 14,
     "metadata": {},
     "output_type": "execute_result"
    }
   ],
   "source": [
    "#Проверяем информацию о возрасте\n",
    "df['dob_years'].unique()"
   ]
  },
  {
   "cell_type": "code",
   "execution_count": 15,
   "metadata": {},
   "outputs": [
    {
     "data": {
      "text/plain": [
       "101"
      ]
     },
     "execution_count": 15,
     "metadata": {},
     "output_type": "execute_result"
    }
   ],
   "source": [
    "#Проверим сколько есть заемщиков с нулевым возрастом\n",
    "df.loc[df['dob_years'] == 0]['dob_years'].count()"
   ]
  },
  {
   "cell_type": "code",
   "execution_count": 16,
   "metadata": {},
   "outputs": [
    {
     "data": {
      "text/plain": [
       "F      14236\n",
       "M       7288\n",
       "XNA        1\n",
       "Name: gender, dtype: int64"
      ]
     },
     "execution_count": 16,
     "metadata": {},
     "output_type": "execute_result"
    }
   ],
   "source": [
    "#Проверим данные о поле\n",
    "df['gender'].value_counts()"
   ]
  },
  {
   "cell_type": "code",
   "execution_count": 17,
   "metadata": {},
   "outputs": [
    {
     "data": {
      "text/html": [
       "<div>\n",
       "<style scoped>\n",
       "    .dataframe tbody tr th:only-of-type {\n",
       "        vertical-align: middle;\n",
       "    }\n",
       "\n",
       "    .dataframe tbody tr th {\n",
       "        vertical-align: top;\n",
       "    }\n",
       "\n",
       "    .dataframe thead th {\n",
       "        text-align: right;\n",
       "    }\n",
       "</style>\n",
       "<table border=\"1\" class=\"dataframe\">\n",
       "  <thead>\n",
       "    <tr style=\"text-align: right;\">\n",
       "      <th></th>\n",
       "      <th>children</th>\n",
       "      <th>days_employed</th>\n",
       "      <th>dob_years</th>\n",
       "      <th>education</th>\n",
       "      <th>education_id</th>\n",
       "      <th>family_status</th>\n",
       "      <th>family_status_id</th>\n",
       "      <th>gender</th>\n",
       "      <th>income_type</th>\n",
       "      <th>debt</th>\n",
       "      <th>total_income</th>\n",
       "      <th>purpose</th>\n",
       "    </tr>\n",
       "  </thead>\n",
       "  <tbody>\n",
       "    <tr>\n",
       "      <td>10701</td>\n",
       "      <td>0</td>\n",
       "      <td>-2358.600502</td>\n",
       "      <td>24</td>\n",
       "      <td>неоконченное высшее</td>\n",
       "      <td>2</td>\n",
       "      <td>гражданский брак</td>\n",
       "      <td>1</td>\n",
       "      <td>XNA</td>\n",
       "      <td>компаньон</td>\n",
       "      <td>0</td>\n",
       "      <td>203905.157261</td>\n",
       "      <td>покупка недвижимости</td>\n",
       "    </tr>\n",
       "  </tbody>\n",
       "</table>\n",
       "</div>"
      ],
      "text/plain": [
       "       children  days_employed  dob_years            education  education_id  \\\n",
       "10701         0   -2358.600502         24  неоконченное высшее             2   \n",
       "\n",
       "          family_status  family_status_id gender income_type  debt  \\\n",
       "10701  гражданский брак                 1    XNA   компаньон     0   \n",
       "\n",
       "        total_income               purpose  \n",
       "10701  203905.157261  покупка недвижимости  "
      ]
     },
     "execution_count": 17,
     "metadata": {},
     "output_type": "execute_result"
    }
   ],
   "source": [
    "#Возможно информация о поле есть в других столбцах?\n",
    "df.loc[df['gender'] == 'XNA']"
   ]
  },
  {
   "cell_type": "code",
   "execution_count": 18,
   "metadata": {},
   "outputs": [
    {
     "data": {
      "text/plain": [
       "сотрудник          11119\n",
       "компаньон           5085\n",
       "пенсионер           3856\n",
       "госслужащий         1459\n",
       "безработный            2\n",
       "предприниматель        2\n",
       "в декрете              1\n",
       "студент                1\n",
       "Name: income_type, dtype: int64"
      ]
     },
     "execution_count": 18,
     "metadata": {},
     "output_type": "execute_result"
    }
   ],
   "source": [
    "#Проверяем данные об источниках дохода\n",
    "df['income_type'].value_counts()"
   ]
  },
  {
   "cell_type": "code",
   "execution_count": 19,
   "metadata": {},
   "outputs": [
    {
     "data": {
      "text/plain": [
       "0    19784\n",
       "1     1741\n",
       "Name: debt, dtype: int64"
      ]
     },
     "execution_count": 19,
     "metadata": {},
     "output_type": "execute_result"
    }
   ],
   "source": [
    "#Проверяем данные о просрочке\n",
    "df['debt'].value_counts()"
   ]
  },
  {
   "cell_type": "code",
   "execution_count": 20,
   "metadata": {},
   "outputs": [
    {
     "data": {
      "text/plain": [
       "14585    20667.263793\n",
       "13006    21205.280566\n",
       "16174    21367.648356\n",
       "1598     21695.101789\n",
       "14276    21895.614355\n",
       "             ...     \n",
       "21489             NaN\n",
       "21495             NaN\n",
       "21497             NaN\n",
       "21502             NaN\n",
       "21510             NaN\n",
       "Name: total_income, Length: 21525, dtype: float64"
      ]
     },
     "execution_count": 20,
     "metadata": {},
     "output_type": "execute_result"
    }
   ],
   "source": [
    "#Проверяем данные о доходах\n",
    "df.sort_values(by='total_income')['total_income']"
   ]
  },
  {
   "cell_type": "code",
   "execution_count": 21,
   "metadata": {},
   "outputs": [
    {
     "data": {
      "text/plain": [
       "свадьба                                   797\n",
       "на проведение свадьбы                     777\n",
       "сыграть свадьбу                           774\n",
       "операции с недвижимостью                  676\n",
       "покупка коммерческой недвижимости         664\n",
       "операции с жильем                         653\n",
       "покупка жилья для сдачи                   653\n",
       "операции с коммерческой недвижимостью     651\n",
       "жилье                                     647\n",
       "покупка жилья                             647\n",
       "покупка жилья для семьи                   641\n",
       "строительство собственной недвижимости    635\n",
       "недвижимость                              634\n",
       "операции со своей недвижимостью           630\n",
       "строительство жилой недвижимости          626\n",
       "покупка недвижимости                      624\n",
       "покупка своего жилья                      620\n",
       "строительство недвижимости                620\n",
       "ремонт жилью                              612\n",
       "покупка жилой недвижимости                607\n",
       "на покупку своего автомобиля              505\n",
       "заняться высшим образованием              496\n",
       "автомобиль                                495\n",
       "сделка с подержанным автомобилем          489\n",
       "свой автомобиль                           480\n",
       "на покупку подержанного автомобиля        479\n",
       "автомобили                                478\n",
       "на покупку автомобиля                     472\n",
       "приобретение автомобиля                   462\n",
       "дополнительное образование                462\n",
       "сделка с автомобилем                      455\n",
       "высшее образование                        453\n",
       "получение дополнительного образования     447\n",
       "образование                               447\n",
       "получение образования                     443\n",
       "профильное образование                    436\n",
       "получение высшего образования             426\n",
       "заняться образованием                     412\n",
       "Name: purpose, dtype: int64"
      ]
     },
     "execution_count": 21,
     "metadata": {},
     "output_type": "execute_result"
    }
   ],
   "source": [
    "#Проверяем данные о целях кредита\n",
    "df['purpose'].value_counts()"
   ]
  },
  {
   "cell_type": "markdown",
   "metadata": {},
   "source": [
    "**Вывод**"
   ]
  },
  {
   "cell_type": "markdown",
   "metadata": {},
   "source": [
    "В наборе данных есть пропуски в стаже и доходе. Это одни и те же строки. В целом выглядить как технический сбой или ошибка при заполнении заявки на кредит (возможно неверные формы и т.п.)\n",
    "Пропуски в стаже не критичны и можно оставить как есть или заполнить средними значениями.\n",
    "Пропуски в уровне дохода надо будет заполнять медианными значениями, т.к. они учавствуют в целях исследования. Для более глубокого анализа, конечно нужно попытаться заполнить их средними значениями по каким-то категориям, т.к. это 10% от всей выборки.\n",
    " \n",
    "В наборе данных есть неверные значения - например отрицательный стаж в 15906 строках, это 74% выборки. На цели исследования это не влияет, столбец можно оставить как есть, удалить или попытаться построить дни в зависимости от возраста на основе оставшихся данных, но в целом лучше запросить новую выборку у тех кто делал выгрузку из БД, т.к. тут явно техническая ошибка.\n",
    " \n",
    "Есть сопоставление строковых значений категории \"образование\" числовым категориям, но строковых значений больше, необходимо все приводить к единому описанию и отдельно исследовать на наличие ошибок присвоения верной числовой категории, если влияние образования будет входить в цели исследования\n",
    " \n",
    "Для категории социального статуса количество строковых категорий соответсвует числовым, в целом так же можно проверить на наличие ошибочных присвоений числовых категорий строковым.\n",
    " \n",
    "В колонке \"дети\" похоже есть аномалии в 20 детей и отрицательные значение, их очень мало относительно всей выборки (окло 0.6%). Можно просто удалить эти строки.\n",
    " \n",
    "В колонке \"возраст\" есть заемщики с нулевым возрастом. Можно оставить как есть (не влияет на цели исследования) или просто удалить, т.к. их очень малый процент. Если смотреть глубже, то можно посмотреть в какие категории по другим полям они попадают и заменить нули средними возрастами по схожим категориям (средний возраст с определенным уровнем дохода или стажа, например)\n",
    " \n",
    "Один заемщик имеет явно опечатку в графе \"Пол\" -XNA. В других графах нет информации для гипотез о поле, поэтому можно просто удалить, т.к. одна строка не окажет заметного вличния на результаты исследования.\n",
    " \n",
    "Данные о типе дохода для категорий \"безработный, предприниматель, в декрете, студент\" в целом не относятся к цели исследованиях, но их явно недостаточно для построения скоринговых систем. В данном случае можно оставить как есть, но для скоринга можно удалить совсем, либо часть приравнять к более крупным категориям. Например, предпринимателя можно приравнять к компаньонам.\n",
    " \n",
    "Данные по наличию задолженности есть у каждого заемщика, столбец не нуждается в корректировках\n",
    " \n",
    "В столбце дохода нужно будет избавиться только от пропусков, нулевых сумм доходов не наблюдается\n",
    " \n",
    "В целях все выглядит разумно: свядьба, недвижимость (жилье, коммерческое), авто, образование. Не видно никаих аномалий. Нужно будет привести к единому виду. Но для целей нашего исследования это не важно.\n",
    " \n",
    "ПС: В дальнейшем, при построении скориноговых матриц, нужно будет учитывать соответсвие связи цели кредита и данных заемщика, и в целом проверять данные на непротиворечивость. Так например земщик состоящий в браке не должен брать кредит на свадьбу и т.п."
   ]
  },
  {
   "cell_type": "markdown",
   "metadata": {},
   "source": [
    "## Шаг 2. Предобработка данных"
   ]
  },
  {
   "cell_type": "markdown",
   "metadata": {},
   "source": [
    "### Обработка пропусков"
   ]
  },
  {
   "cell_type": "code",
   "execution_count": 22,
   "metadata": {},
   "outputs": [],
   "source": [
    "#Пропуски есть только в полях стажа и дохода\n",
    "#Стаж не относится к целям исследования, можно заполнить чем угодно, например нулями\n",
    "#Среднее и медиана не очень подходят, т.к. моного отрицатеьлных значений стажа\n",
    "#Т.к. значение стажа в днях в дальнейшем можно привести к типу int, поэтому сразу заполним 0\n",
    "df['days_employed'] = df['days_employed'].fillna(0)"
   ]
  },
  {
   "cell_type": "code",
   "execution_count": 23,
   "metadata": {},
   "outputs": [
    {
     "data": {
      "text/html": [
       "<div>\n",
       "<style scoped>\n",
       "    .dataframe tbody tr th:only-of-type {\n",
       "        vertical-align: middle;\n",
       "    }\n",
       "\n",
       "    .dataframe tbody tr th {\n",
       "        vertical-align: top;\n",
       "    }\n",
       "\n",
       "    .dataframe thead th {\n",
       "        text-align: right;\n",
       "    }\n",
       "</style>\n",
       "<table border=\"1\" class=\"dataframe\">\n",
       "  <thead>\n",
       "    <tr style=\"text-align: right;\">\n",
       "      <th></th>\n",
       "      <th>children</th>\n",
       "      <th>days_employed</th>\n",
       "      <th>dob_years</th>\n",
       "      <th>education</th>\n",
       "      <th>education_id</th>\n",
       "      <th>family_status</th>\n",
       "      <th>family_status_id</th>\n",
       "      <th>gender</th>\n",
       "      <th>debt</th>\n",
       "      <th>total_income</th>\n",
       "      <th>purpose</th>\n",
       "    </tr>\n",
       "    <tr>\n",
       "      <th>income_type</th>\n",
       "      <th></th>\n",
       "      <th></th>\n",
       "      <th></th>\n",
       "      <th></th>\n",
       "      <th></th>\n",
       "      <th></th>\n",
       "      <th></th>\n",
       "      <th></th>\n",
       "      <th></th>\n",
       "      <th></th>\n",
       "      <th></th>\n",
       "    </tr>\n",
       "  </thead>\n",
       "  <tbody>\n",
       "    <tr>\n",
       "      <td>госслужащий</td>\n",
       "      <td>147</td>\n",
       "      <td>147</td>\n",
       "      <td>147</td>\n",
       "      <td>147</td>\n",
       "      <td>147</td>\n",
       "      <td>147</td>\n",
       "      <td>147</td>\n",
       "      <td>147</td>\n",
       "      <td>147</td>\n",
       "      <td>0</td>\n",
       "      <td>147</td>\n",
       "    </tr>\n",
       "    <tr>\n",
       "      <td>компаньон</td>\n",
       "      <td>508</td>\n",
       "      <td>508</td>\n",
       "      <td>508</td>\n",
       "      <td>508</td>\n",
       "      <td>508</td>\n",
       "      <td>508</td>\n",
       "      <td>508</td>\n",
       "      <td>508</td>\n",
       "      <td>508</td>\n",
       "      <td>0</td>\n",
       "      <td>508</td>\n",
       "    </tr>\n",
       "    <tr>\n",
       "      <td>пенсионер</td>\n",
       "      <td>413</td>\n",
       "      <td>413</td>\n",
       "      <td>413</td>\n",
       "      <td>413</td>\n",
       "      <td>413</td>\n",
       "      <td>413</td>\n",
       "      <td>413</td>\n",
       "      <td>413</td>\n",
       "      <td>413</td>\n",
       "      <td>0</td>\n",
       "      <td>413</td>\n",
       "    </tr>\n",
       "    <tr>\n",
       "      <td>предприниматель</td>\n",
       "      <td>1</td>\n",
       "      <td>1</td>\n",
       "      <td>1</td>\n",
       "      <td>1</td>\n",
       "      <td>1</td>\n",
       "      <td>1</td>\n",
       "      <td>1</td>\n",
       "      <td>1</td>\n",
       "      <td>1</td>\n",
       "      <td>0</td>\n",
       "      <td>1</td>\n",
       "    </tr>\n",
       "    <tr>\n",
       "      <td>сотрудник</td>\n",
       "      <td>1105</td>\n",
       "      <td>1105</td>\n",
       "      <td>1105</td>\n",
       "      <td>1105</td>\n",
       "      <td>1105</td>\n",
       "      <td>1105</td>\n",
       "      <td>1105</td>\n",
       "      <td>1105</td>\n",
       "      <td>1105</td>\n",
       "      <td>0</td>\n",
       "      <td>1105</td>\n",
       "    </tr>\n",
       "  </tbody>\n",
       "</table>\n",
       "</div>"
      ],
      "text/plain": [
       "                 children  days_employed  dob_years  education  education_id  \\\n",
       "income_type                                                                    \n",
       "госслужащий           147            147        147        147           147   \n",
       "компаньон             508            508        508        508           508   \n",
       "пенсионер             413            413        413        413           413   \n",
       "предприниматель         1              1          1          1             1   \n",
       "сотрудник            1105           1105       1105       1105          1105   \n",
       "\n",
       "                 family_status  family_status_id  gender  debt  total_income  \\\n",
       "income_type                                                                    \n",
       "госслужащий                147               147     147   147             0   \n",
       "компаньон                  508               508     508   508             0   \n",
       "пенсионер                  413               413     413   413             0   \n",
       "предприниматель              1                 1       1     1             0   \n",
       "сотрудник                 1105              1105    1105  1105             0   \n",
       "\n",
       "                 purpose  \n",
       "income_type               \n",
       "госслужащий          147  \n",
       "компаньон            508  \n",
       "пенсионер            413  \n",
       "предприниматель        1  \n",
       "сотрудник           1105  "
      ]
     },
     "execution_count": 23,
     "metadata": {},
     "output_type": "execute_result"
    }
   ],
   "source": [
    "#Пропуски в доходах заполним в зависимости от типов доходов (занятости)\n",
    "#Проверим сколько пропусков в каждой группе занятости\n",
    "df.loc[df['total_income'].isna()].groupby('income_type').count()"
   ]
  },
  {
   "cell_type": "code",
   "execution_count": 24,
   "metadata": {},
   "outputs": [
    {
     "data": {
      "text/html": [
       "<div>\n",
       "<style scoped>\n",
       "    .dataframe tbody tr th:only-of-type {\n",
       "        vertical-align: middle;\n",
       "    }\n",
       "\n",
       "    .dataframe tbody tr th {\n",
       "        vertical-align: top;\n",
       "    }\n",
       "\n",
       "    .dataframe thead th {\n",
       "        text-align: right;\n",
       "    }\n",
       "</style>\n",
       "<table border=\"1\" class=\"dataframe\">\n",
       "  <thead>\n",
       "    <tr style=\"text-align: right;\">\n",
       "      <th></th>\n",
       "      <th>count</th>\n",
       "      <th>min</th>\n",
       "      <th>max</th>\n",
       "      <th>mean</th>\n",
       "      <th>median</th>\n",
       "    </tr>\n",
       "    <tr>\n",
       "      <th>income_type</th>\n",
       "      <th></th>\n",
       "      <th></th>\n",
       "      <th></th>\n",
       "      <th></th>\n",
       "      <th></th>\n",
       "    </tr>\n",
       "  </thead>\n",
       "  <tbody>\n",
       "    <tr>\n",
       "      <td>безработный</td>\n",
       "      <td>2</td>\n",
       "      <td>59956.991984</td>\n",
       "      <td>2.027225e+05</td>\n",
       "      <td>131339.751676</td>\n",
       "      <td>131339.751676</td>\n",
       "    </tr>\n",
       "    <tr>\n",
       "      <td>в декрете</td>\n",
       "      <td>1</td>\n",
       "      <td>53829.130729</td>\n",
       "      <td>5.382913e+04</td>\n",
       "      <td>53829.130729</td>\n",
       "      <td>53829.130729</td>\n",
       "    </tr>\n",
       "    <tr>\n",
       "      <td>госслужащий</td>\n",
       "      <td>1312</td>\n",
       "      <td>29200.077193</td>\n",
       "      <td>9.104515e+05</td>\n",
       "      <td>170898.309923</td>\n",
       "      <td>150447.935283</td>\n",
       "    </tr>\n",
       "    <tr>\n",
       "      <td>компаньон</td>\n",
       "      <td>4577</td>\n",
       "      <td>28702.812889</td>\n",
       "      <td>2.265604e+06</td>\n",
       "      <td>202417.461462</td>\n",
       "      <td>172357.950966</td>\n",
       "    </tr>\n",
       "    <tr>\n",
       "      <td>пенсионер</td>\n",
       "      <td>3443</td>\n",
       "      <td>20667.263793</td>\n",
       "      <td>7.351033e+05</td>\n",
       "      <td>137127.465690</td>\n",
       "      <td>118514.486412</td>\n",
       "    </tr>\n",
       "    <tr>\n",
       "      <td>предприниматель</td>\n",
       "      <td>1</td>\n",
       "      <td>499163.144947</td>\n",
       "      <td>4.991631e+05</td>\n",
       "      <td>499163.144947</td>\n",
       "      <td>499163.144947</td>\n",
       "    </tr>\n",
       "    <tr>\n",
       "      <td>сотрудник</td>\n",
       "      <td>10014</td>\n",
       "      <td>21367.648356</td>\n",
       "      <td>1.726276e+06</td>\n",
       "      <td>161380.260488</td>\n",
       "      <td>142594.396847</td>\n",
       "    </tr>\n",
       "    <tr>\n",
       "      <td>студент</td>\n",
       "      <td>1</td>\n",
       "      <td>98201.625314</td>\n",
       "      <td>9.820163e+04</td>\n",
       "      <td>98201.625314</td>\n",
       "      <td>98201.625314</td>\n",
       "    </tr>\n",
       "  </tbody>\n",
       "</table>\n",
       "</div>"
      ],
      "text/plain": [
       "                 count            min           max           mean  \\\n",
       "income_type                                                          \n",
       "безработный          2   59956.991984  2.027225e+05  131339.751676   \n",
       "в декрете            1   53829.130729  5.382913e+04   53829.130729   \n",
       "госслужащий       1312   29200.077193  9.104515e+05  170898.309923   \n",
       "компаньон         4577   28702.812889  2.265604e+06  202417.461462   \n",
       "пенсионер         3443   20667.263793  7.351033e+05  137127.465690   \n",
       "предприниматель      1  499163.144947  4.991631e+05  499163.144947   \n",
       "сотрудник        10014   21367.648356  1.726276e+06  161380.260488   \n",
       "студент              1   98201.625314  9.820163e+04   98201.625314   \n",
       "\n",
       "                        median  \n",
       "income_type                     \n",
       "безработный      131339.751676  \n",
       "в декрете         53829.130729  \n",
       "госслужащий      150447.935283  \n",
       "компаньон        172357.950966  \n",
       "пенсионер        118514.486412  \n",
       "предприниматель  499163.144947  \n",
       "сотрудник        142594.396847  \n",
       "студент           98201.625314  "
      ]
     },
     "execution_count": 24,
     "metadata": {},
     "output_type": "execute_result"
    }
   ],
   "source": [
    "#Проверим какие характеристики уровня дохода есть по группам занятости\n",
    "income_type_group_stat = df.groupby('income_type')['total_income'].agg(['count', 'min', 'max', 'mean', 'median'])\n",
    "income_type_group_stat"
   ]
  },
  {
   "cell_type": "markdown",
   "metadata": {},
   "source": [
    "Заполним пропуски для каждой группы занятости медианными значениями той же группы их основной выборки. Для предпринимателя есть только один заемщик, этого очень мало для обоснования замены, т.к. уровень дохода у предпринимателя можем быть очень разный. Удалять такую важную категорию скорее всего тоже не стоит, вместо этого заполню пропуски для предпринимателя значениями из наиболее близкой группы \"компаньон\"."
   ]
  },
  {
   "cell_type": "code",
   "execution_count": 25,
   "metadata": {},
   "outputs": [
    {
     "data": {
      "text/html": [
       "<div>\n",
       "<style scoped>\n",
       "    .dataframe tbody tr th:only-of-type {\n",
       "        vertical-align: middle;\n",
       "    }\n",
       "\n",
       "    .dataframe tbody tr th {\n",
       "        vertical-align: top;\n",
       "    }\n",
       "\n",
       "    .dataframe thead th {\n",
       "        text-align: right;\n",
       "    }\n",
       "</style>\n",
       "<table border=\"1\" class=\"dataframe\">\n",
       "  <thead>\n",
       "    <tr style=\"text-align: right;\">\n",
       "      <th></th>\n",
       "      <th>children</th>\n",
       "      <th>days_employed</th>\n",
       "      <th>dob_years</th>\n",
       "      <th>education</th>\n",
       "      <th>education_id</th>\n",
       "      <th>family_status</th>\n",
       "      <th>family_status_id</th>\n",
       "      <th>gender</th>\n",
       "      <th>debt</th>\n",
       "      <th>total_income</th>\n",
       "      <th>purpose</th>\n",
       "    </tr>\n",
       "    <tr>\n",
       "      <th>income_type</th>\n",
       "      <th></th>\n",
       "      <th></th>\n",
       "      <th></th>\n",
       "      <th></th>\n",
       "      <th></th>\n",
       "      <th></th>\n",
       "      <th></th>\n",
       "      <th></th>\n",
       "      <th></th>\n",
       "      <th></th>\n",
       "      <th></th>\n",
       "    </tr>\n",
       "  </thead>\n",
       "  <tbody>\n",
       "  </tbody>\n",
       "</table>\n",
       "</div>"
      ],
      "text/plain": [
       "Empty DataFrame\n",
       "Columns: [children, days_employed, dob_years, education, education_id, family_status, family_status_id, gender, debt, total_income, purpose]\n",
       "Index: []"
      ]
     },
     "execution_count": 25,
     "metadata": {},
     "output_type": "execute_result"
    }
   ],
   "source": [
    "#Заполняем пропуски для предпринимателя данными группы \"компаньон\"\n",
    "df.loc[(df['income_type'] == 'предприниматель') & df['total_income'].isna(), 'total_income'] = income_type_group_stat.loc['компаньон']['median']\n",
    "\n",
    "#Создаем список групп занятости для заполнения пропусков\n",
    "empty_income_type_list = list(df.loc[df['total_income'].isna()].groupby('income_type').count().index)\n",
    "\n",
    "#Заполняем пропуски медианными значениями по группе\n",
    "for empty_income in empty_income_type_list:\n",
    "    df.loc[(df['income_type'] == empty_income) & df['total_income'].isna(), 'total_income'] = income_type_group_stat.loc[empty_income]['median']\n",
    "\n",
    "#проверяем\n",
    "df.loc[df['total_income'].isna()].groupby('income_type').count()"
   ]
  },
  {
   "cell_type": "code",
   "execution_count": 26,
   "metadata": {},
   "outputs": [
    {
     "data": {
      "text/plain": [
       "F    14236\n",
       "M     7288\n",
       "Name: gender, dtype: int64"
      ]
     },
     "execution_count": 26,
     "metadata": {},
     "output_type": "execute_result"
    }
   ],
   "source": [
    "#Удаляем строку с ошибочным полом\n",
    "df = df.loc[df['gender'] != 'XNA']\n",
    "df['gender'].value_counts()"
   ]
  },
  {
   "cell_type": "code",
   "execution_count": 27,
   "metadata": {},
   "outputs": [
    {
     "data": {
      "text/plain": [
       "0    14148\n",
       "1     4818\n",
       "2     2055\n",
       "3      330\n",
       "4       41\n",
       "5        9\n",
       "Name: children, dtype: int64"
      ]
     },
     "execution_count": 27,
     "metadata": {},
     "output_type": "execute_result"
    }
   ],
   "source": [
    "#Удаляем строки с аномальным количеством детей\n",
    "df = df.loc[(df['children'] >= 0) & (df['children'] < 20)]\n",
    "df['children'].value_counts()"
   ]
  },
  {
   "cell_type": "code",
   "execution_count": 28,
   "metadata": {},
   "outputs": [
    {
     "name": "stdout",
     "output_type": "stream",
     "text": [
      "<class 'pandas.core.frame.DataFrame'>\n",
      "RangeIndex: 21401 entries, 0 to 21400\n",
      "Data columns (total 12 columns):\n",
      "children            21401 non-null int64\n",
      "days_employed       21401 non-null float64\n",
      "dob_years           21401 non-null int64\n",
      "education           21401 non-null object\n",
      "education_id        21401 non-null int64\n",
      "family_status       21401 non-null object\n",
      "family_status_id    21401 non-null int64\n",
      "gender              21401 non-null object\n",
      "income_type         21401 non-null object\n",
      "debt                21401 non-null int64\n",
      "total_income        21401 non-null float64\n",
      "purpose             21401 non-null object\n",
      "dtypes: float64(2), int64(5), object(5)\n",
      "memory usage: 2.0+ MB\n"
     ]
    }
   ],
   "source": [
    "#Переназначем индексы после всех удалений\n",
    "df = df.reset_index(drop=True)\n",
    "df.info()"
   ]
  },
  {
   "cell_type": "markdown",
   "metadata": {},
   "source": [
    "**Вывод**"
   ]
  },
  {
   "cell_type": "markdown",
   "metadata": {},
   "source": [
    "Для целей исследования стаж не важен, поэтому пропуски можно было вообще не заполнять. С другой стороны 74% выборки некорректного стажа наводят на мысль о технической ошибке, возможно стоит перепроверить информацию в БД, если в ней такая же картина, то надо смотреть на процедуру ввода данных с кредитных заявок. Если в БД информация корректная то лучше сделать новую выборку.\n",
    "\n",
    "Ошибки в столбцах пол и дети имеют малое значение и их проще удалить."
   ]
  },
  {
   "cell_type": "markdown",
   "metadata": {},
   "source": [
    "### Замена типа данных"
   ]
  },
  {
   "cell_type": "code",
   "execution_count": 29,
   "metadata": {},
   "outputs": [],
   "source": [
    "df['days_employed'] = df['days_employed'].astype('int')"
   ]
  },
  {
   "cell_type": "code",
   "execution_count": 30,
   "metadata": {},
   "outputs": [
    {
     "name": "stdout",
     "output_type": "stream",
     "text": [
      "<class 'pandas.core.frame.DataFrame'>\n",
      "RangeIndex: 21401 entries, 0 to 21400\n",
      "Data columns (total 12 columns):\n",
      "children            21401 non-null int64\n",
      "days_employed       21401 non-null int64\n",
      "dob_years           21401 non-null int64\n",
      "education           21401 non-null object\n",
      "education_id        21401 non-null int64\n",
      "family_status       21401 non-null object\n",
      "family_status_id    21401 non-null int64\n",
      "gender              21401 non-null object\n",
      "income_type         21401 non-null object\n",
      "debt                21401 non-null int64\n",
      "total_income        21401 non-null float64\n",
      "purpose             21401 non-null object\n",
      "dtypes: float64(1), int64(6), object(5)\n",
      "memory usage: 2.0+ MB\n"
     ]
    }
   ],
   "source": [
    "df.info()"
   ]
  },
  {
   "cell_type": "markdown",
   "metadata": {},
   "source": [
    "**Вывод**"
   ]
  },
  {
   "cell_type": "markdown",
   "metadata": {},
   "source": [
    "Так как у нас уже имеются числовые значения в столбце стаж, то применяем метод astype, а не to_numeric и переводим из вещественного типа данных который был из-за наличия пропусков в целый"
   ]
  },
  {
   "cell_type": "markdown",
   "metadata": {},
   "source": [
    "### Обработка дубликатов"
   ]
  },
  {
   "cell_type": "code",
   "execution_count": 31,
   "metadata": {},
   "outputs": [
    {
     "data": {
      "text/plain": [
       "54"
      ]
     },
     "execution_count": 31,
     "metadata": {},
     "output_type": "execute_result"
    }
   ],
   "source": [
    "#Проверим на наличие дубликатов\n",
    "df.duplicated().sum()"
   ]
  },
  {
   "cell_type": "code",
   "execution_count": 32,
   "metadata": {},
   "outputs": [],
   "source": [
    "#Пприведём все строковые значения к нижнему регистру, \n",
    "#пол можно не приводить, но при обновлении выборки может случиться всякое, поэтому тоже включим\n",
    "df['education'] = df['education'].str.lower()\n",
    "df['family_status'] = df['family_status'].str.lower()\n",
    "df['gender'] = df['gender'].str.lower()\n",
    "df['income_type'] = df['income_type'].str.lower()\n",
    "df['purpose'] = df['purpose'].str.lower()"
   ]
  },
  {
   "cell_type": "code",
   "execution_count": 33,
   "metadata": {},
   "outputs": [
    {
     "data": {
      "text/plain": [
       "71"
      ]
     },
     "execution_count": 33,
     "metadata": {},
     "output_type": "execute_result"
    }
   ],
   "source": [
    "#Снова проверим на наличие дубликатов\n",
    "df.duplicated().sum()"
   ]
  },
  {
   "cell_type": "code",
   "execution_count": 34,
   "metadata": {},
   "outputs": [
    {
     "data": {
      "text/plain": [
       "0"
      ]
     },
     "execution_count": 34,
     "metadata": {},
     "output_type": "execute_result"
    }
   ],
   "source": [
    "#Удаляем полные дубликаты и переустанавливаем индексы\n",
    "df = df.drop_duplicates().reset_index(drop=True)\n",
    "df.duplicated().sum()"
   ]
  },
  {
   "cell_type": "markdown",
   "metadata": {},
   "source": [
    "**Вывод**"
   ]
  },
  {
   "cell_type": "markdown",
   "metadata": {},
   "source": [
    "До приведения текстовых полей к нижнему регистру было 54 дубликата, после 71. В целом в этом наборе данных нет каких то уникальных идентификаторов клиента и многие данные вполне могут совпадать, однако маловероятно, что совпадает все, даже формулировка цели кредита, поэтому удаляем все дубликаты."
   ]
  },
  {
   "cell_type": "markdown",
   "metadata": {},
   "source": [
    "### Лемматизация"
   ]
  },
  {
   "cell_type": "code",
   "execution_count": 4,
   "metadata": {},
   "outputs": [
    {
     "data": {
      "text/plain": [
       "[['покупка', ' ', 'жилье', '\\n'],\n",
       " ['приобретение', ' ', 'автомобиль', '\\n'],\n",
       " ['дополнительный', ' ', 'образование', '\\n'],\n",
       " ['сыграть', ' ', 'свадьба', '\\n'],\n",
       " ['операция', ' ', 'с', ' ', 'жилье', '\\n'],\n",
       " ['образование', '\\n'],\n",
       " ['на', ' ', 'проведение', ' ', 'свадьба', '\\n'],\n",
       " ['покупка', ' ', 'жилье', ' ', 'для', ' ', 'семья', '\\n'],\n",
       " ['покупка', ' ', 'недвижимость', '\\n'],\n",
       " ['покупка', ' ', 'коммерческий', ' ', 'недвижимость', '\\n'],\n",
       " ['покупка', ' ', 'жилой', ' ', 'недвижимость', '\\n'],\n",
       " ['строительство', ' ', 'собственный', ' ', 'недвижимость', '\\n'],\n",
       " ['недвижимость', '\\n'],\n",
       " ['строительство', ' ', 'недвижимость', '\\n'],\n",
       " ['на', ' ', 'покупка', ' ', 'подержать', ' ', 'автомобиль', '\\n'],\n",
       " ['на', ' ', 'покупка', ' ', 'свой', ' ', 'автомобиль', '\\n'],\n",
       " ['операция', ' ', 'с', ' ', 'коммерческий', ' ', 'недвижимость', '\\n'],\n",
       " ['строительство', ' ', 'жилой', ' ', 'недвижимость', '\\n'],\n",
       " ['жилье', '\\n'],\n",
       " ['операция', ' ', 'со', ' ', 'свой', ' ', 'недвижимость', '\\n'],\n",
       " ['автомобиль', '\\n'],\n",
       " ['заниматься', ' ', 'образование', '\\n'],\n",
       " ['сделка', ' ', 'с', ' ', 'подержанный', ' ', 'автомобиль', '\\n'],\n",
       " ['получение', ' ', 'образование', '\\n'],\n",
       " ['автомобиль', '\\n'],\n",
       " ['свадьба', '\\n'],\n",
       " ['получение', ' ', 'дополнительный', ' ', 'образование', '\\n'],\n",
       " ['покупка', ' ', 'свой', ' ', 'жилье', '\\n'],\n",
       " ['операция', ' ', 'с', ' ', 'недвижимость', '\\n'],\n",
       " ['получение', ' ', 'высокий', ' ', 'образование', '\\n'],\n",
       " ['свой', ' ', 'автомобиль', '\\n'],\n",
       " ['сделка', ' ', 'с', ' ', 'автомобиль', '\\n'],\n",
       " ['профильный', ' ', 'образование', '\\n'],\n",
       " ['высокий', ' ', 'образование', '\\n'],\n",
       " ['покупка', ' ', 'жилье', ' ', 'для', ' ', 'сдача', '\\n'],\n",
       " ['на', ' ', 'покупка', ' ', 'автомобиль', '\\n'],\n",
       " ['ремонт', ' ', 'жилье', '\\n'],\n",
       " ['заниматься', ' ', 'высокий', ' ', 'образование', '\\n']]"
      ]
     },
     "execution_count": 4,
     "metadata": {},
     "output_type": "execute_result"
    }
   ],
   "source": [
    "#В ручную составляем список целей кредита исхдя из их описания\n",
    "m = Mystem()\n",
    "purpose_list = [] #list(df['purpose'].unique())\n",
    "\n",
    "for purpose in list(df['purpose'].unique()):\n",
    "    purpose_list.append(m.lemmatize(purpose))\n",
    "\n",
    "purpose_list"
   ]
  },
  {
   "cell_type": "code",
   "execution_count": 36,
   "metadata": {},
   "outputs": [],
   "source": [
    "#Создаем категории в зависимости от лемм в целях кредита\n",
    "#Предполагаем, что если в лемме есть слова \"свой\", \"собсвтенный\", то речь идет о жилой недвижимости и личном авто.\n",
    "#Все операции с недвижимостью без явной ссылки на жилую считаем операциями с коммерческой недвижимостью\n",
    "#Если есть сово \"сдача\", то считаем, что это сделка коммерческая\n",
    "\n",
    "def purpose_category(lemma):\n",
    "    \n",
    "    #Обработаем однозначне категории\n",
    "    \n",
    "    if 'автомобиль' in lemma: \n",
    "        return 'покупка авто'\n",
    "    elif 'свадьба' in lemma:  \n",
    "        return 'свадьба'\n",
    "    elif 'образование' in lemma: \n",
    "        return 'образование'\n",
    "\n",
    "    #Обработаем категории с вариантами\n",
    "    \n",
    "    elif 'жилье' in lemma:  #может встречаться несколько вариантов\n",
    "        if 'ремонт' in lemma:\n",
    "            return 'ремонт'\n",
    "        elif 'сдача' in lemma: #цель кредит получение выгоды, а не жилье\n",
    "            return 'коммерческая недвижимость'\n",
    "        else:\n",
    "            return 'жилая недвижимость'\n",
    "        \n",
    "    elif 'недвижимость' in lemma:\n",
    "        if 'жилой' in lemma: #Цель кредита покупка/строительство жилья\n",
    "            return 'жилая недвижимость'\n",
    "        if 'собственный' in lemma: #Скорее всего цель кредита покупка/строительство жилья\n",
    "            return 'жилая недвижимость'\n",
    "        if 'свой' in lemma: #Скорее всего цель кредита покупка/строительство жилья\n",
    "            return 'жилая недвижимость'\n",
    "        else:\n",
    "            return 'коммерческая недвижимость'\n",
    "    \n",
    "    else:\n",
    "        return 'прочее' #на случай если мы что-то не учли или встретится значение которого не было раньше\n",
    "        "
   ]
  },
  {
   "cell_type": "code",
   "execution_count": 37,
   "metadata": {},
   "outputs": [
    {
     "data": {
      "text/html": [
       "<div>\n",
       "<style scoped>\n",
       "    .dataframe tbody tr th:only-of-type {\n",
       "        vertical-align: middle;\n",
       "    }\n",
       "\n",
       "    .dataframe tbody tr th {\n",
       "        vertical-align: top;\n",
       "    }\n",
       "\n",
       "    .dataframe thead th {\n",
       "        text-align: right;\n",
       "    }\n",
       "</style>\n",
       "<table border=\"1\" class=\"dataframe\">\n",
       "  <thead>\n",
       "    <tr style=\"text-align: right;\">\n",
       "      <th></th>\n",
       "      <th>children</th>\n",
       "      <th>days_employed</th>\n",
       "      <th>dob_years</th>\n",
       "      <th>education</th>\n",
       "      <th>education_id</th>\n",
       "      <th>family_status</th>\n",
       "      <th>family_status_id</th>\n",
       "      <th>gender</th>\n",
       "      <th>income_type</th>\n",
       "      <th>debt</th>\n",
       "      <th>total_income</th>\n",
       "      <th>purpose</th>\n",
       "      <th>purpose_lemmas</th>\n",
       "    </tr>\n",
       "  </thead>\n",
       "  <tbody>\n",
       "    <tr>\n",
       "      <td>0</td>\n",
       "      <td>1</td>\n",
       "      <td>-8437</td>\n",
       "      <td>42</td>\n",
       "      <td>высшее</td>\n",
       "      <td>0</td>\n",
       "      <td>женат / замужем</td>\n",
       "      <td>0</td>\n",
       "      <td>f</td>\n",
       "      <td>сотрудник</td>\n",
       "      <td>0</td>\n",
       "      <td>253875.639453</td>\n",
       "      <td>покупка жилья</td>\n",
       "      <td>[покупка,  , жилье, \\n]</td>\n",
       "    </tr>\n",
       "    <tr>\n",
       "      <td>1</td>\n",
       "      <td>1</td>\n",
       "      <td>-4024</td>\n",
       "      <td>36</td>\n",
       "      <td>среднее</td>\n",
       "      <td>1</td>\n",
       "      <td>женат / замужем</td>\n",
       "      <td>0</td>\n",
       "      <td>f</td>\n",
       "      <td>сотрудник</td>\n",
       "      <td>0</td>\n",
       "      <td>112080.014102</td>\n",
       "      <td>приобретение автомобиля</td>\n",
       "      <td>[приобретение,  , автомобиль, \\n]</td>\n",
       "    </tr>\n",
       "    <tr>\n",
       "      <td>2</td>\n",
       "      <td>0</td>\n",
       "      <td>-5623</td>\n",
       "      <td>33</td>\n",
       "      <td>среднее</td>\n",
       "      <td>1</td>\n",
       "      <td>женат / замужем</td>\n",
       "      <td>0</td>\n",
       "      <td>m</td>\n",
       "      <td>сотрудник</td>\n",
       "      <td>0</td>\n",
       "      <td>145885.952297</td>\n",
       "      <td>покупка жилья</td>\n",
       "      <td>[покупка,  , жилье, \\n]</td>\n",
       "    </tr>\n",
       "    <tr>\n",
       "      <td>3</td>\n",
       "      <td>3</td>\n",
       "      <td>-4124</td>\n",
       "      <td>32</td>\n",
       "      <td>среднее</td>\n",
       "      <td>1</td>\n",
       "      <td>женат / замужем</td>\n",
       "      <td>0</td>\n",
       "      <td>m</td>\n",
       "      <td>сотрудник</td>\n",
       "      <td>0</td>\n",
       "      <td>267628.550329</td>\n",
       "      <td>дополнительное образование</td>\n",
       "      <td>[дополнительный,  , образование, \\n]</td>\n",
       "    </tr>\n",
       "    <tr>\n",
       "      <td>4</td>\n",
       "      <td>0</td>\n",
       "      <td>340266</td>\n",
       "      <td>53</td>\n",
       "      <td>среднее</td>\n",
       "      <td>1</td>\n",
       "      <td>гражданский брак</td>\n",
       "      <td>1</td>\n",
       "      <td>f</td>\n",
       "      <td>пенсионер</td>\n",
       "      <td>0</td>\n",
       "      <td>158616.077870</td>\n",
       "      <td>сыграть свадьбу</td>\n",
       "      <td>[сыграть,  , свадьба, \\n]</td>\n",
       "    </tr>\n",
       "  </tbody>\n",
       "</table>\n",
       "</div>"
      ],
      "text/plain": [
       "   children  days_employed  dob_years education  education_id  \\\n",
       "0         1          -8437         42    высшее             0   \n",
       "1         1          -4024         36   среднее             1   \n",
       "2         0          -5623         33   среднее             1   \n",
       "3         3          -4124         32   среднее             1   \n",
       "4         0         340266         53   среднее             1   \n",
       "\n",
       "      family_status  family_status_id gender income_type  debt   total_income  \\\n",
       "0   женат / замужем                 0      f   сотрудник     0  253875.639453   \n",
       "1   женат / замужем                 0      f   сотрудник     0  112080.014102   \n",
       "2   женат / замужем                 0      m   сотрудник     0  145885.952297   \n",
       "3   женат / замужем                 0      m   сотрудник     0  267628.550329   \n",
       "4  гражданский брак                 1      f   пенсионер     0  158616.077870   \n",
       "\n",
       "                      purpose                        purpose_lemmas  \n",
       "0               покупка жилья               [покупка,  , жилье, \\n]  \n",
       "1     приобретение автомобиля     [приобретение,  , автомобиль, \\n]  \n",
       "2               покупка жилья               [покупка,  , жилье, \\n]  \n",
       "3  дополнительное образование  [дополнительный,  , образование, \\n]  \n",
       "4             сыграть свадьбу             [сыграть,  , свадьба, \\n]  "
      ]
     },
     "execution_count": 37,
     "metadata": {},
     "output_type": "execute_result"
    }
   ],
   "source": [
    "#Лемматизируем цели кредита\n",
    "df['purpose_lemmas'] = df['purpose'].apply(m.lemmatize)\n",
    "df.head()"
   ]
  },
  {
   "cell_type": "code",
   "execution_count": 38,
   "metadata": {},
   "outputs": [
    {
     "data": {
      "text/html": [
       "<div>\n",
       "<style scoped>\n",
       "    .dataframe tbody tr th:only-of-type {\n",
       "        vertical-align: middle;\n",
       "    }\n",
       "\n",
       "    .dataframe tbody tr th {\n",
       "        vertical-align: top;\n",
       "    }\n",
       "\n",
       "    .dataframe thead th {\n",
       "        text-align: right;\n",
       "    }\n",
       "</style>\n",
       "<table border=\"1\" class=\"dataframe\">\n",
       "  <thead>\n",
       "    <tr style=\"text-align: right;\">\n",
       "      <th></th>\n",
       "      <th>children</th>\n",
       "      <th>days_employed</th>\n",
       "      <th>dob_years</th>\n",
       "      <th>education</th>\n",
       "      <th>education_id</th>\n",
       "      <th>family_status</th>\n",
       "      <th>family_status_id</th>\n",
       "      <th>gender</th>\n",
       "      <th>income_type</th>\n",
       "      <th>debt</th>\n",
       "      <th>total_income</th>\n",
       "      <th>purpose</th>\n",
       "      <th>purpose_lemmas</th>\n",
       "      <th>purpose_category</th>\n",
       "    </tr>\n",
       "  </thead>\n",
       "  <tbody>\n",
       "    <tr>\n",
       "      <td>0</td>\n",
       "      <td>1</td>\n",
       "      <td>-8437</td>\n",
       "      <td>42</td>\n",
       "      <td>высшее</td>\n",
       "      <td>0</td>\n",
       "      <td>женат / замужем</td>\n",
       "      <td>0</td>\n",
       "      <td>f</td>\n",
       "      <td>сотрудник</td>\n",
       "      <td>0</td>\n",
       "      <td>253875.639453</td>\n",
       "      <td>покупка жилья</td>\n",
       "      <td>[покупка,  , жилье, \\n]</td>\n",
       "      <td>жилая недвижимость</td>\n",
       "    </tr>\n",
       "    <tr>\n",
       "      <td>1</td>\n",
       "      <td>1</td>\n",
       "      <td>-4024</td>\n",
       "      <td>36</td>\n",
       "      <td>среднее</td>\n",
       "      <td>1</td>\n",
       "      <td>женат / замужем</td>\n",
       "      <td>0</td>\n",
       "      <td>f</td>\n",
       "      <td>сотрудник</td>\n",
       "      <td>0</td>\n",
       "      <td>112080.014102</td>\n",
       "      <td>приобретение автомобиля</td>\n",
       "      <td>[приобретение,  , автомобиль, \\n]</td>\n",
       "      <td>покупка авто</td>\n",
       "    </tr>\n",
       "    <tr>\n",
       "      <td>2</td>\n",
       "      <td>0</td>\n",
       "      <td>-5623</td>\n",
       "      <td>33</td>\n",
       "      <td>среднее</td>\n",
       "      <td>1</td>\n",
       "      <td>женат / замужем</td>\n",
       "      <td>0</td>\n",
       "      <td>m</td>\n",
       "      <td>сотрудник</td>\n",
       "      <td>0</td>\n",
       "      <td>145885.952297</td>\n",
       "      <td>покупка жилья</td>\n",
       "      <td>[покупка,  , жилье, \\n]</td>\n",
       "      <td>жилая недвижимость</td>\n",
       "    </tr>\n",
       "    <tr>\n",
       "      <td>3</td>\n",
       "      <td>3</td>\n",
       "      <td>-4124</td>\n",
       "      <td>32</td>\n",
       "      <td>среднее</td>\n",
       "      <td>1</td>\n",
       "      <td>женат / замужем</td>\n",
       "      <td>0</td>\n",
       "      <td>m</td>\n",
       "      <td>сотрудник</td>\n",
       "      <td>0</td>\n",
       "      <td>267628.550329</td>\n",
       "      <td>дополнительное образование</td>\n",
       "      <td>[дополнительный,  , образование, \\n]</td>\n",
       "      <td>образование</td>\n",
       "    </tr>\n",
       "    <tr>\n",
       "      <td>4</td>\n",
       "      <td>0</td>\n",
       "      <td>340266</td>\n",
       "      <td>53</td>\n",
       "      <td>среднее</td>\n",
       "      <td>1</td>\n",
       "      <td>гражданский брак</td>\n",
       "      <td>1</td>\n",
       "      <td>f</td>\n",
       "      <td>пенсионер</td>\n",
       "      <td>0</td>\n",
       "      <td>158616.077870</td>\n",
       "      <td>сыграть свадьбу</td>\n",
       "      <td>[сыграть,  , свадьба, \\n]</td>\n",
       "      <td>свадьба</td>\n",
       "    </tr>\n",
       "  </tbody>\n",
       "</table>\n",
       "</div>"
      ],
      "text/plain": [
       "   children  days_employed  dob_years education  education_id  \\\n",
       "0         1          -8437         42    высшее             0   \n",
       "1         1          -4024         36   среднее             1   \n",
       "2         0          -5623         33   среднее             1   \n",
       "3         3          -4124         32   среднее             1   \n",
       "4         0         340266         53   среднее             1   \n",
       "\n",
       "      family_status  family_status_id gender income_type  debt   total_income  \\\n",
       "0   женат / замужем                 0      f   сотрудник     0  253875.639453   \n",
       "1   женат / замужем                 0      f   сотрудник     0  112080.014102   \n",
       "2   женат / замужем                 0      m   сотрудник     0  145885.952297   \n",
       "3   женат / замужем                 0      m   сотрудник     0  267628.550329   \n",
       "4  гражданский брак                 1      f   пенсионер     0  158616.077870   \n",
       "\n",
       "                      purpose                        purpose_lemmas  \\\n",
       "0               покупка жилья               [покупка,  , жилье, \\n]   \n",
       "1     приобретение автомобиля     [приобретение,  , автомобиль, \\n]   \n",
       "2               покупка жилья               [покупка,  , жилье, \\n]   \n",
       "3  дополнительное образование  [дополнительный,  , образование, \\n]   \n",
       "4             сыграть свадьбу             [сыграть,  , свадьба, \\n]   \n",
       "\n",
       "     purpose_category  \n",
       "0  жилая недвижимость  \n",
       "1        покупка авто  \n",
       "2  жилая недвижимость  \n",
       "3         образование  \n",
       "4             свадьба  "
      ]
     },
     "execution_count": 38,
     "metadata": {},
     "output_type": "execute_result"
    }
   ],
   "source": [
    "#Записываем категории вместо лемм\n",
    "df['purpose_category'] = df['purpose_lemmas'].apply(purpose_category)\n",
    "df.head()"
   ]
  },
  {
   "cell_type": "code",
   "execution_count": 39,
   "metadata": {},
   "outputs": [
    {
     "data": {
      "text/plain": [
       "0"
      ]
     },
     "execution_count": 39,
     "metadata": {},
     "output_type": "execute_result"
    }
   ],
   "source": [
    "#Проверяем, что учли все случаи в функции purpose_category\n",
    "df.loc[df['purpose_category'] == 'прочее']['purpose_category'].count()"
   ]
  },
  {
   "cell_type": "markdown",
   "metadata": {},
   "source": [
    "**Вывод**"
   ]
  },
  {
   "cell_type": "markdown",
   "metadata": {},
   "source": [
    "В результате применения лемматизации были выделены шесть целей кредита:\n",
    " - получение образования\n",
    " - затраты на свадьбу\n",
    " - покупка автомобиля\n",
    " - ремонт в жилом помещении\n",
    " - операции с жилой недвижимостью\n",
    " - операции с коммерческой недвижимостью\n",
    " \n",
    "Для сохраненя числа категорий в пределах рекомендованых 5-6, не выделялись в отдельную категорию покупка, продажа или строительство, т.к. были и абстрактные цели \"операции с недвижимостью\" по которым невозможно устновить планируемое действие и число категорий могло бы быть 8-9, что затруднило бы анализ и размыло бы результаты исследования"
   ]
  },
  {
   "cell_type": "markdown",
   "metadata": {},
   "source": [
    "### Категоризация данных"
   ]
  },
  {
   "cell_type": "code",
   "execution_count": 40,
   "metadata": {},
   "outputs": [
    {
     "data": {
      "text/plain": [
       "count     2.133000e+04\n",
       "min       2.066726e+04\n",
       "max       2.265604e+06\n",
       "mean      1.653261e+05\n",
       "median    1.425944e+05\n",
       "Name: total_income, dtype: float64"
      ]
     },
     "execution_count": 40,
     "metadata": {},
     "output_type": "execute_result"
    }
   ],
   "source": [
    "#Проверяем базовые характеристики выборки по доходам для создания категорий\n",
    "income_genral_data = df['total_income'].agg(['count', 'min', 'max', 'mean', 'median'])\n",
    "income_genral_data"
   ]
  },
  {
   "cell_type": "markdown",
   "metadata": {},
   "source": [
    "Медиана не сильно далеко от среднего значения, значит распределение близко к симметричному."
   ]
  },
  {
   "cell_type": "code",
   "execution_count": 41,
   "metadata": {},
   "outputs": [],
   "source": [
    "#Создадим функцию которая возвращает статистические характеристики числовой выборки в виде списка\n",
    "def  Series_stat(Series):\n",
    "    return list(Series.agg(['count', 'min', 'max', 'mean', 'median']))"
   ]
  },
  {
   "cell_type": "code",
   "execution_count": 42,
   "metadata": {},
   "outputs": [
    {
     "name": "stdout",
     "output_type": "stream",
     "text": [
      "[18392.0, 20667.26379327158, 245153.7095083065, 136970.4662429369, 137945.58683199977]\n",
      "[2652.0, 245172.8971950128, 469637.1911006271, 309640.43854667584, 291408.70391545014]\n",
      "[223.0, 471008.5165567714, 694036.2278389871, 548442.3010932556, 527452.8332531311]\n",
      "[34.0, 694150.8908757226, 910451.4708141336, 778077.1985238788, 758169.3378911191]\n",
      "[15.0, 920897.7180211036, 1128836.2562180862, 1038343.6015294491, 1030899.173447853]\n",
      "[6.0, 1172459.831538252, 1350245.6054374685, 1258469.4208073083, 1259393.8046527326]\n",
      "[2.0, 1427934.4631516722, 1551152.8938321068, 1489543.6784918895, 1489543.6784918895]\n",
      "[4.0, 1597613.490466747, 1726276.0143316737, 1687554.2913263047, 1713163.8302533985]\n",
      "[0.0, nan, nan, nan, nan]\n",
      "[1.0, 2200852.210258896, 2200852.210258896, 2200852.210258896, 2200852.210258896]\n"
     ]
    }
   ],
   "source": [
    "#Разобьем всю совокупность на 10 групп и посмотрим на характеристики каждой группы\n",
    "groupe_count = 10\n",
    "\n",
    "step = int((income_genral_data['max'] - income_genral_data['min'] + 1) / groupe_count) # +1 чтобы последний интервал был больше \"max\"\n",
    "\n",
    "statistic_data = []\n",
    "\n",
    "for i in range(groupe_count):\n",
    "    \n",
    "    #формирем статистические характеристики для группы\n",
    "    step_statistic_data = Series_stat(df.loc[(df['total_income'] >= ((i * step) + income_genral_data['min'])) & (df['total_income'] < (((i + 1) * step) + income_genral_data['min']))]['total_income'])\n",
    "    \n",
    "    print(step_statistic_data)"
   ]
  },
  {
   "cell_type": "markdown",
   "metadata": {},
   "source": [
    "Большая часть заемщиков имеет доход от 20 до 245 тысяч. Все что выше 245000 будем считать как \"высокий\" доход."
   ]
  },
  {
   "cell_type": "code",
   "execution_count": 43,
   "metadata": {},
   "outputs": [
    {
     "name": "stdout",
     "output_type": "stream",
     "text": [
      "[183.0, 20667.26379327158, 43067.05995680563, 36414.761425771685, 37670.08922714804]\n",
      "[948.0, 43128.98188731297, 65520.432920286075, 56358.6408113977, 56849.54815842959]\n",
      "[1997.0, 65533.416063870995, 87961.00041568266, 77776.95377108165, 78661.12018118]\n",
      "[2544.0, 87979.4053811268, 110392.92530251283, 99473.68253168852, 99625.78141603121]\n",
      "[2946.0, 110396.61025124694, 132826.80362604655, 121003.29722805179, 119552.31845512846]\n",
      "[3567.0, 132836.62974644848, 155248.18475389478, 143522.18921832426, 142594.39684740017]\n",
      "[2590.0, 155270.6363260297, 177674.95003137094, 167136.5031205336, 168211.22224837553]\n",
      "[1530.0, 177692.47622608262, 200116.89854182387, 188906.15861024053, 188926.33253914025]\n",
      "[1160.0, 200178.36266429359, 222538.37227671413, 210792.6236266448, 210654.89953878545]\n",
      "[918.0, 222573.04099661933, 244957.2622338864, 232715.43252538596, 231951.2166541234]\n"
     ]
    }
   ],
   "source": [
    "#Разделим выборку с доходом до 245 тыс еще на 10 частей.\n",
    "groupe_count = 10\n",
    "\n",
    "df_first_group = df.loc[df['total_income'] < 245000]\n",
    "income_first_group_data = df_first_group['total_income'].agg(['count', 'min', 'max', 'mean', 'median'])\n",
    "\n",
    "\n",
    "step = int((income_first_group_data['max'] - income_first_group_data['min'] + 1) / groupe_count) # +1 чтобы последний интервал был больше \"max\"\n",
    "\n",
    "statistic_data = []\n",
    "\n",
    "for i in range(groupe_count):\n",
    "    \n",
    "    #формирем статистические характеристики для группы\n",
    "    step_statistic_data = Series_stat(df_first_group.loc[(df_first_group['total_income'] >= ((i * step) + income_first_group_data['min'])) & (df_first_group['total_income'] < (((i + 1) * step) + income_first_group_data['min']))]['total_income'])\n",
    "    \n",
    "    print(step_statistic_data)"
   ]
  },
  {
   "cell_type": "markdown",
   "metadata": {},
   "source": [
    "Распределение более менее симметричное. Если в группы с высоким доходом попало около 3 тыс заемщиков, то для группы \"низкий\" возьмем потребителей с доходом до 88 тыс.\n",
    "В итоге получим три группы:\n",
    " - низкий, доход до 88 тыс\n",
    " - средний, доход от 88 до 245 тыс\n",
    " - высокий, доход свыше 245"
   ]
  },
  {
   "cell_type": "code",
   "execution_count": 44,
   "metadata": {},
   "outputs": [],
   "source": [
    "#Функция категоризации по доходу\n",
    "def income_category(income):\n",
    "    if income < 88000:\n",
    "        return 'низкий'\n",
    "    elif income > 245000:\n",
    "        return 'высокий'\n",
    "    else:\n",
    "        return 'средний'"
   ]
  },
  {
   "cell_type": "code",
   "execution_count": 45,
   "metadata": {},
   "outputs": [
    {
     "data": {
      "text/html": [
       "<div>\n",
       "<style scoped>\n",
       "    .dataframe tbody tr th:only-of-type {\n",
       "        vertical-align: middle;\n",
       "    }\n",
       "\n",
       "    .dataframe tbody tr th {\n",
       "        vertical-align: top;\n",
       "    }\n",
       "\n",
       "    .dataframe thead th {\n",
       "        text-align: right;\n",
       "    }\n",
       "</style>\n",
       "<table border=\"1\" class=\"dataframe\">\n",
       "  <thead>\n",
       "    <tr style=\"text-align: right;\">\n",
       "      <th></th>\n",
       "      <th>children</th>\n",
       "      <th>days_employed</th>\n",
       "      <th>dob_years</th>\n",
       "      <th>education</th>\n",
       "      <th>education_id</th>\n",
       "      <th>family_status</th>\n",
       "      <th>family_status_id</th>\n",
       "      <th>gender</th>\n",
       "      <th>income_type</th>\n",
       "      <th>debt</th>\n",
       "      <th>total_income</th>\n",
       "      <th>purpose</th>\n",
       "      <th>purpose_lemmas</th>\n",
       "      <th>purpose_category</th>\n",
       "      <th>income_category</th>\n",
       "    </tr>\n",
       "  </thead>\n",
       "  <tbody>\n",
       "    <tr>\n",
       "      <td>0</td>\n",
       "      <td>1</td>\n",
       "      <td>-8437</td>\n",
       "      <td>42</td>\n",
       "      <td>высшее</td>\n",
       "      <td>0</td>\n",
       "      <td>женат / замужем</td>\n",
       "      <td>0</td>\n",
       "      <td>f</td>\n",
       "      <td>сотрудник</td>\n",
       "      <td>0</td>\n",
       "      <td>253875.639453</td>\n",
       "      <td>покупка жилья</td>\n",
       "      <td>[покупка,  , жилье, \\n]</td>\n",
       "      <td>жилая недвижимость</td>\n",
       "      <td>высокий</td>\n",
       "    </tr>\n",
       "    <tr>\n",
       "      <td>1</td>\n",
       "      <td>1</td>\n",
       "      <td>-4024</td>\n",
       "      <td>36</td>\n",
       "      <td>среднее</td>\n",
       "      <td>1</td>\n",
       "      <td>женат / замужем</td>\n",
       "      <td>0</td>\n",
       "      <td>f</td>\n",
       "      <td>сотрудник</td>\n",
       "      <td>0</td>\n",
       "      <td>112080.014102</td>\n",
       "      <td>приобретение автомобиля</td>\n",
       "      <td>[приобретение,  , автомобиль, \\n]</td>\n",
       "      <td>покупка авто</td>\n",
       "      <td>средний</td>\n",
       "    </tr>\n",
       "    <tr>\n",
       "      <td>2</td>\n",
       "      <td>0</td>\n",
       "      <td>-5623</td>\n",
       "      <td>33</td>\n",
       "      <td>среднее</td>\n",
       "      <td>1</td>\n",
       "      <td>женат / замужем</td>\n",
       "      <td>0</td>\n",
       "      <td>m</td>\n",
       "      <td>сотрудник</td>\n",
       "      <td>0</td>\n",
       "      <td>145885.952297</td>\n",
       "      <td>покупка жилья</td>\n",
       "      <td>[покупка,  , жилье, \\n]</td>\n",
       "      <td>жилая недвижимость</td>\n",
       "      <td>средний</td>\n",
       "    </tr>\n",
       "    <tr>\n",
       "      <td>3</td>\n",
       "      <td>3</td>\n",
       "      <td>-4124</td>\n",
       "      <td>32</td>\n",
       "      <td>среднее</td>\n",
       "      <td>1</td>\n",
       "      <td>женат / замужем</td>\n",
       "      <td>0</td>\n",
       "      <td>m</td>\n",
       "      <td>сотрудник</td>\n",
       "      <td>0</td>\n",
       "      <td>267628.550329</td>\n",
       "      <td>дополнительное образование</td>\n",
       "      <td>[дополнительный,  , образование, \\n]</td>\n",
       "      <td>образование</td>\n",
       "      <td>высокий</td>\n",
       "    </tr>\n",
       "    <tr>\n",
       "      <td>4</td>\n",
       "      <td>0</td>\n",
       "      <td>340266</td>\n",
       "      <td>53</td>\n",
       "      <td>среднее</td>\n",
       "      <td>1</td>\n",
       "      <td>гражданский брак</td>\n",
       "      <td>1</td>\n",
       "      <td>f</td>\n",
       "      <td>пенсионер</td>\n",
       "      <td>0</td>\n",
       "      <td>158616.077870</td>\n",
       "      <td>сыграть свадьбу</td>\n",
       "      <td>[сыграть,  , свадьба, \\n]</td>\n",
       "      <td>свадьба</td>\n",
       "      <td>средний</td>\n",
       "    </tr>\n",
       "  </tbody>\n",
       "</table>\n",
       "</div>"
      ],
      "text/plain": [
       "   children  days_employed  dob_years education  education_id  \\\n",
       "0         1          -8437         42    высшее             0   \n",
       "1         1          -4024         36   среднее             1   \n",
       "2         0          -5623         33   среднее             1   \n",
       "3         3          -4124         32   среднее             1   \n",
       "4         0         340266         53   среднее             1   \n",
       "\n",
       "      family_status  family_status_id gender income_type  debt   total_income  \\\n",
       "0   женат / замужем                 0      f   сотрудник     0  253875.639453   \n",
       "1   женат / замужем                 0      f   сотрудник     0  112080.014102   \n",
       "2   женат / замужем                 0      m   сотрудник     0  145885.952297   \n",
       "3   женат / замужем                 0      m   сотрудник     0  267628.550329   \n",
       "4  гражданский брак                 1      f   пенсионер     0  158616.077870   \n",
       "\n",
       "                      purpose                        purpose_lemmas  \\\n",
       "0               покупка жилья               [покупка,  , жилье, \\n]   \n",
       "1     приобретение автомобиля     [приобретение,  , автомобиль, \\n]   \n",
       "2               покупка жилья               [покупка,  , жилье, \\n]   \n",
       "3  дополнительное образование  [дополнительный,  , образование, \\n]   \n",
       "4             сыграть свадьбу             [сыграть,  , свадьба, \\n]   \n",
       "\n",
       "     purpose_category income_category  \n",
       "0  жилая недвижимость         высокий  \n",
       "1        покупка авто         средний  \n",
       "2  жилая недвижимость         средний  \n",
       "3         образование         высокий  \n",
       "4             свадьба         средний  "
      ]
     },
     "execution_count": 45,
     "metadata": {},
     "output_type": "execute_result"
    }
   ],
   "source": [
    "#Добавляем столбец с категорией дохода\n",
    "df['income_category'] = df['total_income'].apply(income_category)\n",
    "df.head()"
   ]
  },
  {
   "cell_type": "code",
   "execution_count": 46,
   "metadata": {},
   "outputs": [
    {
     "data": {
      "text/plain": [
       "income_category\n",
       "высокий     2946\n",
       "низкий      3131\n",
       "средний    15253\n",
       "Name: income_category, dtype: int64"
      ]
     },
     "execution_count": 46,
     "metadata": {},
     "output_type": "execute_result"
    }
   ],
   "source": [
    "df.groupby('income_category')['income_category'].count()"
   ]
  },
  {
   "cell_type": "markdown",
   "metadata": {},
   "source": [
    "**Вывод**"
   ]
  },
  {
   "cell_type": "markdown",
   "metadata": {},
   "source": [
    "В целом выборка близка к симметричной с медианой около 145 тысяч и средним около 165 тысяч.\n",
    "Минимальный и максимальный доход 20 тысяч и 2,26 млн соответственно.\n",
    "85% заемщиков (около 18 тысяч) имеют доход до 254 тысяч рублей.\n",
    "\n",
    "В итоге получим три группы:\n",
    " - низкий, доход до 88 тыс имеют 3131 заемщика\n",
    " - средний, доход от 100 до 245 тыс имеют 15253 заемщика\n",
    " - высокий, доход свыше 245 имеют 2946 заемщиков\n",
    " \n",
    "Для более детального анализа можно было бы ввести больше градаций по уровню дохода и дополнительно проводить анализ на соответствие целей кредита."
   ]
  },
  {
   "cell_type": "markdown",
   "metadata": {},
   "source": [
    "## Шаг 3. Ответьте на вопросы"
   ]
  },
  {
   "cell_type": "markdown",
   "metadata": {},
   "source": [
    "- Есть ли зависимость между наличием детей и возвратом кредита в срок?"
   ]
  },
  {
   "cell_type": "code",
   "execution_count": 47,
   "metadata": {},
   "outputs": [
    {
     "data": {
      "text/plain": [
       "7.544357700496807"
      ]
     },
     "execution_count": 47,
     "metadata": {},
     "output_type": "execute_result"
    }
   ],
   "source": [
    "#Проверяем заемщиков без детей и наличие просрочек\n",
    "debt_without_children = df.loc[df['children'] == 0].groupby('debt')['debt'].count()\n",
    "\n",
    "#Считаем процент имеющих просрочки из общего числа заемщиков без детей\n",
    "debt_without_children[1] / (debt_without_children[0] + debt_without_children[1]) * 100"
   ]
  },
  {
   "cell_type": "code",
   "execution_count": 48,
   "metadata": {},
   "outputs": [
    {
     "data": {
      "text/plain": [
       "9.240331491712707"
      ]
     },
     "execution_count": 48,
     "metadata": {},
     "output_type": "execute_result"
    }
   ],
   "source": [
    "#Проверяем сколько заемщиков с детми имеют просрочки\n",
    "debt_with_children = df.loc[df['children'] != 0].groupby('debt')['debt'].count()\n",
    "\n",
    "#Считаем процент имеющих просрочки из общего числа заемщиков c детьми\n",
    "debt_with_children[1] / (debt_with_children[0] + debt_with_children[1]) * 100"
   ]
  },
  {
   "cell_type": "code",
   "execution_count": 49,
   "metadata": {},
   "outputs": [
    {
     "data": {
      "text/plain": [
       "children  debt\n",
       "0         0       13027\n",
       "          1        1063\n",
       "1         0        4364\n",
       "          1         444\n",
       "2         0        1858\n",
       "          1         194\n",
       "3         0         303\n",
       "          1          27\n",
       "4         0          37\n",
       "          1           4\n",
       "5         0           9\n",
       "Name: debt, dtype: int64"
      ]
     },
     "execution_count": 49,
     "metadata": {},
     "output_type": "execute_result"
    }
   ],
   "source": [
    "#Проверим меняется ли зависимость от количества детей\n",
    "df.groupby('children')['debt'].value_counts()"
   ]
  },
  {
   "cell_type": "markdown",
   "metadata": {},
   "source": [
    "**Вывод**"
   ]
  },
  {
   "cell_type": "markdown",
   "metadata": {},
   "source": [
    "В целом видно, что прострочка по кредитам встречается в 8-10% случаях при любом количестве детей, что соответсвует проценту просрочек по всей выборке. Не имеют просрочки 19784 заемщика, имеют просрочку 1741 заемщика.\n",
    "\n",
    "Наличие детей не оказывает заметного влияния на просрочку по кредиту."
   ]
  },
  {
   "cell_type": "markdown",
   "metadata": {},
   "source": [
    "- Есть ли зависимость между семейным положением и возвратом кредита в срок?"
   ]
  },
  {
   "cell_type": "code",
   "execution_count": 50,
   "metadata": {},
   "outputs": [
    {
     "data": {
      "text/plain": [
       "family_status          debt\n",
       "в разводе              0        1105\n",
       "                       1          84\n",
       "вдовец / вдова         0         888\n",
       "                       1          63\n",
       "гражданский брак       0        3748\n",
       "                       1         385\n",
       "женат / замужем        0       11334\n",
       "                       1         927\n",
       "не женат / не замужем  0        2523\n",
       "                       1         273\n",
       "Name: debt, dtype: int64"
      ]
     },
     "execution_count": 50,
     "metadata": {},
     "output_type": "execute_result"
    }
   ],
   "source": [
    "#Проверим распределение просрочек в зависимости от семейного статуса\n",
    "family_status_debt = df.groupby('family_status')['debt'].value_counts()\n",
    "family_status_debt"
   ]
  },
  {
   "cell_type": "code",
   "execution_count": 51,
   "metadata": {},
   "outputs": [
    {
     "name": "stdout",
     "output_type": "stream",
     "text": [
      "женат / замужем -------> 7.560557866405676\n",
      "гражданский брак -------> 9.31526736027099\n",
      "вдовец / вдова -------> 6.624605678233439\n",
      "в разводе -------> 7.064760302775442\n",
      "не женат / не замужем -------> 9.763948497854077\n"
     ]
    }
   ],
   "source": [
    "#Подсчитаем процент должников для каждой категории семейного статуса\n",
    "family_status_list = list(df['family_status'].unique())\n",
    "for status in family_status_list:\n",
    "    print(status, '------->', family_status_debt[status][1] / (family_status_debt[status][0] + family_status_debt[status][1]) * 100)"
   ]
  },
  {
   "cell_type": "markdown",
   "metadata": {},
   "source": [
    "**Вывод**"
   ]
  },
  {
   "cell_type": "markdown",
   "metadata": {},
   "source": [
    "Процент должников в разных категориях семейного статуса колеблится от 6,6 до 9,7, что соответсвует общему проценту должников по выборке в целом.\n",
    "Вдовцы в целом имеют меньше просроченных кредитов, чем живущие в гражданском браке, но относительно всей выборки все остается близко к общим значениям."
   ]
  },
  {
   "cell_type": "markdown",
   "metadata": {},
   "source": [
    "- Есть ли зависимость между уровнем дохода и возвратом кредита в срок?"
   ]
  },
  {
   "cell_type": "code",
   "execution_count": 52,
   "metadata": {},
   "outputs": [
    {
     "data": {
      "text/plain": [
       "income_category  debt\n",
       "высокий          0        2742\n",
       "                 1         204\n",
       "низкий           0        2891\n",
       "                 1         240\n",
       "средний          0       13965\n",
       "                 1        1288\n",
       "Name: debt, dtype: int64"
      ]
     },
     "execution_count": 52,
     "metadata": {},
     "output_type": "execute_result"
    }
   ],
   "source": [
    "#Проверим распределение просрочек в зависимости от уровня дохода\n",
    "income_category_debt = df.groupby('income_category')['debt'].value_counts()\n",
    "income_category_debt"
   ]
  },
  {
   "cell_type": "code",
   "execution_count": 53,
   "metadata": {},
   "outputs": [
    {
     "name": "stdout",
     "output_type": "stream",
     "text": [
      "высокий -----> 6.924643584521386\n",
      "средний -----> 8.444240477283158\n",
      "низкий -----> 7.665282657297988\n"
     ]
    }
   ],
   "source": [
    "#Подсчитаем процент должников для каждой категории дохода\n",
    "income_category_list = list(df['income_category'].unique())\n",
    "for category in income_category_list:\n",
    "    print(category, '----->', income_category_debt[category][1] / (income_category_debt[category][0] + income_category_debt[category][1]) * 100)"
   ]
  },
  {
   "cell_type": "markdown",
   "metadata": {},
   "source": [
    "**Вывод**"
   ]
  },
  {
   "cell_type": "markdown",
   "metadata": {},
   "source": [
    "Процент должников в каждой категории по уровню дохода соответсвует общему проценту по всей выборке.\n",
    "\n",
    "Уровень дохода не оказывает заметного влияния на наличие просрочки по кредиту."
   ]
  },
  {
   "cell_type": "markdown",
   "metadata": {},
   "source": [
    "- Как разные цели кредита влияют на его возврат в срок?"
   ]
  },
  {
   "cell_type": "code",
   "execution_count": 54,
   "metadata": {},
   "outputs": [
    {
     "data": {
      "text/plain": [
       "purpose_category           debt\n",
       "жилая недвижимость         0       5256\n",
       "                           1        401\n",
       "коммерческая недвижимость  0       4145\n",
       "                           1        344\n",
       "образование                0       3619\n",
       "                           1        369\n",
       "покупка авто               0       3879\n",
       "                           1        400\n",
       "ремонт                     0        569\n",
       "                           1         35\n",
       "свадьба                    0       2130\n",
       "                           1        183\n",
       "Name: debt, dtype: int64"
      ]
     },
     "execution_count": 54,
     "metadata": {},
     "output_type": "execute_result"
    }
   ],
   "source": [
    "#Проверим распределение просрочке в зависимости от целей\n",
    "purpose_category_debt = df.groupby('purpose_category')['debt'].value_counts()\n",
    "purpose_category_debt"
   ]
  },
  {
   "cell_type": "code",
   "execution_count": 55,
   "metadata": {},
   "outputs": [
    {
     "name": "stdout",
     "output_type": "stream",
     "text": [
      "жилая недвижимость -----> 7.088562842496023\n",
      "покупка авто -----> 9.34797849964945\n",
      "образование -----> 9.252758274824474\n",
      "свадьба -----> 7.911802853437094\n",
      "коммерческая недвижимость -----> 7.663176654043216\n",
      "ремонт -----> 5.7947019867549665\n"
     ]
    }
   ],
   "source": [
    "#Подсчитаем процент должников для каждой категории дохода\n",
    "purpose_list = list(df['purpose_category'].unique())\n",
    "\n",
    "for purpose in purpose_list:\n",
    "    print(purpose, '----->', purpose_category_debt[purpose][1] / (purpose_category_debt[purpose][0] + purpose_category_debt[purpose][1]) * 100)"
   ]
  },
  {
   "cell_type": "markdown",
   "metadata": {},
   "source": [
    "**Вывод**"
   ]
  },
  {
   "cell_type": "markdown",
   "metadata": {},
   "source": [
    "Немного выделяется цель кредита - ремонт, но выборка данной категории около 2,5% от всех заемщиков, возможно просто статистические колебания. Никаких существенных отличий от средних показателей всей выборки нет.\n",
    "\n",
    "Цель кредита не оказывает заметного влияния на наличие прострочки по кредиту."
   ]
  },
  {
   "cell_type": "markdown",
   "metadata": {},
   "source": [
    "## Шаг 4. Общий вывод"
   ]
  },
  {
   "cell_type": "markdown",
   "metadata": {},
   "source": [
    "  В наборе данных есть пропуски в стаже и доходе. Это одни и те же строки, которые составляют 10% всей выборки. \n",
    "  \n",
    "  В стаже так же 15906 записей из 21524 имеют отрицательные значения. Для целей данного исследования стаж не важен, поэтому недостающие значения были заполнены нулями. С другой стороны, с точки зрения построения скоринговой системы стаж является важным фактором оценки заемщика, 74% выборки некорректного стажа наводят на мысль о технической ошибке, возможно стоит перепроверить информацию в БД, если в ней такая же картина, то надо смотреть на процедуру ввода данных с кредитных заявок. Если в БД информация корректная то лучше сделать новую выборку.\n",
    "\n",
    "  Уровнь дохода учавствует в целях исследования, поэтому пропуски были заполнены медианными значениями уровня дохода соответствующей группы занятости основной выборки. Для предпринимателя есть только один заемщик, этого очень мало для обоснования замены, т.к. уровень дохода у предпринимателя можем быть очень разный. Удалять такую важную категорию скорее всего тоже не стоит, вместо этого  пропуск для предпринимателя был заменён значением из наиболее близкой группы \"компаньон\".\n",
    " \n",
    "  В выборке обнаружено несоответствие строковых значений категории \"образование\" числовым категориям, строковых значений больше. Необходимо все приводить к единому описанию и отдельно исследовать на наличие ошибок присвоения верной числовой категории, если влияние образования будет входить в скоринговую модель.\n",
    " \n",
    "  В колонке \"дети\" есть аномалии в 20 детей и отрицательные значение, их очень мало относительно всей выборки (окло 0.6%), поэтому аномальные строки были удалены.\n",
    " \n",
    "  В колонке \"возраст\" есть заемщики с нулевым возрастом, что опять же может указывать либо на технические ошибки в БД или при выгрузке или на ошибки при заполнении кредитных заявок. \n",
    " \n",
    "  Один заемщик имеет явно опечатку в графе \"Пол\" -XNA. В других графах нет информации для гипотез о поле, поэтому он был удален, т.к. одна строка не окажет заметного вличния на результаты исследования.\n",
    " \n",
    "Данные о типе дохода для категорий \"безработный, предприниматель, в декрете, студент\" в целом не относятся к цели исследования, но их явно недостаточно для построения скоринговых систем. В данном случае можно оставить как есть, но для скоринга можно удалить совсем, либо часть приравнять к более крупным категориям. Например, предпринимателя можно приравнять к компаньонам.\n",
    " \n",
    "Данные по наличию задолженности есть у каждого заемщика, столбец не нуждается в корректировках\n",
    " \n",
    "В целях кредита все выглядит разумно: свядьба, недвижимость (жилье, коммерческое), авто, образование. Не видно никаих аномалий. В результате применения лемматизации были выделены шесть целей кредита:\n",
    " - получение образования\n",
    " - затраты на свадьбу\n",
    " - покупка автомобиля\n",
    " - ремонт в жилом помещении\n",
    " - операции с жилой недвижимостью\n",
    " - операции с коммерческой недвижимостью\n",
    " \n",
    "Для сохраненя числа категорий в пределах рекомендованых 5-6, не выделялись в отдельную категорию покупка, продажа или строительство, т.к. были и абстрактные цели \"операции с недвижимостью\" по которым невозможно устновить планируемое действие и число категорий могло бы быть 8-9, что затруднило бы анализ и размыло бы результаты исследования\n",
    " \n",
    "В дальнейшем, при построении скориноговых матриц, нужно будет учитывать соответсвие связи цели кредита и данных заемщика, и в целом проверять данные на непротиворечивость. Так например земщик состоящий в браке не должен брать кредит на свадьбу и т.п.\n",
    "\n",
    "По уровню дохода выборка близка к симметричной с медианой около 145 тысяч и средним около 165 тысяч. Минимальный и максимальный доход 20 тысяч и 2,26 млн соответственно. 85% заемщиков (около 18 тысяч) имеют доход до 254 тысяч рублей. Для целей исследования были выделены следующие группы по уровню дохода:\n",
    " - низкий, доход до 88 тыс имеют 3131 заемщика\n",
    " - средний, доход от 100 до 245 тыс имеют 15253 заемщика\n",
    " - высокий, доход свыше 245 имеют 2946 заемщиков\n",
    " \n",
    "<b>В целом по выборке имеют просрочку 1741 заемщика из 21524, что составляет 8% заемщиков.</b>\n",
    "\n",
    "### Зависимость просрочек по кредиту от количества детей.\n",
    "    \n",
    "  Прострочка по кредитам встречается в 8-10% случаях при любом количестве детей, что соответсвует проценту просрочек по всей выборке. Наличие детей не оказывает заметного влияния на просрочку по кредиту.\n",
    "    \n",
    "### Зависимость просрочек от семейного статуса.\n",
    "\n",
    "  Процент должников в разных категориях семейного статуса меняется от 6,6 до 9,7. Вдовцы имеют меньше просроченных кредитов, чем живущие в гражданском браке, но относительно всей выборки все остается близко к общим значениям.\n",
    "    \n",
    "### Зависимость просрочек от уровня доходов.\n",
    "\n",
    "  Процент должников в каждой категории по уровню дохода соответсвует общему проценту по всей выборке. Уровень дохода не оказывает заметного влияния на наличие просрочки по кредиту.\n",
    "    \n",
    "### Зависимость просрочек от целей кредита.\n",
    "\n",
    "  Немного выделяется цель кредита - ремонт в 5,8%, но выборка данной категории около 2,5% от всех заемщиков, возможно просто статистические колебания. Никаких существенных отличий от средних показателей всей выборки нет. Цель кредита не оказывает заметного влияния на наличие прострочки по кредиту.\n",
    "    \n",
    "### Общий вывод.\n",
    "\n",
    "  На наличие просточки по кредиту не оказывает существенного влияния ни семейное положение, ни наличие детей, ни источники дохода, ни цель кредита. Процент просрочек остается практически равным общему проценкут по всей выборке, около 8%.\n",
    "    \n",
    "### Рекомендации.\n",
    "\n",
    "  Большой процент отрицательного стажа, заметный процент пропусков в стаже и уровне дохода, а также наличие нулевого возраста и аномальных значений количества детей заемщика говорят о вероятной технической ошибке или ошибках заполнения кредитных заявок. Рекомендуется проверить информацию по данным заемщиков в БД, процедуру выгрузки из БД, а так же процедуру заполнения и проверки кредитных заявок заемщиками.\n",
    "  Так же стоит привести в соответствие друг другу текстовые и числовые категории образования."
   ]
  }
 ],
 "metadata": {
  "ExecuteTimeLog": [
   {
    "duration": 601,
    "start_time": "2021-12-07T09:36:11.304Z"
   },
   {
    "duration": 4,
    "start_time": "2021-12-07T09:36:14.716Z"
   },
   {
    "duration": 19,
    "start_time": "2021-12-07T09:36:44.457Z"
   },
   {
    "duration": 11,
    "start_time": "2021-12-07T09:37:59.306Z"
   },
   {
    "duration": 6,
    "start_time": "2021-12-07T09:44:24.136Z"
   },
   {
    "duration": 242,
    "start_time": "2021-12-07T09:47:14.886Z"
   },
   {
    "duration": 218,
    "start_time": "2021-12-07T09:47:21.933Z"
   },
   {
    "duration": 6,
    "start_time": "2021-12-07T09:47:37.553Z"
   },
   {
    "duration": 6,
    "start_time": "2021-12-07T09:48:28.334Z"
   },
   {
    "duration": 5,
    "start_time": "2021-12-07T09:48:57.297Z"
   },
   {
    "duration": 247,
    "start_time": "2021-12-07T09:50:34.813Z"
   },
   {
    "duration": 7,
    "start_time": "2021-12-07T09:50:42.067Z"
   },
   {
    "duration": 5,
    "start_time": "2021-12-07T09:52:03.043Z"
   },
   {
    "duration": 6,
    "start_time": "2021-12-07T09:54:30.496Z"
   },
   {
    "duration": 7,
    "start_time": "2021-12-07T09:55:46.797Z"
   },
   {
    "duration": 6,
    "start_time": "2021-12-07T09:57:37.757Z"
   },
   {
    "duration": 7,
    "start_time": "2021-12-07T09:57:54.097Z"
   },
   {
    "duration": 6,
    "start_time": "2021-12-07T09:59:40.350Z"
   },
   {
    "duration": 4,
    "start_time": "2021-12-07T10:00:38.189Z"
   },
   {
    "duration": 3,
    "start_time": "2021-12-07T10:00:57.431Z"
   },
   {
    "duration": 5,
    "start_time": "2021-12-07T10:01:13.782Z"
   },
   {
    "duration": 5,
    "start_time": "2021-12-07T10:01:27.342Z"
   },
   {
    "duration": 5,
    "start_time": "2021-12-07T10:01:55.180Z"
   },
   {
    "duration": 7,
    "start_time": "2021-12-07T10:05:06.276Z"
   },
   {
    "duration": 4,
    "start_time": "2021-12-07T10:05:36.070Z"
   },
   {
    "duration": 7,
    "start_time": "2021-12-07T10:06:54.839Z"
   },
   {
    "duration": 7,
    "start_time": "2021-12-07T10:07:22.733Z"
   },
   {
    "duration": 8,
    "start_time": "2021-12-07T10:08:02.728Z"
   },
   {
    "duration": 13,
    "start_time": "2021-12-07T10:09:17.689Z"
   },
   {
    "duration": 8,
    "start_time": "2021-12-07T10:10:48.440Z"
   },
   {
    "duration": 5,
    "start_time": "2021-12-07T10:12:49.999Z"
   },
   {
    "duration": 11,
    "start_time": "2021-12-07T10:14:18.546Z"
   },
   {
    "duration": 7,
    "start_time": "2021-12-07T10:14:59.753Z"
   },
   {
    "duration": 347,
    "start_time": "2021-12-08T09:46:06.082Z"
   },
   {
    "duration": 871,
    "start_time": "2021-12-08T09:46:31.822Z"
   },
   {
    "duration": 5,
    "start_time": "2021-12-08T09:46:32.696Z"
   },
   {
    "duration": 34,
    "start_time": "2021-12-08T09:46:32.704Z"
   },
   {
    "duration": 14,
    "start_time": "2021-12-08T09:46:32.741Z"
   },
   {
    "duration": 9,
    "start_time": "2021-12-08T09:46:32.758Z"
   },
   {
    "duration": 7,
    "start_time": "2021-12-08T09:46:32.770Z"
   },
   {
    "duration": 51,
    "start_time": "2021-12-08T09:46:32.780Z"
   },
   {
    "duration": 6,
    "start_time": "2021-12-08T09:46:32.835Z"
   },
   {
    "duration": 9,
    "start_time": "2021-12-08T09:46:32.844Z"
   },
   {
    "duration": 10,
    "start_time": "2021-12-08T09:46:32.855Z"
   },
   {
    "duration": 9,
    "start_time": "2021-12-08T09:46:32.867Z"
   },
   {
    "duration": 54,
    "start_time": "2021-12-08T09:46:32.879Z"
   },
   {
    "duration": 9,
    "start_time": "2021-12-08T09:46:32.936Z"
   },
   {
    "duration": 7,
    "start_time": "2021-12-08T09:46:32.949Z"
   },
   {
    "duration": 12,
    "start_time": "2021-12-08T09:46:32.959Z"
   },
   {
    "duration": 55,
    "start_time": "2021-12-08T09:46:32.973Z"
   },
   {
    "duration": 18,
    "start_time": "2021-12-08T09:46:33.031Z"
   },
   {
    "duration": 10,
    "start_time": "2021-12-08T09:46:33.052Z"
   },
   {
    "duration": 7,
    "start_time": "2021-12-08T09:46:33.065Z"
   },
   {
    "duration": 53,
    "start_time": "2021-12-08T09:46:33.074Z"
   },
   {
    "duration": 10,
    "start_time": "2021-12-08T09:46:33.129Z"
   },
   {
    "duration": 5,
    "start_time": "2021-12-08T09:46:43.012Z"
   },
   {
    "duration": 28,
    "start_time": "2021-12-08T09:49:19.318Z"
   },
   {
    "duration": 22,
    "start_time": "2021-12-08T09:52:49.097Z"
   },
   {
    "duration": 385,
    "start_time": "2021-12-08T10:07:28.907Z"
   },
   {
    "duration": 94,
    "start_time": "2021-12-08T10:11:02.139Z"
   },
   {
    "duration": 71,
    "start_time": "2021-12-08T10:11:18.524Z"
   },
   {
    "duration": 22,
    "start_time": "2021-12-08T10:13:54.285Z"
   },
   {
    "duration": 15,
    "start_time": "2021-12-08T10:15:48.724Z"
   },
   {
    "duration": 16,
    "start_time": "2021-12-08T10:16:42.155Z"
   },
   {
    "duration": 6,
    "start_time": "2021-12-08T10:27:39.049Z"
   },
   {
    "duration": 24,
    "start_time": "2021-12-08T10:27:54.521Z"
   },
   {
    "duration": 21,
    "start_time": "2021-12-08T10:30:32.350Z"
   },
   {
    "duration": 61,
    "start_time": "2021-12-08T10:35:12.562Z"
   },
   {
    "duration": 36,
    "start_time": "2021-12-08T10:35:47.905Z"
   },
   {
    "duration": 91,
    "start_time": "2021-12-08T10:37:05.633Z"
   },
   {
    "duration": 46,
    "start_time": "2021-12-08T10:37:15.670Z"
   },
   {
    "duration": 560,
    "start_time": "2021-12-08T13:16:54.986Z"
   },
   {
    "duration": 849,
    "start_time": "2021-12-08T13:17:02.897Z"
   },
   {
    "duration": 5,
    "start_time": "2021-12-08T13:17:03.749Z"
   },
   {
    "duration": 31,
    "start_time": "2021-12-08T13:17:03.757Z"
   },
   {
    "duration": 15,
    "start_time": "2021-12-08T13:17:03.790Z"
   },
   {
    "duration": 10,
    "start_time": "2021-12-08T13:17:03.807Z"
   },
   {
    "duration": 10,
    "start_time": "2021-12-08T13:17:03.820Z"
   },
   {
    "duration": 32,
    "start_time": "2021-12-08T13:17:03.833Z"
   },
   {
    "duration": 9,
    "start_time": "2021-12-08T13:17:03.868Z"
   },
   {
    "duration": 7,
    "start_time": "2021-12-08T13:17:03.881Z"
   },
   {
    "duration": 10,
    "start_time": "2021-12-08T13:17:03.891Z"
   },
   {
    "duration": 12,
    "start_time": "2021-12-08T13:17:03.903Z"
   },
   {
    "duration": 9,
    "start_time": "2021-12-08T13:17:03.960Z"
   },
   {
    "duration": 10,
    "start_time": "2021-12-08T13:17:03.971Z"
   },
   {
    "duration": 9,
    "start_time": "2021-12-08T13:17:03.983Z"
   },
   {
    "duration": 10,
    "start_time": "2021-12-08T13:17:03.995Z"
   },
   {
    "duration": 14,
    "start_time": "2021-12-08T13:17:04.007Z"
   },
   {
    "duration": 25,
    "start_time": "2021-12-08T13:17:04.060Z"
   },
   {
    "duration": 17,
    "start_time": "2021-12-08T13:17:04.088Z"
   },
   {
    "duration": 11,
    "start_time": "2021-12-08T13:17:04.109Z"
   },
   {
    "duration": 53,
    "start_time": "2021-12-08T13:17:04.123Z"
   },
   {
    "duration": 14,
    "start_time": "2021-12-08T13:17:04.179Z"
   },
   {
    "duration": 5,
    "start_time": "2021-12-08T13:17:04.197Z"
   },
   {
    "duration": 22,
    "start_time": "2021-12-08T13:17:04.204Z"
   },
   {
    "duration": 52,
    "start_time": "2021-12-08T13:17:04.229Z"
   },
   {
    "duration": 46,
    "start_time": "2021-12-08T13:17:04.284Z"
   },
   {
    "duration": 15,
    "start_time": "2021-12-08T13:17:04.361Z"
   },
   {
    "duration": 14,
    "start_time": "2021-12-08T13:17:04.381Z"
   },
   {
    "duration": 15,
    "start_time": "2021-12-08T13:17:04.398Z"
   },
   {
    "duration": 5,
    "start_time": "2021-12-08T13:17:04.460Z"
   },
   {
    "duration": 20,
    "start_time": "2021-12-08T13:17:04.467Z"
   },
   {
    "duration": 20,
    "start_time": "2021-12-08T13:17:04.490Z"
   },
   {
    "duration": 104,
    "start_time": "2021-12-08T13:17:04.512Z"
   },
   {
    "duration": 46,
    "start_time": "2021-12-08T13:17:04.619Z"
   },
   {
    "duration": 49,
    "start_time": "2021-12-08T13:17:04.668Z"
   },
   {
    "duration": 1051,
    "start_time": "2021-12-08T13:17:16.485Z"
   },
   {
    "duration": 7,
    "start_time": "2021-12-08T13:19:39.853Z"
   },
   {
    "duration": 3873,
    "start_time": "2021-12-08T13:20:35.837Z"
   },
   {
    "duration": 41,
    "start_time": "2021-12-08T13:21:15.484Z"
   },
   {
    "duration": 16,
    "start_time": "2021-12-08T13:21:55.858Z"
   },
   {
    "duration": 11,
    "start_time": "2021-12-08T13:23:59.343Z"
   },
   {
    "duration": 4,
    "start_time": "2021-12-08T13:25:10.121Z"
   },
   {
    "duration": 56,
    "start_time": "2021-12-08T13:25:33.497Z"
   },
   {
    "duration": 66,
    "start_time": "2021-12-08T13:28:57.874Z"
   },
   {
    "duration": 4,
    "start_time": "2021-12-08T13:31:25.523Z"
   },
   {
    "duration": 34,
    "start_time": "2021-12-08T13:31:45.490Z"
   },
   {
    "duration": 23,
    "start_time": "2021-12-08T13:32:17.449Z"
   },
   {
    "duration": 16,
    "start_time": "2021-12-08T13:37:03.465Z"
   },
   {
    "duration": 13,
    "start_time": "2021-12-08T13:37:30.759Z"
   },
   {
    "duration": 11,
    "start_time": "2021-12-08T13:38:10.804Z"
   },
   {
    "duration": 13,
    "start_time": "2021-12-08T13:39:44.823Z"
   },
   {
    "duration": 19,
    "start_time": "2021-12-08T13:44:34.481Z"
   },
   {
    "duration": 20,
    "start_time": "2021-12-08T13:45:14.158Z"
   },
   {
    "duration": 21,
    "start_time": "2021-12-08T13:46:12.005Z"
   },
   {
    "duration": 12,
    "start_time": "2021-12-08T13:53:11.487Z"
   },
   {
    "duration": 175,
    "start_time": "2021-12-08T13:57:27.440Z"
   },
   {
    "duration": 17,
    "start_time": "2021-12-08T13:57:36.716Z"
   },
   {
    "duration": 13,
    "start_time": "2021-12-08T13:59:01.543Z"
   },
   {
    "duration": 21,
    "start_time": "2021-12-08T14:01:16.783Z"
   },
   {
    "duration": 1032,
    "start_time": "2021-12-08T14:04:29.773Z"
   },
   {
    "duration": 12,
    "start_time": "2021-12-08T14:04:30.808Z"
   },
   {
    "duration": 37,
    "start_time": "2021-12-08T14:04:30.823Z"
   },
   {
    "duration": 23,
    "start_time": "2021-12-08T14:04:30.864Z"
   },
   {
    "duration": 11,
    "start_time": "2021-12-08T14:04:30.889Z"
   },
   {
    "duration": 8,
    "start_time": "2021-12-08T14:04:30.903Z"
   },
   {
    "duration": 20,
    "start_time": "2021-12-08T14:04:30.914Z"
   },
   {
    "duration": 9,
    "start_time": "2021-12-08T14:04:30.961Z"
   },
   {
    "duration": 14,
    "start_time": "2021-12-08T14:04:30.974Z"
   },
   {
    "duration": 20,
    "start_time": "2021-12-08T14:04:30.991Z"
   },
   {
    "duration": 48,
    "start_time": "2021-12-08T14:04:31.015Z"
   },
   {
    "duration": 13,
    "start_time": "2021-12-08T14:04:31.066Z"
   },
   {
    "duration": 17,
    "start_time": "2021-12-08T14:04:31.082Z"
   },
   {
    "duration": 7,
    "start_time": "2021-12-08T14:04:31.102Z"
   },
   {
    "duration": 53,
    "start_time": "2021-12-08T14:04:31.112Z"
   },
   {
    "duration": 11,
    "start_time": "2021-12-08T14:04:31.169Z"
   },
   {
    "duration": 35,
    "start_time": "2021-12-08T14:04:31.183Z"
   },
   {
    "duration": 43,
    "start_time": "2021-12-08T14:04:31.221Z"
   },
   {
    "duration": 10,
    "start_time": "2021-12-08T14:04:31.266Z"
   },
   {
    "duration": 19,
    "start_time": "2021-12-08T14:04:31.279Z"
   },
   {
    "duration": 13,
    "start_time": "2021-12-08T14:04:31.301Z"
   },
   {
    "duration": 46,
    "start_time": "2021-12-08T14:04:31.317Z"
   },
   {
    "duration": 25,
    "start_time": "2021-12-08T14:04:31.366Z"
   },
   {
    "duration": 25,
    "start_time": "2021-12-08T14:04:31.394Z"
   },
   {
    "duration": 83,
    "start_time": "2021-12-08T14:04:31.421Z"
   },
   {
    "duration": 15,
    "start_time": "2021-12-08T14:04:31.506Z"
   },
   {
    "duration": 17,
    "start_time": "2021-12-08T14:04:31.559Z"
   },
   {
    "duration": 18,
    "start_time": "2021-12-08T14:04:31.579Z"
   },
   {
    "duration": 7,
    "start_time": "2021-12-08T14:04:31.600Z"
   },
   {
    "duration": 57,
    "start_time": "2021-12-08T14:04:31.610Z"
   },
   {
    "duration": 33,
    "start_time": "2021-12-08T14:04:31.670Z"
   },
   {
    "duration": 133,
    "start_time": "2021-12-08T14:04:31.707Z"
   },
   {
    "duration": 63,
    "start_time": "2021-12-08T14:04:31.843Z"
   },
   {
    "duration": 64,
    "start_time": "2021-12-08T14:04:31.908Z"
   },
   {
    "duration": 1109,
    "start_time": "2021-12-08T14:04:31.975Z"
   },
   {
    "duration": 7,
    "start_time": "2021-12-08T14:04:33.087Z"
   },
   {
    "duration": 4327,
    "start_time": "2021-12-08T14:04:33.096Z"
   },
   {
    "duration": 53,
    "start_time": "2021-12-08T14:04:37.426Z"
   },
   {
    "duration": 22,
    "start_time": "2021-12-08T14:04:37.481Z"
   },
   {
    "duration": 11,
    "start_time": "2021-12-08T14:04:37.506Z"
   },
   {
    "duration": 41,
    "start_time": "2021-12-08T14:04:37.520Z"
   },
   {
    "duration": 95,
    "start_time": "2021-12-08T14:04:37.564Z"
   },
   {
    "duration": 66,
    "start_time": "2021-12-08T14:04:37.662Z"
   },
   {
    "duration": 29,
    "start_time": "2021-12-08T14:04:37.731Z"
   },
   {
    "duration": 31,
    "start_time": "2021-12-08T14:04:37.763Z"
   },
   {
    "duration": 27,
    "start_time": "2021-12-08T14:04:37.797Z"
   },
   {
    "duration": 45,
    "start_time": "2021-12-08T14:04:37.827Z"
   },
   {
    "duration": 13,
    "start_time": "2021-12-08T14:04:37.875Z"
   },
   {
    "duration": 13,
    "start_time": "2021-12-08T14:04:37.891Z"
   },
   {
    "duration": 55,
    "start_time": "2021-12-08T14:04:37.906Z"
   },
   {
    "duration": 23,
    "start_time": "2021-12-08T14:04:37.963Z"
   },
   {
    "duration": 14,
    "start_time": "2021-12-08T14:04:37.988Z"
   },
   {
    "duration": 55,
    "start_time": "2021-12-08T14:04:38.004Z"
   },
   {
    "duration": 16,
    "start_time": "2021-12-08T14:04:38.062Z"
   },
   {
    "duration": 28,
    "start_time": "2021-12-08T14:04:38.081Z"
   },
   {
    "duration": 406,
    "start_time": "2021-12-23T12:19:50.907Z"
   },
   {
    "duration": 882,
    "start_time": "2021-12-23T12:20:14.905Z"
   },
   {
    "duration": 19,
    "start_time": "2021-12-23T12:20:21.815Z"
   },
   {
    "duration": 995,
    "start_time": "2021-12-23T12:20:32.359Z"
   }
  ],
  "kernelspec": {
   "display_name": "Python 3 (ipykernel)",
   "language": "python",
   "name": "python3"
  },
  "language_info": {
   "codemirror_mode": {
    "name": "ipython",
    "version": 3
   },
   "file_extension": ".py",
   "mimetype": "text/x-python",
   "name": "python",
   "nbconvert_exporter": "python",
   "pygments_lexer": "ipython3",
   "version": "3.9.6"
  },
  "toc": {
   "base_numbering": 1,
   "nav_menu": {},
   "number_sections": true,
   "sideBar": true,
   "skip_h1_title": true,
   "title_cell": "Содержание",
   "title_sidebar": "Contents",
   "toc_cell": true,
   "toc_position": {},
   "toc_section_display": true,
   "toc_window_display": true
  }
 },
 "nbformat": 4,
 "nbformat_minor": 2
}
